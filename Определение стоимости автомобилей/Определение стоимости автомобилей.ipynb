{
 "cells": [
  {
   "cell_type": "markdown",
   "metadata": {},
   "source": [
    "\n",
    "# Определение стоимости автомобилей"
   ]
  },
  {
   "cell_type": "markdown",
   "metadata": {
    "toc": true
   },
   "source": [
    "<h1>Содержание<span class=\"tocSkip\"></span></h1>\n",
    "<div class=\"toc\"><ul class=\"toc-item\"><li><span><a href=\"#Введение\" data-toc-modified-id=\"Введение-1\"><span class=\"toc-item-num\">1&nbsp;&nbsp;</span>Введение</a></span></li><li><span><a href=\"#Загрузка-и-подготовка-данных\" data-toc-modified-id=\"Загрузка-и-подготовка-данных-2\"><span class=\"toc-item-num\">2&nbsp;&nbsp;</span>Загрузка и подготовка данных</a></span><ul class=\"toc-item\"><li><span><a href=\"#Загрузка\" data-toc-modified-id=\"Загрузка-2.1\"><span class=\"toc-item-num\">2.1&nbsp;&nbsp;</span>Загрузка</a></span></li><li><span><a href=\"#Предобработка\" data-toc-modified-id=\"Предобработка-2.2\"><span class=\"toc-item-num\">2.2&nbsp;&nbsp;</span>Предобработка</a></span></li></ul></li><li><span><a href=\"#Обучение-моделей\" data-toc-modified-id=\"Обучение-моделей-3\"><span class=\"toc-item-num\">3&nbsp;&nbsp;</span>Обучение моделей</a></span><ul class=\"toc-item\"><li><span><a href=\"#Обучение-Dummy-модели\" data-toc-modified-id=\"Обучение-Dummy-модели-3.1\"><span class=\"toc-item-num\">3.1&nbsp;&nbsp;</span>Обучение Dummy-модели</a></span></li><li><span><a href=\"#Обучение-модели-линейной-регрессии\" data-toc-modified-id=\"Обучение-модели-линейной-регрессии-3.2\"><span class=\"toc-item-num\">3.2&nbsp;&nbsp;</span>Обучение модели линейной регрессии</a></span></li><li><span><a href=\"#Обучение-модели-случайного-леса\" data-toc-modified-id=\"Обучение-модели-случайного-леса-3.3\"><span class=\"toc-item-num\">3.3&nbsp;&nbsp;</span>Обучение модели случайного леса</a></span></li><li><span><a href=\"#Обучение-модели-CatBoost\" data-toc-modified-id=\"Обучение-модели-CatBoost-3.4\"><span class=\"toc-item-num\">3.4&nbsp;&nbsp;</span>Обучение модели CatBoost</a></span></li><li><span><a href=\"#Обучение-модели-LightGBM\" data-toc-modified-id=\"Обучение-модели-LightGBM-3.5\"><span class=\"toc-item-num\">3.5&nbsp;&nbsp;</span>Обучение модели LightGBM</a></span></li></ul></li><li><span><a href=\"#Анализ-моделей\" data-toc-modified-id=\"Анализ-моделей-4\"><span class=\"toc-item-num\">4&nbsp;&nbsp;</span>Анализ моделей</a></span></li><li><span><a href=\"#Итоги-исследования\" data-toc-modified-id=\"Итоги-исследования-5\"><span class=\"toc-item-num\">5&nbsp;&nbsp;</span>Итоги исследования</a></span></li></ul></div>"
   ]
  },
  {
   "cell_type": "markdown",
   "metadata": {},
   "source": [
    "## Введение"
   ]
  },
  {
   "cell_type": "markdown",
   "metadata": {},
   "source": [
    "Сервис по продаже автомобилей с пробегом «Не бит, не крашен» разрабатывает приложение для привлечения новых клиентов. В нём можно быстро узнать рыночную стоимость своего автомобиля. \n",
    "\n",
    "**Исходные данные:** технические характеристики, комплектации и цены автомобилей. \n",
    "\n",
    "**Описание данных:**\n",
    "\n",
    "Данные находятся в файле `/datasets/autos.csv`\n",
    "\n",
    "Признаки:\n",
    "\n",
    "* `DateCrawled` — дата скачивания анкеты из базы\n",
    "* `VehicleType` — тип автомобильного кузова\n",
    "* `RegistrationYear` — год регистрации автомобиля\n",
    "* `Gearbox` — тип коробки передач\n",
    "* `Power` — мощность (л. с.)\n",
    "* `Model` — модель автомобиля\n",
    "* `Kilometer` — пробег (км)\n",
    "* `RegistrationMonth` — месяц регистрации автомобиля\n",
    "* `FuelType` — тип топлива\n",
    "* `Brand` — марка автомобиля\n",
    "* `NotRepaired` — была машина в ремонте или нет\n",
    "* `DateCreated` — дата создания анкеты\n",
    "* `NumberOfPictures` — количество фотографий автомобиля\n",
    "* `PostalCode` — почтовый индекс владельца анкеты (пользователя)\n",
    "* `LastSeen` — дата последней активности пользователя\n",
    "* `Price` — цена (евро)\n",
    "\n",
    "\n",
    "\n",
    "**Цель** - построить модель машинного обучения для определения стоимости автомобиля с учетом требований заказчика (скорость, качество предсказаний, время обучения)\n",
    "\n",
    "**Задачи:**\n",
    "\n",
    "1.\tЗагрузите и подготовьте данные.\n",
    "2.\tОбучите разные модели. Для каждой попробуйте различные гиперпараметры.\n",
    "3.\tПроанализируйте скорость работы и качество моделей.\n",
    "4. Подвести итоги исследования.\n",
    "\n",
    "**Примечания:**\n",
    "\n",
    "* Для оценки качества моделей применяйте метрику RMSE.\n",
    "* Самостоятельно освойте библиотеку LightGBM и её средствами постройте модели градиентного бустинга.\n",
    "* Время выполнения ячейки кода Jupyter Notebook можно получить специальной командой. Найдите её.\n",
    "* Поскольку модель градиентного бустинга может обучаться долго, измените у неё только два-три параметра.\n",
    "* Если перестанет работать Jupyter Notebook, удалите лишние переменные оператором del:\n",
    " \n",
    "Заказчику важны:\n",
    "\n",
    "- качество предсказания;\n",
    "- скорость предсказания;\n",
    "- время обучения."
   ]
  },
  {
   "cell_type": "markdown",
   "metadata": {},
   "source": [
    "## Загрузка и подготовка данных"
   ]
  },
  {
   "cell_type": "markdown",
   "metadata": {},
   "source": [
    "### Загрузка"
   ]
  },
  {
   "cell_type": "code",
   "execution_count": 1,
   "metadata": {
    "scrolled": true
   },
   "outputs": [
    {
     "name": "stdout",
     "output_type": "stream",
     "text": [
      "Requirement already satisfied: lightgbm in c:\\users\\danil\\anaconda3\\lib\\site-packages (3.3.2)\n",
      "Requirement already satisfied: numpy in c:\\users\\danil\\anaconda3\\lib\\site-packages (from lightgbm) (1.20.3)\n",
      "Requirement already satisfied: scikit-learn!=0.22.0 in c:\\users\\danil\\anaconda3\\lib\\site-packages (from lightgbm) (0.24.2)\n",
      "Requirement already satisfied: wheel in c:\\users\\danil\\anaconda3\\lib\\site-packages (from lightgbm) (0.37.0)\n",
      "Requirement already satisfied: scipy in c:\\users\\danil\\anaconda3\\lib\\site-packages (from lightgbm) (1.7.1)\n",
      "Requirement already satisfied: joblib>=0.11 in c:\\users\\danil\\anaconda3\\lib\\site-packages (from scikit-learn!=0.22.0->lightgbm) (1.1.0)\n",
      "Requirement already satisfied: threadpoolctl>=2.0.0 in c:\\users\\danil\\anaconda3\\lib\\site-packages (from scikit-learn!=0.22.0->lightgbm) (2.2.0)\n",
      "Requirement already satisfied: catboost in c:\\users\\danil\\anaconda3\\lib\\site-packages (1.0.5)\n",
      "Requirement already satisfied: graphviz in c:\\users\\danil\\anaconda3\\lib\\site-packages (from catboost) (0.20)\n",
      "Requirement already satisfied: six in c:\\users\\danil\\anaconda3\\lib\\site-packages (from catboost) (1.16.0)\n",
      "Requirement already satisfied: pandas>=0.24.0 in c:\\users\\danil\\anaconda3\\lib\\site-packages (from catboost) (1.3.4)\n",
      "Requirement already satisfied: matplotlib in c:\\users\\danil\\anaconda3\\lib\\site-packages (from catboost) (3.4.3)\n",
      "Requirement already satisfied: plotly in c:\\users\\danil\\anaconda3\\lib\\site-packages (from catboost) (5.7.0)\n",
      "Requirement already satisfied: numpy>=1.16.0 in c:\\users\\danil\\anaconda3\\lib\\site-packages (from catboost) (1.20.3)\n",
      "Requirement already satisfied: scipy in c:\\users\\danil\\anaconda3\\lib\\site-packages (from catboost) (1.7.1)\n",
      "Requirement already satisfied: python-dateutil>=2.7.3 in c:\\users\\danil\\anaconda3\\lib\\site-packages (from pandas>=0.24.0->catboost) (2.8.2)\n",
      "Requirement already satisfied: pytz>=2017.3 in c:\\users\\danil\\anaconda3\\lib\\site-packages (from pandas>=0.24.0->catboost) (2021.3)\n",
      "Requirement already satisfied: pillow>=6.2.0 in c:\\users\\danil\\anaconda3\\lib\\site-packages (from matplotlib->catboost) (8.4.0)\n",
      "Requirement already satisfied: kiwisolver>=1.0.1 in c:\\users\\danil\\anaconda3\\lib\\site-packages (from matplotlib->catboost) (1.3.1)\n",
      "Requirement already satisfied: cycler>=0.10 in c:\\users\\danil\\anaconda3\\lib\\site-packages (from matplotlib->catboost) (0.10.0)\n",
      "Requirement already satisfied: pyparsing>=2.2.1 in c:\\users\\danil\\anaconda3\\lib\\site-packages (from matplotlib->catboost) (3.0.4)\n",
      "Requirement already satisfied: tenacity>=6.2.0 in c:\\users\\danil\\anaconda3\\lib\\site-packages (from plotly->catboost) (8.0.1)\n",
      "Requirement already satisfied: missingno in c:\\users\\danil\\anaconda3\\lib\\site-packages (0.5.1)\n",
      "Requirement already satisfied: numpy in c:\\users\\danil\\anaconda3\\lib\\site-packages (from missingno) (1.20.3)\n",
      "Requirement already satisfied: seaborn in c:\\users\\danil\\anaconda3\\lib\\site-packages (from missingno) (0.11.2)\n",
      "Requirement already satisfied: scipy in c:\\users\\danil\\anaconda3\\lib\\site-packages (from missingno) (1.7.1)\n",
      "Requirement already satisfied: matplotlib in c:\\users\\danil\\anaconda3\\lib\\site-packages (from missingno) (3.4.3)\n",
      "Requirement already satisfied: python-dateutil>=2.7 in c:\\users\\danil\\anaconda3\\lib\\site-packages (from matplotlib->missingno) (2.8.2)\n",
      "Requirement already satisfied: kiwisolver>=1.0.1 in c:\\users\\danil\\anaconda3\\lib\\site-packages (from matplotlib->missingno) (1.3.1)\n",
      "Requirement already satisfied: cycler>=0.10 in c:\\users\\danil\\anaconda3\\lib\\site-packages (from matplotlib->missingno) (0.10.0)\n",
      "Requirement already satisfied: pyparsing>=2.2.1 in c:\\users\\danil\\anaconda3\\lib\\site-packages (from matplotlib->missingno) (3.0.4)\n",
      "Requirement already satisfied: pillow>=6.2.0 in c:\\users\\danil\\anaconda3\\lib\\site-packages (from matplotlib->missingno) (8.4.0)\n",
      "Requirement already satisfied: six in c:\\users\\danil\\anaconda3\\lib\\site-packages (from cycler>=0.10->matplotlib->missingno) (1.16.0)\n",
      "Requirement already satisfied: pandas>=0.23 in c:\\users\\danil\\anaconda3\\lib\\site-packages (from seaborn->missingno) (1.3.4)\n",
      "Requirement already satisfied: pytz>=2017.3 in c:\\users\\danil\\anaconda3\\lib\\site-packages (from pandas>=0.23->seaborn->missingno) (2021.3)\n"
     ]
    }
   ],
   "source": [
    "# установим и импортируем необходимые бибилиотеки\n",
    "!pip install lightgbm\n",
    "!pip install catboost\n",
    "!pip install missingno\n",
    "\n",
    "from lightgbm import LGBMRegressor\n",
    "from catboost import CatBoostRegressor\n",
    "import missingno as msno\n",
    "import pandas as pd\n",
    "import matplotlib.pyplot as plt\n",
    "#import plotly.express as px\n",
    "import seaborn as sns\n",
    "import numpy as np\n",
    "from sklearn.preprocessing import OrdinalEncoder, StandardScaler\n",
    "from sklearn.model_selection import cross_validate, cross_val_score, train_test_split, GridSearchCV\n",
    "from sklearn.metrics import mean_squared_error\n",
    "from sklearn.linear_model import LinearRegression\n",
    "from sklearn.ensemble import RandomForestRegressor\n",
    "from sklearn.dummy import DummyRegressor"
   ]
  },
  {
   "cell_type": "code",
   "execution_count": 2,
   "metadata": {
    "scrolled": false
   },
   "outputs": [
    {
     "name": "stdout",
     "output_type": "stream",
     "text": [
      "<class 'pandas.core.frame.DataFrame'>\n",
      "RangeIndex: 354369 entries, 0 to 354368\n",
      "Data columns (total 16 columns):\n",
      " #   Column             Non-Null Count   Dtype \n",
      "---  ------             --------------   ----- \n",
      " 0   DateCrawled        354369 non-null  object\n",
      " 1   Price              354369 non-null  int64 \n",
      " 2   VehicleType        316879 non-null  object\n",
      " 3   RegistrationYear   354369 non-null  int64 \n",
      " 4   Gearbox            334536 non-null  object\n",
      " 5   Power              354369 non-null  int64 \n",
      " 6   Model              334664 non-null  object\n",
      " 7   Kilometer          354369 non-null  int64 \n",
      " 8   RegistrationMonth  354369 non-null  int64 \n",
      " 9   FuelType           321474 non-null  object\n",
      " 10  Brand              354369 non-null  object\n",
      " 11  NotRepaired        283215 non-null  object\n",
      " 12  DateCreated        354369 non-null  object\n",
      " 13  NumberOfPictures   354369 non-null  int64 \n",
      " 14  PostalCode         354369 non-null  int64 \n",
      " 15  LastSeen           354369 non-null  object\n",
      "dtypes: int64(7), object(9)\n",
      "memory usage: 43.3+ MB\n"
     ]
    },
    {
     "data": {
      "text/html": [
       "<div>\n",
       "<style scoped>\n",
       "    .dataframe tbody tr th:only-of-type {\n",
       "        vertical-align: middle;\n",
       "    }\n",
       "\n",
       "    .dataframe tbody tr th {\n",
       "        vertical-align: top;\n",
       "    }\n",
       "\n",
       "    .dataframe thead th {\n",
       "        text-align: right;\n",
       "    }\n",
       "</style>\n",
       "<table border=\"1\" class=\"dataframe\">\n",
       "  <thead>\n",
       "    <tr style=\"text-align: right;\">\n",
       "      <th></th>\n",
       "      <th>Price</th>\n",
       "      <th>RegistrationYear</th>\n",
       "      <th>Power</th>\n",
       "      <th>Kilometer</th>\n",
       "      <th>RegistrationMonth</th>\n",
       "      <th>NumberOfPictures</th>\n",
       "      <th>PostalCode</th>\n",
       "    </tr>\n",
       "  </thead>\n",
       "  <tbody>\n",
       "    <tr>\n",
       "      <th>count</th>\n",
       "      <td>354369.000000</td>\n",
       "      <td>354369.000000</td>\n",
       "      <td>354369.000000</td>\n",
       "      <td>354369.000000</td>\n",
       "      <td>354369.000000</td>\n",
       "      <td>354369.0</td>\n",
       "      <td>354369.000000</td>\n",
       "    </tr>\n",
       "    <tr>\n",
       "      <th>mean</th>\n",
       "      <td>4416.656776</td>\n",
       "      <td>2004.234448</td>\n",
       "      <td>110.094337</td>\n",
       "      <td>128211.172535</td>\n",
       "      <td>5.714645</td>\n",
       "      <td>0.0</td>\n",
       "      <td>50508.689087</td>\n",
       "    </tr>\n",
       "    <tr>\n",
       "      <th>std</th>\n",
       "      <td>4514.158514</td>\n",
       "      <td>90.227958</td>\n",
       "      <td>189.850405</td>\n",
       "      <td>37905.341530</td>\n",
       "      <td>3.726421</td>\n",
       "      <td>0.0</td>\n",
       "      <td>25783.096248</td>\n",
       "    </tr>\n",
       "    <tr>\n",
       "      <th>min</th>\n",
       "      <td>0.000000</td>\n",
       "      <td>1000.000000</td>\n",
       "      <td>0.000000</td>\n",
       "      <td>5000.000000</td>\n",
       "      <td>0.000000</td>\n",
       "      <td>0.0</td>\n",
       "      <td>1067.000000</td>\n",
       "    </tr>\n",
       "    <tr>\n",
       "      <th>25%</th>\n",
       "      <td>1050.000000</td>\n",
       "      <td>1999.000000</td>\n",
       "      <td>69.000000</td>\n",
       "      <td>125000.000000</td>\n",
       "      <td>3.000000</td>\n",
       "      <td>0.0</td>\n",
       "      <td>30165.000000</td>\n",
       "    </tr>\n",
       "    <tr>\n",
       "      <th>50%</th>\n",
       "      <td>2700.000000</td>\n",
       "      <td>2003.000000</td>\n",
       "      <td>105.000000</td>\n",
       "      <td>150000.000000</td>\n",
       "      <td>6.000000</td>\n",
       "      <td>0.0</td>\n",
       "      <td>49413.000000</td>\n",
       "    </tr>\n",
       "    <tr>\n",
       "      <th>75%</th>\n",
       "      <td>6400.000000</td>\n",
       "      <td>2008.000000</td>\n",
       "      <td>143.000000</td>\n",
       "      <td>150000.000000</td>\n",
       "      <td>9.000000</td>\n",
       "      <td>0.0</td>\n",
       "      <td>71083.000000</td>\n",
       "    </tr>\n",
       "    <tr>\n",
       "      <th>max</th>\n",
       "      <td>20000.000000</td>\n",
       "      <td>9999.000000</td>\n",
       "      <td>20000.000000</td>\n",
       "      <td>150000.000000</td>\n",
       "      <td>12.000000</td>\n",
       "      <td>0.0</td>\n",
       "      <td>99998.000000</td>\n",
       "    </tr>\n",
       "  </tbody>\n",
       "</table>\n",
       "</div>"
      ],
      "text/plain": [
       "               Price  RegistrationYear          Power      Kilometer  \\\n",
       "count  354369.000000     354369.000000  354369.000000  354369.000000   \n",
       "mean     4416.656776       2004.234448     110.094337  128211.172535   \n",
       "std      4514.158514         90.227958     189.850405   37905.341530   \n",
       "min         0.000000       1000.000000       0.000000    5000.000000   \n",
       "25%      1050.000000       1999.000000      69.000000  125000.000000   \n",
       "50%      2700.000000       2003.000000     105.000000  150000.000000   \n",
       "75%      6400.000000       2008.000000     143.000000  150000.000000   \n",
       "max     20000.000000       9999.000000   20000.000000  150000.000000   \n",
       "\n",
       "       RegistrationMonth  NumberOfPictures     PostalCode  \n",
       "count      354369.000000          354369.0  354369.000000  \n",
       "mean            5.714645               0.0   50508.689087  \n",
       "std             3.726421               0.0   25783.096248  \n",
       "min             0.000000               0.0    1067.000000  \n",
       "25%             3.000000               0.0   30165.000000  \n",
       "50%             6.000000               0.0   49413.000000  \n",
       "75%             9.000000               0.0   71083.000000  \n",
       "max            12.000000               0.0   99998.000000  "
      ]
     },
     "metadata": {},
     "output_type": "display_data"
    },
    {
     "data": {
      "text/html": [
       "<div>\n",
       "<style scoped>\n",
       "    .dataframe tbody tr th:only-of-type {\n",
       "        vertical-align: middle;\n",
       "    }\n",
       "\n",
       "    .dataframe tbody tr th {\n",
       "        vertical-align: top;\n",
       "    }\n",
       "\n",
       "    .dataframe thead th {\n",
       "        text-align: right;\n",
       "    }\n",
       "</style>\n",
       "<table border=\"1\" class=\"dataframe\">\n",
       "  <thead>\n",
       "    <tr style=\"text-align: right;\">\n",
       "      <th></th>\n",
       "      <th>DateCrawled</th>\n",
       "      <th>Price</th>\n",
       "      <th>VehicleType</th>\n",
       "      <th>RegistrationYear</th>\n",
       "      <th>Gearbox</th>\n",
       "      <th>Power</th>\n",
       "      <th>Model</th>\n",
       "      <th>Kilometer</th>\n",
       "      <th>RegistrationMonth</th>\n",
       "      <th>FuelType</th>\n",
       "      <th>Brand</th>\n",
       "      <th>NotRepaired</th>\n",
       "      <th>DateCreated</th>\n",
       "      <th>NumberOfPictures</th>\n",
       "      <th>PostalCode</th>\n",
       "      <th>LastSeen</th>\n",
       "    </tr>\n",
       "  </thead>\n",
       "  <tbody>\n",
       "    <tr>\n",
       "      <th>0</th>\n",
       "      <td>2016-03-24 11:52:17</td>\n",
       "      <td>480</td>\n",
       "      <td>NaN</td>\n",
       "      <td>1993</td>\n",
       "      <td>manual</td>\n",
       "      <td>0</td>\n",
       "      <td>golf</td>\n",
       "      <td>150000</td>\n",
       "      <td>0</td>\n",
       "      <td>petrol</td>\n",
       "      <td>volkswagen</td>\n",
       "      <td>NaN</td>\n",
       "      <td>2016-03-24 00:00:00</td>\n",
       "      <td>0</td>\n",
       "      <td>70435</td>\n",
       "      <td>2016-04-07 03:16:57</td>\n",
       "    </tr>\n",
       "    <tr>\n",
       "      <th>1</th>\n",
       "      <td>2016-03-24 10:58:45</td>\n",
       "      <td>18300</td>\n",
       "      <td>coupe</td>\n",
       "      <td>2011</td>\n",
       "      <td>manual</td>\n",
       "      <td>190</td>\n",
       "      <td>NaN</td>\n",
       "      <td>125000</td>\n",
       "      <td>5</td>\n",
       "      <td>gasoline</td>\n",
       "      <td>audi</td>\n",
       "      <td>yes</td>\n",
       "      <td>2016-03-24 00:00:00</td>\n",
       "      <td>0</td>\n",
       "      <td>66954</td>\n",
       "      <td>2016-04-07 01:46:50</td>\n",
       "    </tr>\n",
       "    <tr>\n",
       "      <th>2</th>\n",
       "      <td>2016-03-14 12:52:21</td>\n",
       "      <td>9800</td>\n",
       "      <td>suv</td>\n",
       "      <td>2004</td>\n",
       "      <td>auto</td>\n",
       "      <td>163</td>\n",
       "      <td>grand</td>\n",
       "      <td>125000</td>\n",
       "      <td>8</td>\n",
       "      <td>gasoline</td>\n",
       "      <td>jeep</td>\n",
       "      <td>NaN</td>\n",
       "      <td>2016-03-14 00:00:00</td>\n",
       "      <td>0</td>\n",
       "      <td>90480</td>\n",
       "      <td>2016-04-05 12:47:46</td>\n",
       "    </tr>\n",
       "    <tr>\n",
       "      <th>3</th>\n",
       "      <td>2016-03-17 16:54:04</td>\n",
       "      <td>1500</td>\n",
       "      <td>small</td>\n",
       "      <td>2001</td>\n",
       "      <td>manual</td>\n",
       "      <td>75</td>\n",
       "      <td>golf</td>\n",
       "      <td>150000</td>\n",
       "      <td>6</td>\n",
       "      <td>petrol</td>\n",
       "      <td>volkswagen</td>\n",
       "      <td>no</td>\n",
       "      <td>2016-03-17 00:00:00</td>\n",
       "      <td>0</td>\n",
       "      <td>91074</td>\n",
       "      <td>2016-03-17 17:40:17</td>\n",
       "    </tr>\n",
       "    <tr>\n",
       "      <th>4</th>\n",
       "      <td>2016-03-31 17:25:20</td>\n",
       "      <td>3600</td>\n",
       "      <td>small</td>\n",
       "      <td>2008</td>\n",
       "      <td>manual</td>\n",
       "      <td>69</td>\n",
       "      <td>fabia</td>\n",
       "      <td>90000</td>\n",
       "      <td>7</td>\n",
       "      <td>gasoline</td>\n",
       "      <td>skoda</td>\n",
       "      <td>no</td>\n",
       "      <td>2016-03-31 00:00:00</td>\n",
       "      <td>0</td>\n",
       "      <td>60437</td>\n",
       "      <td>2016-04-06 10:17:21</td>\n",
       "    </tr>\n",
       "    <tr>\n",
       "      <th>...</th>\n",
       "      <td>...</td>\n",
       "      <td>...</td>\n",
       "      <td>...</td>\n",
       "      <td>...</td>\n",
       "      <td>...</td>\n",
       "      <td>...</td>\n",
       "      <td>...</td>\n",
       "      <td>...</td>\n",
       "      <td>...</td>\n",
       "      <td>...</td>\n",
       "      <td>...</td>\n",
       "      <td>...</td>\n",
       "      <td>...</td>\n",
       "      <td>...</td>\n",
       "      <td>...</td>\n",
       "      <td>...</td>\n",
       "    </tr>\n",
       "    <tr>\n",
       "      <th>354364</th>\n",
       "      <td>2016-03-21 09:50:58</td>\n",
       "      <td>0</td>\n",
       "      <td>NaN</td>\n",
       "      <td>2005</td>\n",
       "      <td>manual</td>\n",
       "      <td>0</td>\n",
       "      <td>colt</td>\n",
       "      <td>150000</td>\n",
       "      <td>7</td>\n",
       "      <td>petrol</td>\n",
       "      <td>mitsubishi</td>\n",
       "      <td>yes</td>\n",
       "      <td>2016-03-21 00:00:00</td>\n",
       "      <td>0</td>\n",
       "      <td>2694</td>\n",
       "      <td>2016-03-21 10:42:49</td>\n",
       "    </tr>\n",
       "    <tr>\n",
       "      <th>354365</th>\n",
       "      <td>2016-03-14 17:48:27</td>\n",
       "      <td>2200</td>\n",
       "      <td>NaN</td>\n",
       "      <td>2005</td>\n",
       "      <td>NaN</td>\n",
       "      <td>0</td>\n",
       "      <td>NaN</td>\n",
       "      <td>20000</td>\n",
       "      <td>1</td>\n",
       "      <td>NaN</td>\n",
       "      <td>sonstige_autos</td>\n",
       "      <td>NaN</td>\n",
       "      <td>2016-03-14 00:00:00</td>\n",
       "      <td>0</td>\n",
       "      <td>39576</td>\n",
       "      <td>2016-04-06 00:46:52</td>\n",
       "    </tr>\n",
       "    <tr>\n",
       "      <th>354366</th>\n",
       "      <td>2016-03-05 19:56:21</td>\n",
       "      <td>1199</td>\n",
       "      <td>convertible</td>\n",
       "      <td>2000</td>\n",
       "      <td>auto</td>\n",
       "      <td>101</td>\n",
       "      <td>fortwo</td>\n",
       "      <td>125000</td>\n",
       "      <td>3</td>\n",
       "      <td>petrol</td>\n",
       "      <td>smart</td>\n",
       "      <td>no</td>\n",
       "      <td>2016-03-05 00:00:00</td>\n",
       "      <td>0</td>\n",
       "      <td>26135</td>\n",
       "      <td>2016-03-11 18:17:12</td>\n",
       "    </tr>\n",
       "    <tr>\n",
       "      <th>354367</th>\n",
       "      <td>2016-03-19 18:57:12</td>\n",
       "      <td>9200</td>\n",
       "      <td>bus</td>\n",
       "      <td>1996</td>\n",
       "      <td>manual</td>\n",
       "      <td>102</td>\n",
       "      <td>transporter</td>\n",
       "      <td>150000</td>\n",
       "      <td>3</td>\n",
       "      <td>gasoline</td>\n",
       "      <td>volkswagen</td>\n",
       "      <td>no</td>\n",
       "      <td>2016-03-19 00:00:00</td>\n",
       "      <td>0</td>\n",
       "      <td>87439</td>\n",
       "      <td>2016-04-07 07:15:26</td>\n",
       "    </tr>\n",
       "    <tr>\n",
       "      <th>354368</th>\n",
       "      <td>2016-03-20 19:41:08</td>\n",
       "      <td>3400</td>\n",
       "      <td>wagon</td>\n",
       "      <td>2002</td>\n",
       "      <td>manual</td>\n",
       "      <td>100</td>\n",
       "      <td>golf</td>\n",
       "      <td>150000</td>\n",
       "      <td>6</td>\n",
       "      <td>gasoline</td>\n",
       "      <td>volkswagen</td>\n",
       "      <td>NaN</td>\n",
       "      <td>2016-03-20 00:00:00</td>\n",
       "      <td>0</td>\n",
       "      <td>40764</td>\n",
       "      <td>2016-03-24 12:45:21</td>\n",
       "    </tr>\n",
       "  </tbody>\n",
       "</table>\n",
       "<p>354369 rows × 16 columns</p>\n",
       "</div>"
      ],
      "text/plain": [
       "                DateCrawled  Price  VehicleType  RegistrationYear Gearbox  \\\n",
       "0       2016-03-24 11:52:17    480          NaN              1993  manual   \n",
       "1       2016-03-24 10:58:45  18300        coupe              2011  manual   \n",
       "2       2016-03-14 12:52:21   9800          suv              2004    auto   \n",
       "3       2016-03-17 16:54:04   1500        small              2001  manual   \n",
       "4       2016-03-31 17:25:20   3600        small              2008  manual   \n",
       "...                     ...    ...          ...               ...     ...   \n",
       "354364  2016-03-21 09:50:58      0          NaN              2005  manual   \n",
       "354365  2016-03-14 17:48:27   2200          NaN              2005     NaN   \n",
       "354366  2016-03-05 19:56:21   1199  convertible              2000    auto   \n",
       "354367  2016-03-19 18:57:12   9200          bus              1996  manual   \n",
       "354368  2016-03-20 19:41:08   3400        wagon              2002  manual   \n",
       "\n",
       "        Power        Model  Kilometer  RegistrationMonth  FuelType  \\\n",
       "0           0         golf     150000                  0    petrol   \n",
       "1         190          NaN     125000                  5  gasoline   \n",
       "2         163        grand     125000                  8  gasoline   \n",
       "3          75         golf     150000                  6    petrol   \n",
       "4          69        fabia      90000                  7  gasoline   \n",
       "...       ...          ...        ...                ...       ...   \n",
       "354364      0         colt     150000                  7    petrol   \n",
       "354365      0          NaN      20000                  1       NaN   \n",
       "354366    101       fortwo     125000                  3    petrol   \n",
       "354367    102  transporter     150000                  3  gasoline   \n",
       "354368    100         golf     150000                  6  gasoline   \n",
       "\n",
       "                 Brand NotRepaired          DateCreated  NumberOfPictures  \\\n",
       "0           volkswagen         NaN  2016-03-24 00:00:00                 0   \n",
       "1                 audi         yes  2016-03-24 00:00:00                 0   \n",
       "2                 jeep         NaN  2016-03-14 00:00:00                 0   \n",
       "3           volkswagen          no  2016-03-17 00:00:00                 0   \n",
       "4                skoda          no  2016-03-31 00:00:00                 0   \n",
       "...                ...         ...                  ...               ...   \n",
       "354364      mitsubishi         yes  2016-03-21 00:00:00                 0   \n",
       "354365  sonstige_autos         NaN  2016-03-14 00:00:00                 0   \n",
       "354366           smart          no  2016-03-05 00:00:00                 0   \n",
       "354367      volkswagen          no  2016-03-19 00:00:00                 0   \n",
       "354368      volkswagen         NaN  2016-03-20 00:00:00                 0   \n",
       "\n",
       "        PostalCode             LastSeen  \n",
       "0            70435  2016-04-07 03:16:57  \n",
       "1            66954  2016-04-07 01:46:50  \n",
       "2            90480  2016-04-05 12:47:46  \n",
       "3            91074  2016-03-17 17:40:17  \n",
       "4            60437  2016-04-06 10:17:21  \n",
       "...            ...                  ...  \n",
       "354364        2694  2016-03-21 10:42:49  \n",
       "354365       39576  2016-04-06 00:46:52  \n",
       "354366       26135  2016-03-11 18:17:12  \n",
       "354367       87439  2016-04-07 07:15:26  \n",
       "354368       40764  2016-03-24 12:45:21  \n",
       "\n",
       "[354369 rows x 16 columns]"
      ]
     },
     "metadata": {},
     "output_type": "display_data"
    }
   ],
   "source": [
    "# прочитаем данные из файла /datasets/autos.csv\n",
    "data = pd.read_csv('/datasets/autos.csv') # \n",
    "\n",
    "df = data.copy()\n",
    "# выведем основную информацию на экран\n",
    "df.info()\n",
    "display(df.describe())\n",
    "display(df)"
   ]
  },
  {
   "cell_type": "code",
   "execution_count": 3,
   "metadata": {},
   "outputs": [
    {
     "data": {
      "image/png": "[encoded data removed]",
      "text/plain": [
       "<Figure size 1800x720 with 2 Axes>"
      ]
     },
     "metadata": {
      "needs_background": "light"
     },
     "output_type": "display_data"
    }
   ],
   "source": [
    "# визуализируем пропущенные значения с помощью инструментов библиотеки missingno\n",
    "msno.matrix(df)\n",
    "plt.title('Матрица пропущенных значений в столбцах датафрейма', size=25)\n",
    "plt.show()"
   ]
  },
  {
   "cell_type": "code",
   "execution_count": 4,
   "metadata": {
    "scrolled": false
   },
   "outputs": [
    {
     "data": {
      "image/png": "[encoded data removed]",
      "text/plain": [
       "<Figure size 1800x720 with 3 Axes>"
      ]
     },
     "metadata": {
      "needs_background": "light"
     },
     "output_type": "display_data"
    }
   ],
   "source": [
    "msno.bar(df)\n",
    "plt.title('Гистограмма пропущенных значений в столбцах датафрейма', size=25)\n",
    "plt.show()"
   ]
  },
  {
   "cell_type": "code",
   "execution_count": 5,
   "metadata": {},
   "outputs": [
    {
     "data": {
      "image/png": "[encoded data removed]",
      "text/plain": [
       "<Figure size 1440x864 with 2 Axes>"
      ]
     },
     "metadata": {
      "needs_background": "light"
     },
     "output_type": "display_data"
    }
   ],
   "source": [
    "msno.heatmap(df)\n",
    "plt.title('Тепловая карта корреляций отсутствующих значений', size=25)\n",
    "plt.show()"
   ]
  },
  {
   "cell_type": "markdown",
   "metadata": {},
   "source": [
    "**Промежуточный итог:**\n",
    "* приведем регистр заголовков к \"змеиному\"\n",
    "* столбцы с датами (DateCrawled, DateCreated, LastSeen) не помогут в построении модели. Предлагаем удалить их;\n",
    "* столбец `numberofpictures` пустой. Удалим;\n",
    "* в данных есть пропуски, работать с ними будем в следующем порядке:\n",
    "    \n",
    "    1) пропуски в `notrepaired` логично заменить на `yes`, т.к. при отсутствии значений машина не ремонтировалась;\n",
    "    \n",
    "    2) пропуски в `model` заменим на `other`, т.к. восстановисть достоверно нельзя;\n",
    "    \n",
    "    3) пропуски в `vehicletype` заменим по наиболее часто попадающимся параметрам 'vehicletype' для каждой модели машины;\n",
    "    \n",
    "    4) тепловая карта корреляций отсутствующих значений показала небольшую связь параметров `gearbox` и `fueltype` с `vehicletype` (0.3 и 0.4 соответственно). Предлагаем заменить пропуски в столбцах `gearbox` и `fueltype` наиболее часто встречающимися параметрами для каждого `vehicletype`\n",
    "    \n",
    " \n",
    "* столбец с данными `RegistrationYear` имеет минимальный и максимальный год 1000 и 9999 соответственно, а `Power` (мощность (л. с.)) - 20000 л. с., что не может быть. Необходимо более детально изучить данные в столбцах, при необходимости исключить строки с некорректными даннными. Для этого построим диаграмму размаха и удалим выбросы при необходимости;\n",
    "* проведем анализ категориальных переменных и преобразуем их методом Ordinal encoding."
   ]
  },
  {
   "cell_type": "markdown",
   "metadata": {},
   "source": [
    "### Предобработка"
   ]
  },
  {
   "cell_type": "markdown",
   "metadata": {},
   "source": [
    "* приведем регистр заголовков к \"змеиному\""
   ]
  },
  {
   "cell_type": "code",
   "execution_count": 6,
   "metadata": {},
   "outputs": [
    {
     "data": {
      "text/plain": [
       "Index(['datecrawled', 'price', 'vehicletype', 'registrationyear', 'gearbox',\n",
       "       'power', 'model', 'kilometer', 'registrationmonth', 'fueltype', 'brand',\n",
       "       'notrepaired', 'datecreated', 'numberofpictures', 'postalcode',\n",
       "       'lastseen'],\n",
       "      dtype='object')"
      ]
     },
     "execution_count": 6,
     "metadata": {},
     "output_type": "execute_result"
    }
   ],
   "source": [
    "df.columns = df.columns.str.lower()\n",
    "df.columns"
   ]
  },
  {
   "cell_type": "markdown",
   "metadata": {},
   "source": [
    "* удалим столбцы 'numberofpictures', 'datecrawled', 'datecreated', 'lastseen'"
   ]
  },
  {
   "cell_type": "code",
   "execution_count": 7,
   "metadata": {},
   "outputs": [],
   "source": [
    "df.drop(labels=['numberofpictures', 'datecrawled', 'datecreated', 'lastseen'], axis=1, inplace=True)"
   ]
  },
  {
   "cell_type": "markdown",
   "metadata": {},
   "source": [
    "* работа с пропусками"
   ]
  },
  {
   "cell_type": "code",
   "execution_count": 8,
   "metadata": {},
   "outputs": [],
   "source": [
    "# 1) пропуски в notrepaired логично заменить на yes, т.к. при отсутствии значений машина не ремонтировалась;\n",
    "df['notrepaired'].fillna('yes', inplace=True)\n",
    "\n",
    "# 2) пропуски в model заменим на other, т.к. восстановисть достоверно нельзя;\n",
    "df['model'].fillna('other', inplace=True)"
   ]
  },
  {
   "cell_type": "code",
   "execution_count": 9,
   "metadata": {},
   "outputs": [
    {
     "data": {
      "text/html": [
       "<div>\n",
       "<style scoped>\n",
       "    .dataframe tbody tr th:only-of-type {\n",
       "        vertical-align: middle;\n",
       "    }\n",
       "\n",
       "    .dataframe tbody tr th {\n",
       "        vertical-align: top;\n",
       "    }\n",
       "\n",
       "    .dataframe thead th {\n",
       "        text-align: right;\n",
       "    }\n",
       "</style>\n",
       "<table border=\"1\" class=\"dataframe\">\n",
       "  <thead>\n",
       "    <tr style=\"text-align: right;\">\n",
       "      <th></th>\n",
       "      <th>model</th>\n",
       "      <th>vehicletype</th>\n",
       "    </tr>\n",
       "  </thead>\n",
       "  <tbody>\n",
       "    <tr>\n",
       "      <th>0</th>\n",
       "      <td>golf</td>\n",
       "      <td>sedan</td>\n",
       "    </tr>\n",
       "    <tr>\n",
       "      <th>1</th>\n",
       "      <td>corsa</td>\n",
       "      <td>small</td>\n",
       "    </tr>\n",
       "    <tr>\n",
       "      <th>2</th>\n",
       "      <td>polo</td>\n",
       "      <td>small</td>\n",
       "    </tr>\n",
       "    <tr>\n",
       "      <th>3</th>\n",
       "      <td>other</td>\n",
       "      <td>sedan</td>\n",
       "    </tr>\n",
       "    <tr>\n",
       "      <th>4</th>\n",
       "      <td>3er</td>\n",
       "      <td>sedan</td>\n",
       "    </tr>\n",
       "    <tr>\n",
       "      <th>...</th>\n",
       "      <td>...</td>\n",
       "      <td>...</td>\n",
       "    </tr>\n",
       "    <tr>\n",
       "      <th>768</th>\n",
       "      <td>serie_3</td>\n",
       "      <td>suv</td>\n",
       "    </tr>\n",
       "    <tr>\n",
       "      <th>816</th>\n",
       "      <td>kalina</td>\n",
       "      <td>sedan</td>\n",
       "    </tr>\n",
       "    <tr>\n",
       "      <th>820</th>\n",
       "      <td>range_rover_evoque</td>\n",
       "      <td>suv</td>\n",
       "    </tr>\n",
       "    <tr>\n",
       "      <th>1064</th>\n",
       "      <td>rangerover</td>\n",
       "      <td>suv</td>\n",
       "    </tr>\n",
       "    <tr>\n",
       "      <th>1086</th>\n",
       "      <td>serie_1</td>\n",
       "      <td>wagon</td>\n",
       "    </tr>\n",
       "  </tbody>\n",
       "</table>\n",
       "<p>250 rows × 2 columns</p>\n",
       "</div>"
      ],
      "text/plain": [
       "                   model vehicletype\n",
       "0                   golf       sedan\n",
       "1                  corsa       small\n",
       "2                   polo       small\n",
       "3                  other       sedan\n",
       "4                    3er       sedan\n",
       "...                  ...         ...\n",
       "768              serie_3         suv\n",
       "816               kalina       sedan\n",
       "820   range_rover_evoque         suv\n",
       "1064          rangerover         suv\n",
       "1086             serie_1       wagon\n",
       "\n",
       "[250 rows x 2 columns]"
      ]
     },
     "execution_count": 9,
     "metadata": {},
     "output_type": "execute_result"
    }
   ],
   "source": [
    "# 3) пропуски в vehicletype заменим по наиболее часто попадающимся параметрам 'vehicletype' для каждой модели машины;\n",
    "\n",
    "# для этого подготовим таблицу, в которую запишем наиболее часто попадающиеся 'vehicletype' для каждой 'model'\n",
    "top_vehicletype = (df[['model', 'vehicletype']]\n",
    "                   .value_counts()\n",
    "                  .reset_index()\n",
    "                  .drop_duplicates(subset='model'))\n",
    "top_vehicletype.drop(0, axis=1, inplace=True)       # удалим ненужный столбец\n",
    "top_vehicletype                                     # выведем на экран"
   ]
  },
  {
   "cell_type": "code",
   "execution_count": 10,
   "metadata": {},
   "outputs": [],
   "source": [
    "# заполним пропуски в столбце 'vehicletype' данными из таблицы top_vehicletype\n",
    "df.loc[df['vehicletype'].isna(), 'vehicletype'] =  \\\n",
    "    df.loc[df['vehicletype'].isna(), 'model'].map(top_vehicletype.groupby('model')['vehicletype'].first())"
   ]
  },
  {
   "cell_type": "code",
   "execution_count": 11,
   "metadata": {
    "scrolled": true
   },
   "outputs": [
    {
     "data": {
      "text/html": [
       "<div>\n",
       "<style scoped>\n",
       "    .dataframe tbody tr th:only-of-type {\n",
       "        vertical-align: middle;\n",
       "    }\n",
       "\n",
       "    .dataframe tbody tr th {\n",
       "        vertical-align: top;\n",
       "    }\n",
       "\n",
       "    .dataframe thead th {\n",
       "        text-align: right;\n",
       "    }\n",
       "</style>\n",
       "<table border=\"1\" class=\"dataframe\">\n",
       "  <thead>\n",
       "    <tr style=\"text-align: right;\">\n",
       "      <th></th>\n",
       "      <th>vehicletype</th>\n",
       "      <th>gearbox</th>\n",
       "    </tr>\n",
       "  </thead>\n",
       "  <tbody>\n",
       "    <tr>\n",
       "      <th>0</th>\n",
       "      <td>sedan</td>\n",
       "      <td>manual</td>\n",
       "    </tr>\n",
       "    <tr>\n",
       "      <th>1</th>\n",
       "      <td>small</td>\n",
       "      <td>manual</td>\n",
       "    </tr>\n",
       "    <tr>\n",
       "      <th>2</th>\n",
       "      <td>wagon</td>\n",
       "      <td>manual</td>\n",
       "    </tr>\n",
       "    <tr>\n",
       "      <th>3</th>\n",
       "      <td>bus</td>\n",
       "      <td>manual</td>\n",
       "    </tr>\n",
       "    <tr>\n",
       "      <th>4</th>\n",
       "      <td>sedan</td>\n",
       "      <td>auto</td>\n",
       "    </tr>\n",
       "    <tr>\n",
       "      <th>5</th>\n",
       "      <td>wagon</td>\n",
       "      <td>auto</td>\n",
       "    </tr>\n",
       "    <tr>\n",
       "      <th>6</th>\n",
       "      <td>convertible</td>\n",
       "      <td>manual</td>\n",
       "    </tr>\n",
       "    <tr>\n",
       "      <th>7</th>\n",
       "      <td>coupe</td>\n",
       "      <td>manual</td>\n",
       "    </tr>\n",
       "    <tr>\n",
       "      <th>8</th>\n",
       "      <td>suv</td>\n",
       "      <td>manual</td>\n",
       "    </tr>\n",
       "    <tr>\n",
       "      <th>9</th>\n",
       "      <td>small</td>\n",
       "      <td>auto</td>\n",
       "    </tr>\n",
       "    <tr>\n",
       "      <th>10</th>\n",
       "      <td>suv</td>\n",
       "      <td>auto</td>\n",
       "    </tr>\n",
       "    <tr>\n",
       "      <th>11</th>\n",
       "      <td>bus</td>\n",
       "      <td>auto</td>\n",
       "    </tr>\n",
       "    <tr>\n",
       "      <th>12</th>\n",
       "      <td>coupe</td>\n",
       "      <td>auto</td>\n",
       "    </tr>\n",
       "    <tr>\n",
       "      <th>13</th>\n",
       "      <td>convertible</td>\n",
       "      <td>auto</td>\n",
       "    </tr>\n",
       "    <tr>\n",
       "      <th>14</th>\n",
       "      <td>other</td>\n",
       "      <td>manual</td>\n",
       "    </tr>\n",
       "    <tr>\n",
       "      <th>15</th>\n",
       "      <td>other</td>\n",
       "      <td>auto</td>\n",
       "    </tr>\n",
       "  </tbody>\n",
       "</table>\n",
       "</div>"
      ],
      "text/plain": [
       "    vehicletype gearbox\n",
       "0         sedan  manual\n",
       "1         small  manual\n",
       "2         wagon  manual\n",
       "3           bus  manual\n",
       "4         sedan    auto\n",
       "5         wagon    auto\n",
       "6   convertible  manual\n",
       "7         coupe  manual\n",
       "8           suv  manual\n",
       "9         small    auto\n",
       "10          suv    auto\n",
       "11          bus    auto\n",
       "12        coupe    auto\n",
       "13  convertible    auto\n",
       "14        other  manual\n",
       "15        other    auto"
      ]
     },
     "metadata": {},
     "output_type": "display_data"
    },
    {
     "data": {
      "text/html": [
       "<div>\n",
       "<style scoped>\n",
       "    .dataframe tbody tr th:only-of-type {\n",
       "        vertical-align: middle;\n",
       "    }\n",
       "\n",
       "    .dataframe tbody tr th {\n",
       "        vertical-align: top;\n",
       "    }\n",
       "\n",
       "    .dataframe thead th {\n",
       "        text-align: right;\n",
       "    }\n",
       "</style>\n",
       "<table border=\"1\" class=\"dataframe\">\n",
       "  <thead>\n",
       "    <tr style=\"text-align: right;\">\n",
       "      <th></th>\n",
       "      <th>vehicletype</th>\n",
       "      <th>fueltype</th>\n",
       "    </tr>\n",
       "  </thead>\n",
       "  <tbody>\n",
       "    <tr>\n",
       "      <th>0</th>\n",
       "      <td>small</td>\n",
       "      <td>petrol</td>\n",
       "    </tr>\n",
       "    <tr>\n",
       "      <th>1</th>\n",
       "      <td>sedan</td>\n",
       "      <td>petrol</td>\n",
       "    </tr>\n",
       "    <tr>\n",
       "      <th>2</th>\n",
       "      <td>wagon</td>\n",
       "      <td>gasoline</td>\n",
       "    </tr>\n",
       "    <tr>\n",
       "      <th>3</th>\n",
       "      <td>wagon</td>\n",
       "      <td>petrol</td>\n",
       "    </tr>\n",
       "    <tr>\n",
       "      <th>4</th>\n",
       "      <td>sedan</td>\n",
       "      <td>gasoline</td>\n",
       "    </tr>\n",
       "    <tr>\n",
       "      <th>5</th>\n",
       "      <td>bus</td>\n",
       "      <td>gasoline</td>\n",
       "    </tr>\n",
       "    <tr>\n",
       "      <th>6</th>\n",
       "      <td>convertible</td>\n",
       "      <td>petrol</td>\n",
       "    </tr>\n",
       "    <tr>\n",
       "      <th>7</th>\n",
       "      <td>coupe</td>\n",
       "      <td>petrol</td>\n",
       "    </tr>\n",
       "    <tr>\n",
       "      <th>8</th>\n",
       "      <td>bus</td>\n",
       "      <td>petrol</td>\n",
       "    </tr>\n",
       "    <tr>\n",
       "      <th>9</th>\n",
       "      <td>small</td>\n",
       "      <td>gasoline</td>\n",
       "    </tr>\n",
       "    <tr>\n",
       "      <th>10</th>\n",
       "      <td>suv</td>\n",
       "      <td>gasoline</td>\n",
       "    </tr>\n",
       "    <tr>\n",
       "      <th>11</th>\n",
       "      <td>suv</td>\n",
       "      <td>petrol</td>\n",
       "    </tr>\n",
       "    <tr>\n",
       "      <th>12</th>\n",
       "      <td>coupe</td>\n",
       "      <td>gasoline</td>\n",
       "    </tr>\n",
       "    <tr>\n",
       "      <th>13</th>\n",
       "      <td>sedan</td>\n",
       "      <td>lpg</td>\n",
       "    </tr>\n",
       "    <tr>\n",
       "      <th>14</th>\n",
       "      <td>convertible</td>\n",
       "      <td>gasoline</td>\n",
       "    </tr>\n",
       "    <tr>\n",
       "      <th>15</th>\n",
       "      <td>other</td>\n",
       "      <td>gasoline</td>\n",
       "    </tr>\n",
       "    <tr>\n",
       "      <th>16</th>\n",
       "      <td>other</td>\n",
       "      <td>petrol</td>\n",
       "    </tr>\n",
       "    <tr>\n",
       "      <th>17</th>\n",
       "      <td>wagon</td>\n",
       "      <td>lpg</td>\n",
       "    </tr>\n",
       "    <tr>\n",
       "      <th>18</th>\n",
       "      <td>suv</td>\n",
       "      <td>lpg</td>\n",
       "    </tr>\n",
       "    <tr>\n",
       "      <th>19</th>\n",
       "      <td>bus</td>\n",
       "      <td>lpg</td>\n",
       "    </tr>\n",
       "    <tr>\n",
       "      <th>20</th>\n",
       "      <td>small</td>\n",
       "      <td>lpg</td>\n",
       "    </tr>\n",
       "    <tr>\n",
       "      <th>21</th>\n",
       "      <td>coupe</td>\n",
       "      <td>lpg</td>\n",
       "    </tr>\n",
       "    <tr>\n",
       "      <th>22</th>\n",
       "      <td>bus</td>\n",
       "      <td>cng</td>\n",
       "    </tr>\n",
       "    <tr>\n",
       "      <th>23</th>\n",
       "      <td>convertible</td>\n",
       "      <td>lpg</td>\n",
       "    </tr>\n",
       "    <tr>\n",
       "      <th>24</th>\n",
       "      <td>wagon</td>\n",
       "      <td>cng</td>\n",
       "    </tr>\n",
       "    <tr>\n",
       "      <th>25</th>\n",
       "      <td>sedan</td>\n",
       "      <td>hybrid</td>\n",
       "    </tr>\n",
       "    <tr>\n",
       "      <th>26</th>\n",
       "      <td>small</td>\n",
       "      <td>cng</td>\n",
       "    </tr>\n",
       "    <tr>\n",
       "      <th>27</th>\n",
       "      <td>sedan</td>\n",
       "      <td>other</td>\n",
       "    </tr>\n",
       "    <tr>\n",
       "      <th>28</th>\n",
       "      <td>sedan</td>\n",
       "      <td>cng</td>\n",
       "    </tr>\n",
       "    <tr>\n",
       "      <th>29</th>\n",
       "      <td>small</td>\n",
       "      <td>electric</td>\n",
       "    </tr>\n",
       "    <tr>\n",
       "      <th>30</th>\n",
       "      <td>other</td>\n",
       "      <td>other</td>\n",
       "    </tr>\n",
       "    <tr>\n",
       "      <th>31</th>\n",
       "      <td>small</td>\n",
       "      <td>hybrid</td>\n",
       "    </tr>\n",
       "    <tr>\n",
       "      <th>32</th>\n",
       "      <td>small</td>\n",
       "      <td>other</td>\n",
       "    </tr>\n",
       "    <tr>\n",
       "      <th>33</th>\n",
       "      <td>other</td>\n",
       "      <td>lpg</td>\n",
       "    </tr>\n",
       "    <tr>\n",
       "      <th>34</th>\n",
       "      <td>wagon</td>\n",
       "      <td>other</td>\n",
       "    </tr>\n",
       "    <tr>\n",
       "      <th>35</th>\n",
       "      <td>wagon</td>\n",
       "      <td>hybrid</td>\n",
       "    </tr>\n",
       "    <tr>\n",
       "      <th>36</th>\n",
       "      <td>coupe</td>\n",
       "      <td>hybrid</td>\n",
       "    </tr>\n",
       "    <tr>\n",
       "      <th>37</th>\n",
       "      <td>other</td>\n",
       "      <td>cng</td>\n",
       "    </tr>\n",
       "    <tr>\n",
       "      <th>38</th>\n",
       "      <td>other</td>\n",
       "      <td>electric</td>\n",
       "    </tr>\n",
       "    <tr>\n",
       "      <th>39</th>\n",
       "      <td>suv</td>\n",
       "      <td>hybrid</td>\n",
       "    </tr>\n",
       "    <tr>\n",
       "      <th>40</th>\n",
       "      <td>bus</td>\n",
       "      <td>other</td>\n",
       "    </tr>\n",
       "    <tr>\n",
       "      <th>41</th>\n",
       "      <td>sedan</td>\n",
       "      <td>electric</td>\n",
       "    </tr>\n",
       "    <tr>\n",
       "      <th>42</th>\n",
       "      <td>suv</td>\n",
       "      <td>other</td>\n",
       "    </tr>\n",
       "    <tr>\n",
       "      <th>43</th>\n",
       "      <td>convertible</td>\n",
       "      <td>electric</td>\n",
       "    </tr>\n",
       "    <tr>\n",
       "      <th>44</th>\n",
       "      <td>coupe</td>\n",
       "      <td>electric</td>\n",
       "    </tr>\n",
       "    <tr>\n",
       "      <th>45</th>\n",
       "      <td>convertible</td>\n",
       "      <td>other</td>\n",
       "    </tr>\n",
       "    <tr>\n",
       "      <th>46</th>\n",
       "      <td>bus</td>\n",
       "      <td>hybrid</td>\n",
       "    </tr>\n",
       "    <tr>\n",
       "      <th>47</th>\n",
       "      <td>wagon</td>\n",
       "      <td>electric</td>\n",
       "    </tr>\n",
       "    <tr>\n",
       "      <th>48</th>\n",
       "      <td>suv</td>\n",
       "      <td>cng</td>\n",
       "    </tr>\n",
       "    <tr>\n",
       "      <th>49</th>\n",
       "      <td>coupe</td>\n",
       "      <td>cng</td>\n",
       "    </tr>\n",
       "    <tr>\n",
       "      <th>50</th>\n",
       "      <td>convertible</td>\n",
       "      <td>cng</td>\n",
       "    </tr>\n",
       "    <tr>\n",
       "      <th>51</th>\n",
       "      <td>coupe</td>\n",
       "      <td>other</td>\n",
       "    </tr>\n",
       "    <tr>\n",
       "      <th>52</th>\n",
       "      <td>bus</td>\n",
       "      <td>electric</td>\n",
       "    </tr>\n",
       "    <tr>\n",
       "      <th>53</th>\n",
       "      <td>other</td>\n",
       "      <td>hybrid</td>\n",
       "    </tr>\n",
       "  </tbody>\n",
       "</table>\n",
       "</div>"
      ],
      "text/plain": [
       "    vehicletype  fueltype\n",
       "0         small    petrol\n",
       "1         sedan    petrol\n",
       "2         wagon  gasoline\n",
       "3         wagon    petrol\n",
       "4         sedan  gasoline\n",
       "5           bus  gasoline\n",
       "6   convertible    petrol\n",
       "7         coupe    petrol\n",
       "8           bus    petrol\n",
       "9         small  gasoline\n",
       "10          suv  gasoline\n",
       "11          suv    petrol\n",
       "12        coupe  gasoline\n",
       "13        sedan       lpg\n",
       "14  convertible  gasoline\n",
       "15        other  gasoline\n",
       "16        other    petrol\n",
       "17        wagon       lpg\n",
       "18          suv       lpg\n",
       "19          bus       lpg\n",
       "20        small       lpg\n",
       "21        coupe       lpg\n",
       "22          bus       cng\n",
       "23  convertible       lpg\n",
       "24        wagon       cng\n",
       "25        sedan    hybrid\n",
       "26        small       cng\n",
       "27        sedan     other\n",
       "28        sedan       cng\n",
       "29        small  electric\n",
       "30        other     other\n",
       "31        small    hybrid\n",
       "32        small     other\n",
       "33        other       lpg\n",
       "34        wagon     other\n",
       "35        wagon    hybrid\n",
       "36        coupe    hybrid\n",
       "37        other       cng\n",
       "38        other  electric\n",
       "39          suv    hybrid\n",
       "40          bus     other\n",
       "41        sedan  electric\n",
       "42          suv     other\n",
       "43  convertible  electric\n",
       "44        coupe  electric\n",
       "45  convertible     other\n",
       "46          bus    hybrid\n",
       "47        wagon  electric\n",
       "48          suv       cng\n",
       "49        coupe       cng\n",
       "50  convertible       cng\n",
       "51        coupe     other\n",
       "52          bus  electric\n",
       "53        other    hybrid"
      ]
     },
     "metadata": {},
     "output_type": "display_data"
    }
   ],
   "source": [
    "# 4) заменим пропуски в столбцах `gearbox` и `fueltype` наиболее часто встречающимися параметрами \n",
    "#    для каждого `vehicletype` и `model`\n",
    "\n",
    "# для этого подготовим таблицу, в которую запишем наиболее часто попадающиеся `gearbox` для каждой `vehicletype`\n",
    "top_gear = (df[['vehicletype', 'gearbox']]\n",
    "                 .value_counts()\n",
    "                 .reset_index()\n",
    "                 )\n",
    "top_gear.drop(0, axis=1, inplace=True)       # удалим ненужный столбец\n",
    "display(top_gear)                                     # выведем на экран\n",
    "\n",
    "# для этого подготовим таблицу, в которую запишем наиболее часто попадающиеся `fueltype` для каждой `vehicletype`\n",
    "top_fuel = (df[['vehicletype', 'fueltype']]\n",
    "                 .value_counts()\n",
    "                 .reset_index()\n",
    "                 )\n",
    "top_fuel.drop(0, axis=1, inplace=True)       # удалим ненужный столбец\n",
    "display(top_fuel)                                     # выведем на экран"
   ]
  },
  {
   "cell_type": "code",
   "execution_count": 12,
   "metadata": {},
   "outputs": [],
   "source": [
    "# заполним пропуски в столбце `gearbox` данными из таблицы top_gear   \n",
    "df.loc[df['gearbox'].isna(), 'gearbox'] =  \\\n",
    "    df.loc[df['gearbox'].isna(), 'vehicletype'].map(top_gear.groupby('vehicletype')['gearbox'].first())\n",
    "\n",
    "# заполним пропуски в столбце `fueltype` данными из таблицы top_fuel   \n",
    "df.loc[df['fueltype'].isna(), 'fueltype'] =  \\\n",
    "    df.loc[df['fueltype'].isna(), 'vehicletype'].map(top_fuel.groupby('vehicletype')['fueltype'].first())"
   ]
  },
  {
   "cell_type": "code",
   "execution_count": 13,
   "metadata": {},
   "outputs": [
    {
     "name": "stdout",
     "output_type": "stream",
     "text": [
      "<class 'pandas.core.frame.DataFrame'>\n",
      "RangeIndex: 354369 entries, 0 to 354368\n",
      "Data columns (total 12 columns):\n",
      " #   Column             Non-Null Count   Dtype \n",
      "---  ------             --------------   ----- \n",
      " 0   price              354369 non-null  int64 \n",
      " 1   vehicletype        354369 non-null  object\n",
      " 2   registrationyear   354369 non-null  int64 \n",
      " 3   gearbox            354369 non-null  object\n",
      " 4   power              354369 non-null  int64 \n",
      " 5   model              354369 non-null  object\n",
      " 6   kilometer          354369 non-null  int64 \n",
      " 7   registrationmonth  354369 non-null  int64 \n",
      " 8   fueltype           354369 non-null  object\n",
      " 9   brand              354369 non-null  object\n",
      " 10  notrepaired        354369 non-null  object\n",
      " 11  postalcode         354369 non-null  int64 \n",
      "dtypes: int64(6), object(6)\n",
      "memory usage: 32.4+ MB\n"
     ]
    }
   ],
   "source": [
    "# проверим\n",
    "df.info()"
   ]
  },
  {
   "cell_type": "markdown",
   "metadata": {},
   "source": [
    "* построим Boxplot для столбцов с числовым форматом данных `int64`"
   ]
  },
  {
   "cell_type": "code",
   "execution_count": 14,
   "metadata": {
    "scrolled": true
   },
   "outputs": [
    {
     "data": {
      "image/png": "[encoded data removed]",
      "text/plain": [
       "<Figure size 720x504 with 1 Axes>"
      ]
     },
     "metadata": {
      "needs_background": "light"
     },
     "output_type": "display_data"
    },
    {
     "data": {
      "image/png": "[encoded data removed]",
      "text/plain": [
       "<Figure size 720x504 with 1 Axes>"
      ]
     },
     "metadata": {
      "needs_background": "light"
     },
     "output_type": "display_data"
    },
    {
     "data": {
      "image/png": "[encoded data removed]",
      "text/plain": [
       "<Figure size 720x504 with 1 Axes>"
      ]
     },
     "metadata": {
      "needs_background": "light"
     },
     "output_type": "display_data"
    },
    {
     "data": {
      "image/png": "[encoded data removed]",
      "text/plain": [
       "<Figure size 720x504 with 1 Axes>"
      ]
     },
     "metadata": {
      "needs_background": "light"
     },
     "output_type": "display_data"
    },
    {
     "data": {
      "image/png": "[encoded data removed]",
      "text/plain": [
       "<Figure size 720x504 with 1 Axes>"
      ]
     },
     "metadata": {
      "needs_background": "light"
     },
     "output_type": "display_data"
    },
    {
     "data": {
      "image/png": "[encoded data removed]",
      "text/plain": [
       "<Figure size 720x504 with 1 Axes>"
      ]
     },
     "metadata": {
      "needs_background": "light"
     },
     "output_type": "display_data"
    }
   ],
   "source": [
    "for col in df.columns:\n",
    "    if df[col].dtype == 'int64':\n",
    "        plt.figure(figsize=(10,7))\n",
    "        figure = sns.boxplot(data=df, y=df[col])# выводим данные по столбцу col\n",
    "        plt.show()"
   ]
  },
  {
   "cell_type": "markdown",
   "metadata": {},
   "source": [
    "* в столбцах 'price', 'power', 'registrationyear' наблюдается множество выбросов. \n",
    "* в столбце 'kilometer' медиана, 3 квартиль и максимальное значения совпадают.\n",
    "\n",
    "Рассмотрим распределение объявлений по году регистрации авто с помощью гистограммы: "
   ]
  },
  {
   "cell_type": "code",
   "execution_count": 15,
   "metadata": {},
   "outputs": [
    {
     "data": {
      "image/png": "[encoded data removed]",
      "text/plain": [
       "<Figure size 1080x576 with 1 Axes>"
      ]
     },
     "metadata": {
      "needs_background": "light"
     },
     "output_type": "display_data"
    }
   ],
   "source": [
    "df['registrationyear'].plot(kind='hist',\n",
    "                            grid=True,\n",
    "                            figsize=(15,8),\n",
    "                            bins=100,\n",
    "                            title='Распределение объявлений по году регистрации авто')\n",
    "plt.show()"
   ]
  },
  {
   "cell_type": "markdown",
   "metadata": {},
   "source": [
    "Из-за большого кол-ва выбросов видим один столбец. Чтобы увидеть более четкую картину, ограничим даты регистрации авто \"разумными\" рамками между 1945 и 2022 годом. Рамки обусловлены тем, что мы строим модель для \"стандартного\" автомобиля, а машины, выпуском ранее 1945 года и \"из будущего\" (позже 2022г.в.) Снова построим гистограмму: "
   ]
  },
  {
   "cell_type": "code",
   "execution_count": 16,
   "metadata": {},
   "outputs": [
    {
     "data": {
      "image/png": "[encoded data removed]",
      "text/plain": [
       "<Figure size 1080x576 with 1 Axes>"
      ]
     },
     "metadata": {
      "needs_background": "light"
     },
     "output_type": "display_data"
    }
   ],
   "source": [
    "df.query('1945<registrationyear<2022')['registrationyear'].plot(kind='hist',\n",
    "                                                                grid=True,\n",
    "                                                                figsize=(15,8),\n",
    "                                                                bins=100,\n",
    "                                                                title='Распределение объявлений по году регистрации авто')\n",
    "plt.show()"
   ]
  },
  {
   "cell_type": "markdown",
   "metadata": {},
   "source": [
    "Видим, что большинство автомобилей имеет регистрацию после 1990 года. Предлагаем ограничить наш датафрейм 1990 и 2022 годами. "
   ]
  },
  {
   "cell_type": "code",
   "execution_count": 17,
   "metadata": {},
   "outputs": [],
   "source": [
    "df = df.query('1990<registrationyear<2022').reset_index(drop=True)"
   ]
  },
  {
   "cell_type": "markdown",
   "metadata": {},
   "source": [
    "Рассмотрим модели, мощность которых выходит за пределы нормального распределения (\"усов\") выборки:"
   ]
  },
  {
   "cell_type": "code",
   "execution_count": 18,
   "metadata": {},
   "outputs": [
    {
     "name": "stdout",
     "output_type": "stream",
     "text": [
      "Авто мощностью до 69 л.с.\n"
     ]
    },
    {
     "data": {
      "text/html": [
       "<div>\n",
       "<style scoped>\n",
       "    .dataframe tbody tr th:only-of-type {\n",
       "        vertical-align: middle;\n",
       "    }\n",
       "\n",
       "    .dataframe tbody tr th {\n",
       "        vertical-align: top;\n",
       "    }\n",
       "\n",
       "    .dataframe thead th {\n",
       "        text-align: right;\n",
       "    }\n",
       "</style>\n",
       "<table border=\"1\" class=\"dataframe\">\n",
       "  <thead>\n",
       "    <tr style=\"text-align: right;\">\n",
       "      <th></th>\n",
       "      <th>price</th>\n",
       "      <th>vehicletype</th>\n",
       "      <th>registrationyear</th>\n",
       "      <th>gearbox</th>\n",
       "      <th>power</th>\n",
       "      <th>model</th>\n",
       "      <th>kilometer</th>\n",
       "      <th>registrationmonth</th>\n",
       "      <th>fueltype</th>\n",
       "      <th>brand</th>\n",
       "      <th>notrepaired</th>\n",
       "      <th>postalcode</th>\n",
       "    </tr>\n",
       "  </thead>\n",
       "  <tbody>\n",
       "    <tr>\n",
       "      <th>0</th>\n",
       "      <td>480</td>\n",
       "      <td>sedan</td>\n",
       "      <td>1993</td>\n",
       "      <td>manual</td>\n",
       "      <td>0</td>\n",
       "      <td>golf</td>\n",
       "      <td>150000</td>\n",
       "      <td>0</td>\n",
       "      <td>petrol</td>\n",
       "      <td>volkswagen</td>\n",
       "      <td>yes</td>\n",
       "      <td>70435</td>\n",
       "    </tr>\n",
       "    <tr>\n",
       "      <th>14</th>\n",
       "      <td>300</td>\n",
       "      <td>small</td>\n",
       "      <td>2016</td>\n",
       "      <td>manual</td>\n",
       "      <td>60</td>\n",
       "      <td>polo</td>\n",
       "      <td>150000</td>\n",
       "      <td>0</td>\n",
       "      <td>petrol</td>\n",
       "      <td>volkswagen</td>\n",
       "      <td>yes</td>\n",
       "      <td>38871</td>\n",
       "    </tr>\n",
       "    <tr>\n",
       "      <th>21</th>\n",
       "      <td>450</td>\n",
       "      <td>small</td>\n",
       "      <td>1997</td>\n",
       "      <td>manual</td>\n",
       "      <td>50</td>\n",
       "      <td>arosa</td>\n",
       "      <td>150000</td>\n",
       "      <td>5</td>\n",
       "      <td>petrol</td>\n",
       "      <td>seat</td>\n",
       "      <td>no</td>\n",
       "      <td>9526</td>\n",
       "    </tr>\n",
       "    <tr>\n",
       "      <th>25</th>\n",
       "      <td>690</td>\n",
       "      <td>small</td>\n",
       "      <td>2003</td>\n",
       "      <td>manual</td>\n",
       "      <td>60</td>\n",
       "      <td>punto</td>\n",
       "      <td>150000</td>\n",
       "      <td>3</td>\n",
       "      <td>petrol</td>\n",
       "      <td>fiat</td>\n",
       "      <td>no</td>\n",
       "      <td>86199</td>\n",
       "    </tr>\n",
       "    <tr>\n",
       "      <th>27</th>\n",
       "      <td>899</td>\n",
       "      <td>small</td>\n",
       "      <td>2016</td>\n",
       "      <td>manual</td>\n",
       "      <td>60</td>\n",
       "      <td>clio</td>\n",
       "      <td>150000</td>\n",
       "      <td>6</td>\n",
       "      <td>petrol</td>\n",
       "      <td>renault</td>\n",
       "      <td>yes</td>\n",
       "      <td>37075</td>\n",
       "    </tr>\n",
       "    <tr>\n",
       "      <th>...</th>\n",
       "      <td>...</td>\n",
       "      <td>...</td>\n",
       "      <td>...</td>\n",
       "      <td>...</td>\n",
       "      <td>...</td>\n",
       "      <td>...</td>\n",
       "      <td>...</td>\n",
       "      <td>...</td>\n",
       "      <td>...</td>\n",
       "      <td>...</td>\n",
       "      <td>...</td>\n",
       "      <td>...</td>\n",
       "    </tr>\n",
       "    <tr>\n",
       "      <th>341778</th>\n",
       "      <td>1490</td>\n",
       "      <td>small</td>\n",
       "      <td>1998</td>\n",
       "      <td>manual</td>\n",
       "      <td>50</td>\n",
       "      <td>lupo</td>\n",
       "      <td>150000</td>\n",
       "      <td>9</td>\n",
       "      <td>petrol</td>\n",
       "      <td>volkswagen</td>\n",
       "      <td>no</td>\n",
       "      <td>48653</td>\n",
       "    </tr>\n",
       "    <tr>\n",
       "      <th>341780</th>\n",
       "      <td>3999</td>\n",
       "      <td>wagon</td>\n",
       "      <td>2005</td>\n",
       "      <td>manual</td>\n",
       "      <td>3</td>\n",
       "      <td>3er</td>\n",
       "      <td>150000</td>\n",
       "      <td>5</td>\n",
       "      <td>gasoline</td>\n",
       "      <td>bmw</td>\n",
       "      <td>no</td>\n",
       "      <td>81825</td>\n",
       "    </tr>\n",
       "    <tr>\n",
       "      <th>341783</th>\n",
       "      <td>1150</td>\n",
       "      <td>bus</td>\n",
       "      <td>2000</td>\n",
       "      <td>manual</td>\n",
       "      <td>0</td>\n",
       "      <td>zafira</td>\n",
       "      <td>150000</td>\n",
       "      <td>3</td>\n",
       "      <td>petrol</td>\n",
       "      <td>opel</td>\n",
       "      <td>no</td>\n",
       "      <td>26624</td>\n",
       "    </tr>\n",
       "    <tr>\n",
       "      <th>341784</th>\n",
       "      <td>0</td>\n",
       "      <td>sedan</td>\n",
       "      <td>2005</td>\n",
       "      <td>manual</td>\n",
       "      <td>0</td>\n",
       "      <td>colt</td>\n",
       "      <td>150000</td>\n",
       "      <td>7</td>\n",
       "      <td>petrol</td>\n",
       "      <td>mitsubishi</td>\n",
       "      <td>yes</td>\n",
       "      <td>2694</td>\n",
       "    </tr>\n",
       "    <tr>\n",
       "      <th>341785</th>\n",
       "      <td>2200</td>\n",
       "      <td>sedan</td>\n",
       "      <td>2005</td>\n",
       "      <td>manual</td>\n",
       "      <td>0</td>\n",
       "      <td>other</td>\n",
       "      <td>20000</td>\n",
       "      <td>1</td>\n",
       "      <td>petrol</td>\n",
       "      <td>sonstige_autos</td>\n",
       "      <td>yes</td>\n",
       "      <td>39576</td>\n",
       "    </tr>\n",
       "  </tbody>\n",
       "</table>\n",
       "<p>82560 rows × 12 columns</p>\n",
       "</div>"
      ],
      "text/plain": [
       "        price vehicletype  registrationyear gearbox  power   model  kilometer  \\\n",
       "0         480       sedan              1993  manual      0    golf     150000   \n",
       "14        300       small              2016  manual     60    polo     150000   \n",
       "21        450       small              1997  manual     50   arosa     150000   \n",
       "25        690       small              2003  manual     60   punto     150000   \n",
       "27        899       small              2016  manual     60    clio     150000   \n",
       "...       ...         ...               ...     ...    ...     ...        ...   \n",
       "341778   1490       small              1998  manual     50    lupo     150000   \n",
       "341780   3999       wagon              2005  manual      3     3er     150000   \n",
       "341783   1150         bus              2000  manual      0  zafira     150000   \n",
       "341784      0       sedan              2005  manual      0    colt     150000   \n",
       "341785   2200       sedan              2005  manual      0   other      20000   \n",
       "\n",
       "        registrationmonth  fueltype           brand notrepaired  postalcode  \n",
       "0                       0    petrol      volkswagen         yes       70435  \n",
       "14                      0    petrol      volkswagen         yes       38871  \n",
       "21                      5    petrol            seat          no        9526  \n",
       "25                      3    petrol            fiat          no       86199  \n",
       "27                      6    petrol         renault         yes       37075  \n",
       "...                   ...       ...             ...         ...         ...  \n",
       "341778                  9    petrol      volkswagen          no       48653  \n",
       "341780                  5  gasoline             bmw          no       81825  \n",
       "341783                  3    petrol            opel          no       26624  \n",
       "341784                  7    petrol      mitsubishi         yes        2694  \n",
       "341785                  1    petrol  sonstige_autos         yes       39576  \n",
       "\n",
       "[82560 rows x 12 columns]"
      ]
     },
     "metadata": {},
     "output_type": "display_data"
    },
    {
     "name": "stdout",
     "output_type": "stream",
     "text": [
      "Авто мощностью свыше 254 л.с.\n"
     ]
    },
    {
     "data": {
      "text/html": [
       "<div>\n",
       "<style scoped>\n",
       "    .dataframe tbody tr th:only-of-type {\n",
       "        vertical-align: middle;\n",
       "    }\n",
       "\n",
       "    .dataframe tbody tr th {\n",
       "        vertical-align: top;\n",
       "    }\n",
       "\n",
       "    .dataframe thead th {\n",
       "        text-align: right;\n",
       "    }\n",
       "</style>\n",
       "<table border=\"1\" class=\"dataframe\">\n",
       "  <thead>\n",
       "    <tr style=\"text-align: right;\">\n",
       "      <th></th>\n",
       "      <th>price</th>\n",
       "      <th>vehicletype</th>\n",
       "      <th>registrationyear</th>\n",
       "      <th>gearbox</th>\n",
       "      <th>power</th>\n",
       "      <th>model</th>\n",
       "      <th>kilometer</th>\n",
       "      <th>registrationmonth</th>\n",
       "      <th>fueltype</th>\n",
       "      <th>brand</th>\n",
       "      <th>notrepaired</th>\n",
       "      <th>postalcode</th>\n",
       "    </tr>\n",
       "  </thead>\n",
       "  <tbody>\n",
       "    <tr>\n",
       "      <th>35</th>\n",
       "      <td>7500</td>\n",
       "      <td>sedan</td>\n",
       "      <td>2002</td>\n",
       "      <td>auto</td>\n",
       "      <td>306</td>\n",
       "      <td>e_klasse</td>\n",
       "      <td>150000</td>\n",
       "      <td>4</td>\n",
       "      <td>petrol</td>\n",
       "      <td>mercedes_benz</td>\n",
       "      <td>yes</td>\n",
       "      <td>33649</td>\n",
       "    </tr>\n",
       "    <tr>\n",
       "      <th>53</th>\n",
       "      <td>1</td>\n",
       "      <td>suv</td>\n",
       "      <td>1994</td>\n",
       "      <td>manual</td>\n",
       "      <td>286</td>\n",
       "      <td>other</td>\n",
       "      <td>150000</td>\n",
       "      <td>11</td>\n",
       "      <td>gasoline</td>\n",
       "      <td>sonstige_autos</td>\n",
       "      <td>yes</td>\n",
       "      <td>53721</td>\n",
       "    </tr>\n",
       "    <tr>\n",
       "      <th>106</th>\n",
       "      <td>6300</td>\n",
       "      <td>sedan</td>\n",
       "      <td>2002</td>\n",
       "      <td>manual</td>\n",
       "      <td>265</td>\n",
       "      <td>golf</td>\n",
       "      <td>150000</td>\n",
       "      <td>3</td>\n",
       "      <td>petrol</td>\n",
       "      <td>volkswagen</td>\n",
       "      <td>no</td>\n",
       "      <td>56759</td>\n",
       "    </tr>\n",
       "    <tr>\n",
       "      <th>117</th>\n",
       "      <td>1800</td>\n",
       "      <td>sedan</td>\n",
       "      <td>1995</td>\n",
       "      <td>auto</td>\n",
       "      <td>286</td>\n",
       "      <td>7er</td>\n",
       "      <td>150000</td>\n",
       "      <td>12</td>\n",
       "      <td>petrol</td>\n",
       "      <td>bmw</td>\n",
       "      <td>yes</td>\n",
       "      <td>77866</td>\n",
       "    </tr>\n",
       "    <tr>\n",
       "      <th>162</th>\n",
       "      <td>19750</td>\n",
       "      <td>convertible</td>\n",
       "      <td>2006</td>\n",
       "      <td>manual</td>\n",
       "      <td>305</td>\n",
       "      <td>mustang</td>\n",
       "      <td>50000</td>\n",
       "      <td>7</td>\n",
       "      <td>petrol</td>\n",
       "      <td>ford</td>\n",
       "      <td>no</td>\n",
       "      <td>38350</td>\n",
       "    </tr>\n",
       "    <tr>\n",
       "      <th>...</th>\n",
       "      <td>...</td>\n",
       "      <td>...</td>\n",
       "      <td>...</td>\n",
       "      <td>...</td>\n",
       "      <td>...</td>\n",
       "      <td>...</td>\n",
       "      <td>...</td>\n",
       "      <td>...</td>\n",
       "      <td>...</td>\n",
       "      <td>...</td>\n",
       "      <td>...</td>\n",
       "      <td>...</td>\n",
       "    </tr>\n",
       "    <tr>\n",
       "      <th>341686</th>\n",
       "      <td>399</td>\n",
       "      <td>other</td>\n",
       "      <td>1994</td>\n",
       "      <td>manual</td>\n",
       "      <td>1103</td>\n",
       "      <td>3er</td>\n",
       "      <td>150000</td>\n",
       "      <td>0</td>\n",
       "      <td>gasoline</td>\n",
       "      <td>bmw</td>\n",
       "      <td>yes</td>\n",
       "      <td>56235</td>\n",
       "    </tr>\n",
       "    <tr>\n",
       "      <th>341707</th>\n",
       "      <td>6500</td>\n",
       "      <td>sedan</td>\n",
       "      <td>1993</td>\n",
       "      <td>auto</td>\n",
       "      <td>286</td>\n",
       "      <td>5er</td>\n",
       "      <td>150000</td>\n",
       "      <td>1</td>\n",
       "      <td>petrol</td>\n",
       "      <td>bmw</td>\n",
       "      <td>no</td>\n",
       "      <td>81249</td>\n",
       "    </tr>\n",
       "    <tr>\n",
       "      <th>341728</th>\n",
       "      <td>16999</td>\n",
       "      <td>wagon</td>\n",
       "      <td>2008</td>\n",
       "      <td>auto</td>\n",
       "      <td>269</td>\n",
       "      <td>a6</td>\n",
       "      <td>150000</td>\n",
       "      <td>7</td>\n",
       "      <td>gasoline</td>\n",
       "      <td>audi</td>\n",
       "      <td>no</td>\n",
       "      <td>61440</td>\n",
       "    </tr>\n",
       "    <tr>\n",
       "      <th>341757</th>\n",
       "      <td>11500</td>\n",
       "      <td>sedan</td>\n",
       "      <td>2004</td>\n",
       "      <td>auto</td>\n",
       "      <td>445</td>\n",
       "      <td>7er</td>\n",
       "      <td>125000</td>\n",
       "      <td>0</td>\n",
       "      <td>petrol</td>\n",
       "      <td>bmw</td>\n",
       "      <td>yes</td>\n",
       "      <td>4107</td>\n",
       "    </tr>\n",
       "    <tr>\n",
       "      <th>341774</th>\n",
       "      <td>5000</td>\n",
       "      <td>sedan</td>\n",
       "      <td>2003</td>\n",
       "      <td>auto</td>\n",
       "      <td>260</td>\n",
       "      <td>e_klasse</td>\n",
       "      <td>150000</td>\n",
       "      <td>12</td>\n",
       "      <td>gasoline</td>\n",
       "      <td>mercedes_benz</td>\n",
       "      <td>yes</td>\n",
       "      <td>90473</td>\n",
       "    </tr>\n",
       "  </tbody>\n",
       "</table>\n",
       "<p>7117 rows × 12 columns</p>\n",
       "</div>"
      ],
      "text/plain": [
       "        price  vehicletype  registrationyear gearbox  power     model  \\\n",
       "35       7500        sedan              2002    auto    306  e_klasse   \n",
       "53          1          suv              1994  manual    286     other   \n",
       "106      6300        sedan              2002  manual    265      golf   \n",
       "117      1800        sedan              1995    auto    286       7er   \n",
       "162     19750  convertible              2006  manual    305   mustang   \n",
       "...       ...          ...               ...     ...    ...       ...   \n",
       "341686    399        other              1994  manual   1103       3er   \n",
       "341707   6500        sedan              1993    auto    286       5er   \n",
       "341728  16999        wagon              2008    auto    269        a6   \n",
       "341757  11500        sedan              2004    auto    445       7er   \n",
       "341774   5000        sedan              2003    auto    260  e_klasse   \n",
       "\n",
       "        kilometer  registrationmonth  fueltype           brand notrepaired  \\\n",
       "35         150000                  4    petrol   mercedes_benz         yes   \n",
       "53         150000                 11  gasoline  sonstige_autos         yes   \n",
       "106        150000                  3    petrol      volkswagen          no   \n",
       "117        150000                 12    petrol             bmw         yes   \n",
       "162         50000                  7    petrol            ford          no   \n",
       "...           ...                ...       ...             ...         ...   \n",
       "341686     150000                  0  gasoline             bmw         yes   \n",
       "341707     150000                  1    petrol             bmw          no   \n",
       "341728     150000                  7  gasoline            audi          no   \n",
       "341757     125000                  0    petrol             bmw         yes   \n",
       "341774     150000                 12  gasoline   mercedes_benz         yes   \n",
       "\n",
       "        postalcode  \n",
       "35           33649  \n",
       "53           53721  \n",
       "106          56759  \n",
       "117          77866  \n",
       "162          38350  \n",
       "...            ...  \n",
       "341686       56235  \n",
       "341707       81249  \n",
       "341728       61440  \n",
       "341757        4107  \n",
       "341774       90473  \n",
       "\n",
       "[7117 rows x 12 columns]"
      ]
     },
     "metadata": {},
     "output_type": "display_data"
    }
   ],
   "source": [
    "# посмотрим на машины, регистрация которых указана до 1990 гг и свыше 2022гг\n",
    "print('Авто мощностью до 69 л.с.')\n",
    "display(df.query('power<69'))\n",
    "\n",
    "print('Авто мощностью свыше 254 л.с.')\n",
    "display(df.query('power>254'))"
   ]
  },
  {
   "cell_type": "markdown",
   "metadata": {},
   "source": [
    "Из первой таблицы видно, что среди авто мощностью до 69 л.с. много машин с пробегом 150 тыс.км. Возможно, они продаются на запчасти или просто битые.\n",
    "\n",
    "Вторая таблица - Авто мощностью свыше 254 л.с. Здесь представлены, в основном, мощные гоночные автомобили. Предлагаем ограничить диапазон до 500 л.с. Остальные - слишком выбивающие из выборки, нестандартные авто."
   ]
  },
  {
   "cell_type": "code",
   "execution_count": 19,
   "metadata": {},
   "outputs": [],
   "source": [
    "df = df.query('power<500').reset_index(drop=True)"
   ]
  },
  {
   "cell_type": "markdown",
   "metadata": {},
   "source": [
    "Повторно построим Boxplot и посмотрим на распределение параметров:"
   ]
  },
  {
   "cell_type": "code",
   "execution_count": 20,
   "metadata": {
    "scrolled": true
   },
   "outputs": [
    {
     "data": {
      "image/png": "[encoded data removed]",
      "text/plain": [
       "<Figure size 720x504 with 1 Axes>"
      ]
     },
     "metadata": {
      "needs_background": "light"
     },
     "output_type": "display_data"
    },
    {
     "data": {
      "image/png": "[encoded data removed]",
      "text/plain": [
       "<Figure size 720x504 with 1 Axes>"
      ]
     },
     "metadata": {
      "needs_background": "light"
     },
     "output_type": "display_data"
    },
    {
     "data": {
      "image/png": "[encoded data removed]",
      "text/plain": [
       "<Figure size 720x504 with 1 Axes>"
      ]
     },
     "metadata": {
      "needs_background": "light"
     },
     "output_type": "display_data"
    },
    {
     "data": {
      "image/png": "[encoded data removed]",
      "text/plain": [
       "<Figure size 720x504 with 1 Axes>"
      ]
     },
     "metadata": {
      "needs_background": "light"
     },
     "output_type": "display_data"
    },
    {
     "data": {
      "image/png": "[encoded data removed]",
      "text/plain": [
       "<Figure size 720x504 with 1 Axes>"
      ]
     },
     "metadata": {
      "needs_background": "light"
     },
     "output_type": "display_data"
    },
    {
     "data": {
      "image/png": "[encoded data removed]",
      "text/plain": [
       "<Figure size 720x504 with 1 Axes>"
      ]
     },
     "metadata": {
      "needs_background": "light"
     },
     "output_type": "display_data"
    }
   ],
   "source": [
    "for col in df.columns:\n",
    "    if df[col].dtype == 'int64':\n",
    "        plt.figure(figsize=(10,7))\n",
    "        figure = sns.boxplot(data=df, y=df[col])# выводим данные по столбцу col\n",
    "        plt.show()"
   ]
  },
  {
   "cell_type": "markdown",
   "metadata": {},
   "source": [
    "Посмотрим на распределение объявлений по пробегу:"
   ]
  },
  {
   "cell_type": "code",
   "execution_count": 21,
   "metadata": {},
   "outputs": [
    {
     "data": {
      "image/png": "[encoded data removed]",
      "text/plain": [
       "<Figure size 720x504 with 1 Axes>"
      ]
     },
     "metadata": {
      "needs_background": "light"
     },
     "output_type": "display_data"
    }
   ],
   "source": [
    "df.kilometer.plot(kind='hist',\n",
    "                  bins=50, \n",
    "                  grid=True,\n",
    "                  figsize=(10,7),\n",
    "                  title='Распределение объявлений по пробегу')\n",
    "plt.show()"
   ]
  },
  {
   "cell_type": "markdown",
   "metadata": {},
   "source": [
    "Видим огномный выброс в районе 150 тыс. км. и скошенность графика влево."
   ]
  },
  {
   "cell_type": "markdown",
   "metadata": {},
   "source": [
    "Дополнительно выведем матрицу корреляций признаков и посмотрим на связь параметров:"
   ]
  },
  {
   "cell_type": "code",
   "execution_count": 22,
   "metadata": {},
   "outputs": [
    {
     "data": {
      "image/png": "[encoded data removed]",
      "text/plain": [
       "<Figure size 1440x864 with 2 Axes>"
      ]
     },
     "metadata": {
      "needs_background": "light"
     },
     "output_type": "display_data"
    }
   ],
   "source": [
    "plt.figure(figsize=(20,12))\n",
    "plt.title('Матрица корреляции признаков')\n",
    "\n",
    "sns.heatmap(data=df.corr(),\n",
    "            annot=True,\n",
    "            cmap=\"YlGnBu\")\n",
    "plt.show()"
   ]
  },
  {
   "cell_type": "markdown",
   "metadata": {},
   "source": [
    "Из матрицы видим, что цена в большей степени коррелирует с годом выпуска и мощностью двигателя (0,48 и 0,5) и имеет обратную зависимость от пробега (-0,35). "
   ]
  },
  {
   "cell_type": "code",
   "execution_count": 23,
   "metadata": {
    "scrolled": true
   },
   "outputs": [
    {
     "name": "stdout",
     "output_type": "stream",
     "text": [
      "Конечный датафрейм уменьшился на -0.036814732665667704\n"
     ]
    }
   ],
   "source": [
    "print('Конечный датафрейм уменьшился на', df.shape[0]/data.shape[0]-1)"
   ]
  },
  {
   "cell_type": "markdown",
   "metadata": {},
   "source": [
    "* c помощью OrdinalEncoder преобразуем категориальные признаки"
   ]
  },
  {
   "cell_type": "code",
   "execution_count": 24,
   "metadata": {},
   "outputs": [
    {
     "data": {
      "text/html": [
       "<div>\n",
       "<style scoped>\n",
       "    .dataframe tbody tr th:only-of-type {\n",
       "        vertical-align: middle;\n",
       "    }\n",
       "\n",
       "    .dataframe tbody tr th {\n",
       "        vertical-align: top;\n",
       "    }\n",
       "\n",
       "    .dataframe thead th {\n",
       "        text-align: right;\n",
       "    }\n",
       "</style>\n",
       "<table border=\"1\" class=\"dataframe\">\n",
       "  <thead>\n",
       "    <tr style=\"text-align: right;\">\n",
       "      <th></th>\n",
       "      <th>vehicletype</th>\n",
       "      <th>gearbox</th>\n",
       "      <th>model</th>\n",
       "      <th>fueltype</th>\n",
       "      <th>brand</th>\n",
       "      <th>notrepaired</th>\n",
       "    </tr>\n",
       "  </thead>\n",
       "  <tbody>\n",
       "    <tr>\n",
       "      <th>0</th>\n",
       "      <td>4.0</td>\n",
       "      <td>1.0</td>\n",
       "      <td>116.0</td>\n",
       "      <td>6.0</td>\n",
       "      <td>38.0</td>\n",
       "      <td>1.0</td>\n",
       "    </tr>\n",
       "    <tr>\n",
       "      <th>1</th>\n",
       "      <td>2.0</td>\n",
       "      <td>1.0</td>\n",
       "      <td>166.0</td>\n",
       "      <td>2.0</td>\n",
       "      <td>1.0</td>\n",
       "      <td>1.0</td>\n",
       "    </tr>\n",
       "    <tr>\n",
       "      <th>2</th>\n",
       "      <td>6.0</td>\n",
       "      <td>0.0</td>\n",
       "      <td>117.0</td>\n",
       "      <td>2.0</td>\n",
       "      <td>14.0</td>\n",
       "      <td>1.0</td>\n",
       "    </tr>\n",
       "    <tr>\n",
       "      <th>3</th>\n",
       "      <td>5.0</td>\n",
       "      <td>1.0</td>\n",
       "      <td>116.0</td>\n",
       "      <td>6.0</td>\n",
       "      <td>38.0</td>\n",
       "      <td>0.0</td>\n",
       "    </tr>\n",
       "    <tr>\n",
       "      <th>4</th>\n",
       "      <td>5.0</td>\n",
       "      <td>1.0</td>\n",
       "      <td>101.0</td>\n",
       "      <td>2.0</td>\n",
       "      <td>31.0</td>\n",
       "      <td>0.0</td>\n",
       "    </tr>\n",
       "    <tr>\n",
       "      <th>...</th>\n",
       "      <td>...</td>\n",
       "      <td>...</td>\n",
       "      <td>...</td>\n",
       "      <td>...</td>\n",
       "      <td>...</td>\n",
       "      <td>...</td>\n",
       "    </tr>\n",
       "    <tr>\n",
       "      <th>341318</th>\n",
       "      <td>4.0</td>\n",
       "      <td>1.0</td>\n",
       "      <td>78.0</td>\n",
       "      <td>6.0</td>\n",
       "      <td>22.0</td>\n",
       "      <td>1.0</td>\n",
       "    </tr>\n",
       "    <tr>\n",
       "      <th>341319</th>\n",
       "      <td>4.0</td>\n",
       "      <td>1.0</td>\n",
       "      <td>166.0</td>\n",
       "      <td>6.0</td>\n",
       "      <td>33.0</td>\n",
       "      <td>1.0</td>\n",
       "    </tr>\n",
       "    <tr>\n",
       "      <th>341320</th>\n",
       "      <td>1.0</td>\n",
       "      <td>0.0</td>\n",
       "      <td>106.0</td>\n",
       "      <td>6.0</td>\n",
       "      <td>32.0</td>\n",
       "      <td>0.0</td>\n",
       "    </tr>\n",
       "    <tr>\n",
       "      <th>341321</th>\n",
       "      <td>0.0</td>\n",
       "      <td>1.0</td>\n",
       "      <td>222.0</td>\n",
       "      <td>2.0</td>\n",
       "      <td>38.0</td>\n",
       "      <td>0.0</td>\n",
       "    </tr>\n",
       "    <tr>\n",
       "      <th>341322</th>\n",
       "      <td>7.0</td>\n",
       "      <td>1.0</td>\n",
       "      <td>116.0</td>\n",
       "      <td>2.0</td>\n",
       "      <td>38.0</td>\n",
       "      <td>1.0</td>\n",
       "    </tr>\n",
       "  </tbody>\n",
       "</table>\n",
       "<p>341323 rows × 6 columns</p>\n",
       "</div>"
      ],
      "text/plain": [
       "        vehicletype  gearbox  model  fueltype  brand  notrepaired\n",
       "0               4.0      1.0  116.0       6.0   38.0          1.0\n",
       "1               2.0      1.0  166.0       2.0    1.0          1.0\n",
       "2               6.0      0.0  117.0       2.0   14.0          1.0\n",
       "3               5.0      1.0  116.0       6.0   38.0          0.0\n",
       "4               5.0      1.0  101.0       2.0   31.0          0.0\n",
       "...             ...      ...    ...       ...    ...          ...\n",
       "341318          4.0      1.0   78.0       6.0   22.0          1.0\n",
       "341319          4.0      1.0  166.0       6.0   33.0          1.0\n",
       "341320          1.0      0.0  106.0       6.0   32.0          0.0\n",
       "341321          0.0      1.0  222.0       2.0   38.0          0.0\n",
       "341322          7.0      1.0  116.0       2.0   38.0          1.0\n",
       "\n",
       "[341323 rows x 6 columns]"
      ]
     },
     "metadata": {},
     "output_type": "display_data"
    },
    {
     "data": {
      "text/html": [
       "<div>\n",
       "<style scoped>\n",
       "    .dataframe tbody tr th:only-of-type {\n",
       "        vertical-align: middle;\n",
       "    }\n",
       "\n",
       "    .dataframe tbody tr th {\n",
       "        vertical-align: top;\n",
       "    }\n",
       "\n",
       "    .dataframe thead th {\n",
       "        text-align: right;\n",
       "    }\n",
       "</style>\n",
       "<table border=\"1\" class=\"dataframe\">\n",
       "  <thead>\n",
       "    <tr style=\"text-align: right;\">\n",
       "      <th></th>\n",
       "      <th>price</th>\n",
       "      <th>registrationyear</th>\n",
       "      <th>power</th>\n",
       "      <th>kilometer</th>\n",
       "      <th>registrationmonth</th>\n",
       "      <th>postalcode</th>\n",
       "    </tr>\n",
       "  </thead>\n",
       "  <tbody>\n",
       "    <tr>\n",
       "      <th>0</th>\n",
       "      <td>480</td>\n",
       "      <td>1993</td>\n",
       "      <td>0</td>\n",
       "      <td>150000</td>\n",
       "      <td>0</td>\n",
       "      <td>70435</td>\n",
       "    </tr>\n",
       "    <tr>\n",
       "      <th>1</th>\n",
       "      <td>18300</td>\n",
       "      <td>2011</td>\n",
       "      <td>190</td>\n",
       "      <td>125000</td>\n",
       "      <td>5</td>\n",
       "      <td>66954</td>\n",
       "    </tr>\n",
       "    <tr>\n",
       "      <th>2</th>\n",
       "      <td>9800</td>\n",
       "      <td>2004</td>\n",
       "      <td>163</td>\n",
       "      <td>125000</td>\n",
       "      <td>8</td>\n",
       "      <td>90480</td>\n",
       "    </tr>\n",
       "    <tr>\n",
       "      <th>3</th>\n",
       "      <td>1500</td>\n",
       "      <td>2001</td>\n",
       "      <td>75</td>\n",
       "      <td>150000</td>\n",
       "      <td>6</td>\n",
       "      <td>91074</td>\n",
       "    </tr>\n",
       "    <tr>\n",
       "      <th>4</th>\n",
       "      <td>3600</td>\n",
       "      <td>2008</td>\n",
       "      <td>69</td>\n",
       "      <td>90000</td>\n",
       "      <td>7</td>\n",
       "      <td>60437</td>\n",
       "    </tr>\n",
       "    <tr>\n",
       "      <th>...</th>\n",
       "      <td>...</td>\n",
       "      <td>...</td>\n",
       "      <td>...</td>\n",
       "      <td>...</td>\n",
       "      <td>...</td>\n",
       "      <td>...</td>\n",
       "    </tr>\n",
       "    <tr>\n",
       "      <th>341318</th>\n",
       "      <td>0</td>\n",
       "      <td>2005</td>\n",
       "      <td>0</td>\n",
       "      <td>150000</td>\n",
       "      <td>7</td>\n",
       "      <td>2694</td>\n",
       "    </tr>\n",
       "    <tr>\n",
       "      <th>341319</th>\n",
       "      <td>2200</td>\n",
       "      <td>2005</td>\n",
       "      <td>0</td>\n",
       "      <td>20000</td>\n",
       "      <td>1</td>\n",
       "      <td>39576</td>\n",
       "    </tr>\n",
       "    <tr>\n",
       "      <th>341320</th>\n",
       "      <td>1199</td>\n",
       "      <td>2000</td>\n",
       "      <td>101</td>\n",
       "      <td>125000</td>\n",
       "      <td>3</td>\n",
       "      <td>26135</td>\n",
       "    </tr>\n",
       "    <tr>\n",
       "      <th>341321</th>\n",
       "      <td>9200</td>\n",
       "      <td>1996</td>\n",
       "      <td>102</td>\n",
       "      <td>150000</td>\n",
       "      <td>3</td>\n",
       "      <td>87439</td>\n",
       "    </tr>\n",
       "    <tr>\n",
       "      <th>341322</th>\n",
       "      <td>3400</td>\n",
       "      <td>2002</td>\n",
       "      <td>100</td>\n",
       "      <td>150000</td>\n",
       "      <td>6</td>\n",
       "      <td>40764</td>\n",
       "    </tr>\n",
       "  </tbody>\n",
       "</table>\n",
       "<p>341323 rows × 6 columns</p>\n",
       "</div>"
      ],
      "text/plain": [
       "        price  registrationyear  power  kilometer  registrationmonth  \\\n",
       "0         480              1993      0     150000                  0   \n",
       "1       18300              2011    190     125000                  5   \n",
       "2        9800              2004    163     125000                  8   \n",
       "3        1500              2001     75     150000                  6   \n",
       "4        3600              2008     69      90000                  7   \n",
       "...       ...               ...    ...        ...                ...   \n",
       "341318      0              2005      0     150000                  7   \n",
       "341319   2200              2005      0      20000                  1   \n",
       "341320   1199              2000    101     125000                  3   \n",
       "341321   9200              1996    102     150000                  3   \n",
       "341322   3400              2002    100     150000                  6   \n",
       "\n",
       "        postalcode  \n",
       "0            70435  \n",
       "1            66954  \n",
       "2            90480  \n",
       "3            91074  \n",
       "4            60437  \n",
       "...            ...  \n",
       "341318        2694  \n",
       "341319       39576  \n",
       "341320       26135  \n",
       "341321       87439  \n",
       "341322       40764  \n",
       "\n",
       "[341323 rows x 6 columns]"
      ]
     },
     "metadata": {},
     "output_type": "display_data"
    },
    {
     "data": {
      "text/html": [
       "<div>\n",
       "<style scoped>\n",
       "    .dataframe tbody tr th:only-of-type {\n",
       "        vertical-align: middle;\n",
       "    }\n",
       "\n",
       "    .dataframe tbody tr th {\n",
       "        vertical-align: top;\n",
       "    }\n",
       "\n",
       "    .dataframe thead th {\n",
       "        text-align: right;\n",
       "    }\n",
       "</style>\n",
       "<table border=\"1\" class=\"dataframe\">\n",
       "  <thead>\n",
       "    <tr style=\"text-align: right;\">\n",
       "      <th></th>\n",
       "      <th>vehicletype</th>\n",
       "      <th>gearbox</th>\n",
       "      <th>model</th>\n",
       "      <th>fueltype</th>\n",
       "      <th>brand</th>\n",
       "      <th>notrepaired</th>\n",
       "      <th>price</th>\n",
       "      <th>registrationyear</th>\n",
       "      <th>power</th>\n",
       "      <th>kilometer</th>\n",
       "      <th>registrationmonth</th>\n",
       "      <th>postalcode</th>\n",
       "    </tr>\n",
       "  </thead>\n",
       "  <tbody>\n",
       "    <tr>\n",
       "      <th>0</th>\n",
       "      <td>4.0</td>\n",
       "      <td>1.0</td>\n",
       "      <td>116.0</td>\n",
       "      <td>6.0</td>\n",
       "      <td>38.0</td>\n",
       "      <td>1.0</td>\n",
       "      <td>480</td>\n",
       "      <td>1993</td>\n",
       "      <td>0</td>\n",
       "      <td>150000</td>\n",
       "      <td>0</td>\n",
       "      <td>70435</td>\n",
       "    </tr>\n",
       "    <tr>\n",
       "      <th>1</th>\n",
       "      <td>2.0</td>\n",
       "      <td>1.0</td>\n",
       "      <td>166.0</td>\n",
       "      <td>2.0</td>\n",
       "      <td>1.0</td>\n",
       "      <td>1.0</td>\n",
       "      <td>18300</td>\n",
       "      <td>2011</td>\n",
       "      <td>190</td>\n",
       "      <td>125000</td>\n",
       "      <td>5</td>\n",
       "      <td>66954</td>\n",
       "    </tr>\n",
       "    <tr>\n",
       "      <th>2</th>\n",
       "      <td>6.0</td>\n",
       "      <td>0.0</td>\n",
       "      <td>117.0</td>\n",
       "      <td>2.0</td>\n",
       "      <td>14.0</td>\n",
       "      <td>1.0</td>\n",
       "      <td>9800</td>\n",
       "      <td>2004</td>\n",
       "      <td>163</td>\n",
       "      <td>125000</td>\n",
       "      <td>8</td>\n",
       "      <td>90480</td>\n",
       "    </tr>\n",
       "    <tr>\n",
       "      <th>3</th>\n",
       "      <td>5.0</td>\n",
       "      <td>1.0</td>\n",
       "      <td>116.0</td>\n",
       "      <td>6.0</td>\n",
       "      <td>38.0</td>\n",
       "      <td>0.0</td>\n",
       "      <td>1500</td>\n",
       "      <td>2001</td>\n",
       "      <td>75</td>\n",
       "      <td>150000</td>\n",
       "      <td>6</td>\n",
       "      <td>91074</td>\n",
       "    </tr>\n",
       "    <tr>\n",
       "      <th>4</th>\n",
       "      <td>5.0</td>\n",
       "      <td>1.0</td>\n",
       "      <td>101.0</td>\n",
       "      <td>2.0</td>\n",
       "      <td>31.0</td>\n",
       "      <td>0.0</td>\n",
       "      <td>3600</td>\n",
       "      <td>2008</td>\n",
       "      <td>69</td>\n",
       "      <td>90000</td>\n",
       "      <td>7</td>\n",
       "      <td>60437</td>\n",
       "    </tr>\n",
       "    <tr>\n",
       "      <th>...</th>\n",
       "      <td>...</td>\n",
       "      <td>...</td>\n",
       "      <td>...</td>\n",
       "      <td>...</td>\n",
       "      <td>...</td>\n",
       "      <td>...</td>\n",
       "      <td>...</td>\n",
       "      <td>...</td>\n",
       "      <td>...</td>\n",
       "      <td>...</td>\n",
       "      <td>...</td>\n",
       "      <td>...</td>\n",
       "    </tr>\n",
       "    <tr>\n",
       "      <th>341318</th>\n",
       "      <td>4.0</td>\n",
       "      <td>1.0</td>\n",
       "      <td>78.0</td>\n",
       "      <td>6.0</td>\n",
       "      <td>22.0</td>\n",
       "      <td>1.0</td>\n",
       "      <td>0</td>\n",
       "      <td>2005</td>\n",
       "      <td>0</td>\n",
       "      <td>150000</td>\n",
       "      <td>7</td>\n",
       "      <td>2694</td>\n",
       "    </tr>\n",
       "    <tr>\n",
       "      <th>341319</th>\n",
       "      <td>4.0</td>\n",
       "      <td>1.0</td>\n",
       "      <td>166.0</td>\n",
       "      <td>6.0</td>\n",
       "      <td>33.0</td>\n",
       "      <td>1.0</td>\n",
       "      <td>2200</td>\n",
       "      <td>2005</td>\n",
       "      <td>0</td>\n",
       "      <td>20000</td>\n",
       "      <td>1</td>\n",
       "      <td>39576</td>\n",
       "    </tr>\n",
       "    <tr>\n",
       "      <th>341320</th>\n",
       "      <td>1.0</td>\n",
       "      <td>0.0</td>\n",
       "      <td>106.0</td>\n",
       "      <td>6.0</td>\n",
       "      <td>32.0</td>\n",
       "      <td>0.0</td>\n",
       "      <td>1199</td>\n",
       "      <td>2000</td>\n",
       "      <td>101</td>\n",
       "      <td>125000</td>\n",
       "      <td>3</td>\n",
       "      <td>26135</td>\n",
       "    </tr>\n",
       "    <tr>\n",
       "      <th>341321</th>\n",
       "      <td>0.0</td>\n",
       "      <td>1.0</td>\n",
       "      <td>222.0</td>\n",
       "      <td>2.0</td>\n",
       "      <td>38.0</td>\n",
       "      <td>0.0</td>\n",
       "      <td>9200</td>\n",
       "      <td>1996</td>\n",
       "      <td>102</td>\n",
       "      <td>150000</td>\n",
       "      <td>3</td>\n",
       "      <td>87439</td>\n",
       "    </tr>\n",
       "    <tr>\n",
       "      <th>341322</th>\n",
       "      <td>7.0</td>\n",
       "      <td>1.0</td>\n",
       "      <td>116.0</td>\n",
       "      <td>2.0</td>\n",
       "      <td>38.0</td>\n",
       "      <td>1.0</td>\n",
       "      <td>3400</td>\n",
       "      <td>2002</td>\n",
       "      <td>100</td>\n",
       "      <td>150000</td>\n",
       "      <td>6</td>\n",
       "      <td>40764</td>\n",
       "    </tr>\n",
       "  </tbody>\n",
       "</table>\n",
       "<p>341323 rows × 12 columns</p>\n",
       "</div>"
      ],
      "text/plain": [
       "        vehicletype  gearbox  model  fueltype  brand  notrepaired  price  \\\n",
       "0               4.0      1.0  116.0       6.0   38.0          1.0    480   \n",
       "1               2.0      1.0  166.0       2.0    1.0          1.0  18300   \n",
       "2               6.0      0.0  117.0       2.0   14.0          1.0   9800   \n",
       "3               5.0      1.0  116.0       6.0   38.0          0.0   1500   \n",
       "4               5.0      1.0  101.0       2.0   31.0          0.0   3600   \n",
       "...             ...      ...    ...       ...    ...          ...    ...   \n",
       "341318          4.0      1.0   78.0       6.0   22.0          1.0      0   \n",
       "341319          4.0      1.0  166.0       6.0   33.0          1.0   2200   \n",
       "341320          1.0      0.0  106.0       6.0   32.0          0.0   1199   \n",
       "341321          0.0      1.0  222.0       2.0   38.0          0.0   9200   \n",
       "341322          7.0      1.0  116.0       2.0   38.0          1.0   3400   \n",
       "\n",
       "        registrationyear  power  kilometer  registrationmonth  postalcode  \n",
       "0                   1993      0     150000                  0       70435  \n",
       "1                   2011    190     125000                  5       66954  \n",
       "2                   2004    163     125000                  8       90480  \n",
       "3                   2001     75     150000                  6       91074  \n",
       "4                   2008     69      90000                  7       60437  \n",
       "...                  ...    ...        ...                ...         ...  \n",
       "341318              2005      0     150000                  7        2694  \n",
       "341319              2005      0      20000                  1       39576  \n",
       "341320              2000    101     125000                  3       26135  \n",
       "341321              1996    102     150000                  3       87439  \n",
       "341322              2002    100     150000                  6       40764  \n",
       "\n",
       "[341323 rows x 12 columns]"
      ]
     },
     "metadata": {},
     "output_type": "display_data"
    }
   ],
   "source": [
    "enc = OrdinalEncoder()\n",
    "\n",
    "col_for_encoding = ['vehicletype', 'gearbox', 'model', 'fueltype', 'brand', 'notrepaired']\n",
    "col_notfor_encoding = ['price', 'registrationyear', 'power', 'kilometer', 'registrationmonth', 'postalcode']\n",
    "\n",
    "df_ordinal = enc.fit_transform(df[col_for_encoding])\n",
    "df_ordinal = pd.DataFrame(df_ordinal, columns=col_for_encoding)\n",
    "df_final = df_ordinal.join(df[col_notfor_encoding])\n",
    "\n",
    "display(df_ordinal)\n",
    "display(df[col_notfor_encoding])\n",
    "display(df_final)"
   ]
  },
  {
   "cell_type": "markdown",
   "metadata": {},
   "source": [
    "**Вывод:**\n",
    "1) Были рассмотрены выбросы в датафрейме по дате регистрации авто, мощности авто.\n",
    "\n",
    "2) По дате регистрации выбросы за рамками 1990 и 2022 гг. были исключены, т.к. мы строим модель для \"стандартного\" автомобиля, а машины, регистрацией ранее 1990 года и \"из будущего\" (позже 2022г.в.) не подходят для этой цели.\n",
    "\n",
    "3) Выбросы по мощности были ограничены диапазоном до 500 л.с., так как остальные - слишком выбивающие из выборки, нестандартные авто.\n",
    "\n",
    "4) Гистограмма распределений по пробегу показала огномный выброс в районе 150 тыс. км. и скошенность графика влево.\n",
    "\n",
    "5) Дополнительно была построена матрица корреляций признаков, которая показала, что цена в большей степени коррелирует с годом выпуска и мощностью двигателя (0,48 и 0,5) и имеет обратную зависимость от пробега (-0,35).\n",
    "\n",
    "6) С помощью OrdinalEncoder были преобразованы категориальные признаки.\n",
    "\n",
    "7) После \"очистки\" объем датафрейма сократился на - 3,7%"
   ]
  },
  {
   "cell_type": "markdown",
   "metadata": {},
   "source": [
    "## Обучение моделей"
   ]
  },
  {
   "cell_type": "markdown",
   "metadata": {},
   "source": [
    "1) разобьем датафрейм на тестовую и обучающую выборки\n",
    "\n",
    "\n",
    "2) обучим несколько моделей:\n",
    "\n",
    "* простейшую модель DummyRegressor\n",
    "* линейной регрессии\n",
    "* случайного леса\n",
    "* градиентного бустинга средствами библиотек LightGBM и CatBoost\n",
    "      \n",
    "3) для каждой модели рассчитаем: \n",
    "* время обучения и предсказания\n",
    "* RMSE на обучающей и тестовой выборках"
   ]
  },
  {
   "cell_type": "code",
   "execution_count": 44,
   "metadata": {},
   "outputs": [],
   "source": [
    "# разделим фичи и целевой признак\n",
    "target = df_final['price']\n",
    "features = df_final.drop('price', axis=1)\n",
    "\n",
    "# разобьем датафрейм на тестовую и обучающую выборки\n",
    "features_train, features_test, target_train, target_test = train_test_split(features,\n",
    "                                                                            target,\n",
    "                                                                            test_size=0.25,\n",
    "                                                                            random_state=1)\n",
    "# создадим пустой словарь, в который запишем результаты работы моделей\n",
    "results_dict = {'model':list(),\n",
    "                'fit_time':list(),\n",
    "                'score_time':list(),\n",
    "                'train_neg_root_mean_squared_error':list(),\n",
    "                'test_neg_root_mean_squared_error':list(),\n",
    "                'test_r2':list()}"
   ]
  },
  {
   "cell_type": "markdown",
   "metadata": {},
   "source": [
    "### Обучение Dummy-модели"
   ]
  },
  {
   "cell_type": "markdown",
   "metadata": {},
   "source": [
    "* используем DummyRegressor для проверки качества предсказаний наших моделей"
   ]
  },
  {
   "cell_type": "code",
   "execution_count": 26,
   "metadata": {},
   "outputs": [
    {
     "name": "stdout",
     "output_type": "stream",
     "text": [
      "Wall time: 212 ms\n"
     ]
    }
   ],
   "source": [
    "%%time\n",
    "dummy = DummyRegressor(strategy='mean')\n",
    "\n",
    "# кроссвалидацией вычислим метрику RMSE\n",
    "dummy_results = cross_validate(estimator=dummy,\n",
    "                               X=features,\n",
    "                               y=target,\n",
    "                               scoring=('r2','neg_root_mean_squared_error'),\n",
    "                               cv=5,\n",
    "                               return_train_score=True)"
   ]
  },
  {
   "cell_type": "code",
   "execution_count": 27,
   "metadata": {},
   "outputs": [
    {
     "name": "stdout",
     "output_type": "stream",
     "text": [
      "Метрики качества предсказаний DummyRegressor-модели: \n",
      "\n",
      "Среднее время обучения 1 модели                 | 0.023 с.\n",
      "Время предсказания и вычисления метрик качества | 0.002 с.\n",
      "RMSE на обучающей выборке                       | 4506.657 евро\n",
      "RMSE на тестовой выборке                        | 4506.649 евро\n",
      "R2 на тестовой выборке                          | -0.000\n"
     ]
    }
   ],
   "source": [
    "print('Метрики качества предсказаний DummyRegressor-модели: \\n')\n",
    "print(f'Среднее время обучения 1 модели                 | {dummy_results[\"fit_time\"].mean():.3f} с.')\n",
    "print(f'Время предсказания и вычисления метрик качества | {dummy_results[\"score_time\"].mean():.3f} с.')\n",
    "print(f'RMSE на обучающей выборке                       | {dummy_results[\"train_neg_root_mean_squared_error\"].mean()*-1:.3f} евро')\n",
    "print(f'RMSE на тестовой выборке                        | {dummy_results[\"test_neg_root_mean_squared_error\"].mean()*-1:.3f} евро')\n",
    "print(f'R2 на тестовой выборке                          | {dummy_results[\"test_r2\"].mean():.3f}')"
   ]
  },
  {
   "cell_type": "markdown",
   "metadata": {},
   "source": [
    "### Обучение модели линейной регрессии"
   ]
  },
  {
   "cell_type": "code",
   "execution_count": 28,
   "metadata": {},
   "outputs": [
    {
     "name": "stdout",
     "output_type": "stream",
     "text": [
      "Wall time: 885 ms\n"
     ]
    }
   ],
   "source": [
    "%%time\n",
    "# присвоим объекту lin_model структуру данных LinearRegression()\n",
    "lin_model = LinearRegression()\n",
    "\n",
    "# кроссвалидацией вычислим метрику RMSE\n",
    "lin_results = cross_validate(estimator=lin_model,\n",
    "                             X=features,\n",
    "                             y=target,\n",
    "                             scoring=('r2','neg_root_mean_squared_error'),\n",
    "                             cv=5,\n",
    "                             return_train_score=True)"
   ]
  },
  {
   "cell_type": "code",
   "execution_count": 29,
   "metadata": {},
   "outputs": [
    {
     "name": "stdout",
     "output_type": "stream",
     "text": [
      "Метрики качества предсказаний модели линейной регрессии: \n",
      "\n",
      "Среднее время обучения 1 модели                 | 0.133 с.\n",
      "Время предсказания и вычисления метрик качества | 0.007 с.\n",
      "RMSE на обучающей выборке                       | 2968.949 евро\n",
      "RMSE на тестовой выборке                        | 2969.170 евро\n",
      "R2 на тестовой выборке                          | 0.566\n"
     ]
    }
   ],
   "source": [
    "print('Метрики качества предсказаний модели линейной регрессии: \\n')\n",
    "print(f'Среднее время обучения 1 модели                 | {lin_results[\"fit_time\"].mean():.3f} с.')\n",
    "print(f'Время предсказания и вычисления метрик качества | {lin_results[\"score_time\"].mean():.3f} с.')\n",
    "print(f'RMSE на обучающей выборке                       | {lin_results[\"train_neg_root_mean_squared_error\"].mean()*-1:.3f} евро')\n",
    "print(f'RMSE на тестовой выборке                        | {lin_results[\"test_neg_root_mean_squared_error\"].mean()*-1:.3f} евро')\n",
    "print(f'R2 на тестовой выборке                          | {lin_results[\"test_r2\"].mean():.3f}')"
   ]
  },
  {
   "cell_type": "markdown",
   "metadata": {},
   "source": [
    "### Обучение модели случайного леса"
   ]
  },
  {
   "cell_type": "code",
   "execution_count": 30,
   "metadata": {},
   "outputs": [
    {
     "name": "stdout",
     "output_type": "stream",
     "text": [
      "Wall time: 4min 6s\n"
     ]
    }
   ],
   "source": [
    "%%time\n",
    "# присвоим объекту lin_model структуру данных LinearRegression()\n",
    "forest = RandomForestRegressor(random_state=1)\n",
    "\n",
    "# кроссвалидацией вычислим метрику RMSE\n",
    "forest_results = cross_validate(estimator=forest,\n",
    "                                X=features,\n",
    "                                y=target,\n",
    "                                scoring=('r2','neg_root_mean_squared_error'),\n",
    "                                cv=5,\n",
    "                                return_train_score=True,\n",
    "                                n_jobs =-1)"
   ]
  },
  {
   "cell_type": "code",
   "execution_count": 31,
   "metadata": {},
   "outputs": [
    {
     "name": "stdout",
     "output_type": "stream",
     "text": [
      "Метрики качества предсказаний модели RandomForest: \n",
      "\n",
      "Среднее время обучения 1 модели                 | 158.705 с.\n",
      "Время предсказания и вычисления метрик качества | 33.678 с.\n",
      "RMSE на обучающей выборке                       | 631.216 евро\n",
      "RMSE на тестовой выборке                        | 1641.727 евро\n",
      "R2 на тестовой выборке                          | 0.867\n"
     ]
    }
   ],
   "source": [
    "print('Метрики качества предсказаний модели RandomForest: \\n')\n",
    "print(f'Среднее время обучения 1 модели                 | {forest_results[\"fit_time\"].mean():.3f} с.')\n",
    "print(f'Время предсказания и вычисления метрик качества | {forest_results[\"score_time\"].mean():.3f} с.')\n",
    "print(f'RMSE на обучающей выборке                       | {forest_results[\"train_neg_root_mean_squared_error\"].mean()*-1:.3f} евро')\n",
    "print(f'RMSE на тестовой выборке                        | {forest_results[\"test_neg_root_mean_squared_error\"].mean()*-1:.3f} евро')\n",
    "print(f'R2 на тестовой выборке                          | {forest_results[\"test_r2\"].mean():.3f}')"
   ]
  },
  {
   "cell_type": "markdown",
   "metadata": {},
   "source": [
    "### Обучение модели CatBoost"
   ]
  },
  {
   "cell_type": "code",
   "execution_count": 32,
   "metadata": {
    "scrolled": true
   },
   "outputs": [
    {
     "name": "stdout",
     "output_type": "stream",
     "text": [
      "Wall time: 14.9 s\n"
     ]
    }
   ],
   "source": [
    "%%time\n",
    "ctb_model = CatBoostRegressor(loss_function='RMSE',\n",
    "                              iterations=100,\n",
    "                              random_state=1)\n",
    "\n",
    "# кроссвалидацией вычислим метрику RMSE\n",
    "ctb_results = cross_validate(estimator=ctb_model,\n",
    "                             X=features,\n",
    "                             y=target,\n",
    "                             scoring=('r2','neg_root_mean_squared_error'),\n",
    "                             cv=5,\n",
    "                             return_train_score=True,\n",
    "                             n_jobs =-1)"
   ]
  },
  {
   "cell_type": "code",
   "execution_count": 33,
   "metadata": {
    "scrolled": true
   },
   "outputs": [
    {
     "name": "stdout",
     "output_type": "stream",
     "text": [
      "Метрики качества предсказаний модели RandomForest: \n",
      "\n",
      "Среднее время обучения 1 модели                 | 9.931 с.\n",
      "Время предсказания и вычисления метрик качества | 0.028 с.\n",
      "RMSE на обучающей выборке                       | 1709.849 евро\n",
      "RMSE на тестовой выборке                        | 1746.459 евро\n",
      "R2 на тестовой выборке                          | 0.850\n"
     ]
    }
   ],
   "source": [
    "print('Метрики качества предсказаний модели RandomForest: \\n')\n",
    "print(f'Среднее время обучения 1 модели                 | {ctb_results[\"fit_time\"].mean():.3f} с.')\n",
    "print(f'Время предсказания и вычисления метрик качества | {ctb_results[\"score_time\"].mean():.3f} с.')\n",
    "print(f'RMSE на обучающей выборке                       | {ctb_results[\"train_neg_root_mean_squared_error\"].mean()*-1:.3f} евро')\n",
    "print(f'RMSE на тестовой выборке                        | {ctb_results[\"test_neg_root_mean_squared_error\"].mean()*-1:.3f} евро')\n",
    "print(f'R2 на тестовой выборке                          | {ctb_results[\"test_r2\"].mean():.3f}')"
   ]
  },
  {
   "cell_type": "markdown",
   "metadata": {},
   "source": [
    "### Обучение модели LightGBM"
   ]
  },
  {
   "cell_type": "code",
   "execution_count": 34,
   "metadata": {
    "scrolled": true
   },
   "outputs": [
    {
     "name": "stdout",
     "output_type": "stream",
     "text": [
      "Wall time: 1min 17s\n"
     ]
    }
   ],
   "source": [
    "%%time\n",
    "lgbmr = LGBMRegressor(random_state=1)\n",
    "\n",
    "# при помощи GridSearchCV подберем наилучшие гиперпараметры модели LGBMRegressor из предложенных в param_grid\n",
    "\n",
    "# параметры, которые будем перебирать в GridSearchCV\n",
    "parameters = {'num_leaves': [50, 100, 200],\n",
    "              'max_depth': [15,20,25]}\n",
    "\n",
    "# сам GridSearchCV. Целевой признак для оптимизации - 'neg_root_mean_squared_error'\n",
    "gs = GridSearchCV(estimator=lgbmr,\n",
    "                  param_grid=parameters,\n",
    "                  scoring=('r2','neg_root_mean_squared_error'),\n",
    "                  refit='neg_root_mean_squared_error',\n",
    "                  cv=5,\n",
    "                  return_train_score=True,\n",
    "                  n_jobs =-1)\n",
    "\n",
    "# передадим в модель фичи и целевой признак\n",
    "gs.fit(features,\n",
    "       target)\n",
    "\n",
    "# запишем в словарь результаты работы наилучшей модели на тестовой выборке\n",
    "lgbmr_results = {\"fit_time\": np.round(gs.cv_results_['mean_fit_time'].mean(), 3),\n",
    "                 'score_time': np.round(gs.cv_results_['mean_score_time'].mean(), 3),\n",
    "                 'train_neg_root_mean_squared_error': np.round(gs.cv_results_['mean_train_neg_root_mean_squared_error'].mean(), 3),\n",
    "                 'test_neg_root_mean_squared_error': np.round(gs.cv_results_['mean_test_neg_root_mean_squared_error'].mean(), 3),\n",
    "                 'test_r2': np.round(gs.cv_results_['mean_test_r2'].mean(), 3)\n",
    "                }"
   ]
  },
  {
   "cell_type": "code",
   "execution_count": 35,
   "metadata": {},
   "outputs": [
    {
     "name": "stdout",
     "output_type": "stream",
     "text": [
      "Метрики качества предсказаний модели LightGBMRegressor: \n",
      "\n",
      "Среднее время обучения 1 модели                 | 11.371 с.\n",
      "Время предсказания и вычисления метрик качества | 1.268 с.\n",
      "RMSE на обучающей выборке                       | 1613.187 евро\n",
      "RMSE на тестовой выборке                        | 1697.755 евро\n",
      "R2 на тестовой выборке                          | 0.858\n"
     ]
    }
   ],
   "source": [
    "print('Метрики качества предсказаний модели LightGBMRegressor: \\n')\n",
    "print(f'Среднее время обучения 1 модели                 | {lgbmr_results[\"fit_time\"].mean():.3f} с.')\n",
    "print(f'Время предсказания и вычисления метрик качества | {lgbmr_results[\"score_time\"].mean():.3f} с.')\n",
    "print(f'RMSE на обучающей выборке                       | {lgbmr_results[\"train_neg_root_mean_squared_error\"].mean()*-1:.3f} евро')\n",
    "print(f'RMSE на тестовой выборке                        | {lgbmr_results[\"test_neg_root_mean_squared_error\"].mean()*-1:.3f} евро')\n",
    "print(f'R2 на тестовой выборке                          | {lgbmr_results[\"test_r2\"].mean():.3f}')"
   ]
  },
  {
   "cell_type": "markdown",
   "metadata": {},
   "source": [
    "## Анализ моделей"
   ]
  },
  {
   "cell_type": "markdown",
   "metadata": {},
   "source": [
    "* циклом запишем результаты работы моделей в словарь, создадим датафрейм и выведем на экран"
   ]
  },
  {
   "cell_type": "code",
   "execution_count": 45,
   "metadata": {},
   "outputs": [
    {
     "data": {
      "text/html": [
       "<div>\n",
       "<style scoped>\n",
       "    .dataframe tbody tr th:only-of-type {\n",
       "        vertical-align: middle;\n",
       "    }\n",
       "\n",
       "    .dataframe tbody tr th {\n",
       "        vertical-align: top;\n",
       "    }\n",
       "\n",
       "    .dataframe thead th {\n",
       "        text-align: right;\n",
       "    }\n",
       "</style>\n",
       "<table border=\"1\" class=\"dataframe\">\n",
       "  <thead>\n",
       "    <tr style=\"text-align: right;\">\n",
       "      <th></th>\n",
       "      <th>model</th>\n",
       "      <th>fit_time</th>\n",
       "      <th>score_time</th>\n",
       "      <th>train_neg_root_mean_squared_error</th>\n",
       "      <th>test_neg_root_mean_squared_error</th>\n",
       "      <th>test_r2</th>\n",
       "    </tr>\n",
       "  </thead>\n",
       "  <tbody>\n",
       "    <tr>\n",
       "      <th>0</th>\n",
       "      <td>DummyRegressor</td>\n",
       "      <td>0.023</td>\n",
       "      <td>0.002</td>\n",
       "      <td>4506.657</td>\n",
       "      <td>4506.649</td>\n",
       "      <td>-0.000</td>\n",
       "    </tr>\n",
       "    <tr>\n",
       "      <th>1</th>\n",
       "      <td>LinearRegression</td>\n",
       "      <td>0.133</td>\n",
       "      <td>0.007</td>\n",
       "      <td>2968.949</td>\n",
       "      <td>2969.170</td>\n",
       "      <td>0.566</td>\n",
       "    </tr>\n",
       "    <tr>\n",
       "      <th>2</th>\n",
       "      <td>RandomForestRegressor</td>\n",
       "      <td>158.705</td>\n",
       "      <td>33.678</td>\n",
       "      <td>631.216</td>\n",
       "      <td>1641.727</td>\n",
       "      <td>0.867</td>\n",
       "    </tr>\n",
       "    <tr>\n",
       "      <th>3</th>\n",
       "      <td>CatBoostRegressor</td>\n",
       "      <td>9.931</td>\n",
       "      <td>0.028</td>\n",
       "      <td>1709.849</td>\n",
       "      <td>1746.459</td>\n",
       "      <td>0.850</td>\n",
       "    </tr>\n",
       "    <tr>\n",
       "      <th>4</th>\n",
       "      <td>LightGBMRegressor</td>\n",
       "      <td>11.371</td>\n",
       "      <td>1.268</td>\n",
       "      <td>1613.187</td>\n",
       "      <td>1697.755</td>\n",
       "      <td>0.858</td>\n",
       "    </tr>\n",
       "  </tbody>\n",
       "</table>\n",
       "</div>"
      ],
      "text/plain": [
       "                   model  fit_time  score_time  \\\n",
       "0         DummyRegressor     0.023       0.002   \n",
       "1       LinearRegression     0.133       0.007   \n",
       "2  RandomForestRegressor   158.705      33.678   \n",
       "3      CatBoostRegressor     9.931       0.028   \n",
       "4      LightGBMRegressor    11.371       1.268   \n",
       "\n",
       "   train_neg_root_mean_squared_error  test_neg_root_mean_squared_error  \\\n",
       "0                           4506.657                          4506.649   \n",
       "1                           2968.949                          2969.170   \n",
       "2                            631.216                          1641.727   \n",
       "3                           1709.849                          1746.459   \n",
       "4                           1613.187                          1697.755   \n",
       "\n",
       "   test_r2  \n",
       "0   -0.000  \n",
       "1    0.566  \n",
       "2    0.867  \n",
       "3    0.850  \n",
       "4    0.858  "
      ]
     },
     "metadata": {},
     "output_type": "display_data"
    }
   ],
   "source": [
    "# список переменных с рузультатами моделей\n",
    "\n",
    "mod = [dummy_results, lin_results, forest_results, ctb_results, lgbmr_results]\n",
    "mod_name = ['DummyRegressor', 'LinearRegression', 'RandomForestRegressor', 'CatBoostRegressor', 'LightGBMRegressor']\n",
    "\n",
    "for i in range(len(mod)):\n",
    "    results_dict['model'].append(mod_name[i])\n",
    "    results_dict['fit_time'].append(np.round(mod[i][\"fit_time\"].mean(), 3))\n",
    "    results_dict['score_time'].append(np.round(mod[i][\"score_time\"].mean(), 3))\n",
    "    results_dict['train_neg_root_mean_squared_error'].append(np.round(mod[i][\"train_neg_root_mean_squared_error\"].mean()*-1, 3))\n",
    "    results_dict['test_neg_root_mean_squared_error'].append(np.round(mod[i][\"test_neg_root_mean_squared_error\"].mean()*-1, 3))\n",
    "    results_dict['test_r2'].append(np.round(mod[i][\"test_r2\"].mean(), 3))\n",
    "    \n",
    "display(pd.DataFrame(results_dict))"
   ]
  },
  {
   "cell_type": "markdown",
   "metadata": {},
   "source": [
    "1. Были рассмотрены 4 модели машинного обучения:\n",
    "    * линейной регрессии\n",
    "    * случайного леса\n",
    "    * CatBoostRegressor\n",
    "    * LightGBMRegressor\n",
    "\n",
    "  Дополнительно построена Dummy-модель по среднему значению.\n",
    "\n",
    "\n",
    "2. Анализ моделей показал:\n",
    "\n",
    "    2.1 Результаты предсказаний модели линейной регрессии:\n",
    "    * `RMSE цены` (ст. отклонение) на тестовой выборке - `2 969 евро`\n",
    "    * `Коэффициент детерминации (R2)`, отражающий качество работы модели относительно Dummy-модели (предсказания по среднему), на уровне `0.566`.\n",
    "    * `Время обучения и предсказаний модели` с применением кросс-валидации - `менее 1 с`.\n",
    "    * Есть признаки переобучения, т.к. RMSE на обучающей и тестовых выборках очень близки.\n",
    "    \n",
    "    2.2 Результаты предсказаний модели случайного леса:\n",
    "    * `RMSE цены` (ст. отклонение) на тестовой выборке - `1 641 евро`\n",
    "    * `Коэффициент детерминации (R2)`, отражающий качество работы модели относительно Dummy-модели (предсказания по среднему), на уровне `0.867`.\n",
    "    * `Время обучения - около 3 минут - предсказаний` с применением кросс-валидации - `около 33 с.`\n",
    "    \n",
    "    2.3 Результаты предсказаний модели CatBoostRegressor:\n",
    "    * `RMSE цены` на тестовой выборке - `1 746 евро`\n",
    "    * `Коэффициент детерминации (R2)`, отражающий качество работы модели относительно Dummy-модели (предсказания по среднему), на уровне `0.850`.\n",
    "    * `Общее время обучения и предсказаний - менее 10 с.`\n",
    "    \n",
    "    2.4 Результаты предсказаний модели LightGBMRegressor:\n",
    "    * `RMSE цены` на тестовой выборке - `1 698 евро`\n",
    "    * `Коэффициент детерминации (R2)`, отражающий качество работы модели относительно Dummy-модели (предсказания по среднему), на уровне `0.858`.\n",
    "    * `Общее время обучения и предсказаний - менее 15 с.`\n",
    "    \n",
    "    2.5 `RMSE Dummy-модели` на тестовой выборке - `4506.649 евро`\n",
    "\n",
    "\n",
    "3. Видим, что наилучшей метрикой качества обладает модель случайного леса (RMSE - 1 641 евро) со средним временем обучения и предсказаний 1 модели около 3,5 минут. С точки зрения качества предсказаний далее идет LightGBMRegressor (RMSE - 1 698 евро), CatBoostRegressor (RMSE - 1 746 евро), линейная регрессия (RMSE - 2 969 евро). Время обучения соответственно <15 с., <10 с. и менее 1 с. \n",
    "    \n",
    "    Таким образом можно сделать вывод что, несмотря на схожесть полученных результатов работы всех рассматриваемых моделей, время, затраченное на обучение и предсказания, может сильно отличаться. \n",
    "    \n",
    "    Как итог, автором работы рекомендована модель LightGBMRegressor для определения стоимости автомобиля как наиболее оптимальная с точки зрения учета всех требований заказчика: скорость работы, качество предсказаний, время обучения."
   ]
  },
  {
   "cell_type": "markdown",
   "metadata": {},
   "source": [
    "## Итоги исследования"
   ]
  },
  {
   "cell_type": "markdown",
   "metadata": {},
   "source": [
    "**Определение стоимости автомобилей** - исследовательский проект, целью которого являлось построить модель машинного обучения для определения стоимости автомобиля с учетом требований заказчика (скорость, качество предсказаний, время обучения).\n",
    "\n",
    "Для достижения указанной цели были поставлены и решены следующие задачи:\n",
    "\n",
    "1. На первом этапе были загружены, проанализированы и предобработаны исходные данные;\n",
    "\n",
    "\n",
    "2. На втором этапе были обучены несколько моделей машинного обучения: DummyRegressor, линейная регрессия, случайный лес, CatBoostRegressor, LightGBMRegressor. Для каждой модели рассчитаны: время обучения и предсказания, RMSE на обучающей и тестовой выборках, R2-метрика для сравнения с Dummy-моделью.\n",
    "\n",
    "\n",
    "3. Анализ моделей показал:\n",
    "\n",
    "    3.1 Результаты предсказаний модели линейной регрессии:\n",
    "    * `RMSE цены` (ст. отклонение) на тестовой выборке - `2 969 евро`\n",
    "    * `Коэффициент детерминации (R2)`, отражающий качество работы модели относительно Dummy-модели (предсказания по среднему), на уровне `0.566`.\n",
    "    * `Время обучения и предсказаний модели` с применением кросс-валидации - `менее 1 с`.\n",
    "    * Есть признаки переобучения, т.к. RMSE на обучающей и тестовых выборках очень близки.\n",
    "    \n",
    "    3.2 Результаты предсказаний модели случайного леса:\n",
    "    * `RMSE цены` (ст. отклонение) на тестовой выборке - `1 641 евро`\n",
    "    * `Коэффициент детерминации (R2)`, отражающий качество работы модели относительно Dummy-модели (предсказания по среднему), на уровне `0.867`.\n",
    "    * `Время обучения - около 3 минут - предсказаний` с применением кросс-валидации - `около 33 с.`\n",
    "    \n",
    "    3.3 Результаты предсказаний модели CatBoostRegressor:\n",
    "    * `RMSE цены` на тестовой выборке - `1 746 евро`\n",
    "    * `Коэффициент детерминации (R2)`, отражающий качество работы модели относительно Dummy-модели (предсказания по среднему), на уровне `0.850`.\n",
    "    * `Общее время обучения и предсказаний - менее 10 с.`\n",
    "    \n",
    "    3.4 Результаты предсказаний модели LightGBMRegressor:\n",
    "    * `RMSE цены` на тестовой выборке - `1 698 евро`\n",
    "    * `Коэффициент детерминации (R2)`, отражающий качество работы модели относительно Dummy-модели (предсказания по среднему), на уровне `0.858`.\n",
    "    * `Общее время обучения и предсказаний - менее 15 с.`\n",
    "    \n",
    "    3.5 `RMSE Dummy-модели` на тестовой выборке - `4 507 евро`\n",
    "\n",
    "\n",
    "4. Наилучшую метрику качества показала модель случайного леса (RMSE - 1 641 евро) со средним временем обучения и предсказаний 1 модели около 3,5 минут. С точки зрения качества предсказаний далее идет LightGBMRegressor (RMSE - 1 698 евро), CatBoostRegressor (RMSE - 1 746 евро), линейная регрессия (RMSE - 2 969 евро). Время обучения соответственно <15 с., <10 с. и менее 1 с. \n",
    "    \n",
    "    Таким образом можно сделать вывод что, несмотря на схожесть полученных результатов работы всех рассматриваемых моделей, время, затраченное на обучение и предсказания, может сильно отличаться. \n",
    "    \n",
    "    Как итог, автором работы рекомендована модель LightGBMRegressor для определения стоимости автомобиля как наиболее оптимальная с точки зрения учета всех требований заказчика: скорость работы, качество предсказаний, время обучения."
   ]
  }
 ],
 "metadata": {
  "ExecuteTimeLog": [
   {
    "duration": 516,
    "start_time": "2022-04-25T07:59:04.519Z"
   },
   {
    "duration": 1199,
    "start_time": "2022-04-25T07:59:24.313Z"
   },
   {
    "duration": 1416,
    "start_time": "2022-04-25T07:59:50.958Z"
   },
   {
    "duration": 1591,
    "start_time": "2022-04-25T08:00:01.247Z"
   },
   {
    "duration": 1607,
    "start_time": "2022-04-25T08:00:11.959Z"
   },
   {
    "duration": 1709,
    "start_time": "2022-04-25T08:00:26.293Z"
   },
   {
    "duration": 1576,
    "start_time": "2022-04-25T08:00:40.465Z"
   },
   {
    "duration": 176,
    "start_time": "2022-04-25T08:04:09.382Z"
   },
   {
    "duration": 6,
    "start_time": "2022-04-25T09:21:17.454Z"
   },
   {
    "duration": 104,
    "start_time": "2022-04-25T09:36:00.931Z"
   },
   {
    "duration": 2504,
    "start_time": "2022-04-25T09:36:17.925Z"
   },
   {
    "duration": 7,
    "start_time": "2022-04-25T09:36:37.399Z"
   },
   {
    "duration": 1963,
    "start_time": "2022-04-25T10:58:34.294Z"
   },
   {
    "duration": 291,
    "start_time": "2022-04-25T10:59:11.319Z"
   },
   {
    "duration": 796,
    "start_time": "2022-04-25T11:39:38.369Z"
   },
   {
    "duration": 630,
    "start_time": "2022-04-25T11:39:56.971Z"
   },
   {
    "duration": 2037,
    "start_time": "2022-04-25T11:40:09.755Z"
   },
   {
    "duration": 1348,
    "start_time": "2022-04-25T11:41:44.266Z"
   },
   {
    "duration": 1264,
    "start_time": "2022-04-25T11:41:53.195Z"
   },
   {
    "duration": 109569,
    "start_time": "2022-05-05T19:29:44.854Z"
   },
   {
    "duration": 0,
    "start_time": "2022-05-05T19:31:34.425Z"
   },
   {
    "duration": 13,
    "start_time": "2022-05-05T19:31:45.067Z"
   },
   {
    "duration": 34616,
    "start_time": "2022-05-05T19:33:17.598Z"
   },
   {
    "duration": 3329,
    "start_time": "2022-05-05T19:39:33.764Z"
   },
   {
    "duration": 15104,
    "start_time": "2022-05-05T19:39:46.552Z"
   },
   {
    "duration": 1177,
    "start_time": "2022-05-05T19:40:50.328Z"
   },
   {
    "duration": 1387,
    "start_time": "2022-05-05T19:41:13.661Z"
   },
   {
    "duration": 3374,
    "start_time": "2022-05-05T19:42:54.854Z"
   },
   {
    "duration": 8628,
    "start_time": "2022-05-05T19:42:58.232Z"
   },
   {
    "duration": 1500,
    "start_time": "2022-05-05T19:43:06.863Z"
   },
   {
    "duration": 2308,
    "start_time": "2022-05-05T19:43:08.366Z"
   },
   {
    "duration": 1703,
    "start_time": "2022-05-05T19:43:10.677Z"
   },
   {
    "duration": 792,
    "start_time": "2022-05-05T19:43:12.383Z"
   },
   {
    "duration": 7,
    "start_time": "2022-05-05T19:43:13.176Z"
   },
   {
    "duration": 55,
    "start_time": "2022-05-05T19:43:13.185Z"
   },
   {
    "duration": 1765,
    "start_time": "2022-05-05T19:43:13.242Z"
   },
   {
    "duration": 91,
    "start_time": "2022-05-05T19:43:15.012Z"
   },
   {
    "duration": 100,
    "start_time": "2022-05-05T19:43:15.105Z"
   },
   {
    "duration": 96,
    "start_time": "2022-05-05T19:43:15.207Z"
   },
   {
    "duration": 98,
    "start_time": "2022-05-05T19:43:15.305Z"
   },
   {
    "duration": 1765,
    "start_time": "2022-05-05T19:43:15.406Z"
   },
   {
    "duration": 4,
    "start_time": "2022-05-05T19:43:17.174Z"
   },
   {
    "duration": 332,
    "start_time": "2022-05-05T19:43:17.180Z"
   },
   {
    "duration": 270,
    "start_time": "2022-05-05T19:43:17.514Z"
   },
   {
    "duration": 804,
    "start_time": "2022-05-05T19:43:17.786Z"
   },
   {
    "duration": 12,
    "start_time": "2022-05-05T19:43:18.592Z"
   },
   {
    "duration": 184,
    "start_time": "2022-05-05T19:43:18.606Z"
   },
   {
    "duration": 7,
    "start_time": "2022-05-05T19:43:18.792Z"
   },
   {
    "duration": 2345,
    "start_time": "2022-05-05T19:43:18.801Z"
   },
   {
    "duration": 85,
    "start_time": "2022-05-05T19:43:21.149Z"
   },
   {
    "duration": 781850,
    "start_time": "2022-05-05T19:43:21.237Z"
   },
   {
    "duration": 5,
    "start_time": "2022-05-05T19:56:23.089Z"
   },
   {
    "duration": 541902,
    "start_time": "2022-05-05T19:56:23.096Z"
   },
   {
    "duration": 43,
    "start_time": "2022-05-05T20:05:25.001Z"
   },
   {
    "duration": 11,
    "start_time": "2022-05-05T20:05:25.048Z"
   },
   {
    "duration": 102373,
    "start_time": "2022-05-05T20:05:25.061Z"
   },
   {
    "duration": 4,
    "start_time": "2022-05-05T20:07:07.436Z"
   },
   {
    "duration": 172,
    "start_time": "2022-05-05T20:07:55.580Z"
   },
   {
    "duration": 14,
    "start_time": "2022-05-05T20:32:06.182Z"
   },
   {
    "duration": 5,
    "start_time": "2022-05-05T20:33:45.746Z"
   },
   {
    "duration": 9,
    "start_time": "2022-05-05T20:33:53.580Z"
   },
   {
    "duration": 5,
    "start_time": "2022-05-05T20:34:09.021Z"
   },
   {
    "duration": 10,
    "start_time": "2022-05-05T20:34:19.806Z"
   },
   {
    "duration": 152,
    "start_time": "2022-05-05T20:34:41.094Z"
   },
   {
    "duration": 5,
    "start_time": "2022-05-05T20:34:47.645Z"
   },
   {
    "duration": 165,
    "start_time": "2022-05-05T21:04:25.938Z"
   },
   {
    "duration": 4,
    "start_time": "2022-05-05T21:04:47.231Z"
   },
   {
    "duration": 3,
    "start_time": "2022-05-05T21:05:06.183Z"
   },
   {
    "duration": 2112,
    "start_time": "2022-05-05T21:09:49.933Z"
   },
   {
    "duration": 6,
    "start_time": "2022-05-05T21:09:53.755Z"
   },
   {
    "duration": 227,
    "start_time": "2022-05-05T21:14:44.914Z"
   },
   {
    "duration": 10846,
    "start_time": "2022-05-05T21:14:54.320Z"
   },
   {
    "duration": 271,
    "start_time": "2022-05-05T21:15:38.248Z"
   },
   {
    "duration": 12,
    "start_time": "2022-05-05T21:15:54.656Z"
   },
   {
    "duration": 2886,
    "start_time": "2022-05-05T21:15:59.668Z"
   },
   {
    "duration": 7447,
    "start_time": "2022-05-05T21:16:02.556Z"
   },
   {
    "duration": 1265,
    "start_time": "2022-05-05T21:16:10.005Z"
   },
   {
    "duration": 1955,
    "start_time": "2022-05-05T21:16:11.272Z"
   },
   {
    "duration": 1420,
    "start_time": "2022-05-05T21:16:13.229Z"
   },
   {
    "duration": 859,
    "start_time": "2022-05-05T21:16:14.651Z"
   },
   {
    "duration": 7,
    "start_time": "2022-05-05T21:16:15.512Z"
   },
   {
    "duration": 48,
    "start_time": "2022-05-05T21:16:15.521Z"
   },
   {
    "duration": 1422,
    "start_time": "2022-05-05T21:16:15.571Z"
   },
   {
    "duration": 55,
    "start_time": "2022-05-05T21:16:16.996Z"
   },
   {
    "duration": 85,
    "start_time": "2022-05-05T21:16:17.053Z"
   },
   {
    "duration": 54,
    "start_time": "2022-05-05T21:16:17.140Z"
   },
   {
    "duration": 67,
    "start_time": "2022-05-05T21:16:17.195Z"
   },
   {
    "duration": 1364,
    "start_time": "2022-05-05T21:16:17.264Z"
   },
   {
    "duration": 4,
    "start_time": "2022-05-05T21:16:18.633Z"
   },
   {
    "duration": 362,
    "start_time": "2022-05-05T21:16:18.638Z"
   },
   {
    "duration": 200,
    "start_time": "2022-05-05T21:16:19.002Z"
   },
   {
    "duration": 646,
    "start_time": "2022-05-05T21:16:19.204Z"
   },
   {
    "duration": 17,
    "start_time": "2022-05-05T21:16:19.851Z"
   },
   {
    "duration": 152,
    "start_time": "2022-05-05T21:16:19.869Z"
   },
   {
    "duration": 13,
    "start_time": "2022-05-05T21:16:20.023Z"
   },
   {
    "duration": 2598,
    "start_time": "2022-05-05T21:16:20.038Z"
   },
   {
    "duration": 97,
    "start_time": "2022-05-05T21:16:22.639Z"
   },
   {
    "duration": 226,
    "start_time": "2022-05-05T21:27:38.919Z"
   },
   {
    "duration": 2668,
    "start_time": "2022-05-05T21:27:59.692Z"
   },
   {
    "duration": 10119,
    "start_time": "2022-05-05T21:28:02.363Z"
   },
   {
    "duration": 1137,
    "start_time": "2022-05-05T21:28:12.484Z"
   },
   {
    "duration": 1755,
    "start_time": "2022-05-05T21:28:13.633Z"
   },
   {
    "duration": 1358,
    "start_time": "2022-05-05T21:28:15.390Z"
   },
   {
    "duration": 820,
    "start_time": "2022-05-05T21:28:16.750Z"
   },
   {
    "duration": 5,
    "start_time": "2022-05-05T21:28:17.572Z"
   },
   {
    "duration": 33,
    "start_time": "2022-05-05T21:28:17.579Z"
   },
   {
    "duration": 1225,
    "start_time": "2022-05-05T21:28:17.614Z"
   },
   {
    "duration": 46,
    "start_time": "2022-05-05T21:28:18.842Z"
   },
   {
    "duration": 91,
    "start_time": "2022-05-05T21:28:18.890Z"
   },
   {
    "duration": 64,
    "start_time": "2022-05-05T21:28:18.983Z"
   },
   {
    "duration": 38,
    "start_time": "2022-05-05T21:28:19.049Z"
   },
   {
    "duration": 1204,
    "start_time": "2022-05-05T21:28:19.089Z"
   },
   {
    "duration": 4,
    "start_time": "2022-05-05T21:28:20.295Z"
   },
   {
    "duration": 344,
    "start_time": "2022-05-05T21:28:20.300Z"
   },
   {
    "duration": 187,
    "start_time": "2022-05-05T21:28:20.646Z"
   },
   {
    "duration": 559,
    "start_time": "2022-05-05T21:28:20.835Z"
   },
   {
    "duration": 15,
    "start_time": "2022-05-05T21:28:21.396Z"
   },
   {
    "duration": 121,
    "start_time": "2022-05-05T21:28:21.433Z"
   },
   {
    "duration": 5,
    "start_time": "2022-05-05T21:28:21.556Z"
   },
   {
    "duration": 2371,
    "start_time": "2022-05-05T21:28:21.563Z"
   },
   {
    "duration": 98,
    "start_time": "2022-05-05T21:28:23.936Z"
   },
   {
    "duration": 52,
    "start_time": "2022-05-05T21:31:28.397Z"
   },
   {
    "duration": 2680,
    "start_time": "2022-05-05T21:31:38.697Z"
   },
   {
    "duration": 10059,
    "start_time": "2022-05-05T21:31:41.380Z"
   },
   {
    "duration": 1155,
    "start_time": "2022-05-05T21:31:51.441Z"
   },
   {
    "duration": 1720,
    "start_time": "2022-05-05T21:31:52.598Z"
   },
   {
    "duration": 1419,
    "start_time": "2022-05-05T21:31:54.322Z"
   },
   {
    "duration": 796,
    "start_time": "2022-05-05T21:31:55.743Z"
   },
   {
    "duration": 5,
    "start_time": "2022-05-05T21:31:56.542Z"
   },
   {
    "duration": 32,
    "start_time": "2022-05-05T21:31:56.549Z"
   },
   {
    "duration": 1234,
    "start_time": "2022-05-05T21:31:56.583Z"
   },
   {
    "duration": 50,
    "start_time": "2022-05-05T21:31:57.819Z"
   },
   {
    "duration": 81,
    "start_time": "2022-05-05T21:31:57.870Z"
   },
   {
    "duration": 52,
    "start_time": "2022-05-05T21:31:57.953Z"
   },
   {
    "duration": 55,
    "start_time": "2022-05-05T21:31:58.007Z"
   },
   {
    "duration": 1218,
    "start_time": "2022-05-05T21:31:58.065Z"
   },
   {
    "duration": 4,
    "start_time": "2022-05-05T21:31:59.285Z"
   },
   {
    "duration": 332,
    "start_time": "2022-05-05T21:31:59.290Z"
   },
   {
    "duration": 188,
    "start_time": "2022-05-05T21:31:59.624Z"
   },
   {
    "duration": 590,
    "start_time": "2022-05-05T21:31:59.814Z"
   },
   {
    "duration": 12,
    "start_time": "2022-05-05T21:32:00.405Z"
   },
   {
    "duration": 138,
    "start_time": "2022-05-05T21:32:00.419Z"
   },
   {
    "duration": 6,
    "start_time": "2022-05-05T21:32:00.559Z"
   },
   {
    "duration": 2180,
    "start_time": "2022-05-05T21:32:00.566Z"
   },
   {
    "duration": 5,
    "start_time": "2022-05-05T21:32:02.835Z"
   },
   {
    "duration": 2715,
    "start_time": "2022-05-05T21:38:14.499Z"
   },
   {
    "duration": 10595,
    "start_time": "2022-05-05T21:38:17.217Z"
   },
   {
    "duration": 1254,
    "start_time": "2022-05-05T21:38:27.814Z"
   },
   {
    "duration": 1856,
    "start_time": "2022-05-05T21:38:29.070Z"
   },
   {
    "duration": 1649,
    "start_time": "2022-05-05T21:38:30.934Z"
   },
   {
    "duration": 849,
    "start_time": "2022-05-05T21:38:32.585Z"
   },
   {
    "duration": 6,
    "start_time": "2022-05-05T21:38:33.435Z"
   },
   {
    "duration": 35,
    "start_time": "2022-05-05T21:38:33.444Z"
   },
   {
    "duration": 1396,
    "start_time": "2022-05-05T21:38:33.481Z"
   },
   {
    "duration": 71,
    "start_time": "2022-05-05T21:38:34.879Z"
   },
   {
    "duration": 73,
    "start_time": "2022-05-05T21:38:34.952Z"
   },
   {
    "duration": 59,
    "start_time": "2022-05-05T21:38:35.027Z"
   },
   {
    "duration": 69,
    "start_time": "2022-05-05T21:38:35.088Z"
   },
   {
    "duration": 1415,
    "start_time": "2022-05-05T21:38:35.162Z"
   },
   {
    "duration": 4,
    "start_time": "2022-05-05T21:38:36.578Z"
   },
   {
    "duration": 374,
    "start_time": "2022-05-05T21:38:36.584Z"
   },
   {
    "duration": 209,
    "start_time": "2022-05-05T21:38:36.960Z"
   },
   {
    "duration": 653,
    "start_time": "2022-05-05T21:38:37.170Z"
   },
   {
    "duration": 22,
    "start_time": "2022-05-05T21:38:37.833Z"
   },
   {
    "duration": 143,
    "start_time": "2022-05-05T21:38:37.856Z"
   },
   {
    "duration": 5,
    "start_time": "2022-05-05T21:38:38.001Z"
   },
   {
    "duration": 2141,
    "start_time": "2022-05-05T21:38:38.008Z"
   },
   {
    "duration": 85,
    "start_time": "2022-05-05T21:38:40.151Z"
   },
   {
    "duration": 202,
    "start_time": "2022-05-05T21:52:32.249Z"
   },
   {
    "duration": 2703,
    "start_time": "2022-05-05T21:52:58.368Z"
   },
   {
    "duration": 10202,
    "start_time": "2022-05-05T21:53:01.074Z"
   },
   {
    "duration": 1080,
    "start_time": "2022-05-05T21:53:11.278Z"
   },
   {
    "duration": 1731,
    "start_time": "2022-05-05T21:53:12.360Z"
   },
   {
    "duration": 1331,
    "start_time": "2022-05-05T21:53:14.094Z"
   },
   {
    "duration": 754,
    "start_time": "2022-05-05T21:53:15.427Z"
   },
   {
    "duration": 6,
    "start_time": "2022-05-05T21:53:16.182Z"
   },
   {
    "duration": 32,
    "start_time": "2022-05-05T21:53:16.189Z"
   },
   {
    "duration": 1262,
    "start_time": "2022-05-05T21:53:16.222Z"
   },
   {
    "duration": 58,
    "start_time": "2022-05-05T21:53:17.485Z"
   },
   {
    "duration": 62,
    "start_time": "2022-05-05T21:53:17.544Z"
   },
   {
    "duration": 67,
    "start_time": "2022-05-05T21:53:17.608Z"
   },
   {
    "duration": 38,
    "start_time": "2022-05-05T21:53:17.677Z"
   },
   {
    "duration": 1208,
    "start_time": "2022-05-05T21:53:17.718Z"
   },
   {
    "duration": 4,
    "start_time": "2022-05-05T21:53:18.932Z"
   },
   {
    "duration": 331,
    "start_time": "2022-05-05T21:53:18.938Z"
   },
   {
    "duration": 186,
    "start_time": "2022-05-05T21:53:19.271Z"
   },
   {
    "duration": 600,
    "start_time": "2022-05-05T21:53:19.459Z"
   },
   {
    "duration": 16,
    "start_time": "2022-05-05T21:53:20.060Z"
   },
   {
    "duration": 132,
    "start_time": "2022-05-05T21:53:20.077Z"
   },
   {
    "duration": 5,
    "start_time": "2022-05-05T21:53:20.211Z"
   },
   {
    "duration": 2317,
    "start_time": "2022-05-05T21:53:20.217Z"
   },
   {
    "duration": 94,
    "start_time": "2022-05-05T21:53:22.541Z"
   },
   {
    "duration": 2594,
    "start_time": "2022-05-05T21:57:16.119Z"
   },
   {
    "duration": 10085,
    "start_time": "2022-05-05T21:57:18.715Z"
   },
   {
    "duration": 1092,
    "start_time": "2022-05-05T21:57:28.802Z"
   },
   {
    "duration": 1715,
    "start_time": "2022-05-05T21:57:29.896Z"
   },
   {
    "duration": 1321,
    "start_time": "2022-05-05T21:57:31.614Z"
   },
   {
    "duration": 758,
    "start_time": "2022-05-05T21:57:32.937Z"
   },
   {
    "duration": 7,
    "start_time": "2022-05-05T21:57:33.697Z"
   },
   {
    "duration": 42,
    "start_time": "2022-05-05T21:57:33.706Z"
   },
   {
    "duration": 1242,
    "start_time": "2022-05-05T21:57:33.750Z"
   },
   {
    "duration": 52,
    "start_time": "2022-05-05T21:57:34.994Z"
   },
   {
    "duration": 67,
    "start_time": "2022-05-05T21:57:35.048Z"
   },
   {
    "duration": 65,
    "start_time": "2022-05-05T21:57:35.116Z"
   },
   {
    "duration": 54,
    "start_time": "2022-05-05T21:57:35.183Z"
   },
   {
    "duration": 1181,
    "start_time": "2022-05-05T21:57:35.240Z"
   },
   {
    "duration": 3,
    "start_time": "2022-05-05T21:57:36.423Z"
   },
   {
    "duration": 334,
    "start_time": "2022-05-05T21:57:36.434Z"
   },
   {
    "duration": 178,
    "start_time": "2022-05-05T21:57:36.770Z"
   },
   {
    "duration": 578,
    "start_time": "2022-05-05T21:57:36.949Z"
   },
   {
    "duration": 12,
    "start_time": "2022-05-05T21:57:37.528Z"
   },
   {
    "duration": 135,
    "start_time": "2022-05-05T21:57:37.542Z"
   },
   {
    "duration": 4,
    "start_time": "2022-05-05T21:57:37.679Z"
   },
   {
    "duration": 2357,
    "start_time": "2022-05-05T21:57:37.685Z"
   },
   {
    "duration": 92,
    "start_time": "2022-05-05T21:57:40.044Z"
   },
   {
    "duration": 228,
    "start_time": "2022-05-05T22:02:47.624Z"
   },
   {
    "duration": 2782,
    "start_time": "2022-05-05T22:02:57.877Z"
   },
   {
    "duration": 10341,
    "start_time": "2022-05-05T22:03:00.662Z"
   },
   {
    "duration": 1097,
    "start_time": "2022-05-05T22:03:11.005Z"
   },
   {
    "duration": 1707,
    "start_time": "2022-05-05T22:03:12.104Z"
   },
   {
    "duration": 1330,
    "start_time": "2022-05-05T22:03:13.813Z"
   },
   {
    "duration": 736,
    "start_time": "2022-05-05T22:03:15.144Z"
   },
   {
    "duration": 5,
    "start_time": "2022-05-05T22:03:15.882Z"
   },
   {
    "duration": 30,
    "start_time": "2022-05-05T22:03:15.888Z"
   },
   {
    "duration": 1263,
    "start_time": "2022-05-05T22:03:15.932Z"
   },
   {
    "duration": 51,
    "start_time": "2022-05-05T22:03:17.198Z"
   },
   {
    "duration": 66,
    "start_time": "2022-05-05T22:03:17.251Z"
   },
   {
    "duration": 50,
    "start_time": "2022-05-05T22:03:17.334Z"
   },
   {
    "duration": 54,
    "start_time": "2022-05-05T22:03:17.386Z"
   },
   {
    "duration": 1230,
    "start_time": "2022-05-05T22:03:17.441Z"
   },
   {
    "duration": 3,
    "start_time": "2022-05-05T22:03:18.673Z"
   },
   {
    "duration": 330,
    "start_time": "2022-05-05T22:03:18.678Z"
   },
   {
    "duration": 186,
    "start_time": "2022-05-05T22:03:19.010Z"
   },
   {
    "duration": 608,
    "start_time": "2022-05-05T22:03:19.198Z"
   },
   {
    "duration": 12,
    "start_time": "2022-05-05T22:03:19.807Z"
   },
   {
    "duration": 131,
    "start_time": "2022-05-05T22:03:19.821Z"
   },
   {
    "duration": 5,
    "start_time": "2022-05-05T22:03:19.954Z"
   },
   {
    "duration": 2373,
    "start_time": "2022-05-05T22:03:19.961Z"
   },
   {
    "duration": 97,
    "start_time": "2022-05-05T22:03:22.337Z"
   },
   {
    "duration": 79,
    "start_time": "2022-05-05T22:03:22.436Z"
   },
   {
    "duration": 0,
    "start_time": "2022-05-05T22:03:22.516Z"
   },
   {
    "duration": 0,
    "start_time": "2022-05-05T22:03:22.534Z"
   },
   {
    "duration": 0,
    "start_time": "2022-05-05T22:03:22.536Z"
   },
   {
    "duration": 0,
    "start_time": "2022-05-05T22:03:22.537Z"
   },
   {
    "duration": 0,
    "start_time": "2022-05-05T22:03:22.539Z"
   },
   {
    "duration": 0,
    "start_time": "2022-05-05T22:03:22.540Z"
   },
   {
    "duration": 567786,
    "start_time": "2022-05-05T22:04:28.361Z"
   },
   {
    "duration": 43,
    "start_time": "2022-05-05T22:13:56.149Z"
   },
   {
    "duration": 7,
    "start_time": "2022-05-05T22:13:56.194Z"
   },
   {
    "duration": 749841,
    "start_time": "2022-05-05T22:13:56.203Z"
   },
   {
    "duration": 5,
    "start_time": "2022-05-05T22:26:26.046Z"
   },
   {
    "duration": 72,
    "start_time": "2022-05-06T05:58:34.062Z"
   },
   {
    "duration": 10,
    "start_time": "2022-05-06T05:58:45.004Z"
   },
   {
    "duration": 15241,
    "start_time": "2022-05-06T05:59:10.948Z"
   },
   {
    "duration": 1400,
    "start_time": "2022-05-06T05:59:26.194Z"
   },
   {
    "duration": 117,
    "start_time": "2022-05-06T05:59:29.462Z"
   },
   {
    "duration": 728,
    "start_time": "2022-05-06T05:59:43.902Z"
   },
   {
    "duration": 2664,
    "start_time": "2022-05-06T05:59:54.433Z"
   },
   {
    "duration": 2628,
    "start_time": "2022-05-06T06:00:01.370Z"
   },
   {
    "duration": 3121,
    "start_time": "2022-05-06T06:00:21.579Z"
   },
   {
    "duration": 2763,
    "start_time": "2022-05-06T06:00:29.620Z"
   },
   {
    "duration": 709,
    "start_time": "2022-05-06T06:04:51.992Z"
   },
   {
    "duration": 6,
    "start_time": "2022-05-06T06:04:58.294Z"
   },
   {
    "duration": 55,
    "start_time": "2022-05-06T06:11:12.381Z"
   },
   {
    "duration": 1815,
    "start_time": "2022-05-06T06:11:14.792Z"
   },
   {
    "duration": 23,
    "start_time": "2022-05-06T06:12:59.335Z"
   },
   {
    "duration": 37,
    "start_time": "2022-05-06T06:13:30.451Z"
   },
   {
    "duration": 65,
    "start_time": "2022-05-06T12:08:48.640Z"
   },
   {
    "duration": 73,
    "start_time": "2022-05-06T12:10:13.683Z"
   },
   {
    "duration": 61,
    "start_time": "2022-05-06T12:10:23.802Z"
   },
   {
    "duration": 74,
    "start_time": "2022-05-06T12:10:47.768Z"
   },
   {
    "duration": 6,
    "start_time": "2022-05-06T12:12:21.863Z"
   },
   {
    "duration": 7,
    "start_time": "2022-05-06T12:12:30.327Z"
   },
   {
    "duration": 6,
    "start_time": "2022-05-06T12:12:40.672Z"
   },
   {
    "duration": 9,
    "start_time": "2022-05-06T12:12:57.496Z"
   },
   {
    "duration": 11,
    "start_time": "2022-05-06T12:13:19.641Z"
   },
   {
    "duration": 6,
    "start_time": "2022-05-06T12:13:36.519Z"
   },
   {
    "duration": 50,
    "start_time": "2022-05-06T12:14:10.414Z"
   },
   {
    "duration": 5,
    "start_time": "2022-05-06T12:14:17.897Z"
   },
   {
    "duration": 18,
    "start_time": "2022-05-06T12:24:40.014Z"
   },
   {
    "duration": 32,
    "start_time": "2022-05-06T12:30:27.466Z"
   },
   {
    "duration": 59,
    "start_time": "2022-05-06T12:30:32.630Z"
   },
   {
    "duration": 21,
    "start_time": "2022-05-06T12:30:38.893Z"
   },
   {
    "duration": 16,
    "start_time": "2022-05-06T12:30:52.031Z"
   },
   {
    "duration": 20,
    "start_time": "2022-05-06T12:38:28.999Z"
   },
   {
    "duration": 10,
    "start_time": "2022-05-06T12:38:55.114Z"
   },
   {
    "duration": 13,
    "start_time": "2022-05-06T12:39:09.213Z"
   },
   {
    "duration": 43,
    "start_time": "2022-05-06T12:39:35.550Z"
   },
   {
    "duration": 100,
    "start_time": "2022-05-06T12:39:46.106Z"
   },
   {
    "duration": 88,
    "start_time": "2022-05-06T12:40:06.353Z"
   },
   {
    "duration": 103,
    "start_time": "2022-05-06T12:40:30.781Z"
   },
   {
    "duration": 104,
    "start_time": "2022-05-06T12:41:01.206Z"
   },
   {
    "duration": 103,
    "start_time": "2022-05-06T12:48:56.810Z"
   },
   {
    "duration": 101,
    "start_time": "2022-05-06T12:50:46.140Z"
   },
   {
    "duration": 100,
    "start_time": "2022-05-06T12:57:41.948Z"
   },
   {
    "duration": 815,
    "start_time": "2022-05-06T13:01:49.844Z"
   },
   {
    "duration": 5,
    "start_time": "2022-05-06T13:02:06.093Z"
   },
   {
    "duration": 44,
    "start_time": "2022-05-06T13:02:20.465Z"
   },
   {
    "duration": 5,
    "start_time": "2022-05-06T13:15:51.522Z"
   },
   {
    "duration": 27,
    "start_time": "2022-05-06T13:16:37.537Z"
   },
   {
    "duration": 172,
    "start_time": "2022-05-06T13:16:51.272Z"
   },
   {
    "duration": 183,
    "start_time": "2022-05-06T13:19:00.418Z"
   },
   {
    "duration": 5,
    "start_time": "2022-05-06T13:19:19.932Z"
   },
   {
    "duration": 177,
    "start_time": "2022-05-06T13:19:21.910Z"
   },
   {
    "duration": 4,
    "start_time": "2022-05-09T15:15:31.069Z"
   },
   {
    "duration": 171,
    "start_time": "2022-05-09T18:17:36.681Z"
   },
   {
    "duration": 29,
    "start_time": "2022-05-09T18:18:08.644Z"
   },
   {
    "duration": 30,
    "start_time": "2022-05-09T18:18:20.039Z"
   }
  ],
  "kernelspec": {
   "display_name": "Python 3 (ipykernel)",
   "language": "python",
   "name": "python3"
  },
  "language_info": {
   "codemirror_mode": {
    "name": "ipython",
    "version": 3
   },
   "file_extension": ".py",
   "mimetype": "text/x-python",
   "name": "python",
   "nbconvert_exporter": "python",
   "pygments_lexer": "ipython3",
   "version": "3.9.7"
  },
  "toc": {
   "base_numbering": 1,
   "nav_menu": {},
   "number_sections": true,
   "sideBar": true,
   "skip_h1_title": true,
   "title_cell": "Содержание",
   "title_sidebar": "Содержаниe",
   "toc_cell": true,
   "toc_position": {
    "height": "calc(100% - 180px)",
    "left": "10px",
    "top": "150px",
    "width": "286px"
   },
   "toc_section_display": true,
   "toc_window_display": true
  }
 },
 "nbformat": 4,
 "nbformat_minor": 2
}
