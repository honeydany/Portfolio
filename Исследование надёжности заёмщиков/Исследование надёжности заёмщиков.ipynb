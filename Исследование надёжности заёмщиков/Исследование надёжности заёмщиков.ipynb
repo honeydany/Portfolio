{
 "cells": [
  {
   "cell_type": "markdown",
   "metadata": {},
   "source": [
    "# Исследование надёжности заёмщиков"
   ]
  },
  {
   "cell_type": "markdown",
   "metadata": {
    "toc": true
   },
   "source": [
    "<h1>Содержание<span class=\"tocSkip\"></span></h1>\n",
    "<div class=\"toc\"><ul class=\"toc-item\"><li><span><a href=\"#Шаг-1.-Откройте-файл-с-данными-и-изучите-общую-информацию\" data-toc-modified-id=\"Шаг-1.-Откройте-файл-с-данными-и-изучите-общую-информацию-1\"><span class=\"toc-item-num\">1&nbsp;&nbsp;</span>Шаг 1. Откройте файл с данными и изучите общую информацию</a></span></li><li><span><a href=\"#Шаг-2.-Предобработка-данных\" data-toc-modified-id=\"Шаг-2.-Предобработка-данных-2\"><span class=\"toc-item-num\">2&nbsp;&nbsp;</span>Шаг 2. Предобработка данных</a></span><ul class=\"toc-item\"><li><span><a href=\"#Обработка-пропусков\" data-toc-modified-id=\"Обработка-пропусков-2.1\"><span class=\"toc-item-num\">2.1&nbsp;&nbsp;</span>Обработка пропусков</a></span></li><li><span><a href=\"#Замена-типа-данных\" data-toc-modified-id=\"Замена-типа-данных-2.2\"><span class=\"toc-item-num\">2.2&nbsp;&nbsp;</span>Замена типа данных</a></span></li><li><span><a href=\"#Обработка-дубликатов\" data-toc-modified-id=\"Обработка-дубликатов-2.3\"><span class=\"toc-item-num\">2.3&nbsp;&nbsp;</span>Обработка дубликатов</a></span></li><li><span><a href=\"#Лемматизация\" data-toc-modified-id=\"Лемматизация-2.4\"><span class=\"toc-item-num\">2.4&nbsp;&nbsp;</span>Лемматизация</a></span></li><li><span><a href=\"#Категоризация-данных\" data-toc-modified-id=\"Категоризация-данных-2.5\"><span class=\"toc-item-num\">2.5&nbsp;&nbsp;</span>Категоризация данных</a></span></li></ul></li><li><span><a href=\"#Шаг-3.-Ответьте-на-вопросы\" data-toc-modified-id=\"Шаг-3.-Ответьте-на-вопросы-3\"><span class=\"toc-item-num\">3&nbsp;&nbsp;</span>Шаг 3. Ответьте на вопросы</a></span></li><li><span><a href=\"#Шаг-4.-Общий-вывод\" data-toc-modified-id=\"Шаг-4.-Общий-вывод-4\"><span class=\"toc-item-num\">4&nbsp;&nbsp;</span>Шаг 4. Общий вывод</a></span></li></ul></div>"
   ]
  },
  {
   "cell_type": "markdown",
   "metadata": {},
   "source": [
    "Заказчик — кредитный отдел банка. Нужно разобраться, влияет ли семейное положение и количество детей клиента на факт погашения кредита в срок. Входные данные от банка — статистика о платёжеспособности клиентов.\n",
    "\n",
    "**Цель исследования** — проверить три гипотезы и ответить на вопрос:\n",
    "1. Зависимость между наличием детей и возвратом кредита в срок;\n",
    "2. Зависимость между семейным положением и возвратом кредита в срок;\n",
    "3. Зависимость между уровнем дохода и возвратом кредита в срок;\n",
    "4. Как разные цели кредита влияют на его возврат в срок?\n",
    "\n",
    "**Ход исследования**\n",
    "\n",
    "**Шаг 1 - Получение входных данных от банка и изучение общей информации** — статистика о платёжеспособности клиентов. \n",
    "<br> Путь к файлу: */datasets/data.csv*. О качестве данных ничего не известно. Поэтому перед проверкой гипотез понадобится обзор данных.\n",
    "\n",
    "**Шаг 2 - Предобработка данных:**\n",
    "1. определение и заполнение пропущенных значений;\n",
    "2. замена вещественного типа данных на целочисленный;\n",
    "3. удаление дубликатов;\n",
    "4. выделение леммы в значениях столбца с целями получения кредита;\n",
    "5. категоризация данных.\n",
    "\n",
    "**Шаг 3 - Проверка гипотез**\n",
    "\n",
    "**Шаг 4 - Подведение итогов исследования**\n",
    "\n",
    "Результаты исследования будут учтены при построении модели **кредитного скоринга** — специальной системы, которая оценивает способность потенциального заёмщика вернуть кредит банку."
   ]
  },
  {
   "cell_type": "markdown",
   "metadata": {},
   "source": [
    "## Шаг 1. Откройте файл с данными и изучите общую информацию"
   ]
  },
  {
   "cell_type": "markdown",
   "metadata": {},
   "source": [
    "Импортируем библиотеку Pandas, открываем файл 'data.csv' из папки '/datasets', сохраняем в переменную df:"
   ]
  },
  {
   "cell_type": "code",
   "execution_count": 1,
   "metadata": {
    "scrolled": true
   },
   "outputs": [
    {
     "data": {
      "text/html": [
       "<div>\n",
       "<style scoped>\n",
       "    .dataframe tbody tr th:only-of-type {\n",
       "        vertical-align: middle;\n",
       "    }\n",
       "\n",
       "    .dataframe tbody tr th {\n",
       "        vertical-align: top;\n",
       "    }\n",
       "\n",
       "    .dataframe thead th {\n",
       "        text-align: right;\n",
       "    }\n",
       "</style>\n",
       "<table border=\"1\" class=\"dataframe\">\n",
       "  <thead>\n",
       "    <tr style=\"text-align: right;\">\n",
       "      <th></th>\n",
       "      <th>children</th>\n",
       "      <th>days_employed</th>\n",
       "      <th>dob_years</th>\n",
       "      <th>education</th>\n",
       "      <th>education_id</th>\n",
       "      <th>family_status</th>\n",
       "      <th>family_status_id</th>\n",
       "      <th>gender</th>\n",
       "      <th>income_type</th>\n",
       "      <th>debt</th>\n",
       "      <th>total_income</th>\n",
       "      <th>purpose</th>\n",
       "    </tr>\n",
       "  </thead>\n",
       "  <tbody>\n",
       "    <tr>\n",
       "      <td>0</td>\n",
       "      <td>1</td>\n",
       "      <td>-8437.673028</td>\n",
       "      <td>42</td>\n",
       "      <td>высшее</td>\n",
       "      <td>0</td>\n",
       "      <td>женат / замужем</td>\n",
       "      <td>0</td>\n",
       "      <td>F</td>\n",
       "      <td>сотрудник</td>\n",
       "      <td>0</td>\n",
       "      <td>253875.639453</td>\n",
       "      <td>покупка жилья</td>\n",
       "    </tr>\n",
       "    <tr>\n",
       "      <td>1</td>\n",
       "      <td>1</td>\n",
       "      <td>-4024.803754</td>\n",
       "      <td>36</td>\n",
       "      <td>среднее</td>\n",
       "      <td>1</td>\n",
       "      <td>женат / замужем</td>\n",
       "      <td>0</td>\n",
       "      <td>F</td>\n",
       "      <td>сотрудник</td>\n",
       "      <td>0</td>\n",
       "      <td>112080.014102</td>\n",
       "      <td>приобретение автомобиля</td>\n",
       "    </tr>\n",
       "    <tr>\n",
       "      <td>2</td>\n",
       "      <td>0</td>\n",
       "      <td>-5623.422610</td>\n",
       "      <td>33</td>\n",
       "      <td>Среднее</td>\n",
       "      <td>1</td>\n",
       "      <td>женат / замужем</td>\n",
       "      <td>0</td>\n",
       "      <td>M</td>\n",
       "      <td>сотрудник</td>\n",
       "      <td>0</td>\n",
       "      <td>145885.952297</td>\n",
       "      <td>покупка жилья</td>\n",
       "    </tr>\n",
       "    <tr>\n",
       "      <td>3</td>\n",
       "      <td>3</td>\n",
       "      <td>-4124.747207</td>\n",
       "      <td>32</td>\n",
       "      <td>среднее</td>\n",
       "      <td>1</td>\n",
       "      <td>женат / замужем</td>\n",
       "      <td>0</td>\n",
       "      <td>M</td>\n",
       "      <td>сотрудник</td>\n",
       "      <td>0</td>\n",
       "      <td>267628.550329</td>\n",
       "      <td>дополнительное образование</td>\n",
       "    </tr>\n",
       "    <tr>\n",
       "      <td>4</td>\n",
       "      <td>0</td>\n",
       "      <td>340266.072047</td>\n",
       "      <td>53</td>\n",
       "      <td>среднее</td>\n",
       "      <td>1</td>\n",
       "      <td>гражданский брак</td>\n",
       "      <td>1</td>\n",
       "      <td>F</td>\n",
       "      <td>пенсионер</td>\n",
       "      <td>0</td>\n",
       "      <td>158616.077870</td>\n",
       "      <td>сыграть свадьбу</td>\n",
       "    </tr>\n",
       "    <tr>\n",
       "      <td>5</td>\n",
       "      <td>0</td>\n",
       "      <td>-926.185831</td>\n",
       "      <td>27</td>\n",
       "      <td>высшее</td>\n",
       "      <td>0</td>\n",
       "      <td>гражданский брак</td>\n",
       "      <td>1</td>\n",
       "      <td>M</td>\n",
       "      <td>компаньон</td>\n",
       "      <td>0</td>\n",
       "      <td>255763.565419</td>\n",
       "      <td>покупка жилья</td>\n",
       "    </tr>\n",
       "    <tr>\n",
       "      <td>6</td>\n",
       "      <td>0</td>\n",
       "      <td>-2879.202052</td>\n",
       "      <td>43</td>\n",
       "      <td>высшее</td>\n",
       "      <td>0</td>\n",
       "      <td>женат / замужем</td>\n",
       "      <td>0</td>\n",
       "      <td>F</td>\n",
       "      <td>компаньон</td>\n",
       "      <td>0</td>\n",
       "      <td>240525.971920</td>\n",
       "      <td>операции с жильем</td>\n",
       "    </tr>\n",
       "    <tr>\n",
       "      <td>7</td>\n",
       "      <td>0</td>\n",
       "      <td>-152.779569</td>\n",
       "      <td>50</td>\n",
       "      <td>СРЕДНЕЕ</td>\n",
       "      <td>1</td>\n",
       "      <td>женат / замужем</td>\n",
       "      <td>0</td>\n",
       "      <td>M</td>\n",
       "      <td>сотрудник</td>\n",
       "      <td>0</td>\n",
       "      <td>135823.934197</td>\n",
       "      <td>образование</td>\n",
       "    </tr>\n",
       "    <tr>\n",
       "      <td>8</td>\n",
       "      <td>2</td>\n",
       "      <td>-6929.865299</td>\n",
       "      <td>35</td>\n",
       "      <td>ВЫСШЕЕ</td>\n",
       "      <td>0</td>\n",
       "      <td>гражданский брак</td>\n",
       "      <td>1</td>\n",
       "      <td>F</td>\n",
       "      <td>сотрудник</td>\n",
       "      <td>0</td>\n",
       "      <td>95856.832424</td>\n",
       "      <td>на проведение свадьбы</td>\n",
       "    </tr>\n",
       "    <tr>\n",
       "      <td>9</td>\n",
       "      <td>0</td>\n",
       "      <td>-2188.756445</td>\n",
       "      <td>41</td>\n",
       "      <td>среднее</td>\n",
       "      <td>1</td>\n",
       "      <td>женат / замужем</td>\n",
       "      <td>0</td>\n",
       "      <td>M</td>\n",
       "      <td>сотрудник</td>\n",
       "      <td>0</td>\n",
       "      <td>144425.938277</td>\n",
       "      <td>покупка жилья для семьи</td>\n",
       "    </tr>\n",
       "  </tbody>\n",
       "</table>\n",
       "</div>"
      ],
      "text/plain": [
       "   children  days_employed  dob_years education  education_id  \\\n",
       "0         1   -8437.673028         42    высшее             0   \n",
       "1         1   -4024.803754         36   среднее             1   \n",
       "2         0   -5623.422610         33   Среднее             1   \n",
       "3         3   -4124.747207         32   среднее             1   \n",
       "4         0  340266.072047         53   среднее             1   \n",
       "5         0    -926.185831         27    высшее             0   \n",
       "6         0   -2879.202052         43    высшее             0   \n",
       "7         0    -152.779569         50   СРЕДНЕЕ             1   \n",
       "8         2   -6929.865299         35    ВЫСШЕЕ             0   \n",
       "9         0   -2188.756445         41   среднее             1   \n",
       "\n",
       "      family_status  family_status_id gender income_type  debt   total_income  \\\n",
       "0   женат / замужем                 0      F   сотрудник     0  253875.639453   \n",
       "1   женат / замужем                 0      F   сотрудник     0  112080.014102   \n",
       "2   женат / замужем                 0      M   сотрудник     0  145885.952297   \n",
       "3   женат / замужем                 0      M   сотрудник     0  267628.550329   \n",
       "4  гражданский брак                 1      F   пенсионер     0  158616.077870   \n",
       "5  гражданский брак                 1      M   компаньон     0  255763.565419   \n",
       "6   женат / замужем                 0      F   компаньон     0  240525.971920   \n",
       "7   женат / замужем                 0      M   сотрудник     0  135823.934197   \n",
       "8  гражданский брак                 1      F   сотрудник     0   95856.832424   \n",
       "9   женат / замужем                 0      M   сотрудник     0  144425.938277   \n",
       "\n",
       "                      purpose  \n",
       "0               покупка жилья  \n",
       "1     приобретение автомобиля  \n",
       "2               покупка жилья  \n",
       "3  дополнительное образование  \n",
       "4             сыграть свадьбу  \n",
       "5               покупка жилья  \n",
       "6           операции с жильем  \n",
       "7                 образование  \n",
       "8       на проведение свадьбы  \n",
       "9     покупка жилья для семьи  "
      ]
     },
     "metadata": {},
     "output_type": "display_data"
    }
   ],
   "source": [
    "import pandas as pd # импорт библиотеки pandas\n",
    "import pymystem3 # импорт библиотеки pymystem3\n",
    "import seaborn as sns # импорт библиотеки seaborn\n",
    "\n",
    "df = pd.read_csv('/datasets/data.csv')\n",
    "df.to_csv('data.csv')\n",
    "display(df.head(10))"
   ]
  },
  {
   "cell_type": "markdown",
   "metadata": {},
   "source": [
    "Получаем общую информацию о таблице:"
   ]
  },
  {
   "cell_type": "code",
   "execution_count": 2,
   "metadata": {
    "scrolled": true
   },
   "outputs": [
    {
     "name": "stdout",
     "output_type": "stream",
     "text": [
      "<class 'pandas.core.frame.DataFrame'>\n",
      "RangeIndex: 21525 entries, 0 to 21524\n",
      "Data columns (total 12 columns):\n",
      "children            21525 non-null int64\n",
      "days_employed       19351 non-null float64\n",
      "dob_years           21525 non-null int64\n",
      "education           21525 non-null object\n",
      "education_id        21525 non-null int64\n",
      "family_status       21525 non-null object\n",
      "family_status_id    21525 non-null int64\n",
      "gender              21525 non-null object\n",
      "income_type         21525 non-null object\n",
      "debt                21525 non-null int64\n",
      "total_income        19351 non-null float64\n",
      "purpose             21525 non-null object\n",
      "dtypes: float64(2), int64(5), object(5)\n",
      "memory usage: 2.0+ MB\n"
     ]
    }
   ],
   "source": [
    "df.info()"
   ]
  },
  {
   "cell_type": "code",
   "execution_count": 3,
   "metadata": {},
   "outputs": [
    {
     "data": {
      "text/html": [
       "<div>\n",
       "<style scoped>\n",
       "    .dataframe tbody tr th:only-of-type {\n",
       "        vertical-align: middle;\n",
       "    }\n",
       "\n",
       "    .dataframe tbody tr th {\n",
       "        vertical-align: top;\n",
       "    }\n",
       "\n",
       "    .dataframe thead th {\n",
       "        text-align: right;\n",
       "    }\n",
       "</style>\n",
       "<table border=\"1\" class=\"dataframe\">\n",
       "  <thead>\n",
       "    <tr style=\"text-align: right;\">\n",
       "      <th></th>\n",
       "      <th>children</th>\n",
       "      <th>days_employed</th>\n",
       "      <th>dob_years</th>\n",
       "      <th>education_id</th>\n",
       "      <th>family_status_id</th>\n",
       "      <th>debt</th>\n",
       "      <th>total_income</th>\n",
       "    </tr>\n",
       "  </thead>\n",
       "  <tbody>\n",
       "    <tr>\n",
       "      <td>count</td>\n",
       "      <td>21525.000000</td>\n",
       "      <td>19351.000000</td>\n",
       "      <td>21525.000000</td>\n",
       "      <td>21525.000000</td>\n",
       "      <td>21525.000000</td>\n",
       "      <td>21525.000000</td>\n",
       "      <td>1.935100e+04</td>\n",
       "    </tr>\n",
       "    <tr>\n",
       "      <td>mean</td>\n",
       "      <td>0.538908</td>\n",
       "      <td>63046.497661</td>\n",
       "      <td>43.293380</td>\n",
       "      <td>0.817236</td>\n",
       "      <td>0.972544</td>\n",
       "      <td>0.080883</td>\n",
       "      <td>1.674223e+05</td>\n",
       "    </tr>\n",
       "    <tr>\n",
       "      <td>std</td>\n",
       "      <td>1.381587</td>\n",
       "      <td>140827.311974</td>\n",
       "      <td>12.574584</td>\n",
       "      <td>0.548138</td>\n",
       "      <td>1.420324</td>\n",
       "      <td>0.272661</td>\n",
       "      <td>1.029716e+05</td>\n",
       "    </tr>\n",
       "    <tr>\n",
       "      <td>min</td>\n",
       "      <td>-1.000000</td>\n",
       "      <td>-18388.949901</td>\n",
       "      <td>0.000000</td>\n",
       "      <td>0.000000</td>\n",
       "      <td>0.000000</td>\n",
       "      <td>0.000000</td>\n",
       "      <td>2.066726e+04</td>\n",
       "    </tr>\n",
       "    <tr>\n",
       "      <td>25%</td>\n",
       "      <td>0.000000</td>\n",
       "      <td>-2747.423625</td>\n",
       "      <td>33.000000</td>\n",
       "      <td>1.000000</td>\n",
       "      <td>0.000000</td>\n",
       "      <td>0.000000</td>\n",
       "      <td>1.030532e+05</td>\n",
       "    </tr>\n",
       "    <tr>\n",
       "      <td>50%</td>\n",
       "      <td>0.000000</td>\n",
       "      <td>-1203.369529</td>\n",
       "      <td>42.000000</td>\n",
       "      <td>1.000000</td>\n",
       "      <td>0.000000</td>\n",
       "      <td>0.000000</td>\n",
       "      <td>1.450179e+05</td>\n",
       "    </tr>\n",
       "    <tr>\n",
       "      <td>75%</td>\n",
       "      <td>1.000000</td>\n",
       "      <td>-291.095954</td>\n",
       "      <td>53.000000</td>\n",
       "      <td>1.000000</td>\n",
       "      <td>1.000000</td>\n",
       "      <td>0.000000</td>\n",
       "      <td>2.034351e+05</td>\n",
       "    </tr>\n",
       "    <tr>\n",
       "      <td>max</td>\n",
       "      <td>20.000000</td>\n",
       "      <td>401755.400475</td>\n",
       "      <td>75.000000</td>\n",
       "      <td>4.000000</td>\n",
       "      <td>4.000000</td>\n",
       "      <td>1.000000</td>\n",
       "      <td>2.265604e+06</td>\n",
       "    </tr>\n",
       "  </tbody>\n",
       "</table>\n",
       "</div>"
      ],
      "text/plain": [
       "           children  days_employed     dob_years  education_id  \\\n",
       "count  21525.000000   19351.000000  21525.000000  21525.000000   \n",
       "mean       0.538908   63046.497661     43.293380      0.817236   \n",
       "std        1.381587  140827.311974     12.574584      0.548138   \n",
       "min       -1.000000  -18388.949901      0.000000      0.000000   \n",
       "25%        0.000000   -2747.423625     33.000000      1.000000   \n",
       "50%        0.000000   -1203.369529     42.000000      1.000000   \n",
       "75%        1.000000    -291.095954     53.000000      1.000000   \n",
       "max       20.000000  401755.400475     75.000000      4.000000   \n",
       "\n",
       "       family_status_id          debt  total_income  \n",
       "count      21525.000000  21525.000000  1.935100e+04  \n",
       "mean           0.972544      0.080883  1.674223e+05  \n",
       "std            1.420324      0.272661  1.029716e+05  \n",
       "min            0.000000      0.000000  2.066726e+04  \n",
       "25%            0.000000      0.000000  1.030532e+05  \n",
       "50%            0.000000      0.000000  1.450179e+05  \n",
       "75%            1.000000      0.000000  2.034351e+05  \n",
       "max            4.000000      1.000000  2.265604e+06  "
      ]
     },
     "execution_count": 3,
     "metadata": {},
     "output_type": "execute_result"
    }
   ],
   "source": [
    "df.describe()"
   ]
  },
  {
   "cell_type": "markdown",
   "metadata": {},
   "source": [
    "**Описание данных таблицы:**\n",
    "\n",
    "Таблица состоит из 21525 строк, 12 столбцов. \n",
    "\n",
    "Тип данных в столбцах:\n",
    "* float64 (2 столбца) - вещественные числа (с плавающей точкой), \n",
    "* int64 (5 столбцов) - целые числа, \n",
    "* object (5 столбцов) - строковые значения (текст)\n",
    "\n",
    "Согласно документации к данным:\n",
    "* `children` — количество детей в семье\n",
    "* `days_employed` — общий трудовой стаж в днях\n",
    "* `dob_years` — возраст клиента в годах\n",
    "* `education` — уровень образования клиента\n",
    "* `education_id` — идентификатор уровня образования\n",
    "* `family_status` — семейное положение\n",
    "* `family_status_id` — идентификатор семейного положения\n",
    "* `gender` — пол клиента\n",
    "* `income_type` — тип занятости\n",
    "* `debt` — имел ли задолженность по возврату кредитов\n",
    "* `total_income` — ежемесячный доход\n",
    "* `purpose` — цель получения кредита\n",
    "\n",
    "В названиях колонок отсутствуют нарушения стиля:\n",
    "\n",
    "1. Строчные буквы;\n",
    "2. Пробелы отсутствуют;\n",
    "3. Используется \"змеиный\" регистр.\n",
    "\n",
    "Количество значений в столбцах различается. Значит, в данных есть пропущенные значения.\n",
    "\n",
    "В некоторых столбцах, например, `education`, содержатся строчные и прописные буквы. Необходимо провести дополнительную обработку данных для приведения к единому стилю.\n",
    "\n",
    "На первый взгляд тип данных каждого столбца правильно отражает содержащиеся в них данные, то есть, например, столбцы с числами имеют тип `float64` или `int64`, а не `object`, и наоборот."
   ]
  },
  {
   "cell_type": "markdown",
   "metadata": {},
   "source": [
    "**Вывод**"
   ]
  },
  {
   "cell_type": "markdown",
   "metadata": {},
   "source": [
    "В каждой строке таблицы содержится информация о клиентах банка. Часть данных рассказывает о возрасте, семейном положении, уровне образования, занятости клиента. Другая - о финансой составляющей: ежемесячном доходе, имеющейся задолженности и цели получения кредита.\n",
    "\n",
    "Предварительно можно утверждать, что данных достаточно для проверки гипотез. Но встречаются пропуски в данных, а некоторые данные не имеют единого формата, например, в столбце `education`. Также данные необходимо проверить на явные и неявные дубликаты.\n",
    "\n",
    "Чтобы двигаться дальше, нужно устранить описанные выше проблемы."
   ]
  },
  {
   "cell_type": "markdown",
   "metadata": {},
   "source": [
    "## Шаг 2. Предобработка данных"
   ]
  },
  {
   "cell_type": "markdown",
   "metadata": {},
   "source": [
    "### Обработка пропусков"
   ]
  },
  {
   "cell_type": "markdown",
   "metadata": {},
   "source": [
    "Сначала посчитаем, сколько в таблице пропущенных значений. Для этого достаточно двух методов pandas:"
   ]
  },
  {
   "cell_type": "code",
   "execution_count": 4,
   "metadata": {},
   "outputs": [
    {
     "data": {
      "text/plain": [
       "children               0\n",
       "days_employed       2174\n",
       "dob_years              0\n",
       "education              0\n",
       "education_id           0\n",
       "family_status          0\n",
       "family_status_id       0\n",
       "gender                 0\n",
       "income_type            0\n",
       "debt                   0\n",
       "total_income        2174\n",
       "purpose                0\n",
       "dtype: int64"
      ]
     },
     "execution_count": 4,
     "metadata": {},
     "output_type": "execute_result"
    }
   ],
   "source": [
    "df.isna().sum()"
   ]
  },
  {
   "cell_type": "markdown",
   "metadata": {},
   "source": [
    "Не все пропущенные значения влияют на исследование. Так в `days_employed` пропуски не важны для нашей работы. Но пропуски в `total_income` могут помешать проверке гипотезы о зависимости возврата кредит в срок от уровня дохода клиента. На практике было бы правильно установить причину пропусков и восстановить данные. Такой возможности нет в учебном проекте. В связи с этим необходимо:\n",
    "* изучить пропуски, попытаться выявить закономерность и выяснить причину появления пропусков;\n",
    "* рассчитать долю пропусков к общему объёму выборки, оценить их возможное влияние на результаты исследования;\n",
    "* обработать пропуски или удалить строки с пропущенными значениями.\n",
    "\n",
    "Отфильтруем 5 первых строк выборки с пустыми значениями в столбце `total_income`:"
   ]
  },
  {
   "cell_type": "code",
   "execution_count": 5,
   "metadata": {
    "scrolled": true
   },
   "outputs": [
    {
     "data": {
      "text/html": [
       "<div>\n",
       "<style scoped>\n",
       "    .dataframe tbody tr th:only-of-type {\n",
       "        vertical-align: middle;\n",
       "    }\n",
       "\n",
       "    .dataframe tbody tr th {\n",
       "        vertical-align: top;\n",
       "    }\n",
       "\n",
       "    .dataframe thead th {\n",
       "        text-align: right;\n",
       "    }\n",
       "</style>\n",
       "<table border=\"1\" class=\"dataframe\">\n",
       "  <thead>\n",
       "    <tr style=\"text-align: right;\">\n",
       "      <th></th>\n",
       "      <th>children</th>\n",
       "      <th>days_employed</th>\n",
       "      <th>dob_years</th>\n",
       "      <th>education</th>\n",
       "      <th>education_id</th>\n",
       "      <th>family_status</th>\n",
       "      <th>family_status_id</th>\n",
       "      <th>gender</th>\n",
       "      <th>income_type</th>\n",
       "      <th>debt</th>\n",
       "      <th>total_income</th>\n",
       "      <th>purpose</th>\n",
       "    </tr>\n",
       "  </thead>\n",
       "  <tbody>\n",
       "    <tr>\n",
       "      <td>12</td>\n",
       "      <td>0</td>\n",
       "      <td>NaN</td>\n",
       "      <td>65</td>\n",
       "      <td>среднее</td>\n",
       "      <td>1</td>\n",
       "      <td>гражданский брак</td>\n",
       "      <td>1</td>\n",
       "      <td>M</td>\n",
       "      <td>пенсионер</td>\n",
       "      <td>0</td>\n",
       "      <td>NaN</td>\n",
       "      <td>сыграть свадьбу</td>\n",
       "    </tr>\n",
       "    <tr>\n",
       "      <td>26</td>\n",
       "      <td>0</td>\n",
       "      <td>NaN</td>\n",
       "      <td>41</td>\n",
       "      <td>среднее</td>\n",
       "      <td>1</td>\n",
       "      <td>женат / замужем</td>\n",
       "      <td>0</td>\n",
       "      <td>M</td>\n",
       "      <td>госслужащий</td>\n",
       "      <td>0</td>\n",
       "      <td>NaN</td>\n",
       "      <td>образование</td>\n",
       "    </tr>\n",
       "    <tr>\n",
       "      <td>29</td>\n",
       "      <td>0</td>\n",
       "      <td>NaN</td>\n",
       "      <td>63</td>\n",
       "      <td>среднее</td>\n",
       "      <td>1</td>\n",
       "      <td>Не женат / не замужем</td>\n",
       "      <td>4</td>\n",
       "      <td>F</td>\n",
       "      <td>пенсионер</td>\n",
       "      <td>0</td>\n",
       "      <td>NaN</td>\n",
       "      <td>строительство жилой недвижимости</td>\n",
       "    </tr>\n",
       "    <tr>\n",
       "      <td>41</td>\n",
       "      <td>0</td>\n",
       "      <td>NaN</td>\n",
       "      <td>50</td>\n",
       "      <td>среднее</td>\n",
       "      <td>1</td>\n",
       "      <td>женат / замужем</td>\n",
       "      <td>0</td>\n",
       "      <td>F</td>\n",
       "      <td>госслужащий</td>\n",
       "      <td>0</td>\n",
       "      <td>NaN</td>\n",
       "      <td>сделка с подержанным автомобилем</td>\n",
       "    </tr>\n",
       "    <tr>\n",
       "      <td>55</td>\n",
       "      <td>0</td>\n",
       "      <td>NaN</td>\n",
       "      <td>54</td>\n",
       "      <td>среднее</td>\n",
       "      <td>1</td>\n",
       "      <td>гражданский брак</td>\n",
       "      <td>1</td>\n",
       "      <td>F</td>\n",
       "      <td>пенсионер</td>\n",
       "      <td>1</td>\n",
       "      <td>NaN</td>\n",
       "      <td>сыграть свадьбу</td>\n",
       "    </tr>\n",
       "  </tbody>\n",
       "</table>\n",
       "</div>"
      ],
      "text/plain": [
       "    children  days_employed  dob_years education  education_id  \\\n",
       "12         0            NaN         65   среднее             1   \n",
       "26         0            NaN         41   среднее             1   \n",
       "29         0            NaN         63   среднее             1   \n",
       "41         0            NaN         50   среднее             1   \n",
       "55         0            NaN         54   среднее             1   \n",
       "\n",
       "            family_status  family_status_id gender  income_type  debt  \\\n",
       "12       гражданский брак                 1      M    пенсионер     0   \n",
       "26        женат / замужем                 0      M  госслужащий     0   \n",
       "29  Не женат / не замужем                 4      F    пенсионер     0   \n",
       "41        женат / замужем                 0      F  госслужащий     0   \n",
       "55       гражданский брак                 1      F    пенсионер     1   \n",
       "\n",
       "    total_income                           purpose  \n",
       "12           NaN                   сыграть свадьбу  \n",
       "26           NaN                       образование  \n",
       "29           NaN  строительство жилой недвижимости  \n",
       "41           NaN  сделка с подержанным автомобилем  \n",
       "55           NaN                   сыграть свадьбу  "
      ]
     },
     "metadata": {},
     "output_type": "display_data"
    },
    {
     "data": {
      "text/plain": [
       "'Доля пропусков к общему объему выборки составила: 10.1%'"
      ]
     },
     "metadata": {},
     "output_type": "display_data"
    }
   ],
   "source": [
    "display(df[df['total_income'].isna()].head())\n",
    "a = df['total_income'].isna().mean() # посчитали долю пропусков к общему объему выборки по столбцу 'total_income'\n",
    "display(f'Доля пропусков к общему объему выборки составила: {a:0.1%}')"
   ]
  },
  {
   "cell_type": "markdown",
   "metadata": {},
   "source": [
    "* По данным таблицы непонятно, являются ли пропуски случайными или сделаны намеренно, т.к. данные указанных клиентов очень сильно разнятся как по социальному статусу, возрасту и образованию, так и по целям кредитов;\n",
    "* Доля пропусков к общему объёму выборки составляет 10,1% - высокий показатель, который может существенно повлиять на результаты исследования;\n",
    "* Вследствие того, что достоверно установить причину пропусков и восстановить данные нет возможности, а доля пропусков существенная (10,1%), предлагается удалить строки с пропущенными значениями."
   ]
  },
  {
   "cell_type": "markdown",
   "metadata": {},
   "source": [
    "Удалим строки с пропущенными значениями. Убедимся, что в таблице не осталось пропусков. Для этого ещё раз посчитаем пропущенные значения:"
   ]
  },
  {
   "cell_type": "markdown",
   "metadata": {},
   "source": [
    "Отфильтруем пропущенные значения в столбце `total_income` и рассчитаем долю пропусков по каждой группе в столбце `income_type` с помощью функции `value_counts(normalize=True)`. Аругемент `normalize=True` рассчитывает долю пропусков в каждой группе в %:"
   ]
  },
  {
   "cell_type": "code",
   "execution_count": 6,
   "metadata": {},
   "outputs": [
    {
     "data": {
      "text/plain": [
       "income_type\n",
       "безработный        0.000000\n",
       "в декрете          0.000000\n",
       "госслужащий        0.100754\n",
       "компаньон          0.099902\n",
       "пенсионер          0.107106\n",
       "предприниматель    0.500000\n",
       "сотрудник          0.099379\n",
       "студент            0.000000\n",
       "Name: total_income, dtype: float64"
      ]
     },
     "execution_count": 6,
     "metadata": {},
     "output_type": "execute_result"
    }
   ],
   "source": [
    "# Код ревьюера\n",
    "\n",
    "df.groupby('income_type')['total_income'].apply(lambda x : x.isna().mean())"
   ]
  },
  {
   "cell_type": "code",
   "execution_count": 7,
   "metadata": {},
   "outputs": [
    {
     "name": "stdout",
     "output_type": "stream",
     "text": [
      "сотрудник          0.508280\n",
      "компаньон          0.233671\n",
      "пенсионер          0.189972\n",
      "госслужащий        0.067617\n",
      "предприниматель    0.000460\n",
      "Name: income_type, dtype: float64\n"
     ]
    }
   ],
   "source": [
    "income_type_grouped = df[df['total_income'].isna()]['income_type'].value_counts(normalize=True)\n",
    "print(income_type_grouped)"
   ]
  },
  {
   "cell_type": "code",
   "execution_count": 8,
   "metadata": {},
   "outputs": [
    {
     "name": "stdout",
     "output_type": "stream",
     "text": [
      "сотрудник          0.508280\n",
      "компаньон          0.233671\n",
      "пенсионер          0.189972\n",
      "госслужащий        0.067617\n",
      "предприниматель    0.000460\n",
      "Name: income_type, dtype: float64\n"
     ]
    }
   ],
   "source": [
    "# выполним ту же самую операцию для пропусков в столбце \"days_employed\":\n",
    "days_employed_grouped = df[df['days_employed'].isna()]['income_type'].value_counts(normalize=True)\n",
    "print(days_employed_grouped)"
   ]
  },
  {
   "cell_type": "markdown",
   "metadata": {},
   "source": [
    "Из таблиц видно, что доли пропусков в столбцах `total_income` и `days_employed` при группировке по типу занятости полностью совпадают. Следовательно, пропуски не являются случайными.  \n",
    "\n",
    "Заполним пропуски медианными значениями по группам  с помощью метода .transform()::"
   ]
  },
  {
   "cell_type": "code",
   "execution_count": 9,
   "metadata": {},
   "outputs": [
    {
     "name": "stdout",
     "output_type": "stream",
     "text": [
      "0\n",
      "0\n"
     ]
    }
   ],
   "source": [
    "# для столбца 'total_income'\n",
    "df['total_income'] = df.groupby('income_type')['total_income'].transform(lambda x: x.fillna(x.median()))\n",
    "\n",
    "# для столбца 'days_employed'\n",
    "df['days_employed'] = df.groupby('income_type')['days_employed'].transform(lambda x: x.fillna(x.median()))\n",
    "\n",
    "# убедимся, что пропуски заполнены\n",
    "print(df['total_income'].isna().sum())\n",
    "print(df['days_employed'].isna().sum())"
   ]
  },
  {
   "cell_type": "markdown",
   "metadata": {},
   "source": [
    "**Вывод**"
   ]
  },
  {
   "cell_type": "markdown",
   "metadata": {},
   "source": [
    "* В данных кредитного отдела банка имелись пропуски;\n",
    "* Установить истинную причину возникновения пропусков и восстановить пропущенные значения не представляется возможным;\n",
    "* Вледствие того, что доля пропусков существенная (10,1%), было предложено заменить их на медианное значение по группе."
   ]
  },
  {
   "cell_type": "markdown",
   "metadata": {},
   "source": [
    "### Замена типа данных"
   ]
  },
  {
   "cell_type": "markdown",
   "metadata": {},
   "source": [
    "Произведём замену вещественного типа данных на целочисленный в столбцах `days_employed`, `total_income` методом `.astype()`.\n",
    "Данный метод используется для приведения объекта pandas к указанному dtype. astype() также предоставляет возможность конвертировать любой подходящий существующий столбец в категориальный тип.\n",
    "\n",
    "Убедимся, что тип данных в столбцах изменился на `int`."
   ]
  },
  {
   "cell_type": "code",
   "execution_count": 10,
   "metadata": {
    "scrolled": true
   },
   "outputs": [
    {
     "data": {
      "text/plain": [
       "children             int64\n",
       "days_employed        int64\n",
       "dob_years            int64\n",
       "education           object\n",
       "education_id         int64\n",
       "family_status       object\n",
       "family_status_id     int64\n",
       "gender              object\n",
       "income_type         object\n",
       "debt                 int64\n",
       "total_income         int64\n",
       "purpose             object\n",
       "dtype: object"
      ]
     },
     "execution_count": 10,
     "metadata": {},
     "output_type": "execute_result"
    }
   ],
   "source": [
    "df['days_employed'] = df['days_employed'].astype('int')\n",
    "df['total_income'] = df['total_income'].astype('int')\n",
    "df.dtypes"
   ]
  },
  {
   "cell_type": "markdown",
   "metadata": {},
   "source": [
    "**Вывод**"
   ]
  },
  {
   "cell_type": "markdown",
   "metadata": {},
   "source": [
    "Тип данных в столбцах `days_employed`, `total_income` преобразован из вещественного на целочисленный."
   ]
  },
  {
   "cell_type": "markdown",
   "metadata": {},
   "source": [
    "### Обработка дубликатов"
   ]
  },
  {
   "cell_type": "markdown",
   "metadata": {},
   "source": [
    "Посчитаем явные дубликаты в таблице одной командой:"
   ]
  },
  {
   "cell_type": "code",
   "execution_count": 11,
   "metadata": {},
   "outputs": [
    {
     "name": "stdout",
     "output_type": "stream",
     "text": [
      "54\n"
     ]
    }
   ],
   "source": [
    "print(df.duplicated().sum())"
   ]
  },
  {
   "cell_type": "markdown",
   "metadata": {},
   "source": [
    "Явные дубликаты в таблице отсутствуют. Проверим данные таблицы на наличие неявных дубликатов. Для этого применим метод `.value_counts()`, который возвращает уникальные значения столбца и их количество, к столбцам с текстовым типом данных, а именно: `education`, `family_status`, `family_status_id`, `gender`, `income_type`, `purpose`, `children`."
   ]
  },
  {
   "cell_type": "code",
   "execution_count": 12,
   "metadata": {},
   "outputs": [
    {
     "data": {
      "text/plain": [
       "среднее                13750\n",
       "высшее                  4718\n",
       "СРЕДНЕЕ                  772\n",
       "Среднее                  711\n",
       "неоконченное высшее      668\n",
       "ВЫСШЕЕ                   274\n",
       "Высшее                   268\n",
       "начальное                250\n",
       "Неоконченное высшее       47\n",
       "НЕОКОНЧЕННОЕ ВЫСШЕЕ       29\n",
       "НАЧАЛЬНОЕ                 17\n",
       "Начальное                 15\n",
       "ученая степень             4\n",
       "УЧЕНАЯ СТЕПЕНЬ             1\n",
       "Ученая степень             1\n",
       "Name: education, dtype: int64"
      ]
     },
     "execution_count": 12,
     "metadata": {},
     "output_type": "execute_result"
    }
   ],
   "source": [
    "df['education'].value_counts()"
   ]
  },
  {
   "cell_type": "code",
   "execution_count": 13,
   "metadata": {
    "scrolled": true
   },
   "outputs": [
    {
     "data": {
      "text/plain": [
       "женат / замужем          12380\n",
       "гражданский брак          4177\n",
       "Не женат / не замужем     2813\n",
       "в разводе                 1195\n",
       "вдовец / вдова             960\n",
       "Name: family_status, dtype: int64"
      ]
     },
     "execution_count": 13,
     "metadata": {},
     "output_type": "execute_result"
    }
   ],
   "source": [
    "df['family_status'].value_counts()"
   ]
  },
  {
   "cell_type": "code",
   "execution_count": 14,
   "metadata": {
    "scrolled": true
   },
   "outputs": [
    {
     "data": {
      "text/plain": [
       "0    12380\n",
       "1     4177\n",
       "4     2813\n",
       "3     1195\n",
       "2      960\n",
       "Name: family_status_id, dtype: int64"
      ]
     },
     "execution_count": 14,
     "metadata": {},
     "output_type": "execute_result"
    }
   ],
   "source": [
    "df['family_status_id'].value_counts()"
   ]
  },
  {
   "cell_type": "code",
   "execution_count": 15,
   "metadata": {},
   "outputs": [
    {
     "data": {
      "text/plain": [
       "F      14236\n",
       "M       7288\n",
       "XNA        1\n",
       "Name: gender, dtype: int64"
      ]
     },
     "execution_count": 15,
     "metadata": {},
     "output_type": "execute_result"
    }
   ],
   "source": [
    "df['gender'].value_counts()"
   ]
  },
  {
   "cell_type": "code",
   "execution_count": 16,
   "metadata": {},
   "outputs": [
    {
     "data": {
      "text/plain": [
       "сотрудник          11119\n",
       "компаньон           5085\n",
       "пенсионер           3856\n",
       "госслужащий         1459\n",
       "предприниматель        2\n",
       "безработный            2\n",
       "в декрете              1\n",
       "студент                1\n",
       "Name: income_type, dtype: int64"
      ]
     },
     "execution_count": 16,
     "metadata": {},
     "output_type": "execute_result"
    }
   ],
   "source": [
    "df['income_type'].value_counts()"
   ]
  },
  {
   "cell_type": "code",
   "execution_count": 17,
   "metadata": {},
   "outputs": [
    {
     "data": {
      "text/plain": [
       "свадьба                                   797\n",
       "на проведение свадьбы                     777\n",
       "сыграть свадьбу                           774\n",
       "операции с недвижимостью                  676\n",
       "покупка коммерческой недвижимости         664\n",
       "покупка жилья для сдачи                   653\n",
       "операции с жильем                         653\n",
       "операции с коммерческой недвижимостью     651\n",
       "жилье                                     647\n",
       "покупка жилья                             647\n",
       "покупка жилья для семьи                   641\n",
       "строительство собственной недвижимости    635\n",
       "недвижимость                              634\n",
       "операции со своей недвижимостью           630\n",
       "строительство жилой недвижимости          626\n",
       "покупка недвижимости                      624\n",
       "строительство недвижимости                620\n",
       "покупка своего жилья                      620\n",
       "ремонт жилью                              612\n",
       "покупка жилой недвижимости                607\n",
       "на покупку своего автомобиля              505\n",
       "заняться высшим образованием              496\n",
       "автомобиль                                495\n",
       "сделка с подержанным автомобилем          489\n",
       "свой автомобиль                           480\n",
       "на покупку подержанного автомобиля        479\n",
       "автомобили                                478\n",
       "на покупку автомобиля                     472\n",
       "дополнительное образование                462\n",
       "приобретение автомобиля                   462\n",
       "сделка с автомобилем                      455\n",
       "высшее образование                        453\n",
       "получение дополнительного образования     447\n",
       "образование                               447\n",
       "получение образования                     443\n",
       "профильное образование                    436\n",
       "получение высшего образования             426\n",
       "заняться образованием                     412\n",
       "Name: purpose, dtype: int64"
      ]
     },
     "execution_count": 17,
     "metadata": {},
     "output_type": "execute_result"
    }
   ],
   "source": [
    "df['purpose'].value_counts()"
   ]
  },
  {
   "cell_type": "code",
   "execution_count": 18,
   "metadata": {},
   "outputs": [
    {
     "data": {
      "text/plain": [
       " 0     14149\n",
       " 1      4818\n",
       " 2      2055\n",
       " 3       330\n",
       " 20       76\n",
       "-1        47\n",
       " 4        41\n",
       " 5         9\n",
       "Name: children, dtype: int64"
      ]
     },
     "execution_count": 18,
     "metadata": {},
     "output_type": "execute_result"
    }
   ],
   "source": [
    "df['children'].value_counts()"
   ]
  },
  {
   "cell_type": "markdown",
   "metadata": {},
   "source": [
    "**Выявлены следующие неявные дубликаты и неточности в данных:**\n",
    "1. В столбце `education` данные имеют разный регистр;\n",
    "2. В столбце `family_status` данные имеют разный регистр\n",
    "3. В столбце `gender` данные имеют 3 вида значений: `F`, `M`, `XNA`. Если с первыми двумя значениями все предельно ясно, то `XNA` - пропуск - скорее всего он возник из-за ввода несуществующего значения, отличного от `F`, `M`. Данное значение не окажет существенного влияния на результаты исследования;\n",
    "4. В столбце `income_type` проблемы с данными отсутствуют;\n",
    "5. В столбце `purpose` имеется множество различных целей по кредитам. Требуется более глубокий анализ;\n",
    "6. В столбцу `children` имеется отрицательное значение. Таких позиций 34. Возможно, это семьи/люди, у которых приемные дети.\n",
    "\n",
    "Основная причина появления дубликатов - ручная форма ввода без предварительной проверки со стороны системы. То же касается возникновения пропусков в данных из-за ввода несуществующих данных."
   ]
  },
  {
   "cell_type": "markdown",
   "metadata": {},
   "source": [
    "**Предлагается решить указанные вопросы следующим образом:**\n",
    "\n",
    "**1.** В столбце `education` приведем все значения к нижнему регистру:"
   ]
  },
  {
   "cell_type": "code",
   "execution_count": 19,
   "metadata": {},
   "outputs": [],
   "source": [
    "df['education'] = df['education'].str.lower()"
   ]
  },
  {
   "cell_type": "markdown",
   "metadata": {},
   "source": [
    "Убедимся, что в столбце `education` убрали дубликаты:"
   ]
  },
  {
   "cell_type": "code",
   "execution_count": 20,
   "metadata": {},
   "outputs": [
    {
     "data": {
      "text/plain": [
       "среднее                15233\n",
       "высшее                  5260\n",
       "неоконченное высшее      744\n",
       "начальное                282\n",
       "ученая степень             6\n",
       "Name: education, dtype: int64"
      ]
     },
     "execution_count": 20,
     "metadata": {},
     "output_type": "execute_result"
    }
   ],
   "source": [
    "df['education'].value_counts()"
   ]
  },
  {
   "cell_type": "markdown",
   "metadata": {},
   "source": [
    "**2.** В столбце `family_status` приведем все к нижнему регистру:"
   ]
  },
  {
   "cell_type": "code",
   "execution_count": 21,
   "metadata": {},
   "outputs": [
    {
     "data": {
      "text/plain": [
       "женат / замужем          12380\n",
       "гражданский брак          4177\n",
       "не женат / не замужем     2813\n",
       "в разводе                 1195\n",
       "вдовец / вдова             960\n",
       "Name: family_status, dtype: int64"
      ]
     },
     "execution_count": 21,
     "metadata": {},
     "output_type": "execute_result"
    }
   ],
   "source": [
    "df['family_status'] = df['family_status'].str.lower() # привели все значения в столбце к нижнему регистру\n",
    "\n",
    "# Убедимся, что в столбце 'family_status' убрали дубликаты:\n",
    "df['family_status'].value_counts()"
   ]
  },
  {
   "cell_type": "markdown",
   "metadata": {},
   "source": [
    "**Вывод**"
   ]
  },
  {
   "cell_type": "markdown",
   "metadata": {},
   "source": [
    "1. Исправлены недостатки данных в столбцах `education` и `family_status`. Значения последнего критически важно, т.к. напрямую влияют на проверку одной из гипотез;\n",
    "2. В столбце `purpose` имеется множество различных целей по кредитам. Требуется более глубокий анализ: предварительно с помощью лемматизации;\n",
    "3. Остальные данные имеют корректный формат либо незначительные недостатки, которые не окажут существенного влияния на результаты исследования."
   ]
  },
  {
   "cell_type": "markdown",
   "metadata": {},
   "source": [
    "### Лемматизация"
   ]
  },
  {
   "cell_type": "markdown",
   "metadata": {},
   "source": [
    "В столбце `purpose` имеется множество различных целей по кредитам. Изучив данные п. 2.3 \"Обработка дубликатов\" (столбец `purpose`) выделим основные цели, для которых берут кредит.\n",
    "С этой целью для всех слов в столбце `purpose` проведем лемматизацию, то есть приведение слова к его словарной форме и добавим в единый список:"
   ]
  },
  {
   "cell_type": "code",
   "execution_count": 23,
   "metadata": {},
   "outputs": [
    {
     "name": "stdout",
     "output_type": "stream",
     "text": [
      "['покупка' ' ' 'жилье' '\\n' 'приобретение' 'автомобиль' 'дополнительный'\n",
      " 'образование' 'сыграть' 'свадьба' 'операция' 'с' 'на' 'проведение' 'для'\n",
      " 'семья' 'недвижимость' 'коммерческий' 'жилой' 'строительство'\n",
      " 'собственный' 'подержать' 'свой' 'со' 'заниматься' 'сделка' 'подержанный'\n",
      " 'получение' 'высокий' 'профильный' 'сдача' 'ремонт']\n"
     ]
    }
   ],
   "source": [
    "# импортируем конструктор Mystem() из библиотеки  pymystem3 \n",
    "from pymystem3 import Mystem\n",
    "\n",
    "m = Mystem()\n",
    "\n",
    "# выделяем уникальные записи целей кредита\n",
    "purpose_unique = pd.Series(df['purpose'].unique())\n",
    "\n",
    "# с помощью apply применим конструктор Mystem() для каждой ячейки Series, \n",
    "# а метода .explode() - разнесем значения списков по отдельным строкам Series\n",
    "\n",
    "print(purpose_unique.apply(m.lemmatize).explode().unique())"
   ]
  },
  {
   "cell_type": "markdown",
   "metadata": {},
   "source": [
    "**Из полученных данных видно, что основными целями получения кредита являются:**\n",
    "* операции (покупка, строительство, ремонт) с жилой и коммерческой недвижимостью;\n",
    "* покупка и ремонт автомобиля;\n",
    "* получение разного рода образования;\n",
    "* свадьба;\n",
    "\n",
    "При этом необходимо отметить, что ключевое слово \"операция\" здесь не имеет отношения к врачебной или иной медицинской деятельности, а связано исключительно с недвижимостью.\n",
    "\n",
    "С помощью функции добавим в новый столбец `purpose_new` унифицированные значения целей кредита:"
   ]
  },
  {
   "cell_type": "code",
   "execution_count": 24,
   "metadata": {},
   "outputs": [],
   "source": [
    "def purpose_change(purpose):\n",
    "    lemma = m.lemmatize(purpose)\n",
    "    if 'автомобиль' in lemma:\n",
    "        return 'автомобиль'\n",
    "    elif 'недвижимость' in lemma:\n",
    "        return 'недвижимость'\n",
    "    elif 'жилье' in lemma:\n",
    "        return 'недвижимость' \n",
    "    elif 'образование' in lemma:\n",
    "        return 'образование'\n",
    "    elif 'свадьба' in lemma:\n",
    "        return 'свадьба'\n",
    "    elif 'автомобиль' in lemma:\n",
    "        return 'автомобиль'\n",
    "\n",
    "# создадим новый столбец df['purpose_new']\n",
    "df['purpose_new'] = df['purpose'].apply(purpose_change)"
   ]
  },
  {
   "cell_type": "code",
   "execution_count": 25,
   "metadata": {},
   "outputs": [
    {
     "data": {
      "text/plain": [
       "array(['недвижимость', 'автомобиль', 'образование', 'свадьба'],\n",
       "      dtype=object)"
      ]
     },
     "execution_count": 25,
     "metadata": {},
     "output_type": "execute_result"
    }
   ],
   "source": [
    "# проверим, все ли подтянулось правильно\n",
    "df['purpose_new'].unique()"
   ]
  },
  {
   "cell_type": "markdown",
   "metadata": {},
   "source": [
    "**Вывод**"
   ]
  },
  {
   "cell_type": "markdown",
   "metadata": {},
   "source": [
    "1. С помощью библиотеки `pymystem3` и встроенного в неё конструктора мы смогли обработать и получить леммы всех слов столбца `purpose`;\n",
    "2. Были получены ключевые слова и выделены основные цели получения кредита."
   ]
  },
  {
   "cell_type": "markdown",
   "metadata": {},
   "source": [
    "### Категоризация данных"
   ]
  },
  {
   "cell_type": "markdown",
   "metadata": {},
   "source": [
    "**Категоризация данных** - объединение/выделение данных по заданному критерию(-ям).\n",
    "Категоризацию проводят с целью выделить необходимые данные и сконцентрироваться на их анализе.\n",
    "\n",
    "Для того, чтобы провести категоризацию данных клиентов банка, ещё раз обратимся к целям исследования: выяснить, влияет ли семейное положение, количество детей и доход клиента на факт погашения кредита в срок, а также как на это влияют разные цели кредита? \n",
    "<br>Для ответа на эти вопросы выделим необходимые данные клиентов из датафрейма, а именно:\n",
    "* данные о семейном положении;\n",
    "* количестве детей;\n",
    "* уровень дохода;\n",
    "* цель кредита;\n",
    "* информацию о наличии задолженности по возврату кредитов.\n",
    "\n",
    "Для это применим индексацию в датафрейме:"
   ]
  },
  {
   "cell_type": "code",
   "execution_count": 26,
   "metadata": {},
   "outputs": [
    {
     "data": {
      "text/html": [
       "<div>\n",
       "<style scoped>\n",
       "    .dataframe tbody tr th:only-of-type {\n",
       "        vertical-align: middle;\n",
       "    }\n",
       "\n",
       "    .dataframe tbody tr th {\n",
       "        vertical-align: top;\n",
       "    }\n",
       "\n",
       "    .dataframe thead th {\n",
       "        text-align: right;\n",
       "    }\n",
       "</style>\n",
       "<table border=\"1\" class=\"dataframe\">\n",
       "  <thead>\n",
       "    <tr style=\"text-align: right;\">\n",
       "      <th></th>\n",
       "      <th>children</th>\n",
       "      <th>family_status</th>\n",
       "      <th>family_status_id</th>\n",
       "      <th>debt</th>\n",
       "      <th>total_income</th>\n",
       "      <th>purpose_new</th>\n",
       "    </tr>\n",
       "  </thead>\n",
       "  <tbody>\n",
       "    <tr>\n",
       "      <td>0</td>\n",
       "      <td>1</td>\n",
       "      <td>женат / замужем</td>\n",
       "      <td>0</td>\n",
       "      <td>0</td>\n",
       "      <td>253875</td>\n",
       "      <td>недвижимость</td>\n",
       "    </tr>\n",
       "    <tr>\n",
       "      <td>1</td>\n",
       "      <td>1</td>\n",
       "      <td>женат / замужем</td>\n",
       "      <td>0</td>\n",
       "      <td>0</td>\n",
       "      <td>112080</td>\n",
       "      <td>автомобиль</td>\n",
       "    </tr>\n",
       "    <tr>\n",
       "      <td>2</td>\n",
       "      <td>0</td>\n",
       "      <td>женат / замужем</td>\n",
       "      <td>0</td>\n",
       "      <td>0</td>\n",
       "      <td>145885</td>\n",
       "      <td>недвижимость</td>\n",
       "    </tr>\n",
       "    <tr>\n",
       "      <td>3</td>\n",
       "      <td>3</td>\n",
       "      <td>женат / замужем</td>\n",
       "      <td>0</td>\n",
       "      <td>0</td>\n",
       "      <td>267628</td>\n",
       "      <td>образование</td>\n",
       "    </tr>\n",
       "    <tr>\n",
       "      <td>4</td>\n",
       "      <td>0</td>\n",
       "      <td>гражданский брак</td>\n",
       "      <td>1</td>\n",
       "      <td>0</td>\n",
       "      <td>158616</td>\n",
       "      <td>свадьба</td>\n",
       "    </tr>\n",
       "    <tr>\n",
       "      <td>...</td>\n",
       "      <td>...</td>\n",
       "      <td>...</td>\n",
       "      <td>...</td>\n",
       "      <td>...</td>\n",
       "      <td>...</td>\n",
       "      <td>...</td>\n",
       "    </tr>\n",
       "    <tr>\n",
       "      <td>21520</td>\n",
       "      <td>1</td>\n",
       "      <td>гражданский брак</td>\n",
       "      <td>1</td>\n",
       "      <td>0</td>\n",
       "      <td>224791</td>\n",
       "      <td>недвижимость</td>\n",
       "    </tr>\n",
       "    <tr>\n",
       "      <td>21521</td>\n",
       "      <td>0</td>\n",
       "      <td>женат / замужем</td>\n",
       "      <td>0</td>\n",
       "      <td>0</td>\n",
       "      <td>155999</td>\n",
       "      <td>автомобиль</td>\n",
       "    </tr>\n",
       "    <tr>\n",
       "      <td>21522</td>\n",
       "      <td>1</td>\n",
       "      <td>гражданский брак</td>\n",
       "      <td>1</td>\n",
       "      <td>1</td>\n",
       "      <td>89672</td>\n",
       "      <td>недвижимость</td>\n",
       "    </tr>\n",
       "    <tr>\n",
       "      <td>21523</td>\n",
       "      <td>3</td>\n",
       "      <td>женат / замужем</td>\n",
       "      <td>0</td>\n",
       "      <td>1</td>\n",
       "      <td>244093</td>\n",
       "      <td>автомобиль</td>\n",
       "    </tr>\n",
       "    <tr>\n",
       "      <td>21524</td>\n",
       "      <td>2</td>\n",
       "      <td>женат / замужем</td>\n",
       "      <td>0</td>\n",
       "      <td>0</td>\n",
       "      <td>82047</td>\n",
       "      <td>автомобиль</td>\n",
       "    </tr>\n",
       "  </tbody>\n",
       "</table>\n",
       "<p>21525 rows × 6 columns</p>\n",
       "</div>"
      ],
      "text/plain": [
       "       children     family_status  family_status_id  debt  total_income  \\\n",
       "0             1   женат / замужем                 0     0        253875   \n",
       "1             1   женат / замужем                 0     0        112080   \n",
       "2             0   женат / замужем                 0     0        145885   \n",
       "3             3   женат / замужем                 0     0        267628   \n",
       "4             0  гражданский брак                 1     0        158616   \n",
       "...         ...               ...               ...   ...           ...   \n",
       "21520         1  гражданский брак                 1     0        224791   \n",
       "21521         0   женат / замужем                 0     0        155999   \n",
       "21522         1  гражданский брак                 1     1         89672   \n",
       "21523         3   женат / замужем                 0     1        244093   \n",
       "21524         2   женат / замужем                 0     0         82047   \n",
       "\n",
       "        purpose_new  \n",
       "0      недвижимость  \n",
       "1        автомобиль  \n",
       "2      недвижимость  \n",
       "3       образование  \n",
       "4           свадьба  \n",
       "...             ...  \n",
       "21520  недвижимость  \n",
       "21521    автомобиль  \n",
       "21522  недвижимость  \n",
       "21523    автомобиль  \n",
       "21524    автомобиль  \n",
       "\n",
       "[21525 rows x 6 columns]"
      ]
     },
     "metadata": {},
     "output_type": "display_data"
    }
   ],
   "source": [
    "df = df[['children','family_status','family_status_id','debt','total_income', 'purpose_new']]\n",
    "\n",
    "display(df)"
   ]
  },
  {
   "cell_type": "markdown",
   "metadata": {},
   "source": [
    "**Вывод**"
   ]
  },
  {
   "cell_type": "markdown",
   "metadata": {},
   "source": [
    "Была проведена категоризация данных:\n",
    "* выделены основные столбцы для проверки гипотез;\n",
    "* данные по семейному статусу выведены в отдельный словарь для удобства работы с датафреймом."
   ]
  },
  {
   "cell_type": "markdown",
   "metadata": {},
   "source": [
    "## Шаг 3. Ответьте на вопросы"
   ]
  },
  {
   "cell_type": "markdown",
   "metadata": {},
   "source": [
    "- Есть ли зависимость между наличием детей и возвратом кредита в срок?"
   ]
  },
  {
   "cell_type": "code",
   "execution_count": 27,
   "metadata": {},
   "outputs": [
    {
     "data": {
      "text/plain": [
       "children\n",
       "-1     0.021277\n",
       " 0     0.075129\n",
       " 1     0.092154\n",
       " 2     0.094404\n",
       " 3     0.081818\n",
       " 4     0.097561\n",
       " 5     0.000000\n",
       " 20    0.105263\n",
       "Name: debt, dtype: float64"
      ]
     },
     "execution_count": 27,
     "metadata": {},
     "output_type": "execute_result"
    }
   ],
   "source": [
    "# сгруппируем датафрейм по столбцу \"children\" и рассчитаем долю должников с детьми по каждой категории\n",
    "debt_children = df.groupby(by='children')['debt'].mean()\n",
    "debt_children"
   ]
  },
  {
   "cell_type": "code",
   "execution_count": 28,
   "metadata": {},
   "outputs": [
    {
     "data": {
      "text/plain": [
       "<matplotlib.axes._subplots.AxesSubplot at 0x7f9c2d6abd10>"
      ]
     },
     "execution_count": 28,
     "metadata": {},
     "output_type": "execute_result"
    },
    {
     "data": {
      "image/png": "[encoded data removed]",
      "text/plain": [
       "<Figure size 432x288 with 1 Axes>"
      ]
     },
     "metadata": {
      "needs_background": "light"
     },
     "output_type": "display_data"
    }
   ],
   "source": [
    "# Построим диаграмму рассеяния по данным таблицы:\n",
    "sns.scatterplot(data=debt_children)"
   ]
  },
  {
   "cell_type": "markdown",
   "metadata": {},
   "source": [
    "**Вывод**"
   ]
  },
  {
   "cell_type": "markdown",
   "metadata": {},
   "source": [
    "По данным диаграммы видно, что наибольший объем просрочек кредитов среди клиентов, у которых 20 детей в семье - 10,5%. Наименьшая - у семей без детей либо приёмные (-1). Прослеживается прямая связь: чем больше детей в семье, тем выше объём просрочек по кредитам. Иными словами наблюдается прямая зависимость между наличием детей и возвратом кредита в срок.\n",
    "\n",
    "Возможно, это связано с более высоким уровнем финансовой нагрузки заёмщиков с детьми. "
   ]
  },
  {
   "cell_type": "code",
   "execution_count": 36,
   "metadata": {},
   "outputs": [
    {
     "data": {
      "text/html": [
       "<style  type=\"text/css\" >\n",
       "</style><table id=\"T_b153d71c_622f_11ec_a202_02420a3970a3\" ><thead>    <tr>        <th class=\"blank level0\" ></th>        <th class=\"col_heading level0 col0\" >debt</th>    </tr>    <tr>        <th class=\"index_name level0\" >children</th>        <th class=\"blank\" ></th>    </tr></thead><tbody>\n",
       "                <tr>\n",
       "                        <th id=\"T_b153d71c_622f_11ec_a202_02420a3970a3level0_row0\" class=\"row_heading level0 row0\" >-1</th>\n",
       "                        <td id=\"T_b153d71c_622f_11ec_a202_02420a3970a3row0_col0\" class=\"data row0 col0\" >2.13%</td>\n",
       "            </tr>\n",
       "            <tr>\n",
       "                        <th id=\"T_b153d71c_622f_11ec_a202_02420a3970a3level0_row1\" class=\"row_heading level0 row1\" >0</th>\n",
       "                        <td id=\"T_b153d71c_622f_11ec_a202_02420a3970a3row1_col0\" class=\"data row1 col0\" >7.51%</td>\n",
       "            </tr>\n",
       "            <tr>\n",
       "                        <th id=\"T_b153d71c_622f_11ec_a202_02420a3970a3level0_row2\" class=\"row_heading level0 row2\" >1</th>\n",
       "                        <td id=\"T_b153d71c_622f_11ec_a202_02420a3970a3row2_col0\" class=\"data row2 col0\" >9.22%</td>\n",
       "            </tr>\n",
       "            <tr>\n",
       "                        <th id=\"T_b153d71c_622f_11ec_a202_02420a3970a3level0_row3\" class=\"row_heading level0 row3\" >2</th>\n",
       "                        <td id=\"T_b153d71c_622f_11ec_a202_02420a3970a3row3_col0\" class=\"data row3 col0\" >9.44%</td>\n",
       "            </tr>\n",
       "            <tr>\n",
       "                        <th id=\"T_b153d71c_622f_11ec_a202_02420a3970a3level0_row4\" class=\"row_heading level0 row4\" >3</th>\n",
       "                        <td id=\"T_b153d71c_622f_11ec_a202_02420a3970a3row4_col0\" class=\"data row4 col0\" >8.18%</td>\n",
       "            </tr>\n",
       "            <tr>\n",
       "                        <th id=\"T_b153d71c_622f_11ec_a202_02420a3970a3level0_row5\" class=\"row_heading level0 row5\" >4</th>\n",
       "                        <td id=\"T_b153d71c_622f_11ec_a202_02420a3970a3row5_col0\" class=\"data row5 col0\" >9.76%</td>\n",
       "            </tr>\n",
       "            <tr>\n",
       "                        <th id=\"T_b153d71c_622f_11ec_a202_02420a3970a3level0_row6\" class=\"row_heading level0 row6\" >5</th>\n",
       "                        <td id=\"T_b153d71c_622f_11ec_a202_02420a3970a3row6_col0\" class=\"data row6 col0\" >0.00%</td>\n",
       "            </tr>\n",
       "            <tr>\n",
       "                        <th id=\"T_b153d71c_622f_11ec_a202_02420a3970a3level0_row7\" class=\"row_heading level0 row7\" >20</th>\n",
       "                        <td id=\"T_b153d71c_622f_11ec_a202_02420a3970a3row7_col0\" class=\"data row7 col0\" >10.53%</td>\n",
       "            </tr>\n",
       "    </tbody></table>"
      ],
      "text/plain": [
       "<pandas.io.formats.style.Styler at 0x7f9c2d1955d0>"
      ]
     },
     "execution_count": 36,
     "metadata": {},
     "output_type": "execute_result"
    }
   ],
   "source": [
    "# Код ревьюера\n",
    "\n",
    "df.groupby('children').agg(debt=('debt','mean')).style.format({'debt' : '{:.2%}'.format})"
   ]
  },
  {
   "cell_type": "markdown",
   "metadata": {},
   "source": [
    "- Есть ли зависимость между семейным положением и возвратом кредита в срок?"
   ]
  },
  {
   "cell_type": "code",
   "execution_count": 29,
   "metadata": {
    "scrolled": true
   },
   "outputs": [
    {
     "data": {
      "text/html": [
       "<div>\n",
       "<style scoped>\n",
       "    .dataframe tbody tr th:only-of-type {\n",
       "        vertical-align: middle;\n",
       "    }\n",
       "\n",
       "    .dataframe tbody tr th {\n",
       "        vertical-align: top;\n",
       "    }\n",
       "\n",
       "    .dataframe thead th {\n",
       "        text-align: right;\n",
       "    }\n",
       "</style>\n",
       "<table border=\"1\" class=\"dataframe\">\n",
       "  <thead>\n",
       "    <tr style=\"text-align: right;\">\n",
       "      <th></th>\n",
       "      <th>debt</th>\n",
       "    </tr>\n",
       "    <tr>\n",
       "      <th>family_status</th>\n",
       "      <th></th>\n",
       "    </tr>\n",
       "  </thead>\n",
       "  <tbody>\n",
       "    <tr>\n",
       "      <td>вдовец / вдова</td>\n",
       "      <td>0.065625</td>\n",
       "    </tr>\n",
       "    <tr>\n",
       "      <td>в разводе</td>\n",
       "      <td>0.071130</td>\n",
       "    </tr>\n",
       "    <tr>\n",
       "      <td>женат / замужем</td>\n",
       "      <td>0.075202</td>\n",
       "    </tr>\n",
       "    <tr>\n",
       "      <td>гражданский брак</td>\n",
       "      <td>0.092890</td>\n",
       "    </tr>\n",
       "    <tr>\n",
       "      <td>не женат / не замужем</td>\n",
       "      <td>0.097405</td>\n",
       "    </tr>\n",
       "  </tbody>\n",
       "</table>\n",
       "</div>"
      ],
      "text/plain": [
       "                           debt\n",
       "family_status                  \n",
       "вдовец / вдова         0.065625\n",
       "в разводе              0.071130\n",
       "женат / замужем        0.075202\n",
       "гражданский брак       0.092890\n",
       "не женат / не замужем  0.097405"
      ]
     },
     "execution_count": 29,
     "metadata": {},
     "output_type": "execute_result"
    }
   ],
   "source": [
    "# рассчитаем долю просрочки по займам исходя из семейного положения \n",
    "debt_family_status = df.groupby('family_status')['family_status','debt'].mean()  \n",
    "debt_family_status.sort_values('debt')"
   ]
  },
  {
   "cell_type": "code",
   "execution_count": 30,
   "metadata": {},
   "outputs": [
    {
     "data": {
      "text/plain": [
       "<matplotlib.axes._subplots.AxesSubplot at 0x7f9c8ffab7d0>"
      ]
     },
     "execution_count": 30,
     "metadata": {},
     "output_type": "execute_result"
    },
    {
     "data": {
      "image/png": "[encoded data removed]",
      "text/plain": [
       "<Figure size 432x288 with 1 Axes>"
      ]
     },
     "metadata": {
      "needs_background": "light"
     },
     "output_type": "display_data"
    }
   ],
   "source": [
    "# Построим диаграмму рассеяния по данным таблицы:\n",
    "sns.scatterplot(data=debt_family_status)"
   ]
  },
  {
   "cell_type": "markdown",
   "metadata": {},
   "source": [
    "**Вывод**"
   ]
  },
  {
   "cell_type": "markdown",
   "metadata": {},
   "source": [
    "* По данным диаграммы можно сделать вывод, что `наибольшая доля просрочки` по кредитам среди людей в семейном положении `\"не женат / не замужем\"` и `\"гражданский брак\"`. `Наименьшая` - `\"вдовец / вдова\"`; \n",
    "* Однако говорить о четкой взаимосвязи между семейным положением и возвратом кредита в срок нельзя: люди в \"гражданском браке\" допускают просрочку по кредитам так же часто, как и \"не женат / не замужем\". И наоборот, \"женат / замужем\" допускают просрочку по кредитам примерно так же, как и \"вдовец / вдова\", \"в разводе\".\n",
    "\n",
    "Вторая гипотеза не подтверждена."
   ]
  },
  {
   "cell_type": "markdown",
   "metadata": {},
   "source": [
    "- Есть ли зависимость между уровнем дохода и возвратом кредита в срок?"
   ]
  },
  {
   "cell_type": "markdown",
   "metadata": {},
   "source": [
    "Разделим всех заёмщиков по уровню дохода на 5 групп. Для этого сортируем таблицу df по столбцу 'total_income':"
   ]
  },
  {
   "cell_type": "code",
   "execution_count": 31,
   "metadata": {
    "scrolled": false
   },
   "outputs": [],
   "source": [
    "# сортируем значения столбца 'total_income' по возрастанию\n",
    "df = df.sort_values('total_income')\n",
    "# разделим выборку на 5 карманов равной длинны добавим новый столбец 'section' в датафрейм; \n",
    "section_len = len(df['total_income'])/5\n",
    "# добавим новый столбец 'section' в датафрейм; \n",
    "df['section'] = (df.index/section_len).astype(int)"
   ]
  },
  {
   "cell_type": "markdown",
   "metadata": {},
   "source": [
    "Выведем долю просроченнных займов в разрезе групп доходов:"
   ]
  },
  {
   "cell_type": "code",
   "execution_count": 32,
   "metadata": {},
   "outputs": [
    {
     "name": "stdout",
     "output_type": "stream",
     "text": [
      "section\n",
      "0    0.072938\n",
      "1    0.075029\n",
      "2    0.090360\n",
      "3    0.079443\n",
      "4    0.086643\n",
      "Name: debt, dtype: float64\n"
     ]
    }
   ],
   "source": [
    "debt_total_income = df.groupby('section')['debt'].mean()\n",
    "print(debt_total_income)"
   ]
  },
  {
   "cell_type": "code",
   "execution_count": 33,
   "metadata": {},
   "outputs": [
    {
     "data": {
      "text/plain": [
       "<matplotlib.axes._subplots.AxesSubplot at 0x7f9c8f026310>"
      ]
     },
     "execution_count": 33,
     "metadata": {},
     "output_type": "execute_result"
    },
    {
     "data": {
      "image/png": "[encoded data removed]",
      "text/plain": [
       "<Figure size 432x288 with 1 Axes>"
      ]
     },
     "metadata": {
      "needs_background": "light"
     },
     "output_type": "display_data"
    }
   ],
   "source": [
    "# Построим диаграмму рассеяния по данным таблицы:\n",
    "sns.scatterplot(data=debt_total_income)"
   ]
  },
  {
   "cell_type": "markdown",
   "metadata": {},
   "source": [
    "**Вывод**"
   ]
  },
  {
   "cell_type": "markdown",
   "metadata": {},
   "source": [
    "* По данным диаграммы видно, что наибольшую долю просрочек (9%) имеют заемщики со средним уровнем дохода (2 \"карман\"), наименьшую - (7,3%) - с наиболее низкими доходами;\n",
    "* Наиболее состоятельные заемщики (4 \"карман\") относительно часто допускают просрочки, доля которых - 8,7%;\n",
    "* Высокий уровень просрочек состоятельных заемщиков (4 \"карман\"), возможно, связан с более высоким уровнем долговой нагрузки. Им, как и клиентам со средним уровнем дохода, банки наиболее часто и \"охотно\" выдают кредиты в отличие от замщиков с низкими доходами;\n",
    "* По данным диаграммы можно сделать вывод, что существует определенная зависимость между уровнем дохода и возвратом кредита в срок, которая описывается кривой на диаграмме рассеивания."
   ]
  },
  {
   "cell_type": "markdown",
   "metadata": {},
   "source": [
    "- Как разные цели кредита влияют на его возврат в срок?"
   ]
  },
  {
   "cell_type": "markdown",
   "metadata": {},
   "source": [
    "Для проверки гипотезы посчитаем долю просрочки по кредиту по каждой цели, указанной в заявке заемщика:"
   ]
  },
  {
   "cell_type": "code",
   "execution_count": 34,
   "metadata": {
    "scrolled": true
   },
   "outputs": [
    {
     "data": {
      "text/html": [
       "<div>\n",
       "<style scoped>\n",
       "    .dataframe tbody tr th:only-of-type {\n",
       "        vertical-align: middle;\n",
       "    }\n",
       "\n",
       "    .dataframe tbody tr th {\n",
       "        vertical-align: top;\n",
       "    }\n",
       "\n",
       "    .dataframe thead tr th {\n",
       "        text-align: left;\n",
       "    }\n",
       "\n",
       "    .dataframe thead tr:last-of-type th {\n",
       "        text-align: right;\n",
       "    }\n",
       "</style>\n",
       "<table border=\"1\" class=\"dataframe\">\n",
       "  <thead>\n",
       "    <tr>\n",
       "      <th></th>\n",
       "      <th>mean</th>\n",
       "    </tr>\n",
       "    <tr>\n",
       "      <th>debt_status</th>\n",
       "      <th>просрочка</th>\n",
       "    </tr>\n",
       "    <tr>\n",
       "      <th>purpose_new</th>\n",
       "      <th></th>\n",
       "    </tr>\n",
       "  </thead>\n",
       "  <tbody>\n",
       "    <tr>\n",
       "      <td>автомобиль</td>\n",
       "      <td>0.093395</td>\n",
       "    </tr>\n",
       "    <tr>\n",
       "      <td>недвижимость</td>\n",
       "      <td>0.072140</td>\n",
       "    </tr>\n",
       "    <tr>\n",
       "      <td>образование</td>\n",
       "      <td>0.091994</td>\n",
       "    </tr>\n",
       "    <tr>\n",
       "      <td>свадьба</td>\n",
       "      <td>0.079216</td>\n",
       "    </tr>\n",
       "  </tbody>\n",
       "</table>\n",
       "</div>"
      ],
      "text/plain": [
       "                  mean\n",
       "debt_status  просрочка\n",
       "purpose_new           \n",
       "автомобиль    0.093395\n",
       "недвижимость  0.072140\n",
       "образование   0.091994\n",
       "свадьба       0.079216"
      ]
     },
     "execution_count": 34,
     "metadata": {},
     "output_type": "execute_result"
    }
   ],
   "source": [
    "# добавим 'debt_status', приравняем к столбцу 'debt' и заменим просрочку - 1 на 'просрочка'\n",
    "df['debt_status'] = df['debt']\n",
    "df['debt_status'] = df[df['debt_status'] == 1] = 'просрочка'\n",
    "\n",
    "# построим сводную таблицу по данным датафрейма и присвоим её переменной pivot_table\n",
    "pivot_table = pd.pivot_table(df, columns='debt_status', values='debt', index='purpose_new',  aggfunc=['mean'])\n",
    "pivot_table"
   ]
  },
  {
   "cell_type": "markdown",
   "metadata": {},
   "source": [
    "**Вывод**"
   ]
  },
  {
   "cell_type": "markdown",
   "metadata": {},
   "source": [
    "* наибольшая доля просрочки среди категории \"автомобиль\" и \"образование\"   - 9.3% и 9.2% соответственно;\n",
    "* наименьшая доля просрочки среди категории \"недвижимость\" и \"свадьба\" - 7.2% и 7.9% соответственно.\n",
    "\n",
    "Можно сделать вывод, что наиболее дисциплинированными клиентами являются заемщики с целью кредита \"Операции (покупка, строительство, ремонт) с жилой и коммерческой недвижимостью\" и \"свадьба\". Операции с недвижимостью связаны, как правило, с длительным периодом кредитования и низким платежом (периодическим). На свадьбе люди, как правило, получает денежные подарки, за счёт которых возможно покрыть кредитные обязательства. Покупка/ремонт автомобиля и получение образования (в краткосрочной персопективе) такими преимуществами не обладают.\n",
    "\n",
    "Таким образом можно сделать вывод о том, что цель кредита влияет на его возврат в срок."
   ]
  },
  {
   "cell_type": "markdown",
   "metadata": {},
   "source": [
    "## Шаг 4. Общий вывод"
   ]
  },
  {
   "cell_type": "markdown",
   "metadata": {},
   "source": [
    "Было проведено исследование, проверены три гипотезы:\n",
    "\n",
    "**1. Есть ли зависимость между наличием детей и возвратом кредита в срок?**\n",
    "\n",
    "Прослеживается прямая связь: чем больше детей в семье, тем выше объём просрочек по кредитам. Иными словами наблюдается прямая зависимость между наличием детей и возвратом кредита в срок. Возможно, это связано с более высоким уровнем финансовой нагрузки заёмщиков с детьми.\n",
    "\n",
    "Первая гипотеза подтверждена полностью.\n",
    "\n",
    "**2. Есть ли зависимость между семейным положением и возвратом кредита в срок?**\n",
    "\n",
    "Четкой взаимосвязи между семейным положением и возвратом кредита нет: люди в \"гражданском браке\" допускают просрочку по кредитам так же часто, как и \"не женат / не замужем\". И наоборот - \"женат / замужем\" допускают просрочку по кредитам примерно так же, как и \"вдовец / вдова\", \"в разводе\".\n",
    "\n",
    "Вторая гипотеза не подтверждена.\n",
    "\n",
    "**3. Есть ли зависимость между уровнем дохода и возвратом кредита в срок?**\n",
    "\n",
    "Существует определенная зависимость между уровнем дохода и возвратом кредита в срок:\n",
    "* Высокий уровень просрочек состоятельных заемщиков (8,7%), возможно, связан с более высоким уровнем долговой нагрузки. Им, как и клиентам со средним уровнем дохода (доля просроченных кредитов - 9%), банки наиболее часто и \"охотно\" выдают кредиты в отличие от замщиков с низкими доходами.\n",
    "\n",
    "Третья гипотеза подтверждена.\n",
    "\n",
    "**Вопрос: \"Как разные цели кредита влияют на его возврат в срок?\"**\n",
    "\n",
    "Наиболее дисциплинированными клиентами являются заемщики, совершающие \"Операции (покупка, строительство, ремонт) с жилой и коммерческой недвижимости\" и целью которых является свадьба. В первом случае, это вызвано, как правило, длительным периодом кредитования и низким платежом (периодическим). На свадьбе люди, как правило, молодожены получают денежные подарки, за счёт которых возможно покрыть кредитные обязательства в короткие сроки. Покупка/ремонт автомобиля и получение образования (на коротком промежутке времени) такими преимуществами не обладают.\n",
    "\n",
    "Таким образом можно сделать вывод о том, что цель кредита влияет на его возврат в срок.\n"
   ]
  }
 ],
 "metadata": {
  "ExecuteTimeLog": [
   {
    "duration": 635,
    "start_time": "2021-12-12T12:18:00.559Z"
   },
   {
    "duration": 71,
    "start_time": "2021-12-12T12:18:20.896Z"
   },
   {
    "duration": 51,
    "start_time": "2021-12-12T12:18:34.842Z"
   },
   {
    "duration": 79,
    "start_time": "2021-12-12T12:25:50.826Z"
   },
   {
    "duration": 62,
    "start_time": "2021-12-12T12:27:33.362Z"
   },
   {
    "duration": 54,
    "start_time": "2021-12-12T12:28:26.281Z"
   },
   {
    "duration": 10,
    "start_time": "2021-12-12T12:29:22.432Z"
   },
   {
    "duration": 96,
    "start_time": "2021-12-12T12:47:21.029Z"
   },
   {
    "duration": 86,
    "start_time": "2021-12-12T12:47:31.051Z"
   },
   {
    "duration": 82,
    "start_time": "2021-12-12T12:49:52.737Z"
   },
   {
    "duration": 9,
    "start_time": "2021-12-12T14:13:47.175Z"
   },
   {
    "duration": 215,
    "start_time": "2021-12-13T05:33:14.397Z"
   },
   {
    "duration": 166,
    "start_time": "2021-12-13T05:33:28.901Z"
   },
   {
    "duration": 169,
    "start_time": "2021-12-13T05:34:06.895Z"
   },
   {
    "duration": 605,
    "start_time": "2021-12-13T05:34:13.662Z"
   },
   {
    "duration": 10,
    "start_time": "2021-12-13T05:34:14.269Z"
   },
   {
    "duration": 10,
    "start_time": "2021-12-13T05:34:14.281Z"
   },
   {
    "duration": 20,
    "start_time": "2021-12-13T05:34:14.293Z"
   },
   {
    "duration": 12,
    "start_time": "2021-12-13T05:34:55.727Z"
   },
   {
    "duration": 14,
    "start_time": "2021-12-13T05:35:04.486Z"
   },
   {
    "duration": 15,
    "start_time": "2021-12-13T05:35:10.671Z"
   },
   {
    "duration": 32,
    "start_time": "2021-12-13T05:47:13.483Z"
   },
   {
    "duration": 35,
    "start_time": "2021-12-13T05:47:22.626Z"
   },
   {
    "duration": 32,
    "start_time": "2021-12-13T05:47:39.708Z"
   },
   {
    "duration": 23,
    "start_time": "2021-12-13T05:47:49.233Z"
   },
   {
    "duration": 24,
    "start_time": "2021-12-13T05:47:58.034Z"
   },
   {
    "duration": 17,
    "start_time": "2021-12-13T05:54:11.663Z"
   },
   {
    "duration": 266,
    "start_time": "2021-12-13T06:00:42.357Z"
   },
   {
    "duration": 195,
    "start_time": "2021-12-13T06:01:28.622Z"
   },
   {
    "duration": 198,
    "start_time": "2021-12-13T06:01:50.840Z"
   },
   {
    "duration": 205,
    "start_time": "2021-12-13T06:02:26.574Z"
   },
   {
    "duration": 19,
    "start_time": "2021-12-13T06:02:48.573Z"
   },
   {
    "duration": 197,
    "start_time": "2021-12-13T06:04:26.078Z"
   },
   {
    "duration": 16,
    "start_time": "2021-12-13T06:04:32.124Z"
   },
   {
    "duration": 242,
    "start_time": "2021-12-13T06:04:43.917Z"
   },
   {
    "duration": 186,
    "start_time": "2021-12-13T06:04:51.893Z"
   },
   {
    "duration": 16,
    "start_time": "2021-12-13T06:14:23.194Z"
   },
   {
    "duration": 18,
    "start_time": "2021-12-13T06:14:42.337Z"
   },
   {
    "duration": 23,
    "start_time": "2021-12-13T06:15:06.337Z"
   },
   {
    "duration": 13,
    "start_time": "2021-12-13T06:22:06.807Z"
   },
   {
    "duration": 30,
    "start_time": "2021-12-13T06:22:20.367Z"
   },
   {
    "duration": 30,
    "start_time": "2021-12-13T06:23:45.456Z"
   },
   {
    "duration": 62,
    "start_time": "2021-12-13T06:23:55.091Z"
   },
   {
    "duration": 11,
    "start_time": "2021-12-13T06:23:55.155Z"
   },
   {
    "duration": 27,
    "start_time": "2021-12-13T06:23:55.168Z"
   },
   {
    "duration": 31,
    "start_time": "2021-12-13T06:23:55.198Z"
   },
   {
    "duration": 27,
    "start_time": "2021-12-13T06:23:55.232Z"
   },
   {
    "duration": 15,
    "start_time": "2021-12-13T06:24:20.952Z"
   },
   {
    "duration": 60,
    "start_time": "2021-12-13T06:25:13.743Z"
   },
   {
    "duration": 10,
    "start_time": "2021-12-13T06:25:13.805Z"
   },
   {
    "duration": 11,
    "start_time": "2021-12-13T06:25:13.817Z"
   },
   {
    "duration": 26,
    "start_time": "2021-12-13T06:25:13.829Z"
   },
   {
    "duration": 43,
    "start_time": "2021-12-13T06:25:13.857Z"
   },
   {
    "duration": 25,
    "start_time": "2021-12-13T06:25:35.663Z"
   },
   {
    "duration": 796,
    "start_time": "2021-12-13T06:25:55.543Z"
   },
   {
    "duration": 13,
    "start_time": "2021-12-13T06:25:56.341Z"
   },
   {
    "duration": 35,
    "start_time": "2021-12-13T06:25:56.357Z"
   },
   {
    "duration": 17,
    "start_time": "2021-12-13T06:25:56.395Z"
   },
   {
    "duration": 24,
    "start_time": "2021-12-13T06:25:56.414Z"
   },
   {
    "duration": 13,
    "start_time": "2021-12-13T06:26:19.272Z"
   },
   {
    "duration": 7,
    "start_time": "2021-12-13T06:26:46.152Z"
   },
   {
    "duration": 10,
    "start_time": "2021-12-13T06:26:48.871Z"
   },
   {
    "duration": 9,
    "start_time": "2021-12-13T06:28:37.730Z"
   },
   {
    "duration": 13,
    "start_time": "2021-12-13T06:29:06.752Z"
   },
   {
    "duration": 10,
    "start_time": "2021-12-13T06:29:13.847Z"
   },
   {
    "duration": 59,
    "start_time": "2021-12-13T06:29:17.773Z"
   },
   {
    "duration": 10,
    "start_time": "2021-12-13T06:29:17.834Z"
   },
   {
    "duration": 9,
    "start_time": "2021-12-13T06:29:17.846Z"
   },
   {
    "duration": 45,
    "start_time": "2021-12-13T06:29:17.857Z"
   },
   {
    "duration": 7,
    "start_time": "2021-12-13T06:29:17.903Z"
   },
   {
    "duration": 9,
    "start_time": "2021-12-13T06:29:17.911Z"
   },
   {
    "duration": 396,
    "start_time": "2021-12-13T06:50:20.018Z"
   },
   {
    "duration": 178,
    "start_time": "2021-12-13T06:56:03.976Z"
   },
   {
    "duration": 4,
    "start_time": "2021-12-13T06:57:12.520Z"
   },
   {
    "duration": 13,
    "start_time": "2021-12-13T06:57:36.823Z"
   },
   {
    "duration": 171,
    "start_time": "2021-12-13T06:58:08.936Z"
   },
   {
    "duration": 240,
    "start_time": "2021-12-13T06:58:12.448Z"
   },
   {
    "duration": 8,
    "start_time": "2021-12-13T07:04:23.550Z"
   },
   {
    "duration": 16,
    "start_time": "2021-12-13T07:14:42.140Z"
   },
   {
    "duration": 7,
    "start_time": "2021-12-13T07:26:16.370Z"
   },
   {
    "duration": 196,
    "start_time": "2021-12-13T07:26:24.530Z"
   },
   {
    "duration": 4527,
    "start_time": "2021-12-13T07:26:43.187Z"
   },
   {
    "duration": 212,
    "start_time": "2021-12-13T07:26:51.300Z"
   },
   {
    "duration": 7,
    "start_time": "2021-12-13T07:27:11.322Z"
   },
   {
    "duration": 10,
    "start_time": "2021-12-13T07:28:03.185Z"
   },
   {
    "duration": 9,
    "start_time": "2021-12-13T07:30:04.954Z"
   },
   {
    "duration": 8,
    "start_time": "2021-12-13T07:30:30.969Z"
   },
   {
    "duration": 8,
    "start_time": "2021-12-13T07:30:56.249Z"
   },
   {
    "duration": 8,
    "start_time": "2021-12-13T07:32:22.945Z"
   },
   {
    "duration": 7,
    "start_time": "2021-12-13T07:32:37.265Z"
   },
   {
    "duration": 7,
    "start_time": "2021-12-13T07:32:43.937Z"
   },
   {
    "duration": 8,
    "start_time": "2021-12-13T07:33:23.619Z"
   },
   {
    "duration": 226,
    "start_time": "2021-12-13T08:02:28.396Z"
   },
   {
    "duration": 163,
    "start_time": "2021-12-13T08:05:27.009Z"
   },
   {
    "duration": 3519,
    "start_time": "2021-12-13T08:07:24.185Z"
   },
   {
    "duration": 2977,
    "start_time": "2021-12-13T08:07:46.713Z"
   },
   {
    "duration": 175,
    "start_time": "2021-12-13T08:08:18.617Z"
   },
   {
    "duration": 11,
    "start_time": "2021-12-13T08:10:13.975Z"
   },
   {
    "duration": 16,
    "start_time": "2021-12-13T08:28:25.723Z"
   },
   {
    "duration": 173,
    "start_time": "2021-12-13T08:30:00.826Z"
   },
   {
    "duration": 18,
    "start_time": "2021-12-13T08:30:12.745Z"
   },
   {
    "duration": 6,
    "start_time": "2021-12-13T08:31:21.658Z"
   },
   {
    "duration": 11,
    "start_time": "2021-12-13T08:31:34.354Z"
   },
   {
    "duration": 30,
    "start_time": "2021-12-13T08:33:19.627Z"
   },
   {
    "duration": 21,
    "start_time": "2021-12-13T08:33:43.139Z"
   },
   {
    "duration": 21,
    "start_time": "2021-12-13T08:35:02.242Z"
   },
   {
    "duration": 233,
    "start_time": "2021-12-13T09:02:43.060Z"
   },
   {
    "duration": 169,
    "start_time": "2021-12-13T09:03:03.995Z"
   },
   {
    "duration": 198,
    "start_time": "2021-12-13T09:09:03.236Z"
   },
   {
    "duration": 5210,
    "start_time": "2021-12-13T09:09:24.363Z"
   },
   {
    "duration": 19,
    "start_time": "2021-12-13T09:10:29.722Z"
   },
   {
    "duration": 190,
    "start_time": "2021-12-13T09:11:10.275Z"
   },
   {
    "duration": 204,
    "start_time": "2021-12-13T09:11:46.178Z"
   },
   {
    "duration": 4,
    "start_time": "2021-12-13T09:14:11.803Z"
   },
   {
    "duration": 5,
    "start_time": "2021-12-13T09:14:25.011Z"
   },
   {
    "duration": 5,
    "start_time": "2021-12-13T09:14:30.010Z"
   },
   {
    "duration": 3518,
    "start_time": "2021-12-13T09:15:23.098Z"
   },
   {
    "duration": 2729,
    "start_time": "2021-12-13T09:15:49.835Z"
   },
   {
    "duration": 3068,
    "start_time": "2021-12-13T09:16:13.144Z"
   },
   {
    "duration": 2683,
    "start_time": "2021-12-13T09:18:25.386Z"
   },
   {
    "duration": 24,
    "start_time": "2021-12-13T09:19:03.738Z"
   },
   {
    "duration": 22171,
    "start_time": "2021-12-13T09:21:04.955Z"
   },
   {
    "duration": 31622,
    "start_time": "2021-12-13T09:22:36.402Z"
   },
   {
    "duration": 32358,
    "start_time": "2021-12-13T09:24:30.154Z"
   },
   {
    "duration": 33666,
    "start_time": "2021-12-13T09:25:41.184Z"
   },
   {
    "duration": 32286,
    "start_time": "2021-12-13T09:26:25.952Z"
   },
   {
    "duration": 256,
    "start_time": "2021-12-13T09:30:13.260Z"
   },
   {
    "duration": 181,
    "start_time": "2021-12-13T09:30:27.704Z"
   },
   {
    "duration": 18,
    "start_time": "2021-12-13T09:30:59.664Z"
   },
   {
    "duration": 849,
    "start_time": "2021-12-13T09:37:13.600Z"
   },
   {
    "duration": 222,
    "start_time": "2021-12-13T09:38:20.544Z"
   },
   {
    "duration": 3719,
    "start_time": "2021-12-13T09:39:25.223Z"
   },
   {
    "duration": 3964,
    "start_time": "2021-12-13T09:40:39.746Z"
   },
   {
    "duration": 6,
    "start_time": "2021-12-13T09:41:12.454Z"
   },
   {
    "duration": 5,
    "start_time": "2021-12-13T09:41:16.510Z"
   },
   {
    "duration": 5,
    "start_time": "2021-12-13T09:41:28.254Z"
   },
   {
    "duration": 5,
    "start_time": "2021-12-13T09:41:40.742Z"
   },
   {
    "duration": 295,
    "start_time": "2021-12-13T09:42:22.502Z"
   },
   {
    "duration": 9,
    "start_time": "2021-12-13T09:42:29.540Z"
   },
   {
    "duration": 3058,
    "start_time": "2021-12-13T09:43:25.806Z"
   },
   {
    "duration": 3112,
    "start_time": "2021-12-13T09:44:33.748Z"
   },
   {
    "duration": 19,
    "start_time": "2021-12-13T09:44:48.515Z"
   },
   {
    "duration": 184,
    "start_time": "2021-12-13T09:52:42.994Z"
   },
   {
    "duration": 843,
    "start_time": "2021-12-13T09:53:23.033Z"
   },
   {
    "duration": 3508,
    "start_time": "2021-12-13T09:56:12.905Z"
   },
   {
    "duration": 3104,
    "start_time": "2021-12-13T10:02:38.831Z"
   },
   {
    "duration": 25,
    "start_time": "2021-12-13T17:51:15.867Z"
   },
   {
    "duration": 23,
    "start_time": "2021-12-13T17:52:00.376Z"
   },
   {
    "duration": 3348,
    "start_time": "2021-12-13T17:57:06.800Z"
   },
   {
    "duration": 208,
    "start_time": "2021-12-13T18:05:17.772Z"
   },
   {
    "duration": 173,
    "start_time": "2021-12-13T18:10:26.635Z"
   },
   {
    "duration": 177,
    "start_time": "2021-12-13T18:11:07.400Z"
   },
   {
    "duration": 168,
    "start_time": "2021-12-13T18:11:53.650Z"
   },
   {
    "duration": 174,
    "start_time": "2021-12-13T18:12:05.533Z"
   },
   {
    "duration": 8,
    "start_time": "2021-12-13T18:13:07.111Z"
   },
   {
    "duration": 197,
    "start_time": "2021-12-13T18:13:23.200Z"
   },
   {
    "duration": 9,
    "start_time": "2021-12-13T18:13:55.011Z"
   },
   {
    "duration": 167,
    "start_time": "2021-12-13T18:14:11.148Z"
   },
   {
    "duration": 178,
    "start_time": "2021-12-13T18:15:21.395Z"
   },
   {
    "duration": 181,
    "start_time": "2021-12-13T18:16:13.125Z"
   },
   {
    "duration": 759,
    "start_time": "2021-12-13T18:16:36.081Z"
   },
   {
    "duration": 760,
    "start_time": "2021-12-13T18:18:02.276Z"
   },
   {
    "duration": 207,
    "start_time": "2021-12-13T18:18:27.183Z"
   },
   {
    "duration": 693,
    "start_time": "2021-12-13T18:19:11.714Z"
   },
   {
    "duration": 10,
    "start_time": "2021-12-13T18:19:30.549Z"
   },
   {
    "duration": 12,
    "start_time": "2021-12-13T18:19:38.990Z"
   },
   {
    "duration": 8,
    "start_time": "2021-12-13T18:19:44.178Z"
   },
   {
    "duration": 9,
    "start_time": "2021-12-13T18:19:49.165Z"
   },
   {
    "duration": 8,
    "start_time": "2021-12-13T18:20:08.344Z"
   },
   {
    "duration": 693,
    "start_time": "2021-12-13T18:20:38.979Z"
   },
   {
    "duration": 703,
    "start_time": "2021-12-13T18:20:55.871Z"
   },
   {
    "duration": 189,
    "start_time": "2021-12-13T18:24:38.022Z"
   },
   {
    "duration": 4,
    "start_time": "2021-12-13T18:26:53.967Z"
   },
   {
    "duration": 4,
    "start_time": "2021-12-13T18:27:04.185Z"
   },
   {
    "duration": 5,
    "start_time": "2021-12-13T18:27:59.357Z"
   },
   {
    "duration": 5,
    "start_time": "2021-12-13T18:28:17.278Z"
   },
   {
    "duration": 4918,
    "start_time": "2021-12-13T19:15:54.352Z"
   },
   {
    "duration": 4762,
    "start_time": "2021-12-13T19:16:25.165Z"
   },
   {
    "duration": 213,
    "start_time": "2021-12-13T19:16:59.503Z"
   },
   {
    "duration": 3210,
    "start_time": "2021-12-13T19:17:12.866Z"
   },
   {
    "duration": 387,
    "start_time": "2021-12-14T18:47:27.814Z"
   },
   {
    "duration": 343,
    "start_time": "2021-12-14T18:49:32.473Z"
   },
   {
    "duration": 658,
    "start_time": "2021-12-14T18:49:42.639Z"
   },
   {
    "duration": 11,
    "start_time": "2021-12-14T18:49:43.299Z"
   },
   {
    "duration": 10,
    "start_time": "2021-12-14T18:49:43.312Z"
   },
   {
    "duration": 16,
    "start_time": "2021-12-14T18:49:43.324Z"
   },
   {
    "duration": 7,
    "start_time": "2021-12-14T18:49:43.341Z"
   },
   {
    "duration": 8,
    "start_time": "2021-12-14T18:49:43.349Z"
   },
   {
    "duration": 6,
    "start_time": "2021-12-14T18:49:43.359Z"
   },
   {
    "duration": 47,
    "start_time": "2021-12-14T18:49:43.367Z"
   },
   {
    "duration": 7,
    "start_time": "2021-12-14T18:49:43.417Z"
   },
   {
    "duration": 9,
    "start_time": "2021-12-14T18:49:43.427Z"
   },
   {
    "duration": 7,
    "start_time": "2021-12-14T18:49:43.438Z"
   },
   {
    "duration": 7,
    "start_time": "2021-12-14T18:49:43.447Z"
   },
   {
    "duration": 8,
    "start_time": "2021-12-14T18:49:43.456Z"
   },
   {
    "duration": 48,
    "start_time": "2021-12-14T18:49:43.466Z"
   },
   {
    "duration": 9,
    "start_time": "2021-12-14T18:49:43.516Z"
   },
   {
    "duration": 20,
    "start_time": "2021-12-14T18:49:43.527Z"
   },
   {
    "duration": 681,
    "start_time": "2021-12-14T18:49:43.549Z"
   },
   {
    "duration": 7,
    "start_time": "2021-12-14T18:49:44.233Z"
   },
   {
    "duration": 9010,
    "start_time": "2021-12-14T18:49:44.242Z"
   },
   {
    "duration": 651,
    "start_time": "2021-12-15T17:48:01.672Z"
   },
   {
    "duration": 942,
    "start_time": "2021-12-15T17:48:08.231Z"
   },
   {
    "duration": 15,
    "start_time": "2021-12-15T17:48:09.176Z"
   },
   {
    "duration": 12,
    "start_time": "2021-12-15T17:48:09.195Z"
   },
   {
    "duration": 53,
    "start_time": "2021-12-15T17:48:09.210Z"
   },
   {
    "duration": 10,
    "start_time": "2021-12-15T17:48:09.265Z"
   },
   {
    "duration": 15,
    "start_time": "2021-12-15T17:48:09.278Z"
   },
   {
    "duration": 12,
    "start_time": "2021-12-15T17:48:09.296Z"
   },
   {
    "duration": 71,
    "start_time": "2021-12-15T17:48:09.310Z"
   },
   {
    "duration": 14,
    "start_time": "2021-12-15T17:48:09.386Z"
   },
   {
    "duration": 16,
    "start_time": "2021-12-15T17:48:09.404Z"
   },
   {
    "duration": 41,
    "start_time": "2021-12-15T17:48:09.423Z"
   },
   {
    "duration": 12,
    "start_time": "2021-12-15T17:48:09.467Z"
   },
   {
    "duration": 16,
    "start_time": "2021-12-15T17:48:09.481Z"
   },
   {
    "duration": 25,
    "start_time": "2021-12-15T17:48:09.500Z"
   },
   {
    "duration": 11,
    "start_time": "2021-12-15T17:48:09.559Z"
   },
   {
    "duration": 32,
    "start_time": "2021-12-15T17:48:09.573Z"
   },
   {
    "duration": 997,
    "start_time": "2021-12-15T17:48:09.607Z"
   },
   {
    "duration": 8,
    "start_time": "2021-12-15T17:48:10.607Z"
   },
   {
    "duration": 7,
    "start_time": "2021-12-15T17:48:10.617Z"
   },
   {
    "duration": 5,
    "start_time": "2021-12-15T17:50:11.772Z"
   },
   {
    "duration": 9595,
    "start_time": "2021-12-15T17:50:21.158Z"
   },
   {
    "duration": 10835,
    "start_time": "2021-12-15T17:50:35.142Z"
   },
   {
    "duration": 31,
    "start_time": "2021-12-15T17:51:05.224Z"
   },
   {
    "duration": 28,
    "start_time": "2021-12-15T17:51:15.029Z"
   },
   {
    "duration": 55,
    "start_time": "2021-12-15T18:02:47.873Z"
   },
   {
    "duration": 80,
    "start_time": "2021-12-15T18:02:54.188Z"
   },
   {
    "duration": 17,
    "start_time": "2021-12-15T18:02:54.271Z"
   },
   {
    "duration": 12,
    "start_time": "2021-12-15T18:02:54.292Z"
   },
   {
    "duration": 58,
    "start_time": "2021-12-15T18:02:54.306Z"
   },
   {
    "duration": 12,
    "start_time": "2021-12-15T18:02:54.367Z"
   },
   {
    "duration": 13,
    "start_time": "2021-12-15T18:02:54.382Z"
   },
   {
    "duration": 11,
    "start_time": "2021-12-15T18:02:54.398Z"
   },
   {
    "duration": 75,
    "start_time": "2021-12-15T18:02:54.412Z"
   },
   {
    "duration": 14,
    "start_time": "2021-12-15T18:02:54.493Z"
   },
   {
    "duration": 12,
    "start_time": "2021-12-15T18:02:54.510Z"
   },
   {
    "duration": 36,
    "start_time": "2021-12-15T18:02:54.524Z"
   },
   {
    "duration": 19,
    "start_time": "2021-12-15T18:02:54.563Z"
   },
   {
    "duration": 14,
    "start_time": "2021-12-15T18:02:54.585Z"
   },
   {
    "duration": 18,
    "start_time": "2021-12-15T18:02:54.602Z"
   },
   {
    "duration": 41,
    "start_time": "2021-12-15T18:02:54.622Z"
   },
   {
    "duration": 57,
    "start_time": "2021-12-15T18:02:54.666Z"
   },
   {
    "duration": 1140,
    "start_time": "2021-12-15T18:02:54.726Z"
   },
   {
    "duration": 9,
    "start_time": "2021-12-15T18:02:55.869Z"
   },
   {
    "duration": 40,
    "start_time": "2021-12-15T18:02:55.880Z"
   },
   {
    "duration": 32,
    "start_time": "2021-12-15T18:03:14.556Z"
   },
   {
    "duration": 25,
    "start_time": "2021-12-15T18:04:20.786Z"
   },
   {
    "duration": 970,
    "start_time": "2021-12-15T18:10:31.020Z"
   },
   {
    "duration": 34,
    "start_time": "2021-12-15T18:10:58.767Z"
   },
   {
    "duration": 4,
    "start_time": "2021-12-15T18:19:13.711Z"
   },
   {
    "duration": 4,
    "start_time": "2021-12-15T18:19:16.803Z"
   },
   {
    "duration": 131,
    "start_time": "2021-12-15T18:19:22.413Z"
   },
   {
    "duration": 250,
    "start_time": "2021-12-15T18:20:24.210Z"
   },
   {
    "duration": 17,
    "start_time": "2021-12-15T18:20:33.356Z"
   },
   {
    "duration": 427,
    "start_time": "2021-12-15T18:20:51.943Z"
   },
   {
    "duration": 20,
    "start_time": "2021-12-15T18:21:37.345Z"
   },
   {
    "duration": 9,
    "start_time": "2021-12-15T18:23:09.382Z"
   },
   {
    "duration": 11,
    "start_time": "2021-12-15T18:35:00.282Z"
   },
   {
    "duration": 134,
    "start_time": "2021-12-15T18:36:59.658Z"
   },
   {
    "duration": 15,
    "start_time": "2021-12-15T18:37:07.282Z"
   },
   {
    "duration": 83,
    "start_time": "2021-12-15T18:37:42.801Z"
   },
   {
    "duration": 14,
    "start_time": "2021-12-15T18:37:42.887Z"
   },
   {
    "duration": 14,
    "start_time": "2021-12-15T18:37:42.904Z"
   },
   {
    "duration": 36,
    "start_time": "2021-12-15T18:37:42.962Z"
   },
   {
    "duration": 14,
    "start_time": "2021-12-15T18:37:43.001Z"
   },
   {
    "duration": 41,
    "start_time": "2021-12-15T18:37:43.018Z"
   },
   {
    "duration": 12,
    "start_time": "2021-12-15T18:37:43.063Z"
   },
   {
    "duration": 23,
    "start_time": "2021-12-15T18:37:43.077Z"
   },
   {
    "duration": 11,
    "start_time": "2021-12-15T18:37:43.105Z"
   },
   {
    "duration": 50,
    "start_time": "2021-12-15T18:37:43.119Z"
   },
   {
    "duration": 10,
    "start_time": "2021-12-15T18:37:43.171Z"
   },
   {
    "duration": 9,
    "start_time": "2021-12-15T18:37:43.183Z"
   },
   {
    "duration": 9,
    "start_time": "2021-12-15T18:37:43.194Z"
   },
   {
    "duration": 55,
    "start_time": "2021-12-15T18:37:43.205Z"
   },
   {
    "duration": 14,
    "start_time": "2021-12-15T18:37:43.262Z"
   },
   {
    "duration": 11,
    "start_time": "2021-12-15T18:37:43.279Z"
   },
   {
    "duration": 31,
    "start_time": "2021-12-15T18:37:43.292Z"
   },
   {
    "duration": 13,
    "start_time": "2021-12-15T18:37:43.360Z"
   },
   {
    "duration": 991,
    "start_time": "2021-12-15T18:37:43.375Z"
   },
   {
    "duration": 8,
    "start_time": "2021-12-15T18:37:44.369Z"
   },
   {
    "duration": 32,
    "start_time": "2021-12-15T18:37:44.380Z"
   },
   {
    "duration": 47,
    "start_time": "2021-12-15T18:37:44.415Z"
   },
   {
    "duration": 17,
    "start_time": "2021-12-15T18:38:00.935Z"
   },
   {
    "duration": 5,
    "start_time": "2021-12-15T18:41:29.778Z"
   },
   {
    "duration": 732,
    "start_time": "2021-12-15T18:45:41.328Z"
   },
   {
    "duration": 118,
    "start_time": "2021-12-15T18:45:45.068Z"
   },
   {
    "duration": 7,
    "start_time": "2021-12-15T18:45:48.839Z"
   },
   {
    "duration": 13,
    "start_time": "2021-12-15T18:47:57.003Z"
   },
   {
    "duration": 453,
    "start_time": "2021-12-15T18:48:37.848Z"
   },
   {
    "duration": 366,
    "start_time": "2021-12-15T18:48:51.823Z"
   },
   {
    "duration": 82,
    "start_time": "2021-12-15T18:49:04.295Z"
   },
   {
    "duration": 14,
    "start_time": "2021-12-15T18:49:04.380Z"
   },
   {
    "duration": 14,
    "start_time": "2021-12-15T18:49:04.398Z"
   },
   {
    "duration": 60,
    "start_time": "2021-12-15T18:49:04.416Z"
   },
   {
    "duration": 11,
    "start_time": "2021-12-15T18:49:04.479Z"
   },
   {
    "duration": 13,
    "start_time": "2021-12-15T18:49:04.493Z"
   },
   {
    "duration": 57,
    "start_time": "2021-12-15T18:49:04.509Z"
   },
   {
    "duration": 21,
    "start_time": "2021-12-15T18:49:04.571Z"
   },
   {
    "duration": 10,
    "start_time": "2021-12-15T18:49:04.596Z"
   },
   {
    "duration": 52,
    "start_time": "2021-12-15T18:49:04.610Z"
   },
   {
    "duration": 10,
    "start_time": "2021-12-15T18:49:04.666Z"
   },
   {
    "duration": 10,
    "start_time": "2021-12-15T18:49:04.679Z"
   },
   {
    "duration": 10,
    "start_time": "2021-12-15T18:49:04.692Z"
   },
   {
    "duration": 12,
    "start_time": "2021-12-15T18:49:04.705Z"
   },
   {
    "duration": 52,
    "start_time": "2021-12-15T18:49:04.719Z"
   },
   {
    "duration": 15,
    "start_time": "2021-12-15T18:49:04.774Z"
   },
   {
    "duration": 32,
    "start_time": "2021-12-15T18:49:04.791Z"
   },
   {
    "duration": 38,
    "start_time": "2021-12-15T18:49:04.825Z"
   },
   {
    "duration": 1041,
    "start_time": "2021-12-15T18:49:04.865Z"
   },
   {
    "duration": 7,
    "start_time": "2021-12-15T18:49:05.909Z"
   },
   {
    "duration": 54,
    "start_time": "2021-12-15T18:49:05.919Z"
   },
   {
    "duration": 16,
    "start_time": "2021-12-15T18:49:05.976Z"
   },
   {
    "duration": 5,
    "start_time": "2021-12-15T18:49:05.996Z"
   },
   {
    "duration": 406,
    "start_time": "2021-12-15T18:51:17.919Z"
   },
   {
    "duration": 368,
    "start_time": "2021-12-15T18:51:38.957Z"
   },
   {
    "duration": 79,
    "start_time": "2021-12-15T18:51:54.133Z"
   },
   {
    "duration": 14,
    "start_time": "2021-12-15T18:51:54.215Z"
   },
   {
    "duration": 37,
    "start_time": "2021-12-15T18:51:54.232Z"
   },
   {
    "duration": 25,
    "start_time": "2021-12-15T18:51:54.272Z"
   },
   {
    "duration": 11,
    "start_time": "2021-12-15T18:51:54.300Z"
   },
   {
    "duration": 16,
    "start_time": "2021-12-15T18:51:54.313Z"
   },
   {
    "duration": 10,
    "start_time": "2021-12-15T18:51:54.361Z"
   },
   {
    "duration": 25,
    "start_time": "2021-12-15T18:51:54.373Z"
   },
   {
    "duration": 9,
    "start_time": "2021-12-15T18:51:54.402Z"
   },
   {
    "duration": 49,
    "start_time": "2021-12-15T18:51:54.414Z"
   },
   {
    "duration": 11,
    "start_time": "2021-12-15T18:51:54.465Z"
   },
   {
    "duration": 10,
    "start_time": "2021-12-15T18:51:54.478Z"
   },
   {
    "duration": 12,
    "start_time": "2021-12-15T18:51:54.490Z"
   },
   {
    "duration": 54,
    "start_time": "2021-12-15T18:51:54.505Z"
   },
   {
    "duration": 16,
    "start_time": "2021-12-15T18:51:54.561Z"
   },
   {
    "duration": 13,
    "start_time": "2021-12-15T18:51:54.580Z"
   },
   {
    "duration": 66,
    "start_time": "2021-12-15T18:51:54.595Z"
   },
   {
    "duration": 13,
    "start_time": "2021-12-15T18:51:54.664Z"
   },
   {
    "duration": 990,
    "start_time": "2021-12-15T18:51:54.680Z"
   },
   {
    "duration": 8,
    "start_time": "2021-12-15T18:51:55.672Z"
   },
   {
    "duration": 28,
    "start_time": "2021-12-15T18:51:55.682Z"
   },
   {
    "duration": 15,
    "start_time": "2021-12-15T18:51:55.713Z"
   },
   {
    "duration": 5,
    "start_time": "2021-12-15T18:51:55.760Z"
   },
   {
    "duration": 5,
    "start_time": "2021-12-15T19:03:42.045Z"
   },
   {
    "duration": 5,
    "start_time": "2021-12-15T19:04:21.667Z"
   },
   {
    "duration": 5,
    "start_time": "2021-12-15T19:04:27.844Z"
   },
   {
    "duration": 6,
    "start_time": "2021-12-15T19:04:53.254Z"
   },
   {
    "duration": 412,
    "start_time": "2021-12-15T19:05:04.595Z"
   },
   {
    "duration": 377,
    "start_time": "2021-12-15T19:05:21.415Z"
   },
   {
    "duration": 6,
    "start_time": "2021-12-15T19:05:27.564Z"
   },
   {
    "duration": 6,
    "start_time": "2021-12-15T19:07:26.346Z"
   },
   {
    "duration": 6,
    "start_time": "2021-12-15T19:10:56.515Z"
   },
   {
    "duration": 6,
    "start_time": "2021-12-15T19:11:19.350Z"
   },
   {
    "duration": 7643,
    "start_time": "2021-12-15T19:21:57.918Z"
   },
   {
    "duration": 593,
    "start_time": "2021-12-15T19:22:46.777Z"
   },
   {
    "duration": -494,
    "start_time": "2021-12-15T19:23:12.909Z"
   },
   {
    "duration": 532,
    "start_time": "2021-12-15T19:23:29.334Z"
   },
   {
    "duration": 7930,
    "start_time": "2021-12-15T19:23:35.952Z"
   },
   {
    "duration": 7,
    "start_time": "2021-12-15T19:35:24.515Z"
   },
   {
    "duration": 126,
    "start_time": "2021-12-15T19:37:43.831Z"
   },
   {
    "duration": 134,
    "start_time": "2021-12-15T19:38:00.772Z"
   },
   {
    "duration": 7,
    "start_time": "2021-12-15T19:38:39.159Z"
   },
   {
    "duration": 14,
    "start_time": "2021-12-15T19:48:06.886Z"
   },
   {
    "duration": 1109,
    "start_time": "2021-12-15T19:48:19.300Z"
   },
   {
    "duration": 913,
    "start_time": "2021-12-15T19:48:23.984Z"
   },
   {
    "duration": 12,
    "start_time": "2021-12-15T19:48:33.009Z"
   },
   {
    "duration": 17,
    "start_time": "2021-12-15T19:49:11.104Z"
   },
   {
    "duration": 414,
    "start_time": "2021-12-15T19:53:23.178Z"
   },
   {
    "duration": 374,
    "start_time": "2021-12-15T19:53:32.468Z"
   },
   {
    "duration": 409,
    "start_time": "2021-12-15T19:53:59.108Z"
   },
   {
    "duration": 401,
    "start_time": "2021-12-15T19:54:22.057Z"
   },
   {
    "duration": 430,
    "start_time": "2021-12-15T19:57:26.556Z"
   },
   {
    "duration": 14,
    "start_time": "2021-12-15T19:57:46.732Z"
   },
   {
    "duration": 15,
    "start_time": "2021-12-15T19:58:04.069Z"
   },
   {
    "duration": 450,
    "start_time": "2021-12-15T19:58:50.279Z"
   },
   {
    "duration": 12,
    "start_time": "2021-12-15T19:59:23.708Z"
   },
   {
    "duration": 434,
    "start_time": "2021-12-15T20:00:50.583Z"
   },
   {
    "duration": 15,
    "start_time": "2021-12-15T20:02:25.185Z"
   },
   {
    "duration": 11,
    "start_time": "2021-12-15T20:02:41.850Z"
   },
   {
    "duration": 12,
    "start_time": "2021-12-15T20:02:57.432Z"
   },
   {
    "duration": 11,
    "start_time": "2021-12-15T20:03:00.596Z"
   },
   {
    "duration": 527,
    "start_time": "2021-12-15T20:03:40.032Z"
   },
   {
    "duration": 368,
    "start_time": "2021-12-15T20:03:48.409Z"
   },
   {
    "duration": 1668,
    "start_time": "2021-12-15T20:19:32.053Z"
   },
   {
    "duration": 4400,
    "start_time": "2021-12-15T20:20:34.089Z"
   },
   {
    "duration": 3976,
    "start_time": "2021-12-15T20:20:55.605Z"
   },
   {
    "duration": 25,
    "start_time": "2021-12-15T20:22:06.819Z"
   },
   {
    "duration": 24,
    "start_time": "2021-12-15T20:22:59.496Z"
   },
   {
    "duration": 3867,
    "start_time": "2021-12-15T20:25:24.912Z"
   },
   {
    "duration": 4136,
    "start_time": "2021-12-15T20:26:08.503Z"
   },
   {
    "duration": 3869,
    "start_time": "2021-12-15T20:26:30.180Z"
   },
   {
    "duration": 8,
    "start_time": "2021-12-15T20:26:43.086Z"
   },
   {
    "duration": 7,
    "start_time": "2021-12-15T20:26:50.714Z"
   },
   {
    "duration": 4065,
    "start_time": "2021-12-15T20:27:47.653Z"
   },
   {
    "duration": 9,
    "start_time": "2021-12-15T20:27:55.273Z"
   },
   {
    "duration": 4095,
    "start_time": "2021-12-15T20:28:02.066Z"
   },
   {
    "duration": 85,
    "start_time": "2021-12-15T20:28:16.026Z"
   },
   {
    "duration": 14,
    "start_time": "2021-12-15T20:28:16.114Z"
   },
   {
    "duration": 12,
    "start_time": "2021-12-15T20:28:16.131Z"
   },
   {
    "duration": 27,
    "start_time": "2021-12-15T20:28:16.160Z"
   },
   {
    "duration": 10,
    "start_time": "2021-12-15T20:28:16.189Z"
   },
   {
    "duration": 56,
    "start_time": "2021-12-15T20:28:16.203Z"
   },
   {
    "duration": 12,
    "start_time": "2021-12-15T20:28:16.261Z"
   },
   {
    "duration": 23,
    "start_time": "2021-12-15T20:28:16.276Z"
   },
   {
    "duration": 10,
    "start_time": "2021-12-15T20:28:16.304Z"
   },
   {
    "duration": 50,
    "start_time": "2021-12-15T20:28:16.317Z"
   },
   {
    "duration": 7,
    "start_time": "2021-12-15T20:28:16.370Z"
   },
   {
    "duration": 12,
    "start_time": "2021-12-15T20:28:16.380Z"
   },
   {
    "duration": 11,
    "start_time": "2021-12-15T20:28:16.394Z"
   },
   {
    "duration": 51,
    "start_time": "2021-12-15T20:28:16.408Z"
   },
   {
    "duration": 15,
    "start_time": "2021-12-15T20:28:16.462Z"
   },
   {
    "duration": 13,
    "start_time": "2021-12-15T20:28:16.481Z"
   },
   {
    "duration": 74,
    "start_time": "2021-12-15T20:28:16.497Z"
   },
   {
    "duration": 15,
    "start_time": "2021-12-15T20:28:16.573Z"
   },
   {
    "duration": 1094,
    "start_time": "2021-12-15T20:28:16.590Z"
   },
   {
    "duration": 8,
    "start_time": "2021-12-15T20:28:17.687Z"
   },
   {
    "duration": 3967,
    "start_time": "2021-12-15T20:28:17.699Z"
   },
   {
    "duration": 9,
    "start_time": "2021-12-15T20:28:21.669Z"
   },
   {
    "duration": 28,
    "start_time": "2021-12-15T20:28:21.683Z"
   },
   {
    "duration": 3910,
    "start_time": "2021-12-15T20:29:00.496Z"
   },
   {
    "duration": 7,
    "start_time": "2021-12-15T20:29:06.061Z"
   },
   {
    "duration": 8,
    "start_time": "2021-12-15T20:30:27.682Z"
   },
   {
    "duration": 7,
    "start_time": "2021-12-15T20:31:30.700Z"
   },
   {
    "duration": 5,
    "start_time": "2021-12-15T20:31:39.456Z"
   },
   {
    "duration": 367,
    "start_time": "2021-12-15T20:31:59.854Z"
   },
   {
    "duration": 6,
    "start_time": "2021-12-15T20:32:14.962Z"
   },
   {
    "duration": 3983,
    "start_time": "2021-12-15T20:32:38.385Z"
   },
   {
    "duration": 3906,
    "start_time": "2021-12-15T20:43:54.078Z"
   },
   {
    "duration": 7,
    "start_time": "2021-12-15T20:44:10.336Z"
   },
   {
    "duration": 7,
    "start_time": "2021-12-15T20:44:22.373Z"
   },
   {
    "duration": 23,
    "start_time": "2021-12-15T20:44:36.245Z"
   },
   {
    "duration": 784,
    "start_time": "2021-12-17T06:00:10.865Z"
   },
   {
    "duration": 15,
    "start_time": "2021-12-17T06:00:11.652Z"
   },
   {
    "duration": 18,
    "start_time": "2021-12-17T06:00:11.670Z"
   },
   {
    "duration": 43,
    "start_time": "2021-12-17T06:00:11.691Z"
   },
   {
    "duration": 10,
    "start_time": "2021-12-17T06:00:11.736Z"
   },
   {
    "duration": 26,
    "start_time": "2021-12-17T06:00:11.748Z"
   },
   {
    "duration": 10,
    "start_time": "2021-12-17T06:00:11.777Z"
   },
   {
    "duration": 48,
    "start_time": "2021-12-17T06:00:11.790Z"
   },
   {
    "duration": 10,
    "start_time": "2021-12-17T06:00:11.843Z"
   },
   {
    "duration": 17,
    "start_time": "2021-12-17T06:00:11.856Z"
   },
   {
    "duration": 16,
    "start_time": "2021-12-17T06:00:11.876Z"
   },
   {
    "duration": 34,
    "start_time": "2021-12-17T06:00:11.894Z"
   },
   {
    "duration": 23,
    "start_time": "2021-12-17T06:00:11.931Z"
   },
   {
    "duration": 10,
    "start_time": "2021-12-17T06:00:11.956Z"
   },
   {
    "duration": 15,
    "start_time": "2021-12-17T06:00:11.968Z"
   },
   {
    "duration": 10,
    "start_time": "2021-12-17T06:00:11.985Z"
   },
   {
    "duration": 51,
    "start_time": "2021-12-17T06:00:11.997Z"
   },
   {
    "duration": 12,
    "start_time": "2021-12-17T06:00:12.050Z"
   },
   {
    "duration": 893,
    "start_time": "2021-12-17T06:00:12.065Z"
   },
   {
    "duration": 7,
    "start_time": "2021-12-17T06:00:12.961Z"
   },
   {
    "duration": 3431,
    "start_time": "2021-12-17T06:00:12.970Z"
   },
   {
    "duration": 21,
    "start_time": "2021-12-17T06:00:16.403Z"
   },
   {
    "duration": 28,
    "start_time": "2021-12-17T06:00:16.426Z"
   },
   {
    "duration": 3,
    "start_time": "2021-12-17T06:00:16.456Z"
   },
   {
    "duration": 9371,
    "start_time": "2021-12-17T06:04:05.127Z"
   },
   {
    "duration": 7713,
    "start_time": "2021-12-17T06:05:46.310Z"
   },
   {
    "duration": 311,
    "start_time": "2021-12-17T06:06:48.632Z"
   },
   {
    "duration": 15,
    "start_time": "2021-12-17T06:06:59.239Z"
   },
   {
    "duration": 305,
    "start_time": "2021-12-17T06:07:32.502Z"
   },
   {
    "duration": 322,
    "start_time": "2021-12-17T06:07:38.815Z"
   },
   {
    "duration": 14,
    "start_time": "2021-12-17T06:08:21.973Z"
   },
   {
    "duration": 343,
    "start_time": "2021-12-17T06:08:45.127Z"
   },
   {
    "duration": 5,
    "start_time": "2021-12-17T06:08:57.374Z"
   },
   {
    "duration": 12,
    "start_time": "2021-12-17T06:09:07.733Z"
   },
   {
    "duration": 10,
    "start_time": "2021-12-17T06:10:10.374Z"
   },
   {
    "duration": 15,
    "start_time": "2021-12-17T06:10:32.533Z"
   },
   {
    "duration": 10,
    "start_time": "2021-12-17T06:10:42.765Z"
   },
   {
    "duration": 16,
    "start_time": "2021-12-17T06:10:46.134Z"
   },
   {
    "duration": 16,
    "start_time": "2021-12-17T06:12:36.338Z"
   },
   {
    "duration": 6,
    "start_time": "2021-12-17T06:15:31.823Z"
   },
   {
    "duration": 6,
    "start_time": "2021-12-17T06:16:07.485Z"
   },
   {
    "duration": 17,
    "start_time": "2021-12-17T06:17:48.221Z"
   },
   {
    "duration": 9,
    "start_time": "2021-12-17T06:18:30.564Z"
   },
   {
    "duration": 9,
    "start_time": "2021-12-17T06:18:58.805Z"
   },
   {
    "duration": 8,
    "start_time": "2021-12-17T06:19:11.828Z"
   },
   {
    "duration": 9,
    "start_time": "2021-12-17T06:20:50.301Z"
   },
   {
    "duration": 8,
    "start_time": "2021-12-17T07:35:44.361Z"
   },
   {
    "duration": 9,
    "start_time": "2021-12-17T07:41:44.727Z"
   },
   {
    "duration": 9,
    "start_time": "2021-12-17T07:41:48.998Z"
   },
   {
    "duration": 5,
    "start_time": "2021-12-17T07:42:03.815Z"
   },
   {
    "duration": 22,
    "start_time": "2021-12-17T07:42:09.711Z"
   },
   {
    "duration": 18,
    "start_time": "2021-12-17T07:42:24.980Z"
   },
   {
    "duration": 14,
    "start_time": "2021-12-17T07:44:05.847Z"
   },
   {
    "duration": 9,
    "start_time": "2021-12-17T07:44:25.093Z"
   },
   {
    "duration": 8,
    "start_time": "2021-12-17T07:44:48.743Z"
   },
   {
    "duration": 9,
    "start_time": "2021-12-17T07:44:55.877Z"
   },
   {
    "duration": 12,
    "start_time": "2021-12-17T07:45:55.158Z"
   },
   {
    "duration": 14,
    "start_time": "2021-12-17T07:46:06.342Z"
   },
   {
    "duration": 10,
    "start_time": "2021-12-17T07:46:16.182Z"
   },
   {
    "duration": 10,
    "start_time": "2021-12-17T07:46:28.477Z"
   },
   {
    "duration": 322,
    "start_time": "2021-12-17T08:04:58.120Z"
   },
   {
    "duration": 315,
    "start_time": "2021-12-17T08:05:12.184Z"
   },
   {
    "duration": 312,
    "start_time": "2021-12-17T08:05:39.169Z"
   },
   {
    "duration": 342,
    "start_time": "2021-12-17T08:06:50.016Z"
   },
   {
    "duration": 8,
    "start_time": "2021-12-17T08:08:46.185Z"
   },
   {
    "duration": 4077,
    "start_time": "2021-12-17T08:09:33.864Z"
   },
   {
    "duration": 3930,
    "start_time": "2021-12-17T08:13:39.864Z"
   },
   {
    "duration": 4198,
    "start_time": "2021-12-17T08:13:50.335Z"
   },
   {
    "duration": 3978,
    "start_time": "2021-12-17T08:14:16.215Z"
   },
   {
    "duration": 9,
    "start_time": "2021-12-17T08:14:27.111Z"
   },
   {
    "duration": 336,
    "start_time": "2021-12-17T08:17:43.014Z"
   },
   {
    "duration": 325,
    "start_time": "2021-12-17T08:17:58.006Z"
   },
   {
    "duration": 15,
    "start_time": "2021-12-17T08:18:12.412Z"
   },
   {
    "duration": 372,
    "start_time": "2021-12-17T08:18:43.541Z"
   },
   {
    "duration": 329,
    "start_time": "2021-12-17T08:18:54.167Z"
   },
   {
    "duration": 12,
    "start_time": "2021-12-17T08:19:03.718Z"
   },
   {
    "duration": 11,
    "start_time": "2021-12-17T08:19:56.605Z"
   },
   {
    "duration": 11,
    "start_time": "2021-12-17T08:20:08.165Z"
   },
   {
    "duration": 14,
    "start_time": "2021-12-17T08:20:26.732Z"
   },
   {
    "duration": 9,
    "start_time": "2021-12-17T08:20:59.382Z"
   },
   {
    "duration": 5698,
    "start_time": "2021-12-17T08:22:36.797Z"
   },
   {
    "duration": 4399,
    "start_time": "2021-12-17T08:23:17.766Z"
   },
   {
    "duration": 357,
    "start_time": "2021-12-17T08:23:28.388Z"
   },
   {
    "duration": 12,
    "start_time": "2021-12-17T08:23:43.157Z"
   },
   {
    "duration": 10,
    "start_time": "2021-12-17T08:23:57.788Z"
   },
   {
    "duration": 112,
    "start_time": "2021-12-17T08:30:13.467Z"
   },
   {
    "duration": 427,
    "start_time": "2021-12-17T08:30:41.867Z"
   },
   {
    "duration": 31,
    "start_time": "2021-12-17T08:31:06.428Z"
   },
   {
    "duration": 6280,
    "start_time": "2021-12-17T08:32:22.404Z"
   },
   {
    "duration": 7805,
    "start_time": "2021-12-17T08:32:37.539Z"
   },
   {
    "duration": 27,
    "start_time": "2021-12-17T08:32:53.283Z"
   },
   {
    "duration": 338,
    "start_time": "2021-12-17T08:33:13.306Z"
   },
   {
    "duration": 13,
    "start_time": "2021-12-17T08:33:38.014Z"
   },
   {
    "duration": 12,
    "start_time": "2021-12-17T08:33:44.667Z"
   },
   {
    "duration": 17,
    "start_time": "2021-12-17T08:40:49.831Z"
   },
   {
    "duration": 11,
    "start_time": "2021-12-17T08:45:26.667Z"
   },
   {
    "duration": 11,
    "start_time": "2021-12-17T08:45:31.831Z"
   },
   {
    "duration": 11,
    "start_time": "2021-12-17T08:45:35.247Z"
   },
   {
    "duration": 5831,
    "start_time": "2021-12-17T08:45:55.257Z"
   },
   {
    "duration": 9,
    "start_time": "2021-12-17T08:46:24.664Z"
   },
   {
    "duration": 79,
    "start_time": "2021-12-17T08:49:47.613Z"
   },
   {
    "duration": 118,
    "start_time": "2021-12-17T08:50:07.758Z"
   },
   {
    "duration": 707,
    "start_time": "2021-12-17T08:50:17.499Z"
   },
   {
    "duration": 26,
    "start_time": "2021-12-17T08:50:18.209Z"
   },
   {
    "duration": 15,
    "start_time": "2021-12-17T08:50:18.239Z"
   },
   {
    "duration": 32,
    "start_time": "2021-12-17T08:50:18.258Z"
   },
   {
    "duration": 11,
    "start_time": "2021-12-17T08:50:18.324Z"
   },
   {
    "duration": 11,
    "start_time": "2021-12-17T08:50:18.338Z"
   },
   {
    "duration": 18,
    "start_time": "2021-12-17T08:50:18.352Z"
   },
   {
    "duration": 65,
    "start_time": "2021-12-17T08:50:18.374Z"
   },
   {
    "duration": 14,
    "start_time": "2021-12-17T08:50:18.444Z"
   },
   {
    "duration": 12,
    "start_time": "2021-12-17T08:50:18.461Z"
   },
   {
    "duration": 49,
    "start_time": "2021-12-17T08:50:18.476Z"
   },
   {
    "duration": 10,
    "start_time": "2021-12-17T08:50:18.527Z"
   },
   {
    "duration": 13,
    "start_time": "2021-12-17T08:50:18.539Z"
   },
   {
    "duration": 16,
    "start_time": "2021-12-17T08:50:18.555Z"
   },
   {
    "duration": 57,
    "start_time": "2021-12-17T08:50:18.574Z"
   },
   {
    "duration": 22,
    "start_time": "2021-12-17T08:50:18.635Z"
   },
   {
    "duration": 15,
    "start_time": "2021-12-17T08:50:18.660Z"
   },
   {
    "duration": 72,
    "start_time": "2021-12-17T08:50:18.677Z"
   },
   {
    "duration": 28,
    "start_time": "2021-12-17T08:50:18.753Z"
   },
   {
    "duration": 1378,
    "start_time": "2021-12-17T08:50:18.784Z"
   },
   {
    "duration": 8,
    "start_time": "2021-12-17T08:50:20.165Z"
   },
   {
    "duration": 4410,
    "start_time": "2021-12-17T08:50:20.176Z"
   },
   {
    "duration": 6,
    "start_time": "2021-12-17T08:50:24.591Z"
   },
   {
    "duration": 63,
    "start_time": "2021-12-17T08:50:24.600Z"
   },
   {
    "duration": 20,
    "start_time": "2021-12-17T08:50:24.666Z"
   },
   {
    "duration": 45,
    "start_time": "2021-12-17T08:50:24.689Z"
   },
   {
    "duration": 13,
    "start_time": "2021-12-17T08:50:24.737Z"
   },
   {
    "duration": 87,
    "start_time": "2021-12-17T08:50:24.754Z"
   },
   {
    "duration": 109,
    "start_time": "2021-12-17T08:50:43.085Z"
   },
   {
    "duration": 8,
    "start_time": "2021-12-17T08:50:52.518Z"
   },
   {
    "duration": 10,
    "start_time": "2021-12-17T08:51:16.877Z"
   },
   {
    "duration": 10,
    "start_time": "2021-12-17T08:51:40.621Z"
   },
   {
    "duration": 10,
    "start_time": "2021-12-17T08:51:54.534Z"
   },
   {
    "duration": 12,
    "start_time": "2021-12-17T08:55:12.070Z"
   },
   {
    "duration": 12,
    "start_time": "2021-12-17T08:55:30.895Z"
   },
   {
    "duration": 16,
    "start_time": "2021-12-17T08:55:39.148Z"
   },
   {
    "duration": 17,
    "start_time": "2021-12-17T09:00:52.611Z"
   },
   {
    "duration": 18,
    "start_time": "2021-12-17T09:02:21.579Z"
   },
   {
    "duration": 387,
    "start_time": "2021-12-17T09:03:40.412Z"
   },
   {
    "duration": 26,
    "start_time": "2021-12-17T09:04:01.731Z"
   },
   {
    "duration": 12,
    "start_time": "2021-12-17T09:04:34.867Z"
   },
   {
    "duration": 13,
    "start_time": "2021-12-17T09:04:50.809Z"
   },
   {
    "duration": 18,
    "start_time": "2021-12-17T09:07:44.826Z"
   },
   {
    "duration": 14,
    "start_time": "2021-12-17T09:08:08.401Z"
   },
   {
    "duration": 14,
    "start_time": "2021-12-17T09:08:22.706Z"
   },
   {
    "duration": 17,
    "start_time": "2021-12-17T09:21:22.222Z"
   },
   {
    "duration": 11,
    "start_time": "2021-12-17T09:21:42.926Z"
   },
   {
    "duration": 9,
    "start_time": "2021-12-17T09:27:03.414Z"
   },
   {
    "duration": 8,
    "start_time": "2021-12-17T09:27:07.565Z"
   },
   {
    "duration": 9,
    "start_time": "2021-12-17T09:27:22.342Z"
   },
   {
    "duration": 335,
    "start_time": "2021-12-17T10:35:46.171Z"
   },
   {
    "duration": 614,
    "start_time": "2021-12-17T10:35:56.165Z"
   },
   {
    "duration": 961,
    "start_time": "2021-12-17T10:36:19.643Z"
   },
   {
    "duration": 854,
    "start_time": "2021-12-17T10:39:54.465Z"
   },
   {
    "duration": 1543,
    "start_time": "2021-12-17T10:40:25.208Z"
   },
   {
    "duration": 24,
    "start_time": "2021-12-17T10:48:31.695Z"
   },
   {
    "duration": 25,
    "start_time": "2021-12-17T10:51:00.623Z"
   },
   {
    "duration": 1607,
    "start_time": "2021-12-17T10:51:29.062Z"
   },
   {
    "duration": 939,
    "start_time": "2021-12-17T10:52:16.287Z"
   },
   {
    "duration": 725,
    "start_time": "2021-12-17T10:53:25.440Z"
   },
   {
    "duration": 1002,
    "start_time": "2021-12-17T10:53:49.127Z"
   },
   {
    "duration": 491,
    "start_time": "2021-12-17T10:54:33.815Z"
   },
   {
    "duration": 17,
    "start_time": "2021-12-17T10:54:49.341Z"
   },
   {
    "duration": 660,
    "start_time": "2021-12-17T10:57:26.477Z"
   },
   {
    "duration": 19,
    "start_time": "2021-12-17T11:00:13.076Z"
   },
   {
    "duration": -217,
    "start_time": "2021-12-17T11:01:14.165Z"
   },
   {
    "duration": 19,
    "start_time": "2021-12-17T11:02:46.940Z"
   },
   {
    "duration": 125,
    "start_time": "2021-12-17T11:06:04.316Z"
   },
   {
    "duration": 353,
    "start_time": "2021-12-17T11:06:25.309Z"
   },
   {
    "duration": 353,
    "start_time": "2021-12-17T11:06:33.882Z"
   },
   {
    "duration": 29,
    "start_time": "2021-12-17T11:06:56.484Z"
   },
   {
    "duration": 21,
    "start_time": "2021-12-17T11:07:03.540Z"
   },
   {
    "duration": 22,
    "start_time": "2021-12-17T11:07:08.700Z"
   },
   {
    "duration": 21,
    "start_time": "2021-12-17T11:08:44.788Z"
   },
   {
    "duration": 20,
    "start_time": "2021-12-17T11:09:04.003Z"
   },
   {
    "duration": 20,
    "start_time": "2021-12-17T11:10:04.210Z"
   },
   {
    "duration": 1025,
    "start_time": "2021-12-17T11:10:08.002Z"
   },
   {
    "duration": 1086,
    "start_time": "2021-12-17T11:10:48.660Z"
   },
   {
    "duration": 696,
    "start_time": "2021-12-17T11:11:30.931Z"
   },
   {
    "duration": 344,
    "start_time": "2021-12-17T11:11:49.273Z"
   },
   {
    "duration": 637,
    "start_time": "2021-12-17T11:11:58.875Z"
   },
   {
    "duration": 627,
    "start_time": "2021-12-17T11:20:20.872Z"
   },
   {
    "duration": 701,
    "start_time": "2021-12-17T11:20:31.057Z"
   },
   {
    "duration": 704,
    "start_time": "2021-12-17T11:20:45.532Z"
   },
   {
    "duration": 778,
    "start_time": "2021-12-17T11:24:34.400Z"
   },
   {
    "duration": 126,
    "start_time": "2021-12-17T11:28:35.783Z"
   },
   {
    "duration": 853,
    "start_time": "2021-12-17T11:28:51.937Z"
   },
   {
    "duration": 804,
    "start_time": "2021-12-17T11:29:03.198Z"
   },
   {
    "duration": 132,
    "start_time": "2021-12-17T11:29:20.818Z"
   },
   {
    "duration": 1022,
    "start_time": "2021-12-17T11:29:23.454Z"
   },
   {
    "duration": 751,
    "start_time": "2021-12-17T11:29:34.409Z"
   },
   {
    "duration": 722,
    "start_time": "2021-12-17T11:29:41.406Z"
   },
   {
    "duration": 765,
    "start_time": "2021-12-17T11:30:05.621Z"
   },
   {
    "duration": 817,
    "start_time": "2021-12-17T11:30:12.309Z"
   },
   {
    "duration": 121,
    "start_time": "2021-12-17T11:36:30.812Z"
   },
   {
    "duration": 132,
    "start_time": "2021-12-17T11:37:03.867Z"
   },
   {
    "duration": 112,
    "start_time": "2021-12-17T11:37:29.580Z"
   },
   {
    "duration": 109,
    "start_time": "2021-12-17T11:37:42.033Z"
   },
   {
    "duration": 754,
    "start_time": "2021-12-17T11:38:17.196Z"
   },
   {
    "duration": 202,
    "start_time": "2021-12-17T11:39:03.948Z"
   },
   {
    "duration": 119,
    "start_time": "2021-12-17T11:39:27.789Z"
   },
   {
    "duration": 86,
    "start_time": "2021-12-17T11:39:34.322Z"
   },
   {
    "duration": 22,
    "start_time": "2021-12-17T11:39:34.424Z"
   },
   {
    "duration": 19,
    "start_time": "2021-12-17T11:39:34.450Z"
   },
   {
    "duration": 71,
    "start_time": "2021-12-17T11:39:34.472Z"
   },
   {
    "duration": 16,
    "start_time": "2021-12-17T11:39:34.548Z"
   },
   {
    "duration": 43,
    "start_time": "2021-12-17T11:39:34.568Z"
   },
   {
    "duration": 16,
    "start_time": "2021-12-17T11:39:34.613Z"
   },
   {
    "duration": 43,
    "start_time": "2021-12-17T11:39:34.635Z"
   },
   {
    "duration": 10,
    "start_time": "2021-12-17T11:39:34.681Z"
   },
   {
    "duration": 32,
    "start_time": "2021-12-17T11:39:34.693Z"
   },
   {
    "duration": 11,
    "start_time": "2021-12-17T11:39:34.728Z"
   },
   {
    "duration": 16,
    "start_time": "2021-12-17T11:39:34.742Z"
   },
   {
    "duration": 12,
    "start_time": "2021-12-17T11:39:34.761Z"
   },
   {
    "duration": 16,
    "start_time": "2021-12-17T11:39:34.775Z"
   },
   {
    "duration": 10,
    "start_time": "2021-12-17T11:39:34.828Z"
   },
   {
    "duration": 24,
    "start_time": "2021-12-17T11:39:34.842Z"
   },
   {
    "duration": 24,
    "start_time": "2021-12-17T11:39:34.869Z"
   },
   {
    "duration": 58,
    "start_time": "2021-12-17T11:39:34.896Z"
   },
   {
    "duration": 18,
    "start_time": "2021-12-17T11:39:34.957Z"
   },
   {
    "duration": 1093,
    "start_time": "2021-12-17T11:39:34.978Z"
   },
   {
    "duration": 8,
    "start_time": "2021-12-17T11:39:36.074Z"
   },
   {
    "duration": 4266,
    "start_time": "2021-12-17T11:39:36.084Z"
   },
   {
    "duration": 8,
    "start_time": "2021-12-17T11:39:40.355Z"
   },
   {
    "duration": 42,
    "start_time": "2021-12-17T11:39:40.366Z"
   },
   {
    "duration": 26,
    "start_time": "2021-12-17T11:39:40.424Z"
   },
   {
    "duration": 27,
    "start_time": "2021-12-17T11:39:40.453Z"
   },
   {
    "duration": 40,
    "start_time": "2021-12-17T11:39:40.484Z"
   },
   {
    "duration": 25,
    "start_time": "2021-12-17T11:39:40.528Z"
   },
   {
    "duration": 145,
    "start_time": "2021-12-17T11:39:40.556Z"
   },
   {
    "duration": 1010,
    "start_time": "2021-12-17T11:39:53.188Z"
   },
   {
    "duration": 111,
    "start_time": "2021-12-17T11:40:22.774Z"
   },
   {
    "duration": 105,
    "start_time": "2021-12-17T11:40:27.315Z"
   },
   {
    "duration": 977,
    "start_time": "2021-12-17T11:40:30.820Z"
   },
   {
    "duration": 728,
    "start_time": "2021-12-17T11:40:43.909Z"
   },
   {
    "duration": 843,
    "start_time": "2021-12-17T11:40:49.701Z"
   },
   {
    "duration": 692,
    "start_time": "2021-12-17T11:41:49.379Z"
   },
   {
    "duration": 697,
    "start_time": "2021-12-17T11:43:12.971Z"
   },
   {
    "duration": 120,
    "start_time": "2021-12-17T11:43:27.443Z"
   },
   {
    "duration": 915,
    "start_time": "2021-12-17T11:43:31.619Z"
   },
   {
    "duration": 703,
    "start_time": "2021-12-17T11:44:45.547Z"
   },
   {
    "duration": 816,
    "start_time": "2021-12-17T11:45:30.218Z"
   },
   {
    "duration": 12,
    "start_time": "2021-12-17T11:45:45.595Z"
   },
   {
    "duration": 720,
    "start_time": "2021-12-17T11:45:55.340Z"
   },
   {
    "duration": 692,
    "start_time": "2021-12-17T11:46:36.251Z"
   },
   {
    "duration": 657,
    "start_time": "2021-12-17T11:48:22.004Z"
   },
   {
    "duration": 18,
    "start_time": "2021-12-17T11:49:22.746Z"
   },
   {
    "duration": 639,
    "start_time": "2021-12-17T11:49:29.609Z"
   },
   {
    "duration": 1017,
    "start_time": "2021-12-17T11:50:15.865Z"
   },
   {
    "duration": 18,
    "start_time": "2021-12-17T11:52:36.826Z"
   },
   {
    "duration": 10,
    "start_time": "2021-12-17T11:52:55.697Z"
   },
   {
    "duration": 395,
    "start_time": "2021-12-17T11:53:00.656Z"
   },
   {
    "duration": 80,
    "start_time": "2021-12-17T11:53:24.484Z"
   },
   {
    "duration": 23,
    "start_time": "2021-12-17T11:53:24.567Z"
   },
   {
    "duration": 14,
    "start_time": "2021-12-17T11:53:24.623Z"
   },
   {
    "duration": 47,
    "start_time": "2021-12-17T11:53:24.641Z"
   },
   {
    "duration": 37,
    "start_time": "2021-12-17T11:53:24.691Z"
   },
   {
    "duration": 13,
    "start_time": "2021-12-17T11:53:24.731Z"
   },
   {
    "duration": 24,
    "start_time": "2021-12-17T11:53:24.747Z"
   },
   {
    "duration": 46,
    "start_time": "2021-12-17T11:53:24.777Z"
   },
   {
    "duration": 14,
    "start_time": "2021-12-17T11:53:24.828Z"
   },
   {
    "duration": 23,
    "start_time": "2021-12-17T11:53:24.845Z"
   },
   {
    "duration": 13,
    "start_time": "2021-12-17T11:53:24.871Z"
   },
   {
    "duration": 49,
    "start_time": "2021-12-17T11:53:24.887Z"
   },
   {
    "duration": 32,
    "start_time": "2021-12-17T11:53:24.938Z"
   },
   {
    "duration": 16,
    "start_time": "2021-12-17T11:53:24.974Z"
   },
   {
    "duration": 44,
    "start_time": "2021-12-17T11:53:24.993Z"
   },
   {
    "duration": 25,
    "start_time": "2021-12-17T11:53:25.040Z"
   },
   {
    "duration": 27,
    "start_time": "2021-12-17T11:53:25.068Z"
   },
   {
    "duration": 53,
    "start_time": "2021-12-17T11:53:25.097Z"
   },
   {
    "duration": 19,
    "start_time": "2021-12-17T11:53:25.154Z"
   },
   {
    "duration": 1421,
    "start_time": "2021-12-17T11:53:25.176Z"
   },
   {
    "duration": 9,
    "start_time": "2021-12-17T11:53:26.600Z"
   },
   {
    "duration": 5168,
    "start_time": "2021-12-17T11:53:26.624Z"
   },
   {
    "duration": 27,
    "start_time": "2021-12-17T11:53:31.796Z"
   },
   {
    "duration": 28,
    "start_time": "2021-12-17T11:53:31.826Z"
   },
   {
    "duration": 22,
    "start_time": "2021-12-17T11:53:31.857Z"
   },
   {
    "duration": 43,
    "start_time": "2021-12-17T11:53:31.882Z"
   },
   {
    "duration": 38,
    "start_time": "2021-12-17T11:53:31.928Z"
   },
   {
    "duration": 22,
    "start_time": "2021-12-17T11:53:31.969Z"
   },
   {
    "duration": 774,
    "start_time": "2021-12-17T11:53:31.994Z"
   },
   {
    "duration": 10,
    "start_time": "2021-12-17T11:53:32.770Z"
   },
   {
    "duration": 11,
    "start_time": "2021-12-17T11:53:32.783Z"
   },
   {
    "duration": 14,
    "start_time": "2021-12-17T12:01:09.487Z"
   },
   {
    "duration": 14,
    "start_time": "2021-12-17T12:04:19.286Z"
   },
   {
    "duration": 12,
    "start_time": "2021-12-17T12:04:29.839Z"
   },
   {
    "duration": 154,
    "start_time": "2021-12-17T12:09:05.094Z"
   },
   {
    "duration": 13,
    "start_time": "2021-12-17T12:09:14.516Z"
   },
   {
    "duration": 12,
    "start_time": "2021-12-17T12:12:58.668Z"
   },
   {
    "duration": 12,
    "start_time": "2021-12-17T12:13:26.780Z"
   },
   {
    "duration": 12,
    "start_time": "2021-12-17T12:13:34.804Z"
   },
   {
    "duration": 13,
    "start_time": "2021-12-17T12:13:49.628Z"
   },
   {
    "duration": 13,
    "start_time": "2021-12-17T12:14:13.772Z"
   },
   {
    "duration": 11,
    "start_time": "2021-12-17T12:14:21.596Z"
   },
   {
    "duration": 12,
    "start_time": "2021-12-17T12:14:26.811Z"
   },
   {
    "duration": 31,
    "start_time": "2021-12-17T12:14:35.207Z"
   },
   {
    "duration": 14,
    "start_time": "2021-12-17T12:14:41.019Z"
   },
   {
    "duration": 120,
    "start_time": "2021-12-17T12:25:42.732Z"
   },
   {
    "duration": 10,
    "start_time": "2021-12-17T12:37:43.895Z"
   },
   {
    "duration": 2333,
    "start_time": "2021-12-17T12:41:53.684Z"
   },
   {
    "duration": 347,
    "start_time": "2021-12-17T12:42:01.796Z"
   },
   {
    "duration": 22,
    "start_time": "2021-12-17T12:42:34.549Z"
   },
   {
    "duration": 366,
    "start_time": "2021-12-17T12:46:15.412Z"
   },
   {
    "duration": 31,
    "start_time": "2021-12-17T12:46:30.756Z"
   },
   {
    "duration": 369,
    "start_time": "2021-12-17T12:50:29.795Z"
   },
   {
    "duration": 82,
    "start_time": "2021-12-17T12:51:03.555Z"
   },
   {
    "duration": 15,
    "start_time": "2021-12-17T12:51:03.640Z"
   },
   {
    "duration": 22,
    "start_time": "2021-12-17T12:51:03.658Z"
   },
   {
    "duration": 60,
    "start_time": "2021-12-17T12:51:03.683Z"
   },
   {
    "duration": 24,
    "start_time": "2021-12-17T12:51:03.745Z"
   },
   {
    "duration": 25,
    "start_time": "2021-12-17T12:51:03.771Z"
   },
   {
    "duration": 35,
    "start_time": "2021-12-17T12:51:03.799Z"
   },
   {
    "duration": 44,
    "start_time": "2021-12-17T12:51:03.838Z"
   },
   {
    "duration": 21,
    "start_time": "2021-12-17T12:51:03.885Z"
   },
   {
    "duration": 37,
    "start_time": "2021-12-17T12:51:03.908Z"
   },
   {
    "duration": 31,
    "start_time": "2021-12-17T12:51:03.948Z"
   },
   {
    "duration": 76,
    "start_time": "2021-12-17T12:51:03.981Z"
   },
   {
    "duration": 47,
    "start_time": "2021-12-17T12:51:04.060Z"
   },
   {
    "duration": 47,
    "start_time": "2021-12-17T12:51:04.110Z"
   },
   {
    "duration": 50,
    "start_time": "2021-12-17T12:51:04.159Z"
   },
   {
    "duration": 55,
    "start_time": "2021-12-17T12:51:04.211Z"
   },
   {
    "duration": 42,
    "start_time": "2021-12-17T12:51:04.269Z"
   },
   {
    "duration": 54,
    "start_time": "2021-12-17T12:51:04.313Z"
   },
   {
    "duration": 36,
    "start_time": "2021-12-17T12:51:04.370Z"
   },
   {
    "duration": 1071,
    "start_time": "2021-12-17T12:51:04.409Z"
   },
   {
    "duration": 7,
    "start_time": "2021-12-17T12:51:05.483Z"
   },
   {
    "duration": 4049,
    "start_time": "2021-12-17T12:51:05.492Z"
   },
   {
    "duration": 7,
    "start_time": "2021-12-17T12:51:09.550Z"
   },
   {
    "duration": 45,
    "start_time": "2021-12-17T12:51:09.560Z"
   },
   {
    "duration": 37,
    "start_time": "2021-12-17T12:51:09.607Z"
   },
   {
    "duration": 29,
    "start_time": "2021-12-17T12:51:09.647Z"
   },
   {
    "duration": 17,
    "start_time": "2021-12-17T12:51:09.678Z"
   },
   {
    "duration": 896,
    "start_time": "2021-12-17T12:51:09.698Z"
   },
   {
    "duration": 29,
    "start_time": "2021-12-17T12:51:10.597Z"
   },
   {
    "duration": 52,
    "start_time": "2021-12-17T12:51:10.632Z"
   },
   {
    "duration": 353,
    "start_time": "2021-12-17T12:55:49.842Z"
   },
   {
    "duration": 350,
    "start_time": "2021-12-17T12:56:06.441Z"
   },
   {
    "duration": 352,
    "start_time": "2021-12-17T12:57:36.933Z"
   },
   {
    "duration": 398,
    "start_time": "2021-12-17T12:57:52.209Z"
   },
   {
    "duration": 326,
    "start_time": "2021-12-17T12:58:07.538Z"
   },
   {
    "duration": 10,
    "start_time": "2021-12-17T13:00:20.297Z"
   },
   {
    "duration": 47,
    "start_time": "2021-12-17T13:00:46.993Z"
   },
   {
    "duration": 1068,
    "start_time": "2021-12-17T13:01:48.601Z"
   },
   {
    "duration": 51,
    "start_time": "2021-12-17T13:02:28.359Z"
   },
   {
    "duration": 90,
    "start_time": "2021-12-17T13:04:22.248Z"
   },
   {
    "duration": 81,
    "start_time": "2021-12-17T13:10:53.173Z"
   },
   {
    "duration": 110,
    "start_time": "2021-12-17T13:11:03.059Z"
   },
   {
    "duration": 418,
    "start_time": "2021-12-17T13:11:09.871Z"
   },
   {
    "duration": 67,
    "start_time": "2021-12-17T13:11:14.454Z"
   },
   {
    "duration": 9077,
    "start_time": "2021-12-17T13:11:23.309Z"
   },
   {
    "duration": 8220,
    "start_time": "2021-12-17T13:11:34.181Z"
   },
   {
    "duration": 11378,
    "start_time": "2021-12-17T13:14:06.478Z"
   },
   {
    "duration": 364,
    "start_time": "2021-12-17T13:14:49.900Z"
   },
   {
    "duration": 401,
    "start_time": "2021-12-17T13:15:12.237Z"
   },
   {
    "duration": 401,
    "start_time": "2021-12-17T13:19:50.746Z"
   },
   {
    "duration": 81,
    "start_time": "2021-12-17T13:23:43.684Z"
   },
   {
    "duration": 5,
    "start_time": "2021-12-17T13:24:48.899Z"
   },
   {
    "duration": 134,
    "start_time": "2021-12-17T13:25:02.540Z"
   },
   {
    "duration": 128,
    "start_time": "2021-12-17T13:25:08.948Z"
   },
   {
    "duration": 110,
    "start_time": "2021-12-17T13:25:19.543Z"
   },
   {
    "duration": 12,
    "start_time": "2021-12-17T13:26:31.203Z"
   },
   {
    "duration": 6,
    "start_time": "2021-12-17T13:26:52.282Z"
   },
   {
    "duration": 6,
    "start_time": "2021-12-17T13:27:08.305Z"
   },
   {
    "duration": 6,
    "start_time": "2021-12-17T13:29:16.202Z"
   },
   {
    "duration": 76,
    "start_time": "2021-12-17T14:05:44.381Z"
   },
   {
    "duration": 13,
    "start_time": "2021-12-17T14:05:44.460Z"
   },
   {
    "duration": 27,
    "start_time": "2021-12-17T14:05:44.476Z"
   },
   {
    "duration": 37,
    "start_time": "2021-12-17T14:05:44.506Z"
   },
   {
    "duration": 9,
    "start_time": "2021-12-17T14:05:44.545Z"
   },
   {
    "duration": 22,
    "start_time": "2021-12-17T14:05:44.557Z"
   },
   {
    "duration": 24,
    "start_time": "2021-12-17T14:05:44.581Z"
   },
   {
    "duration": 54,
    "start_time": "2021-12-17T14:05:44.607Z"
   },
   {
    "duration": 9,
    "start_time": "2021-12-17T14:05:44.665Z"
   },
   {
    "duration": 25,
    "start_time": "2021-12-17T14:05:44.677Z"
   },
   {
    "duration": 31,
    "start_time": "2021-12-17T14:05:44.705Z"
   },
   {
    "duration": 19,
    "start_time": "2021-12-17T14:05:44.739Z"
   },
   {
    "duration": 26,
    "start_time": "2021-12-17T14:05:44.760Z"
   },
   {
    "duration": 29,
    "start_time": "2021-12-17T14:05:44.788Z"
   },
   {
    "duration": 23,
    "start_time": "2021-12-17T14:05:44.819Z"
   },
   {
    "duration": 37,
    "start_time": "2021-12-17T14:05:44.845Z"
   },
   {
    "duration": 15,
    "start_time": "2021-12-17T14:05:44.885Z"
   },
   {
    "duration": 50,
    "start_time": "2021-12-17T14:05:44.903Z"
   },
   {
    "duration": 41,
    "start_time": "2021-12-17T14:05:44.956Z"
   },
   {
    "duration": 989,
    "start_time": "2021-12-17T14:05:45.000Z"
   },
   {
    "duration": 8,
    "start_time": "2021-12-17T14:05:45.992Z"
   },
   {
    "duration": 3782,
    "start_time": "2021-12-17T14:05:46.003Z"
   },
   {
    "duration": 6,
    "start_time": "2021-12-17T14:05:49.788Z"
   },
   {
    "duration": 55,
    "start_time": "2021-12-17T14:05:49.796Z"
   },
   {
    "duration": 10,
    "start_time": "2021-12-17T14:05:49.854Z"
   },
   {
    "duration": 27,
    "start_time": "2021-12-17T14:05:49.868Z"
   },
   {
    "duration": 686,
    "start_time": "2021-12-17T14:05:49.900Z"
   },
   {
    "duration": 13,
    "start_time": "2021-12-17T14:05:50.589Z"
   },
   {
    "duration": 100,
    "start_time": "2021-12-17T14:05:50.604Z"
   },
   {
    "duration": 5,
    "start_time": "2021-12-17T14:05:50.707Z"
   },
   {
    "duration": 77,
    "start_time": "2021-12-17T14:20:09.866Z"
   },
   {
    "duration": 14,
    "start_time": "2021-12-17T14:20:09.946Z"
   },
   {
    "duration": 21,
    "start_time": "2021-12-17T14:20:09.964Z"
   },
   {
    "duration": 66,
    "start_time": "2021-12-17T14:20:09.989Z"
   },
   {
    "duration": 13,
    "start_time": "2021-12-17T14:20:10.058Z"
   },
   {
    "duration": 27,
    "start_time": "2021-12-17T14:20:10.074Z"
   },
   {
    "duration": 26,
    "start_time": "2021-12-17T14:20:10.103Z"
   },
   {
    "duration": 29,
    "start_time": "2021-12-17T14:20:10.132Z"
   },
   {
    "duration": 10,
    "start_time": "2021-12-17T14:20:10.166Z"
   },
   {
    "duration": 10,
    "start_time": "2021-12-17T14:20:10.179Z"
   },
   {
    "duration": 41,
    "start_time": "2021-12-17T14:20:10.191Z"
   },
   {
    "duration": 10,
    "start_time": "2021-12-17T14:20:10.235Z"
   },
   {
    "duration": 17,
    "start_time": "2021-12-17T14:20:10.247Z"
   },
   {
    "duration": 20,
    "start_time": "2021-12-17T14:20:10.267Z"
   },
   {
    "duration": 35,
    "start_time": "2021-12-17T14:20:10.291Z"
   },
   {
    "duration": 19,
    "start_time": "2021-12-17T14:20:10.328Z"
   },
   {
    "duration": 11,
    "start_time": "2021-12-17T14:20:10.349Z"
   },
   {
    "duration": 64,
    "start_time": "2021-12-17T14:20:10.362Z"
   },
   {
    "duration": 15,
    "start_time": "2021-12-17T14:20:10.429Z"
   },
   {
    "duration": 1404,
    "start_time": "2021-12-17T14:20:10.446Z"
   },
   {
    "duration": 7,
    "start_time": "2021-12-17T14:20:11.853Z"
   },
   {
    "duration": 3932,
    "start_time": "2021-12-17T14:20:11.862Z"
   },
   {
    "duration": 9,
    "start_time": "2021-12-17T14:20:15.796Z"
   },
   {
    "duration": 44,
    "start_time": "2021-12-17T14:20:15.807Z"
   },
   {
    "duration": 11,
    "start_time": "2021-12-17T14:20:15.855Z"
   },
   {
    "duration": 26,
    "start_time": "2021-12-17T14:20:15.868Z"
   },
   {
    "duration": 740,
    "start_time": "2021-12-17T14:20:15.927Z"
   },
   {
    "duration": 16,
    "start_time": "2021-12-17T14:20:16.671Z"
   },
   {
    "duration": 116,
    "start_time": "2021-12-17T14:20:16.690Z"
   },
   {
    "duration": 19,
    "start_time": "2021-12-17T14:20:16.809Z"
   },
   {
    "duration": 922,
    "start_time": "2021-12-18T13:05:29.313Z"
   },
   {
    "duration": 616,
    "start_time": "2021-12-18T13:05:33.309Z"
   },
   {
    "duration": 12,
    "start_time": "2021-12-18T13:05:33.927Z"
   },
   {
    "duration": 10,
    "start_time": "2021-12-18T13:05:33.941Z"
   },
   {
    "duration": 16,
    "start_time": "2021-12-18T13:05:33.953Z"
   },
   {
    "duration": 9,
    "start_time": "2021-12-18T13:05:33.991Z"
   },
   {
    "duration": 10,
    "start_time": "2021-12-18T13:05:34.001Z"
   },
   {
    "duration": 7,
    "start_time": "2021-12-18T13:05:34.013Z"
   },
   {
    "duration": 14,
    "start_time": "2021-12-18T13:05:34.023Z"
   },
   {
    "duration": 7,
    "start_time": "2021-12-18T13:05:34.039Z"
   },
   {
    "duration": 44,
    "start_time": "2021-12-18T13:05:34.048Z"
   },
   {
    "duration": 6,
    "start_time": "2021-12-18T13:05:34.094Z"
   },
   {
    "duration": 8,
    "start_time": "2021-12-18T13:05:34.101Z"
   },
   {
    "duration": 8,
    "start_time": "2021-12-18T13:05:34.110Z"
   },
   {
    "duration": 7,
    "start_time": "2021-12-18T13:05:34.119Z"
   },
   {
    "duration": 6,
    "start_time": "2021-12-18T13:05:34.127Z"
   },
   {
    "duration": 9,
    "start_time": "2021-12-18T13:05:34.135Z"
   },
   {
    "duration": 8,
    "start_time": "2021-12-18T13:05:34.146Z"
   },
   {
    "duration": 53,
    "start_time": "2021-12-18T13:05:34.156Z"
   },
   {
    "duration": 8,
    "start_time": "2021-12-18T13:05:34.210Z"
   },
   {
    "duration": 1065,
    "start_time": "2021-12-18T13:05:34.220Z"
   },
   {
    "duration": -4749,
    "start_time": "2021-12-18T13:05:40.036Z"
   },
   {
    "duration": -4756,
    "start_time": "2021-12-18T13:05:40.044Z"
   },
   {
    "duration": -4757,
    "start_time": "2021-12-18T13:05:40.046Z"
   },
   {
    "duration": -4758,
    "start_time": "2021-12-18T13:05:40.048Z"
   },
   {
    "duration": -4758,
    "start_time": "2021-12-18T13:05:40.049Z"
   },
   {
    "duration": -4759,
    "start_time": "2021-12-18T13:05:40.051Z"
   },
   {
    "duration": -4759,
    "start_time": "2021-12-18T13:05:40.052Z"
   },
   {
    "duration": -4760,
    "start_time": "2021-12-18T13:05:40.054Z"
   },
   {
    "duration": -4761,
    "start_time": "2021-12-18T13:05:40.056Z"
   },
   {
    "duration": -4762,
    "start_time": "2021-12-18T13:05:40.058Z"
   },
   {
    "duration": -4763,
    "start_time": "2021-12-18T13:05:40.060Z"
   },
   {
    "duration": -4763,
    "start_time": "2021-12-18T13:05:40.061Z"
   },
   {
    "duration": 186,
    "start_time": "2021-12-18T13:06:00.008Z"
   },
   {
    "duration": 627,
    "start_time": "2021-12-18T13:06:07.576Z"
   },
   {
    "duration": 15,
    "start_time": "2021-12-18T13:06:10.156Z"
   },
   {
    "duration": 13,
    "start_time": "2021-12-18T13:06:19.880Z"
   },
   {
    "duration": 629,
    "start_time": "2021-12-18T13:06:34.472Z"
   },
   {
    "duration": 5,
    "start_time": "2021-12-18T13:06:35.103Z"
   },
   {
    "duration": 2347,
    "start_time": "2021-12-18T13:06:35.110Z"
   },
   {
    "duration": 5,
    "start_time": "2021-12-18T13:06:37.458Z"
   },
   {
    "duration": 36,
    "start_time": "2021-12-18T13:06:37.464Z"
   },
   {
    "duration": 6,
    "start_time": "2021-12-18T13:06:37.502Z"
   },
   {
    "duration": 11,
    "start_time": "2021-12-18T13:06:37.509Z"
   },
   {
    "duration": 1044,
    "start_time": "2021-12-18T13:06:37.521Z"
   },
   {
    "duration": 9,
    "start_time": "2021-12-18T13:06:38.567Z"
   },
   {
    "duration": 55,
    "start_time": "2021-12-18T13:06:38.578Z"
   },
   {
    "duration": 3,
    "start_time": "2021-12-18T13:06:38.634Z"
   },
   {
    "duration": 61,
    "start_time": "2021-12-18T13:11:21.314Z"
   },
   {
    "duration": 57,
    "start_time": "2021-12-18T13:12:36.583Z"
   },
   {
    "duration": 103,
    "start_time": "2021-12-18T16:02:44.576Z"
   },
   {
    "duration": 112,
    "start_time": "2021-12-18T16:02:49.247Z"
   },
   {
    "duration": 199,
    "start_time": "2021-12-18T16:03:09.496Z"
   },
   {
    "duration": 144,
    "start_time": "2021-12-18T16:03:37.236Z"
   },
   {
    "duration": 99,
    "start_time": "2021-12-18T16:03:42.276Z"
   },
   {
    "duration": 117,
    "start_time": "2021-12-18T16:04:17.616Z"
   },
   {
    "duration": 110,
    "start_time": "2021-12-18T16:04:31.776Z"
   },
   {
    "duration": 156,
    "start_time": "2021-12-18T16:05:04.046Z"
   },
   {
    "duration": 348,
    "start_time": "2021-12-18T16:07:09.906Z"
   },
   {
    "duration": 330,
    "start_time": "2021-12-18T16:07:18.987Z"
   },
   {
    "duration": 33,
    "start_time": "2021-12-18T16:08:55.868Z"
   },
   {
    "duration": 31,
    "start_time": "2021-12-18T18:12:17.710Z"
   },
   {
    "duration": 19,
    "start_time": "2021-12-18T18:17:10.460Z"
   },
   {
    "duration": 9,
    "start_time": "2021-12-18T18:17:28.330Z"
   },
   {
    "duration": 97,
    "start_time": "2021-12-18T18:17:39.301Z"
   },
   {
    "duration": 164,
    "start_time": "2021-12-18T18:17:50.357Z"
   },
   {
    "duration": 315,
    "start_time": "2021-12-18T18:17:59.181Z"
   },
   {
    "duration": 10,
    "start_time": "2021-12-18T18:18:26.167Z"
   },
   {
    "duration": 11,
    "start_time": "2021-12-18T18:18:33.132Z"
   },
   {
    "duration": 10,
    "start_time": "2021-12-18T18:18:37.820Z"
   },
   {
    "duration": 10,
    "start_time": "2021-12-18T18:18:43.480Z"
   },
   {
    "duration": 116,
    "start_time": "2021-12-18T18:22:55.571Z"
   },
   {
    "duration": 5,
    "start_time": "2021-12-18T18:23:12.690Z"
   },
   {
    "duration": 100,
    "start_time": "2021-12-18T18:26:26.870Z"
   },
   {
    "duration": 75,
    "start_time": "2021-12-18T18:28:26.241Z"
   },
   {
    "duration": 13,
    "start_time": "2021-12-18T18:28:26.319Z"
   },
   {
    "duration": 54,
    "start_time": "2021-12-18T18:28:26.335Z"
   },
   {
    "duration": 41,
    "start_time": "2021-12-18T18:28:26.392Z"
   },
   {
    "duration": 121,
    "start_time": "2021-12-18T18:28:26.436Z"
   },
   {
    "duration": -2074,
    "start_time": "2021-12-18T18:28:28.635Z"
   },
   {
    "duration": -2079,
    "start_time": "2021-12-18T18:28:28.641Z"
   },
   {
    "duration": -2083,
    "start_time": "2021-12-18T18:28:28.646Z"
   },
   {
    "duration": -2086,
    "start_time": "2021-12-18T18:28:28.651Z"
   },
   {
    "duration": -2089,
    "start_time": "2021-12-18T18:28:28.655Z"
   },
   {
    "duration": -2092,
    "start_time": "2021-12-18T18:28:28.659Z"
   },
   {
    "duration": -2097,
    "start_time": "2021-12-18T18:28:28.665Z"
   },
   {
    "duration": -2099,
    "start_time": "2021-12-18T18:28:28.669Z"
   },
   {
    "duration": -2103,
    "start_time": "2021-12-18T18:28:28.674Z"
   },
   {
    "duration": -2127,
    "start_time": "2021-12-18T18:28:28.699Z"
   },
   {
    "duration": -2131,
    "start_time": "2021-12-18T18:28:28.705Z"
   },
   {
    "duration": -2134,
    "start_time": "2021-12-18T18:28:28.709Z"
   },
   {
    "duration": -2138,
    "start_time": "2021-12-18T18:28:28.714Z"
   },
   {
    "duration": -2140,
    "start_time": "2021-12-18T18:28:28.717Z"
   },
   {
    "duration": -2142,
    "start_time": "2021-12-18T18:28:28.721Z"
   },
   {
    "duration": -2146,
    "start_time": "2021-12-18T18:28:28.726Z"
   },
   {
    "duration": -2150,
    "start_time": "2021-12-18T18:28:28.731Z"
   },
   {
    "duration": -2152,
    "start_time": "2021-12-18T18:28:28.734Z"
   },
   {
    "duration": -2155,
    "start_time": "2021-12-18T18:28:28.738Z"
   },
   {
    "duration": -2158,
    "start_time": "2021-12-18T18:28:28.743Z"
   },
   {
    "duration": -2161,
    "start_time": "2021-12-18T18:28:28.747Z"
   },
   {
    "duration": -2164,
    "start_time": "2021-12-18T18:28:28.751Z"
   },
   {
    "duration": -2171,
    "start_time": "2021-12-18T18:28:28.759Z"
   },
   {
    "duration": -2173,
    "start_time": "2021-12-18T18:28:28.763Z"
   },
   {
    "duration": -2177,
    "start_time": "2021-12-18T18:28:28.768Z"
   },
   {
    "duration": -2179,
    "start_time": "2021-12-18T18:28:28.771Z"
   },
   {
    "duration": 307,
    "start_time": "2021-12-18T18:28:38.390Z"
   },
   {
    "duration": 12,
    "start_time": "2021-12-18T18:28:53.828Z"
   },
   {
    "duration": 35,
    "start_time": "2021-12-18T18:29:44.120Z"
   },
   {
    "duration": 115,
    "start_time": "2021-12-18T18:30:33.123Z"
   },
   {
    "duration": 347,
    "start_time": "2021-12-18T18:30:45.930Z"
   },
   {
    "duration": 413,
    "start_time": "2021-12-18T18:32:57.971Z"
   },
   {
    "duration": 103,
    "start_time": "2021-12-18T18:34:07.180Z"
   },
   {
    "duration": 112,
    "start_time": "2021-12-18T18:34:48.860Z"
   },
   {
    "duration": 115,
    "start_time": "2021-12-18T18:34:56.685Z"
   },
   {
    "duration": 27,
    "start_time": "2021-12-18T18:35:26.160Z"
   },
   {
    "duration": 25,
    "start_time": "2021-12-18T18:36:43.220Z"
   },
   {
    "duration": 25,
    "start_time": "2021-12-18T18:38:12.680Z"
   },
   {
    "duration": 161,
    "start_time": "2021-12-19T13:46:40.917Z"
   },
   {
    "duration": 388,
    "start_time": "2021-12-19T13:59:05.364Z"
   },
   {
    "duration": 14,
    "start_time": "2021-12-19T13:59:56.825Z"
   },
   {
    "duration": 13,
    "start_time": "2021-12-19T14:00:42.244Z"
   },
   {
    "duration": 15,
    "start_time": "2021-12-19T14:01:17.235Z"
   },
   {
    "duration": 15,
    "start_time": "2021-12-19T14:01:28.594Z"
   },
   {
    "duration": 14,
    "start_time": "2021-12-19T14:02:12.386Z"
   },
   {
    "duration": 112,
    "start_time": "2021-12-19T14:02:32.855Z"
   },
   {
    "duration": 109,
    "start_time": "2021-12-19T14:02:53.304Z"
   },
   {
    "duration": 385,
    "start_time": "2021-12-19T14:03:02.628Z"
   },
   {
    "duration": 6,
    "start_time": "2021-12-19T14:04:27.604Z"
   },
   {
    "duration": 29,
    "start_time": "2021-12-19T14:04:37.924Z"
   },
   {
    "duration": 330,
    "start_time": "2021-12-19T14:05:40.404Z"
   },
   {
    "duration": 27,
    "start_time": "2021-12-19T14:08:05.765Z"
   },
   {
    "duration": 22,
    "start_time": "2021-12-19T14:10:20.210Z"
   },
   {
    "duration": 319,
    "start_time": "2021-12-19T14:10:42.665Z"
   },
   {
    "duration": 12,
    "start_time": "2021-12-19T14:11:03.105Z"
   },
   {
    "duration": 27,
    "start_time": "2021-12-19T14:11:15.164Z"
   },
   {
    "duration": 12,
    "start_time": "2021-12-19T14:11:36.685Z"
   },
   {
    "duration": 551,
    "start_time": "2021-12-19T14:11:56.405Z"
   },
   {
    "duration": 16,
    "start_time": "2021-12-19T14:12:03.354Z"
   },
   {
    "duration": 12,
    "start_time": "2021-12-19T14:12:59.704Z"
   },
   {
    "duration": 9,
    "start_time": "2021-12-19T14:13:45.144Z"
   },
   {
    "duration": 6,
    "start_time": "2021-12-19T14:14:17.056Z"
   },
   {
    "duration": 12,
    "start_time": "2021-12-19T14:14:52.744Z"
   },
   {
    "duration": 15,
    "start_time": "2021-12-19T14:15:17.315Z"
   },
   {
    "duration": 13,
    "start_time": "2021-12-19T14:16:57.452Z"
   },
   {
    "duration": 5,
    "start_time": "2021-12-19T14:17:19.630Z"
   },
   {
    "duration": 413,
    "start_time": "2021-12-19T14:18:01.782Z"
   },
   {
    "duration": 6,
    "start_time": "2021-12-19T14:18:15.063Z"
   },
   {
    "duration": 6,
    "start_time": "2021-12-19T14:18:26.201Z"
   },
   {
    "duration": 19,
    "start_time": "2021-12-19T14:18:34.131Z"
   },
   {
    "duration": 9,
    "start_time": "2021-12-19T14:19:03.162Z"
   },
   {
    "duration": 366,
    "start_time": "2021-12-19T14:19:13.341Z"
   },
   {
    "duration": 989,
    "start_time": "2021-12-19T14:25:24.782Z"
   },
   {
    "duration": 67,
    "start_time": "2021-12-19T14:25:45.352Z"
   },
   {
    "duration": 376,
    "start_time": "2021-12-19T14:26:26.902Z"
   },
   {
    "duration": 336,
    "start_time": "2021-12-19T14:26:47.832Z"
   },
   {
    "duration": 369,
    "start_time": "2021-12-19T14:26:56.993Z"
   },
   {
    "duration": 372,
    "start_time": "2021-12-19T14:27:16.572Z"
   },
   {
    "duration": 408,
    "start_time": "2021-12-19T14:27:23.826Z"
   },
   {
    "duration": 16,
    "start_time": "2021-12-19T14:27:43.632Z"
   },
   {
    "duration": 5,
    "start_time": "2021-12-19T14:28:19.952Z"
   },
   {
    "duration": 341,
    "start_time": "2021-12-19T14:28:37.941Z"
   },
   {
    "duration": 346,
    "start_time": "2021-12-19T14:29:04.692Z"
   },
   {
    "duration": 17,
    "start_time": "2021-12-19T14:29:17.892Z"
   },
   {
    "duration": 13,
    "start_time": "2021-12-19T14:30:43.822Z"
   },
   {
    "duration": 333,
    "start_time": "2021-12-19T14:37:40.483Z"
   },
   {
    "duration": 315,
    "start_time": "2021-12-19T14:37:56.243Z"
   },
   {
    "duration": 2511,
    "start_time": "2021-12-19T14:38:19.773Z"
   },
   {
    "duration": 10,
    "start_time": "2021-12-19T14:38:37.714Z"
   },
   {
    "duration": 9,
    "start_time": "2021-12-19T14:45:43.214Z"
   },
   {
    "duration": 9,
    "start_time": "2021-12-19T14:45:51.584Z"
   },
   {
    "duration": 16,
    "start_time": "2021-12-19T14:51:12.904Z"
   },
   {
    "duration": 16,
    "start_time": "2021-12-19T14:51:20.724Z"
   },
   {
    "duration": 10,
    "start_time": "2021-12-19T14:52:03.021Z"
   },
   {
    "duration": 10,
    "start_time": "2021-12-19T14:52:14.394Z"
   },
   {
    "duration": 12,
    "start_time": "2021-12-19T14:53:03.494Z"
   },
   {
    "duration": 40,
    "start_time": "2021-12-19T15:04:20.585Z"
   },
   {
    "duration": 29,
    "start_time": "2021-12-19T15:05:23.527Z"
   },
   {
    "duration": 418,
    "start_time": "2021-12-19T15:06:35.705Z"
   },
   {
    "duration": 355,
    "start_time": "2021-12-19T15:07:30.374Z"
   },
   {
    "duration": 341,
    "start_time": "2021-12-19T15:08:37.223Z"
   },
   {
    "duration": 21,
    "start_time": "2021-12-19T15:09:08.684Z"
   },
   {
    "duration": 22,
    "start_time": "2021-12-19T15:09:44.803Z"
   },
   {
    "duration": 17,
    "start_time": "2021-12-19T15:10:28.824Z"
   },
   {
    "duration": 25,
    "start_time": "2021-12-19T15:11:02.279Z"
   },
   {
    "duration": 10,
    "start_time": "2021-12-19T15:12:52.535Z"
   },
   {
    "duration": 12,
    "start_time": "2021-12-19T15:13:00.374Z"
   },
   {
    "duration": 10046,
    "start_time": "2021-12-19T15:14:03.624Z"
   },
   {
    "duration": 6,
    "start_time": "2021-12-19T15:14:33.762Z"
   },
   {
    "duration": 107,
    "start_time": "2021-12-19T15:14:54.405Z"
   },
   {
    "duration": 9804,
    "start_time": "2021-12-19T15:15:22.075Z"
   },
   {
    "duration": 8417,
    "start_time": "2021-12-19T15:15:54.379Z"
   },
   {
    "duration": 8982,
    "start_time": "2021-12-19T15:19:41.590Z"
   },
   {
    "duration": 8610,
    "start_time": "2021-12-19T15:20:06.340Z"
   },
   {
    "duration": 8008,
    "start_time": "2021-12-19T15:20:23.458Z"
   },
   {
    "duration": 305,
    "start_time": "2021-12-19T15:21:06.990Z"
   },
   {
    "duration": 14,
    "start_time": "2021-12-19T15:21:28.146Z"
   },
   {
    "duration": 8,
    "start_time": "2021-12-19T15:33:41.740Z"
   },
   {
    "duration": 6,
    "start_time": "2021-12-19T15:33:55.290Z"
   },
   {
    "duration": 6,
    "start_time": "2021-12-19T15:34:19.032Z"
   },
   {
    "duration": 8293,
    "start_time": "2021-12-19T15:34:37.660Z"
   },
   {
    "duration": 7,
    "start_time": "2021-12-19T15:34:51.748Z"
   },
   {
    "duration": 6,
    "start_time": "2021-12-19T15:35:08.440Z"
   },
   {
    "duration": 118,
    "start_time": "2021-12-19T15:35:26.670Z"
   },
   {
    "duration": 14,
    "start_time": "2021-12-19T15:35:30.391Z"
   },
   {
    "duration": 329,
    "start_time": "2021-12-19T15:44:34.500Z"
   },
   {
    "duration": 5,
    "start_time": "2021-12-19T15:44:48.410Z"
   },
   {
    "duration": 308,
    "start_time": "2021-12-19T15:49:53.221Z"
   },
   {
    "duration": 6,
    "start_time": "2021-12-19T16:16:01.468Z"
   },
   {
    "duration": 330,
    "start_time": "2021-12-19T16:16:43.372Z"
   },
   {
    "duration": 353,
    "start_time": "2021-12-19T16:18:08.430Z"
   },
   {
    "duration": 328,
    "start_time": "2021-12-19T16:18:37.240Z"
   },
   {
    "duration": 332,
    "start_time": "2021-12-19T16:35:38.854Z"
   },
   {
    "duration": 8119,
    "start_time": "2021-12-19T16:40:56.578Z"
   },
   {
    "duration": 8328,
    "start_time": "2021-12-19T16:42:17.639Z"
   },
   {
    "duration": 8264,
    "start_time": "2021-12-19T16:42:35.596Z"
   },
   {
    "duration": 96,
    "start_time": "2021-12-19T16:43:54.737Z"
   },
   {
    "duration": 18,
    "start_time": "2021-12-19T16:44:08.433Z"
   },
   {
    "duration": 12,
    "start_time": "2021-12-19T16:44:26.369Z"
   },
   {
    "duration": 9,
    "start_time": "2021-12-19T16:45:16.958Z"
   },
   {
    "duration": 360,
    "start_time": "2021-12-19T16:46:01.221Z"
   },
   {
    "duration": 9,
    "start_time": "2021-12-19T16:46:21.477Z"
   },
   {
    "duration": 7946,
    "start_time": "2021-12-19T16:56:48.040Z"
   },
   {
    "duration": 8683,
    "start_time": "2021-12-19T16:57:49.540Z"
   },
   {
    "duration": 7928,
    "start_time": "2021-12-19T17:00:42.910Z"
   },
   {
    "duration": 8143,
    "start_time": "2021-12-19T17:10:29.821Z"
   },
   {
    "duration": 10653,
    "start_time": "2021-12-19T17:13:04.850Z"
   },
   {
    "duration": 8003,
    "start_time": "2021-12-19T17:13:44.461Z"
   },
   {
    "duration": 7976,
    "start_time": "2021-12-19T17:14:02.661Z"
   },
   {
    "duration": 8642,
    "start_time": "2021-12-19T17:15:14.832Z"
   },
   {
    "duration": 7844,
    "start_time": "2021-12-19T17:15:52.370Z"
   },
   {
    "duration": 92,
    "start_time": "2021-12-19T17:32:07.707Z"
   },
   {
    "duration": 154,
    "start_time": "2021-12-19T17:32:58.015Z"
   },
   {
    "duration": 137,
    "start_time": "2021-12-19T17:33:27.625Z"
   },
   {
    "duration": 103,
    "start_time": "2021-12-19T17:35:39.670Z"
   },
   {
    "duration": 110,
    "start_time": "2021-12-19T17:35:49.670Z"
   },
   {
    "duration": 107,
    "start_time": "2021-12-19T17:36:06.099Z"
   },
   {
    "duration": 124,
    "start_time": "2021-12-19T17:36:20.850Z"
   },
   {
    "duration": 113,
    "start_time": "2021-12-19T17:36:31.101Z"
   },
   {
    "duration": 167,
    "start_time": "2021-12-19T17:36:40.871Z"
   },
   {
    "duration": 110,
    "start_time": "2021-12-19T17:36:50.248Z"
   },
   {
    "duration": 110,
    "start_time": "2021-12-19T17:37:03.412Z"
   },
   {
    "duration": 118,
    "start_time": "2021-12-19T17:37:14.880Z"
   },
   {
    "duration": 116,
    "start_time": "2021-12-19T18:04:07.715Z"
   },
   {
    "duration": 1404,
    "start_time": "2021-12-19T18:04:16.651Z"
   },
   {
    "duration": 120,
    "start_time": "2021-12-19T18:04:46.461Z"
   },
   {
    "duration": 32,
    "start_time": "2021-12-19T18:10:21.478Z"
   },
   {
    "duration": 37,
    "start_time": "2021-12-19T18:17:01.740Z"
   },
   {
    "duration": 24,
    "start_time": "2021-12-19T18:17:15.100Z"
   },
   {
    "duration": 76,
    "start_time": "2021-12-19T18:18:00.211Z"
   },
   {
    "duration": 15,
    "start_time": "2021-12-19T18:18:00.289Z"
   },
   {
    "duration": 67,
    "start_time": "2021-12-19T18:18:00.306Z"
   },
   {
    "duration": 12,
    "start_time": "2021-12-19T18:18:00.375Z"
   },
   {
    "duration": 47,
    "start_time": "2021-12-19T18:18:00.390Z"
   },
   {
    "duration": 10,
    "start_time": "2021-12-19T18:18:00.439Z"
   },
   {
    "duration": 11,
    "start_time": "2021-12-19T18:18:00.452Z"
   },
   {
    "duration": 14,
    "start_time": "2021-12-19T18:18:01.240Z"
   },
   {
    "duration": 24,
    "start_time": "2021-12-19T18:18:01.257Z"
   },
   {
    "duration": 329,
    "start_time": "2021-12-19T18:18:01.284Z"
   },
   {
    "duration": -4190,
    "start_time": "2021-12-19T18:18:05.805Z"
   },
   {
    "duration": -4192,
    "start_time": "2021-12-19T18:18:05.809Z"
   },
   {
    "duration": -4195,
    "start_time": "2021-12-19T18:18:05.813Z"
   },
   {
    "duration": -4197,
    "start_time": "2021-12-19T18:18:05.816Z"
   },
   {
    "duration": -4200,
    "start_time": "2021-12-19T18:18:05.821Z"
   },
   {
    "duration": -4203,
    "start_time": "2021-12-19T18:18:05.825Z"
   },
   {
    "duration": -4206,
    "start_time": "2021-12-19T18:18:05.829Z"
   },
   {
    "duration": -4209,
    "start_time": "2021-12-19T18:18:05.833Z"
   },
   {
    "duration": 16,
    "start_time": "2021-12-19T18:18:02.200Z"
   },
   {
    "duration": 11,
    "start_time": "2021-12-19T18:18:02.219Z"
   },
   {
    "duration": 36,
    "start_time": "2021-12-19T18:18:02.233Z"
   },
   {
    "duration": 11,
    "start_time": "2021-12-19T18:18:02.272Z"
   },
   {
    "duration": 945,
    "start_time": "2021-12-19T18:18:02.340Z"
   },
   {
    "duration": 7,
    "start_time": "2021-12-19T18:18:03.288Z"
   },
   {
    "duration": 3830,
    "start_time": "2021-12-19T18:18:03.298Z"
   },
   {
    "duration": 8,
    "start_time": "2021-12-19T18:18:07.131Z"
   },
   {
    "duration": 28,
    "start_time": "2021-12-19T18:18:07.142Z"
   },
   {
    "duration": 11,
    "start_time": "2021-12-19T18:18:07.173Z"
   },
   {
    "duration": 19,
    "start_time": "2021-12-19T18:18:07.224Z"
   },
   {
    "duration": 704,
    "start_time": "2021-12-19T18:18:07.247Z"
   },
   {
    "duration": 13,
    "start_time": "2021-12-19T18:18:07.953Z"
   },
   {
    "duration": 85,
    "start_time": "2021-12-19T18:18:07.968Z"
   },
   {
    "duration": 5,
    "start_time": "2021-12-19T18:18:08.055Z"
   },
   {
    "duration": 349,
    "start_time": "2021-12-19T18:18:26.756Z"
   },
   {
    "duration": 306,
    "start_time": "2021-12-19T18:18:53.680Z"
   },
   {
    "duration": 74,
    "start_time": "2021-12-19T18:19:05.008Z"
   },
   {
    "duration": 13,
    "start_time": "2021-12-19T18:19:05.085Z"
   },
   {
    "duration": 46,
    "start_time": "2021-12-19T18:19:05.123Z"
   },
   {
    "duration": 11,
    "start_time": "2021-12-19T18:19:05.172Z"
   },
   {
    "duration": 44,
    "start_time": "2021-12-19T18:19:05.185Z"
   },
   {
    "duration": 10,
    "start_time": "2021-12-19T18:19:05.231Z"
   },
   {
    "duration": 12,
    "start_time": "2021-12-19T18:19:05.244Z"
   },
   {
    "duration": 18,
    "start_time": "2021-12-19T18:19:05.258Z"
   },
   {
    "duration": 69,
    "start_time": "2021-12-19T18:19:05.280Z"
   },
   {
    "duration": 383,
    "start_time": "2021-12-19T18:19:05.351Z"
   },
   {
    "duration": -4454,
    "start_time": "2021-12-19T18:19:10.190Z"
   },
   {
    "duration": -4457,
    "start_time": "2021-12-19T18:19:10.195Z"
   },
   {
    "duration": -4460,
    "start_time": "2021-12-19T18:19:10.199Z"
   },
   {
    "duration": -4463,
    "start_time": "2021-12-19T18:19:10.203Z"
   },
   {
    "duration": -4467,
    "start_time": "2021-12-19T18:19:10.209Z"
   },
   {
    "duration": -6809,
    "start_time": "2021-12-19T18:19:12.552Z"
   },
   {
    "duration": -6825,
    "start_time": "2021-12-19T18:19:12.569Z"
   },
   {
    "duration": -6827,
    "start_time": "2021-12-19T18:19:12.573Z"
   },
   {
    "duration": -6829,
    "start_time": "2021-12-19T18:19:12.576Z"
   },
   {
    "duration": 10,
    "start_time": "2021-12-19T18:19:06.151Z"
   },
   {
    "duration": 47,
    "start_time": "2021-12-19T18:19:06.163Z"
   },
   {
    "duration": 20,
    "start_time": "2021-12-19T18:19:06.213Z"
   },
   {
    "duration": 897,
    "start_time": "2021-12-19T18:19:06.235Z"
   },
   {
    "duration": 8,
    "start_time": "2021-12-19T18:19:07.134Z"
   },
   {
    "duration": 4339,
    "start_time": "2021-12-19T18:19:07.145Z"
   },
   {
    "duration": 7,
    "start_time": "2021-12-19T18:19:11.487Z"
   },
   {
    "duration": 45,
    "start_time": "2021-12-19T18:19:11.497Z"
   },
   {
    "duration": 9,
    "start_time": "2021-12-19T18:19:11.545Z"
   },
   {
    "duration": 14,
    "start_time": "2021-12-19T18:19:11.557Z"
   },
   {
    "duration": 746,
    "start_time": "2021-12-19T18:19:11.573Z"
   },
   {
    "duration": 12,
    "start_time": "2021-12-19T18:19:12.323Z"
   },
   {
    "duration": 84,
    "start_time": "2021-12-19T18:19:12.337Z"
   },
   {
    "duration": 6,
    "start_time": "2021-12-19T18:19:12.425Z"
   },
   {
    "duration": 467,
    "start_time": "2021-12-19T18:19:30.831Z"
   },
   {
    "duration": 74,
    "start_time": "2021-12-19T18:19:40.510Z"
   },
   {
    "duration": 15,
    "start_time": "2021-12-19T18:19:40.587Z"
   },
   {
    "duration": 61,
    "start_time": "2021-12-19T18:19:40.605Z"
   },
   {
    "duration": 13,
    "start_time": "2021-12-19T18:19:40.668Z"
   },
   {
    "duration": 21,
    "start_time": "2021-12-19T18:19:41.579Z"
   },
   {
    "duration": 29,
    "start_time": "2021-12-19T18:19:41.603Z"
   },
   {
    "duration": 16,
    "start_time": "2021-12-19T18:19:41.635Z"
   },
   {
    "duration": 26,
    "start_time": "2021-12-19T18:19:41.654Z"
   },
   {
    "duration": 27,
    "start_time": "2021-12-19T18:19:41.682Z"
   },
   {
    "duration": 331,
    "start_time": "2021-12-19T18:19:41.711Z"
   },
   {
    "duration": 23,
    "start_time": "2021-12-19T18:19:42.620Z"
   },
   {
    "duration": 9,
    "start_time": "2021-12-19T18:19:42.646Z"
   },
   {
    "duration": 10,
    "start_time": "2021-12-19T18:19:42.659Z"
   },
   {
    "duration": 11,
    "start_time": "2021-12-19T18:19:42.671Z"
   },
   {
    "duration": 41,
    "start_time": "2021-12-19T18:19:42.684Z"
   },
   {
    "duration": 9,
    "start_time": "2021-12-19T18:19:42.727Z"
   },
   {
    "duration": 14,
    "start_time": "2021-12-19T18:19:42.738Z"
   },
   {
    "duration": 7,
    "start_time": "2021-12-19T18:19:42.754Z"
   },
   {
    "duration": 14,
    "start_time": "2021-12-19T18:19:42.764Z"
   },
   {
    "duration": 48,
    "start_time": "2021-12-19T18:19:42.781Z"
   },
   {
    "duration": 31,
    "start_time": "2021-12-19T18:19:42.831Z"
   },
   {
    "duration": 13,
    "start_time": "2021-12-19T18:19:43.697Z"
   },
   {
    "duration": 894,
    "start_time": "2021-12-19T18:19:43.712Z"
   },
   {
    "duration": 15,
    "start_time": "2021-12-19T18:19:44.610Z"
   },
   {
    "duration": 4680,
    "start_time": "2021-12-19T18:19:44.628Z"
   },
   {
    "duration": 15,
    "start_time": "2021-12-19T18:19:49.310Z"
   },
   {
    "duration": 36,
    "start_time": "2021-12-19T18:19:49.327Z"
   },
   {
    "duration": 8,
    "start_time": "2021-12-19T18:19:49.365Z"
   },
   {
    "duration": 17,
    "start_time": "2021-12-19T18:19:49.376Z"
   },
   {
    "duration": 761,
    "start_time": "2021-12-19T18:19:49.395Z"
   },
   {
    "duration": 12,
    "start_time": "2021-12-19T18:19:50.159Z"
   },
   {
    "duration": 87,
    "start_time": "2021-12-19T18:19:50.173Z"
   },
   {
    "duration": 5,
    "start_time": "2021-12-19T18:19:50.263Z"
   },
   {
    "duration": 312,
    "start_time": "2021-12-19T18:24:08.330Z"
   },
   {
    "duration": 73,
    "start_time": "2021-12-19T18:24:14.301Z"
   },
   {
    "duration": 14,
    "start_time": "2021-12-19T18:24:14.377Z"
   },
   {
    "duration": 56,
    "start_time": "2021-12-19T18:24:14.395Z"
   },
   {
    "duration": 12,
    "start_time": "2021-12-19T18:24:14.454Z"
   },
   {
    "duration": 22,
    "start_time": "2021-12-19T18:24:15.240Z"
   },
   {
    "duration": 8,
    "start_time": "2021-12-19T18:24:15.265Z"
   },
   {
    "duration": 8,
    "start_time": "2021-12-19T18:24:15.277Z"
   },
   {
    "duration": 35,
    "start_time": "2021-12-19T18:24:15.288Z"
   },
   {
    "duration": 39,
    "start_time": "2021-12-19T18:24:15.325Z"
   },
   {
    "duration": 9,
    "start_time": "2021-12-19T18:24:15.367Z"
   },
   {
    "duration": 21,
    "start_time": "2021-12-19T18:24:16.113Z"
   },
   {
    "duration": 10,
    "start_time": "2021-12-19T18:24:16.136Z"
   },
   {
    "duration": 26,
    "start_time": "2021-12-19T18:24:16.149Z"
   },
   {
    "duration": 31,
    "start_time": "2021-12-19T18:24:16.178Z"
   },
   {
    "duration": 24,
    "start_time": "2021-12-19T18:24:16.212Z"
   },
   {
    "duration": 20,
    "start_time": "2021-12-19T18:24:16.239Z"
   },
   {
    "duration": 35,
    "start_time": "2021-12-19T18:24:16.261Z"
   },
   {
    "duration": 27,
    "start_time": "2021-12-19T18:24:16.298Z"
   },
   {
    "duration": 32,
    "start_time": "2021-12-19T18:24:16.328Z"
   },
   {
    "duration": 30,
    "start_time": "2021-12-19T18:24:16.363Z"
   },
   {
    "duration": 44,
    "start_time": "2021-12-19T18:24:16.395Z"
   },
   {
    "duration": 11,
    "start_time": "2021-12-19T18:24:16.442Z"
   },
   {
    "duration": 1127,
    "start_time": "2021-12-19T18:24:17.107Z"
   },
   {
    "duration": 8,
    "start_time": "2021-12-19T18:24:18.237Z"
   },
   {
    "duration": 4138,
    "start_time": "2021-12-19T18:24:18.248Z"
   },
   {
    "duration": 8,
    "start_time": "2021-12-19T18:24:22.389Z"
   },
   {
    "duration": 49,
    "start_time": "2021-12-19T18:24:22.399Z"
   },
   {
    "duration": 9,
    "start_time": "2021-12-19T18:24:22.450Z"
   },
   {
    "duration": 39,
    "start_time": "2021-12-19T18:24:22.462Z"
   },
   {
    "duration": 751,
    "start_time": "2021-12-19T18:24:22.504Z"
   },
   {
    "duration": 11,
    "start_time": "2021-12-19T18:24:23.258Z"
   },
   {
    "duration": 94,
    "start_time": "2021-12-19T18:24:23.271Z"
   },
   {
    "duration": 5,
    "start_time": "2021-12-19T18:24:23.367Z"
   },
   {
    "duration": 108,
    "start_time": "2021-12-19T18:28:24.290Z"
   },
   {
    "duration": 24,
    "start_time": "2021-12-19T18:38:37.300Z"
   },
   {
    "duration": 74,
    "start_time": "2021-12-19T18:39:08.091Z"
   },
   {
    "duration": 14,
    "start_time": "2021-12-19T18:39:08.167Z"
   },
   {
    "duration": 58,
    "start_time": "2021-12-19T18:39:08.184Z"
   },
   {
    "duration": 12,
    "start_time": "2021-12-19T18:39:08.245Z"
   },
   {
    "duration": 21,
    "start_time": "2021-12-19T18:39:09.230Z"
   },
   {
    "duration": 10,
    "start_time": "2021-12-19T18:39:09.253Z"
   },
   {
    "duration": 8,
    "start_time": "2021-12-19T18:39:09.266Z"
   },
   {
    "duration": 47,
    "start_time": "2021-12-19T18:39:09.276Z"
   },
   {
    "duration": 40,
    "start_time": "2021-12-19T18:39:09.325Z"
   },
   {
    "duration": 10,
    "start_time": "2021-12-19T18:39:09.367Z"
   },
   {
    "duration": 22,
    "start_time": "2021-12-19T18:39:10.311Z"
   },
   {
    "duration": 10,
    "start_time": "2021-12-19T18:39:10.335Z"
   },
   {
    "duration": 9,
    "start_time": "2021-12-19T18:39:10.347Z"
   },
   {
    "duration": 7,
    "start_time": "2021-12-19T18:39:10.359Z"
   },
   {
    "duration": 8,
    "start_time": "2021-12-19T18:39:10.369Z"
   },
   {
    "duration": 47,
    "start_time": "2021-12-19T18:39:10.379Z"
   },
   {
    "duration": 11,
    "start_time": "2021-12-19T18:39:10.428Z"
   },
   {
    "duration": 7,
    "start_time": "2021-12-19T18:39:10.441Z"
   },
   {
    "duration": 14,
    "start_time": "2021-12-19T18:39:10.453Z"
   },
   {
    "duration": 54,
    "start_time": "2021-12-19T18:39:10.470Z"
   },
   {
    "duration": 22,
    "start_time": "2021-12-19T18:39:10.527Z"
   },
   {
    "duration": 942,
    "start_time": "2021-12-19T18:39:10.552Z"
   },
   {
    "duration": 8,
    "start_time": "2021-12-19T18:39:11.496Z"
   },
   {
    "duration": 4572,
    "start_time": "2021-12-19T18:39:11.508Z"
   },
   {
    "duration": 7,
    "start_time": "2021-12-19T18:39:16.083Z"
   },
   {
    "duration": 48,
    "start_time": "2021-12-19T18:39:16.092Z"
   },
   {
    "duration": 8,
    "start_time": "2021-12-19T18:39:16.142Z"
   },
   {
    "duration": 14,
    "start_time": "2021-12-19T18:39:16.153Z"
   },
   {
    "duration": 1380,
    "start_time": "2021-12-19T18:39:16.169Z"
   },
   {
    "duration": 15,
    "start_time": "2021-12-19T18:39:17.552Z"
   },
   {
    "duration": 138,
    "start_time": "2021-12-19T18:39:17.627Z"
   },
   {
    "duration": 6,
    "start_time": "2021-12-19T18:39:17.767Z"
   },
   {
    "duration": 27,
    "start_time": "2021-12-19T18:41:13.340Z"
   },
   {
    "duration": 103,
    "start_time": "2021-12-19T18:43:43.090Z"
   },
   {
    "duration": 73,
    "start_time": "2021-12-19T18:46:03.807Z"
   },
   {
    "duration": 20,
    "start_time": "2021-12-19T19:00:03.781Z"
   },
   {
    "duration": 22,
    "start_time": "2021-12-19T19:02:05.831Z"
   },
   {
    "duration": 328,
    "start_time": "2021-12-19T19:02:28.980Z"
   },
   {
    "duration": 21,
    "start_time": "2021-12-19T19:02:38.250Z"
   },
   {
    "duration": 87,
    "start_time": "2021-12-19T19:02:43.662Z"
   },
   {
    "duration": 14,
    "start_time": "2021-12-19T19:02:43.752Z"
   },
   {
    "duration": 193,
    "start_time": "2021-12-19T19:02:43.769Z"
   },
   {
    "duration": 13,
    "start_time": "2021-12-19T19:02:43.965Z"
   },
   {
    "duration": 47,
    "start_time": "2021-12-19T19:02:43.980Z"
   },
   {
    "duration": 11,
    "start_time": "2021-12-19T19:02:44.031Z"
   },
   {
    "duration": 37,
    "start_time": "2021-12-19T19:02:44.045Z"
   },
   {
    "duration": 61,
    "start_time": "2021-12-19T19:02:44.085Z"
   },
   {
    "duration": 12,
    "start_time": "2021-12-19T19:02:44.150Z"
   },
   {
    "duration": 50,
    "start_time": "2021-12-19T19:02:44.166Z"
   },
   {
    "duration": 14,
    "start_time": "2021-12-19T19:02:44.571Z"
   },
   {
    "duration": 13,
    "start_time": "2021-12-19T19:02:44.588Z"
   },
   {
    "duration": 12,
    "start_time": "2021-12-19T19:02:44.604Z"
   },
   {
    "duration": 10,
    "start_time": "2021-12-19T19:02:44.619Z"
   },
   {
    "duration": 16,
    "start_time": "2021-12-19T19:02:44.632Z"
   },
   {
    "duration": 14,
    "start_time": "2021-12-19T19:02:44.651Z"
   },
   {
    "duration": 10,
    "start_time": "2021-12-19T19:02:44.668Z"
   },
   {
    "duration": 19,
    "start_time": "2021-12-19T19:02:44.732Z"
   },
   {
    "duration": 17,
    "start_time": "2021-12-19T19:02:44.755Z"
   },
   {
    "duration": 66,
    "start_time": "2021-12-19T19:02:44.776Z"
   },
   {
    "duration": 21,
    "start_time": "2021-12-19T19:02:44.845Z"
   },
   {
    "duration": 7,
    "start_time": "2021-12-19T19:02:44.868Z"
   },
   {
    "duration": 4712,
    "start_time": "2021-12-19T19:02:44.878Z"
   },
   {
    "duration": 7,
    "start_time": "2021-12-19T19:02:49.593Z"
   },
   {
    "duration": 47,
    "start_time": "2021-12-19T19:02:49.602Z"
   },
   {
    "duration": 9,
    "start_time": "2021-12-19T19:02:49.651Z"
   },
   {
    "duration": 29,
    "start_time": "2021-12-19T19:02:49.663Z"
   },
   {
    "duration": 902,
    "start_time": "2021-12-19T19:02:49.695Z"
   },
   {
    "duration": 13,
    "start_time": "2021-12-19T19:02:50.600Z"
   },
   {
    "duration": 113,
    "start_time": "2021-12-19T19:02:50.625Z"
   },
   {
    "duration": 6,
    "start_time": "2021-12-19T19:02:50.741Z"
   },
   {
    "duration": 109,
    "start_time": "2021-12-19T19:08:29.291Z"
   },
   {
    "duration": 8251,
    "start_time": "2021-12-19T19:08:55.621Z"
   },
   {
    "duration": 8725,
    "start_time": "2021-12-19T19:09:21.191Z"
   },
   {
    "duration": 80,
    "start_time": "2021-12-19T19:09:38.069Z"
   },
   {
    "duration": 16,
    "start_time": "2021-12-19T19:09:38.153Z"
   },
   {
    "duration": 76,
    "start_time": "2021-12-19T19:09:38.173Z"
   },
   {
    "duration": 12,
    "start_time": "2021-12-19T19:09:38.252Z"
   },
   {
    "duration": 79,
    "start_time": "2021-12-19T19:09:38.266Z"
   },
   {
    "duration": 25,
    "start_time": "2021-12-19T19:09:38.349Z"
   },
   {
    "duration": 32,
    "start_time": "2021-12-19T19:09:38.377Z"
   },
   {
    "duration": 72,
    "start_time": "2021-12-19T19:09:38.412Z"
   },
   {
    "duration": 9,
    "start_time": "2021-12-19T19:09:38.488Z"
   },
   {
    "duration": 94,
    "start_time": "2021-12-19T19:09:38.500Z"
   },
   {
    "duration": 14,
    "start_time": "2021-12-19T19:09:38.596Z"
   },
   {
    "duration": 27,
    "start_time": "2021-12-19T19:09:38.613Z"
   },
   {
    "duration": 42,
    "start_time": "2021-12-19T19:09:38.643Z"
   },
   {
    "duration": 28,
    "start_time": "2021-12-19T19:09:38.688Z"
   },
   {
    "duration": 16,
    "start_time": "2021-12-19T19:09:38.718Z"
   },
   {
    "duration": 32,
    "start_time": "2021-12-19T19:09:38.736Z"
   },
   {
    "duration": 27,
    "start_time": "2021-12-19T19:09:38.771Z"
   },
   {
    "duration": 27,
    "start_time": "2021-12-19T19:09:38.800Z"
   },
   {
    "duration": 40,
    "start_time": "2021-12-19T19:09:38.830Z"
   },
   {
    "duration": 32,
    "start_time": "2021-12-19T19:09:38.911Z"
   },
   {
    "duration": 25,
    "start_time": "2021-12-19T19:09:38.946Z"
   },
   {
    "duration": 11,
    "start_time": "2021-12-19T19:09:38.975Z"
   },
   {
    "duration": 4110,
    "start_time": "2021-12-19T19:09:38.989Z"
   },
   {
    "duration": 23,
    "start_time": "2021-12-19T19:09:43.102Z"
   },
   {
    "duration": 29,
    "start_time": "2021-12-19T19:09:43.127Z"
   },
   {
    "duration": 11,
    "start_time": "2021-12-19T19:09:43.158Z"
   },
   {
    "duration": 54,
    "start_time": "2021-12-19T19:09:43.172Z"
   },
   {
    "duration": 729,
    "start_time": "2021-12-19T19:09:43.231Z"
   },
   {
    "duration": 13,
    "start_time": "2021-12-19T19:09:43.962Z"
   },
   {
    "duration": 95,
    "start_time": "2021-12-19T19:09:43.978Z"
   },
   {
    "duration": 6,
    "start_time": "2021-12-19T19:09:44.076Z"
   },
   {
    "duration": 106,
    "start_time": "2021-12-19T19:21:08.811Z"
   },
   {
    "duration": 122,
    "start_time": "2021-12-19T19:21:19.191Z"
   },
   {
    "duration": 15,
    "start_time": "2021-12-19T19:27:02.545Z"
   },
   {
    "duration": 9,
    "start_time": "2021-12-19T19:31:52.866Z"
   },
   {
    "duration": 9,
    "start_time": "2021-12-19T19:32:00.396Z"
   },
   {
    "duration": 109,
    "start_time": "2021-12-19T19:33:07.935Z"
   },
   {
    "duration": 109,
    "start_time": "2021-12-19T19:33:39.996Z"
   },
   {
    "duration": 126,
    "start_time": "2021-12-19T19:33:49.435Z"
   },
   {
    "duration": 106,
    "start_time": "2021-12-19T19:34:07.545Z"
   },
   {
    "duration": 119,
    "start_time": "2021-12-19T19:34:21.664Z"
   },
   {
    "duration": 19,
    "start_time": "2021-12-19T19:34:33.658Z"
   },
   {
    "duration": 20,
    "start_time": "2021-12-19T19:35:28.575Z"
   },
   {
    "duration": 25,
    "start_time": "2021-12-19T19:35:42.065Z"
   },
   {
    "duration": 8,
    "start_time": "2021-12-19T19:35:55.395Z"
   },
   {
    "duration": 9,
    "start_time": "2021-12-19T19:36:03.915Z"
   },
   {
    "duration": 12,
    "start_time": "2021-12-20T05:33:16.998Z"
   },
   {
    "duration": 10,
    "start_time": "2021-12-20T05:33:20.079Z"
   },
   {
    "duration": 76,
    "start_time": "2021-12-20T05:33:28.069Z"
   },
   {
    "duration": 14,
    "start_time": "2021-12-20T05:33:28.148Z"
   },
   {
    "duration": 77,
    "start_time": "2021-12-20T05:33:28.165Z"
   },
   {
    "duration": 15,
    "start_time": "2021-12-20T05:33:28.245Z"
   },
   {
    "duration": 35,
    "start_time": "2021-12-20T05:33:28.263Z"
   },
   {
    "duration": 32,
    "start_time": "2021-12-20T05:33:28.300Z"
   },
   {
    "duration": 25,
    "start_time": "2021-12-20T05:33:28.335Z"
   },
   {
    "duration": 47,
    "start_time": "2021-12-20T05:33:28.365Z"
   },
   {
    "duration": 13,
    "start_time": "2021-12-20T05:33:28.424Z"
   },
   {
    "duration": 31,
    "start_time": "2021-12-20T05:33:28.440Z"
   },
   {
    "duration": 14,
    "start_time": "2021-12-20T05:33:28.474Z"
   },
   {
    "duration": 34,
    "start_time": "2021-12-20T05:33:28.491Z"
   },
   {
    "duration": 10,
    "start_time": "2021-12-20T05:33:28.529Z"
   },
   {
    "duration": 47,
    "start_time": "2021-12-20T05:33:28.542Z"
   },
   {
    "duration": 26,
    "start_time": "2021-12-20T05:33:28.591Z"
   },
   {
    "duration": 24,
    "start_time": "2021-12-20T05:33:28.620Z"
   },
   {
    "duration": 36,
    "start_time": "2021-12-20T05:33:28.646Z"
   },
   {
    "duration": 25,
    "start_time": "2021-12-20T05:33:28.684Z"
   },
   {
    "duration": 31,
    "start_time": "2021-12-20T05:33:28.712Z"
   },
   {
    "duration": 28,
    "start_time": "2021-12-20T05:33:28.746Z"
   },
   {
    "duration": 32,
    "start_time": "2021-12-20T05:33:28.777Z"
   },
   {
    "duration": 4188,
    "start_time": "2021-12-20T05:33:28.813Z"
   },
   {
    "duration": 19,
    "start_time": "2021-12-20T05:33:33.008Z"
   },
   {
    "duration": 30,
    "start_time": "2021-12-20T05:33:33.030Z"
   },
   {
    "duration": 12,
    "start_time": "2021-12-20T05:33:33.062Z"
   },
   {
    "duration": 52,
    "start_time": "2021-12-20T05:33:33.076Z"
   },
   {
    "duration": 728,
    "start_time": "2021-12-20T05:33:33.131Z"
   },
   {
    "duration": 13,
    "start_time": "2021-12-20T05:33:33.862Z"
   },
   {
    "duration": 98,
    "start_time": "2021-12-20T05:33:33.878Z"
   },
   {
    "duration": 7,
    "start_time": "2021-12-20T05:33:33.979Z"
   },
   {
    "duration": 13,
    "start_time": "2021-12-20T05:52:53.827Z"
   },
   {
    "duration": 10,
    "start_time": "2021-12-20T05:53:02.097Z"
   },
   {
    "duration": 12,
    "start_time": "2021-12-20T05:59:43.258Z"
   },
   {
    "duration": 11,
    "start_time": "2021-12-20T06:00:57.096Z"
   },
   {
    "duration": 14,
    "start_time": "2021-12-20T06:01:37.353Z"
   },
   {
    "duration": 14,
    "start_time": "2021-12-20T06:01:54.776Z"
   },
   {
    "duration": 402,
    "start_time": "2021-12-20T06:16:19.204Z"
   },
   {
    "duration": 10,
    "start_time": "2021-12-20T06:16:33.796Z"
   },
   {
    "duration": 11,
    "start_time": "2021-12-20T06:23:35.370Z"
   },
   {
    "duration": 214,
    "start_time": "2021-12-20T06:23:59.323Z"
   },
   {
    "duration": 11,
    "start_time": "2021-12-20T06:24:33.746Z"
   },
   {
    "duration": 10,
    "start_time": "2021-12-20T06:24:38.658Z"
   },
   {
    "duration": 12,
    "start_time": "2021-12-20T06:24:52.185Z"
   },
   {
    "duration": 412,
    "start_time": "2021-12-20T06:25:11.448Z"
   },
   {
    "duration": 422,
    "start_time": "2021-12-20T06:25:24.176Z"
   },
   {
    "duration": 12,
    "start_time": "2021-12-20T06:25:36.475Z"
   },
   {
    "duration": 12,
    "start_time": "2021-12-20T06:25:54.162Z"
   },
   {
    "duration": 465,
    "start_time": "2021-12-20T06:28:37.537Z"
   },
   {
    "duration": 497,
    "start_time": "2021-12-20T06:28:54.946Z"
   },
   {
    "duration": 466,
    "start_time": "2021-12-20T06:29:12.465Z"
   },
   {
    "duration": 314,
    "start_time": "2021-12-20T06:29:18.168Z"
   },
   {
    "duration": 436,
    "start_time": "2021-12-20T06:29:47.248Z"
   },
   {
    "duration": 448,
    "start_time": "2021-12-20T06:29:55.225Z"
   },
   {
    "duration": 338,
    "start_time": "2021-12-20T06:30:16.608Z"
   },
   {
    "duration": 10,
    "start_time": "2021-12-20T06:30:25.361Z"
   },
   {
    "duration": 6,
    "start_time": "2021-12-20T06:30:57.544Z"
   },
   {
    "duration": 864,
    "start_time": "2021-12-20T06:31:03.896Z"
   },
   {
    "duration": 12,
    "start_time": "2021-12-20T06:31:15.642Z"
   },
   {
    "duration": 13,
    "start_time": "2021-12-20T06:31:59.697Z"
   },
   {
    "duration": 421,
    "start_time": "2021-12-20T06:33:04.999Z"
   },
   {
    "duration": 688,
    "start_time": "2021-12-20T06:33:14.232Z"
   },
   {
    "duration": 408,
    "start_time": "2021-12-20T06:33:25.504Z"
   },
   {
    "duration": 410,
    "start_time": "2021-12-20T06:35:17.800Z"
   },
   {
    "duration": 141,
    "start_time": "2021-12-20T06:39:02.222Z"
   },
   {
    "duration": 26,
    "start_time": "2021-12-20T06:43:32.519Z"
   },
   {
    "duration": 14,
    "start_time": "2021-12-20T06:43:50.142Z"
   },
   {
    "duration": 15,
    "start_time": "2021-12-20T06:45:42.621Z"
   },
   {
    "duration": 400,
    "start_time": "2021-12-20T06:45:48.117Z"
   },
   {
    "duration": 318,
    "start_time": "2021-12-20T06:46:25.189Z"
   },
   {
    "duration": 8,
    "start_time": "2021-12-20T06:46:29.803Z"
   },
   {
    "duration": 377,
    "start_time": "2021-12-20T06:46:33.403Z"
   },
   {
    "duration": 16,
    "start_time": "2021-12-20T06:51:12.875Z"
   },
   {
    "duration": 15,
    "start_time": "2021-12-20T06:51:15.963Z"
   },
   {
    "duration": 78,
    "start_time": "2021-12-20T06:51:22.419Z"
   },
   {
    "duration": 38,
    "start_time": "2021-12-20T06:51:22.499Z"
   },
   {
    "duration": 55,
    "start_time": "2021-12-20T06:51:22.541Z"
   },
   {
    "duration": 40,
    "start_time": "2021-12-20T06:51:22.599Z"
   },
   {
    "duration": 23,
    "start_time": "2021-12-20T06:51:22.642Z"
   },
   {
    "duration": 10,
    "start_time": "2021-12-20T06:51:22.669Z"
   },
   {
    "duration": 45,
    "start_time": "2021-12-20T06:51:22.681Z"
   },
   {
    "duration": 64,
    "start_time": "2021-12-20T06:51:22.732Z"
   },
   {
    "duration": 9,
    "start_time": "2021-12-20T06:51:22.800Z"
   },
   {
    "duration": 35,
    "start_time": "2021-12-20T06:51:22.812Z"
   },
   {
    "duration": 10,
    "start_time": "2021-12-20T06:51:22.850Z"
   },
   {
    "duration": 15,
    "start_time": "2021-12-20T06:51:22.863Z"
   },
   {
    "duration": 11,
    "start_time": "2021-12-20T06:51:22.881Z"
   },
   {
    "duration": 42,
    "start_time": "2021-12-20T06:51:22.894Z"
   },
   {
    "duration": 17,
    "start_time": "2021-12-20T06:51:22.939Z"
   },
   {
    "duration": 11,
    "start_time": "2021-12-20T06:51:22.959Z"
   },
   {
    "duration": 10,
    "start_time": "2021-12-20T06:51:22.973Z"
   },
   {
    "duration": 52,
    "start_time": "2021-12-20T06:51:22.985Z"
   },
   {
    "duration": 47,
    "start_time": "2021-12-20T06:51:23.040Z"
   },
   {
    "duration": 37,
    "start_time": "2021-12-20T06:51:23.090Z"
   },
   {
    "duration": 22,
    "start_time": "2021-12-20T06:51:23.130Z"
   },
   {
    "duration": 4045,
    "start_time": "2021-12-20T06:51:23.155Z"
   },
   {
    "duration": 6,
    "start_time": "2021-12-20T06:51:27.204Z"
   },
   {
    "duration": 27,
    "start_time": "2021-12-20T06:51:27.227Z"
   },
   {
    "duration": 11,
    "start_time": "2021-12-20T06:51:27.257Z"
   },
   {
    "duration": 459,
    "start_time": "2021-12-20T06:51:27.271Z"
   },
   {
    "duration": 18,
    "start_time": "2021-12-20T06:51:27.733Z"
   },
   {
    "duration": 24,
    "start_time": "2021-12-20T06:51:27.753Z"
   },
   {
    "duration": 586,
    "start_time": "2021-12-20T06:51:27.780Z"
   },
   {
    "duration": 1124,
    "start_time": "2021-12-20T06:51:28.368Z"
   },
   {
    "duration": 12,
    "start_time": "2021-12-20T06:51:29.495Z"
   },
   {
    "duration": 75,
    "start_time": "2021-12-20T06:51:29.524Z"
   },
   {
    "duration": 28,
    "start_time": "2021-12-20T06:51:29.602Z"
   },
   {
    "duration": 9,
    "start_time": "2021-12-20T06:51:52.530Z"
   },
   {
    "duration": 11,
    "start_time": "2021-12-20T06:51:57.975Z"
   },
   {
    "duration": 19,
    "start_time": "2021-12-20T06:52:54.387Z"
   },
   {
    "duration": 10,
    "start_time": "2021-12-20T06:53:27.683Z"
   },
   {
    "duration": 11,
    "start_time": "2021-12-20T06:53:36.667Z"
   },
   {
    "duration": 10,
    "start_time": "2021-12-20T06:53:42.243Z"
   },
   {
    "duration": 12,
    "start_time": "2021-12-20T06:53:48.075Z"
   },
   {
    "duration": 20,
    "start_time": "2021-12-20T06:54:06.746Z"
   },
   {
    "duration": 16,
    "start_time": "2021-12-20T06:54:20.738Z"
   },
   {
    "duration": 756,
    "start_time": "2021-12-20T06:55:04.365Z"
   },
   {
    "duration": 765,
    "start_time": "2021-12-20T06:55:14.220Z"
   },
   {
    "duration": 425,
    "start_time": "2021-12-20T06:55:18.389Z"
   },
   {
    "duration": 24,
    "start_time": "2021-12-20T06:56:28.075Z"
   },
   {
    "duration": 16,
    "start_time": "2021-12-20T06:57:05.353Z"
   },
   {
    "duration": 474,
    "start_time": "2021-12-20T06:57:21.170Z"
   },
   {
    "duration": 13,
    "start_time": "2021-12-20T06:57:35.427Z"
   },
   {
    "duration": 395,
    "start_time": "2021-12-20T06:57:43.003Z"
   },
   {
    "duration": 81,
    "start_time": "2021-12-20T07:00:09.094Z"
   },
   {
    "duration": 15,
    "start_time": "2021-12-20T07:00:09.177Z"
   },
   {
    "duration": 78,
    "start_time": "2021-12-20T07:00:09.195Z"
   },
   {
    "duration": 11,
    "start_time": "2021-12-20T07:00:09.277Z"
   },
   {
    "duration": 50,
    "start_time": "2021-12-20T07:00:09.291Z"
   },
   {
    "duration": 16,
    "start_time": "2021-12-20T07:00:09.344Z"
   },
   {
    "duration": 11,
    "start_time": "2021-12-20T07:00:09.363Z"
   },
   {
    "duration": 85,
    "start_time": "2021-12-20T07:00:09.378Z"
   },
   {
    "duration": 9,
    "start_time": "2021-12-20T07:00:09.466Z"
   },
   {
    "duration": 45,
    "start_time": "2021-12-20T07:00:09.478Z"
   },
   {
    "duration": 15,
    "start_time": "2021-12-20T07:00:09.526Z"
   },
   {
    "duration": 18,
    "start_time": "2021-12-20T07:00:09.544Z"
   },
   {
    "duration": 14,
    "start_time": "2021-12-20T07:00:09.565Z"
   },
   {
    "duration": 15,
    "start_time": "2021-12-20T07:00:09.582Z"
   },
   {
    "duration": 38,
    "start_time": "2021-12-20T07:00:09.599Z"
   },
   {
    "duration": 22,
    "start_time": "2021-12-20T07:00:09.640Z"
   },
   {
    "duration": 14,
    "start_time": "2021-12-20T07:00:09.665Z"
   },
   {
    "duration": 17,
    "start_time": "2021-12-20T07:00:09.682Z"
   },
   {
    "duration": 39,
    "start_time": "2021-12-20T07:00:09.701Z"
   },
   {
    "duration": 31,
    "start_time": "2021-12-20T07:00:09.743Z"
   },
   {
    "duration": 15,
    "start_time": "2021-12-20T07:00:09.777Z"
   },
   {
    "duration": 4656,
    "start_time": "2021-12-20T07:00:09.794Z"
   },
   {
    "duration": 7,
    "start_time": "2021-12-20T07:00:14.454Z"
   },
   {
    "duration": 24,
    "start_time": "2021-12-20T07:00:14.463Z"
   },
   {
    "duration": 8,
    "start_time": "2021-12-20T07:00:14.490Z"
   },
   {
    "duration": 383,
    "start_time": "2021-12-20T07:00:14.525Z"
   },
   {
    "duration": 25,
    "start_time": "2021-12-20T07:00:14.911Z"
   },
   {
    "duration": 23,
    "start_time": "2021-12-20T07:00:14.939Z"
   },
   {
    "duration": 470,
    "start_time": "2021-12-20T07:00:14.964Z"
   },
   {
    "duration": 708,
    "start_time": "2021-12-20T07:00:15.437Z"
   },
   {
    "duration": 12,
    "start_time": "2021-12-20T07:00:16.148Z"
   },
   {
    "duration": 96,
    "start_time": "2021-12-20T07:00:16.162Z"
   },
   {
    "duration": 4,
    "start_time": "2021-12-20T07:00:16.261Z"
   },
   {
    "duration": 11,
    "start_time": "2021-12-20T07:00:41.049Z"
   },
   {
    "duration": 369,
    "start_time": "2021-12-20T07:00:46.473Z"
   },
   {
    "duration": 16,
    "start_time": "2021-12-20T07:00:52.105Z"
   },
   {
    "duration": 378,
    "start_time": "2021-12-20T07:00:54.649Z"
   },
   {
    "duration": 371,
    "start_time": "2021-12-20T07:01:38.835Z"
   },
   {
    "duration": 24,
    "start_time": "2021-12-20T07:01:50.250Z"
   },
   {
    "duration": 594,
    "start_time": "2021-12-20T07:01:55.673Z"
   },
   {
    "duration": 135,
    "start_time": "2021-12-20T07:03:05.539Z"
   },
   {
    "duration": 116,
    "start_time": "2021-12-20T07:03:32.777Z"
   },
   {
    "duration": 113,
    "start_time": "2021-12-20T07:03:37.704Z"
   },
   {
    "duration": 114,
    "start_time": "2021-12-20T07:04:15.539Z"
   },
   {
    "duration": 684,
    "start_time": "2021-12-20T07:13:37.818Z"
   },
   {
    "duration": 345,
    "start_time": "2021-12-20T07:19:16.909Z"
   },
   {
    "duration": 1526,
    "start_time": "2021-12-20T07:20:04.118Z"
   },
   {
    "duration": 1454,
    "start_time": "2021-12-20T07:20:50.501Z"
   },
   {
    "duration": 337,
    "start_time": "2021-12-20T07:21:01.765Z"
   },
   {
    "duration": 32,
    "start_time": "2021-12-20T07:21:09.436Z"
   },
   {
    "duration": 130,
    "start_time": "2021-12-20T07:21:33.059Z"
   },
   {
    "duration": 31,
    "start_time": "2021-12-20T07:21:37.356Z"
   },
   {
    "duration": 352,
    "start_time": "2021-12-20T07:21:57.540Z"
   },
   {
    "duration": 33,
    "start_time": "2021-12-20T07:22:04.060Z"
   },
   {
    "duration": 7,
    "start_time": "2021-12-20T07:22:18.781Z"
   },
   {
    "duration": 345,
    "start_time": "2021-12-20T07:24:21.614Z"
   },
   {
    "duration": 7,
    "start_time": "2021-12-20T07:25:51.988Z"
   },
   {
    "duration": 403,
    "start_time": "2021-12-20T07:29:02.542Z"
   },
   {
    "duration": 332,
    "start_time": "2021-12-20T07:29:35.787Z"
   },
   {
    "duration": 582,
    "start_time": "2021-12-20T07:29:49.233Z"
   },
   {
    "duration": 2878,
    "start_time": "2021-12-20T07:29:53.371Z"
   },
   {
    "duration": 818,
    "start_time": "2021-12-20T07:30:05.647Z"
   },
   {
    "duration": 5,
    "start_time": "2021-12-20T07:31:23.508Z"
   },
   {
    "duration": 9,
    "start_time": "2021-12-20T07:31:32.430Z"
   },
   {
    "duration": 7,
    "start_time": "2021-12-20T07:31:54.955Z"
   },
   {
    "duration": 391,
    "start_time": "2021-12-20T07:33:15.674Z"
   },
   {
    "duration": 336,
    "start_time": "2021-12-20T07:33:24.355Z"
   },
   {
    "duration": 8,
    "start_time": "2021-12-20T07:33:30.394Z"
   },
   {
    "duration": 8,
    "start_time": "2021-12-20T07:33:34.561Z"
   },
   {
    "duration": 8,
    "start_time": "2021-12-20T07:35:40.454Z"
   },
   {
    "duration": 7,
    "start_time": "2021-12-20T07:35:50.625Z"
   },
   {
    "duration": 8,
    "start_time": "2021-12-20T07:36:00.502Z"
   },
   {
    "duration": 8,
    "start_time": "2021-12-20T07:36:25.616Z"
   },
   {
    "duration": 7,
    "start_time": "2021-12-20T07:37:17.265Z"
   },
   {
    "duration": 9,
    "start_time": "2021-12-20T07:44:50.272Z"
   },
   {
    "duration": 368,
    "start_time": "2021-12-20T07:45:02.256Z"
   },
   {
    "duration": 103,
    "start_time": "2021-12-20T07:45:22.296Z"
   },
   {
    "duration": 751,
    "start_time": "2021-12-20T07:46:02.944Z"
   },
   {
    "duration": 405,
    "start_time": "2021-12-20T07:47:47.839Z"
   },
   {
    "duration": 19,
    "start_time": "2021-12-20T07:48:00.023Z"
   },
   {
    "duration": 15,
    "start_time": "2021-12-20T07:48:35.204Z"
   },
   {
    "duration": 10,
    "start_time": "2021-12-20T07:48:59.590Z"
   },
   {
    "duration": 14,
    "start_time": "2021-12-20T07:49:10.598Z"
   },
   {
    "duration": 18,
    "start_time": "2021-12-20T07:49:20.038Z"
   },
   {
    "duration": 15,
    "start_time": "2021-12-20T07:50:11.952Z"
   },
   {
    "duration": 12,
    "start_time": "2021-12-20T07:51:04.414Z"
   },
   {
    "duration": 11,
    "start_time": "2021-12-20T07:51:21.639Z"
   },
   {
    "duration": 19,
    "start_time": "2021-12-20T07:51:30.879Z"
   },
   {
    "duration": 8,
    "start_time": "2021-12-20T07:52:35.742Z"
   },
   {
    "duration": 258,
    "start_time": "2021-12-20T07:53:08.526Z"
   },
   {
    "duration": 328,
    "start_time": "2021-12-20T07:53:19.156Z"
   },
   {
    "duration": 473,
    "start_time": "2021-12-20T07:53:24.486Z"
   },
   {
    "duration": 11,
    "start_time": "2021-12-20T07:56:46.702Z"
   },
   {
    "duration": 749,
    "start_time": "2021-12-20T07:56:54.164Z"
   },
   {
    "duration": 7,
    "start_time": "2021-12-20T07:57:00.565Z"
   },
   {
    "duration": 15,
    "start_time": "2021-12-20T07:58:01.147Z"
   },
   {
    "duration": 17,
    "start_time": "2021-12-20T07:58:18.661Z"
   },
   {
    "duration": 13,
    "start_time": "2021-12-20T07:59:56.027Z"
   },
   {
    "duration": 14,
    "start_time": "2021-12-20T08:00:16.516Z"
   },
   {
    "duration": 31,
    "start_time": "2021-12-20T08:00:57.307Z"
   },
   {
    "duration": 801,
    "start_time": "2021-12-20T08:01:34.746Z"
   },
   {
    "duration": 13,
    "start_time": "2021-12-20T08:01:43.371Z"
   },
   {
    "duration": 1103,
    "start_time": "2021-12-20T08:02:44.898Z"
   },
   {
    "duration": 641,
    "start_time": "2021-12-20T08:03:07.255Z"
   },
   {
    "duration": 17,
    "start_time": "2021-12-20T08:04:36.708Z"
   },
   {
    "duration": 15,
    "start_time": "2021-12-20T08:05:02.435Z"
   },
   {
    "duration": 11,
    "start_time": "2021-12-20T08:06:06.675Z"
   },
   {
    "duration": 9,
    "start_time": "2021-12-20T08:06:38.586Z"
   },
   {
    "duration": 9,
    "start_time": "2021-12-20T08:06:47.283Z"
   },
   {
    "duration": 12,
    "start_time": "2021-12-20T08:08:33.178Z"
   },
   {
    "duration": 8,
    "start_time": "2021-12-20T08:08:43.450Z"
   },
   {
    "duration": 8,
    "start_time": "2021-12-20T08:08:58.987Z"
   },
   {
    "duration": 8,
    "start_time": "2021-12-20T08:09:16.665Z"
   },
   {
    "duration": 80,
    "start_time": "2021-12-20T08:09:31.552Z"
   },
   {
    "duration": 17,
    "start_time": "2021-12-20T08:09:31.635Z"
   },
   {
    "duration": 78,
    "start_time": "2021-12-20T08:09:31.655Z"
   },
   {
    "duration": 14,
    "start_time": "2021-12-20T08:09:31.736Z"
   },
   {
    "duration": 39,
    "start_time": "2021-12-20T08:09:31.752Z"
   },
   {
    "duration": 16,
    "start_time": "2021-12-20T08:09:31.793Z"
   },
   {
    "duration": 46,
    "start_time": "2021-12-20T08:09:31.811Z"
   },
   {
    "duration": 58,
    "start_time": "2021-12-20T08:09:31.863Z"
   },
   {
    "duration": 11,
    "start_time": "2021-12-20T08:09:31.924Z"
   },
   {
    "duration": 51,
    "start_time": "2021-12-20T08:09:31.937Z"
   },
   {
    "duration": 20,
    "start_time": "2021-12-20T08:09:31.991Z"
   },
   {
    "duration": 48,
    "start_time": "2021-12-20T08:09:32.014Z"
   },
   {
    "duration": 41,
    "start_time": "2021-12-20T08:09:32.065Z"
   },
   {
    "duration": 27,
    "start_time": "2021-12-20T08:09:32.108Z"
   },
   {
    "duration": 27,
    "start_time": "2021-12-20T08:09:32.138Z"
   },
   {
    "duration": 14,
    "start_time": "2021-12-20T08:09:32.167Z"
   },
   {
    "duration": 16,
    "start_time": "2021-12-20T08:09:32.183Z"
   },
   {
    "duration": 45,
    "start_time": "2021-12-20T08:09:32.201Z"
   },
   {
    "duration": 19,
    "start_time": "2021-12-20T08:09:32.249Z"
   },
   {
    "duration": 25,
    "start_time": "2021-12-20T08:09:32.271Z"
   },
   {
    "duration": 39,
    "start_time": "2021-12-20T08:09:32.298Z"
   },
   {
    "duration": 4475,
    "start_time": "2021-12-20T08:09:32.339Z"
   },
   {
    "duration": 14,
    "start_time": "2021-12-20T08:09:36.828Z"
   },
   {
    "duration": 32,
    "start_time": "2021-12-20T08:09:36.845Z"
   },
   {
    "duration": 10,
    "start_time": "2021-12-20T08:09:36.879Z"
   },
   {
    "duration": 444,
    "start_time": "2021-12-20T08:09:36.891Z"
   },
   {
    "duration": 22,
    "start_time": "2021-12-20T08:09:37.338Z"
   },
   {
    "duration": 513,
    "start_time": "2021-12-20T08:09:37.363Z"
   },
   {
    "duration": 18,
    "start_time": "2021-12-20T08:09:37.880Z"
   },
   {
    "duration": 27,
    "start_time": "2021-12-20T08:09:37.901Z"
   },
   {
    "duration": 803,
    "start_time": "2021-12-20T08:09:37.931Z"
   },
   {
    "duration": 13,
    "start_time": "2021-12-20T08:09:38.738Z"
   },
   {
    "duration": 99,
    "start_time": "2021-12-20T08:09:38.754Z"
   },
   {
    "duration": 6,
    "start_time": "2021-12-20T08:09:38.855Z"
   },
   {
    "duration": 197,
    "start_time": "2021-12-20T08:09:59.530Z"
   },
   {
    "duration": 9,
    "start_time": "2021-12-20T08:10:06.882Z"
   },
   {
    "duration": 11,
    "start_time": "2021-12-20T08:10:40.626Z"
   },
   {
    "duration": 13,
    "start_time": "2021-12-20T08:11:24.609Z"
   },
   {
    "duration": 18,
    "start_time": "2021-12-20T08:12:02.034Z"
   },
   {
    "duration": 15,
    "start_time": "2021-12-20T08:12:27.515Z"
   },
   {
    "duration": 16,
    "start_time": "2021-12-20T08:12:43.521Z"
   },
   {
    "duration": 19,
    "start_time": "2021-12-20T08:13:08.449Z"
   },
   {
    "duration": 19,
    "start_time": "2021-12-20T08:15:43.736Z"
   },
   {
    "duration": 14,
    "start_time": "2021-12-20T08:15:54.736Z"
   },
   {
    "duration": 16,
    "start_time": "2021-12-20T08:16:06.233Z"
   },
   {
    "duration": 15,
    "start_time": "2021-12-20T08:16:46.975Z"
   },
   {
    "duration": 330,
    "start_time": "2021-12-20T08:17:47.551Z"
   },
   {
    "duration": 18,
    "start_time": "2021-12-20T08:18:00.615Z"
   },
   {
    "duration": 13,
    "start_time": "2021-12-20T08:18:36.696Z"
   },
   {
    "duration": 104,
    "start_time": "2021-12-20T08:19:12.533Z"
   },
   {
    "duration": 23,
    "start_time": "2021-12-20T08:19:12.641Z"
   },
   {
    "duration": 93,
    "start_time": "2021-12-20T08:19:12.669Z"
   },
   {
    "duration": 19,
    "start_time": "2021-12-20T08:19:12.766Z"
   },
   {
    "duration": 57,
    "start_time": "2021-12-20T08:19:12.788Z"
   },
   {
    "duration": 10,
    "start_time": "2021-12-20T08:19:12.848Z"
   },
   {
    "duration": 28,
    "start_time": "2021-12-20T08:19:12.861Z"
   },
   {
    "duration": 61,
    "start_time": "2021-12-20T08:19:12.893Z"
   },
   {
    "duration": 12,
    "start_time": "2021-12-20T08:19:12.957Z"
   },
   {
    "duration": 54,
    "start_time": "2021-12-20T08:19:12.972Z"
   },
   {
    "duration": 13,
    "start_time": "2021-12-20T08:19:13.029Z"
   },
   {
    "duration": 17,
    "start_time": "2021-12-20T08:19:13.045Z"
   },
   {
    "duration": 11,
    "start_time": "2021-12-20T08:19:13.064Z"
   },
   {
    "duration": 52,
    "start_time": "2021-12-20T08:19:13.078Z"
   },
   {
    "duration": 23,
    "start_time": "2021-12-20T08:19:13.133Z"
   },
   {
    "duration": 14,
    "start_time": "2021-12-20T08:19:13.159Z"
   },
   {
    "duration": 13,
    "start_time": "2021-12-20T08:19:13.176Z"
   },
   {
    "duration": 50,
    "start_time": "2021-12-20T08:19:13.192Z"
   },
   {
    "duration": 22,
    "start_time": "2021-12-20T08:19:13.245Z"
   },
   {
    "duration": 62,
    "start_time": "2021-12-20T08:19:13.271Z"
   },
   {
    "duration": 21,
    "start_time": "2021-12-20T08:19:13.336Z"
   },
   {
    "duration": 4751,
    "start_time": "2021-12-20T08:19:13.360Z"
   },
   {
    "duration": 12,
    "start_time": "2021-12-20T08:19:18.118Z"
   },
   {
    "duration": 33,
    "start_time": "2021-12-20T08:19:18.142Z"
   },
   {
    "duration": 10,
    "start_time": "2021-12-20T08:19:18.179Z"
   },
   {
    "duration": 420,
    "start_time": "2021-12-20T08:19:18.192Z"
   },
   {
    "duration": 27,
    "start_time": "2021-12-20T08:19:18.614Z"
   },
   {
    "duration": 489,
    "start_time": "2021-12-20T08:19:18.644Z"
   },
   {
    "duration": 16,
    "start_time": "2021-12-20T08:19:19.136Z"
   },
   {
    "duration": 14,
    "start_time": "2021-12-20T08:19:19.154Z"
   },
   {
    "duration": 753,
    "start_time": "2021-12-20T08:19:19.170Z"
   },
   {
    "duration": 16,
    "start_time": "2021-12-20T08:19:19.926Z"
   },
   {
    "duration": 93,
    "start_time": "2021-12-20T08:19:19.945Z"
   },
   {
    "duration": 6,
    "start_time": "2021-12-20T08:19:20.041Z"
   },
   {
    "duration": 47,
    "start_time": "2021-12-20T08:25:06.122Z"
   },
   {
    "duration": 29,
    "start_time": "2021-12-20T08:25:19.158Z"
   },
   {
    "duration": 34,
    "start_time": "2021-12-20T08:25:29.230Z"
   },
   {
    "duration": 45,
    "start_time": "2021-12-20T08:25:53.728Z"
   },
   {
    "duration": 400,
    "start_time": "2021-12-20T08:26:06.160Z"
   },
   {
    "duration": 62,
    "start_time": "2021-12-20T08:26:11.995Z"
   },
   {
    "duration": -190,
    "start_time": "2021-12-20T08:28:30.924Z"
   },
   {
    "duration": 21,
    "start_time": "2021-12-20T08:30:40.093Z"
   },
   {
    "duration": 38,
    "start_time": "2021-12-20T08:30:48.016Z"
   },
   {
    "duration": 10,
    "start_time": "2021-12-20T08:32:16.078Z"
   },
   {
    "duration": 28,
    "start_time": "2021-12-20T08:32:37.876Z"
   },
   {
    "duration": 358,
    "start_time": "2021-12-20T08:33:37.974Z"
   },
   {
    "duration": 48,
    "start_time": "2021-12-20T08:33:54.205Z"
   },
   {
    "duration": 14,
    "start_time": "2021-12-20T08:34:16.173Z"
   },
   {
    "duration": 20,
    "start_time": "2021-12-20T08:34:32.084Z"
   },
   {
    "duration": 10,
    "start_time": "2021-12-20T08:34:41.709Z"
   },
   {
    "duration": 13,
    "start_time": "2021-12-20T08:36:28.780Z"
   },
   {
    "duration": 10,
    "start_time": "2021-12-20T08:36:41.460Z"
   },
   {
    "duration": 9,
    "start_time": "2021-12-20T08:41:16.907Z"
   },
   {
    "duration": 9,
    "start_time": "2021-12-20T08:41:24.498Z"
   },
   {
    "duration": 9,
    "start_time": "2021-12-20T08:41:28.698Z"
   },
   {
    "duration": 11,
    "start_time": "2021-12-20T08:41:44.186Z"
   },
   {
    "duration": 12,
    "start_time": "2021-12-20T08:42:08.563Z"
   },
   {
    "duration": 9,
    "start_time": "2021-12-20T08:42:50.106Z"
   },
   {
    "duration": 11,
    "start_time": "2021-12-20T08:42:53.929Z"
   },
   {
    "duration": 13,
    "start_time": "2021-12-20T08:44:21.906Z"
   },
   {
    "duration": 13,
    "start_time": "2021-12-20T08:44:31.987Z"
   },
   {
    "duration": 10,
    "start_time": "2021-12-20T08:45:15.257Z"
   },
   {
    "duration": 11,
    "start_time": "2021-12-20T08:45:23.010Z"
   },
   {
    "duration": 11,
    "start_time": "2021-12-20T08:45:30.761Z"
   },
   {
    "duration": 322,
    "start_time": "2021-12-20T08:46:22.482Z"
   },
   {
    "duration": 9,
    "start_time": "2021-12-20T08:46:30.745Z"
   },
   {
    "duration": 19,
    "start_time": "2021-12-20T08:46:39.944Z"
   },
   {
    "duration": 12,
    "start_time": "2021-12-20T08:47:51.095Z"
   },
   {
    "duration": 13,
    "start_time": "2021-12-20T08:47:53.720Z"
   },
   {
    "duration": 12,
    "start_time": "2021-12-20T08:48:27.288Z"
   },
   {
    "duration": 15,
    "start_time": "2021-12-20T08:48:36.416Z"
   },
   {
    "duration": 15,
    "start_time": "2021-12-20T08:48:54.193Z"
   },
   {
    "duration": 10,
    "start_time": "2021-12-20T08:49:48.976Z"
   },
   {
    "duration": 656,
    "start_time": "2021-12-20T08:49:59.688Z"
   },
   {
    "duration": 11,
    "start_time": "2021-12-20T08:50:35.280Z"
   },
   {
    "duration": 15,
    "start_time": "2021-12-20T08:51:10.840Z"
   },
   {
    "duration": 8,
    "start_time": "2021-12-20T08:51:18.560Z"
   },
   {
    "duration": 798,
    "start_time": "2021-12-20T08:51:25.888Z"
   },
   {
    "duration": 545,
    "start_time": "2021-12-20T08:52:27.968Z"
   },
   {
    "duration": 332,
    "start_time": "2021-12-20T08:52:36.183Z"
   },
   {
    "duration": 326,
    "start_time": "2021-12-20T08:52:45.304Z"
   },
   {
    "duration": 11,
    "start_time": "2021-12-20T08:53:12.639Z"
   },
   {
    "duration": 482,
    "start_time": "2021-12-20T08:53:15.383Z"
   },
   {
    "duration": 9,
    "start_time": "2021-12-20T08:53:26.934Z"
   },
   {
    "duration": 400,
    "start_time": "2021-12-20T08:53:29.160Z"
   },
   {
    "duration": 335,
    "start_time": "2021-12-20T08:57:09.751Z"
   },
   {
    "duration": 107,
    "start_time": "2021-12-20T09:06:57.691Z"
   },
   {
    "duration": 91,
    "start_time": "2021-12-20T09:07:03.219Z"
   },
   {
    "duration": 63,
    "start_time": "2021-12-20T09:07:31.617Z"
   },
   {
    "duration": 110,
    "start_time": "2021-12-20T09:09:14.636Z"
   },
   {
    "duration": 104,
    "start_time": "2021-12-20T09:09:22.756Z"
   },
   {
    "duration": 21,
    "start_time": "2021-12-20T09:09:22.863Z"
   },
   {
    "duration": 81,
    "start_time": "2021-12-20T09:09:22.891Z"
   },
   {
    "duration": 17,
    "start_time": "2021-12-20T09:09:22.976Z"
   },
   {
    "duration": 58,
    "start_time": "2021-12-20T09:09:22.995Z"
   },
   {
    "duration": 11,
    "start_time": "2021-12-20T09:09:23.056Z"
   },
   {
    "duration": 17,
    "start_time": "2021-12-20T09:09:23.070Z"
   },
   {
    "duration": 56,
    "start_time": "2021-12-20T09:09:23.125Z"
   },
   {
    "duration": 10,
    "start_time": "2021-12-20T09:09:23.185Z"
   },
   {
    "duration": 53,
    "start_time": "2021-12-20T09:09:23.198Z"
   },
   {
    "duration": 10,
    "start_time": "2021-12-20T09:09:23.253Z"
   },
   {
    "duration": 12,
    "start_time": "2021-12-20T09:09:23.266Z"
   },
   {
    "duration": 44,
    "start_time": "2021-12-20T09:09:23.281Z"
   },
   {
    "duration": 16,
    "start_time": "2021-12-20T09:09:23.329Z"
   },
   {
    "duration": 25,
    "start_time": "2021-12-20T09:09:23.348Z"
   },
   {
    "duration": 16,
    "start_time": "2021-12-20T09:09:23.376Z"
   },
   {
    "duration": 30,
    "start_time": "2021-12-20T09:09:23.395Z"
   },
   {
    "duration": 27,
    "start_time": "2021-12-20T09:09:23.428Z"
   },
   {
    "duration": 14,
    "start_time": "2021-12-20T09:09:23.458Z"
   },
   {
    "duration": 68,
    "start_time": "2021-12-20T09:09:23.475Z"
   },
   {
    "duration": 23,
    "start_time": "2021-12-20T09:09:23.546Z"
   },
   {
    "duration": 4704,
    "start_time": "2021-12-20T09:09:23.572Z"
   },
   {
    "duration": 8,
    "start_time": "2021-12-20T09:09:28.283Z"
   },
   {
    "duration": 64,
    "start_time": "2021-12-20T09:09:28.295Z"
   },
   {
    "duration": 12,
    "start_time": "2021-12-20T09:09:28.362Z"
   },
   {
    "duration": 465,
    "start_time": "2021-12-20T09:09:28.376Z"
   },
   {
    "duration": 26,
    "start_time": "2021-12-20T09:09:28.844Z"
   },
   {
    "duration": 471,
    "start_time": "2021-12-20T09:09:28.872Z"
   },
   {
    "duration": 11,
    "start_time": "2021-12-20T09:09:29.346Z"
   },
   {
    "duration": 8,
    "start_time": "2021-12-20T09:09:29.360Z"
   },
   {
    "duration": 444,
    "start_time": "2021-12-20T09:09:29.371Z"
   },
   {
    "duration": 69,
    "start_time": "2021-12-20T09:09:29.817Z"
   },
   {
    "duration": 83,
    "start_time": "2021-12-20T09:17:11.308Z"
   },
   {
    "duration": 50,
    "start_time": "2021-12-20T09:17:11.394Z"
   },
   {
    "duration": 43,
    "start_time": "2021-12-20T09:17:11.448Z"
   },
   {
    "duration": 40,
    "start_time": "2021-12-20T09:17:11.494Z"
   },
   {
    "duration": 25,
    "start_time": "2021-12-20T09:17:11.536Z"
   },
   {
    "duration": 9,
    "start_time": "2021-12-20T09:17:11.563Z"
   },
   {
    "duration": 8,
    "start_time": "2021-12-20T09:17:11.575Z"
   },
   {
    "duration": 42,
    "start_time": "2021-12-20T09:17:11.627Z"
   },
   {
    "duration": 12,
    "start_time": "2021-12-20T09:17:11.673Z"
   },
   {
    "duration": 52,
    "start_time": "2021-12-20T09:17:11.688Z"
   },
   {
    "duration": 10,
    "start_time": "2021-12-20T09:17:11.743Z"
   },
   {
    "duration": 15,
    "start_time": "2021-12-20T09:17:11.756Z"
   },
   {
    "duration": 11,
    "start_time": "2021-12-20T09:17:11.773Z"
   },
   {
    "duration": 14,
    "start_time": "2021-12-20T09:17:11.823Z"
   },
   {
    "duration": 11,
    "start_time": "2021-12-20T09:17:11.840Z"
   },
   {
    "duration": 11,
    "start_time": "2021-12-20T09:17:11.853Z"
   },
   {
    "duration": 14,
    "start_time": "2021-12-20T09:17:11.866Z"
   },
   {
    "duration": 46,
    "start_time": "2021-12-20T09:17:11.883Z"
   },
   {
    "duration": 15,
    "start_time": "2021-12-20T09:17:11.931Z"
   },
   {
    "duration": 30,
    "start_time": "2021-12-20T09:17:11.948Z"
   },
   {
    "duration": 44,
    "start_time": "2021-12-20T09:17:11.980Z"
   },
   {
    "duration": 4284,
    "start_time": "2021-12-20T09:17:12.028Z"
   },
   {
    "duration": 7,
    "start_time": "2021-12-20T09:17:16.326Z"
   },
   {
    "duration": 36,
    "start_time": "2021-12-20T09:17:16.336Z"
   },
   {
    "duration": 11,
    "start_time": "2021-12-20T09:17:16.375Z"
   },
   {
    "duration": 428,
    "start_time": "2021-12-20T09:17:16.388Z"
   },
   {
    "duration": 22,
    "start_time": "2021-12-20T09:17:16.818Z"
   },
   {
    "duration": 375,
    "start_time": "2021-12-20T09:17:16.844Z"
   },
   {
    "duration": 15,
    "start_time": "2021-12-20T09:17:17.223Z"
   },
   {
    "duration": 10,
    "start_time": "2021-12-20T09:17:17.241Z"
   },
   {
    "duration": 458,
    "start_time": "2021-12-20T09:17:17.254Z"
   },
   {
    "duration": 69,
    "start_time": "2021-12-20T09:17:17.714Z"
   },
   {
    "duration": 110,
    "start_time": "2021-12-20T09:27:36.784Z"
   },
   {
    "duration": 118,
    "start_time": "2021-12-20T09:27:47.135Z"
   },
   {
    "duration": 16,
    "start_time": "2021-12-20T09:27:47.256Z"
   },
   {
    "duration": 61,
    "start_time": "2021-12-20T09:27:47.276Z"
   },
   {
    "duration": 23,
    "start_time": "2021-12-20T09:27:47.340Z"
   },
   {
    "duration": 23,
    "start_time": "2021-12-20T09:27:47.365Z"
   },
   {
    "duration": 40,
    "start_time": "2021-12-20T09:27:47.390Z"
   },
   {
    "duration": 34,
    "start_time": "2021-12-20T09:27:47.432Z"
   },
   {
    "duration": 60,
    "start_time": "2021-12-20T09:27:47.472Z"
   },
   {
    "duration": 10,
    "start_time": "2021-12-20T09:27:47.535Z"
   },
   {
    "duration": 29,
    "start_time": "2021-12-20T09:27:47.548Z"
   },
   {
    "duration": 10,
    "start_time": "2021-12-20T09:27:47.579Z"
   },
   {
    "duration": 42,
    "start_time": "2021-12-20T09:27:47.592Z"
   },
   {
    "duration": 19,
    "start_time": "2021-12-20T09:27:47.637Z"
   },
   {
    "duration": 17,
    "start_time": "2021-12-20T09:27:47.659Z"
   },
   {
    "duration": 12,
    "start_time": "2021-12-20T09:27:47.679Z"
   },
   {
    "duration": 41,
    "start_time": "2021-12-20T09:27:47.694Z"
   },
   {
    "duration": 12,
    "start_time": "2021-12-20T09:27:47.737Z"
   },
   {
    "duration": 16,
    "start_time": "2021-12-20T09:27:47.751Z"
   },
   {
    "duration": 15,
    "start_time": "2021-12-20T09:27:47.770Z"
   },
   {
    "duration": 69,
    "start_time": "2021-12-20T09:27:47.788Z"
   },
   {
    "duration": 21,
    "start_time": "2021-12-20T09:27:47.860Z"
   },
   {
    "duration": 6026,
    "start_time": "2021-12-20T09:27:47.884Z"
   },
   {
    "duration": 18,
    "start_time": "2021-12-20T09:27:53.915Z"
   },
   {
    "duration": 41,
    "start_time": "2021-12-20T09:27:53.938Z"
   },
   {
    "duration": 10,
    "start_time": "2021-12-20T09:27:53.981Z"
   },
   {
    "duration": 437,
    "start_time": "2021-12-20T09:27:53.994Z"
   },
   {
    "duration": 26,
    "start_time": "2021-12-20T09:27:54.434Z"
   },
   {
    "duration": 455,
    "start_time": "2021-12-20T09:27:54.463Z"
   },
   {
    "duration": 17,
    "start_time": "2021-12-20T09:27:54.923Z"
   },
   {
    "duration": 11,
    "start_time": "2021-12-20T09:27:54.943Z"
   },
   {
    "duration": 458,
    "start_time": "2021-12-20T09:27:54.957Z"
   },
   {
    "duration": 91,
    "start_time": "2021-12-20T09:27:55.423Z"
   },
   {
    "duration": 9,
    "start_time": "2021-12-20T09:34:49.301Z"
   },
   {
    "duration": 77,
    "start_time": "2021-12-20T10:15:50.416Z"
   },
   {
    "duration": 44,
    "start_time": "2021-12-20T10:15:50.497Z"
   },
   {
    "duration": 69,
    "start_time": "2021-12-20T10:15:50.544Z"
   },
   {
    "duration": 16,
    "start_time": "2021-12-20T10:15:50.616Z"
   },
   {
    "duration": 32,
    "start_time": "2021-12-20T10:15:50.636Z"
   },
   {
    "duration": 10,
    "start_time": "2021-12-20T10:15:50.670Z"
   },
   {
    "duration": 49,
    "start_time": "2021-12-20T10:15:50.682Z"
   },
   {
    "duration": 223,
    "start_time": "2021-12-20T10:15:50.736Z"
   },
   {
    "duration": 9,
    "start_time": "2021-12-20T10:15:50.962Z"
   },
   {
    "duration": 41,
    "start_time": "2021-12-20T10:15:50.974Z"
   },
   {
    "duration": 13,
    "start_time": "2021-12-20T10:15:51.024Z"
   },
   {
    "duration": 20,
    "start_time": "2021-12-20T10:15:51.041Z"
   },
   {
    "duration": 33,
    "start_time": "2021-12-20T10:15:51.063Z"
   },
   {
    "duration": 16,
    "start_time": "2021-12-20T10:15:51.099Z"
   },
   {
    "duration": 39,
    "start_time": "2021-12-20T10:15:51.117Z"
   },
   {
    "duration": 22,
    "start_time": "2021-12-20T10:15:51.159Z"
   },
   {
    "duration": 21,
    "start_time": "2021-12-20T10:15:51.184Z"
   },
   {
    "duration": 33,
    "start_time": "2021-12-20T10:15:51.208Z"
   },
   {
    "duration": 29,
    "start_time": "2021-12-20T10:15:51.243Z"
   },
   {
    "duration": 43,
    "start_time": "2021-12-20T10:15:51.275Z"
   },
   {
    "duration": 22,
    "start_time": "2021-12-20T10:15:51.320Z"
   },
   {
    "duration": 4224,
    "start_time": "2021-12-20T10:15:51.344Z"
   },
   {
    "duration": 7,
    "start_time": "2021-12-20T10:15:55.572Z"
   },
   {
    "duration": 74,
    "start_time": "2021-12-20T10:15:55.581Z"
   },
   {
    "duration": 31,
    "start_time": "2021-12-20T10:15:55.657Z"
   },
   {
    "duration": 414,
    "start_time": "2021-12-20T10:15:55.690Z"
   },
   {
    "duration": 33,
    "start_time": "2021-12-20T10:15:56.106Z"
   },
   {
    "duration": 426,
    "start_time": "2021-12-20T10:15:56.142Z"
   },
   {
    "duration": 13,
    "start_time": "2021-12-20T10:15:56.571Z"
   },
   {
    "duration": 37,
    "start_time": "2021-12-20T10:15:56.586Z"
   },
   {
    "duration": 510,
    "start_time": "2021-12-20T10:15:56.626Z"
   },
   {
    "duration": 61,
    "start_time": "2021-12-20T10:15:57.140Z"
   },
   {
    "duration": 1525,
    "start_time": "2021-12-21T07:25:11.345Z"
   },
   {
    "duration": 15,
    "start_time": "2021-12-21T07:25:12.873Z"
   },
   {
    "duration": 63,
    "start_time": "2021-12-21T07:25:12.891Z"
   },
   {
    "duration": 13,
    "start_time": "2021-12-21T07:25:12.957Z"
   },
   {
    "duration": 33,
    "start_time": "2021-12-21T07:25:12.973Z"
   },
   {
    "duration": 15,
    "start_time": "2021-12-21T07:25:13.024Z"
   },
   {
    "duration": 17,
    "start_time": "2021-12-21T07:25:13.041Z"
   },
   {
    "duration": 26,
    "start_time": "2021-12-21T07:25:13.062Z"
   },
   {
    "duration": 55,
    "start_time": "2021-12-21T07:25:13.091Z"
   },
   {
    "duration": 10,
    "start_time": "2021-12-21T07:25:13.149Z"
   },
   {
    "duration": 32,
    "start_time": "2021-12-21T07:25:13.162Z"
   },
   {
    "duration": 33,
    "start_time": "2021-12-21T07:25:13.197Z"
   },
   {
    "duration": 30,
    "start_time": "2021-12-21T07:25:13.232Z"
   },
   {
    "duration": 34,
    "start_time": "2021-12-21T07:25:13.264Z"
   },
   {
    "duration": 22,
    "start_time": "2021-12-21T07:25:13.301Z"
   },
   {
    "duration": 26,
    "start_time": "2021-12-21T07:25:13.325Z"
   },
   {
    "duration": 25,
    "start_time": "2021-12-21T07:25:13.353Z"
   },
   {
    "duration": 27,
    "start_time": "2021-12-21T07:25:13.381Z"
   },
   {
    "duration": 36,
    "start_time": "2021-12-21T07:25:13.411Z"
   },
   {
    "duration": 19,
    "start_time": "2021-12-21T07:25:13.450Z"
   },
   {
    "duration": 84,
    "start_time": "2021-12-21T07:25:13.471Z"
   },
   {
    "duration": 525,
    "start_time": "2021-12-21T07:25:13.557Z"
   },
   {
    "duration": -11214,
    "start_time": "2021-12-21T07:25:25.299Z"
   },
   {
    "duration": -11218,
    "start_time": "2021-12-21T07:25:25.305Z"
   },
   {
    "duration": -11231,
    "start_time": "2021-12-21T07:25:25.319Z"
   },
   {
    "duration": -11240,
    "start_time": "2021-12-21T07:25:25.330Z"
   },
   {
    "duration": -11240,
    "start_time": "2021-12-21T07:25:25.332Z"
   },
   {
    "duration": -11244,
    "start_time": "2021-12-21T07:25:25.337Z"
   },
   {
    "duration": -11248,
    "start_time": "2021-12-21T07:25:25.344Z"
   },
   {
    "duration": -11249,
    "start_time": "2021-12-21T07:25:25.347Z"
   },
   {
    "duration": -11251,
    "start_time": "2021-12-21T07:25:25.350Z"
   },
   {
    "duration": -11253,
    "start_time": "2021-12-21T07:25:25.354Z"
   },
   {
    "duration": -11261,
    "start_time": "2021-12-21T07:25:25.364Z"
   },
   {
    "duration": 1005,
    "start_time": "2021-12-21T07:26:35.101Z"
   },
   {
    "duration": 4026,
    "start_time": "2021-12-21T07:26:41.319Z"
   },
   {
    "duration": 7,
    "start_time": "2021-12-21T07:26:45.348Z"
   },
   {
    "duration": 42,
    "start_time": "2021-12-21T07:26:45.358Z"
   },
   {
    "duration": 21,
    "start_time": "2021-12-21T07:26:45.403Z"
   },
   {
    "duration": 402,
    "start_time": "2021-12-21T07:26:45.427Z"
   },
   {
    "duration": 18,
    "start_time": "2021-12-21T07:26:45.832Z"
   },
   {
    "duration": 382,
    "start_time": "2021-12-21T07:26:45.853Z"
   },
   {
    "duration": 13,
    "start_time": "2021-12-21T07:26:46.239Z"
   },
   {
    "duration": 28,
    "start_time": "2021-12-21T07:26:46.255Z"
   },
   {
    "duration": 417,
    "start_time": "2021-12-21T07:26:46.285Z"
   },
   {
    "duration": 72,
    "start_time": "2021-12-21T07:26:46.704Z"
   },
   {
    "duration": 19,
    "start_time": "2021-12-21T07:28:29.970Z"
   },
   {
    "duration": 1136,
    "start_time": "2021-12-21T07:29:10.840Z"
   },
   {
    "duration": 2467,
    "start_time": "2021-12-26T19:58:26.097Z"
   }
  ],
  "kernelspec": {
   "display_name": "Python 3 (ipykernel)",
   "language": "python",
   "name": "python3"
  },
  "language_info": {
   "codemirror_mode": {
    "name": "ipython",
    "version": 3
   },
   "file_extension": ".py",
   "mimetype": "text/x-python",
   "name": "python",
   "nbconvert_exporter": "python",
   "pygments_lexer": "ipython3",
   "version": "3.9.7"
  },
  "toc": {
   "base_numbering": 1,
   "nav_menu": {
    "height": "209px",
    "width": "520px"
   },
   "number_sections": true,
   "sideBar": true,
   "skip_h1_title": true,
   "title_cell": "Содержание",
   "title_sidebar": "Содержание",
   "toc_cell": true,
   "toc_position": {
    "height": "calc(100% - 180px)",
    "left": "10px",
    "top": "150px",
    "width": "215px"
   },
   "toc_section_display": true,
   "toc_window_display": true
  }
 },
 "nbformat": 4,
 "nbformat_minor": 2
}
