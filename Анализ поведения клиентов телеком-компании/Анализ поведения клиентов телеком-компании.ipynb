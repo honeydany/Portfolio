{
 "cells": [
  {
   "cell_type": "markdown",
   "id": "3a2d1948",
   "metadata": {},
   "source": [
    "# Анализ поведения клиентов телеком-компании"
   ]
  },
  {
   "cell_type": "markdown",
   "id": "2065436b",
   "metadata": {
    "toc": true
   },
   "source": [
    "<h1>Содержание<span class=\"tocSkip\"></span></h1>\n",
    "<div class=\"toc\"><ul class=\"toc-item\"><li><span><a href=\"#Изучение-данных\" data-toc-modified-id=\"Изучение-данных-1\"><span class=\"toc-item-num\">1&nbsp;&nbsp;</span>Изучение данных</a></span><ul class=\"toc-item\"><li><span><a href=\"#Вывод\" data-toc-modified-id=\"Вывод-1.1\"><span class=\"toc-item-num\">1.1&nbsp;&nbsp;</span>Вывод</a></span></li></ul></li><li><span><a href=\"#Подготовка-данных\" data-toc-modified-id=\"Подготовка-данных-2\"><span class=\"toc-item-num\">2&nbsp;&nbsp;</span>Подготовка данных</a></span><ul class=\"toc-item\"><li><span><a href=\"#Замена-типов-данных,-исправление-ошибок\" data-toc-modified-id=\"Замена-типов-данных,-исправление-ошибок-2.1\"><span class=\"toc-item-num\">2.1&nbsp;&nbsp;</span>Замена типов данных, исправление ошибок</a></span></li><li><span><a href=\"#Объединение-таблиц\" data-toc-modified-id=\"Объединение-таблиц-2.2\"><span class=\"toc-item-num\">2.2&nbsp;&nbsp;</span>Объединение таблиц</a></span></li><li><span><a href=\"#Выполнение-дополнительных-расчетов\" data-toc-modified-id=\"Выполнение-дополнительных-расчетов-2.3\"><span class=\"toc-item-num\">2.3&nbsp;&nbsp;</span>Выполнение дополнительных расчетов</a></span></li><li><span><a href=\"#Вывод\" data-toc-modified-id=\"Вывод-2.4\"><span class=\"toc-item-num\">2.4&nbsp;&nbsp;</span>Вывод</a></span></li></ul></li><li><span><a href=\"#Анализ-данных\" data-toc-modified-id=\"Анализ-данных-3\"><span class=\"toc-item-num\">3&nbsp;&nbsp;</span>Анализ данных</a></span><ul class=\"toc-item\"><li><span><a href=\"#Вывод\" data-toc-modified-id=\"Вывод-3.1\"><span class=\"toc-item-num\">3.1&nbsp;&nbsp;</span>Вывод</a></span></li></ul></li><li><span><a href=\"#Проверка-гипотез\" data-toc-modified-id=\"Проверка-гипотез-4\"><span class=\"toc-item-num\">4&nbsp;&nbsp;</span>Проверка гипотез</a></span><ul class=\"toc-item\"><li><span><a href=\"#Проверка-гипотезы-1\" data-toc-modified-id=\"Проверка-гипотезы-1-4.1\"><span class=\"toc-item-num\">4.1&nbsp;&nbsp;</span>Проверка гипотезы 1</a></span><ul class=\"toc-item\"><li><span><a href=\"#Вывод\" data-toc-modified-id=\"Вывод-4.1.1\"><span class=\"toc-item-num\">4.1.1&nbsp;&nbsp;</span>Вывод</a></span></li></ul></li><li><span><a href=\"#Проверка-гипотезы-2\" data-toc-modified-id=\"Проверка-гипотезы-2-4.2\"><span class=\"toc-item-num\">4.2&nbsp;&nbsp;</span>Проверка гипотезы 2</a></span><ul class=\"toc-item\"><li><span><a href=\"#Вывод\" data-toc-modified-id=\"Вывод-4.2.1\"><span class=\"toc-item-num\">4.2.1&nbsp;&nbsp;</span>Вывод</a></span></li></ul></li></ul></li><li><span><a href=\"#Общий-вывод\" data-toc-modified-id=\"Общий-вывод-5\"><span class=\"toc-item-num\">5&nbsp;&nbsp;</span>Общий вывод</a></span></li></ul></div>"
   ]
  },
  {
   "cell_type": "markdown",
   "id": "c27e9180",
   "metadata": {},
   "source": [
    "**Исходные данные:** \n",
    "\n",
    "В нашем распоряжении база данных 500 пользователей «Мегалайна» - федерального оператора сотовой связи: кто они, откуда, каким тарифом пользуются, сколько звонков и сообщений каждый отправил за 2018 год. Клиентам предлагают два тарифных плана: «Смарт» и «Ультра». Чтобы скорректировать рекламный бюджет, коммерческий департамент хочет понять, какой тариф приносит больше денег.\n",
    "\n",
    "**1. Описание тарифов:**\n",
    "    \n",
    "    \n",
    "**Тариф «Смарт»**\n",
    "    \n",
    "1. Ежемесячная плата: 550 рублей\n",
    "2. Включено 500 минут разговора, 50 сообщений и 15 Гб интернет-трафика\n",
    "3. Стоимость услуг сверх тарифного пакета: \n",
    "    - минута разговора: 3 рубля («Мегалайн» всегда округляет вверх значения минут и мегабайтов. Если пользователь проговорил всего 1 секунду, в тарифе засчитывается целая минута); \\\n",
    "    - сообщение: 3 рубля; \n",
    "    - 1 Гб интернет-трафика: 200 рублей.\n",
    "\n",
    "**Тариф «Ультра»**\n",
    "\n",
    "1. Ежемесячная плата: 1950 рублей\n",
    "2. Включено 3000 минут разговора, 1000 сообщений и 30 Гб интернет-трафика\n",
    "3. Стоимость услуг сверх тарифного пакета: \n",
    "    - минута разговора: 1 рубль; \n",
    "    - сообщение: 1 рубль;\n",
    "    - 1 Гб интернет-трафика: 150 рублей.\n",
    "\n",
    "**Примечание:**\n",
    "* «Мегалайн» всегда округляет секунды до минут, а мегабайты — до гигабайт. Каждый звонок округляется отдельно: даже если он длился всего 1 секунду, будет засчитан как 1 минута.\n",
    "* Для веб-трафика отдельные сессии не считаются. Вместо этого общая сумма за месяц округляется в бо́льшую сторону. Если абонент использует 1025 мегабайт в этом месяце, с него возьмут плату за 2 гигабайта.\n",
    "\n",
    "**2. Описание данных:** \n",
    "\n",
    "Таблица `users` (информация о пользователях):\n",
    "* user_id — уникальный идентификатор пользователя\n",
    "* first_name — имя пользователя\n",
    "* last_name — фамилия пользователя\n",
    "* age — возраст пользователя (годы)\n",
    "* reg_date — дата подключения тарифа (день, месяц, год)\n",
    "* churn_date — дата прекращения пользования тарифом (если значение пропущено, то тариф ещё действовал на момент выгрузки данных)\n",
    "* city — город проживания пользователя\n",
    "* tarif — название тарифного плана\n",
    "\n",
    "Таблица `calls` (информация о звонках):\n",
    "* id — уникальный номер звонка\n",
    "* call_date — дата звонка\n",
    "* duration — длительность звонка в минутах\n",
    "* user_id — идентификатор пользователя, сделавшего звонок\n",
    "\n",
    "Таблица `messages` (информация о сообщениях):\n",
    "* id — уникальный номер сообщения\n",
    "* message_date — дата сообщения\n",
    "* user_id — идентификатор пользователя, отправившего сообщение\n",
    "\n",
    "Таблица `internet` (информация об интернет-сессиях):\n",
    "* id — уникальный номер сессии\n",
    "* mb_used — объём потраченного за сессию интернет-трафика (в мегабайтах)\n",
    "* session_date — дата интернет-сессии\n",
    "* user_id — идентификатор пользователя\n",
    "* Таблица tariffs (информация о тарифах):\n",
    "* tariff_name — название тарифа\n",
    "* rub_monthly_fee — ежемесячная абонентская плата в рублях\n",
    "* minutes_included — количество минут разговора в месяц, включённых в абонентскую плату\n",
    "* messages_included — количество сообщений в месяц, включённых в абонентскую плату\n",
    "* mb_per_month_included — объём интернет-трафика, включённого в абонентскую плату (в мегабайтах)\n",
    "* rub_per_minute — стоимость минуты разговора сверх тарифного пакета (например, если в тарифе 100 минут разговора в месяц, то со 101 минуты будет взиматься плата)\n",
    "* rub_per_message — стоимость отправки сообщения сверх тарифного пакета\n",
    "* rub_per_gb — стоимость дополнительного гигабайта интернет-трафика сверх тарифного пакета (1 гигабайт = 1024 мегабайта)\n",
    "\n",
    "Таблица `tariffs` (информация о тарифах):\n",
    "* tariff_name — название тарифа\n",
    "* rub_monthly_fee — ежемесячная абонентская плата в рублях\n",
    "* minutes_included — количество минут разговора в месяц, включённых в абонентскую плату\n",
    "* messages_included — количество сообщений в месяц, включённых в абонентскую плату\n",
    "* mb_per_month_included — объём интернет-трафика, включённого в абонентскую плату (в мегабайтах)\n",
    "* rub_per_minute — стоимость минуты разговора сверх тарифного пакета (например, если в тарифе 100 минут разговора в месяц, то со 101 минуты будет взиматься плата)\n",
    "* rub_per_message — стоимость отправки сообщения сверх тарифного пакета\n",
    "* rub_per_gb — стоимость дополнительного гигабайта интернет-трафика сверх тарифного пакета (1 гигабайт = 1024 мегабайта)\n",
    "\n",
    "**Цель** — проанализировать поведение клиентов и сделать вывод, какой тариф лучше.\n",
    "\n",
    "**Задачи:**\n",
    "* Открыть файл с данными и изучить общую информацию;\n",
    "* Подготовить данные для анализа;\n",
    "* Проанализировать данные;\n",
    "* Проверить гипотезы;\n",
    "* Подвести итоги исследования."
   ]
  },
  {
   "cell_type": "markdown",
   "id": "f987c455",
   "metadata": {},
   "source": [
    "# План работы\n",
    "\n",
    "**Шаг 1. Откройте файл с данными и изучите общую информацию**\n",
    "\n",
    "Путь к файлам:\n",
    "* /datasets/calls.csv\n",
    "* /datasets/internet.csv\n",
    "* /datasets/messages.csv\n",
    "* /datasets/tariffs.csv\n",
    "* /datasets/users.csv\n",
    "\n",
    "**Шаг 2. Подготовьте данные**\n",
    "* Приведите данные к нужным типам;\n",
    "* Найдите и исправьте ошибки в данных, если они есть.\n",
    "\n",
    "Поясните, какие ошибки вы нашли и как их исправили. В данных вы найдёте звонки с нулевой продолжительностью. Это не ошибка: нулями обозначены пропущенные звонки, поэтому их не нужно удалять.\n",
    "\n",
    "Посчитайте для каждого пользователя:\n",
    "* количество сделанных звонков и израсходованных минут разговора по месяцам;\n",
    "* количество отправленных сообщений по месяцам;\n",
    "* объем израсходованного интернет-трафика по месяцам;\n",
    "* помесячную выручку с каждого пользователя (вычтите бесплатный лимит из суммарного количества звонков, сообщений и интернет-трафика; остаток умножьте на значение из тарифного плана; прибавьте абонентскую плату, соответствующую тарифному плану).\n",
    "\n",
    "**Шаг 3. Проанализируйте данные**\n",
    "\n",
    "Опишите поведение клиентов оператора, исходя из выборки:\n",
    "* Сколько минут разговора, сколько сообщений и какой объём интернет-трафика требуется пользователям каждого тарифа в месяц? \n",
    "* Посчитайте среднее количество, дисперсию и стандартное отклонение. \n",
    "* Постройте гистограммы. \n",
    "* Опишите распределения.\n",
    "\n",
    "**Шаг 4. Проверьте гипотезы**\n",
    "\n",
    "* средняя выручка пользователей тарифов «Ультра» и «Смарт» различаются;\n",
    "* средняя выручка пользователей из Москвы отличается от выручки пользователей из других регионов.\n",
    "\n",
    "Пороговое значение alpha задайте самостоятельно.\n",
    "\n",
    "Поясните:\n",
    "* как вы формулировали нулевую и альтернативную гипотезы;\n",
    "* какой критерий использовали для проверки гипотез и почему.\n",
    "\n",
    "**Шаг 5. Напишите общий вывод**"
   ]
  },
  {
   "cell_type": "markdown",
   "id": "abf1a31d",
   "metadata": {},
   "source": [
    "## Изучение данных"
   ]
  },
  {
   "cell_type": "code",
   "execution_count": 43,
   "id": "2c0ebaa9",
   "metadata": {},
   "outputs": [],
   "source": [
    "# импорт библиотек\n",
    "import pandas as pd\n",
    "import numpy as np\n",
    "import matplotlib.pyplot as plt\n",
    "from scipy import stats as st\n",
    "import statsmodels.api as sm"
   ]
  },
  {
   "cell_type": "code",
   "execution_count": 2,
   "id": "e075d241",
   "metadata": {
    "scrolled": true
   },
   "outputs": [
    {
     "name": "stdout",
     "output_type": "stream",
     "text": [
      "Наименование таблицы - users.csv\n"
     ]
    },
    {
     "data": {
      "text/html": [
       "<div>\n",
       "<style scoped>\n",
       "    .dataframe tbody tr th:only-of-type {\n",
       "        vertical-align: middle;\n",
       "    }\n",
       "\n",
       "    .dataframe tbody tr th {\n",
       "        vertical-align: top;\n",
       "    }\n",
       "\n",
       "    .dataframe thead th {\n",
       "        text-align: right;\n",
       "    }\n",
       "</style>\n",
       "<table border=\"1\" class=\"dataframe\">\n",
       "  <thead>\n",
       "    <tr style=\"text-align: right;\">\n",
       "      <th></th>\n",
       "      <th>user_id</th>\n",
       "      <th>age</th>\n",
       "      <th>churn_date</th>\n",
       "      <th>city</th>\n",
       "      <th>first_name</th>\n",
       "      <th>last_name</th>\n",
       "      <th>reg_date</th>\n",
       "      <th>tariff</th>\n",
       "    </tr>\n",
       "  </thead>\n",
       "  <tbody>\n",
       "    <tr>\n",
       "      <td>0</td>\n",
       "      <td>1000</td>\n",
       "      <td>52</td>\n",
       "      <td>NaN</td>\n",
       "      <td>Краснодар</td>\n",
       "      <td>Рафаил</td>\n",
       "      <td>Верещагин</td>\n",
       "      <td>2018-05-25</td>\n",
       "      <td>ultra</td>\n",
       "    </tr>\n",
       "    <tr>\n",
       "      <td>1</td>\n",
       "      <td>1001</td>\n",
       "      <td>41</td>\n",
       "      <td>NaN</td>\n",
       "      <td>Москва</td>\n",
       "      <td>Иван</td>\n",
       "      <td>Ежов</td>\n",
       "      <td>2018-11-01</td>\n",
       "      <td>smart</td>\n",
       "    </tr>\n",
       "    <tr>\n",
       "      <td>2</td>\n",
       "      <td>1002</td>\n",
       "      <td>59</td>\n",
       "      <td>NaN</td>\n",
       "      <td>Стерлитамак</td>\n",
       "      <td>Евгений</td>\n",
       "      <td>Абрамович</td>\n",
       "      <td>2018-06-17</td>\n",
       "      <td>smart</td>\n",
       "    </tr>\n",
       "    <tr>\n",
       "      <td>3</td>\n",
       "      <td>1003</td>\n",
       "      <td>23</td>\n",
       "      <td>NaN</td>\n",
       "      <td>Москва</td>\n",
       "      <td>Белла</td>\n",
       "      <td>Белякова</td>\n",
       "      <td>2018-08-17</td>\n",
       "      <td>ultra</td>\n",
       "    </tr>\n",
       "    <tr>\n",
       "      <td>4</td>\n",
       "      <td>1004</td>\n",
       "      <td>68</td>\n",
       "      <td>NaN</td>\n",
       "      <td>Новокузнецк</td>\n",
       "      <td>Татьяна</td>\n",
       "      <td>Авдеенко</td>\n",
       "      <td>2018-05-14</td>\n",
       "      <td>ultra</td>\n",
       "    </tr>\n",
       "    <tr>\n",
       "      <td>...</td>\n",
       "      <td>...</td>\n",
       "      <td>...</td>\n",
       "      <td>...</td>\n",
       "      <td>...</td>\n",
       "      <td>...</td>\n",
       "      <td>...</td>\n",
       "      <td>...</td>\n",
       "      <td>...</td>\n",
       "    </tr>\n",
       "    <tr>\n",
       "      <td>495</td>\n",
       "      <td>1495</td>\n",
       "      <td>65</td>\n",
       "      <td>NaN</td>\n",
       "      <td>Иркутск</td>\n",
       "      <td>Авксентий</td>\n",
       "      <td>Фокин</td>\n",
       "      <td>2018-08-28</td>\n",
       "      <td>ultra</td>\n",
       "    </tr>\n",
       "    <tr>\n",
       "      <td>496</td>\n",
       "      <td>1496</td>\n",
       "      <td>36</td>\n",
       "      <td>NaN</td>\n",
       "      <td>Вологда</td>\n",
       "      <td>Трифон</td>\n",
       "      <td>Блохин</td>\n",
       "      <td>2018-01-27</td>\n",
       "      <td>smart</td>\n",
       "    </tr>\n",
       "    <tr>\n",
       "      <td>497</td>\n",
       "      <td>1497</td>\n",
       "      <td>32</td>\n",
       "      <td>NaN</td>\n",
       "      <td>Челябинск</td>\n",
       "      <td>Каролина</td>\n",
       "      <td>Агеева</td>\n",
       "      <td>2018-10-09</td>\n",
       "      <td>smart</td>\n",
       "    </tr>\n",
       "    <tr>\n",
       "      <td>498</td>\n",
       "      <td>1498</td>\n",
       "      <td>68</td>\n",
       "      <td>2018-10-25</td>\n",
       "      <td>Владикавказ</td>\n",
       "      <td>Всеволод</td>\n",
       "      <td>Акимчин</td>\n",
       "      <td>2018-07-19</td>\n",
       "      <td>smart</td>\n",
       "    </tr>\n",
       "    <tr>\n",
       "      <td>499</td>\n",
       "      <td>1499</td>\n",
       "      <td>35</td>\n",
       "      <td>NaN</td>\n",
       "      <td>Пермь</td>\n",
       "      <td>Гектор</td>\n",
       "      <td>Корнилов</td>\n",
       "      <td>2018-09-27</td>\n",
       "      <td>smart</td>\n",
       "    </tr>\n",
       "  </tbody>\n",
       "</table>\n",
       "<p>500 rows × 8 columns</p>\n",
       "</div>"
      ],
      "text/plain": [
       "     user_id  age  churn_date         city first_name  last_name    reg_date  \\\n",
       "0       1000   52         NaN    Краснодар     Рафаил  Верещагин  2018-05-25   \n",
       "1       1001   41         NaN       Москва       Иван       Ежов  2018-11-01   \n",
       "2       1002   59         NaN  Стерлитамак    Евгений  Абрамович  2018-06-17   \n",
       "3       1003   23         NaN       Москва      Белла   Белякова  2018-08-17   \n",
       "4       1004   68         NaN  Новокузнецк    Татьяна   Авдеенко  2018-05-14   \n",
       "..       ...  ...         ...          ...        ...        ...         ...   \n",
       "495     1495   65         NaN      Иркутск  Авксентий      Фокин  2018-08-28   \n",
       "496     1496   36         NaN      Вологда     Трифон     Блохин  2018-01-27   \n",
       "497     1497   32         NaN    Челябинск   Каролина     Агеева  2018-10-09   \n",
       "498     1498   68  2018-10-25  Владикавказ   Всеволод    Акимчин  2018-07-19   \n",
       "499     1499   35         NaN        Пермь     Гектор   Корнилов  2018-09-27   \n",
       "\n",
       "    tariff  \n",
       "0    ultra  \n",
       "1    smart  \n",
       "2    smart  \n",
       "3    ultra  \n",
       "4    ultra  \n",
       "..     ...  \n",
       "495  ultra  \n",
       "496  smart  \n",
       "497  smart  \n",
       "498  smart  \n",
       "499  smart  \n",
       "\n",
       "[500 rows x 8 columns]"
      ]
     },
     "metadata": {},
     "output_type": "display_data"
    },
    {
     "name": "stdout",
     "output_type": "stream",
     "text": [
      "<class 'pandas.core.frame.DataFrame'>\n",
      "RangeIndex: 500 entries, 0 to 499\n",
      "Data columns (total 8 columns):\n",
      "user_id       500 non-null int64\n",
      "age           500 non-null int64\n",
      "churn_date    38 non-null object\n",
      "city          500 non-null object\n",
      "first_name    500 non-null object\n",
      "last_name     500 non-null object\n",
      "reg_date      500 non-null object\n",
      "tariff        500 non-null object\n",
      "dtypes: int64(2), object(6)\n",
      "memory usage: 31.4+ KB\n"
     ]
    },
    {
     "data": {
      "text/plain": [
       "None"
      ]
     },
     "metadata": {},
     "output_type": "display_data"
    },
    {
     "data": {
      "text/html": [
       "<div>\n",
       "<style scoped>\n",
       "    .dataframe tbody tr th:only-of-type {\n",
       "        vertical-align: middle;\n",
       "    }\n",
       "\n",
       "    .dataframe tbody tr th {\n",
       "        vertical-align: top;\n",
       "    }\n",
       "\n",
       "    .dataframe thead th {\n",
       "        text-align: right;\n",
       "    }\n",
       "</style>\n",
       "<table border=\"1\" class=\"dataframe\">\n",
       "  <thead>\n",
       "    <tr style=\"text-align: right;\">\n",
       "      <th></th>\n",
       "      <th>user_id</th>\n",
       "      <th>age</th>\n",
       "    </tr>\n",
       "  </thead>\n",
       "  <tbody>\n",
       "    <tr>\n",
       "      <td>count</td>\n",
       "      <td>500.000000</td>\n",
       "      <td>500.00000</td>\n",
       "    </tr>\n",
       "    <tr>\n",
       "      <td>mean</td>\n",
       "      <td>1249.500000</td>\n",
       "      <td>46.58800</td>\n",
       "    </tr>\n",
       "    <tr>\n",
       "      <td>std</td>\n",
       "      <td>144.481833</td>\n",
       "      <td>16.66763</td>\n",
       "    </tr>\n",
       "    <tr>\n",
       "      <td>min</td>\n",
       "      <td>1000.000000</td>\n",
       "      <td>18.00000</td>\n",
       "    </tr>\n",
       "    <tr>\n",
       "      <td>25%</td>\n",
       "      <td>1124.750000</td>\n",
       "      <td>32.00000</td>\n",
       "    </tr>\n",
       "    <tr>\n",
       "      <td>50%</td>\n",
       "      <td>1249.500000</td>\n",
       "      <td>46.00000</td>\n",
       "    </tr>\n",
       "    <tr>\n",
       "      <td>75%</td>\n",
       "      <td>1374.250000</td>\n",
       "      <td>62.00000</td>\n",
       "    </tr>\n",
       "    <tr>\n",
       "      <td>max</td>\n",
       "      <td>1499.000000</td>\n",
       "      <td>75.00000</td>\n",
       "    </tr>\n",
       "  </tbody>\n",
       "</table>\n",
       "</div>"
      ],
      "text/plain": [
       "           user_id        age\n",
       "count   500.000000  500.00000\n",
       "mean   1249.500000   46.58800\n",
       "std     144.481833   16.66763\n",
       "min    1000.000000   18.00000\n",
       "25%    1124.750000   32.00000\n",
       "50%    1249.500000   46.00000\n",
       "75%    1374.250000   62.00000\n",
       "max    1499.000000   75.00000"
      ]
     },
     "metadata": {},
     "output_type": "display_data"
    },
    {
     "name": "stdout",
     "output_type": "stream",
     "text": [
      "Наименование таблицы - calls.csv\n"
     ]
    },
    {
     "data": {
      "text/html": [
       "<div>\n",
       "<style scoped>\n",
       "    .dataframe tbody tr th:only-of-type {\n",
       "        vertical-align: middle;\n",
       "    }\n",
       "\n",
       "    .dataframe tbody tr th {\n",
       "        vertical-align: top;\n",
       "    }\n",
       "\n",
       "    .dataframe thead th {\n",
       "        text-align: right;\n",
       "    }\n",
       "</style>\n",
       "<table border=\"1\" class=\"dataframe\">\n",
       "  <thead>\n",
       "    <tr style=\"text-align: right;\">\n",
       "      <th></th>\n",
       "      <th>id</th>\n",
       "      <th>call_date</th>\n",
       "      <th>duration</th>\n",
       "      <th>user_id</th>\n",
       "    </tr>\n",
       "  </thead>\n",
       "  <tbody>\n",
       "    <tr>\n",
       "      <td>0</td>\n",
       "      <td>1000_0</td>\n",
       "      <td>2018-07-25</td>\n",
       "      <td>0.00</td>\n",
       "      <td>1000</td>\n",
       "    </tr>\n",
       "    <tr>\n",
       "      <td>1</td>\n",
       "      <td>1000_1</td>\n",
       "      <td>2018-08-17</td>\n",
       "      <td>0.00</td>\n",
       "      <td>1000</td>\n",
       "    </tr>\n",
       "    <tr>\n",
       "      <td>2</td>\n",
       "      <td>1000_2</td>\n",
       "      <td>2018-06-11</td>\n",
       "      <td>2.85</td>\n",
       "      <td>1000</td>\n",
       "    </tr>\n",
       "    <tr>\n",
       "      <td>3</td>\n",
       "      <td>1000_3</td>\n",
       "      <td>2018-09-21</td>\n",
       "      <td>13.80</td>\n",
       "      <td>1000</td>\n",
       "    </tr>\n",
       "    <tr>\n",
       "      <td>4</td>\n",
       "      <td>1000_4</td>\n",
       "      <td>2018-12-15</td>\n",
       "      <td>5.18</td>\n",
       "      <td>1000</td>\n",
       "    </tr>\n",
       "    <tr>\n",
       "      <td>...</td>\n",
       "      <td>...</td>\n",
       "      <td>...</td>\n",
       "      <td>...</td>\n",
       "      <td>...</td>\n",
       "    </tr>\n",
       "    <tr>\n",
       "      <td>202602</td>\n",
       "      <td>1499_215</td>\n",
       "      <td>2018-12-26</td>\n",
       "      <td>0.76</td>\n",
       "      <td>1499</td>\n",
       "    </tr>\n",
       "    <tr>\n",
       "      <td>202603</td>\n",
       "      <td>1499_216</td>\n",
       "      <td>2018-10-18</td>\n",
       "      <td>18.83</td>\n",
       "      <td>1499</td>\n",
       "    </tr>\n",
       "    <tr>\n",
       "      <td>202604</td>\n",
       "      <td>1499_217</td>\n",
       "      <td>2018-11-10</td>\n",
       "      <td>10.81</td>\n",
       "      <td>1499</td>\n",
       "    </tr>\n",
       "    <tr>\n",
       "      <td>202605</td>\n",
       "      <td>1499_218</td>\n",
       "      <td>2018-10-06</td>\n",
       "      <td>4.27</td>\n",
       "      <td>1499</td>\n",
       "    </tr>\n",
       "    <tr>\n",
       "      <td>202606</td>\n",
       "      <td>1499_219</td>\n",
       "      <td>2018-12-14</td>\n",
       "      <td>19.62</td>\n",
       "      <td>1499</td>\n",
       "    </tr>\n",
       "  </tbody>\n",
       "</table>\n",
       "<p>202607 rows × 4 columns</p>\n",
       "</div>"
      ],
      "text/plain": [
       "              id   call_date  duration  user_id\n",
       "0         1000_0  2018-07-25      0.00     1000\n",
       "1         1000_1  2018-08-17      0.00     1000\n",
       "2         1000_2  2018-06-11      2.85     1000\n",
       "3         1000_3  2018-09-21     13.80     1000\n",
       "4         1000_4  2018-12-15      5.18     1000\n",
       "...          ...         ...       ...      ...\n",
       "202602  1499_215  2018-12-26      0.76     1499\n",
       "202603  1499_216  2018-10-18     18.83     1499\n",
       "202604  1499_217  2018-11-10     10.81     1499\n",
       "202605  1499_218  2018-10-06      4.27     1499\n",
       "202606  1499_219  2018-12-14     19.62     1499\n",
       "\n",
       "[202607 rows x 4 columns]"
      ]
     },
     "metadata": {},
     "output_type": "display_data"
    },
    {
     "name": "stdout",
     "output_type": "stream",
     "text": [
      "<class 'pandas.core.frame.DataFrame'>\n",
      "RangeIndex: 202607 entries, 0 to 202606\n",
      "Data columns (total 4 columns):\n",
      "id           202607 non-null object\n",
      "call_date    202607 non-null object\n",
      "duration     202607 non-null float64\n",
      "user_id      202607 non-null int64\n",
      "dtypes: float64(1), int64(1), object(2)\n",
      "memory usage: 6.2+ MB\n"
     ]
    },
    {
     "data": {
      "text/plain": [
       "None"
      ]
     },
     "metadata": {},
     "output_type": "display_data"
    },
    {
     "data": {
      "text/html": [
       "<div>\n",
       "<style scoped>\n",
       "    .dataframe tbody tr th:only-of-type {\n",
       "        vertical-align: middle;\n",
       "    }\n",
       "\n",
       "    .dataframe tbody tr th {\n",
       "        vertical-align: top;\n",
       "    }\n",
       "\n",
       "    .dataframe thead th {\n",
       "        text-align: right;\n",
       "    }\n",
       "</style>\n",
       "<table border=\"1\" class=\"dataframe\">\n",
       "  <thead>\n",
       "    <tr style=\"text-align: right;\">\n",
       "      <th></th>\n",
       "      <th>duration</th>\n",
       "      <th>user_id</th>\n",
       "    </tr>\n",
       "  </thead>\n",
       "  <tbody>\n",
       "    <tr>\n",
       "      <td>count</td>\n",
       "      <td>202607.000000</td>\n",
       "      <td>202607.000000</td>\n",
       "    </tr>\n",
       "    <tr>\n",
       "      <td>mean</td>\n",
       "      <td>6.755887</td>\n",
       "      <td>1253.940619</td>\n",
       "    </tr>\n",
       "    <tr>\n",
       "      <td>std</td>\n",
       "      <td>5.843365</td>\n",
       "      <td>144.722751</td>\n",
       "    </tr>\n",
       "    <tr>\n",
       "      <td>min</td>\n",
       "      <td>0.000000</td>\n",
       "      <td>1000.000000</td>\n",
       "    </tr>\n",
       "    <tr>\n",
       "      <td>25%</td>\n",
       "      <td>1.300000</td>\n",
       "      <td>1126.000000</td>\n",
       "    </tr>\n",
       "    <tr>\n",
       "      <td>50%</td>\n",
       "      <td>6.000000</td>\n",
       "      <td>1260.000000</td>\n",
       "    </tr>\n",
       "    <tr>\n",
       "      <td>75%</td>\n",
       "      <td>10.700000</td>\n",
       "      <td>1379.000000</td>\n",
       "    </tr>\n",
       "    <tr>\n",
       "      <td>max</td>\n",
       "      <td>38.000000</td>\n",
       "      <td>1499.000000</td>\n",
       "    </tr>\n",
       "  </tbody>\n",
       "</table>\n",
       "</div>"
      ],
      "text/plain": [
       "            duration        user_id\n",
       "count  202607.000000  202607.000000\n",
       "mean        6.755887    1253.940619\n",
       "std         5.843365     144.722751\n",
       "min         0.000000    1000.000000\n",
       "25%         1.300000    1126.000000\n",
       "50%         6.000000    1260.000000\n",
       "75%        10.700000    1379.000000\n",
       "max        38.000000    1499.000000"
      ]
     },
     "metadata": {},
     "output_type": "display_data"
    },
    {
     "name": "stdout",
     "output_type": "stream",
     "text": [
      "Наименование таблицы - messages.csv\n"
     ]
    },
    {
     "data": {
      "text/html": [
       "<div>\n",
       "<style scoped>\n",
       "    .dataframe tbody tr th:only-of-type {\n",
       "        vertical-align: middle;\n",
       "    }\n",
       "\n",
       "    .dataframe tbody tr th {\n",
       "        vertical-align: top;\n",
       "    }\n",
       "\n",
       "    .dataframe thead th {\n",
       "        text-align: right;\n",
       "    }\n",
       "</style>\n",
       "<table border=\"1\" class=\"dataframe\">\n",
       "  <thead>\n",
       "    <tr style=\"text-align: right;\">\n",
       "      <th></th>\n",
       "      <th>id</th>\n",
       "      <th>message_date</th>\n",
       "      <th>user_id</th>\n",
       "    </tr>\n",
       "  </thead>\n",
       "  <tbody>\n",
       "    <tr>\n",
       "      <td>0</td>\n",
       "      <td>1000_0</td>\n",
       "      <td>2018-06-27</td>\n",
       "      <td>1000</td>\n",
       "    </tr>\n",
       "    <tr>\n",
       "      <td>1</td>\n",
       "      <td>1000_1</td>\n",
       "      <td>2018-10-08</td>\n",
       "      <td>1000</td>\n",
       "    </tr>\n",
       "    <tr>\n",
       "      <td>2</td>\n",
       "      <td>1000_2</td>\n",
       "      <td>2018-08-04</td>\n",
       "      <td>1000</td>\n",
       "    </tr>\n",
       "    <tr>\n",
       "      <td>3</td>\n",
       "      <td>1000_3</td>\n",
       "      <td>2018-06-16</td>\n",
       "      <td>1000</td>\n",
       "    </tr>\n",
       "    <tr>\n",
       "      <td>4</td>\n",
       "      <td>1000_4</td>\n",
       "      <td>2018-12-05</td>\n",
       "      <td>1000</td>\n",
       "    </tr>\n",
       "    <tr>\n",
       "      <td>...</td>\n",
       "      <td>...</td>\n",
       "      <td>...</td>\n",
       "      <td>...</td>\n",
       "    </tr>\n",
       "    <tr>\n",
       "      <td>123031</td>\n",
       "      <td>1499_179</td>\n",
       "      <td>2018-12-12</td>\n",
       "      <td>1499</td>\n",
       "    </tr>\n",
       "    <tr>\n",
       "      <td>123032</td>\n",
       "      <td>1499_180</td>\n",
       "      <td>2018-09-28</td>\n",
       "      <td>1499</td>\n",
       "    </tr>\n",
       "    <tr>\n",
       "      <td>123033</td>\n",
       "      <td>1499_181</td>\n",
       "      <td>2018-09-27</td>\n",
       "      <td>1499</td>\n",
       "    </tr>\n",
       "    <tr>\n",
       "      <td>123034</td>\n",
       "      <td>1499_182</td>\n",
       "      <td>2018-11-15</td>\n",
       "      <td>1499</td>\n",
       "    </tr>\n",
       "    <tr>\n",
       "      <td>123035</td>\n",
       "      <td>1499_183</td>\n",
       "      <td>2018-11-16</td>\n",
       "      <td>1499</td>\n",
       "    </tr>\n",
       "  </tbody>\n",
       "</table>\n",
       "<p>123036 rows × 3 columns</p>\n",
       "</div>"
      ],
      "text/plain": [
       "              id message_date  user_id\n",
       "0         1000_0   2018-06-27     1000\n",
       "1         1000_1   2018-10-08     1000\n",
       "2         1000_2   2018-08-04     1000\n",
       "3         1000_3   2018-06-16     1000\n",
       "4         1000_4   2018-12-05     1000\n",
       "...          ...          ...      ...\n",
       "123031  1499_179   2018-12-12     1499\n",
       "123032  1499_180   2018-09-28     1499\n",
       "123033  1499_181   2018-09-27     1499\n",
       "123034  1499_182   2018-11-15     1499\n",
       "123035  1499_183   2018-11-16     1499\n",
       "\n",
       "[123036 rows x 3 columns]"
      ]
     },
     "metadata": {},
     "output_type": "display_data"
    },
    {
     "name": "stdout",
     "output_type": "stream",
     "text": [
      "<class 'pandas.core.frame.DataFrame'>\n",
      "RangeIndex: 123036 entries, 0 to 123035\n",
      "Data columns (total 3 columns):\n",
      "id              123036 non-null object\n",
      "message_date    123036 non-null object\n",
      "user_id         123036 non-null int64\n",
      "dtypes: int64(1), object(2)\n",
      "memory usage: 2.8+ MB\n"
     ]
    },
    {
     "data": {
      "text/plain": [
       "None"
      ]
     },
     "metadata": {},
     "output_type": "display_data"
    },
    {
     "data": {
      "text/html": [
       "<div>\n",
       "<style scoped>\n",
       "    .dataframe tbody tr th:only-of-type {\n",
       "        vertical-align: middle;\n",
       "    }\n",
       "\n",
       "    .dataframe tbody tr th {\n",
       "        vertical-align: top;\n",
       "    }\n",
       "\n",
       "    .dataframe thead th {\n",
       "        text-align: right;\n",
       "    }\n",
       "</style>\n",
       "<table border=\"1\" class=\"dataframe\">\n",
       "  <thead>\n",
       "    <tr style=\"text-align: right;\">\n",
       "      <th></th>\n",
       "      <th>user_id</th>\n",
       "    </tr>\n",
       "  </thead>\n",
       "  <tbody>\n",
       "    <tr>\n",
       "      <td>count</td>\n",
       "      <td>123036.000000</td>\n",
       "    </tr>\n",
       "    <tr>\n",
       "      <td>mean</td>\n",
       "      <td>1256.989410</td>\n",
       "    </tr>\n",
       "    <tr>\n",
       "      <td>std</td>\n",
       "      <td>143.523967</td>\n",
       "    </tr>\n",
       "    <tr>\n",
       "      <td>min</td>\n",
       "      <td>1000.000000</td>\n",
       "    </tr>\n",
       "    <tr>\n",
       "      <td>25%</td>\n",
       "      <td>1134.000000</td>\n",
       "    </tr>\n",
       "    <tr>\n",
       "      <td>50%</td>\n",
       "      <td>1271.000000</td>\n",
       "    </tr>\n",
       "    <tr>\n",
       "      <td>75%</td>\n",
       "      <td>1381.000000</td>\n",
       "    </tr>\n",
       "    <tr>\n",
       "      <td>max</td>\n",
       "      <td>1499.000000</td>\n",
       "    </tr>\n",
       "  </tbody>\n",
       "</table>\n",
       "</div>"
      ],
      "text/plain": [
       "             user_id\n",
       "count  123036.000000\n",
       "mean     1256.989410\n",
       "std       143.523967\n",
       "min      1000.000000\n",
       "25%      1134.000000\n",
       "50%      1271.000000\n",
       "75%      1381.000000\n",
       "max      1499.000000"
      ]
     },
     "metadata": {},
     "output_type": "display_data"
    },
    {
     "name": "stdout",
     "output_type": "stream",
     "text": [
      "Наименование таблицы - internet.csv\n"
     ]
    },
    {
     "data": {
      "text/html": [
       "<div>\n",
       "<style scoped>\n",
       "    .dataframe tbody tr th:only-of-type {\n",
       "        vertical-align: middle;\n",
       "    }\n",
       "\n",
       "    .dataframe tbody tr th {\n",
       "        vertical-align: top;\n",
       "    }\n",
       "\n",
       "    .dataframe thead th {\n",
       "        text-align: right;\n",
       "    }\n",
       "</style>\n",
       "<table border=\"1\" class=\"dataframe\">\n",
       "  <thead>\n",
       "    <tr style=\"text-align: right;\">\n",
       "      <th></th>\n",
       "      <th>Unnamed: 0</th>\n",
       "      <th>id</th>\n",
       "      <th>mb_used</th>\n",
       "      <th>session_date</th>\n",
       "      <th>user_id</th>\n",
       "    </tr>\n",
       "  </thead>\n",
       "  <tbody>\n",
       "    <tr>\n",
       "      <td>0</td>\n",
       "      <td>0</td>\n",
       "      <td>1000_0</td>\n",
       "      <td>112.95</td>\n",
       "      <td>2018-11-25</td>\n",
       "      <td>1000</td>\n",
       "    </tr>\n",
       "    <tr>\n",
       "      <td>1</td>\n",
       "      <td>1</td>\n",
       "      <td>1000_1</td>\n",
       "      <td>1052.81</td>\n",
       "      <td>2018-09-07</td>\n",
       "      <td>1000</td>\n",
       "    </tr>\n",
       "    <tr>\n",
       "      <td>2</td>\n",
       "      <td>2</td>\n",
       "      <td>1000_2</td>\n",
       "      <td>1197.26</td>\n",
       "      <td>2018-06-25</td>\n",
       "      <td>1000</td>\n",
       "    </tr>\n",
       "    <tr>\n",
       "      <td>3</td>\n",
       "      <td>3</td>\n",
       "      <td>1000_3</td>\n",
       "      <td>550.27</td>\n",
       "      <td>2018-08-22</td>\n",
       "      <td>1000</td>\n",
       "    </tr>\n",
       "    <tr>\n",
       "      <td>4</td>\n",
       "      <td>4</td>\n",
       "      <td>1000_4</td>\n",
       "      <td>302.56</td>\n",
       "      <td>2018-09-24</td>\n",
       "      <td>1000</td>\n",
       "    </tr>\n",
       "    <tr>\n",
       "      <td>...</td>\n",
       "      <td>...</td>\n",
       "      <td>...</td>\n",
       "      <td>...</td>\n",
       "      <td>...</td>\n",
       "      <td>...</td>\n",
       "    </tr>\n",
       "    <tr>\n",
       "      <td>149391</td>\n",
       "      <td>149391</td>\n",
       "      <td>1499_152</td>\n",
       "      <td>318.90</td>\n",
       "      <td>2018-10-03</td>\n",
       "      <td>1499</td>\n",
       "    </tr>\n",
       "    <tr>\n",
       "      <td>149392</td>\n",
       "      <td>149392</td>\n",
       "      <td>1499_153</td>\n",
       "      <td>490.13</td>\n",
       "      <td>2018-12-14</td>\n",
       "      <td>1499</td>\n",
       "    </tr>\n",
       "    <tr>\n",
       "      <td>149393</td>\n",
       "      <td>149393</td>\n",
       "      <td>1499_154</td>\n",
       "      <td>0.00</td>\n",
       "      <td>2018-10-27</td>\n",
       "      <td>1499</td>\n",
       "    </tr>\n",
       "    <tr>\n",
       "      <td>149394</td>\n",
       "      <td>149394</td>\n",
       "      <td>1499_155</td>\n",
       "      <td>1246.32</td>\n",
       "      <td>2018-11-26</td>\n",
       "      <td>1499</td>\n",
       "    </tr>\n",
       "    <tr>\n",
       "      <td>149395</td>\n",
       "      <td>149395</td>\n",
       "      <td>1499_156</td>\n",
       "      <td>544.37</td>\n",
       "      <td>2018-10-26</td>\n",
       "      <td>1499</td>\n",
       "    </tr>\n",
       "  </tbody>\n",
       "</table>\n",
       "<p>149396 rows × 5 columns</p>\n",
       "</div>"
      ],
      "text/plain": [
       "        Unnamed: 0        id  mb_used session_date  user_id\n",
       "0                0    1000_0   112.95   2018-11-25     1000\n",
       "1                1    1000_1  1052.81   2018-09-07     1000\n",
       "2                2    1000_2  1197.26   2018-06-25     1000\n",
       "3                3    1000_3   550.27   2018-08-22     1000\n",
       "4                4    1000_4   302.56   2018-09-24     1000\n",
       "...            ...       ...      ...          ...      ...\n",
       "149391      149391  1499_152   318.90   2018-10-03     1499\n",
       "149392      149392  1499_153   490.13   2018-12-14     1499\n",
       "149393      149393  1499_154     0.00   2018-10-27     1499\n",
       "149394      149394  1499_155  1246.32   2018-11-26     1499\n",
       "149395      149395  1499_156   544.37   2018-10-26     1499\n",
       "\n",
       "[149396 rows x 5 columns]"
      ]
     },
     "metadata": {},
     "output_type": "display_data"
    },
    {
     "name": "stdout",
     "output_type": "stream",
     "text": [
      "<class 'pandas.core.frame.DataFrame'>\n",
      "RangeIndex: 149396 entries, 0 to 149395\n",
      "Data columns (total 5 columns):\n",
      "Unnamed: 0      149396 non-null int64\n",
      "id              149396 non-null object\n",
      "mb_used         149396 non-null float64\n",
      "session_date    149396 non-null object\n",
      "user_id         149396 non-null int64\n",
      "dtypes: float64(1), int64(2), object(2)\n",
      "memory usage: 5.7+ MB\n"
     ]
    },
    {
     "data": {
      "text/plain": [
       "None"
      ]
     },
     "metadata": {},
     "output_type": "display_data"
    },
    {
     "data": {
      "text/html": [
       "<div>\n",
       "<style scoped>\n",
       "    .dataframe tbody tr th:only-of-type {\n",
       "        vertical-align: middle;\n",
       "    }\n",
       "\n",
       "    .dataframe tbody tr th {\n",
       "        vertical-align: top;\n",
       "    }\n",
       "\n",
       "    .dataframe thead th {\n",
       "        text-align: right;\n",
       "    }\n",
       "</style>\n",
       "<table border=\"1\" class=\"dataframe\">\n",
       "  <thead>\n",
       "    <tr style=\"text-align: right;\">\n",
       "      <th></th>\n",
       "      <th>Unnamed: 0</th>\n",
       "      <th>mb_used</th>\n",
       "      <th>user_id</th>\n",
       "    </tr>\n",
       "  </thead>\n",
       "  <tbody>\n",
       "    <tr>\n",
       "      <td>count</td>\n",
       "      <td>149396.000000</td>\n",
       "      <td>149396.000000</td>\n",
       "      <td>149396.000000</td>\n",
       "    </tr>\n",
       "    <tr>\n",
       "      <td>mean</td>\n",
       "      <td>74697.500000</td>\n",
       "      <td>370.192426</td>\n",
       "      <td>1252.099842</td>\n",
       "    </tr>\n",
       "    <tr>\n",
       "      <td>std</td>\n",
       "      <td>43127.054745</td>\n",
       "      <td>278.300951</td>\n",
       "      <td>144.050823</td>\n",
       "    </tr>\n",
       "    <tr>\n",
       "      <td>min</td>\n",
       "      <td>0.000000</td>\n",
       "      <td>0.000000</td>\n",
       "      <td>1000.000000</td>\n",
       "    </tr>\n",
       "    <tr>\n",
       "      <td>25%</td>\n",
       "      <td>37348.750000</td>\n",
       "      <td>138.187500</td>\n",
       "      <td>1130.000000</td>\n",
       "    </tr>\n",
       "    <tr>\n",
       "      <td>50%</td>\n",
       "      <td>74697.500000</td>\n",
       "      <td>348.015000</td>\n",
       "      <td>1251.000000</td>\n",
       "    </tr>\n",
       "    <tr>\n",
       "      <td>75%</td>\n",
       "      <td>112046.250000</td>\n",
       "      <td>559.552500</td>\n",
       "      <td>1380.000000</td>\n",
       "    </tr>\n",
       "    <tr>\n",
       "      <td>max</td>\n",
       "      <td>149395.000000</td>\n",
       "      <td>1724.830000</td>\n",
       "      <td>1499.000000</td>\n",
       "    </tr>\n",
       "  </tbody>\n",
       "</table>\n",
       "</div>"
      ],
      "text/plain": [
       "          Unnamed: 0        mb_used        user_id\n",
       "count  149396.000000  149396.000000  149396.000000\n",
       "mean    74697.500000     370.192426    1252.099842\n",
       "std     43127.054745     278.300951     144.050823\n",
       "min         0.000000       0.000000    1000.000000\n",
       "25%     37348.750000     138.187500    1130.000000\n",
       "50%     74697.500000     348.015000    1251.000000\n",
       "75%    112046.250000     559.552500    1380.000000\n",
       "max    149395.000000    1724.830000    1499.000000"
      ]
     },
     "metadata": {},
     "output_type": "display_data"
    },
    {
     "name": "stdout",
     "output_type": "stream",
     "text": [
      "Наименование таблицы - tariffs.csv\n"
     ]
    },
    {
     "data": {
      "text/html": [
       "<div>\n",
       "<style scoped>\n",
       "    .dataframe tbody tr th:only-of-type {\n",
       "        vertical-align: middle;\n",
       "    }\n",
       "\n",
       "    .dataframe tbody tr th {\n",
       "        vertical-align: top;\n",
       "    }\n",
       "\n",
       "    .dataframe thead th {\n",
       "        text-align: right;\n",
       "    }\n",
       "</style>\n",
       "<table border=\"1\" class=\"dataframe\">\n",
       "  <thead>\n",
       "    <tr style=\"text-align: right;\">\n",
       "      <th></th>\n",
       "      <th>messages_included</th>\n",
       "      <th>mb_per_month_included</th>\n",
       "      <th>minutes_included</th>\n",
       "      <th>rub_monthly_fee</th>\n",
       "      <th>rub_per_gb</th>\n",
       "      <th>rub_per_message</th>\n",
       "      <th>rub_per_minute</th>\n",
       "      <th>tariff_name</th>\n",
       "    </tr>\n",
       "  </thead>\n",
       "  <tbody>\n",
       "    <tr>\n",
       "      <td>0</td>\n",
       "      <td>50</td>\n",
       "      <td>15360</td>\n",
       "      <td>500</td>\n",
       "      <td>550</td>\n",
       "      <td>200</td>\n",
       "      <td>3</td>\n",
       "      <td>3</td>\n",
       "      <td>smart</td>\n",
       "    </tr>\n",
       "    <tr>\n",
       "      <td>1</td>\n",
       "      <td>1000</td>\n",
       "      <td>30720</td>\n",
       "      <td>3000</td>\n",
       "      <td>1950</td>\n",
       "      <td>150</td>\n",
       "      <td>1</td>\n",
       "      <td>1</td>\n",
       "      <td>ultra</td>\n",
       "    </tr>\n",
       "  </tbody>\n",
       "</table>\n",
       "</div>"
      ],
      "text/plain": [
       "   messages_included  mb_per_month_included  minutes_included  \\\n",
       "0                 50                  15360               500   \n",
       "1               1000                  30720              3000   \n",
       "\n",
       "   rub_monthly_fee  rub_per_gb  rub_per_message  rub_per_minute tariff_name  \n",
       "0              550         200                3               3       smart  \n",
       "1             1950         150                1               1       ultra  "
      ]
     },
     "metadata": {},
     "output_type": "display_data"
    },
    {
     "name": "stdout",
     "output_type": "stream",
     "text": [
      "<class 'pandas.core.frame.DataFrame'>\n",
      "RangeIndex: 2 entries, 0 to 1\n",
      "Data columns (total 8 columns):\n",
      "messages_included        2 non-null int64\n",
      "mb_per_month_included    2 non-null int64\n",
      "minutes_included         2 non-null int64\n",
      "rub_monthly_fee          2 non-null int64\n",
      "rub_per_gb               2 non-null int64\n",
      "rub_per_message          2 non-null int64\n",
      "rub_per_minute           2 non-null int64\n",
      "tariff_name              2 non-null object\n",
      "dtypes: int64(7), object(1)\n",
      "memory usage: 256.0+ bytes\n"
     ]
    },
    {
     "data": {
      "text/plain": [
       "None"
      ]
     },
     "metadata": {},
     "output_type": "display_data"
    },
    {
     "data": {
      "text/html": [
       "<div>\n",
       "<style scoped>\n",
       "    .dataframe tbody tr th:only-of-type {\n",
       "        vertical-align: middle;\n",
       "    }\n",
       "\n",
       "    .dataframe tbody tr th {\n",
       "        vertical-align: top;\n",
       "    }\n",
       "\n",
       "    .dataframe thead th {\n",
       "        text-align: right;\n",
       "    }\n",
       "</style>\n",
       "<table border=\"1\" class=\"dataframe\">\n",
       "  <thead>\n",
       "    <tr style=\"text-align: right;\">\n",
       "      <th></th>\n",
       "      <th>messages_included</th>\n",
       "      <th>mb_per_month_included</th>\n",
       "      <th>minutes_included</th>\n",
       "      <th>rub_monthly_fee</th>\n",
       "      <th>rub_per_gb</th>\n",
       "      <th>rub_per_message</th>\n",
       "      <th>rub_per_minute</th>\n",
       "    </tr>\n",
       "  </thead>\n",
       "  <tbody>\n",
       "    <tr>\n",
       "      <td>count</td>\n",
       "      <td>2.000000</td>\n",
       "      <td>2.000000</td>\n",
       "      <td>2.000000</td>\n",
       "      <td>2.000000</td>\n",
       "      <td>2.000000</td>\n",
       "      <td>2.000000</td>\n",
       "      <td>2.000000</td>\n",
       "    </tr>\n",
       "    <tr>\n",
       "      <td>mean</td>\n",
       "      <td>525.000000</td>\n",
       "      <td>23040.000000</td>\n",
       "      <td>1750.000000</td>\n",
       "      <td>1250.000000</td>\n",
       "      <td>175.000000</td>\n",
       "      <td>2.000000</td>\n",
       "      <td>2.000000</td>\n",
       "    </tr>\n",
       "    <tr>\n",
       "      <td>std</td>\n",
       "      <td>671.751442</td>\n",
       "      <td>10861.160159</td>\n",
       "      <td>1767.766953</td>\n",
       "      <td>989.949494</td>\n",
       "      <td>35.355339</td>\n",
       "      <td>1.414214</td>\n",
       "      <td>1.414214</td>\n",
       "    </tr>\n",
       "    <tr>\n",
       "      <td>min</td>\n",
       "      <td>50.000000</td>\n",
       "      <td>15360.000000</td>\n",
       "      <td>500.000000</td>\n",
       "      <td>550.000000</td>\n",
       "      <td>150.000000</td>\n",
       "      <td>1.000000</td>\n",
       "      <td>1.000000</td>\n",
       "    </tr>\n",
       "    <tr>\n",
       "      <td>25%</td>\n",
       "      <td>287.500000</td>\n",
       "      <td>19200.000000</td>\n",
       "      <td>1125.000000</td>\n",
       "      <td>900.000000</td>\n",
       "      <td>162.500000</td>\n",
       "      <td>1.500000</td>\n",
       "      <td>1.500000</td>\n",
       "    </tr>\n",
       "    <tr>\n",
       "      <td>50%</td>\n",
       "      <td>525.000000</td>\n",
       "      <td>23040.000000</td>\n",
       "      <td>1750.000000</td>\n",
       "      <td>1250.000000</td>\n",
       "      <td>175.000000</td>\n",
       "      <td>2.000000</td>\n",
       "      <td>2.000000</td>\n",
       "    </tr>\n",
       "    <tr>\n",
       "      <td>75%</td>\n",
       "      <td>762.500000</td>\n",
       "      <td>26880.000000</td>\n",
       "      <td>2375.000000</td>\n",
       "      <td>1600.000000</td>\n",
       "      <td>187.500000</td>\n",
       "      <td>2.500000</td>\n",
       "      <td>2.500000</td>\n",
       "    </tr>\n",
       "    <tr>\n",
       "      <td>max</td>\n",
       "      <td>1000.000000</td>\n",
       "      <td>30720.000000</td>\n",
       "      <td>3000.000000</td>\n",
       "      <td>1950.000000</td>\n",
       "      <td>200.000000</td>\n",
       "      <td>3.000000</td>\n",
       "      <td>3.000000</td>\n",
       "    </tr>\n",
       "  </tbody>\n",
       "</table>\n",
       "</div>"
      ],
      "text/plain": [
       "       messages_included  mb_per_month_included  minutes_included  \\\n",
       "count           2.000000               2.000000          2.000000   \n",
       "mean          525.000000           23040.000000       1750.000000   \n",
       "std           671.751442           10861.160159       1767.766953   \n",
       "min            50.000000           15360.000000        500.000000   \n",
       "25%           287.500000           19200.000000       1125.000000   \n",
       "50%           525.000000           23040.000000       1750.000000   \n",
       "75%           762.500000           26880.000000       2375.000000   \n",
       "max          1000.000000           30720.000000       3000.000000   \n",
       "\n",
       "       rub_monthly_fee  rub_per_gb  rub_per_message  rub_per_minute  \n",
       "count         2.000000    2.000000         2.000000        2.000000  \n",
       "mean       1250.000000  175.000000         2.000000        2.000000  \n",
       "std         989.949494   35.355339         1.414214        1.414214  \n",
       "min         550.000000  150.000000         1.000000        1.000000  \n",
       "25%         900.000000  162.500000         1.500000        1.500000  \n",
       "50%        1250.000000  175.000000         2.000000        2.000000  \n",
       "75%        1600.000000  187.500000         2.500000        2.500000  \n",
       "max        1950.000000  200.000000         3.000000        3.000000  "
      ]
     },
     "metadata": {},
     "output_type": "display_data"
    }
   ],
   "source": [
    "df_users = pd.read_csv('/datasets/users.csv') # \n",
    "df_calls = pd.read_csv('/datasets/calls.csv')\n",
    "df_message = pd.read_csv('/datasets/messages.csv')\n",
    "df_internet = pd.read_csv('/datasets/internet.csv')\n",
    "df_tariff = pd.read_csv('/datasets/tariffs.csv')\n",
    "\n",
    "\n",
    "# выведем первые и последние 5 строк и информацию по каждой таблице:\n",
    "table = [df_users, df_calls, df_message, df_internet, df_tariff] # перечень таблиц\n",
    "table_name = ['users.csv','calls.csv','messages.csv','internet.csv','tariffs.csv'] # перечень наименований таблиц\n",
    "\n",
    "for index in range(len(table)):\n",
    "    print('Наименование таблицы - ', table_name[index], sep='')\n",
    "    display(table[index])\n",
    "    display(table[index].info(), \n",
    "            table[index].describe())"
   ]
  },
  {
   "cell_type": "markdown",
   "id": "d42c7ffc",
   "metadata": {},
   "source": [
    "**Описание данных таблиц:**\n",
    "\n",
    "**1. Таблица `users` (информация о пользователях):**\n",
    "* Cостоит из 500 строк и 8 столбцов;\n",
    "* Описание данных в столцах приведено выше;\n",
    "* Тип данных: столбцы `churn_date` и `reg_date` содежат информацию о датах прекращения и подключения тарифов. Однако данная информация для текущего исследования не потребуется. Предлагаем не проводить изменение типа данных столбцов на `datetime`;\n",
    "* Нулевые значения: `churn_date` имеет пропуски, однако, обращаясь к документации: если значение пропущено, то тариф ещё действовал на момент выгрузки данных. Ничего менять и заполнять не нужно.\n",
    "\n",
    "**2. Таблица `calls` (информация о звонках):**\n",
    "* Cостоит из 202 607 строк и 4 столбцов;\n",
    "* Описание данных в столцах приведено выше;\n",
    "* Тип данных: \n",
    "    - столбец `call_date` - дата звонка - имеет тип `object`. Необходимо изменить тип данных `object` -> `datetime`;\n",
    "    - столбец `duration` — длительность звонка в минутах. По условиям тарифов, длительность каждого звонка округляется до целых значений в большую сторону, поэтому данные можно сразу округлить и привести к типу `int`. \n",
    "* Нулевые значения: отсутствуют;\n",
    "* Имеется большой разброс по длительности разговоров пользователей.\n",
    "\n",
    "**3. Таблица `message` (информация о сообщениях):**\n",
    "* Cостоит из 123 036 строк и 3 столбцов;\n",
    "* Описание данных в столцах приведено выше;\n",
    "* Тип данных: столбец `message_date` - дата сообщения - имеет тип `object`. Необходимо изменить тип данных `object` -> `datetime`;\n",
    "* Нулевые значения: отсутствуют;\n",
    "\n",
    "**4. Таблица `internet` (информация об интернет-сессиях):**\n",
    "* Cостоит из 149 396 строк и 5 столбцов;\n",
    "* Описание данных в столцах приведено выше;\n",
    "* Тип данных: \n",
    "    - столбец `session_date` - дата интернет-сессии - имеет тип `object`. Необходимо изменить тип данных `object` -> `datetime`;\n",
    "    - столбец `mb_used` — объём потраченного за сессию интернет-трафика (в мегабайтах). По условиям тарифов, для веб-трафика отдельные сессии не считаются. Вместо этого общая сумма за месяц округляется в бо́льшую сторону. Поэтому пока тип данных менять не нужно;\n",
    "* Нулевые значения: отсутствуют;\n",
    "* Столбец `Unnamed: 0` является, по всей видимости, стобцом индексов. В данном случае он дублирует уже имеющийся столбец индексов, автоматически созданный при открытии книги. Предлается его удалить.\n",
    "\n",
    "**Таблица `tariffs` (информация о тарифах):**\n",
    "* Cостоит из 2 строк и 8 столбцов;\n",
    "* Описание данных в столцах приведено выше;\n",
    "* Тип данных: все столбцы, на первый взгляд, имеют корректный тип данных.\n"
   ]
  },
  {
   "cell_type": "markdown",
   "id": "0d83522b",
   "metadata": {},
   "source": [
    "### Вывод"
   ]
  },
  {
   "cell_type": "markdown",
   "id": "bdb631ae",
   "metadata": {},
   "source": [
    "1. Приведены 5 таблиц с данными 500 пользователей;\n",
    "2. В некоторых таблицах Python некорректно отпределил тип данных. Необходима корректировка:\n",
    "    \n",
    "    2.1 Таблица `users`:  тип данных столбцах `churn_date` и `reg_date` предлагается не менять;\n",
    "    \n",
    "    2.2 Таблица `calls`: \n",
    "    - столбец `call_date` - дата звонка - имеет тип `object`. Необходимо изменить тип данных `object` -> `datetime`;\n",
    "    - столбец `duration` — длительность звонка в минутах. По условиям тарифов, длительность каждого звонка округляется до целых значений в большую сторону, поэтому данные можно сразу округлить (в большую сторону) и привести к типу `int`;\n",
    "    \n",
    "    2.3 Таблица `messages`: в столбце `message_date` - дата сообщения - необходимо изменить тип данных `object` -> `datetime`;\n",
    "    \n",
    "    2.4 Таблица `internet`: столбец `session_date` - дата интернет-сессии - имеет тип `object`. Необходимо изменить тип данных `object` -> `datetime`;\n",
    "\n",
    "3. Далее переименуем столбцы:\n",
    "    * с датами `call_date`, `message_date`, `session_date` на `date`;\n",
    "    * с данными `mb_used`, `duration` на `value`.\n",
    "    \n",
    "4. Соединим таблицы `calls`, `messages`, `internet` в одну,\n",
    "5. Добавим расчетный столбец с номером месяца\n",
    "6. Дообогатим таблицу данными из `users` и `tariff`\n",
    "7. Произведем дополнительные расчеты:\n",
    "    * количество сделанных звонков и израсходованных минут разговора по месяцам;\n",
    "    * количество отправленных сообщений по месяцам;\n",
    "    * объем израсходованного интернет-трафика по месяцам;\n",
    "    * помесячную выручку с каждого пользователя (вычтите бесплатный лимит из суммарного количества звонков, сообщений и интернет-трафика; остаток умножьте на значение из тарифного плана; прибавьте абонентскую плату, соответствующую тарифному плану)."
   ]
  },
  {
   "cell_type": "markdown",
   "id": "fb92d40e",
   "metadata": {},
   "source": [
    "## Подготовка данных"
   ]
  },
  {
   "cell_type": "markdown",
   "id": "f5e260b8",
   "metadata": {},
   "source": [
    "### Замена типов данных, исправление ошибок"
   ]
  },
  {
   "cell_type": "markdown",
   "id": "e26fefed",
   "metadata": {},
   "source": [
    "* замена типа на `datetime` и `int` (для последнего округлим предварительно вверх значение столбца).\n",
    "* удаление столбца `Unnamed: 0` в датафрейме `df_internet`\n",
    "* переименуем столбцы:\n",
    "    - с датами `call_date`, `message_date`, `session_date` на `date`;\n",
    "    - с данными `mb_used`, `duration` на `value`.\n",
    "* дополнительно циклом добавим каждой таблице столбец-признак данных"
   ]
  },
  {
   "cell_type": "code",
   "execution_count": 3,
   "id": "e70a9e1d",
   "metadata": {
    "scrolled": true
   },
   "outputs": [],
   "source": [
    "# 1. в столбце duration методом apply округлим вверх и заменим тип данных на Int\n",
    "df_calls['duration'] = df_calls['duration'].apply(np.ceil).astype(int)\n",
    "\n",
    "# 2. Удаление столбца `Unnamed: 0` в датафрейме df_internet\n",
    "df_internet = df_internet.drop(['Unnamed: 0'], axis=1)"
   ]
  },
  {
   "cell_type": "code",
   "execution_count": 4,
   "id": "2d59f4d1",
   "metadata": {},
   "outputs": [],
   "source": [
    "# циклом пройдем по необходимым столбцам таблиц для замены на тип datetime и добавим столбец-признак данных\n",
    "table = [df_calls, df_internet, df_message] # перечень исходных таблиц\n",
    "column_date = ['call_date', 'session_date', 'message_date'] # перечень столбцов для замены типа данных\n",
    "table_type = ['звонок', 'интернет', 'сообщение'] # перечень столбцов-признаков данных\n",
    "column_name_new = [['id', 'date', 'value', 'user_id'], \n",
    "                   ['id', 'value', 'date', 'user_id'],\n",
    "                   ['id', 'date', 'user_id']] # перечень наименований новых столбцов\n",
    "\n",
    "for index in range(len(table)):\n",
    "    \n",
    "    # изменение типа данных столбца на datetime\n",
    "    table[index][column_date[index]] = pd.to_datetime(table[index][column_date[index]], format='%Y-%m-%d')\n",
    "    \n",
    "    # переименуем столбцы\n",
    "    table[index].columns=column_name_new[index]\n",
    "    \n",
    "    # добавление столбца-признака данных\n",
    "    table[index]['type'] = table_type[index]"
   ]
  },
  {
   "cell_type": "markdown",
   "id": "2b6902d8",
   "metadata": {},
   "source": [
    "### Объединение таблиц"
   ]
  },
  {
   "cell_type": "markdown",
   "id": "8231a3e8",
   "metadata": {},
   "source": [
    "Соединим таблицы с информацией о звонках, смс и интернет-сессиях в один датафрейм, дообогатим его информацией о пользовательских тарифных планах:\n",
    "* с помощью метода `.concat()` соберем 3 таблицы (`df_calls`, `df_messages`, `df_internet`) в одну\n",
    "* в столбце `value` пропуски заполним на `1`, т.к. там остались пропуски от таблицы `df_messages` с отправленными сообщениями\n",
    "* добавим номер месяца по дате\n",
    "* добавим инфо о пользователях из таблиц `users` c помощью метода `.merge`"
   ]
  },
  {
   "cell_type": "code",
   "execution_count": 5,
   "id": "c2e1bde2",
   "metadata": {},
   "outputs": [
    {
     "data": {
      "text/html": [
       "<div>\n",
       "<style scoped>\n",
       "    .dataframe tbody tr th:only-of-type {\n",
       "        vertical-align: middle;\n",
       "    }\n",
       "\n",
       "    .dataframe tbody tr th {\n",
       "        vertical-align: top;\n",
       "    }\n",
       "\n",
       "    .dataframe thead th {\n",
       "        text-align: right;\n",
       "    }\n",
       "</style>\n",
       "<table border=\"1\" class=\"dataframe\">\n",
       "  <thead>\n",
       "    <tr style=\"text-align: right;\">\n",
       "      <th></th>\n",
       "      <th>id</th>\n",
       "      <th>date</th>\n",
       "      <th>value</th>\n",
       "      <th>user_id</th>\n",
       "      <th>type</th>\n",
       "      <th>month</th>\n",
       "      <th>age</th>\n",
       "      <th>churn_date</th>\n",
       "      <th>city</th>\n",
       "      <th>first_name</th>\n",
       "      <th>last_name</th>\n",
       "      <th>reg_date</th>\n",
       "      <th>tariff</th>\n",
       "    </tr>\n",
       "  </thead>\n",
       "  <tbody>\n",
       "    <tr>\n",
       "      <td>0</td>\n",
       "      <td>1000_0</td>\n",
       "      <td>2018-07-25</td>\n",
       "      <td>0.0</td>\n",
       "      <td>1000</td>\n",
       "      <td>звонок</td>\n",
       "      <td>7</td>\n",
       "      <td>52</td>\n",
       "      <td>NaN</td>\n",
       "      <td>Краснодар</td>\n",
       "      <td>Рафаил</td>\n",
       "      <td>Верещагин</td>\n",
       "      <td>2018-05-25</td>\n",
       "      <td>ultra</td>\n",
       "    </tr>\n",
       "    <tr>\n",
       "      <td>1</td>\n",
       "      <td>1000_1</td>\n",
       "      <td>2018-08-17</td>\n",
       "      <td>0.0</td>\n",
       "      <td>1000</td>\n",
       "      <td>звонок</td>\n",
       "      <td>8</td>\n",
       "      <td>52</td>\n",
       "      <td>NaN</td>\n",
       "      <td>Краснодар</td>\n",
       "      <td>Рафаил</td>\n",
       "      <td>Верещагин</td>\n",
       "      <td>2018-05-25</td>\n",
       "      <td>ultra</td>\n",
       "    </tr>\n",
       "    <tr>\n",
       "      <td>2</td>\n",
       "      <td>1000_2</td>\n",
       "      <td>2018-06-11</td>\n",
       "      <td>3.0</td>\n",
       "      <td>1000</td>\n",
       "      <td>звонок</td>\n",
       "      <td>6</td>\n",
       "      <td>52</td>\n",
       "      <td>NaN</td>\n",
       "      <td>Краснодар</td>\n",
       "      <td>Рафаил</td>\n",
       "      <td>Верещагин</td>\n",
       "      <td>2018-05-25</td>\n",
       "      <td>ultra</td>\n",
       "    </tr>\n",
       "    <tr>\n",
       "      <td>3</td>\n",
       "      <td>1000_3</td>\n",
       "      <td>2018-09-21</td>\n",
       "      <td>14.0</td>\n",
       "      <td>1000</td>\n",
       "      <td>звонок</td>\n",
       "      <td>9</td>\n",
       "      <td>52</td>\n",
       "      <td>NaN</td>\n",
       "      <td>Краснодар</td>\n",
       "      <td>Рафаил</td>\n",
       "      <td>Верещагин</td>\n",
       "      <td>2018-05-25</td>\n",
       "      <td>ultra</td>\n",
       "    </tr>\n",
       "    <tr>\n",
       "      <td>4</td>\n",
       "      <td>1000_4</td>\n",
       "      <td>2018-12-15</td>\n",
       "      <td>6.0</td>\n",
       "      <td>1000</td>\n",
       "      <td>звонок</td>\n",
       "      <td>12</td>\n",
       "      <td>52</td>\n",
       "      <td>NaN</td>\n",
       "      <td>Краснодар</td>\n",
       "      <td>Рафаил</td>\n",
       "      <td>Верещагин</td>\n",
       "      <td>2018-05-25</td>\n",
       "      <td>ultra</td>\n",
       "    </tr>\n",
       "    <tr>\n",
       "      <td>...</td>\n",
       "      <td>...</td>\n",
       "      <td>...</td>\n",
       "      <td>...</td>\n",
       "      <td>...</td>\n",
       "      <td>...</td>\n",
       "      <td>...</td>\n",
       "      <td>...</td>\n",
       "      <td>...</td>\n",
       "      <td>...</td>\n",
       "      <td>...</td>\n",
       "      <td>...</td>\n",
       "      <td>...</td>\n",
       "      <td>...</td>\n",
       "    </tr>\n",
       "    <tr>\n",
       "      <td>475034</td>\n",
       "      <td>1499_179</td>\n",
       "      <td>2018-12-12</td>\n",
       "      <td>1.0</td>\n",
       "      <td>1499</td>\n",
       "      <td>сообщение</td>\n",
       "      <td>12</td>\n",
       "      <td>35</td>\n",
       "      <td>NaN</td>\n",
       "      <td>Пермь</td>\n",
       "      <td>Гектор</td>\n",
       "      <td>Корнилов</td>\n",
       "      <td>2018-09-27</td>\n",
       "      <td>smart</td>\n",
       "    </tr>\n",
       "    <tr>\n",
       "      <td>475035</td>\n",
       "      <td>1499_180</td>\n",
       "      <td>2018-09-28</td>\n",
       "      <td>1.0</td>\n",
       "      <td>1499</td>\n",
       "      <td>сообщение</td>\n",
       "      <td>9</td>\n",
       "      <td>35</td>\n",
       "      <td>NaN</td>\n",
       "      <td>Пермь</td>\n",
       "      <td>Гектор</td>\n",
       "      <td>Корнилов</td>\n",
       "      <td>2018-09-27</td>\n",
       "      <td>smart</td>\n",
       "    </tr>\n",
       "    <tr>\n",
       "      <td>475036</td>\n",
       "      <td>1499_181</td>\n",
       "      <td>2018-09-27</td>\n",
       "      <td>1.0</td>\n",
       "      <td>1499</td>\n",
       "      <td>сообщение</td>\n",
       "      <td>9</td>\n",
       "      <td>35</td>\n",
       "      <td>NaN</td>\n",
       "      <td>Пермь</td>\n",
       "      <td>Гектор</td>\n",
       "      <td>Корнилов</td>\n",
       "      <td>2018-09-27</td>\n",
       "      <td>smart</td>\n",
       "    </tr>\n",
       "    <tr>\n",
       "      <td>475037</td>\n",
       "      <td>1499_182</td>\n",
       "      <td>2018-11-15</td>\n",
       "      <td>1.0</td>\n",
       "      <td>1499</td>\n",
       "      <td>сообщение</td>\n",
       "      <td>11</td>\n",
       "      <td>35</td>\n",
       "      <td>NaN</td>\n",
       "      <td>Пермь</td>\n",
       "      <td>Гектор</td>\n",
       "      <td>Корнилов</td>\n",
       "      <td>2018-09-27</td>\n",
       "      <td>smart</td>\n",
       "    </tr>\n",
       "    <tr>\n",
       "      <td>475038</td>\n",
       "      <td>1499_183</td>\n",
       "      <td>2018-11-16</td>\n",
       "      <td>1.0</td>\n",
       "      <td>1499</td>\n",
       "      <td>сообщение</td>\n",
       "      <td>11</td>\n",
       "      <td>35</td>\n",
       "      <td>NaN</td>\n",
       "      <td>Пермь</td>\n",
       "      <td>Гектор</td>\n",
       "      <td>Корнилов</td>\n",
       "      <td>2018-09-27</td>\n",
       "      <td>smart</td>\n",
       "    </tr>\n",
       "  </tbody>\n",
       "</table>\n",
       "<p>475039 rows × 13 columns</p>\n",
       "</div>"
      ],
      "text/plain": [
       "              id       date  value  user_id       type  month  age churn_date  \\\n",
       "0         1000_0 2018-07-25    0.0     1000     звонок      7   52        NaN   \n",
       "1         1000_1 2018-08-17    0.0     1000     звонок      8   52        NaN   \n",
       "2         1000_2 2018-06-11    3.0     1000     звонок      6   52        NaN   \n",
       "3         1000_3 2018-09-21   14.0     1000     звонок      9   52        NaN   \n",
       "4         1000_4 2018-12-15    6.0     1000     звонок     12   52        NaN   \n",
       "...          ...        ...    ...      ...        ...    ...  ...        ...   \n",
       "475034  1499_179 2018-12-12    1.0     1499  сообщение     12   35        NaN   \n",
       "475035  1499_180 2018-09-28    1.0     1499  сообщение      9   35        NaN   \n",
       "475036  1499_181 2018-09-27    1.0     1499  сообщение      9   35        NaN   \n",
       "475037  1499_182 2018-11-15    1.0     1499  сообщение     11   35        NaN   \n",
       "475038  1499_183 2018-11-16    1.0     1499  сообщение     11   35        NaN   \n",
       "\n",
       "             city first_name  last_name    reg_date tariff  \n",
       "0       Краснодар     Рафаил  Верещагин  2018-05-25  ultra  \n",
       "1       Краснодар     Рафаил  Верещагин  2018-05-25  ultra  \n",
       "2       Краснодар     Рафаил  Верещагин  2018-05-25  ultra  \n",
       "3       Краснодар     Рафаил  Верещагин  2018-05-25  ultra  \n",
       "4       Краснодар     Рафаил  Верещагин  2018-05-25  ultra  \n",
       "...           ...        ...        ...         ...    ...  \n",
       "475034      Пермь     Гектор   Корнилов  2018-09-27  smart  \n",
       "475035      Пермь     Гектор   Корнилов  2018-09-27  smart  \n",
       "475036      Пермь     Гектор   Корнилов  2018-09-27  smart  \n",
       "475037      Пермь     Гектор   Корнилов  2018-09-27  smart  \n",
       "475038      Пермь     Гектор   Корнилов  2018-09-27  smart  \n",
       "\n",
       "[475039 rows x 13 columns]"
      ]
     },
     "execution_count": 5,
     "metadata": {},
     "output_type": "execute_result"
    }
   ],
   "source": [
    "# с помощью метода .concat() соберем 3 таблицы (df_calls, df_messages, df_internet) в одну\n",
    "df = pd.concat(table, sort=False, ignore_index=False)\n",
    "\n",
    "# в столбце value пропуски заполним на 1, т.к. там остались пропуски от таблицы df_messages с отправленными сообщениями\n",
    "df['value'] = df['value'].fillna(1)\n",
    "\n",
    "# добавим номер месяца по дате\n",
    "df['month'] = df['date'].dt.month\n",
    "\n",
    "# добавим инфо о пользователях из таблиц users c помощью метода .merge\n",
    "df = df.merge(df_users, how='left', on='user_id')\n",
    "df"
   ]
  },
  {
   "cell_type": "markdown",
   "id": "682a836c",
   "metadata": {},
   "source": [
    "### Выполнение дополнительных расчетов"
   ]
  },
  {
   "cell_type": "markdown",
   "id": "46b48fe3",
   "metadata": {},
   "source": [
    "С помощью сводной таблицы рассчитаем:\n",
    "* количество сделанных звонков и израсходованных минут разговора по месяцам;\n",
    "* количество отправленных сообщений по месяцам;\n",
    "* объем израсходованного интернет-трафика по месяцам;\n",
    "\n",
    "Из таблицы `tariffs` получим информацию по тарифу и добавим в сводную таблицу, рассчитаем:\n",
    "* помесячную выручку с каждого пользователя (вычтите бесплатный лимит из суммарного количества звонков, сообщений и интернет-трафика; остаток умножьте на значение из тарифного плана; прибавьте абонентскую плату, соответствующую тарифному плану)."
   ]
  },
  {
   "cell_type": "code",
   "execution_count": 6,
   "id": "06e0408d",
   "metadata": {},
   "outputs": [
    {
     "data": {
      "text/html": [
       "<div>\n",
       "<style scoped>\n",
       "    .dataframe tbody tr th:only-of-type {\n",
       "        vertical-align: middle;\n",
       "    }\n",
       "\n",
       "    .dataframe tbody tr th {\n",
       "        vertical-align: top;\n",
       "    }\n",
       "\n",
       "    .dataframe thead th {\n",
       "        text-align: right;\n",
       "    }\n",
       "</style>\n",
       "<table border=\"1\" class=\"dataframe\">\n",
       "  <thead>\n",
       "    <tr style=\"text-align: right;\">\n",
       "      <th></th>\n",
       "      <th></th>\n",
       "      <th></th>\n",
       "      <th>type</th>\n",
       "      <th>звонок</th>\n",
       "      <th>интернет</th>\n",
       "      <th>сообщение</th>\n",
       "    </tr>\n",
       "    <tr>\n",
       "      <th>user_id</th>\n",
       "      <th>city</th>\n",
       "      <th>month</th>\n",
       "      <th>tariff</th>\n",
       "      <th></th>\n",
       "      <th></th>\n",
       "      <th></th>\n",
       "    </tr>\n",
       "  </thead>\n",
       "  <tbody>\n",
       "    <tr>\n",
       "      <td rowspan=\"8\" valign=\"top\">1000</td>\n",
       "      <td rowspan=\"8\" valign=\"top\">Краснодар</td>\n",
       "      <td>5</td>\n",
       "      <td>ultra</td>\n",
       "      <td>159</td>\n",
       "      <td>2253.49</td>\n",
       "      <td>22</td>\n",
       "    </tr>\n",
       "    <tr>\n",
       "      <td>6</td>\n",
       "      <td>ultra</td>\n",
       "      <td>172</td>\n",
       "      <td>23233.77</td>\n",
       "      <td>60</td>\n",
       "    </tr>\n",
       "    <tr>\n",
       "      <td>7</td>\n",
       "      <td>ultra</td>\n",
       "      <td>340</td>\n",
       "      <td>14003.64</td>\n",
       "      <td>75</td>\n",
       "    </tr>\n",
       "    <tr>\n",
       "      <td>8</td>\n",
       "      <td>ultra</td>\n",
       "      <td>408</td>\n",
       "      <td>14055.93</td>\n",
       "      <td>81</td>\n",
       "    </tr>\n",
       "    <tr>\n",
       "      <td>9</td>\n",
       "      <td>ultra</td>\n",
       "      <td>466</td>\n",
       "      <td>14568.91</td>\n",
       "      <td>57</td>\n",
       "    </tr>\n",
       "    <tr>\n",
       "      <td>10</td>\n",
       "      <td>ultra</td>\n",
       "      <td>350</td>\n",
       "      <td>14702.49</td>\n",
       "      <td>73</td>\n",
       "    </tr>\n",
       "    <tr>\n",
       "      <td>11</td>\n",
       "      <td>ultra</td>\n",
       "      <td>338</td>\n",
       "      <td>14756.47</td>\n",
       "      <td>58</td>\n",
       "    </tr>\n",
       "    <tr>\n",
       "      <td>12</td>\n",
       "      <td>ultra</td>\n",
       "      <td>333</td>\n",
       "      <td>9817.61</td>\n",
       "      <td>70</td>\n",
       "    </tr>\n",
       "    <tr>\n",
       "      <td rowspan=\"2\" valign=\"top\">1001</td>\n",
       "      <td rowspan=\"2\" valign=\"top\">Москва</td>\n",
       "      <td>11</td>\n",
       "      <td>smart</td>\n",
       "      <td>430</td>\n",
       "      <td>18429.34</td>\n",
       "      <td>0</td>\n",
       "    </tr>\n",
       "    <tr>\n",
       "      <td>12</td>\n",
       "      <td>smart</td>\n",
       "      <td>414</td>\n",
       "      <td>14036.66</td>\n",
       "      <td>0</td>\n",
       "    </tr>\n",
       "    <tr>\n",
       "      <td rowspan=\"7\" valign=\"top\">1002</td>\n",
       "      <td rowspan=\"7\" valign=\"top\">Стерлитамак</td>\n",
       "      <td>6</td>\n",
       "      <td>smart</td>\n",
       "      <td>117</td>\n",
       "      <td>10856.82</td>\n",
       "      <td>4</td>\n",
       "    </tr>\n",
       "    <tr>\n",
       "      <td>7</td>\n",
       "      <td>smart</td>\n",
       "      <td>214</td>\n",
       "      <td>17580.10</td>\n",
       "      <td>11</td>\n",
       "    </tr>\n",
       "    <tr>\n",
       "      <td>8</td>\n",
       "      <td>smart</td>\n",
       "      <td>289</td>\n",
       "      <td>20319.26</td>\n",
       "      <td>13</td>\n",
       "    </tr>\n",
       "    <tr>\n",
       "      <td>9</td>\n",
       "      <td>smart</td>\n",
       "      <td>206</td>\n",
       "      <td>16691.08</td>\n",
       "      <td>4</td>\n",
       "    </tr>\n",
       "    <tr>\n",
       "      <td>10</td>\n",
       "      <td>smart</td>\n",
       "      <td>212</td>\n",
       "      <td>13888.25</td>\n",
       "      <td>10</td>\n",
       "    </tr>\n",
       "    <tr>\n",
       "      <td>11</td>\n",
       "      <td>smart</td>\n",
       "      <td>243</td>\n",
       "      <td>18587.28</td>\n",
       "      <td>16</td>\n",
       "    </tr>\n",
       "    <tr>\n",
       "      <td>12</td>\n",
       "      <td>smart</td>\n",
       "      <td>236</td>\n",
       "      <td>18113.73</td>\n",
       "      <td>12</td>\n",
       "    </tr>\n",
       "    <tr>\n",
       "      <td rowspan=\"3\" valign=\"top\">1003</td>\n",
       "      <td rowspan=\"3\" valign=\"top\">Москва</td>\n",
       "      <td>8</td>\n",
       "      <td>ultra</td>\n",
       "      <td>380</td>\n",
       "      <td>8565.21</td>\n",
       "      <td>37</td>\n",
       "    </tr>\n",
       "    <tr>\n",
       "      <td>9</td>\n",
       "      <td>ultra</td>\n",
       "      <td>961</td>\n",
       "      <td>12468.87</td>\n",
       "      <td>91</td>\n",
       "    </tr>\n",
       "    <tr>\n",
       "      <td>10</td>\n",
       "      <td>ultra</td>\n",
       "      <td>855</td>\n",
       "      <td>14768.14</td>\n",
       "      <td>83</td>\n",
       "    </tr>\n",
       "  </tbody>\n",
       "</table>\n",
       "</div>"
      ],
      "text/plain": [
       "type                              звонок  интернет  сообщение\n",
       "user_id city        month tariff                             \n",
       "1000    Краснодар   5     ultra      159   2253.49         22\n",
       "                    6     ultra      172  23233.77         60\n",
       "                    7     ultra      340  14003.64         75\n",
       "                    8     ultra      408  14055.93         81\n",
       "                    9     ultra      466  14568.91         57\n",
       "                    10    ultra      350  14702.49         73\n",
       "                    11    ultra      338  14756.47         58\n",
       "                    12    ultra      333   9817.61         70\n",
       "1001    Москва      11    smart      430  18429.34          0\n",
       "                    12    smart      414  14036.66          0\n",
       "1002    Стерлитамак 6     smart      117  10856.82          4\n",
       "                    7     smart      214  17580.10         11\n",
       "                    8     smart      289  20319.26         13\n",
       "                    9     smart      206  16691.08          4\n",
       "                    10    smart      212  13888.25         10\n",
       "                    11    smart      243  18587.28         16\n",
       "                    12    smart      236  18113.73         12\n",
       "1003    Москва      8     ultra      380   8565.21         37\n",
       "                    9     ultra      961  12468.87         91\n",
       "                    10    ultra      855  14768.14         83"
      ]
     },
     "execution_count": 6,
     "metadata": {},
     "output_type": "execute_result"
    }
   ],
   "source": [
    "# построим сводную таблицу\n",
    "df_pivot = pd.pivot_table(data=df, \n",
    "                          values='value', \n",
    "                          index=['user_id', 'city', 'month', 'tariff'], \n",
    "                          columns='type', \n",
    "                          aggfunc='sum',\n",
    "                          fill_value=0) # важный параметр!\n",
    "df_pivot.head(20)"
   ]
  },
  {
   "cell_type": "code",
   "execution_count": 7,
   "id": "e4612d0f",
   "metadata": {},
   "outputs": [
    {
     "data": {
      "text/html": [
       "<div>\n",
       "<style scoped>\n",
       "    .dataframe tbody tr th:only-of-type {\n",
       "        vertical-align: middle;\n",
       "    }\n",
       "\n",
       "    .dataframe tbody tr th {\n",
       "        vertical-align: top;\n",
       "    }\n",
       "\n",
       "    .dataframe thead th {\n",
       "        text-align: right;\n",
       "    }\n",
       "</style>\n",
       "<table border=\"1\" class=\"dataframe\">\n",
       "  <thead>\n",
       "    <tr style=\"text-align: right;\">\n",
       "      <th>type</th>\n",
       "      <th>user_id</th>\n",
       "      <th>city</th>\n",
       "      <th>month</th>\n",
       "      <th>tariff</th>\n",
       "      <th>звонок</th>\n",
       "      <th>интернет</th>\n",
       "      <th>сообщение</th>\n",
       "    </tr>\n",
       "  </thead>\n",
       "  <tbody>\n",
       "    <tr>\n",
       "      <td>0</td>\n",
       "      <td>1000</td>\n",
       "      <td>Краснодар</td>\n",
       "      <td>5</td>\n",
       "      <td>ultra</td>\n",
       "      <td>159</td>\n",
       "      <td>2253.49</td>\n",
       "      <td>22</td>\n",
       "    </tr>\n",
       "    <tr>\n",
       "      <td>1</td>\n",
       "      <td>1000</td>\n",
       "      <td>Краснодар</td>\n",
       "      <td>6</td>\n",
       "      <td>ultra</td>\n",
       "      <td>172</td>\n",
       "      <td>23233.77</td>\n",
       "      <td>60</td>\n",
       "    </tr>\n",
       "    <tr>\n",
       "      <td>2</td>\n",
       "      <td>1000</td>\n",
       "      <td>Краснодар</td>\n",
       "      <td>7</td>\n",
       "      <td>ultra</td>\n",
       "      <td>340</td>\n",
       "      <td>14003.64</td>\n",
       "      <td>75</td>\n",
       "    </tr>\n",
       "    <tr>\n",
       "      <td>3</td>\n",
       "      <td>1000</td>\n",
       "      <td>Краснодар</td>\n",
       "      <td>8</td>\n",
       "      <td>ultra</td>\n",
       "      <td>408</td>\n",
       "      <td>14055.93</td>\n",
       "      <td>81</td>\n",
       "    </tr>\n",
       "    <tr>\n",
       "      <td>4</td>\n",
       "      <td>1000</td>\n",
       "      <td>Краснодар</td>\n",
       "      <td>9</td>\n",
       "      <td>ultra</td>\n",
       "      <td>466</td>\n",
       "      <td>14568.91</td>\n",
       "      <td>57</td>\n",
       "    </tr>\n",
       "    <tr>\n",
       "      <td>...</td>\n",
       "      <td>...</td>\n",
       "      <td>...</td>\n",
       "      <td>...</td>\n",
       "      <td>...</td>\n",
       "      <td>...</td>\n",
       "      <td>...</td>\n",
       "      <td>...</td>\n",
       "    </tr>\n",
       "    <tr>\n",
       "      <td>3209</td>\n",
       "      <td>1498</td>\n",
       "      <td>Владикавказ</td>\n",
       "      <td>10</td>\n",
       "      <td>smart</td>\n",
       "      <td>247</td>\n",
       "      <td>20579.36</td>\n",
       "      <td>42</td>\n",
       "    </tr>\n",
       "    <tr>\n",
       "      <td>3210</td>\n",
       "      <td>1499</td>\n",
       "      <td>Пермь</td>\n",
       "      <td>9</td>\n",
       "      <td>smart</td>\n",
       "      <td>70</td>\n",
       "      <td>1845.75</td>\n",
       "      <td>11</td>\n",
       "    </tr>\n",
       "    <tr>\n",
       "      <td>3211</td>\n",
       "      <td>1499</td>\n",
       "      <td>Пермь</td>\n",
       "      <td>10</td>\n",
       "      <td>smart</td>\n",
       "      <td>449</td>\n",
       "      <td>17788.51</td>\n",
       "      <td>48</td>\n",
       "    </tr>\n",
       "    <tr>\n",
       "      <td>3212</td>\n",
       "      <td>1499</td>\n",
       "      <td>Пермь</td>\n",
       "      <td>11</td>\n",
       "      <td>smart</td>\n",
       "      <td>612</td>\n",
       "      <td>17963.31</td>\n",
       "      <td>59</td>\n",
       "    </tr>\n",
       "    <tr>\n",
       "      <td>3213</td>\n",
       "      <td>1499</td>\n",
       "      <td>Пермь</td>\n",
       "      <td>12</td>\n",
       "      <td>smart</td>\n",
       "      <td>492</td>\n",
       "      <td>13055.58</td>\n",
       "      <td>66</td>\n",
       "    </tr>\n",
       "  </tbody>\n",
       "</table>\n",
       "<p>3214 rows × 7 columns</p>\n",
       "</div>"
      ],
      "text/plain": [
       "type  user_id         city  month tariff  звонок  интернет  сообщение\n",
       "0        1000    Краснодар      5  ultra     159   2253.49         22\n",
       "1        1000    Краснодар      6  ultra     172  23233.77         60\n",
       "2        1000    Краснодар      7  ultra     340  14003.64         75\n",
       "3        1000    Краснодар      8  ultra     408  14055.93         81\n",
       "4        1000    Краснодар      9  ultra     466  14568.91         57\n",
       "...       ...          ...    ...    ...     ...       ...        ...\n",
       "3209     1498  Владикавказ     10  smart     247  20579.36         42\n",
       "3210     1499        Пермь      9  smart      70   1845.75         11\n",
       "3211     1499        Пермь     10  smart     449  17788.51         48\n",
       "3212     1499        Пермь     11  smart     612  17963.31         59\n",
       "3213     1499        Пермь     12  smart     492  13055.58         66\n",
       "\n",
       "[3214 rows x 7 columns]"
      ]
     },
     "execution_count": 7,
     "metadata": {},
     "output_type": "execute_result"
    }
   ],
   "source": [
    "# превратим сводную в датафрейм\n",
    "df_pivot = df_pivot.reset_index()\n",
    "df_pivot"
   ]
  },
  {
   "cell_type": "code",
   "execution_count": 8,
   "id": "0d9e7353",
   "metadata": {
    "scrolled": false
   },
   "outputs": [
    {
     "data": {
      "text/html": [
       "<div>\n",
       "<style scoped>\n",
       "    .dataframe tbody tr th:only-of-type {\n",
       "        vertical-align: middle;\n",
       "    }\n",
       "\n",
       "    .dataframe tbody tr th {\n",
       "        vertical-align: top;\n",
       "    }\n",
       "\n",
       "    .dataframe thead th {\n",
       "        text-align: right;\n",
       "    }\n",
       "</style>\n",
       "<table border=\"1\" class=\"dataframe\">\n",
       "  <thead>\n",
       "    <tr style=\"text-align: right;\">\n",
       "      <th></th>\n",
       "      <th>user_id</th>\n",
       "      <th>city</th>\n",
       "      <th>month</th>\n",
       "      <th>tariff</th>\n",
       "      <th>звонок</th>\n",
       "      <th>интернет</th>\n",
       "      <th>сообщение</th>\n",
       "      <th>messages_included</th>\n",
       "      <th>mb_per_month_included</th>\n",
       "      <th>minutes_included</th>\n",
       "      <th>rub_monthly_fee</th>\n",
       "      <th>rub_per_gb</th>\n",
       "      <th>rub_per_message</th>\n",
       "      <th>rub_per_minute</th>\n",
       "      <th>tariff_name</th>\n",
       "    </tr>\n",
       "  </thead>\n",
       "  <tbody>\n",
       "    <tr>\n",
       "      <td>0</td>\n",
       "      <td>1000</td>\n",
       "      <td>Краснодар</td>\n",
       "      <td>5</td>\n",
       "      <td>ultra</td>\n",
       "      <td>159</td>\n",
       "      <td>2253.49</td>\n",
       "      <td>22</td>\n",
       "      <td>1000</td>\n",
       "      <td>30720</td>\n",
       "      <td>3000</td>\n",
       "      <td>1950</td>\n",
       "      <td>150</td>\n",
       "      <td>1</td>\n",
       "      <td>1</td>\n",
       "      <td>ultra</td>\n",
       "    </tr>\n",
       "    <tr>\n",
       "      <td>1</td>\n",
       "      <td>1000</td>\n",
       "      <td>Краснодар</td>\n",
       "      <td>6</td>\n",
       "      <td>ultra</td>\n",
       "      <td>172</td>\n",
       "      <td>23233.77</td>\n",
       "      <td>60</td>\n",
       "      <td>1000</td>\n",
       "      <td>30720</td>\n",
       "      <td>3000</td>\n",
       "      <td>1950</td>\n",
       "      <td>150</td>\n",
       "      <td>1</td>\n",
       "      <td>1</td>\n",
       "      <td>ultra</td>\n",
       "    </tr>\n",
       "    <tr>\n",
       "      <td>2</td>\n",
       "      <td>1000</td>\n",
       "      <td>Краснодар</td>\n",
       "      <td>7</td>\n",
       "      <td>ultra</td>\n",
       "      <td>340</td>\n",
       "      <td>14003.64</td>\n",
       "      <td>75</td>\n",
       "      <td>1000</td>\n",
       "      <td>30720</td>\n",
       "      <td>3000</td>\n",
       "      <td>1950</td>\n",
       "      <td>150</td>\n",
       "      <td>1</td>\n",
       "      <td>1</td>\n",
       "      <td>ultra</td>\n",
       "    </tr>\n",
       "    <tr>\n",
       "      <td>3</td>\n",
       "      <td>1000</td>\n",
       "      <td>Краснодар</td>\n",
       "      <td>8</td>\n",
       "      <td>ultra</td>\n",
       "      <td>408</td>\n",
       "      <td>14055.93</td>\n",
       "      <td>81</td>\n",
       "      <td>1000</td>\n",
       "      <td>30720</td>\n",
       "      <td>3000</td>\n",
       "      <td>1950</td>\n",
       "      <td>150</td>\n",
       "      <td>1</td>\n",
       "      <td>1</td>\n",
       "      <td>ultra</td>\n",
       "    </tr>\n",
       "    <tr>\n",
       "      <td>4</td>\n",
       "      <td>1000</td>\n",
       "      <td>Краснодар</td>\n",
       "      <td>9</td>\n",
       "      <td>ultra</td>\n",
       "      <td>466</td>\n",
       "      <td>14568.91</td>\n",
       "      <td>57</td>\n",
       "      <td>1000</td>\n",
       "      <td>30720</td>\n",
       "      <td>3000</td>\n",
       "      <td>1950</td>\n",
       "      <td>150</td>\n",
       "      <td>1</td>\n",
       "      <td>1</td>\n",
       "      <td>ultra</td>\n",
       "    </tr>\n",
       "    <tr>\n",
       "      <td>...</td>\n",
       "      <td>...</td>\n",
       "      <td>...</td>\n",
       "      <td>...</td>\n",
       "      <td>...</td>\n",
       "      <td>...</td>\n",
       "      <td>...</td>\n",
       "      <td>...</td>\n",
       "      <td>...</td>\n",
       "      <td>...</td>\n",
       "      <td>...</td>\n",
       "      <td>...</td>\n",
       "      <td>...</td>\n",
       "      <td>...</td>\n",
       "      <td>...</td>\n",
       "      <td>...</td>\n",
       "    </tr>\n",
       "    <tr>\n",
       "      <td>3209</td>\n",
       "      <td>1498</td>\n",
       "      <td>Владикавказ</td>\n",
       "      <td>10</td>\n",
       "      <td>smart</td>\n",
       "      <td>247</td>\n",
       "      <td>20579.36</td>\n",
       "      <td>42</td>\n",
       "      <td>50</td>\n",
       "      <td>15360</td>\n",
       "      <td>500</td>\n",
       "      <td>550</td>\n",
       "      <td>200</td>\n",
       "      <td>3</td>\n",
       "      <td>3</td>\n",
       "      <td>smart</td>\n",
       "    </tr>\n",
       "    <tr>\n",
       "      <td>3210</td>\n",
       "      <td>1499</td>\n",
       "      <td>Пермь</td>\n",
       "      <td>9</td>\n",
       "      <td>smart</td>\n",
       "      <td>70</td>\n",
       "      <td>1845.75</td>\n",
       "      <td>11</td>\n",
       "      <td>50</td>\n",
       "      <td>15360</td>\n",
       "      <td>500</td>\n",
       "      <td>550</td>\n",
       "      <td>200</td>\n",
       "      <td>3</td>\n",
       "      <td>3</td>\n",
       "      <td>smart</td>\n",
       "    </tr>\n",
       "    <tr>\n",
       "      <td>3211</td>\n",
       "      <td>1499</td>\n",
       "      <td>Пермь</td>\n",
       "      <td>10</td>\n",
       "      <td>smart</td>\n",
       "      <td>449</td>\n",
       "      <td>17788.51</td>\n",
       "      <td>48</td>\n",
       "      <td>50</td>\n",
       "      <td>15360</td>\n",
       "      <td>500</td>\n",
       "      <td>550</td>\n",
       "      <td>200</td>\n",
       "      <td>3</td>\n",
       "      <td>3</td>\n",
       "      <td>smart</td>\n",
       "    </tr>\n",
       "    <tr>\n",
       "      <td>3212</td>\n",
       "      <td>1499</td>\n",
       "      <td>Пермь</td>\n",
       "      <td>11</td>\n",
       "      <td>smart</td>\n",
       "      <td>612</td>\n",
       "      <td>17963.31</td>\n",
       "      <td>59</td>\n",
       "      <td>50</td>\n",
       "      <td>15360</td>\n",
       "      <td>500</td>\n",
       "      <td>550</td>\n",
       "      <td>200</td>\n",
       "      <td>3</td>\n",
       "      <td>3</td>\n",
       "      <td>smart</td>\n",
       "    </tr>\n",
       "    <tr>\n",
       "      <td>3213</td>\n",
       "      <td>1499</td>\n",
       "      <td>Пермь</td>\n",
       "      <td>12</td>\n",
       "      <td>smart</td>\n",
       "      <td>492</td>\n",
       "      <td>13055.58</td>\n",
       "      <td>66</td>\n",
       "      <td>50</td>\n",
       "      <td>15360</td>\n",
       "      <td>500</td>\n",
       "      <td>550</td>\n",
       "      <td>200</td>\n",
       "      <td>3</td>\n",
       "      <td>3</td>\n",
       "      <td>smart</td>\n",
       "    </tr>\n",
       "  </tbody>\n",
       "</table>\n",
       "<p>3214 rows × 15 columns</p>\n",
       "</div>"
      ],
      "text/plain": [
       "      user_id         city  month tariff  звонок  интернет  сообщение  \\\n",
       "0        1000    Краснодар      5  ultra     159   2253.49         22   \n",
       "1        1000    Краснодар      6  ultra     172  23233.77         60   \n",
       "2        1000    Краснодар      7  ultra     340  14003.64         75   \n",
       "3        1000    Краснодар      8  ultra     408  14055.93         81   \n",
       "4        1000    Краснодар      9  ultra     466  14568.91         57   \n",
       "...       ...          ...    ...    ...     ...       ...        ...   \n",
       "3209     1498  Владикавказ     10  smart     247  20579.36         42   \n",
       "3210     1499        Пермь      9  smart      70   1845.75         11   \n",
       "3211     1499        Пермь     10  smart     449  17788.51         48   \n",
       "3212     1499        Пермь     11  smart     612  17963.31         59   \n",
       "3213     1499        Пермь     12  smart     492  13055.58         66   \n",
       "\n",
       "      messages_included  mb_per_month_included  minutes_included  \\\n",
       "0                  1000                  30720              3000   \n",
       "1                  1000                  30720              3000   \n",
       "2                  1000                  30720              3000   \n",
       "3                  1000                  30720              3000   \n",
       "4                  1000                  30720              3000   \n",
       "...                 ...                    ...               ...   \n",
       "3209                 50                  15360               500   \n",
       "3210                 50                  15360               500   \n",
       "3211                 50                  15360               500   \n",
       "3212                 50                  15360               500   \n",
       "3213                 50                  15360               500   \n",
       "\n",
       "      rub_monthly_fee  rub_per_gb  rub_per_message  rub_per_minute tariff_name  \n",
       "0                1950         150                1               1       ultra  \n",
       "1                1950         150                1               1       ultra  \n",
       "2                1950         150                1               1       ultra  \n",
       "3                1950         150                1               1       ultra  \n",
       "4                1950         150                1               1       ultra  \n",
       "...               ...         ...              ...             ...         ...  \n",
       "3209              550         200                3               3       smart  \n",
       "3210              550         200                3               3       smart  \n",
       "3211              550         200                3               3       smart  \n",
       "3212              550         200                3               3       smart  \n",
       "3213              550         200                3               3       smart  \n",
       "\n",
       "[3214 rows x 15 columns]"
      ]
     },
     "execution_count": 8,
     "metadata": {},
     "output_type": "execute_result"
    }
   ],
   "source": [
    "# добавим информацию о тарифе c помощью метода .merge\n",
    "df_pivot = df_pivot.merge(df_tariff, how='left', left_on='tariff', right_on='tariff_name')\n",
    "df_pivot"
   ]
  },
  {
   "cell_type": "code",
   "execution_count": 9,
   "id": "5748e804",
   "metadata": {},
   "outputs": [
    {
     "data": {
      "text/html": [
       "<div>\n",
       "<style scoped>\n",
       "    .dataframe tbody tr th:only-of-type {\n",
       "        vertical-align: middle;\n",
       "    }\n",
       "\n",
       "    .dataframe tbody tr th {\n",
       "        vertical-align: top;\n",
       "    }\n",
       "\n",
       "    .dataframe thead th {\n",
       "        text-align: right;\n",
       "    }\n",
       "</style>\n",
       "<table border=\"1\" class=\"dataframe\">\n",
       "  <thead>\n",
       "    <tr style=\"text-align: right;\">\n",
       "      <th></th>\n",
       "      <th>user_id</th>\n",
       "      <th>city</th>\n",
       "      <th>month</th>\n",
       "      <th>tariff</th>\n",
       "      <th>звонок</th>\n",
       "      <th>интернет</th>\n",
       "      <th>сообщение</th>\n",
       "      <th>messages_included</th>\n",
       "      <th>mb_per_month_included</th>\n",
       "      <th>minutes_included</th>\n",
       "      <th>rub_monthly_fee</th>\n",
       "      <th>rub_per_gb</th>\n",
       "      <th>rub_per_message</th>\n",
       "      <th>rub_per_minute</th>\n",
       "      <th>tariff_name</th>\n",
       "      <th>revenue</th>\n",
       "    </tr>\n",
       "  </thead>\n",
       "  <tbody>\n",
       "    <tr>\n",
       "      <td>0</td>\n",
       "      <td>1000</td>\n",
       "      <td>Краснодар</td>\n",
       "      <td>5</td>\n",
       "      <td>ultra</td>\n",
       "      <td>159</td>\n",
       "      <td>2253.49</td>\n",
       "      <td>22</td>\n",
       "      <td>1000</td>\n",
       "      <td>30720</td>\n",
       "      <td>3000</td>\n",
       "      <td>1950</td>\n",
       "      <td>150</td>\n",
       "      <td>1</td>\n",
       "      <td>1</td>\n",
       "      <td>ultra</td>\n",
       "      <td>1950.0</td>\n",
       "    </tr>\n",
       "    <tr>\n",
       "      <td>1</td>\n",
       "      <td>1000</td>\n",
       "      <td>Краснодар</td>\n",
       "      <td>6</td>\n",
       "      <td>ultra</td>\n",
       "      <td>172</td>\n",
       "      <td>23233.77</td>\n",
       "      <td>60</td>\n",
       "      <td>1000</td>\n",
       "      <td>30720</td>\n",
       "      <td>3000</td>\n",
       "      <td>1950</td>\n",
       "      <td>150</td>\n",
       "      <td>1</td>\n",
       "      <td>1</td>\n",
       "      <td>ultra</td>\n",
       "      <td>1950.0</td>\n",
       "    </tr>\n",
       "    <tr>\n",
       "      <td>2</td>\n",
       "      <td>1000</td>\n",
       "      <td>Краснодар</td>\n",
       "      <td>7</td>\n",
       "      <td>ultra</td>\n",
       "      <td>340</td>\n",
       "      <td>14003.64</td>\n",
       "      <td>75</td>\n",
       "      <td>1000</td>\n",
       "      <td>30720</td>\n",
       "      <td>3000</td>\n",
       "      <td>1950</td>\n",
       "      <td>150</td>\n",
       "      <td>1</td>\n",
       "      <td>1</td>\n",
       "      <td>ultra</td>\n",
       "      <td>1950.0</td>\n",
       "    </tr>\n",
       "    <tr>\n",
       "      <td>3</td>\n",
       "      <td>1000</td>\n",
       "      <td>Краснодар</td>\n",
       "      <td>8</td>\n",
       "      <td>ultra</td>\n",
       "      <td>408</td>\n",
       "      <td>14055.93</td>\n",
       "      <td>81</td>\n",
       "      <td>1000</td>\n",
       "      <td>30720</td>\n",
       "      <td>3000</td>\n",
       "      <td>1950</td>\n",
       "      <td>150</td>\n",
       "      <td>1</td>\n",
       "      <td>1</td>\n",
       "      <td>ultra</td>\n",
       "      <td>1950.0</td>\n",
       "    </tr>\n",
       "    <tr>\n",
       "      <td>4</td>\n",
       "      <td>1000</td>\n",
       "      <td>Краснодар</td>\n",
       "      <td>9</td>\n",
       "      <td>ultra</td>\n",
       "      <td>466</td>\n",
       "      <td>14568.91</td>\n",
       "      <td>57</td>\n",
       "      <td>1000</td>\n",
       "      <td>30720</td>\n",
       "      <td>3000</td>\n",
       "      <td>1950</td>\n",
       "      <td>150</td>\n",
       "      <td>1</td>\n",
       "      <td>1</td>\n",
       "      <td>ultra</td>\n",
       "      <td>1950.0</td>\n",
       "    </tr>\n",
       "    <tr>\n",
       "      <td>...</td>\n",
       "      <td>...</td>\n",
       "      <td>...</td>\n",
       "      <td>...</td>\n",
       "      <td>...</td>\n",
       "      <td>...</td>\n",
       "      <td>...</td>\n",
       "      <td>...</td>\n",
       "      <td>...</td>\n",
       "      <td>...</td>\n",
       "      <td>...</td>\n",
       "      <td>...</td>\n",
       "      <td>...</td>\n",
       "      <td>...</td>\n",
       "      <td>...</td>\n",
       "      <td>...</td>\n",
       "      <td>...</td>\n",
       "    </tr>\n",
       "    <tr>\n",
       "      <td>3209</td>\n",
       "      <td>1498</td>\n",
       "      <td>Владикавказ</td>\n",
       "      <td>10</td>\n",
       "      <td>smart</td>\n",
       "      <td>247</td>\n",
       "      <td>20579.36</td>\n",
       "      <td>42</td>\n",
       "      <td>50</td>\n",
       "      <td>15360</td>\n",
       "      <td>500</td>\n",
       "      <td>550</td>\n",
       "      <td>200</td>\n",
       "      <td>3</td>\n",
       "      <td>3</td>\n",
       "      <td>smart</td>\n",
       "      <td>1750.0</td>\n",
       "    </tr>\n",
       "    <tr>\n",
       "      <td>3210</td>\n",
       "      <td>1499</td>\n",
       "      <td>Пермь</td>\n",
       "      <td>9</td>\n",
       "      <td>smart</td>\n",
       "      <td>70</td>\n",
       "      <td>1845.75</td>\n",
       "      <td>11</td>\n",
       "      <td>50</td>\n",
       "      <td>15360</td>\n",
       "      <td>500</td>\n",
       "      <td>550</td>\n",
       "      <td>200</td>\n",
       "      <td>3</td>\n",
       "      <td>3</td>\n",
       "      <td>smart</td>\n",
       "      <td>550.0</td>\n",
       "    </tr>\n",
       "    <tr>\n",
       "      <td>3211</td>\n",
       "      <td>1499</td>\n",
       "      <td>Пермь</td>\n",
       "      <td>10</td>\n",
       "      <td>smart</td>\n",
       "      <td>449</td>\n",
       "      <td>17788.51</td>\n",
       "      <td>48</td>\n",
       "      <td>50</td>\n",
       "      <td>15360</td>\n",
       "      <td>500</td>\n",
       "      <td>550</td>\n",
       "      <td>200</td>\n",
       "      <td>3</td>\n",
       "      <td>3</td>\n",
       "      <td>smart</td>\n",
       "      <td>1150.0</td>\n",
       "    </tr>\n",
       "    <tr>\n",
       "      <td>3212</td>\n",
       "      <td>1499</td>\n",
       "      <td>Пермь</td>\n",
       "      <td>11</td>\n",
       "      <td>smart</td>\n",
       "      <td>612</td>\n",
       "      <td>17963.31</td>\n",
       "      <td>59</td>\n",
       "      <td>50</td>\n",
       "      <td>15360</td>\n",
       "      <td>500</td>\n",
       "      <td>550</td>\n",
       "      <td>200</td>\n",
       "      <td>3</td>\n",
       "      <td>3</td>\n",
       "      <td>smart</td>\n",
       "      <td>1513.0</td>\n",
       "    </tr>\n",
       "    <tr>\n",
       "      <td>3213</td>\n",
       "      <td>1499</td>\n",
       "      <td>Пермь</td>\n",
       "      <td>12</td>\n",
       "      <td>smart</td>\n",
       "      <td>492</td>\n",
       "      <td>13055.58</td>\n",
       "      <td>66</td>\n",
       "      <td>50</td>\n",
       "      <td>15360</td>\n",
       "      <td>500</td>\n",
       "      <td>550</td>\n",
       "      <td>200</td>\n",
       "      <td>3</td>\n",
       "      <td>3</td>\n",
       "      <td>smart</td>\n",
       "      <td>598.0</td>\n",
       "    </tr>\n",
       "  </tbody>\n",
       "</table>\n",
       "<p>3214 rows × 16 columns</p>\n",
       "</div>"
      ],
      "text/plain": [
       "      user_id         city  month tariff  звонок  интернет  сообщение  \\\n",
       "0        1000    Краснодар      5  ultra     159   2253.49         22   \n",
       "1        1000    Краснодар      6  ultra     172  23233.77         60   \n",
       "2        1000    Краснодар      7  ultra     340  14003.64         75   \n",
       "3        1000    Краснодар      8  ultra     408  14055.93         81   \n",
       "4        1000    Краснодар      9  ultra     466  14568.91         57   \n",
       "...       ...          ...    ...    ...     ...       ...        ...   \n",
       "3209     1498  Владикавказ     10  smart     247  20579.36         42   \n",
       "3210     1499        Пермь      9  smart      70   1845.75         11   \n",
       "3211     1499        Пермь     10  smart     449  17788.51         48   \n",
       "3212     1499        Пермь     11  smart     612  17963.31         59   \n",
       "3213     1499        Пермь     12  smart     492  13055.58         66   \n",
       "\n",
       "      messages_included  mb_per_month_included  minutes_included  \\\n",
       "0                  1000                  30720              3000   \n",
       "1                  1000                  30720              3000   \n",
       "2                  1000                  30720              3000   \n",
       "3                  1000                  30720              3000   \n",
       "4                  1000                  30720              3000   \n",
       "...                 ...                    ...               ...   \n",
       "3209                 50                  15360               500   \n",
       "3210                 50                  15360               500   \n",
       "3211                 50                  15360               500   \n",
       "3212                 50                  15360               500   \n",
       "3213                 50                  15360               500   \n",
       "\n",
       "      rub_monthly_fee  rub_per_gb  rub_per_message  rub_per_minute  \\\n",
       "0                1950         150                1               1   \n",
       "1                1950         150                1               1   \n",
       "2                1950         150                1               1   \n",
       "3                1950         150                1               1   \n",
       "4                1950         150                1               1   \n",
       "...               ...         ...              ...             ...   \n",
       "3209              550         200                3               3   \n",
       "3210              550         200                3               3   \n",
       "3211              550         200                3               3   \n",
       "3212              550         200                3               3   \n",
       "3213              550         200                3               3   \n",
       "\n",
       "     tariff_name  revenue  \n",
       "0          ultra   1950.0  \n",
       "1          ultra   1950.0  \n",
       "2          ultra   1950.0  \n",
       "3          ultra   1950.0  \n",
       "4          ultra   1950.0  \n",
       "...          ...      ...  \n",
       "3209       smart   1750.0  \n",
       "3210       smart    550.0  \n",
       "3211       smart   1150.0  \n",
       "3212       smart   1513.0  \n",
       "3213       smart    598.0  \n",
       "\n",
       "[3214 rows x 16 columns]"
      ]
     },
     "execution_count": 9,
     "metadata": {},
     "output_type": "execute_result"
    }
   ],
   "source": [
    "# рассчитаем выручку по каждому пользователю в месяц\n",
    "def revenue (row):\n",
    "    \n",
    "    # задаём переменные\n",
    "    call = row['звонок'] # факт звонков\n",
    "    call_inc = row['minutes_included'] # включено звонков\n",
    "    \n",
    "    internet = row['интернет'] # факт интернета\n",
    "    internet_inc = row['mb_per_month_included'] # включено интернета\n",
    "    \n",
    "    message = row['сообщение'] # факт сообщений\n",
    "    message_inc = row['messages_included'] # включено звонков\n",
    "    \n",
    "    fee = row['rub_monthly_fee'] # ежемесячная плата\n",
    "    revenue = 0\n",
    "        \n",
    "    if  call <= call_inc:\n",
    "        revenue += 0\n",
    "    else:\n",
    "        revenue += (call - call_inc)*row['rub_per_minute']\n",
    "        \n",
    "    if  internet <= internet_inc:\n",
    "        revenue += 0\n",
    "    else:\n",
    "        revenue += np.ceil((internet - internet_inc)/1024)*row['rub_per_gb']\n",
    "        \n",
    "    if  message <= message_inc:\n",
    "        revenue += 0    \n",
    "    else:\n",
    "        revenue += (message - message_inc)*row['rub_per_message']\n",
    "    \n",
    "    revenue += fee\n",
    "    \n",
    "    return revenue\n",
    "\n",
    "df_pivot['revenue'] = df_pivot.apply(revenue, axis=1)\n",
    "df_pivot"
   ]
  },
  {
   "cell_type": "markdown",
   "id": "71a1ca04",
   "metadata": {},
   "source": [
    "### Вывод"
   ]
  },
  {
   "cell_type": "markdown",
   "id": "6d4457ac",
   "metadata": {},
   "source": [
    "1. Были выгружены 5 таблиц с данными пользователей;\n",
    "2. Данные в таблицах приведены к нужным типам;\n",
    "3. Выявлены и исправлены ошибки в данных;\n",
    "4. Для каждого пользователя рассчитаны:\n",
    "    - количество сделанных звонков и израсходованных минут разговора по месяцам;\n",
    "    - количество отправленных сообщений по месяцам;\n",
    "    - объем израсходованного интернет-трафика по месяцам;\n",
    "    - помесячная выручка с каждого пользователя (вычтите бесплатный лимит из суммарного количества звонков, сообщений и интернет-трафика; остаток умножьте на значение из тарифного плана; прибавьте абонентскую плату, соответствующую тарифному плану)."
   ]
  },
  {
   "cell_type": "markdown",
   "id": "60f5c8e3",
   "metadata": {},
   "source": [
    "## Анализ данных"
   ]
  },
  {
   "cell_type": "markdown",
   "id": "6697e88e",
   "metadata": {},
   "source": [
    "Необходимо описать поведение клиентов оператора, исходя из выборки:\n",
    "\n",
    "* Сколько минут разговора, сколько сообщений и какой объём интернет-трафика требуется пользователям каждого тарифа в месяц?\n",
    "* Посчитайте среднее количество, дисперсию и стандартное отклонение.\n",
    "* Постройте гистограммы.\n",
    "* Опишите распределения."
   ]
  },
  {
   "cell_type": "code",
   "execution_count": 10,
   "id": "e6ea0f20",
   "metadata": {},
   "outputs": [],
   "source": [
    "# присвоим переменным data_smart и data_ultra срезы датафрейма df_pivot по каждому тарифу\n",
    "data_smart = df_pivot.loc[df_pivot['tariff'] == 'smart',\n",
    "                          ['звонок','интернет','сообщение','revenue']]# \n",
    "data_ultra = df_pivot.loc[df_pivot['tariff'] == 'ultra',\n",
    "                          ['звонок','интернет','сообщение','revenue']]"
   ]
  },
  {
   "cell_type": "code",
   "execution_count": 22,
   "id": "8af1dcc2",
   "metadata": {
    "scrolled": false
   },
   "outputs": [
    {
     "data": {
      "text/html": [
       "<div>\n",
       "<style scoped>\n",
       "    .dataframe tbody tr th:only-of-type {\n",
       "        vertical-align: middle;\n",
       "    }\n",
       "\n",
       "    .dataframe tbody tr th {\n",
       "        vertical-align: top;\n",
       "    }\n",
       "\n",
       "    .dataframe thead tr th {\n",
       "        text-align: left;\n",
       "    }\n",
       "\n",
       "    .dataframe thead tr:last-of-type th {\n",
       "        text-align: right;\n",
       "    }\n",
       "</style>\n",
       "<table border=\"1\" class=\"dataframe\">\n",
       "  <thead>\n",
       "    <tr>\n",
       "      <th></th>\n",
       "      <th colspan=\"4\" halign=\"left\">revenue</th>\n",
       "      <th colspan=\"4\" halign=\"left\">звонок</th>\n",
       "      <th colspan=\"4\" halign=\"left\">интернет</th>\n",
       "      <th colspan=\"4\" halign=\"left\">сообщение</th>\n",
       "    </tr>\n",
       "    <tr>\n",
       "      <th></th>\n",
       "      <th>mean</th>\n",
       "      <th>std</th>\n",
       "      <th>sum</th>\n",
       "      <th>var</th>\n",
       "      <th>mean</th>\n",
       "      <th>std</th>\n",
       "      <th>sum</th>\n",
       "      <th>var</th>\n",
       "      <th>mean</th>\n",
       "      <th>std</th>\n",
       "      <th>sum</th>\n",
       "      <th>var</th>\n",
       "      <th>mean</th>\n",
       "      <th>std</th>\n",
       "      <th>sum</th>\n",
       "      <th>var</th>\n",
       "    </tr>\n",
       "    <tr>\n",
       "      <th>tariff</th>\n",
       "      <th></th>\n",
       "      <th></th>\n",
       "      <th></th>\n",
       "      <th></th>\n",
       "      <th></th>\n",
       "      <th></th>\n",
       "      <th></th>\n",
       "      <th></th>\n",
       "      <th></th>\n",
       "      <th></th>\n",
       "      <th></th>\n",
       "      <th></th>\n",
       "      <th></th>\n",
       "      <th></th>\n",
       "      <th></th>\n",
       "      <th></th>\n",
       "    </tr>\n",
       "  </thead>\n",
       "  <tbody>\n",
       "    <tr>\n",
       "      <td>smart</td>\n",
       "      <td>1289.97</td>\n",
       "      <td>818.40</td>\n",
       "      <td>2875351.00</td>\n",
       "      <td>669785.71</td>\n",
       "      <td>417.93</td>\n",
       "      <td>190.31</td>\n",
       "      <td>931577.00</td>\n",
       "      <td>36219.32</td>\n",
       "      <td>16208.39</td>\n",
       "      <td>5870.48</td>\n",
       "      <td>36128494.60</td>\n",
       "      <td>34462496.46</td>\n",
       "      <td>33.38</td>\n",
       "      <td>28.23</td>\n",
       "      <td>74413.00</td>\n",
       "      <td>796.81</td>\n",
       "    </tr>\n",
       "    <tr>\n",
       "      <td>ultra</td>\n",
       "      <td>2070.15</td>\n",
       "      <td>376.19</td>\n",
       "      <td>2039100.00</td>\n",
       "      <td>141516.75</td>\n",
       "      <td>526.62</td>\n",
       "      <td>317.61</td>\n",
       "      <td>518724.00</td>\n",
       "      <td>100873.63</td>\n",
       "      <td>19468.81</td>\n",
       "      <td>10087.17</td>\n",
       "      <td>19176773.13</td>\n",
       "      <td>101751013.78</td>\n",
       "      <td>49.36</td>\n",
       "      <td>47.80</td>\n",
       "      <td>48623.00</td>\n",
       "      <td>2285.27</td>\n",
       "    </tr>\n",
       "  </tbody>\n",
       "</table>\n",
       "</div>"
      ],
      "text/plain": [
       "       revenue                             звонок                             \\\n",
       "          mean    std        sum       var   mean    std       sum       var   \n",
       "tariff                                                                         \n",
       "smart  1289.97 818.40 2875351.00 669785.71 417.93 190.31 931577.00  36219.32   \n",
       "ultra  2070.15 376.19 2039100.00 141516.75 526.62 317.61 518724.00 100873.63   \n",
       "\n",
       "       интернет                                   сообщение                 \\\n",
       "           mean      std         sum          var      mean   std      sum   \n",
       "tariff                                                                       \n",
       "smart  16208.39  5870.48 36128494.60  34462496.46     33.38 28.23 74413.00   \n",
       "ultra  19468.81 10087.17 19176773.13 101751013.78     49.36 47.80 48623.00   \n",
       "\n",
       "                \n",
       "           var  \n",
       "tariff          \n",
       "smart   796.81  \n",
       "ultra  2285.27  "
      ]
     },
     "execution_count": 22,
     "metadata": {},
     "output_type": "execute_result"
    }
   ],
   "source": [
    "# в сводной таблице рассчитаем суммы, среднего, дисперсии и стандартного отклонения по каждому тарифу\n",
    "data_statistics = df_pivot.pivot_table(index='tariff',                         \n",
    "                    values=('звонок','интернет','сообщение','revenue'), aggfunc=('sum', 'mean', 'var', 'std')) \n",
    "data_statistics"
   ]
  },
  {
   "cell_type": "markdown",
   "id": "8d487b09",
   "metadata": {},
   "source": [
    "Видно, что пользователи с тарифом \"Ultra\" пользуются услугами связи чаще, чем с тарифом \"Smart\", как в плане звонков, так и интернетом, смс-сообщениями. При этом разброс значений (ст.отклонение) по объему услуг у пользователей с тарифом \"Ultra\" намного выше.\n",
    "\n",
    "* Суммарная выручка по тарифам:\n",
    "        - \"Ultra\" - 2 039 100 руб.;\n",
    "        - \"Smart\" - 2 875 351 руб.\n",
    "* Выручка на человека по тарифам:\n",
    "        - \"Ultra\" - 2070.15 руб./чел;\n",
    "        - \"Smart\" - 1289.97 руб./чел.\n",
    "\n",
    "Несмотря на то, что абсолютная выручка по тарифам \"Smart\" выше, чем по \"Ultra\", `отдача` на единицу (человека/тариф) по тарифу \"Ultra\" выше на 61%.\n",
    "\n",
    "Построим гистограммы распределения по видам связи:"
   ]
  },
  {
   "cell_type": "code",
   "execution_count": 47,
   "id": "8f98b207",
   "metadata": {},
   "outputs": [
    {
     "data": {
      "image/png": "[encoded data removed]",
      "text/plain": [
       "<Figure size 432x288 with 1 Axes>"
      ]
     },
     "metadata": {
      "needs_background": "light"
     },
     "output_type": "display_data"
    },
    {
     "name": "stdout",
     "output_type": "stream",
     "text": [
      "\n"
     ]
    },
    {
     "data": {
      "image/png": "[encoded data removed]",
      "text/plain": [
       "<Figure size 432x288 with 1 Axes>"
      ]
     },
     "metadata": {
      "needs_background": "light"
     },
     "output_type": "display_data"
    },
    {
     "name": "stdout",
     "output_type": "stream",
     "text": [
      "\n"
     ]
    },
    {
     "data": {
      "image/png": "[encoded data removed]",
      "text/plain": [
       "<Figure size 432x288 with 1 Axes>"
      ]
     },
     "metadata": {
      "needs_background": "light"
     },
     "output_type": "display_data"
    },
    {
     "name": "stdout",
     "output_type": "stream",
     "text": [
      "\n"
     ]
    },
    {
     "data": {
      "image/png": "[encoded data removed]",
      "text/plain": [
       "<Figure size 432x288 with 1 Axes>"
      ]
     },
     "metadata": {
      "needs_background": "light"
     },
     "output_type": "display_data"
    },
    {
     "name": "stdout",
     "output_type": "stream",
     "text": [
      "\n"
     ]
    }
   ],
   "source": [
    "# напишем цикл для построения гистограмм по каждому тарифу\n",
    "column_name = ['звонок','интернет','сообщение','revenue']\n",
    "bins_num = [100,50,50,30]\n",
    "    \n",
    "for num in range(len(column_name)):\n",
    "    \n",
    "    # гистограмма тарифа Смарт\n",
    "    ax = data_smart[column_name[num]].plot(kind='hist', \n",
    "                                           title=column_name[num],\n",
    "                                           bins=bins_num[num],\n",
    "                                           grid=True, \n",
    "                                           legend=True,\n",
    "                                           label='Тариф \"Смарт\"')\n",
    "    # гистограмма тарифа Ультра\n",
    "    data_ultra[column_name[num]].plot(kind='hist',\n",
    "                                      histtype='step',\n",
    "                                      bins=bins_num[num],\n",
    "                                      grid=True,\n",
    "                                      linewidth=2,\n",
    "                                      ax=ax,\n",
    "                                      legend=True,\n",
    "                                      label='Тариф \"Ультра\"')\n",
    "    \n",
    "    plt.show()\n",
    "    print()"
   ]
  },
  {
   "cell_type": "markdown",
   "id": "2a5953d8",
   "metadata": {},
   "source": [
    "### Вывод"
   ]
  },
  {
   "cell_type": "markdown",
   "id": "f99e83ee",
   "metadata": {},
   "source": [
    "1. В месяц пользователи \"Мегалайн\" тарифов \"Smart\" и \"Ultra\" пользуются мобильной связью по-разному. В целом, абоненты с тарифом \"Ultra\" пользуются услугами связи чаще, чем с тарифом \"Smart\", как в плане звонков, так и интернетом, смс-сообщениями. \n",
    "\n",
    "2. Среднее количество использованных:\n",
    "    * минут: \"Ultra\" - 527 мин., \"Smart\" - 418 мин.;\n",
    "    * ГБ: \"Ultra\" - 19,5 ГБ, \"Smart\" - 16 Гб;\n",
    "    * сообщений: \"Ultra\" - 49 шт, \"Smart\" - 36 шт;\n",
    "    \n",
    "       \n",
    "  2.1 Суммарная выручка по тарифам:\n",
    "  - \"Ultra\" - 2 039 100 руб.;\n",
    "  - \"Smart\" - 2 875 351 руб.\n",
    "    \n",
    "  2.2 Средняя выручка на человека по тарифам:\n",
    "  - \"Ultra\" - 2070.15 руб./чел;\n",
    "  - \"Smart\" - 1289.97 руб./чел.\n",
    "\n",
    "Несмотря на то, что абсолютная выручка по тарифам \"Smart\" выше, чем по \"Ultra\", отдача на единицу (человека/тариф) по тарифу \"Ultra\" выше на 61%.\n",
    "\n",
    "3. Были построены гистограммы:\n",
    "* Распределения кол-ва использованных минут и объема интернет-трафика имеют колокообразную форму нормального распределения у обоих тарифов. \n",
    "* Гистограммы СМС-сообщений и выручки имеют скошенность вправо, но нет повода утверждать, что они не распределены нормально. \n",
    "\n",
    "Стоит отметить, что на всех графиках присутствуют выбросы и аномальные значения."
   ]
  },
  {
   "cell_type": "markdown",
   "id": "9c597c9e",
   "metadata": {},
   "source": [
    "## Проверка гипотез"
   ]
  },
  {
   "cell_type": "markdown",
   "id": "e5c6022e",
   "metadata": {},
   "source": [
    "Необходимо проверить следующие гипотезы:\n",
    "* `Гипотеза 1` - средняя выручка пользователей тарифов «Ультра» и «Смарт» различаются;\n",
    "* `Гипотеза 2` - средняя выручка пользователей из Москвы отличается от выручки пользователей из других регионов."
   ]
  },
  {
   "cell_type": "markdown",
   "id": "13250eef",
   "metadata": {},
   "source": [
    "### Проверка гипотезы 1"
   ]
  },
  {
   "cell_type": "markdown",
   "id": "41c1a243",
   "metadata": {},
   "source": [
    "Для проверки `гипотезы 1` сформулируем нулевую и альтернативную гипотезы. Как правило, в статистике нулевую гипотезу Н_0 формулируют таким образом, чтобы был знак равенства. Для этого приравняем выручку тарифов «Ультра» и «Смарт»:\n",
    "* **Нулевая гипотеза (H_0):** средняя выручка пользователей тарифов «Ультра» равна «Смарт» (одинаковая).\n",
    "* Тогда **двусторонняя альтернативная гипотеза Н_1:** (двусторонняя, потому что мы заранее  не знаем, в какую - большую или меньшую - сторону будет отклонение средней выручки) будет звучать: средняя выручка пользователей тарифов «Ультра» не равна «Смарт» (отличается).\n",
    "\n",
    "Для проверки нулевой гипотезы (Н_0) о равенстве среднего двух выборок используем `t-test Стьюдента`, предварительно проверив некоторые условия его использования:\n",
    "    \n",
    "   * наши выборки не зависят друг от друга;\n",
    "   * выборочные средние нормально распределены - подтверждается гистограммой из п.3;\n",
    "   * выборки разного размера и дисперсии рассматриваемых выборок **НЕ** равны, поэтому при проведении `t-test'a` укажем в аргументе `equal_var = False`. Тест посчитает дисперсии выборок по отдельности."
   ]
  },
  {
   "cell_type": "code",
   "execution_count": 14,
   "id": "10bacb45",
   "metadata": {},
   "outputs": [
    {
     "name": "stdout",
     "output_type": "stream",
     "text": [
      "p-значение:  4.2606313931076085e-250\n",
      "Статистика разности:  -37.019021231454644\n",
      "Отвергаем нулевую гипотезу\n"
     ]
    }
   ],
   "source": [
    "alpha = .05 # критический уровень статистической значимости 5% - стандартно :))\n",
    "            # если p-value окажется меньше него - отвегнем гипотезу\n",
    "\n",
    "results = st.ttest_ind(\n",
    "    data_smart['revenue'], \n",
    "    data_ultra['revenue'],\n",
    "    equal_var = False) # параметр equal_var, тест посчитает дисперсии выборок по отдельности\n",
    "\n",
    "print('p-значение: ', results.pvalue) # p-value - кф, характеризующий вероятность получить\n",
    "print('Статистика разности: ', results.statistic) # наблюдаемый результат при условии, что нулевая гипотеза Н_0 верна\n",
    "                                      # в нашем случае наблюдаемый результат - равенство средний двух выборок\n",
    "\n",
    "if results.pvalue < alpha: \n",
    "    print(\"Отвергаем нулевую гипотезу\")\n",
    "else:\n",
    "    print(\"Не получилось отвергнуть нулевую гипотезу\") "
   ]
  },
  {
   "cell_type": "markdown",
   "id": "2579dd2d",
   "metadata": {},
   "source": [
    "#### Вывод"
   ]
  },
  {
   "cell_type": "markdown",
   "id": "f80ddf98",
   "metadata": {},
   "source": [
    "Проведя t-test Стьюдента мы получили `p-значение:  4.2606313931076085e-250`, что характеризует крайне низкую вероятность получить наблюдаемый результат при условии, что нулевая гипотеза `Н_0` верна. Этот же вывод подтверждает статистика разности величиной `-37 стандартных отклонения (в левую сторону)!`. \n",
    "\n",
    "На критическом уровене статистической значимости 5% мы отвергаем нулевую гипотезу `Н_0` \"О равенстве средней выручки пользователей тарифов «Ультра» и «Смарт»\"."
   ]
  },
  {
   "cell_type": "markdown",
   "id": "9d3d797a",
   "metadata": {},
   "source": [
    "### Проверка гипотезы 2"
   ]
  },
  {
   "cell_type": "markdown",
   "id": "2bfcfe82",
   "metadata": {},
   "source": [
    "Для проверки гипотезы 2 также сформулируем нулевую и альтернативную гипотезы:\n",
    "* **Нулевая гипотеза (H_0):** средняя выручка пользователей из Москвы равна выручке пользователей из других регионов.\n",
    "* Тогда сформулируем **двустороннюю альтернативную гипотезу Н_1** так: Средняя выручка пользователей из Москвы отличается от выручки пользователей из других регионов (в большую или меньшую сторону).\n",
    "\n",
    "1. Для проверки нулевой гипотезы (Н_0) о равенстве средней выручки абонентов из регионов и столичных используем двусторонний `t-test Стьюдента`. \n",
    "2. `p-value` сравним с критическим уровнем статистической значимости. \n",
    "3. Выборки разного размера и дисперсии рассматриваемых выборок НЕ равны, поэтому при проведении `t-test'a` укажем в аргументе `equal_var = False`. Тест посчитает дисперсии выборок по отдельности."
   ]
  },
  {
   "cell_type": "code",
   "execution_count": 51,
   "id": "45557482",
   "metadata": {},
   "outputs": [
    {
     "name": "stdout",
     "output_type": "stream",
     "text": [
      "p-значение: 0.5257376663729298\n",
      "Статистика разности:  -0.6347555055229303\n",
      "Не получилось отвергнуть нулевую гипотезу\n"
     ]
    }
   ],
   "source": [
    "# выполним срез данных по другим регионам\n",
    "data_other = df_pivot.loc[df_pivot['city'] != 'Москва','revenue']\n",
    "\n",
    "\n",
    "# проведем двусторонний t-test Стьюдента на равенство выборочных средних\n",
    "\n",
    "alpha = .05 # критический уровень статистической значимости 5% - стандартно :))\n",
    "            # если p-value окажется меньше него - отвегнем гипотезу\n",
    "\n",
    "results = st.ttest_ind(data_other,  # срез данных по другим регионам\n",
    "                       data_msk,\n",
    "                       equal_var = False) # параметр equal_var = False, т.к. нет уверенности, что дисперсии выборок одинаковые.\n",
    "                                          #тест посчитает дисперсии выборок по отдельности    \n",
    "\n",
    "print('p-значение:', results.pvalue) # p-value - кф, характеризующий вероятность получить наблюдаемый результат \n",
    "print('Статистика разности: ', results.statistic) # наблюдаемый результат при условии, что нулевая гипотеза Н_0 верна\n",
    "                                                  # в нашем случае наблюдаемый результат - равенство средней выручки Мск и других регионов\n",
    "if results.pvalue < alpha:\n",
    "    print(\"Отвергаем нулевую гипотезу\")\n",
    "else:\n",
    "    print(\"Не получилось отвергнуть нулевую гипотезу\")"
   ]
  },
  {
   "cell_type": "markdown",
   "id": "6afd4a78",
   "metadata": {},
   "source": [
    "В качестве дополнительной проверки, посчитаем среднюю выручку по абонентам из Москвы, а затем сравним её с выручкой по абонентам из других регионов."
   ]
  },
  {
   "cell_type": "code",
   "execution_count": 48,
   "id": "a4864ace",
   "metadata": {},
   "outputs": [
    {
     "data": {
      "text/plain": [
       "1546.7135842880523"
      ]
     },
     "execution_count": 48,
     "metadata": {},
     "output_type": "execute_result"
    }
   ],
   "source": [
    "# средняя выручка по абонентам из Москвы\n",
    "data_msk = df_pivot.loc[df_pivot['city'] == 'Москва','revenue']\n",
    "mean_msk = data_msk.mean()\n",
    "mean_msk"
   ]
  },
  {
   "cell_type": "markdown",
   "id": "3c5c789a",
   "metadata": {},
   "source": [
    "Средняя выручка по абонентам из регионов:"
   ]
  },
  {
   "cell_type": "code",
   "execution_count": 49,
   "id": "37e95f12",
   "metadata": {},
   "outputs": [
    {
     "data": {
      "text/plain": [
       "1524.9362274298885"
      ]
     },
     "execution_count": 49,
     "metadata": {},
     "output_type": "execute_result"
    }
   ],
   "source": [
    "data_other.mean()"
   ]
  },
  {
   "cell_type": "markdown",
   "id": "68ce9116",
   "metadata": {},
   "source": [
    "#### Вывод"
   ]
  },
  {
   "cell_type": "markdown",
   "id": "7fd69c6c",
   "metadata": {},
   "source": [
    "Проведя t-test Стьюдента мы получили `p-значение: 0.5257376663729298`, что характеризует высокую степень вероятности получить наблюдаемый результат при условии, что нулевая гипотеза `Н_0` верна. При этом `Статистика разности: -0.6347555055229303` (чуть меньше 1 стандартного отклонения) говорит о том, что разброс не такой большой и в меньшую сторону (влево). \n",
    "\n",
    "На критическом уровене статистической значимости 5% мы принимаем (не отвергаем) нулевую гипотезу `Н_0` \"О  равенстве средней выручки пользователей из Москвы и пользователей из других регионов\"."
   ]
  },
  {
   "cell_type": "markdown",
   "id": "1b03071d",
   "metadata": {},
   "source": [
    "## Общий вывод"
   ]
  },
  {
   "cell_type": "markdown",
   "id": "b714180f",
   "metadata": {},
   "source": [
    "Анализ поведения клиентов телеком-компании проводился на основе базы данных 500 пользователей «Мегалайна» - федерального оператора сотовой связи: кто они, откуда, каким тарифом пользуются, сколько звонков и сообщений каждый отправил за 2018 год. Клиентам предлагается два тарифных плана: «Смарт» и «Ультра». \n",
    "\n",
    "**Основной целью работы** было - проанализировать поведение клиентов и сделать вывод, какой тариф лучше, какой тариф приносит больше денег для компании.\n",
    "\n",
    "Для достижения поставленной цели были поставлены и решены следущие **задачи исследования**:\n",
    "* изучить общую информацию;\n",
    "* подготовить данные для анализа;\n",
    "* проанализировать данные;\n",
    "* проверить гипотезы;\n",
    "* подвести итоги исследования.\n",
    "\n",
    "1. На первых 2-х этапах были:\n",
    "* Получены 5 таблиц с данными 500 пользователей, \n",
    "* Исправлены ошибки и типы данных в таблицах\n",
    "* Из 5 таблиц сформирован единый датафрейм, который впоследствии был дообогащен различной аналитикой и необходимыми расчетами:\n",
    "        - количество сделанных звонков и израсходованных минут разговора по месяцам;\n",
    "        - количество отправленных сообщений по месяцам;\n",
    "        - объем израсходованного интернет-трафика по месяцам;\n",
    "        - помесячную выручку с каждого пользователя.\n",
    "\n",
    "2. Анализ данных показал, что пользователи \"Мегалайн\" тарифов \"Smart\" и \"Ultra\" пользуются мобильной связью по-разному. В целом, абоненты с тарифом \"Ultra\" пользуются услугами связи чаще, чем с тарифом \"Smart\", как в плане звонков, так и интернетом, смс-сообщениями.\n",
    "    \n",
    "    2.1 Суммарная выручка по тарифам за рассматриваемый период:\n",
    "\n",
    "    * \"Ultra\" - 2 039 100 руб.;\n",
    "    * \"Smart\" - 2 875 351 руб.\n",
    "    \n",
    "    2.2 Средняя выручка на человека по тарифам за рассматриваемый период:\n",
    "\n",
    "    * \"Ultra\" - 2070.15 руб./чел;\n",
    "    * \"Smart\" - 1289.97 руб./чел.\n",
    "\n",
    "Несмотря на то, что абсолютная выручка по тарифам \"Smart\" выше, чем по \"Ultra\", отдача на единицу (человека/тариф) по тарифу \"Ultra\" выше на 61%.\n",
    "\n",
    "    2.3. В дополнение были построены гистограммы по услугам, предоставляемым абонентам: 'звонки','интернет','сообщения'. Дополнительно построена гистограмма по выручке. \n",
    "\n",
    "    Анализ показал:\n",
    "   * Распределения кол-ва использованных минут и объема интернет-трафика имеют колокообразную форму нормального распределения у обоих тарифов. \n",
    "   * Гистограммы СМС-сообщений и выручки имеют скошенность вправо, но нет повода утверждать, что они не распределены нормально.\n",
    "   * На всех графиках присутствуют выбросы и аномальные значения.\n",
    "   \n",
    "3. В конце были проверены две гипотезы:\n",
    "    \n",
    "    3.1 `Гипотеза 1` - средняя выручка пользователей тарифов «Ультра» и «Смарт» различаются;\n",
    "    \n",
    "    3.2 `Гипотеза 2` - средняя выручка пользователей из Москвы отличается от выручки пользователей из других регионов.\n",
    "    \n",
    "* Для проверки `Гипотезы 1` была сформулирована нулевая гипотеза `Н_0` \"О равенстве средней выручки пользователей тарифов «Ультра» и «Смарт»\" и проверена с помощью `t-test Стьюдента` на равенство среднего двух выборок. \n",
    "На критическом уровене статистической значимости 5% она была отвергнута;\n",
    "\n",
    "\n",
    "* `Гипотеза 2` была проверена двусторонним тестом `t-test Стьюдента` на равенство выборочных средних: средней выручки по Москве и средней выручке по другим регионам. Результаты теста показали высокую степень вероятности получить наблюдаемый результат при условии, что нулевая гипотеза `Н_0` `\"О равенстве средней выручки пользователей из Москвы и пользователей из других регионов\"` верна. При этом статистика разности показала, что разброс не такой большой и в меньшую сторону (влево), то есть скоррее всего средняя выручка пользователя из другого региона будет меньше, чем пользователя из Москвы. На критическом уровене статистической значимости 5% мы приняли (не отвергаем) нулевую гипотезу Н_0."
   ]
  }
 ],
 "metadata": {
  "ExecuteTimeLog": [
   {
    "duration": 1195,
    "start_time": "2022-01-24T11:04:32.804Z"
   },
   {
    "duration": 270,
    "start_time": "2022-01-24T11:22:56.420Z"
   },
   {
    "duration": 251,
    "start_time": "2022-01-24T11:23:01.457Z"
   },
   {
    "duration": 1817,
    "start_time": "2022-01-24T11:23:14.928Z"
   },
   {
    "duration": 2493,
    "start_time": "2022-01-24T11:23:16.746Z"
   },
   {
    "duration": 6,
    "start_time": "2022-01-24T11:23:52.292Z"
   },
   {
    "duration": 221,
    "start_time": "2022-01-24T11:23:57.924Z"
   },
   {
    "duration": 244,
    "start_time": "2022-01-24T11:24:05.092Z"
   },
   {
    "duration": 8,
    "start_time": "2022-01-24T11:24:10.476Z"
   },
   {
    "duration": 8,
    "start_time": "2022-01-24T12:09:08.362Z"
   },
   {
    "duration": 68,
    "start_time": "2022-01-24T12:10:24.179Z"
   },
   {
    "duration": 6,
    "start_time": "2022-01-24T12:10:38.554Z"
   },
   {
    "duration": 17,
    "start_time": "2022-01-24T12:11:34.097Z"
   },
   {
    "duration": 19,
    "start_time": "2022-01-24T12:11:42.371Z"
   },
   {
    "duration": 19,
    "start_time": "2022-01-24T12:12:04.130Z"
   },
   {
    "duration": 20,
    "start_time": "2022-01-24T12:12:13.409Z"
   },
   {
    "duration": 1292,
    "start_time": "2022-01-24T12:13:15.751Z"
   },
   {
    "duration": 103,
    "start_time": "2022-01-24T12:13:17.045Z"
   },
   {
    "duration": 22,
    "start_time": "2022-01-24T12:15:18.327Z"
   },
   {
    "duration": 21,
    "start_time": "2022-01-24T12:15:42.855Z"
   },
   {
    "duration": 1180,
    "start_time": "2022-01-24T12:15:52.836Z"
   },
   {
    "duration": 74,
    "start_time": "2022-01-24T12:15:54.018Z"
   },
   {
    "duration": 23,
    "start_time": "2022-01-24T12:16:04.951Z"
   },
   {
    "duration": 22,
    "start_time": "2022-01-24T12:16:15.573Z"
   },
   {
    "duration": 5,
    "start_time": "2022-01-24T12:16:58.426Z"
   },
   {
    "duration": 71,
    "start_time": "2022-01-24T12:21:23.708Z"
   },
   {
    "duration": 1162,
    "start_time": "2022-01-24T12:23:29.922Z"
   },
   {
    "duration": 188,
    "start_time": "2022-01-24T12:23:31.086Z"
   },
   {
    "duration": -73,
    "start_time": "2022-01-24T12:23:31.349Z"
   },
   {
    "duration": 97,
    "start_time": "2022-01-24T12:23:48.329Z"
   },
   {
    "duration": 75,
    "start_time": "2022-01-24T12:23:57.569Z"
   },
   {
    "duration": 83,
    "start_time": "2022-01-24T12:24:15.985Z"
   },
   {
    "duration": 5,
    "start_time": "2022-01-24T12:24:36.393Z"
   },
   {
    "duration": 9,
    "start_time": "2022-01-24T12:31:52.641Z"
   },
   {
    "duration": 7,
    "start_time": "2022-01-24T12:31:56.827Z"
   },
   {
    "duration": 4,
    "start_time": "2022-01-24T12:38:43.302Z"
   },
   {
    "duration": 13,
    "start_time": "2022-01-24T12:39:04.434Z"
   },
   {
    "duration": 331,
    "start_time": "2022-01-24T12:39:08.009Z"
   },
   {
    "duration": 16,
    "start_time": "2022-01-24T12:39:23.023Z"
   },
   {
    "duration": 19,
    "start_time": "2022-01-24T12:40:18.640Z"
   },
   {
    "duration": 1192,
    "start_time": "2022-01-24T12:40:26.549Z"
   },
   {
    "duration": 101,
    "start_time": "2022-01-24T12:40:27.742Z"
   },
   {
    "duration": 18,
    "start_time": "2022-01-24T12:40:27.845Z"
   },
   {
    "duration": 14,
    "start_time": "2022-01-24T12:40:27.864Z"
   },
   {
    "duration": 15,
    "start_time": "2022-01-24T12:40:42.304Z"
   },
   {
    "duration": 1177,
    "start_time": "2022-01-24T12:40:50.140Z"
   },
   {
    "duration": 81,
    "start_time": "2022-01-24T12:40:51.319Z"
   },
   {
    "duration": 16,
    "start_time": "2022-01-24T12:40:51.416Z"
   },
   {
    "duration": 306,
    "start_time": "2022-01-24T12:45:26.077Z"
   },
   {
    "duration": 1118,
    "start_time": "2022-01-24T12:45:37.530Z"
   },
   {
    "duration": 93,
    "start_time": "2022-01-24T12:45:38.650Z"
   },
   {
    "duration": 15,
    "start_time": "2022-01-24T12:45:38.745Z"
   },
   {
    "duration": 157,
    "start_time": "2022-01-24T12:47:52.532Z"
   },
   {
    "duration": 166,
    "start_time": "2022-01-24T12:47:59.908Z"
   },
   {
    "duration": 162,
    "start_time": "2022-01-24T12:48:08.093Z"
   },
   {
    "duration": 1191,
    "start_time": "2022-01-24T12:48:18.690Z"
   },
   {
    "duration": 97,
    "start_time": "2022-01-24T12:48:19.882Z"
   },
   {
    "duration": 15,
    "start_time": "2022-01-24T12:48:19.981Z"
   },
   {
    "duration": 195,
    "start_time": "2022-01-24T12:48:19.998Z"
   },
   {
    "duration": 1144,
    "start_time": "2022-01-24T12:49:56.243Z"
   },
   {
    "duration": 77,
    "start_time": "2022-01-24T12:49:57.412Z"
   },
   {
    "duration": 27,
    "start_time": "2022-01-24T12:49:57.491Z"
   },
   {
    "duration": 71,
    "start_time": "2022-01-24T12:49:57.519Z"
   },
   {
    "duration": 176,
    "start_time": "2022-01-24T12:50:03.419Z"
   },
   {
    "duration": 176,
    "start_time": "2022-01-24T12:50:16.635Z"
   },
   {
    "duration": 171,
    "start_time": "2022-01-24T12:50:24.204Z"
   },
   {
    "duration": 179,
    "start_time": "2022-01-24T12:50:49.771Z"
   },
   {
    "duration": 5,
    "start_time": "2022-01-24T12:53:43.794Z"
   },
   {
    "duration": 5,
    "start_time": "2022-01-24T12:54:39.650Z"
   },
   {
    "duration": 363,
    "start_time": "2022-01-24T13:24:27.295Z"
   },
   {
    "duration": 105,
    "start_time": "2022-01-24T13:24:34.574Z"
   },
   {
    "duration": 1077,
    "start_time": "2022-01-24T13:25:35.471Z"
   },
   {
    "duration": 104,
    "start_time": "2022-01-24T13:25:36.550Z"
   },
   {
    "duration": 16,
    "start_time": "2022-01-24T13:25:36.656Z"
   },
   {
    "duration": 189,
    "start_time": "2022-01-24T13:25:36.674Z"
   },
   {
    "duration": 5,
    "start_time": "2022-01-24T13:25:36.865Z"
   },
   {
    "duration": 1168,
    "start_time": "2022-01-24T13:26:11.444Z"
   },
   {
    "duration": 75,
    "start_time": "2022-01-24T13:26:12.614Z"
   },
   {
    "duration": 35,
    "start_time": "2022-01-24T13:26:12.691Z"
   },
   {
    "duration": 195,
    "start_time": "2022-01-24T13:26:12.728Z"
   },
   {
    "duration": 4,
    "start_time": "2022-01-24T13:26:12.925Z"
   },
   {
    "duration": 16843,
    "start_time": "2022-01-24T13:26:12.931Z"
   },
   {
    "duration": 29,
    "start_time": "2022-01-24T13:26:29.842Z"
   },
   {
    "duration": 3,
    "start_time": "2022-01-24T13:32:05.101Z"
   },
   {
    "duration": 1150,
    "start_time": "2022-01-24T13:40:18.229Z"
   },
   {
    "duration": 147,
    "start_time": "2022-01-24T13:40:19.381Z"
   },
   {
    "duration": 21,
    "start_time": "2022-01-24T13:40:19.530Z"
   },
   {
    "duration": 217,
    "start_time": "2022-01-24T13:40:19.553Z"
   },
   {
    "duration": 4,
    "start_time": "2022-01-24T13:40:19.772Z"
   },
   {
    "duration": 9,
    "start_time": "2022-01-24T13:40:19.777Z"
   },
   {
    "duration": 4,
    "start_time": "2022-01-24T13:40:19.788Z"
   },
   {
    "duration": 17,
    "start_time": "2022-01-24T13:41:06.963Z"
   },
   {
    "duration": 12,
    "start_time": "2022-01-24T13:41:18.842Z"
   },
   {
    "duration": 11,
    "start_time": "2022-01-24T13:41:33.339Z"
   },
   {
    "duration": 80,
    "start_time": "2022-01-24T13:43:21.707Z"
   },
   {
    "duration": 169,
    "start_time": "2022-01-24T13:43:27.353Z"
   },
   {
    "duration": 30,
    "start_time": "2022-01-24T13:43:31.513Z"
   },
   {
    "duration": 47,
    "start_time": "2022-01-24T13:44:03.290Z"
   },
   {
    "duration": 18,
    "start_time": "2022-01-24T13:44:06.106Z"
   },
   {
    "duration": 31,
    "start_time": "2022-01-24T13:44:56.458Z"
   },
   {
    "duration": 71,
    "start_time": "2022-01-24T13:45:16.649Z"
   },
   {
    "duration": 65,
    "start_time": "2022-01-24T13:47:17.235Z"
   },
   {
    "duration": 38,
    "start_time": "2022-01-24T13:49:54.457Z"
   },
   {
    "duration": 315,
    "start_time": "2022-01-24T14:01:30.943Z"
   },
   {
    "duration": 232,
    "start_time": "2022-01-24T14:01:38.382Z"
   },
   {
    "duration": 1126,
    "start_time": "2022-01-24T14:02:01.427Z"
   },
   {
    "duration": 152,
    "start_time": "2022-01-24T14:02:02.555Z"
   },
   {
    "duration": 21,
    "start_time": "2022-01-24T14:02:02.709Z"
   },
   {
    "duration": 201,
    "start_time": "2022-01-24T14:02:02.731Z"
   },
   {
    "duration": 5,
    "start_time": "2022-01-24T14:02:02.934Z"
   },
   {
    "duration": 331,
    "start_time": "2022-01-24T14:02:02.940Z"
   },
   {
    "duration": 49,
    "start_time": "2022-01-24T14:14:33.012Z"
   },
   {
    "duration": 75,
    "start_time": "2022-01-24T14:14:39.483Z"
   },
   {
    "duration": 2,
    "start_time": "2022-01-24T17:22:35.969Z"
   },
   {
    "duration": 30,
    "start_time": "2022-01-24T17:23:54.431Z"
   },
   {
    "duration": 23,
    "start_time": "2022-01-24T17:26:12.529Z"
   },
   {
    "duration": 34,
    "start_time": "2022-01-24T17:26:16.277Z"
   },
   {
    "duration": 251,
    "start_time": "2022-01-24T17:26:34.149Z"
   },
   {
    "duration": 251,
    "start_time": "2022-01-24T17:26:42.378Z"
   },
   {
    "duration": 23,
    "start_time": "2022-01-24T17:26:48.142Z"
   },
   {
    "duration": 23,
    "start_time": "2022-01-24T17:26:57.220Z"
   },
   {
    "duration": 14,
    "start_time": "2022-01-24T17:27:14.374Z"
   },
   {
    "duration": 26,
    "start_time": "2022-01-24T17:27:17.812Z"
   },
   {
    "duration": 2,
    "start_time": "2022-01-24T17:35:02.225Z"
   },
   {
    "duration": 17,
    "start_time": "2022-01-24T17:44:28.932Z"
   },
   {
    "duration": 26,
    "start_time": "2022-01-24T17:44:37.522Z"
   },
   {
    "duration": 39,
    "start_time": "2022-01-24T17:47:03.699Z"
   },
   {
    "duration": 28,
    "start_time": "2022-01-24T17:47:14.949Z"
   },
   {
    "duration": 66,
    "start_time": "2022-01-24T17:50:18.699Z"
   },
   {
    "duration": 41,
    "start_time": "2022-01-24T17:51:51.368Z"
   },
   {
    "duration": 94,
    "start_time": "2022-01-24T17:52:42.794Z"
   },
   {
    "duration": 79,
    "start_time": "2022-01-24T17:52:52.970Z"
   },
   {
    "duration": 88,
    "start_time": "2022-01-24T17:53:43.679Z"
   },
   {
    "duration": 5699,
    "start_time": "2022-01-24T18:13:56.337Z"
   },
   {
    "duration": 1224,
    "start_time": "2022-01-24T18:14:11.109Z"
   },
   {
    "duration": 304,
    "start_time": "2022-01-24T18:14:12.335Z"
   },
   {
    "duration": -783,
    "start_time": "2022-01-24T18:14:13.425Z"
   },
   {
    "duration": -786,
    "start_time": "2022-01-24T18:14:13.430Z"
   },
   {
    "duration": -787,
    "start_time": "2022-01-24T18:14:13.432Z"
   },
   {
    "duration": -787,
    "start_time": "2022-01-24T18:14:13.433Z"
   },
   {
    "duration": -786,
    "start_time": "2022-01-24T18:14:13.434Z"
   },
   {
    "duration": -786,
    "start_time": "2022-01-24T18:14:13.435Z"
   },
   {
    "duration": 247,
    "start_time": "2022-01-24T18:14:44.605Z"
   },
   {
    "duration": 312,
    "start_time": "2022-01-24T18:14:51.323Z"
   },
   {
    "duration": 1182,
    "start_time": "2022-01-24T18:15:19.272Z"
   },
   {
    "duration": 357,
    "start_time": "2022-01-24T18:15:20.456Z"
   },
   {
    "duration": -772,
    "start_time": "2022-01-24T18:15:21.587Z"
   },
   {
    "duration": -773,
    "start_time": "2022-01-24T18:15:21.589Z"
   },
   {
    "duration": -773,
    "start_time": "2022-01-24T18:15:21.590Z"
   },
   {
    "duration": -774,
    "start_time": "2022-01-24T18:15:21.592Z"
   },
   {
    "duration": -773,
    "start_time": "2022-01-24T18:15:21.593Z"
   },
   {
    "duration": 51,
    "start_time": "2022-01-24T18:16:00.843Z"
   },
   {
    "duration": 31,
    "start_time": "2022-01-24T18:16:16.772Z"
   },
   {
    "duration": 33,
    "start_time": "2022-01-24T18:21:58.576Z"
   },
   {
    "duration": 255,
    "start_time": "2022-01-24T18:29:56.854Z"
   },
   {
    "duration": 365,
    "start_time": "2022-01-24T18:31:54.345Z"
   },
   {
    "duration": 1198,
    "start_time": "2022-01-24T18:32:01.553Z"
   },
   {
    "duration": 287,
    "start_time": "2022-01-24T18:32:02.752Z"
   },
   {
    "duration": -785,
    "start_time": "2022-01-24T18:32:03.826Z"
   },
   {
    "duration": -789,
    "start_time": "2022-01-24T18:32:03.831Z"
   },
   {
    "duration": -790,
    "start_time": "2022-01-24T18:32:03.833Z"
   },
   {
    "duration": -796,
    "start_time": "2022-01-24T18:32:03.840Z"
   },
   {
    "duration": 252,
    "start_time": "2022-01-24T18:33:49.570Z"
   },
   {
    "duration": 1205,
    "start_time": "2022-01-24T18:34:02.128Z"
   },
   {
    "duration": 103,
    "start_time": "2022-01-24T18:34:03.334Z"
   },
   {
    "duration": 437,
    "start_time": "2022-01-24T18:34:03.440Z"
   },
   {
    "duration": -1655,
    "start_time": "2022-01-24T18:34:05.534Z"
   },
   {
    "duration": -1663,
    "start_time": "2022-01-24T18:34:05.543Z"
   },
   {
    "duration": -1663,
    "start_time": "2022-01-24T18:34:05.544Z"
   },
   {
    "duration": 1240,
    "start_time": "2022-01-24T18:35:14.889Z"
   },
   {
    "duration": 100,
    "start_time": "2022-01-24T18:35:16.131Z"
   },
   {
    "duration": 493,
    "start_time": "2022-01-24T18:35:16.235Z"
   },
   {
    "duration": -775,
    "start_time": "2022-01-24T18:35:17.504Z"
   },
   {
    "duration": -786,
    "start_time": "2022-01-24T18:35:17.516Z"
   },
   {
    "duration": -793,
    "start_time": "2022-01-24T18:35:17.524Z"
   },
   {
    "duration": 191,
    "start_time": "2022-01-24T18:35:25.156Z"
   },
   {
    "duration": 588,
    "start_time": "2022-01-24T18:36:18.832Z"
   },
   {
    "duration": 70,
    "start_time": "2022-01-24T18:36:19.422Z"
   },
   {
    "duration": 205,
    "start_time": "2022-01-24T18:36:19.494Z"
   },
   {
    "duration": 3,
    "start_time": "2022-01-24T18:36:19.700Z"
   },
   {
    "duration": 2,
    "start_time": "2022-01-24T18:36:19.712Z"
   },
   {
    "duration": 4,
    "start_time": "2022-01-24T18:36:19.716Z"
   },
   {
    "duration": 176,
    "start_time": "2022-01-24T18:36:41.675Z"
   },
   {
    "duration": 179,
    "start_time": "2022-01-24T18:36:47.896Z"
   },
   {
    "duration": 170,
    "start_time": "2022-01-24T18:36:56.236Z"
   },
   {
    "duration": 14,
    "start_time": "2022-01-24T18:37:00.002Z"
   },
   {
    "duration": 1162,
    "start_time": "2022-01-24T18:37:09.160Z"
   },
   {
    "duration": 95,
    "start_time": "2022-01-24T18:37:10.324Z"
   },
   {
    "duration": 193,
    "start_time": "2022-01-24T18:37:10.422Z"
   },
   {
    "duration": 15,
    "start_time": "2022-01-24T18:37:10.618Z"
   },
   {
    "duration": 2,
    "start_time": "2022-01-24T18:37:10.635Z"
   },
   {
    "duration": 4,
    "start_time": "2022-01-24T18:37:10.639Z"
   },
   {
    "duration": 5,
    "start_time": "2022-01-24T18:37:10.645Z"
   },
   {
    "duration": 1776,
    "start_time": "2022-01-24T18:37:33.817Z"
   },
   {
    "duration": 19,
    "start_time": "2022-01-24T18:37:35.594Z"
   },
   {
    "duration": 248,
    "start_time": "2022-01-24T18:37:53.876Z"
   },
   {
    "duration": 12,
    "start_time": "2022-01-24T18:37:54.380Z"
   },
   {
    "duration": 1109,
    "start_time": "2022-01-24T18:38:05.844Z"
   },
   {
    "duration": 103,
    "start_time": "2022-01-24T18:38:06.955Z"
   },
   {
    "duration": 236,
    "start_time": "2022-01-24T18:38:07.060Z"
   },
   {
    "duration": 21,
    "start_time": "2022-01-24T18:38:07.298Z"
   },
   {
    "duration": 2,
    "start_time": "2022-01-24T18:38:07.320Z"
   },
   {
    "duration": 4,
    "start_time": "2022-01-24T18:38:07.324Z"
   },
   {
    "duration": 5,
    "start_time": "2022-01-24T18:38:07.330Z"
   },
   {
    "duration": 50,
    "start_time": "2022-01-24T18:38:56.614Z"
   },
   {
    "duration": 293,
    "start_time": "2022-01-25T05:29:25.773Z"
   },
   {
    "duration": 4,
    "start_time": "2022-01-25T05:40:49.578Z"
   },
   {
    "duration": 1133,
    "start_time": "2022-01-25T05:40:57.686Z"
   },
   {
    "duration": 73,
    "start_time": "2022-01-25T05:40:58.821Z"
   },
   {
    "duration": 16,
    "start_time": "2022-01-25T05:40:58.896Z"
   },
   {
    "duration": 6,
    "start_time": "2022-01-25T05:40:58.914Z"
   },
   {
    "duration": 3,
    "start_time": "2022-01-25T05:40:58.922Z"
   },
   {
    "duration": 4,
    "start_time": "2022-01-25T05:40:58.927Z"
   },
   {
    "duration": 15,
    "start_time": "2022-01-25T05:41:12.361Z"
   },
   {
    "duration": 442,
    "start_time": "2022-01-25T05:42:16.962Z"
   },
   {
    "duration": 427,
    "start_time": "2022-01-25T05:42:49.688Z"
   },
   {
    "duration": 1112,
    "start_time": "2022-01-25T05:43:02.637Z"
   },
   {
    "duration": 98,
    "start_time": "2022-01-25T05:43:03.750Z"
   },
   {
    "duration": 451,
    "start_time": "2022-01-25T05:43:03.850Z"
   },
   {
    "duration": -118,
    "start_time": "2022-01-25T05:43:04.421Z"
   },
   {
    "duration": -120,
    "start_time": "2022-01-25T05:43:04.424Z"
   },
   {
    "duration": -121,
    "start_time": "2022-01-25T05:43:04.426Z"
   },
   {
    "duration": -122,
    "start_time": "2022-01-25T05:43:04.428Z"
   },
   {
    "duration": 40,
    "start_time": "2022-01-25T06:05:55.904Z"
   },
   {
    "duration": 269,
    "start_time": "2022-01-25T06:09:10.033Z"
   },
   {
    "duration": 1188,
    "start_time": "2022-01-25T06:09:20.793Z"
   },
   {
    "duration": 334,
    "start_time": "2022-01-25T06:09:21.983Z"
   },
   {
    "duration": -65,
    "start_time": "2022-01-25T06:09:22.384Z"
   },
   {
    "duration": -65,
    "start_time": "2022-01-25T06:09:22.385Z"
   },
   {
    "duration": -64,
    "start_time": "2022-01-25T06:09:22.386Z"
   },
   {
    "duration": -66,
    "start_time": "2022-01-25T06:09:22.389Z"
   },
   {
    "duration": -66,
    "start_time": "2022-01-25T06:09:22.390Z"
   },
   {
    "duration": 1102,
    "start_time": "2022-01-25T06:09:50.461Z"
   },
   {
    "duration": 422,
    "start_time": "2022-01-25T06:09:51.565Z"
   },
   {
    "duration": -94,
    "start_time": "2022-01-25T06:09:52.083Z"
   },
   {
    "duration": -94,
    "start_time": "2022-01-25T06:09:52.084Z"
   },
   {
    "duration": -113,
    "start_time": "2022-01-25T06:09:52.105Z"
   },
   {
    "duration": -113,
    "start_time": "2022-01-25T06:09:52.106Z"
   },
   {
    "duration": -126,
    "start_time": "2022-01-25T06:09:52.120Z"
   },
   {
    "duration": 254,
    "start_time": "2022-01-25T06:10:03.439Z"
   },
   {
    "duration": 1097,
    "start_time": "2022-01-25T06:10:12.474Z"
   },
   {
    "duration": 111,
    "start_time": "2022-01-25T06:10:13.573Z"
   },
   {
    "duration": 2,
    "start_time": "2022-01-25T06:10:13.686Z"
   },
   {
    "duration": 27,
    "start_time": "2022-01-25T06:10:13.690Z"
   },
   {
    "duration": 2,
    "start_time": "2022-01-25T06:10:13.719Z"
   },
   {
    "duration": 4,
    "start_time": "2022-01-25T06:10:13.723Z"
   },
   {
    "duration": 4,
    "start_time": "2022-01-25T06:10:13.728Z"
   },
   {
    "duration": 62,
    "start_time": "2022-01-25T06:10:33.221Z"
   },
   {
    "duration": 51,
    "start_time": "2022-01-25T06:18:58.530Z"
   },
   {
    "duration": 44,
    "start_time": "2022-01-25T06:20:23.211Z"
   },
   {
    "duration": 38,
    "start_time": "2022-01-25T06:20:34.818Z"
   },
   {
    "duration": 38,
    "start_time": "2022-01-25T06:21:12.346Z"
   },
   {
    "duration": 39,
    "start_time": "2022-01-25T06:22:25.125Z"
   },
   {
    "duration": 40,
    "start_time": "2022-01-25T06:22:34.969Z"
   },
   {
    "duration": 40,
    "start_time": "2022-01-25T06:25:51.066Z"
   },
   {
    "duration": 39,
    "start_time": "2022-01-25T06:26:37.857Z"
   },
   {
    "duration": 40,
    "start_time": "2022-01-25T06:29:20.400Z"
   },
   {
    "duration": 39,
    "start_time": "2022-01-25T06:29:39.688Z"
   },
   {
    "duration": 1109,
    "start_time": "2022-01-25T06:30:33.458Z"
   },
   {
    "duration": 302,
    "start_time": "2022-01-25T06:30:34.569Z"
   },
   {
    "duration": -74,
    "start_time": "2022-01-25T06:30:34.947Z"
   },
   {
    "duration": -74,
    "start_time": "2022-01-25T06:30:34.949Z"
   },
   {
    "duration": -75,
    "start_time": "2022-01-25T06:30:34.951Z"
   },
   {
    "duration": -78,
    "start_time": "2022-01-25T06:30:34.955Z"
   },
   {
    "duration": 254,
    "start_time": "2022-01-25T06:32:38.007Z"
   },
   {
    "duration": 1164,
    "start_time": "2022-01-25T06:32:47.124Z"
   },
   {
    "duration": 5669,
    "start_time": "2022-01-25T06:32:48.289Z"
   },
   {
    "duration": -77,
    "start_time": "2022-01-25T06:32:54.038Z"
   },
   {
    "duration": -77,
    "start_time": "2022-01-25T06:32:54.039Z"
   },
   {
    "duration": -77,
    "start_time": "2022-01-25T06:32:54.040Z"
   },
   {
    "duration": -77,
    "start_time": "2022-01-25T06:32:54.041Z"
   },
   {
    "duration": 7154,
    "start_time": "2022-01-25T06:33:16.600Z"
   },
   {
    "duration": -140,
    "start_time": "2022-01-25T06:33:23.896Z"
   },
   {
    "duration": 1154,
    "start_time": "2022-01-25T06:33:55.015Z"
   },
   {
    "duration": 6748,
    "start_time": "2022-01-25T06:33:56.170Z"
   },
   {
    "duration": -140,
    "start_time": "2022-01-25T06:34:03.061Z"
   },
   {
    "duration": -150,
    "start_time": "2022-01-25T06:34:03.073Z"
   },
   {
    "duration": -150,
    "start_time": "2022-01-25T06:34:03.075Z"
   },
   {
    "duration": -163,
    "start_time": "2022-01-25T06:34:03.089Z"
   },
   {
    "duration": 6364,
    "start_time": "2022-01-25T06:36:55.501Z"
   },
   {
    "duration": 1138,
    "start_time": "2022-01-25T06:37:15.247Z"
   },
   {
    "duration": 26,
    "start_time": "2022-01-25T06:37:16.386Z"
   },
   {
    "duration": 5767,
    "start_time": "2022-01-25T06:37:16.414Z"
   },
   {
    "duration": -138,
    "start_time": "2022-01-25T06:37:22.321Z"
   },
   {
    "duration": -152,
    "start_time": "2022-01-25T06:37:22.336Z"
   },
   {
    "duration": -166,
    "start_time": "2022-01-25T06:37:22.351Z"
   },
   {
    "duration": -166,
    "start_time": "2022-01-25T06:37:22.352Z"
   },
   {
    "duration": 1088,
    "start_time": "2022-01-25T06:38:53.650Z"
   },
   {
    "duration": 7,
    "start_time": "2022-01-25T06:38:54.739Z"
   },
   {
    "duration": 5659,
    "start_time": "2022-01-25T06:38:54.748Z"
   },
   {
    "duration": -132,
    "start_time": "2022-01-25T06:39:00.542Z"
   },
   {
    "duration": -135,
    "start_time": "2022-01-25T06:39:00.546Z"
   },
   {
    "duration": -135,
    "start_time": "2022-01-25T06:39:00.547Z"
   },
   {
    "duration": -136,
    "start_time": "2022-01-25T06:39:00.549Z"
   },
   {
    "duration": 5579,
    "start_time": "2022-01-25T06:39:24.027Z"
   },
   {
    "duration": 5569,
    "start_time": "2022-01-25T06:39:38.930Z"
   },
   {
    "duration": 4,
    "start_time": "2022-01-25T06:40:03.169Z"
   },
   {
    "duration": 1105,
    "start_time": "2022-01-25T06:40:59.458Z"
   },
   {
    "duration": 8,
    "start_time": "2022-01-25T06:41:00.565Z"
   },
   {
    "duration": 6390,
    "start_time": "2022-01-25T06:41:00.575Z"
   },
   {
    "duration": -145,
    "start_time": "2022-01-25T06:41:07.112Z"
   },
   {
    "duration": -148,
    "start_time": "2022-01-25T06:41:07.116Z"
   },
   {
    "duration": -149,
    "start_time": "2022-01-25T06:41:07.118Z"
   },
   {
    "duration": -150,
    "start_time": "2022-01-25T06:41:07.119Z"
   },
   {
    "duration": -156,
    "start_time": "2022-01-25T06:41:07.126Z"
   },
   {
    "duration": 5993,
    "start_time": "2022-01-25T06:42:19.262Z"
   },
   {
    "duration": 6065,
    "start_time": "2022-01-25T06:43:33.677Z"
   },
   {
    "duration": 5610,
    "start_time": "2022-01-25T06:44:01.533Z"
   },
   {
    "duration": 5803,
    "start_time": "2022-01-25T06:45:32.997Z"
   },
   {
    "duration": 5597,
    "start_time": "2022-01-25T06:45:53.429Z"
   },
   {
    "duration": 1179,
    "start_time": "2022-01-25T06:46:05.497Z"
   },
   {
    "duration": 9,
    "start_time": "2022-01-25T06:46:06.677Z"
   },
   {
    "duration": 5904,
    "start_time": "2022-01-25T06:46:06.688Z"
   },
   {
    "duration": -143,
    "start_time": "2022-01-25T06:46:12.737Z"
   },
   {
    "duration": -144,
    "start_time": "2022-01-25T06:46:12.739Z"
   },
   {
    "duration": -152,
    "start_time": "2022-01-25T06:46:12.748Z"
   },
   {
    "duration": -152,
    "start_time": "2022-01-25T06:46:12.750Z"
   },
   {
    "duration": -165,
    "start_time": "2022-01-25T06:46:12.764Z"
   },
   {
    "duration": 239,
    "start_time": "2022-01-25T06:46:29.918Z"
   },
   {
    "duration": 228,
    "start_time": "2022-01-25T06:46:45.253Z"
   },
   {
    "duration": 239,
    "start_time": "2022-01-25T06:46:51.071Z"
   },
   {
    "duration": 271,
    "start_time": "2022-01-25T06:46:55.166Z"
   },
   {
    "duration": 5709,
    "start_time": "2022-01-25T06:47:04.119Z"
   },
   {
    "duration": 5739,
    "start_time": "2022-01-25T06:47:34.135Z"
   },
   {
    "duration": 46,
    "start_time": "2022-01-25T06:49:01.742Z"
   },
   {
    "duration": 858,
    "start_time": "2022-01-25T06:49:58.718Z"
   },
   {
    "duration": 1106,
    "start_time": "2022-01-25T06:50:13.659Z"
   },
   {
    "duration": 7,
    "start_time": "2022-01-25T06:50:14.767Z"
   },
   {
    "duration": 79,
    "start_time": "2022-01-25T06:50:14.776Z"
   },
   {
    "duration": 71,
    "start_time": "2022-01-25T06:50:14.857Z"
   },
   {
    "duration": -669,
    "start_time": "2022-01-25T06:50:15.599Z"
   },
   {
    "duration": -670,
    "start_time": "2022-01-25T06:50:15.601Z"
   },
   {
    "duration": -683,
    "start_time": "2022-01-25T06:50:15.614Z"
   },
   {
    "duration": -684,
    "start_time": "2022-01-25T06:50:15.616Z"
   },
   {
    "duration": 4,
    "start_time": "2022-01-25T06:50:45.122Z"
   },
   {
    "duration": 10,
    "start_time": "2022-01-25T06:50:56.474Z"
   },
   {
    "duration": 22,
    "start_time": "2022-01-25T06:51:05.106Z"
   },
   {
    "duration": 10,
    "start_time": "2022-01-25T06:52:50.745Z"
   },
   {
    "duration": 69,
    "start_time": "2022-01-25T06:57:34.328Z"
   },
   {
    "duration": 56,
    "start_time": "2022-01-25T06:58:24.939Z"
   },
   {
    "duration": 57,
    "start_time": "2022-01-25T06:58:32.914Z"
   },
   {
    "duration": 50,
    "start_time": "2022-01-25T06:58:38.978Z"
   },
   {
    "duration": 58,
    "start_time": "2022-01-25T06:58:44.127Z"
   },
   {
    "duration": 97,
    "start_time": "2022-01-25T07:00:43.377Z"
   },
   {
    "duration": 97,
    "start_time": "2022-01-25T07:00:48.277Z"
   },
   {
    "duration": 202,
    "start_time": "2022-01-25T07:04:41.280Z"
   },
   {
    "duration": 179,
    "start_time": "2022-01-25T07:04:48.376Z"
   },
   {
    "duration": 200,
    "start_time": "2022-01-25T07:05:37.776Z"
   },
   {
    "duration": 462,
    "start_time": "2022-01-25T07:08:59.961Z"
   },
   {
    "duration": 401,
    "start_time": "2022-01-25T07:09:04.583Z"
   },
   {
    "duration": 425,
    "start_time": "2022-01-25T07:14:37.630Z"
   },
   {
    "duration": 403,
    "start_time": "2022-01-25T07:14:42.557Z"
   },
   {
    "duration": 187,
    "start_time": "2022-01-25T07:14:46.782Z"
   },
   {
    "duration": 165,
    "start_time": "2022-01-25T07:15:10.619Z"
   },
   {
    "duration": 311,
    "start_time": "2022-01-25T07:16:01.174Z"
   },
   {
    "duration": 337,
    "start_time": "2022-01-25T07:16:05.677Z"
   },
   {
    "duration": 170,
    "start_time": "2022-01-25T07:16:55.526Z"
   },
   {
    "duration": 370,
    "start_time": "2022-01-25T07:25:55.412Z"
   },
   {
    "duration": 113,
    "start_time": "2022-01-25T07:26:28.053Z"
   },
   {
    "duration": 125,
    "start_time": "2022-01-25T07:26:32.980Z"
   },
   {
    "duration": 162,
    "start_time": "2022-01-25T07:31:29.467Z"
   },
   {
    "duration": 22,
    "start_time": "2022-01-25T07:31:46.291Z"
   },
   {
    "duration": 6,
    "start_time": "2022-01-25T07:32:47.916Z"
   },
   {
    "duration": 219,
    "start_time": "2022-01-25T07:32:58.634Z"
   },
   {
    "duration": 256,
    "start_time": "2022-01-25T07:33:13.204Z"
   },
   {
    "duration": 18,
    "start_time": "2022-01-25T07:33:22.531Z"
   },
   {
    "duration": 1158,
    "start_time": "2022-01-25T07:33:36.231Z"
   },
   {
    "duration": 27,
    "start_time": "2022-01-25T07:33:37.391Z"
   },
   {
    "duration": 73,
    "start_time": "2022-01-25T07:33:37.422Z"
   },
   {
    "duration": 265,
    "start_time": "2022-01-25T07:33:37.496Z"
   },
   {
    "duration": 307,
    "start_time": "2022-01-25T07:33:37.762Z"
   },
   {
    "duration": 20,
    "start_time": "2022-01-25T07:33:38.071Z"
   },
   {
    "duration": 7,
    "start_time": "2022-01-25T07:33:50.894Z"
   },
   {
    "duration": 313,
    "start_time": "2022-01-25T07:44:34.253Z"
   },
   {
    "duration": 231,
    "start_time": "2022-01-25T07:47:23.556Z"
   },
   {
    "duration": 508,
    "start_time": "2022-01-25T07:47:28.691Z"
   },
   {
    "duration": 5535,
    "start_time": "2022-01-25T07:47:38.187Z"
   },
   {
    "duration": 6140,
    "start_time": "2022-01-25T07:47:44.811Z"
   },
   {
    "duration": 225,
    "start_time": "2022-01-25T07:49:10.971Z"
   },
   {
    "duration": 317,
    "start_time": "2022-01-25T07:49:24.267Z"
   },
   {
    "duration": 1147,
    "start_time": "2022-01-25T07:49:46.539Z"
   },
   {
    "duration": 31,
    "start_time": "2022-01-25T07:49:47.688Z"
   },
   {
    "duration": 74,
    "start_time": "2022-01-25T07:49:47.721Z"
   },
   {
    "duration": 244,
    "start_time": "2022-01-25T07:49:47.797Z"
   },
   {
    "duration": 305,
    "start_time": "2022-01-25T07:49:48.043Z"
   },
   {
    "duration": 8,
    "start_time": "2022-01-25T07:49:48.350Z"
   },
   {
    "duration": 280,
    "start_time": "2022-01-25T07:50:58.073Z"
   },
   {
    "duration": 1133,
    "start_time": "2022-01-25T07:51:09.633Z"
   },
   {
    "duration": 7,
    "start_time": "2022-01-25T07:51:10.768Z"
   },
   {
    "duration": 99,
    "start_time": "2022-01-25T07:51:10.778Z"
   },
   {
    "duration": 248,
    "start_time": "2022-01-25T07:51:10.879Z"
   },
   {
    "duration": 307,
    "start_time": "2022-01-25T07:51:11.129Z"
   },
   {
    "duration": 300,
    "start_time": "2022-01-25T07:51:11.438Z"
   },
   {
    "duration": 236,
    "start_time": "2022-01-25T07:52:58.966Z"
   },
   {
    "duration": 5,
    "start_time": "2022-01-25T07:53:07.966Z"
   },
   {
    "duration": 1077,
    "start_time": "2022-01-25T07:53:38.549Z"
   },
   {
    "duration": 7,
    "start_time": "2022-01-25T07:53:39.628Z"
   },
   {
    "duration": 87,
    "start_time": "2022-01-25T07:53:39.637Z"
   },
   {
    "duration": 239,
    "start_time": "2022-01-25T07:53:39.725Z"
   },
   {
    "duration": 309,
    "start_time": "2022-01-25T07:53:39.966Z"
   },
   {
    "duration": 3,
    "start_time": "2022-01-25T07:53:40.277Z"
   },
   {
    "duration": 4,
    "start_time": "2022-01-25T07:54:25.665Z"
   },
   {
    "duration": 298,
    "start_time": "2022-01-25T08:02:08.007Z"
   },
   {
    "duration": 258,
    "start_time": "2022-01-25T08:02:22.368Z"
   },
   {
    "duration": 242,
    "start_time": "2022-01-25T08:02:25.623Z"
   },
   {
    "duration": 5,
    "start_time": "2022-01-25T08:02:33.191Z"
   },
   {
    "duration": 224,
    "start_time": "2022-01-25T08:02:48.223Z"
   },
   {
    "duration": 6000,
    "start_time": "2022-01-25T08:02:55.879Z"
   },
   {
    "duration": 5,
    "start_time": "2022-01-25T08:03:04.296Z"
   },
   {
    "duration": 4,
    "start_time": "2022-01-25T08:03:11.702Z"
   },
   {
    "duration": 240,
    "start_time": "2022-01-25T08:03:33.911Z"
   },
   {
    "duration": 235,
    "start_time": "2022-01-25T08:03:41.663Z"
   },
   {
    "duration": 1156,
    "start_time": "2022-01-25T08:09:37.780Z"
   },
   {
    "duration": 8,
    "start_time": "2022-01-25T08:09:38.938Z"
   },
   {
    "duration": 90,
    "start_time": "2022-01-25T08:09:38.948Z"
   },
   {
    "duration": 246,
    "start_time": "2022-01-25T08:09:39.040Z"
   },
   {
    "duration": 307,
    "start_time": "2022-01-25T08:09:39.288Z"
   },
   {
    "duration": 3,
    "start_time": "2022-01-25T08:09:39.597Z"
   },
   {
    "duration": 281,
    "start_time": "2022-01-25T08:09:39.601Z"
   },
   {
    "duration": -60,
    "start_time": "2022-01-25T08:09:39.944Z"
   },
   {
    "duration": 223,
    "start_time": "2022-01-25T08:10:16.628Z"
   },
   {
    "duration": 249,
    "start_time": "2022-01-25T08:10:32.398Z"
   },
   {
    "duration": 242,
    "start_time": "2022-01-25T08:12:17.918Z"
   },
   {
    "duration": 235,
    "start_time": "2022-01-25T08:12:24.087Z"
   },
   {
    "duration": 1179,
    "start_time": "2022-01-25T08:12:32.103Z"
   },
   {
    "duration": 29,
    "start_time": "2022-01-25T08:12:33.283Z"
   },
   {
    "duration": 75,
    "start_time": "2022-01-25T08:12:33.316Z"
   },
   {
    "duration": 259,
    "start_time": "2022-01-25T08:12:33.393Z"
   },
   {
    "duration": 310,
    "start_time": "2022-01-25T08:12:33.653Z"
   },
   {
    "duration": 322,
    "start_time": "2022-01-25T08:12:33.965Z"
   },
   {
    "duration": -84,
    "start_time": "2022-01-25T08:12:34.373Z"
   },
   {
    "duration": -96,
    "start_time": "2022-01-25T08:12:34.386Z"
   },
   {
    "duration": 9,
    "start_time": "2022-01-25T08:12:42.916Z"
   },
   {
    "duration": 8,
    "start_time": "2022-01-25T08:13:02.729Z"
   },
   {
    "duration": 4,
    "start_time": "2022-01-25T08:13:10.920Z"
   },
   {
    "duration": 5,
    "start_time": "2022-01-25T08:13:14.151Z"
   },
   {
    "duration": 8,
    "start_time": "2022-01-25T08:13:16.296Z"
   },
   {
    "duration": 23,
    "start_time": "2022-01-25T08:13:22.183Z"
   },
   {
    "duration": 21,
    "start_time": "2022-01-25T08:13:35.761Z"
   },
   {
    "duration": 958,
    "start_time": "2022-01-25T08:16:27.599Z"
   },
   {
    "duration": 939,
    "start_time": "2022-01-25T08:16:44.239Z"
   },
   {
    "duration": 82,
    "start_time": "2022-01-25T08:17:25.216Z"
   },
   {
    "duration": 77,
    "start_time": "2022-01-25T08:17:28.783Z"
   },
   {
    "duration": 71,
    "start_time": "2022-01-25T08:17:33.277Z"
   },
   {
    "duration": 256,
    "start_time": "2022-01-25T08:17:39.671Z"
   },
   {
    "duration": 243,
    "start_time": "2022-01-25T08:17:43.334Z"
   },
   {
    "duration": 4,
    "start_time": "2022-01-25T08:17:53.486Z"
   },
   {
    "duration": 4,
    "start_time": "2022-01-25T08:25:33.422Z"
   },
   {
    "duration": 4,
    "start_time": "2022-01-25T08:25:37.909Z"
   },
   {
    "duration": 4,
    "start_time": "2022-01-25T08:25:47.813Z"
   },
   {
    "duration": 240,
    "start_time": "2022-01-25T08:26:01.949Z"
   },
   {
    "duration": 5,
    "start_time": "2022-01-25T08:26:14.597Z"
   },
   {
    "duration": 4,
    "start_time": "2022-01-25T08:26:19.135Z"
   },
   {
    "duration": 25,
    "start_time": "2022-01-25T08:26:59.598Z"
   },
   {
    "duration": 25,
    "start_time": "2022-01-25T08:29:14.933Z"
   },
   {
    "duration": 1187,
    "start_time": "2022-01-25T08:29:42.645Z"
   },
   {
    "duration": 8,
    "start_time": "2022-01-25T08:29:43.834Z"
   },
   {
    "duration": 90,
    "start_time": "2022-01-25T08:29:43.844Z"
   },
   {
    "duration": 264,
    "start_time": "2022-01-25T08:29:43.936Z"
   },
   {
    "duration": 309,
    "start_time": "2022-01-25T08:29:44.202Z"
   },
   {
    "duration": 3,
    "start_time": "2022-01-25T08:29:44.513Z"
   },
   {
    "duration": 9,
    "start_time": "2022-01-25T08:29:44.518Z"
   },
   {
    "duration": 24,
    "start_time": "2022-01-25T08:29:44.529Z"
   },
   {
    "duration": 2,
    "start_time": "2022-01-25T08:29:44.555Z"
   },
   {
    "duration": 306,
    "start_time": "2022-01-25T08:36:44.736Z"
   },
   {
    "duration": 69,
    "start_time": "2022-01-25T08:37:43.696Z"
   },
   {
    "duration": 71,
    "start_time": "2022-01-25T08:38:41.927Z"
   },
   {
    "duration": 24,
    "start_time": "2022-01-25T08:39:22.575Z"
   },
   {
    "duration": 5,
    "start_time": "2022-01-25T08:39:29.736Z"
   },
   {
    "duration": 24,
    "start_time": "2022-01-25T08:39:52.806Z"
   },
   {
    "duration": 266,
    "start_time": "2022-01-25T08:40:44.399Z"
   },
   {
    "duration": 1184,
    "start_time": "2022-01-25T08:40:59.259Z"
   },
   {
    "duration": 8,
    "start_time": "2022-01-25T08:41:00.445Z"
   },
   {
    "duration": 101,
    "start_time": "2022-01-25T08:41:00.455Z"
   },
   {
    "duration": 256,
    "start_time": "2022-01-25T08:41:00.558Z"
   },
   {
    "duration": 308,
    "start_time": "2022-01-25T08:41:00.816Z"
   },
   {
    "duration": 8,
    "start_time": "2022-01-25T08:41:01.126Z"
   },
   {
    "duration": 27,
    "start_time": "2022-01-25T08:41:01.135Z"
   },
   {
    "duration": 22,
    "start_time": "2022-01-25T08:41:01.164Z"
   },
   {
    "duration": 21,
    "start_time": "2022-01-25T08:53:03.281Z"
   },
   {
    "duration": 1147,
    "start_time": "2022-01-25T08:53:35.021Z"
   },
   {
    "duration": 8,
    "start_time": "2022-01-25T08:53:36.169Z"
   },
   {
    "duration": 95,
    "start_time": "2022-01-25T08:53:36.179Z"
   },
   {
    "duration": 253,
    "start_time": "2022-01-25T08:53:36.276Z"
   },
   {
    "duration": 301,
    "start_time": "2022-01-25T08:53:36.531Z"
   },
   {
    "duration": 9,
    "start_time": "2022-01-25T08:53:36.834Z"
   },
   {
    "duration": 19,
    "start_time": "2022-01-25T08:53:36.844Z"
   },
   {
    "duration": 2,
    "start_time": "2022-01-25T08:53:36.866Z"
   },
   {
    "duration": 5,
    "start_time": "2022-01-25T08:53:36.869Z"
   },
   {
    "duration": 20,
    "start_time": "2022-01-25T08:54:20.450Z"
   },
   {
    "duration": 7,
    "start_time": "2022-01-25T08:54:27.074Z"
   },
   {
    "duration": 288,
    "start_time": "2022-01-25T08:54:47.409Z"
   },
   {
    "duration": 257,
    "start_time": "2022-01-25T08:54:57.234Z"
   },
   {
    "duration": 1188,
    "start_time": "2022-01-25T08:55:03.089Z"
   },
   {
    "duration": 8,
    "start_time": "2022-01-25T08:55:04.279Z"
   },
   {
    "duration": 96,
    "start_time": "2022-01-25T08:55:04.288Z"
   },
   {
    "duration": 265,
    "start_time": "2022-01-25T08:55:04.386Z"
   },
   {
    "duration": 320,
    "start_time": "2022-01-25T08:55:04.652Z"
   },
   {
    "duration": 8,
    "start_time": "2022-01-25T08:55:04.974Z"
   },
   {
    "duration": 8,
    "start_time": "2022-01-25T08:55:04.984Z"
   },
   {
    "duration": 2,
    "start_time": "2022-01-25T08:55:04.994Z"
   },
   {
    "duration": 16,
    "start_time": "2022-01-25T08:55:04.997Z"
   },
   {
    "duration": 19,
    "start_time": "2022-01-25T08:55:10.177Z"
   },
   {
    "duration": 16,
    "start_time": "2022-01-25T08:55:56.257Z"
   },
   {
    "duration": 1143,
    "start_time": "2022-01-25T08:56:05.475Z"
   },
   {
    "duration": 9,
    "start_time": "2022-01-25T08:56:06.622Z"
   },
   {
    "duration": 97,
    "start_time": "2022-01-25T08:56:06.632Z"
   },
   {
    "duration": 265,
    "start_time": "2022-01-25T08:56:06.731Z"
   },
   {
    "duration": 315,
    "start_time": "2022-01-25T08:56:06.998Z"
   },
   {
    "duration": 9,
    "start_time": "2022-01-25T08:56:07.314Z"
   },
   {
    "duration": 19,
    "start_time": "2022-01-25T08:56:07.325Z"
   },
   {
    "duration": 2,
    "start_time": "2022-01-25T08:56:07.346Z"
   },
   {
    "duration": 9,
    "start_time": "2022-01-25T08:56:07.349Z"
   },
   {
    "duration": 20,
    "start_time": "2022-01-25T08:56:28.082Z"
   },
   {
    "duration": 971,
    "start_time": "2022-01-25T08:58:33.346Z"
   },
   {
    "duration": 883,
    "start_time": "2022-01-25T08:58:39.937Z"
   },
   {
    "duration": 268,
    "start_time": "2022-01-25T08:58:55.266Z"
   },
   {
    "duration": 1173,
    "start_time": "2022-01-25T08:59:05.012Z"
   },
   {
    "duration": 25,
    "start_time": "2022-01-25T08:59:06.187Z"
   },
   {
    "duration": 77,
    "start_time": "2022-01-25T08:59:06.214Z"
   },
   {
    "duration": 268,
    "start_time": "2022-01-25T08:59:06.293Z"
   },
   {
    "duration": 311,
    "start_time": "2022-01-25T08:59:06.563Z"
   },
   {
    "duration": 9,
    "start_time": "2022-01-25T08:59:06.875Z"
   },
   {
    "duration": 29,
    "start_time": "2022-01-25T08:59:06.885Z"
   },
   {
    "duration": 3,
    "start_time": "2022-01-25T08:59:06.916Z"
   },
   {
    "duration": 5,
    "start_time": "2022-01-25T08:59:06.920Z"
   },
   {
    "duration": 19,
    "start_time": "2022-01-25T09:00:02.886Z"
   },
   {
    "duration": 1171,
    "start_time": "2022-01-25T09:01:58.955Z"
   },
   {
    "duration": 8,
    "start_time": "2022-01-25T09:02:00.128Z"
   },
   {
    "duration": 91,
    "start_time": "2022-01-25T09:02:00.138Z"
   },
   {
    "duration": 260,
    "start_time": "2022-01-25T09:02:00.231Z"
   },
   {
    "duration": 309,
    "start_time": "2022-01-25T09:02:00.493Z"
   },
   {
    "duration": 13,
    "start_time": "2022-01-25T09:02:00.804Z"
   },
   {
    "duration": 7545,
    "start_time": "2022-01-25T09:02:00.818Z"
   },
   {
    "duration": -190,
    "start_time": "2022-01-25T09:02:08.555Z"
   },
   {
    "duration": -190,
    "start_time": "2022-01-25T09:02:08.556Z"
   },
   {
    "duration": 18,
    "start_time": "2022-01-25T09:02:33.233Z"
   },
   {
    "duration": 898,
    "start_time": "2022-01-25T09:02:52.292Z"
   },
   {
    "duration": 1219,
    "start_time": "2022-01-25T09:03:11.694Z"
   },
   {
    "duration": 10,
    "start_time": "2022-01-25T09:03:12.915Z"
   },
   {
    "duration": 96,
    "start_time": "2022-01-25T09:03:12.927Z"
   },
   {
    "duration": 251,
    "start_time": "2022-01-25T09:03:13.025Z"
   },
   {
    "duration": 308,
    "start_time": "2022-01-25T09:03:13.278Z"
   },
   {
    "duration": 8,
    "start_time": "2022-01-25T09:03:13.588Z"
   },
   {
    "duration": 997,
    "start_time": "2022-01-25T09:03:13.597Z"
   },
   {
    "duration": -153,
    "start_time": "2022-01-25T09:03:14.748Z"
   },
   {
    "duration": -155,
    "start_time": "2022-01-25T09:03:14.751Z"
   },
   {
    "duration": 1143,
    "start_time": "2022-01-25T09:03:44.730Z"
   },
   {
    "duration": 8,
    "start_time": "2022-01-25T09:03:45.874Z"
   },
   {
    "duration": 93,
    "start_time": "2022-01-25T09:03:45.884Z"
   },
   {
    "duration": 257,
    "start_time": "2022-01-25T09:03:45.978Z"
   },
   {
    "duration": 314,
    "start_time": "2022-01-25T09:03:46.237Z"
   },
   {
    "duration": 8,
    "start_time": "2022-01-25T09:03:46.553Z"
   },
   {
    "duration": 6409,
    "start_time": "2022-01-25T09:03:46.562Z"
   },
   {
    "duration": -184,
    "start_time": "2022-01-25T09:03:53.157Z"
   },
   {
    "duration": -184,
    "start_time": "2022-01-25T09:03:53.158Z"
   },
   {
    "duration": -185,
    "start_time": "2022-01-25T09:03:53.159Z"
   },
   {
    "duration": 18,
    "start_time": "2022-01-25T09:04:08.869Z"
   },
   {
    "duration": 22,
    "start_time": "2022-01-25T09:04:46.476Z"
   },
   {
    "duration": 20,
    "start_time": "2022-01-25T09:05:12.405Z"
   },
   {
    "duration": 1117,
    "start_time": "2022-01-25T09:05:28.659Z"
   },
   {
    "duration": 8,
    "start_time": "2022-01-25T09:05:29.777Z"
   },
   {
    "duration": 74,
    "start_time": "2022-01-25T09:05:29.813Z"
   },
   {
    "duration": 277,
    "start_time": "2022-01-25T09:05:29.888Z"
   },
   {
    "duration": 316,
    "start_time": "2022-01-25T09:05:30.167Z"
   },
   {
    "duration": 8,
    "start_time": "2022-01-25T09:05:30.484Z"
   },
   {
    "duration": 1005,
    "start_time": "2022-01-25T09:05:30.494Z"
   },
   {
    "duration": -87,
    "start_time": "2022-01-25T09:05:31.588Z"
   },
   {
    "duration": -87,
    "start_time": "2022-01-25T09:05:31.589Z"
   },
   {
    "duration": 889,
    "start_time": "2022-01-25T09:05:49.978Z"
   },
   {
    "duration": 1112,
    "start_time": "2022-01-25T09:05:58.769Z"
   },
   {
    "duration": 29,
    "start_time": "2022-01-25T09:05:59.883Z"
   },
   {
    "duration": 69,
    "start_time": "2022-01-25T09:05:59.914Z"
   },
   {
    "duration": 259,
    "start_time": "2022-01-25T09:05:59.985Z"
   },
   {
    "duration": 313,
    "start_time": "2022-01-25T09:06:00.245Z"
   },
   {
    "duration": 9,
    "start_time": "2022-01-25T09:06:00.559Z"
   },
   {
    "duration": 19,
    "start_time": "2022-01-25T09:06:00.569Z"
   },
   {
    "duration": 2,
    "start_time": "2022-01-25T09:06:00.589Z"
   },
   {
    "duration": 19,
    "start_time": "2022-01-25T09:06:00.593Z"
   },
   {
    "duration": 1158,
    "start_time": "2022-01-25T09:07:48.928Z"
   },
   {
    "duration": 10,
    "start_time": "2022-01-25T09:07:50.112Z"
   },
   {
    "duration": 89,
    "start_time": "2022-01-25T09:07:50.124Z"
   },
   {
    "duration": 270,
    "start_time": "2022-01-25T09:07:50.215Z"
   },
   {
    "duration": 307,
    "start_time": "2022-01-25T09:07:50.486Z"
   },
   {
    "duration": 25,
    "start_time": "2022-01-25T09:07:50.795Z"
   },
   {
    "duration": 22,
    "start_time": "2022-01-25T09:07:50.823Z"
   },
   {
    "duration": 2,
    "start_time": "2022-01-25T09:07:50.848Z"
   },
   {
    "duration": 1010,
    "start_time": "2022-01-25T09:10:07.562Z"
   },
   {
    "duration": 1226,
    "start_time": "2022-01-25T09:10:31.210Z"
   },
   {
    "duration": 8,
    "start_time": "2022-01-25T09:10:32.438Z"
   },
   {
    "duration": 97,
    "start_time": "2022-01-25T09:10:32.447Z"
   },
   {
    "duration": 275,
    "start_time": "2022-01-25T09:10:32.546Z"
   },
   {
    "duration": 323,
    "start_time": "2022-01-25T09:10:32.822Z"
   },
   {
    "duration": 18,
    "start_time": "2022-01-25T09:10:33.146Z"
   },
   {
    "duration": 21,
    "start_time": "2022-01-25T09:10:33.166Z"
   },
   {
    "duration": 2,
    "start_time": "2022-01-25T09:10:33.188Z"
   },
   {
    "duration": 24,
    "start_time": "2022-01-25T09:17:01.963Z"
   },
   {
    "duration": 91,
    "start_time": "2022-01-25T09:30:31.162Z"
   },
   {
    "duration": 15,
    "start_time": "2022-01-25T09:30:48.770Z"
   },
   {
    "duration": 21,
    "start_time": "2022-01-25T09:30:58.906Z"
   },
   {
    "duration": 304,
    "start_time": "2022-01-25T10:48:18.870Z"
   },
   {
    "duration": 387,
    "start_time": "2022-01-25T10:49:50.231Z"
   },
   {
    "duration": 418,
    "start_time": "2022-01-25T10:51:27.894Z"
   },
   {
    "duration": 413,
    "start_time": "2022-01-25T10:52:28.317Z"
   },
   {
    "duration": 74,
    "start_time": "2022-01-25T10:54:33.918Z"
   },
   {
    "duration": 81,
    "start_time": "2022-01-25T10:55:11.853Z"
   },
   {
    "duration": 431,
    "start_time": "2022-01-25T10:56:00.614Z"
   },
   {
    "duration": 1183,
    "start_time": "2022-01-25T10:58:06.658Z"
   },
   {
    "duration": 10,
    "start_time": "2022-01-25T10:58:07.844Z"
   },
   {
    "duration": 105,
    "start_time": "2022-01-25T10:58:07.858Z"
   },
   {
    "duration": 280,
    "start_time": "2022-01-25T10:58:07.965Z"
   },
   {
    "duration": 237,
    "start_time": "2022-01-25T10:58:08.246Z"
   },
   {
    "duration": 14,
    "start_time": "2022-01-25T10:58:08.485Z"
   },
   {
    "duration": 36,
    "start_time": "2022-01-25T10:58:08.500Z"
   },
   {
    "duration": 476,
    "start_time": "2022-01-25T10:58:08.538Z"
   },
   {
    "duration": 392,
    "start_time": "2022-01-25T10:58:39.733Z"
   },
   {
    "duration": 22,
    "start_time": "2022-01-25T11:01:53.733Z"
   },
   {
    "duration": 18,
    "start_time": "2022-01-25T11:02:07.141Z"
   },
   {
    "duration": 384,
    "start_time": "2022-01-25T11:03:39.526Z"
   },
   {
    "duration": 180,
    "start_time": "2022-01-25T11:04:35.407Z"
   },
   {
    "duration": 181,
    "start_time": "2022-01-25T11:04:41.932Z"
   },
   {
    "duration": 87,
    "start_time": "2022-01-25T11:05:26.278Z"
   },
   {
    "duration": 188,
    "start_time": "2022-01-25T11:05:55.477Z"
   },
   {
    "duration": 181,
    "start_time": "2022-01-25T11:06:41.941Z"
   },
   {
    "duration": 203,
    "start_time": "2022-01-25T11:09:18.091Z"
   },
   {
    "duration": 203,
    "start_time": "2022-01-25T11:10:39.958Z"
   },
   {
    "duration": 1218,
    "start_time": "2022-01-25T11:12:04.519Z"
   },
   {
    "duration": 8,
    "start_time": "2022-01-25T11:12:05.738Z"
   },
   {
    "duration": 99,
    "start_time": "2022-01-25T11:12:05.748Z"
   },
   {
    "duration": 265,
    "start_time": "2022-01-25T11:12:05.848Z"
   },
   {
    "duration": 239,
    "start_time": "2022-01-25T11:12:06.116Z"
   },
   {
    "duration": 13,
    "start_time": "2022-01-25T11:12:06.357Z"
   },
   {
    "duration": 20,
    "start_time": "2022-01-25T11:12:06.371Z"
   },
   {
    "duration": 201,
    "start_time": "2022-01-25T11:12:06.414Z"
   },
   {
    "duration": 35,
    "start_time": "2022-01-25T11:14:20.228Z"
   },
   {
    "duration": 1153,
    "start_time": "2022-01-25T11:14:27.633Z"
   },
   {
    "duration": 31,
    "start_time": "2022-01-25T11:14:28.788Z"
   },
   {
    "duration": 94,
    "start_time": "2022-01-25T11:14:28.822Z"
   },
   {
    "duration": 260,
    "start_time": "2022-01-25T11:14:28.918Z"
   },
   {
    "duration": 235,
    "start_time": "2022-01-25T11:14:29.179Z"
   },
   {
    "duration": 17,
    "start_time": "2022-01-25T11:14:29.416Z"
   },
   {
    "duration": 20,
    "start_time": "2022-01-25T11:14:29.435Z"
   },
   {
    "duration": 245,
    "start_time": "2022-01-25T11:14:29.457Z"
   },
   {
    "duration": 207,
    "start_time": "2022-01-25T11:15:28.099Z"
   },
   {
    "duration": 214,
    "start_time": "2022-01-25T11:16:02.077Z"
   },
   {
    "duration": 205,
    "start_time": "2022-01-25T11:16:05.300Z"
   },
   {
    "duration": 6,
    "start_time": "2022-01-25T11:35:43.831Z"
   },
   {
    "duration": 6,
    "start_time": "2022-01-25T11:35:50.392Z"
   },
   {
    "duration": 5,
    "start_time": "2022-01-25T11:35:55.247Z"
   },
   {
    "duration": 18,
    "start_time": "2022-01-25T11:48:12.423Z"
   },
   {
    "duration": 15,
    "start_time": "2022-01-25T11:48:31.868Z"
   },
   {
    "duration": 21,
    "start_time": "2022-01-25T11:49:31.788Z"
   },
   {
    "duration": 23,
    "start_time": "2022-01-25T11:49:52.301Z"
   },
   {
    "duration": 31,
    "start_time": "2022-01-25T11:58:25.146Z"
   },
   {
    "duration": 28,
    "start_time": "2022-01-25T12:03:09.065Z"
   },
   {
    "duration": 54,
    "start_time": "2022-01-25T12:08:05.201Z"
   },
   {
    "duration": 40,
    "start_time": "2022-01-25T12:08:17.167Z"
   },
   {
    "duration": 38,
    "start_time": "2022-01-25T12:10:21.879Z"
   },
   {
    "duration": 82,
    "start_time": "2022-01-25T12:11:20.807Z"
   },
   {
    "duration": 21,
    "start_time": "2022-01-25T12:11:28.038Z"
   },
   {
    "duration": 23,
    "start_time": "2022-01-25T12:15:15.542Z"
   },
   {
    "duration": 320,
    "start_time": "2022-01-25T12:15:46.013Z"
   },
   {
    "duration": 1616,
    "start_time": "2022-01-25T12:16:04.030Z"
   },
   {
    "duration": 9,
    "start_time": "2022-01-25T12:16:05.647Z"
   },
   {
    "duration": 206,
    "start_time": "2022-01-25T12:16:05.659Z"
   },
   {
    "duration": 290,
    "start_time": "2022-01-25T12:16:05.867Z"
   },
   {
    "duration": 254,
    "start_time": "2022-01-25T12:16:06.159Z"
   },
   {
    "duration": 14,
    "start_time": "2022-01-25T12:16:06.415Z"
   },
   {
    "duration": 28,
    "start_time": "2022-01-25T12:16:06.430Z"
   },
   {
    "duration": 218,
    "start_time": "2022-01-25T12:16:06.461Z"
   },
   {
    "duration": 321,
    "start_time": "2022-01-25T12:16:06.681Z"
   },
   {
    "duration": -72,
    "start_time": "2022-01-25T12:16:07.076Z"
   },
   {
    "duration": 22,
    "start_time": "2022-01-25T12:16:33.541Z"
   },
   {
    "duration": 24,
    "start_time": "2022-01-25T12:17:02.835Z"
   },
   {
    "duration": 29,
    "start_time": "2022-01-25T12:17:18.902Z"
   },
   {
    "duration": 29,
    "start_time": "2022-01-25T12:17:35.572Z"
   },
   {
    "duration": 31,
    "start_time": "2022-01-25T12:17:51.123Z"
   },
   {
    "duration": 18,
    "start_time": "2022-01-25T12:18:22.004Z"
   },
   {
    "duration": 248,
    "start_time": "2022-01-25T12:18:26.648Z"
   },
   {
    "duration": 18,
    "start_time": "2022-01-25T12:18:29.283Z"
   },
   {
    "duration": 890,
    "start_time": "2022-01-25T12:21:10.933Z"
   },
   {
    "duration": 29,
    "start_time": "2022-01-25T12:21:20.205Z"
   },
   {
    "duration": 948,
    "start_time": "2022-01-25T12:21:31.642Z"
   },
   {
    "duration": 25,
    "start_time": "2022-01-25T12:21:56.436Z"
   },
   {
    "duration": 22,
    "start_time": "2022-01-25T12:34:28.753Z"
   },
   {
    "duration": 192,
    "start_time": "2022-01-25T12:35:34.009Z"
   },
   {
    "duration": 27,
    "start_time": "2022-01-25T12:36:14.440Z"
   },
   {
    "duration": 84,
    "start_time": "2022-01-25T12:37:25.487Z"
   },
   {
    "duration": 86,
    "start_time": "2022-01-25T12:37:44.562Z"
   },
   {
    "duration": 19,
    "start_time": "2022-01-25T12:38:11.001Z"
   },
   {
    "duration": 208,
    "start_time": "2022-01-25T12:38:17.400Z"
   },
   {
    "duration": 174,
    "start_time": "2022-01-25T12:38:42.344Z"
   },
   {
    "duration": 174,
    "start_time": "2022-01-25T12:38:46.536Z"
   },
   {
    "duration": 182,
    "start_time": "2022-01-25T12:38:51.352Z"
   },
   {
    "duration": 5602,
    "start_time": "2022-01-25T12:39:06.161Z"
   },
   {
    "duration": 1155,
    "start_time": "2022-01-25T12:39:38.435Z"
   },
   {
    "duration": 8,
    "start_time": "2022-01-25T12:39:39.613Z"
   },
   {
    "duration": 71,
    "start_time": "2022-01-25T12:39:39.623Z"
   },
   {
    "duration": 270,
    "start_time": "2022-01-25T12:39:39.696Z"
   },
   {
    "duration": 226,
    "start_time": "2022-01-25T12:39:39.967Z"
   },
   {
    "duration": 21,
    "start_time": "2022-01-25T12:39:40.195Z"
   },
   {
    "duration": 19,
    "start_time": "2022-01-25T12:39:40.218Z"
   },
   {
    "duration": 198,
    "start_time": "2022-01-25T12:39:40.238Z"
   },
   {
    "duration": 17,
    "start_time": "2022-01-25T12:39:40.439Z"
   },
   {
    "duration": 2,
    "start_time": "2022-01-25T12:39:40.458Z"
   },
   {
    "duration": 6,
    "start_time": "2022-01-25T12:39:40.461Z"
   },
   {
    "duration": 18,
    "start_time": "2022-01-25T12:39:50.176Z"
   },
   {
    "duration": 6,
    "start_time": "2022-01-25T12:41:29.215Z"
   },
   {
    "duration": 17,
    "start_time": "2022-01-25T12:43:43.281Z"
   },
   {
    "duration": 304,
    "start_time": "2022-01-25T12:43:49.333Z"
   },
   {
    "duration": 1159,
    "start_time": "2022-01-25T12:44:04.470Z"
   },
   {
    "duration": 7,
    "start_time": "2022-01-25T12:44:05.631Z"
   },
   {
    "duration": 87,
    "start_time": "2022-01-25T12:44:05.640Z"
   },
   {
    "duration": 256,
    "start_time": "2022-01-25T12:44:05.729Z"
   },
   {
    "duration": 214,
    "start_time": "2022-01-25T12:44:05.987Z"
   },
   {
    "duration": 20,
    "start_time": "2022-01-25T12:44:06.202Z"
   },
   {
    "duration": 21,
    "start_time": "2022-01-25T12:44:06.223Z"
   },
   {
    "duration": 209,
    "start_time": "2022-01-25T12:44:06.246Z"
   },
   {
    "duration": 7,
    "start_time": "2022-01-25T12:44:06.458Z"
   },
   {
    "duration": 22,
    "start_time": "2022-01-25T12:44:06.466Z"
   },
   {
    "duration": 2,
    "start_time": "2022-01-25T12:44:06.489Z"
   },
   {
    "duration": 286,
    "start_time": "2022-01-25T12:51:55.666Z"
   },
   {
    "duration": 1172,
    "start_time": "2022-01-25T12:52:05.004Z"
   },
   {
    "duration": 7,
    "start_time": "2022-01-25T12:52:06.177Z"
   },
   {
    "duration": 98,
    "start_time": "2022-01-25T12:52:06.186Z"
   },
   {
    "duration": 247,
    "start_time": "2022-01-25T12:52:06.286Z"
   },
   {
    "duration": 216,
    "start_time": "2022-01-25T12:52:06.534Z"
   },
   {
    "duration": 14,
    "start_time": "2022-01-25T12:52:06.751Z"
   },
   {
    "duration": 19,
    "start_time": "2022-01-25T12:52:06.766Z"
   },
   {
    "duration": 205,
    "start_time": "2022-01-25T12:52:06.787Z"
   },
   {
    "duration": 7,
    "start_time": "2022-01-25T12:52:06.993Z"
   },
   {
    "duration": 33,
    "start_time": "2022-01-25T12:52:07.001Z"
   },
   {
    "duration": 2,
    "start_time": "2022-01-25T12:52:07.036Z"
   },
   {
    "duration": 1193,
    "start_time": "2022-01-25T12:59:31.273Z"
   },
   {
    "duration": 1170,
    "start_time": "2022-01-25T12:59:39.206Z"
   },
   {
    "duration": 8,
    "start_time": "2022-01-25T12:59:40.377Z"
   },
   {
    "duration": 91,
    "start_time": "2022-01-25T12:59:40.387Z"
   },
   {
    "duration": 247,
    "start_time": "2022-01-25T12:59:40.480Z"
   },
   {
    "duration": 222,
    "start_time": "2022-01-25T12:59:40.729Z"
   },
   {
    "duration": 16,
    "start_time": "2022-01-25T12:59:40.952Z"
   },
   {
    "duration": 20,
    "start_time": "2022-01-25T12:59:40.969Z"
   },
   {
    "duration": 189,
    "start_time": "2022-01-25T12:59:41.011Z"
   },
   {
    "duration": 6,
    "start_time": "2022-01-25T12:59:41.202Z"
   },
   {
    "duration": 29,
    "start_time": "2022-01-25T12:59:41.209Z"
   },
   {
    "duration": 3,
    "start_time": "2022-01-25T12:59:41.240Z"
   },
   {
    "duration": 313,
    "start_time": "2022-01-25T13:04:09.716Z"
   },
   {
    "duration": 1162,
    "start_time": "2022-01-25T13:04:16.765Z"
   },
   {
    "duration": 10,
    "start_time": "2022-01-25T13:04:17.930Z"
   },
   {
    "duration": 100,
    "start_time": "2022-01-25T13:04:17.942Z"
   },
   {
    "duration": 252,
    "start_time": "2022-01-25T13:04:18.044Z"
   },
   {
    "duration": 230,
    "start_time": "2022-01-25T13:04:18.298Z"
   },
   {
    "duration": 13,
    "start_time": "2022-01-25T13:04:18.530Z"
   },
   {
    "duration": 21,
    "start_time": "2022-01-25T13:04:18.545Z"
   },
   {
    "duration": 199,
    "start_time": "2022-01-25T13:04:18.568Z"
   },
   {
    "duration": 5,
    "start_time": "2022-01-25T13:04:18.769Z"
   },
   {
    "duration": 32,
    "start_time": "2022-01-25T13:04:18.776Z"
   },
   {
    "duration": 2,
    "start_time": "2022-01-25T13:04:18.810Z"
   },
   {
    "duration": 16,
    "start_time": "2022-01-25T13:06:48.402Z"
   },
   {
    "duration": 15,
    "start_time": "2022-01-25T13:07:03.139Z"
   },
   {
    "duration": 17,
    "start_time": "2022-01-25T13:07:21.858Z"
   },
   {
    "duration": 17,
    "start_time": "2022-01-25T13:07:31.602Z"
   },
   {
    "duration": 73,
    "start_time": "2022-01-25T13:07:57.507Z"
   },
   {
    "duration": 612,
    "start_time": "2022-01-25T13:08:08.010Z"
   },
   {
    "duration": 19,
    "start_time": "2022-01-25T13:08:21.897Z"
   },
   {
    "duration": 16,
    "start_time": "2022-01-25T13:08:43.571Z"
   },
   {
    "duration": 16,
    "start_time": "2022-01-25T13:09:02.154Z"
   },
   {
    "duration": 18,
    "start_time": "2022-01-25T13:10:41.785Z"
   },
   {
    "duration": 18,
    "start_time": "2022-01-25T13:14:23.922Z"
   },
   {
    "duration": 4,
    "start_time": "2022-01-25T13:14:44.193Z"
   },
   {
    "duration": 20,
    "start_time": "2022-01-25T13:14:53.921Z"
   },
   {
    "duration": 19,
    "start_time": "2022-01-25T13:15:32.817Z"
   },
   {
    "duration": 21,
    "start_time": "2022-01-25T13:16:14.210Z"
   },
   {
    "duration": 17,
    "start_time": "2022-01-25T13:16:24.496Z"
   },
   {
    "duration": 79,
    "start_time": "2022-01-25T13:16:30.833Z"
   },
   {
    "duration": 17,
    "start_time": "2022-01-25T13:17:34.040Z"
   },
   {
    "duration": 17,
    "start_time": "2022-01-25T13:19:21.521Z"
   },
   {
    "duration": 15,
    "start_time": "2022-01-25T13:19:33.336Z"
   },
   {
    "duration": 15,
    "start_time": "2022-01-25T13:21:13.873Z"
   },
   {
    "duration": 15,
    "start_time": "2022-01-25T13:22:20.152Z"
   },
   {
    "duration": 15,
    "start_time": "2022-01-25T13:22:54.800Z"
   },
   {
    "duration": 17,
    "start_time": "2022-01-25T13:26:06.614Z"
   },
   {
    "duration": 16,
    "start_time": "2022-01-25T13:26:21.446Z"
   },
   {
    "duration": 16,
    "start_time": "2022-01-25T13:27:13.198Z"
   },
   {
    "duration": 16,
    "start_time": "2022-01-25T13:27:43.662Z"
   },
   {
    "duration": 367,
    "start_time": "2022-01-25T13:28:03.016Z"
   },
   {
    "duration": 14,
    "start_time": "2022-01-25T13:28:08.671Z"
   },
   {
    "duration": 14,
    "start_time": "2022-01-25T13:28:38.693Z"
   },
   {
    "duration": 14,
    "start_time": "2022-01-25T13:28:58.190Z"
   },
   {
    "duration": 76,
    "start_time": "2022-01-25T13:29:08.318Z"
   },
   {
    "duration": 71,
    "start_time": "2022-01-25T13:29:14.470Z"
   },
   {
    "duration": 87,
    "start_time": "2022-01-25T13:29:29.278Z"
   },
   {
    "duration": 17,
    "start_time": "2022-01-25T13:29:44.998Z"
   },
   {
    "duration": 15,
    "start_time": "2022-01-25T13:30:15.773Z"
   },
   {
    "duration": 1230,
    "start_time": "2022-01-25T13:30:33.918Z"
   },
   {
    "duration": 8,
    "start_time": "2022-01-25T13:30:35.150Z"
   },
   {
    "duration": 103,
    "start_time": "2022-01-25T13:30:35.162Z"
   },
   {
    "duration": 280,
    "start_time": "2022-01-25T13:30:35.267Z"
   },
   {
    "duration": 247,
    "start_time": "2022-01-25T13:30:35.548Z"
   },
   {
    "duration": 25,
    "start_time": "2022-01-25T13:30:35.796Z"
   },
   {
    "duration": 23,
    "start_time": "2022-01-25T13:30:35.823Z"
   },
   {
    "duration": 208,
    "start_time": "2022-01-25T13:30:35.848Z"
   },
   {
    "duration": 5,
    "start_time": "2022-01-25T13:30:36.058Z"
   },
   {
    "duration": 24,
    "start_time": "2022-01-25T13:30:36.064Z"
   },
   {
    "duration": 25,
    "start_time": "2022-01-25T13:30:36.090Z"
   },
   {
    "duration": 17,
    "start_time": "2022-01-25T13:31:06.361Z"
   },
   {
    "duration": 331,
    "start_time": "2022-01-25T13:31:20.776Z"
   },
   {
    "duration": 233,
    "start_time": "2022-01-25T13:31:48.089Z"
   },
   {
    "duration": 243,
    "start_time": "2022-01-25T13:31:59.098Z"
   },
   {
    "duration": 614,
    "start_time": "2022-01-25T13:32:20.257Z"
   },
   {
    "duration": 70,
    "start_time": "2022-01-25T13:32:50.177Z"
   },
   {
    "duration": 18,
    "start_time": "2022-01-25T13:33:29.744Z"
   },
   {
    "duration": 18,
    "start_time": "2022-01-25T13:33:58.071Z"
   },
   {
    "duration": 20,
    "start_time": "2022-01-25T13:34:08.216Z"
   },
   {
    "duration": 251,
    "start_time": "2022-01-25T13:34:49.736Z"
   },
   {
    "duration": 1298,
    "start_time": "2022-01-25T13:34:56.783Z"
   },
   {
    "duration": 29,
    "start_time": "2022-01-25T13:34:58.083Z"
   },
   {
    "duration": 75,
    "start_time": "2022-01-25T13:34:58.115Z"
   },
   {
    "duration": 267,
    "start_time": "2022-01-25T13:34:58.192Z"
   },
   {
    "duration": 223,
    "start_time": "2022-01-25T13:34:58.461Z"
   },
   {
    "duration": 13,
    "start_time": "2022-01-25T13:34:58.686Z"
   },
   {
    "duration": 19,
    "start_time": "2022-01-25T13:34:58.712Z"
   },
   {
    "duration": 194,
    "start_time": "2022-01-25T13:34:58.733Z"
   },
   {
    "duration": 5,
    "start_time": "2022-01-25T13:34:58.929Z"
   },
   {
    "duration": 301,
    "start_time": "2022-01-25T13:34:58.935Z"
   },
   {
    "duration": -299,
    "start_time": "2022-01-25T13:34:59.537Z"
   },
   {
    "duration": 81,
    "start_time": "2022-01-25T13:36:35.489Z"
   },
   {
    "duration": 20,
    "start_time": "2022-01-25T13:36:46.301Z"
   },
   {
    "duration": 18,
    "start_time": "2022-01-25T13:37:13.317Z"
   },
   {
    "duration": 18,
    "start_time": "2022-01-25T13:37:47.791Z"
   },
   {
    "duration": 17,
    "start_time": "2022-01-25T13:37:51.527Z"
   },
   {
    "duration": 23,
    "start_time": "2022-01-25T13:38:04.615Z"
   },
   {
    "duration": 18,
    "start_time": "2022-01-25T13:39:15.917Z"
   },
   {
    "duration": 17,
    "start_time": "2022-01-25T13:39:48.710Z"
   },
   {
    "duration": 17,
    "start_time": "2022-01-25T13:41:30.236Z"
   },
   {
    "duration": 364,
    "start_time": "2022-01-25T13:44:28.357Z"
   },
   {
    "duration": 204,
    "start_time": "2022-01-25T13:44:52.539Z"
   },
   {
    "duration": 294,
    "start_time": "2022-01-25T13:45:06.556Z"
   },
   {
    "duration": 1908,
    "start_time": "2022-01-25T13:45:15.467Z"
   },
   {
    "duration": 413,
    "start_time": "2022-01-25T13:51:29.625Z"
   },
   {
    "duration": 212,
    "start_time": "2022-01-25T13:51:33.762Z"
   },
   {
    "duration": 260,
    "start_time": "2022-01-25T13:51:44.307Z"
   },
   {
    "duration": 4,
    "start_time": "2022-01-25T13:53:06.306Z"
   },
   {
    "duration": 229,
    "start_time": "2022-01-25T13:53:33.289Z"
   },
   {
    "duration": 206,
    "start_time": "2022-01-25T13:53:41.473Z"
   },
   {
    "duration": 227,
    "start_time": "2022-01-25T13:53:47.088Z"
   },
   {
    "duration": 15,
    "start_time": "2022-01-25T14:33:31.044Z"
   },
   {
    "duration": 1308,
    "start_time": "2022-01-25T14:33:48.612Z"
   },
   {
    "duration": 11,
    "start_time": "2022-01-25T14:33:49.922Z"
   },
   {
    "duration": 91,
    "start_time": "2022-01-25T14:33:49.935Z"
   },
   {
    "duration": 266,
    "start_time": "2022-01-25T14:33:50.029Z"
   },
   {
    "duration": 248,
    "start_time": "2022-01-25T14:33:50.297Z"
   },
   {
    "duration": 14,
    "start_time": "2022-01-25T14:33:50.547Z"
   },
   {
    "duration": 20,
    "start_time": "2022-01-25T14:33:50.562Z"
   },
   {
    "duration": 222,
    "start_time": "2022-01-25T14:33:50.584Z"
   },
   {
    "duration": 7,
    "start_time": "2022-01-25T14:33:50.808Z"
   },
   {
    "duration": 47,
    "start_time": "2022-01-25T14:33:50.818Z"
   },
   {
    "duration": 16,
    "start_time": "2022-01-25T14:33:50.867Z"
   },
   {
    "duration": 256,
    "start_time": "2022-01-25T14:33:50.884Z"
   },
   {
    "duration": 6033,
    "start_time": "2022-01-25T14:34:19.834Z"
   },
   {
    "duration": 1271,
    "start_time": "2022-01-25T14:34:39.821Z"
   },
   {
    "duration": 11,
    "start_time": "2022-01-25T14:34:41.113Z"
   },
   {
    "duration": 87,
    "start_time": "2022-01-25T14:34:41.127Z"
   },
   {
    "duration": 261,
    "start_time": "2022-01-25T14:34:41.216Z"
   },
   {
    "duration": 224,
    "start_time": "2022-01-25T14:34:41.479Z"
   },
   {
    "duration": 19,
    "start_time": "2022-01-25T14:34:41.705Z"
   },
   {
    "duration": 19,
    "start_time": "2022-01-25T14:34:41.726Z"
   },
   {
    "duration": 204,
    "start_time": "2022-01-25T14:34:41.747Z"
   },
   {
    "duration": 6,
    "start_time": "2022-01-25T14:34:41.953Z"
   },
   {
    "duration": 5739,
    "start_time": "2022-01-25T14:34:41.961Z"
   },
   {
    "duration": -113,
    "start_time": "2022-01-25T14:34:47.815Z"
   },
   {
    "duration": -113,
    "start_time": "2022-01-25T14:34:47.816Z"
   },
   {
    "duration": 1317,
    "start_time": "2022-01-25T14:36:03.628Z"
   },
   {
    "duration": 9,
    "start_time": "2022-01-25T14:36:04.946Z"
   },
   {
    "duration": 97,
    "start_time": "2022-01-25T14:36:04.957Z"
   },
   {
    "duration": 255,
    "start_time": "2022-01-25T14:36:05.056Z"
   },
   {
    "duration": 234,
    "start_time": "2022-01-25T14:36:05.313Z"
   },
   {
    "duration": 15,
    "start_time": "2022-01-25T14:36:05.548Z"
   },
   {
    "duration": 20,
    "start_time": "2022-01-25T14:36:05.565Z"
   },
   {
    "duration": 217,
    "start_time": "2022-01-25T14:36:05.588Z"
   },
   {
    "duration": 5838,
    "start_time": "2022-01-25T14:36:05.807Z"
   },
   {
    "duration": -144,
    "start_time": "2022-01-25T14:36:11.791Z"
   },
   {
    "duration": -155,
    "start_time": "2022-01-25T14:36:11.803Z"
   },
   {
    "duration": 5940,
    "start_time": "2022-01-25T14:36:50.612Z"
   },
   {
    "duration": 21,
    "start_time": "2022-01-25T14:37:30.693Z"
   },
   {
    "duration": 25,
    "start_time": "2022-01-25T14:38:02.428Z"
   },
   {
    "duration": 20,
    "start_time": "2022-01-25T14:38:27.468Z"
   },
   {
    "duration": 21,
    "start_time": "2022-01-25T14:38:36.452Z"
   },
   {
    "duration": 1686,
    "start_time": "2022-01-25T21:27:02.946Z"
   },
   {
    "duration": 9,
    "start_time": "2022-01-25T21:27:04.633Z"
   },
   {
    "duration": 96,
    "start_time": "2022-01-25T21:27:04.644Z"
   },
   {
    "duration": 256,
    "start_time": "2022-01-25T21:27:04.742Z"
   },
   {
    "duration": 274,
    "start_time": "2022-01-25T21:27:05.000Z"
   },
   {
    "duration": 16,
    "start_time": "2022-01-25T21:27:05.276Z"
   },
   {
    "duration": 34,
    "start_time": "2022-01-25T21:27:05.294Z"
   },
   {
    "duration": 202,
    "start_time": "2022-01-25T21:27:05.329Z"
   },
   {
    "duration": 7,
    "start_time": "2022-01-25T21:27:05.533Z"
   },
   {
    "duration": 15,
    "start_time": "2022-01-25T21:27:05.541Z"
   },
   {
    "duration": 2599,
    "start_time": "2022-01-25T21:27:05.557Z"
   },
   {
    "duration": 5,
    "start_time": "2022-01-25T21:27:08.158Z"
   },
   {
    "duration": 9,
    "start_time": "2022-01-25T21:27:08.164Z"
   },
   {
    "duration": 6,
    "start_time": "2022-01-25T21:27:08.175Z"
   },
   {
    "duration": 33,
    "start_time": "2022-01-25T21:27:08.183Z"
   },
   {
    "duration": 1659,
    "start_time": "2022-01-25T21:28:59.268Z"
   },
   {
    "duration": 9,
    "start_time": "2022-01-25T21:29:00.929Z"
   },
   {
    "duration": 103,
    "start_time": "2022-01-25T21:29:00.940Z"
   },
   {
    "duration": 260,
    "start_time": "2022-01-25T21:29:01.045Z"
   },
   {
    "duration": 268,
    "start_time": "2022-01-25T21:29:01.307Z"
   },
   {
    "duration": 20,
    "start_time": "2022-01-25T21:29:01.577Z"
   },
   {
    "duration": 23,
    "start_time": "2022-01-25T21:29:01.612Z"
   },
   {
    "duration": 199,
    "start_time": "2022-01-25T21:29:01.637Z"
   },
   {
    "duration": 7,
    "start_time": "2022-01-25T21:29:01.838Z"
   },
   {
    "duration": 13,
    "start_time": "2022-01-25T21:29:01.846Z"
   },
   {
    "duration": 2530,
    "start_time": "2022-01-25T21:29:01.861Z"
   },
   {
    "duration": 6,
    "start_time": "2022-01-25T21:29:04.392Z"
   },
   {
    "duration": 16,
    "start_time": "2022-01-25T21:29:04.400Z"
   },
   {
    "duration": 7,
    "start_time": "2022-01-25T21:29:04.417Z"
   },
   {
    "duration": 7,
    "start_time": "2022-01-25T21:29:04.426Z"
   },
   {
    "duration": 1372,
    "start_time": "2022-02-03T12:38:12.021Z"
   },
   {
    "duration": 416,
    "start_time": "2022-02-03T13:16:25.061Z"
   },
   {
    "duration": 1347,
    "start_time": "2022-02-03T13:34:20.637Z"
   },
   {
    "duration": 877,
    "start_time": "2022-02-03T13:34:21.987Z"
   },
   {
    "duration": 12,
    "start_time": "2022-02-03T13:34:22.867Z"
   },
   {
    "duration": 132,
    "start_time": "2022-02-03T13:34:22.882Z"
   },
   {
    "duration": 372,
    "start_time": "2022-02-03T13:34:23.017Z"
   },
   {
    "duration": 366,
    "start_time": "2022-02-03T13:34:23.392Z"
   },
   {
    "duration": 28,
    "start_time": "2022-02-03T13:34:23.761Z"
   },
   {
    "duration": 64,
    "start_time": "2022-02-03T13:34:23.793Z"
   },
   {
    "duration": 352,
    "start_time": "2022-02-03T13:34:23.860Z"
   },
   {
    "duration": 25,
    "start_time": "2022-02-03T13:34:24.215Z"
   },
   {
    "duration": 23,
    "start_time": "2022-02-03T13:34:24.242Z"
   },
   {
    "duration": 72,
    "start_time": "2022-02-03T13:34:24.269Z"
   },
   {
    "duration": 4301,
    "start_time": "2022-02-03T13:34:24.344Z"
   },
   {
    "duration": 8,
    "start_time": "2022-02-03T13:34:28.648Z"
   },
   {
    "duration": 8,
    "start_time": "2022-02-03T13:34:28.658Z"
   },
   {
    "duration": 9,
    "start_time": "2022-02-03T13:34:28.668Z"
   },
   {
    "duration": 77,
    "start_time": "2022-02-03T13:34:28.679Z"
   },
   {
    "duration": 60,
    "start_time": "2022-02-03T13:36:24.618Z"
   },
   {
    "duration": 46,
    "start_time": "2022-02-03T13:36:54.053Z"
   },
   {
    "duration": 61,
    "start_time": "2022-02-03T13:36:57.906Z"
   },
   {
    "duration": 61,
    "start_time": "2022-02-03T13:42:03.379Z"
   },
   {
    "duration": 68,
    "start_time": "2022-02-03T13:42:47.890Z"
   },
   {
    "duration": 3163,
    "start_time": "2022-02-04T10:49:41.115Z"
   },
   {
    "duration": 2890,
    "start_time": "2022-02-04T10:51:07.706Z"
   },
   {
    "duration": 3311,
    "start_time": "2022-02-04T10:51:33.580Z"
   },
   {
    "duration": 100,
    "start_time": "2022-02-04T10:52:19.988Z"
   },
   {
    "duration": 2309,
    "start_time": "2022-02-04T10:52:30.076Z"
   },
   {
    "duration": 2333,
    "start_time": "2022-02-04T10:53:07.603Z"
   },
   {
    "duration": 2374,
    "start_time": "2022-02-04T10:53:42.202Z"
   },
   {
    "duration": 2331,
    "start_time": "2022-02-04T10:53:47.444Z"
   },
   {
    "duration": 2405,
    "start_time": "2022-02-04T10:54:56.810Z"
   },
   {
    "duration": 2345,
    "start_time": "2022-02-04T10:55:12.458Z"
   },
   {
    "duration": 2348,
    "start_time": "2022-02-04T10:55:56.178Z"
   },
   {
    "duration": 2560,
    "start_time": "2022-02-04T10:56:08.123Z"
   },
   {
    "duration": 2570,
    "start_time": "2022-02-04T10:56:24.954Z"
   },
   {
    "duration": 2332,
    "start_time": "2022-02-04T10:56:55.139Z"
   },
   {
    "duration": 2454,
    "start_time": "2022-02-04T10:57:17.913Z"
   },
   {
    "duration": 448,
    "start_time": "2022-02-04T10:58:54.234Z"
   },
   {
    "duration": 299,
    "start_time": "2022-02-04T10:59:29.054Z"
   },
   {
    "duration": 2456,
    "start_time": "2022-02-04T11:00:32.818Z"
   },
   {
    "duration": 359,
    "start_time": "2022-02-04T11:19:02.421Z"
   },
   {
    "duration": 315,
    "start_time": "2022-02-04T11:19:53.909Z"
   },
   {
    "duration": 757,
    "start_time": "2022-02-04T11:20:32.981Z"
   },
   {
    "duration": 342,
    "start_time": "2022-02-04T11:20:42.228Z"
   },
   {
    "duration": 313,
    "start_time": "2022-02-04T11:21:03.636Z"
   },
   {
    "duration": 2117,
    "start_time": "2022-02-04T11:21:40.069Z"
   },
   {
    "duration": 2116,
    "start_time": "2022-02-04T11:21:50.109Z"
   },
   {
    "duration": 8,
    "start_time": "2022-02-04T12:13:33.679Z"
   },
   {
    "duration": 7,
    "start_time": "2022-02-04T12:14:17.083Z"
   },
   {
    "duration": 10,
    "start_time": "2022-02-04T12:15:45.547Z"
   },
   {
    "duration": 10,
    "start_time": "2022-02-04T12:17:18.618Z"
   }
  ],
  "kernelspec": {
   "display_name": "Python 3 (ipykernel)",
   "language": "python",
   "name": "python3"
  },
  "language_info": {
   "codemirror_mode": {
    "name": "ipython",
    "version": 3
   },
   "file_extension": ".py",
   "mimetype": "text/x-python",
   "name": "python",
   "nbconvert_exporter": "python",
   "pygments_lexer": "ipython3",
   "version": "3.9.7"
  },
  "toc": {
   "base_numbering": 1,
   "nav_menu": {},
   "number_sections": true,
   "sideBar": true,
   "skip_h1_title": true,
   "title_cell": "Содержание",
   "title_sidebar": "Содержание",
   "toc_cell": true,
   "toc_position": {
    "height": "calc(100% - 180px)",
    "left": "10px",
    "top": "150px",
    "width": "358px"
   },
   "toc_section_display": true,
   "toc_window_display": true
  }
 },
 "nbformat": 4,
 "nbformat_minor": 5
}
