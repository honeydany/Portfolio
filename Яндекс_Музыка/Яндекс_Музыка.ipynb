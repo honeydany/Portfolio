{
 "cells": [
  {
   "cell_type": "markdown",
   "metadata": {
    "id": "E0vqbgi9ay0H"
   },
   "source": [
    "# Яндекс.Музыка"
   ]
  },
  {
   "cell_type": "markdown",
   "metadata": {
    "toc": true
   },
   "source": [
    "<h1>Содержание<span class=\"tocSkip\"></span></h1>\n",
    "<div class=\"toc\"><ul class=\"toc-item\"><li><span><a href=\"#Обзор-данных\" data-toc-modified-id=\"Обзор-данных-1\"><span class=\"toc-item-num\">1&nbsp;&nbsp;</span>Обзор данных</a></span></li><li><span><a href=\"#Предобработка-данных\" data-toc-modified-id=\"Предобработка-данных-2\"><span class=\"toc-item-num\">2&nbsp;&nbsp;</span>Предобработка данных</a></span><ul class=\"toc-item\"><li><span><a href=\"#Стиль-заголовков\" data-toc-modified-id=\"Стиль-заголовков-2.1\"><span class=\"toc-item-num\">2.1&nbsp;&nbsp;</span>Стиль заголовков</a></span></li><li><span><a href=\"#Пропуски-значений\" data-toc-modified-id=\"Пропуски-значений-2.2\"><span class=\"toc-item-num\">2.2&nbsp;&nbsp;</span>Пропуски значений</a></span></li><li><span><a href=\"#Дубликаты\" data-toc-modified-id=\"Дубликаты-2.3\"><span class=\"toc-item-num\">2.3&nbsp;&nbsp;</span>Дубликаты</a></span></li></ul></li><li><span><a href=\"#Проверка-гипотез\" data-toc-modified-id=\"Проверка-гипотез-3\"><span class=\"toc-item-num\">3&nbsp;&nbsp;</span>Проверка гипотез</a></span><ul class=\"toc-item\"><li><span><a href=\"#Сравнение-поведения-пользователей-двух-столиц\" data-toc-modified-id=\"Сравнение-поведения-пользователей-двух-столиц-3.1\"><span class=\"toc-item-num\">3.1&nbsp;&nbsp;</span>Сравнение поведения пользователей двух столиц</a></span></li><li><span><a href=\"#Музыка-в-начале-и-в-конце-недели\" data-toc-modified-id=\"Музыка-в-начале-и-в-конце-недели-3.2\"><span class=\"toc-item-num\">3.2&nbsp;&nbsp;</span>Музыка в начале и в конце недели</a></span></li><li><span><a href=\"#Жанровые-предпочтения-в-Москве-и-Петербурге\" data-toc-modified-id=\"Жанровые-предпочтения-в-Москве-и-Петербурге-3.3\"><span class=\"toc-item-num\">3.3&nbsp;&nbsp;</span>Жанровые предпочтения в Москве и Петербурге</a></span></li></ul></li><li><span><a href=\"#Итоги-исследования\" data-toc-modified-id=\"Итоги-исследования-4\"><span class=\"toc-item-num\">4&nbsp;&nbsp;</span>Итоги исследования</a></span></li></ul></div>"
   ]
  },
  {
   "cell_type": "markdown",
   "metadata": {
    "id": "VUC88oWjTJw2"
   },
   "source": [
    "Сравнение Москвы и Петербурга окружено мифами. Например:\n",
    " * Москва — мегаполис, подчинённый жёсткому ритму рабочей недели;\n",
    " * Петербург — культурная столица, со своими вкусами.\n",
    "\n",
    "На данных Яндекс.Музыки вы сравните поведение пользователей двух столиц.\n",
    "\n",
    "**Цель исследования** — проверьте три гипотезы:\n",
    "1. Активность пользователей зависит от дня недели. Причём в Москве и Петербурге это проявляется по-разному.\n",
    "2. В понедельник утром в Москве преобладают одни жанры, а в Петербурге — другие. Так же и вечером пятницы преобладают разные жанры — в зависимости от города. \n",
    "3. Москва и Петербург предпочитают разные жанры музыки. В Москве чаще слушают поп-музыку, в Петербурге — русский рэп.\n",
    "\n",
    "**Ход исследования**\n",
    "\n",
    "Данные о поведении пользователей вы получите из файла `yandex_music_project.csv`. О качестве данных ничего не известно. Поэтому перед проверкой гипотез понадобится обзор данных. \n",
    "\n",
    "Вы проверите данные на ошибки и оцените их влияние на исследование. Затем, на этапе предобработки вы поищете возможность исправить самые критичные ошибки данных.\n",
    " \n",
    "Таким образом, исследование пройдёт в три этапа:\n",
    " 1. Обзор данных.\n",
    " 2. Предобработка данных.\n",
    " 3. Проверка гипотез.\n",
    "\n"
   ]
  },
  {
   "cell_type": "markdown",
   "metadata": {
    "id": "Ml1hmfXC_Zcs"
   },
   "source": [
    "## Обзор данных\n",
    "\n",
    "Составьте первое представление о данных Яндекс.Музыки.\n",
    "\n",
    "\n"
   ]
  },
  {
   "cell_type": "markdown",
   "metadata": {
    "id": "57eAOGIz_Zcs"
   },
   "source": [
    "Основной инструмент аналитика — `pandas`. Импортируйте эту библиотеку."
   ]
  },
  {
   "cell_type": "code",
   "execution_count": 1,
   "metadata": {
    "id": "AXN7PHPN_Zcs"
   },
   "outputs": [],
   "source": [
    "import pandas as pd"
   ]
  },
  {
   "cell_type": "markdown",
   "metadata": {
    "id": "SG23P8tt_Zcs"
   },
   "source": [
    "Прочитайте файл `yandex_music_project.csv` из папки `/datasets` и сохраните его в переменной `df`:"
   ]
  },
  {
   "cell_type": "code",
   "execution_count": 2,
   "metadata": {
    "id": "fFVu7vqh_Zct"
   },
   "outputs": [],
   "source": [
    "df = pd.read_csv('/datasets/yandex_music_project.csv')"
   ]
  },
  {
   "cell_type": "markdown",
   "metadata": {
    "id": "rDoOMd3uTqnZ"
   },
   "source": [
    "Выведите на экран первые десять строк таблицы:"
   ]
  },
  {
   "cell_type": "code",
   "execution_count": 3,
   "metadata": {
    "id": "oWTVX3gW_Zct"
   },
   "outputs": [
    {
     "data": {
      "text/html": [
       "<div>\n",
       "<style scoped>\n",
       "    .dataframe tbody tr th:only-of-type {\n",
       "        vertical-align: middle;\n",
       "    }\n",
       "\n",
       "    .dataframe tbody tr th {\n",
       "        vertical-align: top;\n",
       "    }\n",
       "\n",
       "    .dataframe thead th {\n",
       "        text-align: right;\n",
       "    }\n",
       "</style>\n",
       "<table border=\"1\" class=\"dataframe\">\n",
       "  <thead>\n",
       "    <tr style=\"text-align: right;\">\n",
       "      <th></th>\n",
       "      <th>userID</th>\n",
       "      <th>Track</th>\n",
       "      <th>artist</th>\n",
       "      <th>genre</th>\n",
       "      <th>City</th>\n",
       "      <th>time</th>\n",
       "      <th>Day</th>\n",
       "    </tr>\n",
       "  </thead>\n",
       "  <tbody>\n",
       "    <tr>\n",
       "      <td>0</td>\n",
       "      <td>FFB692EC</td>\n",
       "      <td>Kamigata To Boots</td>\n",
       "      <td>The Mass Missile</td>\n",
       "      <td>rock</td>\n",
       "      <td>Saint-Petersburg</td>\n",
       "      <td>20:28:33</td>\n",
       "      <td>Wednesday</td>\n",
       "    </tr>\n",
       "    <tr>\n",
       "      <td>1</td>\n",
       "      <td>55204538</td>\n",
       "      <td>Delayed Because of Accident</td>\n",
       "      <td>Andreas Rönnberg</td>\n",
       "      <td>rock</td>\n",
       "      <td>Moscow</td>\n",
       "      <td>14:07:09</td>\n",
       "      <td>Friday</td>\n",
       "    </tr>\n",
       "    <tr>\n",
       "      <td>2</td>\n",
       "      <td>20EC38</td>\n",
       "      <td>Funiculì funiculà</td>\n",
       "      <td>Mario Lanza</td>\n",
       "      <td>pop</td>\n",
       "      <td>Saint-Petersburg</td>\n",
       "      <td>20:58:07</td>\n",
       "      <td>Wednesday</td>\n",
       "    </tr>\n",
       "    <tr>\n",
       "      <td>3</td>\n",
       "      <td>A3DD03C9</td>\n",
       "      <td>Dragons in the Sunset</td>\n",
       "      <td>Fire + Ice</td>\n",
       "      <td>folk</td>\n",
       "      <td>Saint-Petersburg</td>\n",
       "      <td>08:37:09</td>\n",
       "      <td>Monday</td>\n",
       "    </tr>\n",
       "    <tr>\n",
       "      <td>4</td>\n",
       "      <td>E2DC1FAE</td>\n",
       "      <td>Soul People</td>\n",
       "      <td>Space Echo</td>\n",
       "      <td>dance</td>\n",
       "      <td>Moscow</td>\n",
       "      <td>08:34:34</td>\n",
       "      <td>Monday</td>\n",
       "    </tr>\n",
       "    <tr>\n",
       "      <td>5</td>\n",
       "      <td>842029A1</td>\n",
       "      <td>Преданная</td>\n",
       "      <td>IMPERVTOR</td>\n",
       "      <td>rusrap</td>\n",
       "      <td>Saint-Petersburg</td>\n",
       "      <td>13:09:41</td>\n",
       "      <td>Friday</td>\n",
       "    </tr>\n",
       "    <tr>\n",
       "      <td>6</td>\n",
       "      <td>4CB90AA5</td>\n",
       "      <td>True</td>\n",
       "      <td>Roman Messer</td>\n",
       "      <td>dance</td>\n",
       "      <td>Moscow</td>\n",
       "      <td>13:00:07</td>\n",
       "      <td>Wednesday</td>\n",
       "    </tr>\n",
       "    <tr>\n",
       "      <td>7</td>\n",
       "      <td>F03E1C1F</td>\n",
       "      <td>Feeling This Way</td>\n",
       "      <td>Polina Griffith</td>\n",
       "      <td>dance</td>\n",
       "      <td>Moscow</td>\n",
       "      <td>20:47:49</td>\n",
       "      <td>Wednesday</td>\n",
       "    </tr>\n",
       "    <tr>\n",
       "      <td>8</td>\n",
       "      <td>8FA1D3BE</td>\n",
       "      <td>И вновь продолжается бой</td>\n",
       "      <td>NaN</td>\n",
       "      <td>ruspop</td>\n",
       "      <td>Moscow</td>\n",
       "      <td>09:17:40</td>\n",
       "      <td>Friday</td>\n",
       "    </tr>\n",
       "    <tr>\n",
       "      <td>9</td>\n",
       "      <td>E772D5C0</td>\n",
       "      <td>Pessimist</td>\n",
       "      <td>NaN</td>\n",
       "      <td>dance</td>\n",
       "      <td>Saint-Petersburg</td>\n",
       "      <td>21:20:49</td>\n",
       "      <td>Wednesday</td>\n",
       "    </tr>\n",
       "  </tbody>\n",
       "</table>\n",
       "</div>"
      ],
      "text/plain": [
       "     userID                        Track            artist   genre  \\\n",
       "0  FFB692EC            Kamigata To Boots  The Mass Missile    rock   \n",
       "1  55204538  Delayed Because of Accident  Andreas Rönnberg    rock   \n",
       "2    20EC38            Funiculì funiculà       Mario Lanza     pop   \n",
       "3  A3DD03C9        Dragons in the Sunset        Fire + Ice    folk   \n",
       "4  E2DC1FAE                  Soul People        Space Echo   dance   \n",
       "5  842029A1                    Преданная         IMPERVTOR  rusrap   \n",
       "6  4CB90AA5                         True      Roman Messer   dance   \n",
       "7  F03E1C1F             Feeling This Way   Polina Griffith   dance   \n",
       "8  8FA1D3BE     И вновь продолжается бой               NaN  ruspop   \n",
       "9  E772D5C0                    Pessimist               NaN   dance   \n",
       "\n",
       "             City        time        Day  \n",
       "0  Saint-Petersburg  20:28:33  Wednesday  \n",
       "1            Moscow  14:07:09     Friday  \n",
       "2  Saint-Petersburg  20:58:07  Wednesday  \n",
       "3  Saint-Petersburg  08:37:09     Monday  \n",
       "4            Moscow  08:34:34     Monday  \n",
       "5  Saint-Petersburg  13:09:41     Friday  \n",
       "6            Moscow  13:00:07  Wednesday  \n",
       "7            Moscow  20:47:49  Wednesday  \n",
       "8            Moscow  09:17:40     Friday  \n",
       "9  Saint-Petersburg  21:20:49  Wednesday  "
      ]
     },
     "metadata": {},
     "output_type": "display_data"
    }
   ],
   "source": [
    "display(df.head(10))"
   ]
  },
  {
   "cell_type": "markdown",
   "metadata": {
    "id": "EO73Kwic_Zct"
   },
   "source": [
    "Одной командой получить общую информацию о таблице:"
   ]
  },
  {
   "cell_type": "code",
   "execution_count": 4,
   "metadata": {
    "id": "DSf2kIb-_Zct"
   },
   "outputs": [
    {
     "name": "stdout",
     "output_type": "stream",
     "text": [
      "<class 'pandas.core.frame.DataFrame'>\n",
      "RangeIndex: 65079 entries, 0 to 65078\n",
      "Data columns (total 7 columns):\n",
      "  userID    65079 non-null object\n",
      "Track       63848 non-null object\n",
      "artist      57876 non-null object\n",
      "genre       63881 non-null object\n",
      "  City      65079 non-null object\n",
      "time        65079 non-null object\n",
      "Day         65079 non-null object\n",
      "dtypes: object(7)\n",
      "memory usage: 3.5+ MB\n"
     ]
    }
   ],
   "source": [
    "df.info()"
   ]
  },
  {
   "cell_type": "markdown",
   "metadata": {
    "id": "TaQ2Iwbr_Zct"
   },
   "source": [
    "Итак, в таблице семь столбцов. Тип данных во всех столбцах — `object`.\n",
    "\n",
    "Согласно документации к данным:\n",
    "* `userID` — идентификатор пользователя;\n",
    "* `Track` — название трека;  \n",
    "* `artist` — имя исполнителя;\n",
    "* `genre` — название жанра;\n",
    "* `City` — город пользователя;\n",
    "* `time` — время начала прослушивания;\n",
    "* `Day` — день недели.\n",
    "\n",
    "В названиях колонок видны три нарушения стиля:\n",
    "1. Строчные буквы сочетаются с прописными.\n",
    "2. Встречаются пробелы.\n",
    "3. Используется \"верблюжий\" регистр\n",
    "\n",
    "\n",
    "\n",
    "Количество значений в столбцах различается. Значит, в данных есть пропущенные значения.\n"
   ]
  },
  {
   "cell_type": "markdown",
   "metadata": {
    "id": "MCB6-dXG_Zct"
   },
   "source": [
    "**Выводы**\n",
    "\n",
    "В каждой строке таблицы — данные о прослушанном треке. Часть колонок описывает саму композицию: название, исполнителя и жанр. Остальные данные рассказывают о пользователе: из какого он города, когда он слушал музыку. \n",
    "\n",
    "Предварительно можно утверждать, что, данных достаточно для проверки гипотез. Но встречаются пропуски в данных, а в названиях колонок — расхождения с хорошим стилем.\n",
    "\n",
    "Чтобы двигаться дальше, нужно устранить проблемы в данных."
   ]
  },
  {
   "cell_type": "markdown",
   "metadata": {
    "id": "SjYF6Ub9_Zct"
   },
   "source": [
    "## Предобработка данных\n",
    "Исправьте стиль в заголовках столбцов, исключите пропуски. Затем проверьте данные на дубликаты."
   ]
  },
  {
   "cell_type": "markdown",
   "metadata": {
    "id": "dIaKXr29_Zct"
   },
   "source": [
    "### Стиль заголовков\n",
    "Выведите на экран названия столбцов:"
   ]
  },
  {
   "cell_type": "code",
   "execution_count": 5,
   "metadata": {
    "id": "oKOTdF_Q_Zct"
   },
   "outputs": [
    {
     "data": {
      "text/plain": [
       "Index(['  userID', 'Track', 'artist', 'genre', '  City  ', 'time', 'Day'], dtype='object')"
      ]
     },
     "execution_count": 5,
     "metadata": {},
     "output_type": "execute_result"
    }
   ],
   "source": [
    "df.columns"
   ]
  },
  {
   "cell_type": "markdown",
   "metadata": {
    "id": "zj5534cv_Zct"
   },
   "source": [
    "Приведите названия в соответствие с хорошим стилем:\n",
    "* несколько слов в названии запишите в «змеином_регистре»,\n",
    "* все символы сделайте строчными,\n",
    "* устраните пробелы.\n",
    "\n",
    "Для этого переименуйте колонки так:\n",
    "* `'  userID'` → `'user_id'`;\n",
    "* `'Track'` → `'track'`;\n",
    "* `'  City  '` → `'city'`;\n",
    "* `'Day'` → `'day'`."
   ]
  },
  {
   "cell_type": "code",
   "execution_count": 6,
   "metadata": {
    "id": "ISlFqs5y_Zct"
   },
   "outputs": [],
   "source": [
    "df = df.rename(columns={'  userID':'user_id', 'Track':'track', '  City  ':'city', 'Day':'day'})"
   ]
  },
  {
   "cell_type": "markdown",
   "metadata": {
    "id": "1dqbh00J_Zct"
   },
   "source": [
    "Проверьте результат. Для этого ещё раз выведите на экран названия столбцов:"
   ]
  },
  {
   "cell_type": "code",
   "execution_count": 7,
   "metadata": {
    "id": "d4NOAmTW_Zct"
   },
   "outputs": [
    {
     "data": {
      "text/plain": [
       "Index(['user_id', 'track', 'artist', 'genre', 'city', 'time', 'day'], dtype='object')"
      ]
     },
     "execution_count": 7,
     "metadata": {},
     "output_type": "execute_result"
    }
   ],
   "source": [
    "df.columns"
   ]
  },
  {
   "cell_type": "markdown",
   "metadata": {
    "id": "5ISfbcfY_Zct"
   },
   "source": [
    "### Пропуски значений\n",
    "Сначала посчитайте, сколько в таблице пропущенных значений. Для этого достаточно двух методов `pandas`:"
   ]
  },
  {
   "cell_type": "code",
   "execution_count": 8,
   "metadata": {
    "id": "RskX29qr_Zct"
   },
   "outputs": [
    {
     "name": "stdout",
     "output_type": "stream",
     "text": [
      "user_id       0\n",
      "track      1231\n",
      "artist     7203\n",
      "genre      1198\n",
      "city          0\n",
      "time          0\n",
      "day           0\n",
      "dtype: int64\n"
     ]
    }
   ],
   "source": [
    "print(df.isna().sum())"
   ]
  },
  {
   "cell_type": "markdown",
   "metadata": {
    "id": "qubhgnlO_Zct"
   },
   "source": [
    "Не все пропущенные значения влияют на исследование. Так в `track` и `artist` пропуски не важны для вашей работы. Достаточно заменить их явными обозначениями.\n",
    "\n",
    "Но пропуски в `genre` могут помешать сравнению музыкальных вкусов в Москве и Санкт-Петербурге. На практике было бы правильно установить причину пропусков и восстановить данные. Такой возможности нет в учебном проекте. Придётся:\n",
    "* заполнить и эти пропуски явными обозначениями,\n",
    "* оценить, насколько они повредят расчётам. "
   ]
  },
  {
   "cell_type": "markdown",
   "metadata": {
    "id": "fSv2laPA_Zct"
   },
   "source": [
    "Замените пропущенные значения в столбцах `track`, `artist` и `genre` на строку `'unknown'`. Для этого создайте список `columns_to_replace`, переберите его элементы циклом `for` и для каждого столбца выполните замену пропущенных значений:"
   ]
  },
  {
   "cell_type": "code",
   "execution_count": 9,
   "metadata": {
    "id": "KplB5qWs_Zct"
   },
   "outputs": [],
   "source": [
    "# перебор названий столбцов в цикле и замена пропущенных значений на 'unknown'\n",
    "columns_to_replace = ['track', 'artist', 'genre']\n",
    "\n",
    "for column in columns_to_replace:\n",
    "    df[column] = df[column].fillna('unknown')"
   ]
  },
  {
   "cell_type": "markdown",
   "metadata": {
    "id": "Ilsm-MZo_Zct"
   },
   "source": [
    "Убедитесь, что в таблице не осталось пропусков. Для этого ещё раз посчитайте пропущенные значения."
   ]
  },
  {
   "cell_type": "code",
   "execution_count": 10,
   "metadata": {
    "id": "Tq4nYRX4_Zct"
   },
   "outputs": [
    {
     "name": "stdout",
     "output_type": "stream",
     "text": [
      "user_id    0\n",
      "track      0\n",
      "artist     0\n",
      "genre      0\n",
      "city       0\n",
      "time       0\n",
      "day        0\n",
      "dtype: int64\n"
     ]
    }
   ],
   "source": [
    "# подсчёт пропусков\n",
    "print(df.isna().sum())"
   ]
  },
  {
   "cell_type": "markdown",
   "metadata": {
    "id": "BWKRtBJ3_Zct"
   },
   "source": [
    "### Дубликаты\n",
    "Посчитайте явные дубликаты в таблице одной командой:"
   ]
  },
  {
   "cell_type": "code",
   "execution_count": 11,
   "metadata": {
    "id": "36eES_S0_Zct"
   },
   "outputs": [
    {
     "name": "stdout",
     "output_type": "stream",
     "text": [
      "3826\n"
     ]
    }
   ],
   "source": [
    "# подсчёт явных дубликатов\n",
    "print(df.duplicated().sum())"
   ]
  },
  {
   "cell_type": "markdown",
   "metadata": {
    "id": "Ot25h6XR_Zct"
   },
   "source": [
    "Вызовите специальный метод `pandas`, чтобы удалить явные дубликаты:"
   ]
  },
  {
   "cell_type": "code",
   "execution_count": 12,
   "metadata": {
    "id": "exFHq6tt_Zct"
   },
   "outputs": [],
   "source": [
    "# удаление явных дубликатов (с удалением старых индексов и формированием новых)\n",
    "df = df.drop_duplicates().reset_index(drop = True)"
   ]
  },
  {
   "cell_type": "markdown",
   "metadata": {
    "id": "Im2YwBEG_Zct"
   },
   "source": [
    "Ещё раз посчитайте явные дубликаты в таблице — убедитесь, что полностью от них избавились:"
   ]
  },
  {
   "cell_type": "code",
   "execution_count": 13,
   "metadata": {
    "id": "-8PuNWQ0_Zct"
   },
   "outputs": [
    {
     "name": "stdout",
     "output_type": "stream",
     "text": [
      "0\n"
     ]
    }
   ],
   "source": [
    "# проверка на отсутствие дубликатов\n",
    "print(df.duplicated().sum())"
   ]
  },
  {
   "cell_type": "markdown",
   "metadata": {
    "id": "QlFBsxAr_Zct"
   },
   "source": [
    "Теперь избавьтесь от неявных дубликатов в колонке `genre`. Например, название одного и того же жанра может быть записано немного по-разному. Такие ошибки тоже повлияют на результат исследования."
   ]
  },
  {
   "cell_type": "markdown",
   "metadata": {
    "id": "eSjWwsOh_Zct"
   },
   "source": [
    "Выведите на экран список уникальных названий жанров, отсортированный в алфавитном порядке. Для этого:\n",
    "* извлеките нужный столбец датафрейма, \n",
    "* примените к нему метод сортировки,\n",
    "* для отсортированного столбца вызовите метод, который вернёт уникальные значения из столбца."
   ]
  },
  {
   "cell_type": "code",
   "execution_count": 14,
   "metadata": {
    "id": "JIUcqzZN_Zct"
   },
   "outputs": [
    {
     "name": "stdout",
     "output_type": "stream",
     "text": [
      "['acid' 'acoustic' 'action' 'adult' 'africa' 'afrikaans' 'alternative'\n",
      " 'alternativepunk' 'ambient' 'americana' 'animated' 'anime' 'arabesk'\n",
      " 'arabic' 'arena' 'argentinetango' 'art' 'audiobook' 'author' 'avantgarde'\n",
      " 'axé' 'baile' 'balkan' 'beats' 'bigroom' 'black' 'bluegrass' 'blues'\n",
      " 'bollywood' 'bossa' 'brazilian' 'breakbeat' 'breaks' 'broadway'\n",
      " 'cantautori' 'cantopop' 'canzone' 'caribbean' 'caucasian' 'celtic'\n",
      " 'chamber' 'chanson' 'children' 'chill' 'chinese' 'choral' 'christian'\n",
      " 'christmas' 'classical' 'classicmetal' 'club' 'colombian' 'comedy'\n",
      " 'conjazz' 'contemporary' 'country' 'cuban' 'dance' 'dancehall' 'dancepop'\n",
      " 'dark' 'death' 'deep' 'deutschrock' 'deutschspr' 'dirty' 'disco' 'dnb'\n",
      " 'documentary' 'downbeat' 'downtempo' 'drum' 'dub' 'dubstep' 'eastern'\n",
      " 'easy' 'electronic' 'electropop' 'emo' 'entehno' 'epicmetal' 'estrada'\n",
      " 'ethnic' 'eurofolk' 'european' 'experimental' 'extrememetal' 'fado'\n",
      " 'fairytail' 'film' 'fitness' 'flamenco' 'folk' 'folklore' 'folkmetal'\n",
      " 'folkrock' 'folktronica' 'forró' 'frankreich' 'französisch' 'french'\n",
      " 'funk' 'future' 'gangsta' 'garage' 'german' 'ghazal' 'gitarre' 'glitch'\n",
      " 'gospel' 'gothic' 'grime' 'grunge' 'gypsy' 'handsup' \"hard'n'heavy\"\n",
      " 'hardcore' 'hardstyle' 'hardtechno' 'hip' 'hip-hop' 'hiphop' 'historisch'\n",
      " 'holiday' 'hop' 'horror' 'house' 'hymn' 'idm' 'independent' 'indian'\n",
      " 'indie' 'indipop' 'industrial' 'inspirational' 'instrumental'\n",
      " 'international' 'irish' 'jam' 'japanese' 'jazz' 'jewish' 'jpop' 'jungle'\n",
      " 'k-pop' 'karadeniz' 'karaoke' 'kayokyoku' 'korean' 'laiko' 'latin'\n",
      " 'latino' 'leftfield' 'local' 'lounge' 'loungeelectronic' 'lovers'\n",
      " 'malaysian' 'mandopop' 'marschmusik' 'meditative' 'mediterranean'\n",
      " 'melodic' 'metal' 'metalcore' 'mexican' 'middle' 'minimal'\n",
      " 'miscellaneous' 'modern' 'mood' 'mpb' 'muslim' 'native' 'neoklassik'\n",
      " 'neue' 'new' 'newage' 'newwave' 'nu' 'nujazz' 'numetal' 'oceania' 'old'\n",
      " 'opera' 'orchestral' 'other' 'piano' 'podcasts' 'pop' 'popdance'\n",
      " 'popelectronic' 'popeurodance' 'poprussian' 'post' 'posthardcore'\n",
      " 'postrock' 'power' 'progmetal' 'progressive' 'psychedelic' 'punjabi'\n",
      " 'punk' 'quebecois' 'ragga' 'ram' 'rancheras' 'rap' 'rave' 'reggae'\n",
      " 'reggaeton' 'regional' 'relax' 'religious' 'retro' 'rhythm' 'rnb' 'rnr'\n",
      " 'rock' 'rockabilly' 'rockalternative' 'rockindie' 'rockother' 'romance'\n",
      " 'roots' 'ruspop' 'rusrap' 'rusrock' 'russian' 'salsa' 'samba' 'scenic'\n",
      " 'schlager' 'self' 'sertanejo' 'shanson' 'shoegazing' 'showtunes' 'singer'\n",
      " 'ska' 'skarock' 'slow' 'smooth' 'soft' 'soul' 'soulful' 'sound'\n",
      " 'soundtrack' 'southern' 'specialty' 'speech' 'spiritual' 'sport'\n",
      " 'stonerrock' 'surf' 'swing' 'synthpop' 'synthrock' 'sängerportrait'\n",
      " 'tango' 'tanzorchester' 'taraftar' 'tatar' 'tech' 'techno' 'teen'\n",
      " 'thrash' 'top' 'traditional' 'tradjazz' 'trance' 'tribal' 'trip'\n",
      " 'triphop' 'tropical' 'türk' 'türkçe' 'ukrrock' 'unknown' 'urban' 'uzbek'\n",
      " 'variété' 'vi' 'videogame' 'vocal' 'western' 'world' 'worldbeat' 'ïîï'\n",
      " 'электроника']\n"
     ]
    }
   ],
   "source": [
    "# Просмотр уникальных названий жанров\n",
    "unique_genre = df['genre'].sort_values().unique()\n",
    "print(unique_genre)"
   ]
  },
  {
   "cell_type": "markdown",
   "metadata": {
    "id": "qej-Qmuo_Zct"
   },
   "source": [
    "Просмотрите список и найдите неявные дубликаты названия `hiphop`. Это могут быть названия с ошибками или альтернативные названия того же жанра.\n",
    "\n",
    "Вы увидите следующие неявные дубликаты:\n",
    "* *hip*,\n",
    "* *hop*,\n",
    "* *hip-hop*.\n",
    "\n",
    "Чтобы очистить от них таблицу, напишите функцию `replace_wrong_genres()` с двумя параметрами: \n",
    "* `wrong_genres` — список дубликатов,\n",
    "* `correct_genre` — строка с правильным значением.\n",
    "\n",
    "Функция должна исправить колонку `genre` в таблице `df`: заменить каждое значение из списка `wrong_genres` на значение из `correct_genre`."
   ]
  },
  {
   "cell_type": "code",
   "execution_count": 15,
   "metadata": {
    "id": "ErNDkmns_Zct"
   },
   "outputs": [],
   "source": [
    "# Функция для замены неявных дубликатов\n",
    "duplicates = ['hip','hop','hip-hop']\n",
    "name = 'hiphop'\n",
    "\n",
    "def replace_wrong_genres(wrong_genres,correct_genre):\n",
    "    for wrong_genre in wrong_genres:\n",
    "        df['genre'] = df['genre'].replace(wrong_genre,correct_genre)\n",
    "\n",
    "replace_wrong_genres(duplicates,name)\n",
    "replace_wrong_genres(['электроника'],'electronic')"
   ]
  },
  {
   "cell_type": "markdown",
   "metadata": {
    "id": "aDoBJxbA_Zct"
   },
   "source": [
    "Вызовите `replace_wrong_genres()` и передайте ей такие аргументы, чтобы она устранила неявные дубликаты: вместо `hip`, `hop` и `hip-hop` в таблице должно быть значение `hiphop`:"
   ]
  },
  {
   "cell_type": "code",
   "execution_count": 16,
   "metadata": {
    "id": "YN5i2hpmSo09"
   },
   "outputs": [],
   "source": [
    "# Устранение неявных дубликатов"
   ]
  },
  {
   "cell_type": "markdown",
   "metadata": {
    "id": "zQKF16_RG15m"
   },
   "source": [
    "Проверьте, что заменили неправильные названия:\n",
    "\n",
    "*   hip\n",
    "*   hop\n",
    "*   hip-hop\n",
    "\n",
    "Выведите отсортированный список уникальных значений столбца `genre`:"
   ]
  },
  {
   "cell_type": "code",
   "execution_count": 17,
   "metadata": {
    "id": "wvixALnFG15m"
   },
   "outputs": [
    {
     "name": "stdout",
     "output_type": "stream",
     "text": [
      "['acid' 'acoustic' 'action' 'adult' 'africa' 'afrikaans' 'alternative'\n",
      " 'alternativepunk' 'ambient' 'americana' 'animated' 'anime' 'arabesk'\n",
      " 'arabic' 'arena' 'argentinetango' 'art' 'audiobook' 'author' 'avantgarde'\n",
      " 'axé' 'baile' 'balkan' 'beats' 'bigroom' 'black' 'bluegrass' 'blues'\n",
      " 'bollywood' 'bossa' 'brazilian' 'breakbeat' 'breaks' 'broadway'\n",
      " 'cantautori' 'cantopop' 'canzone' 'caribbean' 'caucasian' 'celtic'\n",
      " 'chamber' 'chanson' 'children' 'chill' 'chinese' 'choral' 'christian'\n",
      " 'christmas' 'classical' 'classicmetal' 'club' 'colombian' 'comedy'\n",
      " 'conjazz' 'contemporary' 'country' 'cuban' 'dance' 'dancehall' 'dancepop'\n",
      " 'dark' 'death' 'deep' 'deutschrock' 'deutschspr' 'dirty' 'disco' 'dnb'\n",
      " 'documentary' 'downbeat' 'downtempo' 'drum' 'dub' 'dubstep' 'eastern'\n",
      " 'easy' 'electronic' 'electropop' 'emo' 'entehno' 'epicmetal' 'estrada'\n",
      " 'ethnic' 'eurofolk' 'european' 'experimental' 'extrememetal' 'fado'\n",
      " 'fairytail' 'film' 'fitness' 'flamenco' 'folk' 'folklore' 'folkmetal'\n",
      " 'folkrock' 'folktronica' 'forró' 'frankreich' 'französisch' 'french'\n",
      " 'funk' 'future' 'gangsta' 'garage' 'german' 'ghazal' 'gitarre' 'glitch'\n",
      " 'gospel' 'gothic' 'grime' 'grunge' 'gypsy' 'handsup' \"hard'n'heavy\"\n",
      " 'hardcore' 'hardstyle' 'hardtechno' 'hiphop' 'historisch' 'holiday'\n",
      " 'horror' 'house' 'hymn' 'idm' 'independent' 'indian' 'indie' 'indipop'\n",
      " 'industrial' 'inspirational' 'instrumental' 'international' 'irish' 'jam'\n",
      " 'japanese' 'jazz' 'jewish' 'jpop' 'jungle' 'k-pop' 'karadeniz' 'karaoke'\n",
      " 'kayokyoku' 'korean' 'laiko' 'latin' 'latino' 'leftfield' 'local'\n",
      " 'lounge' 'loungeelectronic' 'lovers' 'malaysian' 'mandopop' 'marschmusik'\n",
      " 'meditative' 'mediterranean' 'melodic' 'metal' 'metalcore' 'mexican'\n",
      " 'middle' 'minimal' 'miscellaneous' 'modern' 'mood' 'mpb' 'muslim'\n",
      " 'native' 'neoklassik' 'neue' 'new' 'newage' 'newwave' 'nu' 'nujazz'\n",
      " 'numetal' 'oceania' 'old' 'opera' 'orchestral' 'other' 'piano' 'podcasts'\n",
      " 'pop' 'popdance' 'popelectronic' 'popeurodance' 'poprussian' 'post'\n",
      " 'posthardcore' 'postrock' 'power' 'progmetal' 'progressive' 'psychedelic'\n",
      " 'punjabi' 'punk' 'quebecois' 'ragga' 'ram' 'rancheras' 'rap' 'rave'\n",
      " 'reggae' 'reggaeton' 'regional' 'relax' 'religious' 'retro' 'rhythm'\n",
      " 'rnb' 'rnr' 'rock' 'rockabilly' 'rockalternative' 'rockindie' 'rockother'\n",
      " 'romance' 'roots' 'ruspop' 'rusrap' 'rusrock' 'russian' 'salsa' 'samba'\n",
      " 'scenic' 'schlager' 'self' 'sertanejo' 'shanson' 'shoegazing' 'showtunes'\n",
      " 'singer' 'ska' 'skarock' 'slow' 'smooth' 'soft' 'soul' 'soulful' 'sound'\n",
      " 'soundtrack' 'southern' 'specialty' 'speech' 'spiritual' 'sport'\n",
      " 'stonerrock' 'surf' 'swing' 'synthpop' 'synthrock' 'sängerportrait'\n",
      " 'tango' 'tanzorchester' 'taraftar' 'tatar' 'tech' 'techno' 'teen'\n",
      " 'thrash' 'top' 'traditional' 'tradjazz' 'trance' 'tribal' 'trip'\n",
      " 'triphop' 'tropical' 'türk' 'türkçe' 'ukrrock' 'unknown' 'urban' 'uzbek'\n",
      " 'variété' 'vi' 'videogame' 'vocal' 'western' 'world' 'worldbeat' 'ïîï']\n"
     ]
    }
   ],
   "source": [
    "# Проверка на неявные дубликаты\n",
    "print(df['genre'].sort_values().unique())"
   ]
  },
  {
   "cell_type": "markdown",
   "metadata": {
    "id": "jz6a9-7HQUDd"
   },
   "source": [
    "**Выводы**\n",
    "\n",
    "Предобработка обнаружила три проблемы в данных:\n",
    "\n",
    "- нарушения в стиле заголовков,\n",
    "- пропущенные значения,\n",
    "- дубликаты — явные и неявные.\n",
    "\n",
    "Вы исправили заголовки, чтобы упростить работу с таблицей. Без дубликатов исследование станет более точным.\n",
    "\n",
    "Пропущенные значения вы заменили на `'unknown'`. Ещё предстоит увидеть, не повредят ли исследованию пропуски в колонке `genre`.\n",
    "\n",
    "Теперь можно перейти к проверке гипотез. "
   ]
  },
  {
   "cell_type": "markdown",
   "metadata": {
    "id": "WttZHXH0SqKk"
   },
   "source": [
    "## Проверка гипотез"
   ]
  },
  {
   "cell_type": "markdown",
   "metadata": {
    "id": "Im936VVi_Zcu"
   },
   "source": [
    "### Сравнение поведения пользователей двух столиц"
   ]
  },
  {
   "cell_type": "markdown",
   "metadata": {
    "id": "nwt_MuaL_Zcu"
   },
   "source": [
    "Первая гипотеза утверждает, что пользователи по-разному слушают музыку в Москве и Санкт-Петербурге. Проверьте это предположение по данным о трёх днях недели — понедельнике, среде и пятнице. Для этого:\n",
    "\n",
    "* Разделите пользователей Москвы и Санкт-Петербурга\n",
    "* Сравните, сколько треков послушала каждая группа пользователей в понедельник, среду и пятницу.\n"
   ]
  },
  {
   "cell_type": "markdown",
   "metadata": {
    "id": "8Dw_YMmT_Zcu"
   },
   "source": [
    "Для тренировки сначала выполните каждый из расчётов по отдельности. \n",
    "\n",
    "Оцените активность пользователей в каждом городе. Сгруппируйте данные по городу и посчитайте прослушивания в каждой группе.\n",
    "\n"
   ]
  },
  {
   "cell_type": "code",
   "execution_count": 18,
   "metadata": {
    "id": "0_Qs96oh_Zcu"
   },
   "outputs": [
    {
     "name": "stdout",
     "output_type": "stream",
     "text": [
      "42741\n",
      "18512\n"
     ]
    }
   ],
   "source": [
    "# Подсчёт прослушиваний в каждом городе\n",
    "msk_users = df[df['city'] == 'Moscow']\n",
    "msk_users_count = msk_users['user_id'].count()\n",
    "spb_users = df[df['city'] == 'Saint-Petersburg']\n",
    "spb_users_count = spb_users['user_id'].count()\n",
    "\n",
    "print(msk_users_count)\n",
    "print(spb_users_count)"
   ]
  },
  {
   "cell_type": "markdown",
   "metadata": {
    "id": "dzli3w8o_Zcu"
   },
   "source": [
    "В Москве прослушиваний больше, чем в Петербурге. Из этого не следует, что московские пользователи чаще слушают музыку. Просто самих пользователей в Москве больше.\n",
    "\n",
    "Теперь сгруппируйте данные по дню недели и подсчитайте прослушивания в понедельник, среду и пятницу. Учтите, что в данных есть информация только о прослушиваниях только за эти дни.\n"
   ]
  },
  {
   "cell_type": "code",
   "execution_count": 19,
   "metadata": {
    "id": "uZMKjiJz_Zcu"
   },
   "outputs": [
    {
     "data": {
      "text/plain": [
       "day\n",
       "Friday       21840\n",
       "Monday       21354\n",
       "Wednesday    18059\n",
       "Name: track, dtype: int64"
      ]
     },
     "metadata": {},
     "output_type": "display_data"
    }
   ],
   "source": [
    "# Подсчёт прослушиваний в каждый из трёх дней\n",
    "track_groupby_days = df.groupby('day')['track'].count()\n",
    "\n",
    "display(track_groupby_days)"
   ]
  },
  {
   "cell_type": "markdown",
   "metadata": {
    "id": "cC2tNrlL_Zcu"
   },
   "source": [
    "В среднем пользователи из двух городов менее активны по средам. Но картина может измениться, если рассмотреть каждый город в отдельности."
   ]
  },
  {
   "cell_type": "markdown",
   "metadata": {
    "id": "POzs8bGa_Zcu"
   },
   "source": [
    "Вы видели, как работает группировка по городу и по дням недели. Теперь напишите функцию, которая объединит два эти расчёта.\n",
    "\n",
    "Создайте функцию `number_tracks()`, которая посчитает прослушивания для заданного дня и города. Ей понадобятся два параметра:\n",
    "* день недели,\n",
    "* название города.\n",
    "\n",
    "В функции сохраните в переменную строки исходной таблицы, у которых значение:\n",
    "  * в колонке `day` равно параметру `day`,\n",
    "  * в колонке `city` равно параметру `city`.\n",
    "\n",
    "Для этого примените последовательную фильтрацию с логической индексацией.\n",
    "\n",
    "Затем посчитайте значения в столбце `user_id` получившейся таблицы. Результат сохраните в новую переменную. Верните эту переменную из функции."
   ]
  },
  {
   "cell_type": "code",
   "execution_count": 20,
   "metadata": {
    "id": "Nz3GdQB1_Zcu"
   },
   "outputs": [
    {
     "data": {
      "text/plain": [
       "[['Moscow', 15740, 11056, 15945], ['Saint-Petersburg', 5614, 7003, 5895]]"
      ]
     },
     "execution_count": 20,
     "metadata": {},
     "output_type": "execute_result"
    }
   ],
   "source": [
    "# <создание функции number_tracks()>\n",
    "# Объявляется функция с двумя параметрами: day, city.\n",
    "days = ['Monday', 'Wednesday', 'Friday']\n",
    "cities = ['Moscow', 'Saint-Petersburg'] \n",
    "track_list_count = []\n",
    "# В переменной track_list сохраняются те строки таблицы df, для которых \n",
    "# значение в столбце 'day' равно параметру day и одновременно значение\n",
    "# в столбце 'city' равно параметру city (используйте последовательную фильтрацию\n",
    "# с помощью логической индексации).\n",
    "# В переменной track_list_count сохраняется число значений столбца 'user_id',\n",
    "# рассчитанное методом count() для таблицы track_list.\n",
    "# Функция возвращает число - значение track_list_count.\n",
    "\n",
    "# Функция для подсчёта прослушиваний для конкретного города и дня.\n",
    "# С помощью последовательной фильтрации с логической индексацией она \n",
    "# сначала получит из исходной таблицы строки с нужным днём,\n",
    "# затем из результата отфильтрует строки с нужным городом,\n",
    "# методом count() посчитает количество значений в колонке user_id. \n",
    "# Это количество функция вернёт в качестве результата\n",
    "\n",
    "def number_tracks(cities,days):\n",
    "    for city in cities:\n",
    "        track_list_city = [city]\n",
    "        for day in days:\n",
    "            track_list = df[df['day'] == day]\n",
    "            track_list = track_list[track_list['city'] == city]\n",
    "            track_list_city.append(track_list['user_id'].count())\n",
    "        track_list_count.append(track_list_city)\n",
    "    return track_list_count\n",
    "\n",
    "number_tracks(cities,days)"
   ]
  },
  {
   "cell_type": "markdown",
   "metadata": {
    "id": "ytf7xFrFJQ2r"
   },
   "source": [
    "Вызовите `number_tracks()` шесть раз, меняя значение параметров — так, чтобы получить данные для каждого города в каждый из трёх дней."
   ]
  },
  {
   "cell_type": "code",
   "execution_count": 21,
   "metadata": {
    "id": "rJcRATNQ_Zcu"
   },
   "outputs": [
    {
     "name": "stdout",
     "output_type": "stream",
     "text": [
      "15740\n"
     ]
    }
   ],
   "source": [
    "# количество прослушиваний в Москве по понедельникам\n",
    "print(track_list_count[0][1])"
   ]
  },
  {
   "cell_type": "code",
   "execution_count": 22,
   "metadata": {
    "id": "hq_ncZ5T_Zcu"
   },
   "outputs": [
    {
     "name": "stdout",
     "output_type": "stream",
     "text": [
      "5614\n"
     ]
    }
   ],
   "source": [
    "# количество прослушиваний в Санкт-Петербурге по понедельникам\n",
    "print(track_list_count[1][1])"
   ]
  },
  {
   "cell_type": "code",
   "execution_count": 23,
   "metadata": {
    "id": "_NTy2VPU_Zcu"
   },
   "outputs": [
    {
     "name": "stdout",
     "output_type": "stream",
     "text": [
      "11056\n"
     ]
    }
   ],
   "source": [
    "# количество прослушиваний в Москве по средам\n",
    "print(track_list_count[0][2])"
   ]
  },
  {
   "cell_type": "code",
   "execution_count": 24,
   "metadata": {
    "id": "j2y3TAwo_Zcu"
   },
   "outputs": [
    {
     "name": "stdout",
     "output_type": "stream",
     "text": [
      "7003\n"
     ]
    }
   ],
   "source": [
    "# количество прослушиваний в Санкт-Петербурге по средам\n",
    "print(track_list_count[1][2])"
   ]
  },
  {
   "cell_type": "code",
   "execution_count": 25,
   "metadata": {
    "id": "vYDw5u_K_Zcu"
   },
   "outputs": [
    {
     "name": "stdout",
     "output_type": "stream",
     "text": [
      "15945\n"
     ]
    }
   ],
   "source": [
    "# количество прослушиваний в Москве по пятницам\n",
    "print(track_list_count[0][3])"
   ]
  },
  {
   "cell_type": "code",
   "execution_count": 26,
   "metadata": {
    "id": "8_yzFtW3_Zcu"
   },
   "outputs": [
    {
     "name": "stdout",
     "output_type": "stream",
     "text": [
      "5895\n"
     ]
    }
   ],
   "source": [
    "# количество прослушиваний в Санкт-Петербурге по пятницам\n",
    "print(track_list_count[1][3])"
   ]
  },
  {
   "cell_type": "markdown",
   "metadata": {
    "id": "7QXffbO-_Zcu"
   },
   "source": [
    "Создайте c помощью конструктора `pd.DataFrame` таблицу, где\n",
    "* названия колонок — `['city', 'monday', 'wednesday', 'friday']`;\n",
    "* данные — результаты, которые вы получили с помощью `number_tracks`."
   ]
  },
  {
   "cell_type": "code",
   "execution_count": 27,
   "metadata": {
    "id": "APAcLpOr_Zcu"
   },
   "outputs": [
    {
     "data": {
      "text/html": [
       "<div>\n",
       "<style scoped>\n",
       "    .dataframe tbody tr th:only-of-type {\n",
       "        vertical-align: middle;\n",
       "    }\n",
       "\n",
       "    .dataframe tbody tr th {\n",
       "        vertical-align: top;\n",
       "    }\n",
       "\n",
       "    .dataframe thead th {\n",
       "        text-align: right;\n",
       "    }\n",
       "</style>\n",
       "<table border=\"1\" class=\"dataframe\">\n",
       "  <thead>\n",
       "    <tr style=\"text-align: right;\">\n",
       "      <th></th>\n",
       "      <th>city</th>\n",
       "      <th>monday</th>\n",
       "      <th>wednesday</th>\n",
       "      <th>friday</th>\n",
       "    </tr>\n",
       "  </thead>\n",
       "  <tbody>\n",
       "    <tr>\n",
       "      <td>0</td>\n",
       "      <td>Moscow</td>\n",
       "      <td>15740</td>\n",
       "      <td>11056</td>\n",
       "      <td>15945</td>\n",
       "    </tr>\n",
       "    <tr>\n",
       "      <td>1</td>\n",
       "      <td>Saint-Petersburg</td>\n",
       "      <td>5614</td>\n",
       "      <td>7003</td>\n",
       "      <td>5895</td>\n",
       "    </tr>\n",
       "  </tbody>\n",
       "</table>\n",
       "</div>"
      ],
      "text/plain": [
       "               city  monday  wednesday  friday\n",
       "0            Moscow   15740      11056   15945\n",
       "1  Saint-Petersburg    5614       7003    5895"
      ]
     },
     "metadata": {},
     "output_type": "display_data"
    }
   ],
   "source": [
    "# Таблица с результатами\n",
    "track_list_table = pd.DataFrame(data = track_list_count, columns = ['city', 'monday', 'wednesday', 'friday'])\n",
    "display(track_list_table)"
   ]
  },
  {
   "cell_type": "markdown",
   "metadata": {},
   "source": [
    "<div class=\"alert alert-success\">\n",
    "<b>✔️ Комментарий ревьюера:</b> \n",
    "<br>Датафрейм построен верно. Молодец!\n",
    "</div>"
   ]
  },
  {
   "cell_type": "markdown",
   "metadata": {
    "id": "-EgPIHYu_Zcu"
   },
   "source": [
    "**Выводы**\n",
    "\n",
    "Данные показывают разницу поведения пользователей:\n",
    "\n",
    "- В Москве пик прослушиваний приходится на понедельник и пятницу, а в среду заметен спад.\n",
    "- В Петербурге, наоборот, больше слушают музыку по средам. Активность в понедельник и пятницу здесь почти в равной мере уступает среде.\n",
    "\n",
    "Значит, данные говорят в пользу первой гипотезы."
   ]
  },
  {
   "cell_type": "markdown",
   "metadata": {
    "id": "atZAxtq4_Zcu"
   },
   "source": [
    "### Музыка в начале и в конце недели"
   ]
  },
  {
   "cell_type": "markdown",
   "metadata": {
    "id": "eXrQqXFH_Zcu"
   },
   "source": [
    "Согласно второй гипотезе, утром в понедельник в Москве преобладают одни жанры, а в Петербурге — другие. Так же и вечером пятницы преобладают разные жанры — в зависимости от города."
   ]
  },
  {
   "cell_type": "markdown",
   "metadata": {
    "id": "S8UcW6Hw_Zcu"
   },
   "source": [
    "Сохраните таблицы с данными в две переменные:\n",
    "* по Москве — в `moscow_general`;\n",
    "* по Санкт-Петербургу — в `spb_general`."
   ]
  },
  {
   "cell_type": "code",
   "execution_count": 28,
   "metadata": {
    "id": "qeaFfM_P_Zcu"
   },
   "outputs": [],
   "source": [
    "# получение таблицы moscow_general из тех строк таблицы df, \n",
    "# для которых значение в столбце 'city' равно 'Moscow'\n",
    "moscow_general = df[df['city'] == 'Moscow']"
   ]
  },
  {
   "cell_type": "code",
   "execution_count": 29,
   "metadata": {
    "id": "ORaVRKto_Zcu"
   },
   "outputs": [],
   "source": [
    "# получение таблицы spb_general из тех строк таблицы df,\n",
    "# для которых значение в столбце 'city' равно 'Saint-Petersburg'\n",
    "spb_general = df[df['city'] == 'Saint-Petersburg']"
   ]
  },
  {
   "cell_type": "markdown",
   "metadata": {
    "id": "MEJV-CX2_Zcu"
   },
   "source": [
    "Создайте функцию `genre_weekday()` с четырьмя параметрами:\n",
    "* таблица (датафрейм) с данными,\n",
    "* день недели,\n",
    "* начальная временная метка в формате 'hh:mm', \n",
    "* последняя временная метка в формате 'hh:mm'.\n",
    "\n",
    "Функция должна вернуть информацию о топ-10 жанров тех треков, которые прослушивали в указанный день, в промежутке между двумя отметками времени."
   ]
  },
  {
   "cell_type": "code",
   "execution_count": 30,
   "metadata": {
    "id": "laJT9BYl_Zcu"
   },
   "outputs": [],
   "source": [
    "# Объявление функции genre_weekday() с параметрами table, day, time1, time2,\n",
    "# которая возвращает информацию о самых популярных жанрах в указанный день в\n",
    "# заданное время:\n",
    "# 1) в переменную genre_df сохраняются те строки переданного датафрейма table, для\n",
    "#    которых одновременно:\n",
    "#    - значение в столбце day равно значению аргумента day\n",
    "#    - значение в столбце time больше значения аргумента time1\n",
    "#    - значение в столбце time меньше значения аргумента time2\n",
    "#    Используйте последовательную фильтрацию с помощью логической индексации.\n",
    "# 2) сгруппировать датафрейм genre_df по столбцу genre, взять один из его\n",
    "#    столбцов и посчитать методом count() количество записей для каждого из\n",
    "#    присутствующих жанров, получившийся Series записать в переменную\n",
    "#    genre_df_count\n",
    "# 3) отсортировать genre_df_count по убыванию встречаемости и сохранить\n",
    "#    в переменную genre_df_sorted\n",
    "# 4) вернуть Series из 10 первых значений genre_df_sorted, это будут топ-10\n",
    "#    популярных жанров (в указанный день, в заданное время)\n",
    "\n",
    "#'user_id', 'track', 'artist', 'genre', 'city', 'time', 'day'\n",
    "\n",
    "\n",
    "#day = ['monday', 'friday']\n",
    "#time1 = ['7:00', '17:00']\n",
    "#time2 = ['11:00', '23:00']\n",
    "\n",
    "def genre_weekday(table, day, time1, time2):\n",
    "    genre_df = table[table['day'] == day]\n",
    "    genre_df = genre_df[genre_df['time'] > time1]\n",
    "    genre_df = genre_df[genre_df['time'] < time2]\n",
    "    genre_df_count = genre_df.groupby('genre')['track'].count()\n",
    "    genre_df_sorted = genre_df_count.sort_values(ascending = False)\n",
    "    return display(genre_df_sorted.head(10))"
   ]
  },
  {
   "cell_type": "markdown",
   "metadata": {
    "id": "la2s2_PF_Zcu"
   },
   "source": [
    "Cравните результаты функции `genre_weekday()` для Москвы и Санкт-Петербурга в понедельник утром (с 7:00 до 11:00) и в пятницу вечером (с 17:00 до 23:00):"
   ]
  },
  {
   "cell_type": "code",
   "execution_count": 31,
   "metadata": {
    "id": "yz7itPUQ_Zcu"
   },
   "outputs": [
    {
     "data": {
      "text/plain": [
       "genre\n",
       "pop            781\n",
       "dance          549\n",
       "electronic     480\n",
       "rock           474\n",
       "hiphop         286\n",
       "ruspop         186\n",
       "world          181\n",
       "rusrap         175\n",
       "alternative    164\n",
       "unknown        161\n",
       "Name: track, dtype: int64"
      ]
     },
     "metadata": {},
     "output_type": "display_data"
    }
   ],
   "source": [
    "# вызов функции для утра понедельника в Москве (вместо df — таблица moscow_general)\n",
    "# объекты, хранящие время, являются строками и сравниваются как строки\n",
    "genre_weekday(moscow_general, 'Monday', '07:00', '11:00')"
   ]
  },
  {
   "cell_type": "code",
   "execution_count": 32,
   "metadata": {
    "id": "kwUcHPdy_Zcu"
   },
   "outputs": [
    {
     "data": {
      "text/plain": [
       "genre\n",
       "pop            218\n",
       "dance          182\n",
       "rock           162\n",
       "electronic     147\n",
       "hiphop          80\n",
       "ruspop          64\n",
       "alternative     58\n",
       "rusrap          55\n",
       "jazz            44\n",
       "classical       40\n",
       "Name: track, dtype: int64"
      ]
     },
     "metadata": {},
     "output_type": "display_data"
    }
   ],
   "source": [
    "# вызов функции для утра понедельника в Петербурге (вместо df — таблица spb_general)\n",
    "genre_weekday(spb_general, 'Monday', '07:00', '11:00')"
   ]
  },
  {
   "cell_type": "code",
   "execution_count": 33,
   "metadata": {
    "id": "EzXVRE1o_Zcu"
   },
   "outputs": [
    {
     "data": {
      "text/plain": [
       "genre\n",
       "pop            713\n",
       "rock           517\n",
       "dance          495\n",
       "electronic     482\n",
       "hiphop         273\n",
       "world          208\n",
       "ruspop         170\n",
       "alternative    163\n",
       "classical      163\n",
       "rusrap         142\n",
       "Name: track, dtype: int64"
      ]
     },
     "metadata": {},
     "output_type": "display_data"
    }
   ],
   "source": [
    "# вызов функции для вечера пятницы в Москве\n",
    "genre_weekday(moscow_general, 'Friday', '17:00', '23:00')"
   ]
  },
  {
   "cell_type": "code",
   "execution_count": 34,
   "metadata": {
    "id": "JZaEKu5v_Zcu"
   },
   "outputs": [
    {
     "data": {
      "text/plain": [
       "genre\n",
       "pop            256\n",
       "rock           216\n",
       "electronic     216\n",
       "dance          210\n",
       "hiphop          97\n",
       "alternative     63\n",
       "jazz            61\n",
       "classical       60\n",
       "rusrap          59\n",
       "world           54\n",
       "Name: track, dtype: int64"
      ]
     },
     "metadata": {},
     "output_type": "display_data"
    }
   ],
   "source": [
    "# вызов функции для вечера пятницы в Петербурге\n",
    "genre_weekday(spb_general, 'Friday', '17:00', '23:00')"
   ]
  },
  {
   "cell_type": "markdown",
   "metadata": {
    "id": "wrCe4MNX_Zcu"
   },
   "source": [
    "**Выводы**\n",
    "\n",
    "Если сравнить топ-10 жанров в понедельник утром, можно сделать такие выводы:\n",
    "\n",
    "1. В Москве и Петербурге слушают похожую музыку. Единственное отличие — в московский рейтинг вошёл жанр “world”, а в петербургский — джаз и классика.\n",
    "\n",
    "2. В Москве пропущенных значений оказалось так много, что значение `'unknown'` заняло десятое место среди самых популярных жанров. Значит, пропущенные значения занимают существенную долю в данных и угрожают достоверности исследования.\n",
    "\n",
    "Вечер пятницы не меняет эту картину. Некоторые жанры поднимаются немного выше, другие спускаются, но в целом топ-10 остаётся тем же самым.\n",
    "\n",
    "Таким образом, вторая гипотеза подтвердилась лишь частично:\n",
    "* Пользователи слушают похожую музыку в начале недели и в конце.\n",
    "* Разница между Москвой и Петербургом не слишком выражена. В Москве чаще слушают русскую популярную музыку, в Петербурге — джаз.\n",
    "\n",
    "Однако пропуски в данных ставят под сомнение этот результат. В Москве их так много, что рейтинг топ-10 мог бы выглядеть иначе, если бы не утерянные  данные о жанрах."
   ]
  },
  {
   "cell_type": "markdown",
   "metadata": {
    "id": "JolODAqr_Zcu"
   },
   "source": [
    "### Жанровые предпочтения в Москве и Петербурге\n",
    "\n",
    "Гипотеза: Петербург — столица рэпа, музыку этого жанра там слушают чаще, чем в Москве.  А Москва — город контрастов, в котором, тем не менее, преобладает поп-музыка."
   ]
  },
  {
   "cell_type": "markdown",
   "metadata": {
    "id": "DlegSvaT_Zcu"
   },
   "source": [
    "Сгруппируйте таблицу `moscow_general` по жанру и посчитайте прослушивания треков каждого жанра методом `count()`. Затем отсортируйте результат в порядке убывания и сохраните его в таблице `moscow_genres`."
   ]
  },
  {
   "cell_type": "code",
   "execution_count": 35,
   "metadata": {
    "id": "r19lIPke_Zcu"
   },
   "outputs": [],
   "source": [
    "# одной строкой: группировка таблицы moscow_general по столбцу 'genre',\n",
    "# подсчёт числа значений 'genre' в этой группировке методом count(),\n",
    "# сортировка получившегося Series в порядке убывания и сохранение в moscow_genres\n",
    "moscow_genres = moscow_general.groupby('genre')['genre'].count()\n",
    "moscow_genres = moscow_genres.sort_values(ascending = False)"
   ]
  },
  {
   "cell_type": "markdown",
   "metadata": {
    "id": "6kMuomxTiIr8"
   },
   "source": [
    "Выведите на экран первые десять строк `moscow_genres`:"
   ]
  },
  {
   "cell_type": "code",
   "execution_count": 36,
   "metadata": {
    "id": "WhCSooF8_Zcv"
   },
   "outputs": [
    {
     "data": {
      "text/plain": [
       "genre\n",
       "pop            5892\n",
       "dance          4435\n",
       "rock           3965\n",
       "electronic     3786\n",
       "hiphop         2096\n",
       "classical      1616\n",
       "world          1432\n",
       "alternative    1379\n",
       "ruspop         1372\n",
       "rusrap         1161\n",
       "Name: genre, dtype: int64"
      ]
     },
     "metadata": {},
     "output_type": "display_data"
    }
   ],
   "source": [
    "# просмотр первых 10 строк moscow_genres\n",
    "display(moscow_genres.head(10))"
   ]
  },
  {
   "cell_type": "markdown",
   "metadata": {
    "id": "cnPG2vnN_Zcv"
   },
   "source": [
    "Теперь повторите то же и для Петербурга.\n",
    "\n",
    "Сгруппируйте таблицу `spb_general` по жанру. Посчитайте прослушивания треков каждого жанра. Результат отсортируйте в порядке убывания и сохраните в таблице `spb_genres`:\n"
   ]
  },
  {
   "cell_type": "code",
   "execution_count": 37,
   "metadata": {
    "id": "gluLIpE7_Zcv"
   },
   "outputs": [],
   "source": [
    "# одной строкой: группировка таблицы spb_general по столбцу 'genre', \n",
    "# подсчёт числа значений 'genre' в этой группировке методом count(), \n",
    "# сортировка получившегося Series в порядке убывания и сохранение в spb_genres\n",
    "spb_genres = spb_general.groupby('genre')['genre'].count()\n",
    "spb_genres = spb_genres.sort_values(ascending = False)"
   ]
  },
  {
   "cell_type": "markdown",
   "metadata": {
    "id": "5Doha_ODgyQ8"
   },
   "source": [
    "Выведите на экран первые десять строк `spb_genres`:"
   ]
  },
  {
   "cell_type": "code",
   "execution_count": 38,
   "metadata": {
    "id": "uaGJHjVU_Zcv"
   },
   "outputs": [
    {
     "data": {
      "text/plain": [
       "genre\n",
       "pop            2431\n",
       "dance          1932\n",
       "rock           1879\n",
       "electronic     1737\n",
       "hiphop          960\n",
       "alternative     649\n",
       "classical       646\n",
       "rusrap          564\n",
       "ruspop          538\n",
       "world           515\n",
       "Name: genre, dtype: int64"
      ]
     },
     "metadata": {},
     "output_type": "display_data"
    }
   ],
   "source": [
    "# просмотр первых 10 строк spb_genres\n",
    "display(spb_genres.head(10))"
   ]
  },
  {
   "cell_type": "markdown",
   "metadata": {
    "id": "RY51YJYu_Zcv"
   },
   "source": [
    "**Выводы**"
   ]
  },
  {
   "cell_type": "markdown",
   "metadata": {
    "id": "nVhnJEm__Zcv"
   },
   "source": [
    "Гипотеза частично подтвердилась:\n",
    "* Поп-музыка — самый популярный жанр в Москве, как и предполагала гипотеза. Более того, в топ-10 жанров встречается близкий жанр — русская популярная музыка.\n",
    "* Вопреки ожиданиям, рэп одинаково популярен в Москве и Петербурге. \n"
   ]
  },
  {
   "cell_type": "markdown",
   "metadata": {
    "id": "ykKQ0N65_Zcv"
   },
   "source": [
    "## Итоги исследования"
   ]
  },
  {
   "cell_type": "markdown",
   "metadata": {
    "id": "tjUwbHb3_Zcv"
   },
   "source": [
    "Вы проверили три гипотезы и установили:\n",
    "\n",
    "1. День недели по-разному влияет на активность пользователей в Москве и Петербурге. \n",
    "\n",
    "Первая гипотеза полностью подтвердилась.\n",
    "\n",
    "2. Музыкальные предпочтения не сильно меняются в течение недели — будь то Москва или Петербург. Небольшие различия заметны в начале недели, по понедельникам:\n",
    "* в Москве слушают музыку жанра “world”,\n",
    "* в Петербурге — джаз и классику.\n",
    "\n",
    "Таким образом, вторая гипотеза подтвердилась лишь отчасти. Этот результат мог оказаться иным, если бы не пропуски в данных.\n",
    "\n",
    "3. Во вкусах пользователей Москвы и Петербурга больше общего чем различий. Вопреки ожиданиям, предпочтения жанров в Петербурге напоминают московские.\n",
    "\n",
    "Третья гипотеза не подтвердилась. Если различия в предпочтениях и существуют, на основной массе пользователей они незаметны.\n",
    "\n",
    "**На практике исследования содержат проверки статистических гипотез.**\n",
    "Из данных одного сервиса не всегда можно сделать вывод о всех жителях города.\n",
    "Проверки статистических гипотез покажут, насколько они достоверны, исходя из имеющихся данных. \n",
    "С методами проверок гипотез вы ещё познакомитесь в следующих темах."
   ]
  }
 ],
 "metadata": {
  "ExecuteTimeLog": [
   {
    "duration": 265,
    "start_time": "2021-11-30T05:18:11.404Z"
   },
   {
    "duration": 82,
    "start_time": "2021-11-30T05:18:25.485Z"
   },
   {
    "duration": 247,
    "start_time": "2021-11-30T05:18:43.298Z"
   },
   {
    "duration": 565,
    "start_time": "2021-11-30T05:18:52.585Z"
   },
   {
    "duration": 120,
    "start_time": "2021-11-30T05:18:57.261Z"
   },
   {
    "duration": 16,
    "start_time": "2021-11-30T05:19:02.693Z"
   },
   {
    "duration": 8,
    "start_time": "2021-11-30T05:21:04.930Z"
   },
   {
    "duration": 7,
    "start_time": "2021-11-30T05:21:23.210Z"
   },
   {
    "duration": 7,
    "start_time": "2021-11-30T05:21:32.698Z"
   },
   {
    "duration": 251,
    "start_time": "2021-11-30T05:22:45.752Z"
   },
   {
    "duration": 223,
    "start_time": "2021-11-30T05:22:53.273Z"
   },
   {
    "duration": 278,
    "start_time": "2021-11-30T05:23:02.601Z"
   },
   {
    "duration": 4,
    "start_time": "2021-11-30T05:24:28.773Z"
   },
   {
    "duration": 228,
    "start_time": "2021-11-30T05:24:46.841Z"
   },
   {
    "duration": 4,
    "start_time": "2021-11-30T05:25:00.644Z"
   },
   {
    "duration": 9,
    "start_time": "2021-11-30T05:29:14.140Z"
   },
   {
    "duration": 279,
    "start_time": "2021-11-30T05:30:07.245Z"
   },
   {
    "duration": 7,
    "start_time": "2021-11-30T05:30:12.089Z"
   },
   {
    "duration": 3,
    "start_time": "2021-11-30T05:30:49.613Z"
   },
   {
    "duration": 4,
    "start_time": "2021-11-30T05:31:05.421Z"
   },
   {
    "duration": 566,
    "start_time": "2021-11-30T05:31:13.871Z"
   },
   {
    "duration": 225,
    "start_time": "2021-11-30T05:31:17.430Z"
   },
   {
    "duration": 3,
    "start_time": "2021-11-30T05:31:23.074Z"
   },
   {
    "duration": 5,
    "start_time": "2021-11-30T05:31:44.511Z"
   },
   {
    "duration": 3,
    "start_time": "2021-11-30T05:32:22.614Z"
   },
   {
    "duration": 7,
    "start_time": "2021-11-30T05:32:34.403Z"
   },
   {
    "duration": 4,
    "start_time": "2021-11-30T05:33:12.571Z"
   },
   {
    "duration": 7,
    "start_time": "2021-11-30T05:36:43.300Z"
   },
   {
    "duration": 4,
    "start_time": "2021-11-30T05:37:28.401Z"
   },
   {
    "duration": 3,
    "start_time": "2021-11-30T05:39:10.122Z"
   },
   {
    "duration": 4,
    "start_time": "2021-11-30T05:39:23.236Z"
   },
   {
    "duration": 7,
    "start_time": "2021-11-30T05:39:37.840Z"
   },
   {
    "duration": 21,
    "start_time": "2021-11-30T05:40:21.929Z"
   },
   {
    "duration": 3,
    "start_time": "2021-11-30T05:43:04.421Z"
   },
   {
    "duration": 236,
    "start_time": "2021-11-30T05:43:09.559Z"
   },
   {
    "duration": 4,
    "start_time": "2021-11-30T05:43:13.878Z"
   },
   {
    "duration": 4,
    "start_time": "2021-11-30T05:45:01.276Z"
   },
   {
    "duration": 28,
    "start_time": "2021-11-30T05:45:07.630Z"
   },
   {
    "duration": 4,
    "start_time": "2021-11-30T05:45:26.571Z"
   },
   {
    "duration": 4,
    "start_time": "2021-11-30T05:45:42.525Z"
   },
   {
    "duration": 2,
    "start_time": "2021-11-30T05:45:56.986Z"
   },
   {
    "duration": 130,
    "start_time": "2021-11-30T05:45:56.990Z"
   },
   {
    "duration": 9,
    "start_time": "2021-11-30T05:45:57.122Z"
   },
   {
    "duration": 22,
    "start_time": "2021-11-30T05:45:57.132Z"
   },
   {
    "duration": 4,
    "start_time": "2021-11-30T05:45:57.155Z"
   },
   {
    "duration": 42,
    "start_time": "2021-11-30T05:45:57.160Z"
   },
   {
    "duration": 4,
    "start_time": "2021-11-30T05:45:57.204Z"
   },
   {
    "duration": 4,
    "start_time": "2021-11-30T05:45:57.209Z"
   },
   {
    "duration": 4,
    "start_time": "2021-11-30T05:45:57.215Z"
   },
   {
    "duration": 5,
    "start_time": "2021-11-30T05:45:57.220Z"
   },
   {
    "duration": 5,
    "start_time": "2021-11-30T05:45:57.226Z"
   },
   {
    "duration": 8,
    "start_time": "2021-11-30T05:45:57.232Z"
   },
   {
    "duration": 5,
    "start_time": "2021-11-30T05:45:57.241Z"
   },
   {
    "duration": 5,
    "start_time": "2021-11-30T05:45:57.248Z"
   },
   {
    "duration": 4,
    "start_time": "2021-11-30T05:45:57.254Z"
   },
   {
    "duration": 2,
    "start_time": "2021-11-30T05:45:57.288Z"
   },
   {
    "duration": 5,
    "start_time": "2021-11-30T05:45:57.291Z"
   },
   {
    "duration": 4,
    "start_time": "2021-11-30T05:45:57.298Z"
   },
   {
    "duration": 4,
    "start_time": "2021-11-30T05:45:57.303Z"
   },
   {
    "duration": 3,
    "start_time": "2021-11-30T05:45:57.397Z"
   },
   {
    "duration": 4,
    "start_time": "2021-11-30T05:45:57.401Z"
   },
   {
    "duration": 5,
    "start_time": "2021-11-30T05:45:57.407Z"
   },
   {
    "duration": 4,
    "start_time": "2021-11-30T05:45:57.413Z"
   },
   {
    "duration": 6,
    "start_time": "2021-11-30T05:45:57.419Z"
   },
   {
    "duration": 7,
    "start_time": "2021-11-30T05:45:57.426Z"
   },
   {
    "duration": 4,
    "start_time": "2021-11-30T05:45:57.434Z"
   },
   {
    "duration": 6,
    "start_time": "2021-11-30T05:45:57.440Z"
   },
   {
    "duration": 3,
    "start_time": "2021-11-30T05:45:57.448Z"
   },
   {
    "duration": 4,
    "start_time": "2021-11-30T05:45:57.453Z"
   },
   {
    "duration": 2,
    "start_time": "2021-11-30T05:45:57.640Z"
   },
   {
    "duration": 6,
    "start_time": "2021-11-30T05:45:57.644Z"
   },
   {
    "duration": 4,
    "start_time": "2021-11-30T05:45:57.652Z"
   },
   {
    "duration": 6,
    "start_time": "2021-11-30T05:45:57.657Z"
   },
   {
    "duration": 4,
    "start_time": "2021-11-30T05:45:57.664Z"
   },
   {
    "duration": 4,
    "start_time": "2021-11-30T05:45:57.670Z"
   },
   {
    "duration": 4,
    "start_time": "2021-11-30T05:45:57.676Z"
   },
   {
    "duration": 5,
    "start_time": "2021-11-30T05:45:57.682Z"
   },
   {
    "duration": 4,
    "start_time": "2021-11-30T05:45:57.689Z"
   },
   {
    "duration": 16,
    "start_time": "2021-11-30T05:46:19.135Z"
   },
   {
    "duration": 4,
    "start_time": "2021-11-30T05:46:23.048Z"
   },
   {
    "duration": 22,
    "start_time": "2021-11-30T05:49:25.172Z"
   },
   {
    "duration": 20,
    "start_time": "2021-11-30T05:50:18.091Z"
   },
   {
    "duration": 21,
    "start_time": "2021-11-30T05:50:45.605Z"
   },
   {
    "duration": 20,
    "start_time": "2021-11-30T06:03:53.588Z"
   },
   {
    "duration": 37,
    "start_time": "2021-11-30T06:04:11.635Z"
   },
   {
    "duration": 20,
    "start_time": "2021-11-30T06:05:21.446Z"
   },
   {
    "duration": 20,
    "start_time": "2021-11-30T06:15:16.034Z"
   },
   {
    "duration": 15,
    "start_time": "2021-11-30T06:15:41.395Z"
   },
   {
    "duration": 20,
    "start_time": "2021-11-30T06:15:45.491Z"
   },
   {
    "duration": 46,
    "start_time": "2021-11-30T06:19:19.171Z"
   },
   {
    "duration": 46,
    "start_time": "2021-11-30T06:19:27.487Z"
   },
   {
    "duration": 46,
    "start_time": "2021-11-30T06:19:43.524Z"
   },
   {
    "duration": 53,
    "start_time": "2021-11-30T06:22:07.209Z"
   },
   {
    "duration": 258,
    "start_time": "2021-11-30T06:22:35.005Z"
   },
   {
    "duration": 43,
    "start_time": "2021-11-30T06:22:42.249Z"
   },
   {
    "duration": 35,
    "start_time": "2021-11-30T06:25:30.647Z"
   },
   {
    "duration": 37,
    "start_time": "2021-11-30T06:27:03.061Z"
   },
   {
    "duration": 35,
    "start_time": "2021-11-30T06:27:31.786Z"
   },
   {
    "duration": 41,
    "start_time": "2021-11-30T06:27:56.015Z"
   },
   {
    "duration": 37,
    "start_time": "2021-11-30T06:28:15.359Z"
   },
   {
    "duration": 35,
    "start_time": "2021-11-30T06:29:19.598Z"
   },
   {
    "duration": 35,
    "start_time": "2021-11-30T06:29:36.515Z"
   },
   {
    "duration": 5,
    "start_time": "2021-11-30T09:11:11.177Z"
   },
   {
    "duration": 972,
    "start_time": "2021-11-30T09:12:42.307Z"
   },
   {
    "duration": 447,
    "start_time": "2021-11-30T09:13:33.737Z"
   },
   {
    "duration": 804,
    "start_time": "2021-11-30T09:14:36.763Z"
   },
   {
    "duration": 191,
    "start_time": "2021-11-30T09:14:37.569Z"
   },
   {
    "duration": 26,
    "start_time": "2021-11-30T09:14:37.763Z"
   },
   {
    "duration": 38,
    "start_time": "2021-11-30T09:14:37.791Z"
   },
   {
    "duration": 6,
    "start_time": "2021-11-30T09:14:37.831Z"
   },
   {
    "duration": 32,
    "start_time": "2021-11-30T09:14:37.866Z"
   },
   {
    "duration": 9,
    "start_time": "2021-11-30T09:14:37.900Z"
   },
   {
    "duration": 62,
    "start_time": "2021-11-30T09:14:37.914Z"
   },
   {
    "duration": 25,
    "start_time": "2021-11-30T09:14:37.980Z"
   },
   {
    "duration": 33,
    "start_time": "2021-11-30T09:14:38.007Z"
   },
   {
    "duration": 108,
    "start_time": "2021-11-30T09:14:38.042Z"
   },
   {
    "duration": 124,
    "start_time": "2021-11-30T09:14:38.152Z"
   },
   {
    "duration": 89,
    "start_time": "2021-11-30T09:14:38.278Z"
   },
   {
    "duration": 64,
    "start_time": "2021-11-30T09:14:38.370Z"
   },
   {
    "duration": 653,
    "start_time": "2021-11-30T09:14:38.436Z"
   },
   {
    "duration": -2005,
    "start_time": "2021-11-30T09:14:41.097Z"
   },
   {
    "duration": -2008,
    "start_time": "2021-11-30T09:14:41.102Z"
   },
   {
    "duration": -2010,
    "start_time": "2021-11-30T09:14:41.106Z"
   },
   {
    "duration": -2013,
    "start_time": "2021-11-30T09:14:41.110Z"
   },
   {
    "duration": -2014,
    "start_time": "2021-11-30T09:14:41.113Z"
   },
   {
    "duration": -2015,
    "start_time": "2021-11-30T09:14:41.116Z"
   },
   {
    "duration": -2017,
    "start_time": "2021-11-30T09:14:41.119Z"
   },
   {
    "duration": -2020,
    "start_time": "2021-11-30T09:14:41.124Z"
   },
   {
    "duration": -2022,
    "start_time": "2021-11-30T09:14:41.127Z"
   },
   {
    "duration": -2023,
    "start_time": "2021-11-30T09:14:41.130Z"
   },
   {
    "duration": -2025,
    "start_time": "2021-11-30T09:14:41.133Z"
   },
   {
    "duration": -2027,
    "start_time": "2021-11-30T09:14:41.136Z"
   },
   {
    "duration": -2029,
    "start_time": "2021-11-30T09:14:41.140Z"
   },
   {
    "duration": -2031,
    "start_time": "2021-11-30T09:14:41.143Z"
   },
   {
    "duration": -2040,
    "start_time": "2021-11-30T09:14:41.153Z"
   },
   {
    "duration": -2042,
    "start_time": "2021-11-30T09:14:41.157Z"
   },
   {
    "duration": -2041,
    "start_time": "2021-11-30T09:14:41.160Z"
   },
   {
    "duration": -2043,
    "start_time": "2021-11-30T09:14:41.164Z"
   },
   {
    "duration": -2045,
    "start_time": "2021-11-30T09:14:41.167Z"
   },
   {
    "duration": -2046,
    "start_time": "2021-11-30T09:14:41.170Z"
   },
   {
    "duration": -2048,
    "start_time": "2021-11-30T09:14:41.174Z"
   },
   {
    "duration": -2011,
    "start_time": "2021-11-30T09:14:41.178Z"
   },
   {
    "duration": -2012,
    "start_time": "2021-11-30T09:14:41.181Z"
   },
   {
    "duration": 289,
    "start_time": "2021-11-30T09:16:50.066Z"
   },
   {
    "duration": 279,
    "start_time": "2021-11-30T09:17:16.746Z"
   },
   {
    "duration": 800,
    "start_time": "2021-11-30T09:17:23.776Z"
   },
   {
    "duration": 446,
    "start_time": "2021-11-30T09:17:54.307Z"
   },
   {
    "duration": 445,
    "start_time": "2021-11-30T09:18:19.736Z"
   },
   {
    "duration": 3,
    "start_time": "2021-11-30T09:19:56.388Z"
   },
   {
    "duration": 201,
    "start_time": "2021-11-30T09:19:56.394Z"
   },
   {
    "duration": 17,
    "start_time": "2021-11-30T09:19:56.599Z"
   },
   {
    "duration": 53,
    "start_time": "2021-11-30T09:19:56.618Z"
   },
   {
    "duration": 6,
    "start_time": "2021-11-30T09:19:56.673Z"
   },
   {
    "duration": 32,
    "start_time": "2021-11-30T09:19:56.682Z"
   },
   {
    "duration": 5,
    "start_time": "2021-11-30T09:19:56.717Z"
   },
   {
    "duration": 60,
    "start_time": "2021-11-30T09:19:56.725Z"
   },
   {
    "duration": 23,
    "start_time": "2021-11-30T09:19:56.790Z"
   },
   {
    "duration": 55,
    "start_time": "2021-11-30T09:19:56.816Z"
   },
   {
    "duration": 100,
    "start_time": "2021-11-30T09:19:56.873Z"
   },
   {
    "duration": 108,
    "start_time": "2021-11-30T09:19:56.975Z"
   },
   {
    "duration": 95,
    "start_time": "2021-11-30T09:19:57.086Z"
   },
   {
    "duration": 56,
    "start_time": "2021-11-30T09:19:57.184Z"
   },
   {
    "duration": 823,
    "start_time": "2021-11-30T09:19:57.243Z"
   },
   {
    "duration": -2564,
    "start_time": "2021-11-30T09:20:00.633Z"
   },
   {
    "duration": -2565,
    "start_time": "2021-11-30T09:20:00.636Z"
   },
   {
    "duration": -2568,
    "start_time": "2021-11-30T09:20:00.641Z"
   },
   {
    "duration": -2570,
    "start_time": "2021-11-30T09:20:00.644Z"
   },
   {
    "duration": -2571,
    "start_time": "2021-11-30T09:20:00.647Z"
   },
   {
    "duration": -2572,
    "start_time": "2021-11-30T09:20:00.650Z"
   },
   {
    "duration": -2574,
    "start_time": "2021-11-30T09:20:00.653Z"
   },
   {
    "duration": -2576,
    "start_time": "2021-11-30T09:20:00.656Z"
   },
   {
    "duration": -2577,
    "start_time": "2021-11-30T09:20:00.660Z"
   },
   {
    "duration": -2577,
    "start_time": "2021-11-30T09:20:00.662Z"
   },
   {
    "duration": -2580,
    "start_time": "2021-11-30T09:20:00.666Z"
   },
   {
    "duration": -2582,
    "start_time": "2021-11-30T09:20:00.669Z"
   },
   {
    "duration": -2584,
    "start_time": "2021-11-30T09:20:00.673Z"
   },
   {
    "duration": -2586,
    "start_time": "2021-11-30T09:20:00.676Z"
   },
   {
    "duration": -2589,
    "start_time": "2021-11-30T09:20:00.680Z"
   },
   {
    "duration": -2590,
    "start_time": "2021-11-30T09:20:00.683Z"
   },
   {
    "duration": -2592,
    "start_time": "2021-11-30T09:20:00.686Z"
   },
   {
    "duration": -2602,
    "start_time": "2021-11-30T09:20:00.698Z"
   },
   {
    "duration": -2603,
    "start_time": "2021-11-30T09:20:00.701Z"
   },
   {
    "duration": -2606,
    "start_time": "2021-11-30T09:20:00.705Z"
   },
   {
    "duration": -2607,
    "start_time": "2021-11-30T09:20:00.708Z"
   },
   {
    "duration": -2609,
    "start_time": "2021-11-30T09:20:00.711Z"
   },
   {
    "duration": -2612,
    "start_time": "2021-11-30T09:20:00.715Z"
   },
   {
    "duration": 1641,
    "start_time": "2021-11-30T09:21:37.376Z"
   },
   {
    "duration": 415,
    "start_time": "2021-11-30T09:21:58.936Z"
   },
   {
    "duration": 440,
    "start_time": "2021-11-30T09:29:27.648Z"
   },
   {
    "duration": 15,
    "start_time": "2021-11-30T10:11:03.738Z"
   },
   {
    "duration": 9,
    "start_time": "2021-11-30T10:11:34.894Z"
   },
   {
    "duration": 57,
    "start_time": "2021-11-30T10:11:59.702Z"
   },
   {
    "duration": 10,
    "start_time": "2021-11-30T10:15:47.786Z"
   },
   {
    "duration": 16,
    "start_time": "2021-11-30T10:16:02.061Z"
   },
   {
    "duration": 63,
    "start_time": "2021-11-30T10:17:14.907Z"
   },
   {
    "duration": 43,
    "start_time": "2021-11-30T10:17:44.026Z"
   },
   {
    "duration": 48,
    "start_time": "2021-11-30T10:19:16.326Z"
   },
   {
    "duration": 30,
    "start_time": "2021-11-30T10:19:45.321Z"
   },
   {
    "duration": 32,
    "start_time": "2021-11-30T10:20:18.627Z"
   },
   {
    "duration": 29,
    "start_time": "2021-11-30T10:22:21.098Z"
   },
   {
    "duration": 276,
    "start_time": "2021-11-30T10:23:43.217Z"
   },
   {
    "duration": 265,
    "start_time": "2021-11-30T10:23:50.742Z"
   },
   {
    "duration": 17,
    "start_time": "2021-11-30T10:24:40.503Z"
   },
   {
    "duration": 18,
    "start_time": "2021-11-30T10:25:15.938Z"
   },
   {
    "duration": 3,
    "start_time": "2021-11-30T10:25:24.856Z"
   },
   {
    "duration": 255,
    "start_time": "2021-11-30T10:25:46.255Z"
   },
   {
    "duration": 6,
    "start_time": "2021-11-30T10:26:24.450Z"
   },
   {
    "duration": 6,
    "start_time": "2021-11-30T10:26:33.420Z"
   },
   {
    "duration": 2510,
    "start_time": "2021-11-30T10:26:49.814Z"
   },
   {
    "duration": 56,
    "start_time": "2021-11-30T10:27:18.630Z"
   },
   {
    "duration": 18,
    "start_time": "2021-11-30T10:27:46.993Z"
   },
   {
    "duration": 74,
    "start_time": "2021-11-30T10:28:42.221Z"
   },
   {
    "duration": 73,
    "start_time": "2021-11-30T10:29:05.998Z"
   },
   {
    "duration": 18,
    "start_time": "2021-11-30T10:29:25.883Z"
   },
   {
    "duration": 377,
    "start_time": "2021-11-30T13:12:50.512Z"
   },
   {
    "duration": 585,
    "start_time": "2021-11-30T13:13:19.941Z"
   },
   {
    "duration": 132,
    "start_time": "2021-11-30T13:13:20.528Z"
   },
   {
    "duration": 15,
    "start_time": "2021-11-30T13:13:20.662Z"
   },
   {
    "duration": 36,
    "start_time": "2021-11-30T13:13:20.679Z"
   },
   {
    "duration": 17,
    "start_time": "2021-11-30T13:13:20.716Z"
   },
   {
    "duration": 34,
    "start_time": "2021-11-30T13:13:20.734Z"
   },
   {
    "duration": 7,
    "start_time": "2021-11-30T13:13:20.770Z"
   },
   {
    "duration": 32,
    "start_time": "2021-11-30T13:13:20.779Z"
   },
   {
    "duration": 30,
    "start_time": "2021-11-30T13:13:20.813Z"
   },
   {
    "duration": 34,
    "start_time": "2021-11-30T13:13:20.845Z"
   },
   {
    "duration": 65,
    "start_time": "2021-11-30T13:13:20.880Z"
   },
   {
    "duration": 60,
    "start_time": "2021-11-30T13:13:20.946Z"
   },
   {
    "duration": 48,
    "start_time": "2021-11-30T13:13:21.820Z"
   },
   {
    "duration": 38,
    "start_time": "2021-11-30T13:13:21.870Z"
   },
   {
    "duration": 10,
    "start_time": "2021-11-30T13:13:21.910Z"
   },
   {
    "duration": 6,
    "start_time": "2021-11-30T13:13:21.922Z"
   },
   {
    "duration": 50,
    "start_time": "2021-11-30T13:13:21.929Z"
   },
   {
    "duration": 21,
    "start_time": "2021-11-30T13:13:21.981Z"
   },
   {
    "duration": 14,
    "start_time": "2021-11-30T13:13:22.004Z"
   },
   {
    "duration": 25,
    "start_time": "2021-11-30T13:13:22.019Z"
   },
   {
    "duration": 2,
    "start_time": "2021-11-30T13:13:22.046Z"
   },
   {
    "duration": 6,
    "start_time": "2021-11-30T13:13:22.050Z"
   },
   {
    "duration": 7,
    "start_time": "2021-11-30T13:13:22.057Z"
   },
   {
    "duration": 6,
    "start_time": "2021-11-30T13:13:22.066Z"
   },
   {
    "duration": 9,
    "start_time": "2021-11-30T13:13:22.073Z"
   },
   {
    "duration": 8,
    "start_time": "2021-11-30T13:13:22.084Z"
   },
   {
    "duration": 7,
    "start_time": "2021-11-30T13:13:22.093Z"
   },
   {
    "duration": 6,
    "start_time": "2021-11-30T13:13:22.101Z"
   },
   {
    "duration": 10,
    "start_time": "2021-11-30T13:13:22.109Z"
   },
   {
    "duration": 3,
    "start_time": "2021-11-30T13:13:23.502Z"
   },
   {
    "duration": 42,
    "start_time": "2021-11-30T13:13:23.507Z"
   },
   {
    "duration": 22,
    "start_time": "2021-11-30T13:13:23.551Z"
   },
   {
    "duration": 41,
    "start_time": "2021-11-30T13:13:23.575Z"
   },
   {
    "duration": 36,
    "start_time": "2021-11-30T13:13:23.618Z"
   },
   {
    "duration": 38,
    "start_time": "2021-11-30T13:13:23.656Z"
   },
   {
    "duration": 50,
    "start_time": "2021-11-30T13:13:23.696Z"
   },
   {
    "duration": 40,
    "start_time": "2021-11-30T13:13:23.748Z"
   },
   {
    "duration": 23,
    "start_time": "2021-11-30T13:13:23.790Z"
   },
   {
    "duration": 11,
    "start_time": "2021-11-30T13:15:34.830Z"
   },
   {
    "duration": 11,
    "start_time": "2021-11-30T13:15:43.772Z"
   },
   {
    "duration": 344,
    "start_time": "2021-11-30T13:50:36.845Z"
   },
   {
    "duration": 302,
    "start_time": "2021-11-30T13:50:57.294Z"
   },
   {
    "duration": 41,
    "start_time": "2021-11-30T13:51:32.415Z"
   },
   {
    "duration": 46,
    "start_time": "2021-11-30T13:52:00.144Z"
   },
   {
    "duration": 44,
    "start_time": "2021-11-30T13:52:38.608Z"
   },
   {
    "duration": 3,
    "start_time": "2021-11-30T13:54:18.564Z"
   },
   {
    "duration": 3,
    "start_time": "2021-11-30T13:54:54.893Z"
   },
   {
    "duration": 3,
    "start_time": "2021-11-30T13:54:57.669Z"
   },
   {
    "duration": 3,
    "start_time": "2021-11-30T13:54:59.990Z"
   },
   {
    "duration": 3,
    "start_time": "2021-11-30T13:55:01.426Z"
   },
   {
    "duration": 3,
    "start_time": "2021-11-30T13:55:03.293Z"
   },
   {
    "duration": 42,
    "start_time": "2021-11-30T13:56:28.330Z"
   },
   {
    "duration": 43,
    "start_time": "2021-11-30T13:59:38.959Z"
   },
   {
    "duration": 33,
    "start_time": "2021-11-30T14:00:04.571Z"
   },
   {
    "duration": 39,
    "start_time": "2021-11-30T14:12:10.390Z"
   },
   {
    "duration": 76,
    "start_time": "2021-11-30T14:13:23.032Z"
   },
   {
    "duration": 3,
    "start_time": "2021-11-30T14:13:57.823Z"
   },
   {
    "duration": 175,
    "start_time": "2021-11-30T14:13:57.828Z"
   },
   {
    "duration": 12,
    "start_time": "2021-11-30T14:13:58.006Z"
   },
   {
    "duration": 63,
    "start_time": "2021-11-30T14:13:58.020Z"
   },
   {
    "duration": 17,
    "start_time": "2021-11-30T14:13:58.085Z"
   },
   {
    "duration": 23,
    "start_time": "2021-11-30T14:13:58.105Z"
   },
   {
    "duration": 18,
    "start_time": "2021-11-30T14:13:58.130Z"
   },
   {
    "duration": 39,
    "start_time": "2021-11-30T14:13:58.150Z"
   },
   {
    "duration": 18,
    "start_time": "2021-11-30T14:13:58.193Z"
   },
   {
    "duration": 42,
    "start_time": "2021-11-30T14:13:58.214Z"
   },
   {
    "duration": 59,
    "start_time": "2021-11-30T14:13:58.258Z"
   },
   {
    "duration": 69,
    "start_time": "2021-11-30T14:13:58.319Z"
   },
   {
    "duration": 60,
    "start_time": "2021-11-30T14:13:58.389Z"
   },
   {
    "duration": 39,
    "start_time": "2021-11-30T14:13:58.451Z"
   },
   {
    "duration": 10,
    "start_time": "2021-11-30T14:13:58.492Z"
   },
   {
    "duration": 6,
    "start_time": "2021-11-30T14:13:58.504Z"
   },
   {
    "duration": 63,
    "start_time": "2021-11-30T14:13:58.511Z"
   },
   {
    "duration": 29,
    "start_time": "2021-11-30T14:13:58.576Z"
   },
   {
    "duration": 11,
    "start_time": "2021-11-30T14:13:58.606Z"
   },
   {
    "duration": 80,
    "start_time": "2021-11-30T14:13:59.588Z"
   },
   {
    "duration": 3,
    "start_time": "2021-11-30T14:13:59.671Z"
   },
   {
    "duration": 20,
    "start_time": "2021-11-30T14:13:59.676Z"
   },
   {
    "duration": 13,
    "start_time": "2021-11-30T14:13:59.698Z"
   },
   {
    "duration": 32,
    "start_time": "2021-11-30T14:13:59.713Z"
   },
   {
    "duration": 15,
    "start_time": "2021-11-30T14:13:59.747Z"
   },
   {
    "duration": 15,
    "start_time": "2021-11-30T14:13:59.764Z"
   },
   {
    "duration": 11,
    "start_time": "2021-11-30T14:13:59.782Z"
   },
   {
    "duration": 14,
    "start_time": "2021-11-30T14:13:59.795Z"
   },
   {
    "duration": 27,
    "start_time": "2021-11-30T14:13:59.811Z"
   },
   {
    "duration": 18,
    "start_time": "2021-11-30T14:13:59.840Z"
   },
   {
    "duration": 14,
    "start_time": "2021-11-30T14:13:59.860Z"
   },
   {
    "duration": 13,
    "start_time": "2021-11-30T14:13:59.875Z"
   },
   {
    "duration": 13,
    "start_time": "2021-11-30T14:13:59.889Z"
   },
   {
    "duration": 3,
    "start_time": "2021-11-30T14:14:01.338Z"
   },
   {
    "duration": 21,
    "start_time": "2021-11-30T14:14:01.343Z"
   },
   {
    "duration": 24,
    "start_time": "2021-11-30T14:14:01.366Z"
   },
   {
    "duration": 46,
    "start_time": "2021-11-30T14:14:01.392Z"
   },
   {
    "duration": 23,
    "start_time": "2021-11-30T14:14:01.439Z"
   },
   {
    "duration": 281,
    "start_time": "2021-11-30T14:17:58.489Z"
   },
   {
    "duration": 618,
    "start_time": "2021-11-30T14:20:04.408Z"
   },
   {
    "duration": 61,
    "start_time": "2021-11-30T14:29:44.891Z"
   },
   {
    "duration": 64,
    "start_time": "2021-11-30T14:30:16.091Z"
   },
   {
    "duration": 65,
    "start_time": "2021-11-30T14:30:43.249Z"
   },
   {
    "duration": 66,
    "start_time": "2021-11-30T14:32:36.621Z"
   },
   {
    "duration": 71,
    "start_time": "2021-11-30T14:38:49.426Z"
   },
   {
    "duration": 68,
    "start_time": "2021-11-30T14:41:10.898Z"
   },
   {
    "duration": 67,
    "start_time": "2021-11-30T14:41:43.248Z"
   },
   {
    "duration": 80,
    "start_time": "2021-11-30T14:42:24.513Z"
   },
   {
    "duration": 66,
    "start_time": "2021-11-30T14:43:08.120Z"
   },
   {
    "duration": 442,
    "start_time": "2021-11-30T14:57:09.593Z"
   },
   {
    "duration": 62,
    "start_time": "2021-11-30T14:57:48.939Z"
   },
   {
    "duration": 67,
    "start_time": "2021-11-30T14:59:18.568Z"
   },
   {
    "duration": 68,
    "start_time": "2021-11-30T15:01:20.067Z"
   },
   {
    "duration": 3,
    "start_time": "2021-11-30T15:02:25.914Z"
   },
   {
    "duration": 4,
    "start_time": "2021-11-30T15:02:31.021Z"
   },
   {
    "duration": 3,
    "start_time": "2021-11-30T15:02:35.047Z"
   },
   {
    "duration": 3,
    "start_time": "2021-11-30T15:02:57.418Z"
   },
   {
    "duration": 3,
    "start_time": "2021-11-30T15:03:06.256Z"
   },
   {
    "duration": 3,
    "start_time": "2021-11-30T15:03:19.533Z"
   },
   {
    "duration": 3,
    "start_time": "2021-11-30T15:03:26.901Z"
   },
   {
    "duration": 3,
    "start_time": "2021-11-30T15:03:39.331Z"
   },
   {
    "duration": 3,
    "start_time": "2021-11-30T15:03:46.578Z"
   },
   {
    "duration": 3,
    "start_time": "2021-11-30T15:03:54.721Z"
   },
   {
    "duration": 4,
    "start_time": "2021-11-30T15:04:01.357Z"
   },
   {
    "duration": 8,
    "start_time": "2021-11-30T15:06:29.460Z"
   },
   {
    "duration": 97,
    "start_time": "2021-11-30T15:28:56.433Z"
   },
   {
    "duration": 301,
    "start_time": "2021-11-30T15:29:06.120Z"
   },
   {
    "duration": 276,
    "start_time": "2021-11-30T15:29:47.224Z"
   },
   {
    "duration": 279,
    "start_time": "2021-11-30T15:30:04.165Z"
   },
   {
    "duration": 270,
    "start_time": "2021-11-30T15:32:06.069Z"
   },
   {
    "duration": 119,
    "start_time": "2021-11-30T15:38:21.463Z"
   },
   {
    "duration": 271,
    "start_time": "2021-11-30T15:38:46.371Z"
   },
   {
    "duration": 3,
    "start_time": "2021-11-30T15:39:33.905Z"
   },
   {
    "duration": 139,
    "start_time": "2021-11-30T15:39:33.915Z"
   },
   {
    "duration": 10,
    "start_time": "2021-11-30T15:39:34.056Z"
   },
   {
    "duration": 39,
    "start_time": "2021-11-30T15:39:34.069Z"
   },
   {
    "duration": 20,
    "start_time": "2021-11-30T15:39:34.110Z"
   },
   {
    "duration": 34,
    "start_time": "2021-11-30T15:39:34.132Z"
   },
   {
    "duration": 4,
    "start_time": "2021-11-30T15:39:34.167Z"
   },
   {
    "duration": 30,
    "start_time": "2021-11-30T15:39:34.173Z"
   },
   {
    "duration": 17,
    "start_time": "2021-11-30T15:39:34.206Z"
   },
   {
    "duration": 28,
    "start_time": "2021-11-30T15:39:34.225Z"
   },
   {
    "duration": 69,
    "start_time": "2021-11-30T15:39:34.254Z"
   },
   {
    "duration": 60,
    "start_time": "2021-11-30T15:39:36.473Z"
   },
   {
    "duration": 47,
    "start_time": "2021-11-30T15:39:36.535Z"
   },
   {
    "duration": 37,
    "start_time": "2021-11-30T15:39:36.584Z"
   },
   {
    "duration": 25,
    "start_time": "2021-11-30T15:39:36.622Z"
   },
   {
    "duration": 8,
    "start_time": "2021-11-30T15:39:36.649Z"
   },
   {
    "duration": 62,
    "start_time": "2021-11-30T15:39:36.659Z"
   },
   {
    "duration": 51,
    "start_time": "2021-11-30T15:39:36.722Z"
   },
   {
    "duration": 17,
    "start_time": "2021-11-30T15:39:36.775Z"
   },
   {
    "duration": 69,
    "start_time": "2021-11-30T15:39:38.890Z"
   },
   {
    "duration": 3,
    "start_time": "2021-11-30T15:39:38.961Z"
   },
   {
    "duration": 24,
    "start_time": "2021-11-30T15:39:38.966Z"
   },
   {
    "duration": 10,
    "start_time": "2021-11-30T15:39:38.992Z"
   },
   {
    "duration": 19,
    "start_time": "2021-11-30T15:39:39.004Z"
   },
   {
    "duration": 25,
    "start_time": "2021-11-30T15:39:39.025Z"
   },
   {
    "duration": 18,
    "start_time": "2021-11-30T15:39:39.052Z"
   },
   {
    "duration": 27,
    "start_time": "2021-11-30T15:39:39.072Z"
   },
   {
    "duration": 44,
    "start_time": "2021-11-30T15:39:39.101Z"
   },
   {
    "duration": 23,
    "start_time": "2021-11-30T15:39:39.146Z"
   },
   {
    "duration": 640,
    "start_time": "2021-11-30T15:39:41.133Z"
   },
   {
    "duration": -3130,
    "start_time": "2021-11-30T15:39:44.905Z"
   },
   {
    "duration": -3136,
    "start_time": "2021-11-30T15:39:44.912Z"
   },
   {
    "duration": -3140,
    "start_time": "2021-11-30T15:39:44.917Z"
   },
   {
    "duration": -3142,
    "start_time": "2021-11-30T15:39:44.921Z"
   },
   {
    "duration": -3145,
    "start_time": "2021-11-30T15:39:44.925Z"
   },
   {
    "duration": -3147,
    "start_time": "2021-11-30T15:39:44.929Z"
   },
   {
    "duration": -3148,
    "start_time": "2021-11-30T15:39:44.932Z"
   },
   {
    "duration": -3150,
    "start_time": "2021-11-30T15:39:44.935Z"
   },
   {
    "duration": 447,
    "start_time": "2021-11-30T15:42:49.514Z"
   },
   {
    "duration": 443,
    "start_time": "2021-11-30T15:44:15.610Z"
   },
   {
    "duration": 477,
    "start_time": "2021-11-30T15:47:27.141Z"
   },
   {
    "duration": 290,
    "start_time": "2021-11-30T15:50:32.440Z"
   },
   {
    "duration": 451,
    "start_time": "2021-11-30T15:56:33.960Z"
   },
   {
    "duration": 502,
    "start_time": "2021-11-30T15:57:01.273Z"
   },
   {
    "duration": 446,
    "start_time": "2021-11-30T15:57:31.581Z"
   },
   {
    "duration": 8100,
    "start_time": "2021-11-30T16:04:36.968Z"
   },
   {
    "duration": 8569,
    "start_time": "2021-11-30T16:05:17.172Z"
   },
   {
    "duration": 4,
    "start_time": "2021-11-30T16:05:54.836Z"
   },
   {
    "duration": 533,
    "start_time": "2021-11-30T16:06:03.444Z"
   },
   {
    "duration": 538,
    "start_time": "2021-11-30T16:08:33.826Z"
   },
   {
    "duration": 546,
    "start_time": "2021-11-30T16:11:27.860Z"
   },
   {
    "duration": 580,
    "start_time": "2021-11-30T16:11:53.858Z"
   },
   {
    "duration": 553,
    "start_time": "2021-11-30T16:14:50.296Z"
   },
   {
    "duration": 715,
    "start_time": "2021-11-30T16:16:06.544Z"
   },
   {
    "duration": 597,
    "start_time": "2021-11-30T16:24:20.208Z"
   },
   {
    "duration": 2,
    "start_time": "2021-11-30T16:24:48.765Z"
   },
   {
    "duration": 147,
    "start_time": "2021-11-30T16:24:48.770Z"
   },
   {
    "duration": 10,
    "start_time": "2021-11-30T16:24:48.918Z"
   },
   {
    "duration": 36,
    "start_time": "2021-11-30T16:24:48.931Z"
   },
   {
    "duration": 4,
    "start_time": "2021-11-30T16:24:48.970Z"
   },
   {
    "duration": 19,
    "start_time": "2021-11-30T16:24:48.976Z"
   },
   {
    "duration": 4,
    "start_time": "2021-11-30T16:24:48.998Z"
   },
   {
    "duration": 65,
    "start_time": "2021-11-30T16:24:49.004Z"
   },
   {
    "duration": 20,
    "start_time": "2021-11-30T16:24:49.071Z"
   },
   {
    "duration": 23,
    "start_time": "2021-11-30T16:24:49.092Z"
   },
   {
    "duration": 54,
    "start_time": "2021-11-30T16:24:49.144Z"
   },
   {
    "duration": 83,
    "start_time": "2021-11-30T16:24:49.200Z"
   },
   {
    "duration": 59,
    "start_time": "2021-11-30T16:24:49.285Z"
   },
   {
    "duration": 38,
    "start_time": "2021-11-30T16:24:49.346Z"
   },
   {
    "duration": 11,
    "start_time": "2021-11-30T16:24:49.385Z"
   },
   {
    "duration": 3,
    "start_time": "2021-11-30T16:24:49.398Z"
   },
   {
    "duration": 65,
    "start_time": "2021-11-30T16:24:49.403Z"
   },
   {
    "duration": 27,
    "start_time": "2021-11-30T16:24:49.471Z"
   },
   {
    "duration": 13,
    "start_time": "2021-11-30T16:24:49.504Z"
   },
   {
    "duration": 70,
    "start_time": "2021-11-30T16:24:49.544Z"
   },
   {
    "duration": 3,
    "start_time": "2021-11-30T16:24:49.617Z"
   },
   {
    "duration": 23,
    "start_time": "2021-11-30T16:24:49.622Z"
   },
   {
    "duration": 4,
    "start_time": "2021-11-30T16:24:50.450Z"
   },
   {
    "duration": 4,
    "start_time": "2021-11-30T16:24:50.456Z"
   },
   {
    "duration": 3,
    "start_time": "2021-11-30T16:24:50.468Z"
   },
   {
    "duration": 4,
    "start_time": "2021-11-30T16:24:50.473Z"
   },
   {
    "duration": 16,
    "start_time": "2021-11-30T16:24:50.479Z"
   },
   {
    "duration": 63,
    "start_time": "2021-11-30T16:24:50.498Z"
   },
   {
    "duration": 26,
    "start_time": "2021-11-30T16:24:50.563Z"
   },
   {
    "duration": 5,
    "start_time": "2021-11-30T16:24:50.591Z"
   },
   {
    "duration": 47,
    "start_time": "2021-11-30T16:24:50.599Z"
   },
   {
    "duration": 2,
    "start_time": "2021-11-30T16:24:50.649Z"
   },
   {
    "duration": 18,
    "start_time": "2021-11-30T16:24:50.653Z"
   },
   {
    "duration": 10,
    "start_time": "2021-11-30T16:24:50.674Z"
   },
   {
    "duration": 11,
    "start_time": "2021-11-30T16:24:50.686Z"
   },
   {
    "duration": 9,
    "start_time": "2021-11-30T16:24:50.699Z"
   },
   {
    "duration": 20,
    "start_time": "2021-11-30T16:24:50.710Z"
   },
   {
    "duration": 23,
    "start_time": "2021-11-30T16:24:50.732Z"
   },
   {
    "duration": 3,
    "start_time": "2021-11-30T16:30:36.305Z"
   },
   {
    "duration": 188,
    "start_time": "2021-11-30T16:30:36.309Z"
   },
   {
    "duration": 11,
    "start_time": "2021-11-30T16:30:36.500Z"
   },
   {
    "duration": 52,
    "start_time": "2021-11-30T16:30:36.513Z"
   },
   {
    "duration": 6,
    "start_time": "2021-11-30T16:30:36.567Z"
   },
   {
    "duration": 25,
    "start_time": "2021-11-30T16:30:36.574Z"
   },
   {
    "duration": 5,
    "start_time": "2021-11-30T16:30:36.600Z"
   },
   {
    "duration": 44,
    "start_time": "2021-11-30T16:30:36.606Z"
   },
   {
    "duration": 23,
    "start_time": "2021-11-30T16:30:36.653Z"
   },
   {
    "duration": 43,
    "start_time": "2021-11-30T16:30:36.678Z"
   },
   {
    "duration": 61,
    "start_time": "2021-11-30T16:30:36.722Z"
   },
   {
    "duration": 74,
    "start_time": "2021-11-30T16:30:36.784Z"
   },
   {
    "duration": 59,
    "start_time": "2021-11-30T16:30:36.860Z"
   },
   {
    "duration": 61,
    "start_time": "2021-11-30T16:30:36.921Z"
   },
   {
    "duration": 15,
    "start_time": "2021-11-30T16:30:36.984Z"
   },
   {
    "duration": 4,
    "start_time": "2021-11-30T16:30:37.001Z"
   },
   {
    "duration": 65,
    "start_time": "2021-11-30T16:30:37.007Z"
   },
   {
    "duration": 27,
    "start_time": "2021-11-30T16:30:37.074Z"
   },
   {
    "duration": 12,
    "start_time": "2021-11-30T16:30:37.102Z"
   },
   {
    "duration": 90,
    "start_time": "2021-11-30T16:30:37.116Z"
   },
   {
    "duration": 3,
    "start_time": "2021-11-30T16:30:37.208Z"
   },
   {
    "duration": 5,
    "start_time": "2021-11-30T16:30:37.213Z"
   },
   {
    "duration": 25,
    "start_time": "2021-11-30T16:30:37.219Z"
   },
   {
    "duration": 7,
    "start_time": "2021-11-30T16:30:37.246Z"
   },
   {
    "duration": 11,
    "start_time": "2021-11-30T16:30:37.254Z"
   },
   {
    "duration": 12,
    "start_time": "2021-11-30T16:30:37.266Z"
   },
   {
    "duration": 7,
    "start_time": "2021-11-30T16:30:38.602Z"
   },
   {
    "duration": 44,
    "start_time": "2021-11-30T16:30:38.611Z"
   },
   {
    "duration": 15,
    "start_time": "2021-11-30T16:30:38.657Z"
   },
   {
    "duration": 37,
    "start_time": "2021-11-30T16:30:38.674Z"
   },
   {
    "duration": 69,
    "start_time": "2021-11-30T16:30:38.713Z"
   },
   {
    "duration": 5,
    "start_time": "2021-11-30T16:30:38.784Z"
   },
   {
    "duration": 7,
    "start_time": "2021-11-30T16:30:38.790Z"
   },
   {
    "duration": 7,
    "start_time": "2021-11-30T16:30:38.799Z"
   },
   {
    "duration": 21,
    "start_time": "2021-11-30T16:30:38.808Z"
   },
   {
    "duration": 7,
    "start_time": "2021-11-30T16:30:38.831Z"
   },
   {
    "duration": 6,
    "start_time": "2021-11-30T16:30:38.839Z"
   },
   {
    "duration": 9,
    "start_time": "2021-11-30T16:30:38.846Z"
   },
   {
    "duration": 4,
    "start_time": "2021-11-30T16:31:12.070Z"
   },
   {
    "duration": 18,
    "start_time": "2021-11-30T16:31:14.911Z"
   },
   {
    "duration": 17,
    "start_time": "2021-11-30T16:31:34.564Z"
   },
   {
    "duration": 19,
    "start_time": "2021-11-30T16:32:03.805Z"
   },
   {
    "duration": 18,
    "start_time": "2021-11-30T16:32:41.832Z"
   },
   {
    "duration": 19,
    "start_time": "2021-11-30T16:32:54.639Z"
   },
   {
    "duration": 2,
    "start_time": "2021-11-30T16:33:11.932Z"
   },
   {
    "duration": 142,
    "start_time": "2021-11-30T16:33:11.936Z"
   },
   {
    "duration": 10,
    "start_time": "2021-11-30T16:33:12.080Z"
   },
   {
    "duration": 67,
    "start_time": "2021-11-30T16:33:12.092Z"
   },
   {
    "duration": 49,
    "start_time": "2021-11-30T16:33:12.161Z"
   },
   {
    "duration": 54,
    "start_time": "2021-11-30T16:33:12.211Z"
   },
   {
    "duration": 17,
    "start_time": "2021-11-30T16:33:12.267Z"
   },
   {
    "duration": 59,
    "start_time": "2021-11-30T16:33:12.285Z"
   },
   {
    "duration": 43,
    "start_time": "2021-11-30T16:33:12.346Z"
   },
   {
    "duration": 58,
    "start_time": "2021-11-30T16:33:12.391Z"
   },
   {
    "duration": 76,
    "start_time": "2021-11-30T16:33:12.451Z"
   },
   {
    "duration": 59,
    "start_time": "2021-11-30T16:33:12.529Z"
   },
   {
    "duration": 51,
    "start_time": "2021-11-30T16:33:12.590Z"
   },
   {
    "duration": 40,
    "start_time": "2021-11-30T16:33:12.642Z"
   },
   {
    "duration": 16,
    "start_time": "2021-11-30T16:33:12.684Z"
   },
   {
    "duration": 12,
    "start_time": "2021-11-30T16:33:12.702Z"
   },
   {
    "duration": 53,
    "start_time": "2021-11-30T16:33:12.716Z"
   },
   {
    "duration": 33,
    "start_time": "2021-11-30T16:33:12.771Z"
   },
   {
    "duration": 12,
    "start_time": "2021-11-30T16:33:14.153Z"
   },
   {
    "duration": 73,
    "start_time": "2021-11-30T16:33:14.167Z"
   },
   {
    "duration": 3,
    "start_time": "2021-11-30T16:33:14.242Z"
   },
   {
    "duration": 30,
    "start_time": "2021-11-30T16:33:14.247Z"
   },
   {
    "duration": 56,
    "start_time": "2021-11-30T16:33:14.279Z"
   },
   {
    "duration": 21,
    "start_time": "2021-11-30T16:33:14.336Z"
   },
   {
    "duration": 24,
    "start_time": "2021-11-30T16:33:14.359Z"
   },
   {
    "duration": 8,
    "start_time": "2021-11-30T16:33:14.386Z"
   },
   {
    "duration": 16,
    "start_time": "2021-11-30T16:33:14.396Z"
   },
   {
    "duration": 25,
    "start_time": "2021-11-30T16:33:14.414Z"
   },
   {
    "duration": 23,
    "start_time": "2021-11-30T16:33:14.441Z"
   },
   {
    "duration": 3,
    "start_time": "2021-11-30T16:33:16.452Z"
   },
   {
    "duration": 31,
    "start_time": "2021-11-30T16:33:16.457Z"
   },
   {
    "duration": 18,
    "start_time": "2021-11-30T16:33:46.340Z"
   },
   {
    "duration": 4,
    "start_time": "2021-11-30T16:36:23.453Z"
   },
   {
    "duration": 30,
    "start_time": "2021-11-30T16:36:26.487Z"
   },
   {
    "duration": 30,
    "start_time": "2021-11-30T16:38:00.363Z"
   },
   {
    "duration": 29,
    "start_time": "2021-11-30T16:39:40.288Z"
   },
   {
    "duration": 4,
    "start_time": "2021-11-30T16:39:47.950Z"
   },
   {
    "duration": 23,
    "start_time": "2021-11-30T16:39:51.071Z"
   },
   {
    "duration": 4,
    "start_time": "2021-11-30T16:40:28.769Z"
   },
   {
    "duration": 26,
    "start_time": "2021-11-30T16:40:30.276Z"
   },
   {
    "duration": 5,
    "start_time": "2021-11-30T16:41:18.228Z"
   },
   {
    "duration": 28,
    "start_time": "2021-11-30T16:41:19.798Z"
   },
   {
    "duration": 4,
    "start_time": "2021-11-30T16:41:37.471Z"
   },
   {
    "duration": 23,
    "start_time": "2021-11-30T16:41:38.218Z"
   },
   {
    "duration": 3,
    "start_time": "2021-11-30T16:41:55.649Z"
   },
   {
    "duration": 34,
    "start_time": "2021-11-30T16:41:55.654Z"
   },
   {
    "duration": 4,
    "start_time": "2021-11-30T16:42:43.750Z"
   },
   {
    "duration": 687,
    "start_time": "2021-11-30T16:42:45.001Z"
   },
   {
    "duration": 4,
    "start_time": "2021-11-30T16:43:03.118Z"
   },
   {
    "duration": 23,
    "start_time": "2021-11-30T16:43:03.869Z"
   },
   {
    "duration": 18,
    "start_time": "2021-11-30T16:45:27.384Z"
   },
   {
    "duration": 17,
    "start_time": "2021-11-30T16:46:29.669Z"
   },
   {
    "duration": 18,
    "start_time": "2021-11-30T16:46:43.244Z"
   },
   {
    "duration": 22,
    "start_time": "2021-11-30T16:46:55.800Z"
   },
   {
    "duration": 355,
    "start_time": "2021-11-30T17:09:00.204Z"
   },
   {
    "duration": 258,
    "start_time": "2021-11-30T17:09:08.035Z"
   },
   {
    "duration": 301,
    "start_time": "2021-11-30T17:09:08.916Z"
   },
   {
    "duration": 262,
    "start_time": "2021-11-30T17:09:36.108Z"
   },
   {
    "duration": 261,
    "start_time": "2021-11-30T17:09:37.828Z"
   },
   {
    "duration": 274,
    "start_time": "2021-11-30T17:10:18.990Z"
   },
   {
    "duration": 267,
    "start_time": "2021-11-30T17:10:20.350Z"
   },
   {
    "duration": 276,
    "start_time": "2021-11-30T17:10:58.113Z"
   },
   {
    "duration": 265,
    "start_time": "2021-11-30T17:10:59.209Z"
   },
   {
    "duration": 24,
    "start_time": "2021-11-30T17:11:29.763Z"
   },
   {
    "duration": 9,
    "start_time": "2021-11-30T17:11:31.146Z"
   },
   {
    "duration": 663,
    "start_time": "2021-11-30T17:11:47.639Z"
   },
   {
    "duration": 8,
    "start_time": "2021-11-30T17:11:48.388Z"
   },
   {
    "duration": 29,
    "start_time": "2021-11-30T17:12:08.929Z"
   },
   {
    "duration": 9,
    "start_time": "2021-11-30T17:12:08.960Z"
   },
   {
    "duration": 19,
    "start_time": "2021-11-30T17:13:48.323Z"
   },
   {
    "duration": 10,
    "start_time": "2021-11-30T17:13:49.354Z"
   },
   {
    "duration": 778,
    "start_time": "2021-11-30T21:33:07.253Z"
   },
   {
    "duration": 223,
    "start_time": "2021-11-30T21:33:08.034Z"
   },
   {
    "duration": 25,
    "start_time": "2021-11-30T21:33:08.260Z"
   },
   {
    "duration": 63,
    "start_time": "2021-11-30T21:33:08.287Z"
   },
   {
    "duration": 62,
    "start_time": "2021-11-30T21:33:08.352Z"
   },
   {
    "duration": 55,
    "start_time": "2021-11-30T21:33:08.417Z"
   },
   {
    "duration": 69,
    "start_time": "2021-11-30T21:33:08.473Z"
   },
   {
    "duration": 155,
    "start_time": "2021-11-30T21:33:08.544Z"
   },
   {
    "duration": 67,
    "start_time": "2021-11-30T21:33:08.703Z"
   },
   {
    "duration": 32,
    "start_time": "2021-11-30T21:33:08.773Z"
   },
   {
    "duration": 129,
    "start_time": "2021-11-30T21:33:08.807Z"
   },
   {
    "duration": 68,
    "start_time": "2021-11-30T21:33:08.938Z"
   },
   {
    "duration": 78,
    "start_time": "2021-11-30T21:33:09.008Z"
   },
   {
    "duration": 38,
    "start_time": "2021-11-30T21:33:09.088Z"
   },
   {
    "duration": 40,
    "start_time": "2021-11-30T21:33:09.127Z"
   },
   {
    "duration": 21,
    "start_time": "2021-11-30T21:33:09.169Z"
   },
   {
    "duration": 69,
    "start_time": "2021-11-30T21:33:09.192Z"
   },
   {
    "duration": 49,
    "start_time": "2021-11-30T21:33:09.263Z"
   },
   {
    "duration": 30,
    "start_time": "2021-11-30T21:33:09.314Z"
   },
   {
    "duration": 85,
    "start_time": "2021-11-30T21:33:09.346Z"
   },
   {
    "duration": 3,
    "start_time": "2021-11-30T21:33:09.432Z"
   },
   {
    "duration": 27,
    "start_time": "2021-11-30T21:33:09.437Z"
   },
   {
    "duration": 35,
    "start_time": "2021-11-30T21:33:09.466Z"
   },
   {
    "duration": 31,
    "start_time": "2021-11-30T21:33:09.503Z"
   },
   {
    "duration": 20,
    "start_time": "2021-11-30T21:33:09.536Z"
   },
   {
    "duration": 32,
    "start_time": "2021-11-30T21:33:09.558Z"
   },
   {
    "duration": 29,
    "start_time": "2021-11-30T21:33:09.593Z"
   },
   {
    "duration": 39,
    "start_time": "2021-11-30T21:33:09.624Z"
   },
   {
    "duration": 46,
    "start_time": "2021-11-30T21:33:09.665Z"
   },
   {
    "duration": 39,
    "start_time": "2021-11-30T21:33:09.713Z"
   },
   {
    "duration": 67,
    "start_time": "2021-11-30T21:33:09.754Z"
   },
   {
    "duration": 22,
    "start_time": "2021-11-30T21:33:09.823Z"
   },
   {
    "duration": 31,
    "start_time": "2021-11-30T21:33:09.847Z"
   },
   {
    "duration": 17,
    "start_time": "2021-11-30T21:33:09.880Z"
   },
   {
    "duration": 51,
    "start_time": "2021-11-30T21:33:09.898Z"
   },
   {
    "duration": 8,
    "start_time": "2021-11-30T21:33:09.951Z"
   },
   {
    "duration": 43,
    "start_time": "2021-11-30T21:33:09.961Z"
   },
   {
    "duration": 30,
    "start_time": "2021-11-30T21:33:10.006Z"
   },
   {
    "duration": 139,
    "start_time": "2021-12-01T14:47:53.425Z"
   },
   {
    "duration": 100,
    "start_time": "2021-12-01T14:48:21.865Z"
   },
   {
    "duration": 102,
    "start_time": "2021-12-01T14:48:46.405Z"
   },
   {
    "duration": 99,
    "start_time": "2021-12-01T14:48:53.566Z"
   },
   {
    "duration": 94,
    "start_time": "2021-12-01T14:50:01.605Z"
   },
   {
    "duration": 395,
    "start_time": "2021-12-01T14:50:55.165Z"
   },
   {
    "duration": 773,
    "start_time": "2021-12-01T14:51:04.966Z"
   },
   {
    "duration": 182,
    "start_time": "2021-12-01T14:51:05.742Z"
   },
   {
    "duration": 30,
    "start_time": "2021-12-01T14:51:05.928Z"
   },
   {
    "duration": 38,
    "start_time": "2021-12-01T14:51:05.961Z"
   },
   {
    "duration": 35,
    "start_time": "2021-12-01T14:51:06.001Z"
   },
   {
    "duration": 27,
    "start_time": "2021-12-01T14:51:06.039Z"
   },
   {
    "duration": 8,
    "start_time": "2021-12-01T14:51:06.068Z"
   },
   {
    "duration": 51,
    "start_time": "2021-12-01T14:51:06.078Z"
   },
   {
    "duration": 25,
    "start_time": "2021-12-01T14:51:06.137Z"
   },
   {
    "duration": 28,
    "start_time": "2021-12-01T14:51:06.165Z"
   },
   {
    "duration": 112,
    "start_time": "2021-12-01T14:51:06.196Z"
   },
   {
    "duration": 119,
    "start_time": "2021-12-01T14:51:06.310Z"
   },
   {
    "duration": 100,
    "start_time": "2021-12-01T14:51:06.432Z"
   },
   {
    "duration": 62,
    "start_time": "2021-12-01T14:51:06.535Z"
   },
   {
    "duration": 39,
    "start_time": "2021-12-01T14:51:06.599Z"
   },
   {
    "duration": 3,
    "start_time": "2021-12-01T14:51:06.641Z"
   },
   {
    "duration": 83,
    "start_time": "2021-12-01T14:51:06.648Z"
   },
   {
    "duration": 32,
    "start_time": "2021-12-01T14:51:06.734Z"
   },
   {
    "duration": 16,
    "start_time": "2021-12-01T14:51:06.769Z"
   },
   {
    "duration": 128,
    "start_time": "2021-12-01T14:51:06.787Z"
   },
   {
    "duration": 12,
    "start_time": "2021-12-01T14:51:06.917Z"
   },
   {
    "duration": 13,
    "start_time": "2021-12-01T14:51:06.933Z"
   },
   {
    "duration": 7,
    "start_time": "2021-12-01T14:51:06.949Z"
   },
   {
    "duration": 10,
    "start_time": "2021-12-01T14:51:06.959Z"
   },
   {
    "duration": 12,
    "start_time": "2021-12-01T14:51:06.972Z"
   },
   {
    "duration": 48,
    "start_time": "2021-12-01T14:51:06.987Z"
   },
   {
    "duration": 13,
    "start_time": "2021-12-01T14:51:07.044Z"
   },
   {
    "duration": 19,
    "start_time": "2021-12-01T14:51:07.059Z"
   },
   {
    "duration": 14,
    "start_time": "2021-12-01T14:51:07.081Z"
   },
   {
    "duration": 32,
    "start_time": "2021-12-01T14:51:07.097Z"
   },
   {
    "duration": 40,
    "start_time": "2021-12-01T14:51:07.133Z"
   },
   {
    "duration": 54,
    "start_time": "2021-12-01T14:51:07.175Z"
   },
   {
    "duration": 36,
    "start_time": "2021-12-01T14:51:07.233Z"
   },
   {
    "duration": 24,
    "start_time": "2021-12-01T14:51:07.272Z"
   },
   {
    "duration": 66,
    "start_time": "2021-12-01T14:51:07.299Z"
   },
   {
    "duration": 13,
    "start_time": "2021-12-01T14:51:07.368Z"
   },
   {
    "duration": 63,
    "start_time": "2021-12-01T14:51:07.384Z"
   },
   {
    "duration": 13,
    "start_time": "2021-12-01T14:51:07.449Z"
   },
   {
    "duration": 648,
    "start_time": "2021-12-01T15:03:09.337Z"
   },
   {
    "duration": 18,
    "start_time": "2021-12-01T15:03:28.786Z"
   },
   {
    "duration": 60,
    "start_time": "2021-12-01T15:03:50.774Z"
   },
   {
    "duration": 6,
    "start_time": "2021-12-01T15:09:31.786Z"
   },
   {
    "duration": 671,
    "start_time": "2021-12-01T15:09:37.426Z"
   },
   {
    "duration": 6,
    "start_time": "2021-12-01T15:09:59.766Z"
   },
   {
    "duration": 26,
    "start_time": "2021-12-01T15:10:07.166Z"
   },
   {
    "duration": 19,
    "start_time": "2021-12-01T15:10:35.116Z"
   },
   {
    "duration": 25,
    "start_time": "2021-12-01T15:10:39.646Z"
   },
   {
    "duration": 18,
    "start_time": "2021-12-01T15:10:42.556Z"
   },
   {
    "duration": 94,
    "start_time": "2021-12-01T15:12:58.206Z"
   },
   {
    "duration": 16,
    "start_time": "2021-12-01T15:16:54.215Z"
   },
   {
    "duration": 8,
    "start_time": "2021-12-01T15:17:00.596Z"
   },
   {
    "duration": 11,
    "start_time": "2021-12-01T15:20:09.136Z"
   },
   {
    "duration": 6,
    "start_time": "2021-12-01T15:20:12.466Z"
   },
   {
    "duration": 306,
    "start_time": "2021-12-01T15:21:26.436Z"
   },
   {
    "duration": 9,
    "start_time": "2021-12-01T15:21:34.305Z"
   },
   {
    "duration": 6,
    "start_time": "2021-12-01T15:21:38.446Z"
   },
   {
    "duration": 109,
    "start_time": "2021-12-01T15:29:34.075Z"
   },
   {
    "duration": 4,
    "start_time": "2021-12-01T15:31:00.326Z"
   },
   {
    "duration": 232,
    "start_time": "2021-12-01T15:31:00.333Z"
   },
   {
    "duration": 19,
    "start_time": "2021-12-01T15:31:00.568Z"
   },
   {
    "duration": 56,
    "start_time": "2021-12-01T15:31:00.590Z"
   },
   {
    "duration": 9,
    "start_time": "2021-12-01T15:31:00.649Z"
   },
   {
    "duration": 43,
    "start_time": "2021-12-01T15:31:00.660Z"
   },
   {
    "duration": 25,
    "start_time": "2021-12-01T15:31:00.705Z"
   },
   {
    "duration": 31,
    "start_time": "2021-12-01T15:31:00.736Z"
   },
   {
    "duration": 39,
    "start_time": "2021-12-01T15:31:00.770Z"
   },
   {
    "duration": 44,
    "start_time": "2021-12-01T15:31:00.813Z"
   },
   {
    "duration": 110,
    "start_time": "2021-12-01T15:31:00.860Z"
   },
   {
    "duration": 117,
    "start_time": "2021-12-01T15:31:00.972Z"
   },
   {
    "duration": 84,
    "start_time": "2021-12-01T15:31:01.092Z"
   },
   {
    "duration": 64,
    "start_time": "2021-12-01T15:31:01.179Z"
   },
   {
    "duration": 25,
    "start_time": "2021-12-01T15:31:01.247Z"
   },
   {
    "duration": 21,
    "start_time": "2021-12-01T15:31:01.276Z"
   },
   {
    "duration": 76,
    "start_time": "2021-12-01T15:31:01.300Z"
   },
   {
    "duration": 43,
    "start_time": "2021-12-01T15:31:01.378Z"
   },
   {
    "duration": 17,
    "start_time": "2021-12-01T15:31:01.428Z"
   },
   {
    "duration": 127,
    "start_time": "2021-12-01T15:31:01.448Z"
   },
   {
    "duration": 4,
    "start_time": "2021-12-01T15:31:01.578Z"
   },
   {
    "duration": 15,
    "start_time": "2021-12-01T15:31:01.585Z"
   },
   {
    "duration": 27,
    "start_time": "2021-12-01T15:31:01.605Z"
   },
   {
    "duration": 23,
    "start_time": "2021-12-01T15:31:01.635Z"
   },
   {
    "duration": 10,
    "start_time": "2021-12-01T15:31:01.660Z"
   },
   {
    "duration": 9,
    "start_time": "2021-12-01T15:31:01.672Z"
   },
   {
    "duration": 29,
    "start_time": "2021-12-01T15:31:01.684Z"
   },
   {
    "duration": 29,
    "start_time": "2021-12-01T15:31:01.731Z"
   },
   {
    "duration": 23,
    "start_time": "2021-12-01T15:31:01.763Z"
   },
   {
    "duration": 9,
    "start_time": "2021-12-01T15:31:01.789Z"
   },
   {
    "duration": 61,
    "start_time": "2021-12-01T15:31:01.831Z"
   },
   {
    "duration": 22,
    "start_time": "2021-12-01T15:31:01.895Z"
   },
   {
    "duration": 26,
    "start_time": "2021-12-01T15:31:01.920Z"
   },
   {
    "duration": 18,
    "start_time": "2021-12-01T15:31:01.949Z"
   },
   {
    "duration": 11,
    "start_time": "2021-12-01T15:31:01.969Z"
   },
   {
    "duration": 19,
    "start_time": "2021-12-01T15:31:01.983Z"
   },
   {
    "duration": 34,
    "start_time": "2021-12-01T15:31:02.004Z"
   },
   {
    "duration": 14,
    "start_time": "2021-12-01T15:31:02.041Z"
   },
   {
    "duration": 546,
    "start_time": "2021-12-01T19:00:27.178Z"
   },
   {
    "duration": 129,
    "start_time": "2021-12-01T19:00:27.725Z"
   },
   {
    "duration": 15,
    "start_time": "2021-12-01T19:00:27.856Z"
   },
   {
    "duration": 31,
    "start_time": "2021-12-01T19:00:27.873Z"
   },
   {
    "duration": 6,
    "start_time": "2021-12-01T19:00:27.905Z"
   },
   {
    "duration": 32,
    "start_time": "2021-12-01T19:00:27.912Z"
   },
   {
    "duration": 3,
    "start_time": "2021-12-01T19:00:27.946Z"
   },
   {
    "duration": 32,
    "start_time": "2021-12-01T19:00:27.951Z"
   },
   {
    "duration": 19,
    "start_time": "2021-12-01T19:00:27.986Z"
   },
   {
    "duration": 23,
    "start_time": "2021-12-01T19:00:28.007Z"
   },
   {
    "duration": 65,
    "start_time": "2021-12-01T19:00:28.032Z"
   },
   {
    "duration": 69,
    "start_time": "2021-12-01T19:00:28.099Z"
   },
   {
    "duration": 45,
    "start_time": "2021-12-01T19:00:28.170Z"
   },
   {
    "duration": 48,
    "start_time": "2021-12-01T19:00:28.217Z"
   },
   {
    "duration": 11,
    "start_time": "2021-12-01T19:00:28.267Z"
   },
   {
    "duration": 2,
    "start_time": "2021-12-01T19:00:28.279Z"
   },
   {
    "duration": 49,
    "start_time": "2021-12-01T19:00:28.283Z"
   },
   {
    "duration": 30,
    "start_time": "2021-12-01T19:00:28.334Z"
   },
   {
    "duration": 11,
    "start_time": "2021-12-01T19:00:28.366Z"
   },
   {
    "duration": 82,
    "start_time": "2021-12-01T19:00:28.378Z"
   },
   {
    "duration": 3,
    "start_time": "2021-12-01T19:00:28.461Z"
   },
   {
    "duration": 24,
    "start_time": "2021-12-01T19:00:28.466Z"
   },
   {
    "duration": 22,
    "start_time": "2021-12-01T19:00:28.492Z"
   },
   {
    "duration": 10,
    "start_time": "2021-12-01T19:00:28.515Z"
   },
   {
    "duration": 23,
    "start_time": "2021-12-01T19:00:28.527Z"
   },
   {
    "duration": 11,
    "start_time": "2021-12-01T19:00:28.552Z"
   },
   {
    "duration": 30,
    "start_time": "2021-12-01T19:00:28.566Z"
   },
   {
    "duration": 18,
    "start_time": "2021-12-01T19:00:28.598Z"
   },
   {
    "duration": 25,
    "start_time": "2021-12-01T19:00:28.618Z"
   },
   {
    "duration": 14,
    "start_time": "2021-12-01T19:00:28.644Z"
   },
   {
    "duration": 56,
    "start_time": "2021-12-01T19:00:28.660Z"
   },
   {
    "duration": 14,
    "start_time": "2021-12-01T19:00:28.717Z"
   },
   {
    "duration": 25,
    "start_time": "2021-12-01T19:00:28.733Z"
   },
   {
    "duration": 28,
    "start_time": "2021-12-01T19:00:28.760Z"
   },
   {
    "duration": 11,
    "start_time": "2021-12-01T19:00:28.790Z"
   },
   {
    "duration": 17,
    "start_time": "2021-12-01T19:00:28.803Z"
   },
   {
    "duration": 20,
    "start_time": "2021-12-01T19:00:28.821Z"
   },
   {
    "duration": 32,
    "start_time": "2021-12-01T19:00:28.842Z"
   }
  ],
  "colab": {
   "collapsed_sections": [
    "E0vqbgi9ay0H",
    "VUC88oWjTJw2"
   ],
   "name": "yandex_music_project_2021.2.ipynb",
   "provenance": []
  },
  "kernelspec": {
   "display_name": "Python 3 (ipykernel)",
   "language": "python",
   "name": "python3"
  },
  "language_info": {
   "codemirror_mode": {
    "name": "ipython",
    "version": 3
   },
   "file_extension": ".py",
   "mimetype": "text/x-python",
   "name": "python",
   "nbconvert_exporter": "python",
   "pygments_lexer": "ipython3",
   "version": "3.9.7"
  },
  "toc": {
   "base_numbering": 1,
   "nav_menu": {},
   "number_sections": true,
   "sideBar": true,
   "skip_h1_title": true,
   "title_cell": "Содержание",
   "title_sidebar": "Содержание",
   "toc_cell": true,
   "toc_position": {
    "height": "calc(100% - 180px)",
    "left": "10px",
    "top": "150px",
    "width": "255.594px"
   },
   "toc_section_display": true,
   "toc_window_display": true
  }
 },
 "nbformat": 4,
 "nbformat_minor": 1
}
